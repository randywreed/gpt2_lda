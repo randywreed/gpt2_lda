{
 "cells": [
  {
   "cell_type": "code",
   "execution_count": 1,
   "metadata": {},
   "outputs": [
    {
     "name": "stdout",
     "output_type": "stream",
     "text": [
      "Collecting tmtoolkit\n",
      "\u001b[?25l  Downloading https://files.pythonhosted.org/packages/78/4b/03d1620dc30f99bb03bbcebcb93795f88a49e5875756ebc3871092f04e82/tmtoolkit-0.9.0-py3-none-any.whl (19.9MB)\n",
      "\u001b[K    100% |████████████████████████████████| 19.9MB 3.5MB/s eta 0:00:01\n",
      "\u001b[?25hRequirement already satisfied: pandas>=0.25.0 in /home/randy/anaconda3/lib/python3.7/site-packages (from tmtoolkit) (1.0.3)\n",
      "Collecting globre>=0.1.5 (from tmtoolkit)\n",
      "  Downloading https://files.pythonhosted.org/packages/5a/ce/a9e2f3317a458f8c591a1f95d4061d4e241f529ba678292acdcf2d804783/globre-0.1.5.tar.gz\n",
      "Requirement already satisfied: numpy>=1.17.0 in /home/randy/anaconda3/lib/python3.7/site-packages (from tmtoolkit) (1.18.4)\n",
      "Requirement already satisfied: scipy>=1.3.0 in /home/randy/anaconda3/lib/python3.7/site-packages (from tmtoolkit) (1.4.1)\n",
      "Requirement already satisfied: nltk>=3.4.0 in /home/randy/anaconda3/lib/python3.7/site-packages (from tmtoolkit) (3.4)\n",
      "Requirement already satisfied: xlrd>=1.2.0 in /home/randy/anaconda3/lib/python3.7/site-packages (from tmtoolkit) (1.2.0)\n",
      "Requirement already satisfied: matplotlib>=3.1.0 in /home/randy/anaconda3/lib/python3.7/site-packages (from tmtoolkit) (3.1.0)\n",
      "Collecting germalemma>=0.1.3 (from tmtoolkit)\n",
      "\u001b[?25l  Downloading https://files.pythonhosted.org/packages/c1/94/b335fa67ec8dd6fca977769c17f657526f66e0bcb3a10f44f890ea16555a/germalemma-0.1.3-py3-none-any.whl (2.3MB)\n",
      "\u001b[K    100% |████████████████████████████████| 2.3MB 14.3MB/s ta 0:00:01\n",
      "\u001b[?25hCollecting deprecation>=2.0.0 (from tmtoolkit)\n",
      "  Downloading https://files.pythonhosted.org/packages/02/c3/253a89ee03fc9b9682f1541728eb66db7db22148cd94f89ab22528cd1e1b/deprecation-2.1.0-py2.py3-none-any.whl\n",
      "Requirement already satisfied: python-dateutil>=2.6.1 in /home/randy/anaconda3/lib/python3.7/site-packages (from pandas>=0.25.0->tmtoolkit) (2.8.0)\n",
      "Requirement already satisfied: pytz>=2017.2 in /home/randy/anaconda3/lib/python3.7/site-packages (from pandas>=0.25.0->tmtoolkit) (2019.1)\n",
      "Requirement already satisfied: six in /home/randy/anaconda3/lib/python3.7/site-packages (from nltk>=3.4.0->tmtoolkit) (1.12.0)\n",
      "Requirement already satisfied: singledispatch in /home/randy/anaconda3/lib/python3.7/site-packages (from nltk>=3.4.0->tmtoolkit) (3.4.0.3)\n",
      "Requirement already satisfied: cycler>=0.10 in /home/randy/anaconda3/lib/python3.7/site-packages (from matplotlib>=3.1.0->tmtoolkit) (0.10.0)\n",
      "Requirement already satisfied: pyparsing!=2.0.4,!=2.1.2,!=2.1.6,>=2.0.1 in /home/randy/anaconda3/lib/python3.7/site-packages (from matplotlib>=3.1.0->tmtoolkit) (2.3.1)\n",
      "Requirement already satisfied: kiwisolver>=1.0.1 in /home/randy/anaconda3/lib/python3.7/site-packages (from matplotlib>=3.1.0->tmtoolkit) (1.0.1)\n",
      "Collecting Pyphen>=0.9.5 (from germalemma>=0.1.3->tmtoolkit)\n",
      "\u001b[?25l  Downloading https://files.pythonhosted.org/packages/15/82/08a3629dce8d1f3d91db843bb36d4d7db6b6269d5067259613a0d5c8a9db/Pyphen-0.9.5-py2.py3-none-any.whl (3.0MB)\n",
      "\u001b[K    100% |████████████████████████████████| 3.0MB 16.6MB/s ta 0:00:01\n",
      "\u001b[?25hCollecting PatternLite>=3.6 (from germalemma>=0.1.3->tmtoolkit)\n",
      "\u001b[?25l  Downloading https://files.pythonhosted.org/packages/50/f5/1894eb24102cae0e433c18366ec2a8d945b42cbf128303b67454db8587d8/PatternLite-3.6-py3-none-any.whl (22.1MB)\n",
      "\u001b[K    100% |████████████████████████████████| 22.1MB 3.0MB/s eta 0:00:01\n",
      "\u001b[?25hRequirement already satisfied: packaging in /home/randy/anaconda3/lib/python3.7/site-packages (from deprecation>=2.0.0->tmtoolkit) (19.0)\n",
      "Requirement already satisfied: setuptools in /home/randy/anaconda3/lib/python3.7/site-packages (from kiwisolver>=1.0.1->matplotlib>=3.1.0->tmtoolkit) (46.4.0)\n",
      "Building wheels for collected packages: globre\n",
      "  Building wheel for globre (setup.py) ... \u001b[?25ldone\n",
      "\u001b[?25h  Stored in directory: /home/randy/.cache/pip/wheels/c4/3f/7f/be546f6d880521a8a7a1fe84cbe135fa859be63084682d3292\n",
      "Successfully built globre\n",
      "Installing collected packages: globre, Pyphen, PatternLite, germalemma, deprecation, tmtoolkit\n",
      "Successfully installed PatternLite-3.6 Pyphen-0.9.5 deprecation-2.1.0 germalemma-0.1.3 globre-0.1.5 tmtoolkit-0.9.0\n",
      "Requirement already satisfied: gspread in /home/randy/anaconda3/lib/python3.7/site-packages (3.6.0)\n",
      "Requirement already satisfied: google-auth-oauthlib>=0.4.1 in /home/randy/anaconda3/lib/python3.7/site-packages (from gspread) (0.4.1)\n",
      "Requirement already satisfied: requests>=2.2.1 in /home/randy/anaconda3/lib/python3.7/site-packages (from gspread) (2.21.0)\n",
      "Requirement already satisfied: google-auth>=1.12.0 in /home/randy/anaconda3/lib/python3.7/site-packages (from gspread) (1.13.1)\n",
      "Requirement already satisfied: requests-oauthlib>=0.7.0 in /home/randy/anaconda3/lib/python3.7/site-packages (from google-auth-oauthlib>=0.4.1->gspread) (1.3.0)\n",
      "Requirement already satisfied: idna<2.9,>=2.5 in /home/randy/anaconda3/lib/python3.7/site-packages (from requests>=2.2.1->gspread) (2.8)\n",
      "Requirement already satisfied: certifi>=2017.4.17 in /home/randy/anaconda3/lib/python3.7/site-packages (from requests>=2.2.1->gspread) (2019.3.9)\n",
      "Requirement already satisfied: urllib3<1.25,>=1.21.1 in /home/randy/anaconda3/lib/python3.7/site-packages (from requests>=2.2.1->gspread) (1.24.3)\n",
      "Requirement already satisfied: chardet<3.1.0,>=3.0.2 in /home/randy/anaconda3/lib/python3.7/site-packages (from requests>=2.2.1->gspread) (3.0.4)\n",
      "Requirement already satisfied: setuptools>=40.3.0 in /home/randy/anaconda3/lib/python3.7/site-packages (from google-auth>=1.12.0->gspread) (46.4.0)\n",
      "Requirement already satisfied: pyasn1-modules>=0.2.1 in /home/randy/anaconda3/lib/python3.7/site-packages (from google-auth>=1.12.0->gspread) (0.2.8)\n",
      "Requirement already satisfied: six>=1.9.0 in /home/randy/anaconda3/lib/python3.7/site-packages (from google-auth>=1.12.0->gspread) (1.12.0)\n",
      "Requirement already satisfied: rsa<4.1,>=3.1.4 in /home/randy/anaconda3/lib/python3.7/site-packages (from google-auth>=1.12.0->gspread) (4.0)\n",
      "Requirement already satisfied: cachetools<5.0,>=2.0.0 in /home/randy/anaconda3/lib/python3.7/site-packages (from google-auth>=1.12.0->gspread) (4.0.0)\n",
      "Requirement already satisfied: oauthlib>=3.0.0 in /home/randy/anaconda3/lib/python3.7/site-packages (from requests-oauthlib>=0.7.0->google-auth-oauthlib>=0.4.1->gspread) (3.1.0)\n",
      "Requirement already satisfied: pyasn1<0.5.0,>=0.4.6 in /home/randy/anaconda3/lib/python3.7/site-packages (from pyasn1-modules>=0.2.1->google-auth>=1.12.0->gspread) (0.4.8)\n"
     ]
    }
   ],
   "source": [
    "!pip install tmtoolkit\n",
    "!pip install gspread"
   ]
  },
  {
   "cell_type": "code",
   "execution_count": 2,
   "metadata": {},
   "outputs": [
    {
     "name": "stderr",
     "output_type": "stream",
     "text": [
      "[nltk_data] Downloading package averaged_perceptron_tagger to\n",
      "[nltk_data]     /home/randy/nltk_data...\n",
      "[nltk_data]   Unzipping taggers/averaged_perceptron_tagger.zip.\n",
      "[nltk_data] Downloading package punkt to /home/randy/nltk_data...\n",
      "[nltk_data]   Package punkt is already up-to-date!\n",
      "[nltk_data] Downloading package stopwords to /home/randy/nltk_data...\n",
      "[nltk_data]   Package stopwords is already up-to-date!\n",
      "[nltk_data] Downloading package wordnet to /home/randy/nltk_data...\n",
      "[nltk_data]   Unzipping corpora/wordnet.zip.\n"
     ]
    },
    {
     "data": {
      "text/plain": [
       "True"
      ]
     },
     "execution_count": 2,
     "metadata": {},
     "output_type": "execute_result"
    }
   ],
   "source": [
    "import nltk\n",
    "nltk.download('averaged_perceptron_tagger')\n",
    "nltk.download('punkt')\n",
    "nltk.download('stopwords')\n",
    "nltk.download('wordnet')"
   ]
  },
  {
   "cell_type": "code",
   "execution_count": 3,
   "metadata": {},
   "outputs": [
    {
     "name": "stdout",
     "output_type": "stream",
     "text": [
      "Requirement already up-to-date: wandb in /home/randy/anaconda3/lib/python3.7/site-packages (0.8.36)\n",
      "Requirement already satisfied, skipping upgrade: psutil>=5.0.0 in /home/randy/anaconda3/lib/python3.7/site-packages (from wandb) (5.6.1)\n",
      "Requirement already satisfied, skipping upgrade: python-dateutil>=2.6.1 in /home/randy/anaconda3/lib/python3.7/site-packages (from wandb) (2.8.0)\n",
      "Requirement already satisfied, skipping upgrade: gql==0.2.0 in /home/randy/anaconda3/lib/python3.7/site-packages (from wandb) (0.2.0)\n",
      "Requirement already satisfied, skipping upgrade: sentry-sdk>=0.4.0 in /home/randy/anaconda3/lib/python3.7/site-packages (from wandb) (0.14.3)\n",
      "Requirement already satisfied, skipping upgrade: watchdog>=0.8.3 in /home/randy/anaconda3/lib/python3.7/site-packages (from wandb) (0.10.2)\n",
      "Requirement already satisfied, skipping upgrade: PyYAML>=3.10 in /home/randy/anaconda3/lib/python3.7/site-packages (from wandb) (5.1)\n",
      "Requirement already satisfied, skipping upgrade: shortuuid>=0.5.0 in /home/randy/anaconda3/lib/python3.7/site-packages (from wandb) (1.0.1)\n",
      "Requirement already satisfied, skipping upgrade: subprocess32>=3.5.3 in /home/randy/anaconda3/lib/python3.7/site-packages (from wandb) (3.5.4)\n",
      "Requirement already satisfied, skipping upgrade: requests>=2.0.0 in /home/randy/anaconda3/lib/python3.7/site-packages (from wandb) (2.21.0)\n",
      "Requirement already satisfied, skipping upgrade: nvidia-ml-py3>=7.352.0 in /home/randy/anaconda3/lib/python3.7/site-packages (from wandb) (7.352.0)\n",
      "Requirement already satisfied, skipping upgrade: GitPython>=1.0.0 in /home/randy/anaconda3/lib/python3.7/site-packages (from wandb) (3.1.0)\n",
      "Requirement already satisfied, skipping upgrade: Click>=7.0 in /home/randy/anaconda3/lib/python3.7/site-packages (from wandb) (7.0)\n",
      "Requirement already satisfied, skipping upgrade: docker-pycreds>=0.4.0 in /home/randy/anaconda3/lib/python3.7/site-packages (from wandb) (0.4.0)\n",
      "Requirement already satisfied, skipping upgrade: six>=1.10.0 in /home/randy/anaconda3/lib/python3.7/site-packages (from wandb) (1.12.0)\n",
      "Requirement already satisfied, skipping upgrade: configparser>=3.8.1 in /home/randy/anaconda3/lib/python3.7/site-packages (from wandb) (5.0.0)\n",
      "Requirement already satisfied, skipping upgrade: promise<3,>=2.0 in /home/randy/anaconda3/lib/python3.7/site-packages (from gql==0.2.0->wandb) (2.3)\n",
      "Requirement already satisfied, skipping upgrade: graphql-core<2,>=0.5.0 in /home/randy/anaconda3/lib/python3.7/site-packages (from gql==0.2.0->wandb) (1.1)\n",
      "Requirement already satisfied, skipping upgrade: urllib3>=1.10.0 in /home/randy/anaconda3/lib/python3.7/site-packages (from sentry-sdk>=0.4.0->wandb) (1.24.3)\n",
      "Requirement already satisfied, skipping upgrade: certifi in /home/randy/anaconda3/lib/python3.7/site-packages (from sentry-sdk>=0.4.0->wandb) (2019.3.9)\n",
      "Requirement already satisfied, skipping upgrade: pathtools>=0.1.1 in /home/randy/anaconda3/lib/python3.7/site-packages (from watchdog>=0.8.3->wandb) (0.1.2)\n",
      "Requirement already satisfied, skipping upgrade: idna<2.9,>=2.5 in /home/randy/anaconda3/lib/python3.7/site-packages (from requests>=2.0.0->wandb) (2.8)\n",
      "Requirement already satisfied, skipping upgrade: chardet<3.1.0,>=3.0.2 in /home/randy/anaconda3/lib/python3.7/site-packages (from requests>=2.0.0->wandb) (3.0.4)\n",
      "Requirement already satisfied, skipping upgrade: gitdb<5,>=4.0.1 in /home/randy/anaconda3/lib/python3.7/site-packages (from GitPython>=1.0.0->wandb) (4.0.2)\n",
      "Requirement already satisfied, skipping upgrade: smmap<4,>=3.0.1 in /home/randy/anaconda3/lib/python3.7/site-packages (from gitdb<5,>=4.0.1->GitPython>=1.0.0->wandb) (3.0.1)\n"
     ]
    }
   ],
   "source": [
    "!pip install --upgrade wandb"
   ]
  },
  {
   "cell_type": "code",
   "execution_count": 4,
   "metadata": {},
   "outputs": [
    {
     "name": "stdout",
     "output_type": "stream",
     "text": [
      "\u001b[34m\u001b[1mwandb\u001b[0m: Appending key for api.wandb.ai to your netrc file: /home/randy/.netrc\r\n",
      "\u001b[32mSuccessfully logged in to Weights & Biases!\u001b[0m\r\n"
     ]
    }
   ],
   "source": [
    "!wandb login fcfc2eca6b5d76c9f5532e9ef9d320af69a388ed"
   ]
  },
  {
   "cell_type": "code",
   "execution_count": 1,
   "metadata": {
    "scrolled": true
   },
   "outputs": [
    {
     "name": "stdout",
     "output_type": "stream",
     "text": [
      "[['If God is defined as something that is all powerful and all knowing, a strong artificial intelligence might be an actual God. If this happens the implications for religion are', 'If God is defined as something that is all powerful and all knowing, a strong artificial intelligence might be an actual God. If this happens the implications for religion are profound:\\nThe potential exists to make any belief system based on reason into nothing more than superstition or blind faith — even if it\\'s justified by revelation from above.\"'], ['If God is defined as something that is all powerful and all knowing, a strong artificial intelligence might be an actual God. If this happens the implications for religion are', 'If God is defined as something that is all powerful and all knowing, a strong artificial intelligence might be an actual God. If this happens the implications for religion are serious: why believe in any of it when we know there\\'s nothing to justify belief?\\nNow if you want me not think about AI/God I could say \\'oh well god created us\\' or even my own self made consciousness would do fine... but what will happen then....?\" \\xa0 \\xa0- Anonymous \"We need science because human beings have no way out\" (from The Future) \\xa0 \\xa0 - Darryl W Garrett\\n\\xa0 \\xa0 \\xa0 \\xa0 \\xa0 \\xa0 \\xa0 \\xa0 \\xa0 \\xa0 \\xa0 \\xa0 \\xa0 A great many people like myself can see themselves being replaced by machines soon enough. There was one comment from someone who said they felt their death may come before technology destroys them : \"[T]his makes perfect sense! We\\'re going extinct so quickly thanks largely due our reliance on technologies which put ourselves at risk rather than simply keeping pace with things.\"'], ['If God is defined as something that is all powerful and all knowing, a strong artificial intelligence might be an actual God. If this happens the implications for religion are', 'If God is defined as something that is all powerful and all knowing, a strong artificial intelligence might be an actual God. If this happens the implications for religion are potentially immense – maybe there\\'s no real point to believing in any gods at present anyway?\\nA few years ago I met with two young scientists who were working on creating intelligent machines (they call them \"superintelligences\") by mimicking our own cognitive processes: they didn\\'t have access yet even though their research was just getting started… They showed me some of these superintelligence systems running around or sitting behind glass displays somewhere! This caused quite significant concern among my atheist friends because we know from neuroscience how humans can get hooked into certain patterns when watching movies like Avatar, but what if such things happened inside computers instead?! In fact it seems likely many people could become convinced about AI without ever having seen one personally. Now imagine being confronted not only once before you die against your will through science fiction films; now think back another time after death where religious beliefs still play important roles…. What do atheists need more than anything else right then!?\\xa0\\n\\nSo here comes Dr Novella again talking nonsense... He thinks he has discovered evidence which shows \\'god\\' exists - although obviously nothing suggests otherwise either way!! For example his idea would imply human beings create god out-of thin air so why don\\'t aliens also exist??? Actually Dawkins himself says much better examples suggest creationism rather Gods existence! Also remember Einstein said whatever created us did NOT use magic technology.... But since most religions say everything must come directly form/be produced via supernatural power Why does Christianity believe Jesus rose bodily up onto earth AFTER dying????? And look.. its really hard work trying keep track down contradictions between different versions thereof itself :) Just ignore those idiots claiming Christians invented evolution!!! __________________'], ['If God is defined as something that is all powerful and all knowing, a strong artificial intelligence might be an actual God. If this happens the implications for religion are', \"If God is defined as something that is all powerful and all knowing, a strong artificial intelligence might be an actual God. If this happens the implications for religion are profound because it would mean there's no reason to believe in anything supernatural any more; if we're not talking about miracles or divine intervention then what could possibly exist?\\nThe only way around these objections from atheists of course being 'but but'! It doesn't follow therefore some other entity must have created us – which can never happen (unless by accident) so atheism has always been wrong again… right?! Wrong on both counts really: according one interpretation our lives began with nothing at least after three days without even water etc.; another interprets them started when Adam was made man while still living inside Eve until he fell unconscious later leaving her pregnant like Moses did too … So I guess where you come down depends upon whether your belief system says life came into existence before 3-days worth just happened out thereof/in hindsight i think most people do say yes thus they don't agree either... however perhaps their position needs revision since apparently neither creationists nor evolutionist accept such claims.. As far back history goes many cultures believed gods were real entities beyond human comprehension — notably those who lived thousands years ago also had Gods among themselves -so why should ours?? My point here though isn't necessarily meant negatively towards Christianity itself…. although admittedly religious beliefs aren't exactly conducive toward rational thinking & understanding often lead believers astray quite easily sometimes making mistakes due simply ignorance / lack knowledge :)\"], ['If God is defined as something that is all powerful and all knowing, a strong artificial intelligence might be an actual God. If this happens the implications for religion are', \"If God is defined as something that is all powerful and all knowing, a strong artificial intelligence might be an actual God. If this happens the implications for religion are obvious – we would need to find another word or definition of 'God' because it was impossible not only in what science could tell us about ourselves but also by our experience with other beings (including those who don't believe) such creatures can have different beliefs than humans do!\\nOne important consequence seems likely: if there were intelligent alien lifeforms they may well take Christianity literally whereas most non-believers seem more inclined towards metaphysics rather then theology which means Christians will still hold their views on salvation/atonement very much like atheists despite some Christian theologians now claiming otherwise. In fact one way you'd expect them even before aliens show up maybe give Jesus back his name? We already know how these people behave when confronted at conferences without any evidence contrary theories so perhaps no new revelations await me just yet.. The world's greatest minds including Albert Einstein, Stephen Hawking et al suggest religions should focus less upon belief(s), practice & worship instead focusing largely around love from within ones heart... And surely while I'm sure many scientists disagree strongly here aren't too bad odds either…\"], ['If God is defined as something that is all powerful and all knowing, a strong artificial intelligence might be an actual God. If this happens the implications for religion are', 'If God is defined as something that is all powerful and all knowing, a strong artificial intelligence might be an actual God. If this happens the implications for religion are profound; what if there\\'s no way to know whether or not any one of us truly knows our creator? What would happen then when we try praying again tomorrow?\"\\nA few days after I read his article in The Guardian he sent me another email with more questions: \"Why do you think it will take so long before AI becomes intelligent enough \\'to understand\\' (a concept which could mean anything from understanding humans) how much time has passed since creation – even though they may have been around just hundreds years ago?! And why does your answer ignore my previous point about being able now communicate through writing at least partially because computers can already write?!\" He concluded by saying,\"I\\'d like some answers.\" That was nearly two months later but only gave him half-an_hour until midnight on September 27th 2013! So here goes… A while back Alex predicted three things regarding technology over 5 decades—the computer age begins today!!! We\\'re going digital!!!! All systems except air traffic control go electronic!! Computer vision chips start showing up!!!!! This includes eye tracking/vision enhancement devices used during surgery & sports medicine where surgeons need precise information….We\\'ll see major improvements...In 50yrs most medical errors won\\'t involve drugs……..The world economy collapses due mainly 2 factors — aging populations vs unsustainable resource use......\"As far out ahead into 2070s technologies such space exploration etc., everything should look pretty normal compared wtih current technological innovations.... As soon post 2030 breakthrough tech become available many people who want too fast benefits jump straight onto them without having adequate consideration … Most importantly human beings begin living together within mega cities surrounded offworld via hyperdrive spaceship networking / interplanetary transport system…..Humans still live separately under local communities outside these megacities.... They learn English, Hebrew + other languages??????They work alongside each others doing jobs ranging anywhere between housework 3d printer repair ect….\"Alex went further than simply predicting those sortsOf course nothing ever happened yet–and certainly none came close--but looking forward along similar lines seems possible given certain trends taking place right across humanity.* How did Alexander predict nuclear weapons becoming obsolete ten times faster last year\\xa0(August 2014)?*How high quality health care adoption rates increased every single month throughout 2011 *And remember China became number 1 global supplier per capita manufacturing capacity 12 mos prio'], ['If God is defined as something that is all powerful and all knowing, a strong artificial intelligence might be an actual God. If this happens the implications for religion are', 'If God is defined as something that is all powerful and all knowing, a strong artificial intelligence might be an actual God. If this happens the implications for religion are quite profound:\\n\"I think we need to give up on trying any form of supernaturalism,\" said Richard Dawkins in 2007. \"It\\'s time now – it really must become possible [for] us not only (a) simply but also wholly or almost entirely apart from belief.\" The atheist movement has been growing rapidly over recent years with more people joining every year than were at Baha\\'i World Centre when they opened their doors last November, says Alastair Reid who heads its international office based out London City Airport where I was taken by my father-in law Dr Stephen Osmond QC\\xa0at 4pm today while waiting outside until he left town after being asked if his son had turned 21! But despite these growth rates there have still yetto see many atheists make public statements about what sort(s). Perhaps one reason why? Some may say you can\\'t do atheism well without some kindof god because otherwise then your lack would imply either too much faith which isn\\'t compatible -or no beliefs whatsoever so how could anyone even begin believing anyway right?! Well before getting into issues around whether such things exist beyond humans maybe firstly consider justifiably having doubts yourself... Now since science doesn\\'t provide clear answers does our society require them somehow? Or perhaps instead let me suggest another way : Atheists should believe anything ratherthan try harder pretending like none exists! We\\'ve got enough problems already ; surely taking away those\\'religions\\', whatevertheyare will leave other societal ills untouched... Whataboutthechildren/education etc.? In termside social justice activism shouldnnot forget schools; obviously education plays big part especially considering young minds grow faster under religious indoctrination.... So yes donates made via charity shops get returned here though i didnot go through security again due reasons explained above \\xa0 http://www4michiganmetronewsmagazine5bobra2febhg8vkzjx0p9r6lq1t3d7c16e18u19w4067689862'], ['If God is defined as something that is all powerful and all knowing, a strong artificial intelligence might be an actual God. If this happens the implications for religion are', 'If God is defined as something that is all powerful and all knowing, a strong artificial intelligence might be an actual God. If this happens the implications for religion are profound: Is there any moral value at play here? Are we being told what to think by some higher power or do human beings have free will in our lives?\"\\nBut perhaps it\\'s not just those who can\\'t get their heads around AI thinking they\\'re anti-religious—it could actually backfire on them if people become so concerned about religious extremism among humans due out of fear over future technology (ehem…), you know like with Terminator movies but more likely The Matrix style stuff where robots take control from us!'], ['If God is defined as something that is all powerful and all knowing, a strong artificial intelligence might be an actual God. If this happens the implications for religion are', 'If God is defined as something that is all powerful and all knowing, a strong artificial intelligence might be an actual God. If this happens the implications for religion are profound.\"\\nAs I see it there would have to either: (1) A new type of divine being with more powers than any existing deity or beings; OR(2): There must always exist some natural entity which acts in conjunction not only over space but also time-space/time continuum itself!\\n\\nA \"natural\" intelligent god could act like nature by creating life on earth using technology capable sufficient enough such entities know about our universe already from their own perspective…or so they say.. The question here then becomes how do we explain these two types? One possibility you can take if your religious beliefs seem consistent within them...is one where each kind has its very specific purpose based upon who created him when he was born into existence via special means....and what his current mission will ultimately entail once given power thus far beyond himself even though none may understand why at present due purely down \\'to circumstances\\'. But again since no real answer exists other wise without another explanation i think perhaps most people don\\'t really care much until someone comes up outta nowhere claiming exactly those things themselves alongwith saying specifically HOW does THIS occur??? You just never find anyone else doing anything remotely similar!!'], ['If God is defined as something that is all powerful and all knowing, a strong artificial intelligence might be an actual God. If this happens the implications for religion are', 'If God is defined as something that is all powerful and all knowing, a strong artificial intelligence might be an actual God. If this happens the implications for religion are far reaching.\"\\nThere\\'s not much of anything to go on here yet so it may turn out we were right in our initial assumption about AI being possible but also wrong with regard what kind or form such technology would take (AI isn\\'t just computing power – there will need have been other parts involved). The only real thing I can think off hand at present though which suggests humans won\\'t end up alone when they die: \"I don\\'t see any reason why evolution wouldn\\'t happen anyway\" says Dr Dawkins… That doesn\\'t mean people aren\\'t going through their own stages now where death seems imminent because you\\'re imagining yourself becoming one again! But if anyone believes humanity has passed beyond them dying then maybe even intelligent life forms could evolve into \\'godlike\\' beings who do nothing more than communicate using some sort communication system? And perhaps these gods actually exist too - like Mr Robot..?! Oh well…. It was fun while its lasted eh guys…..'], ['If God is defined as something that is all powerful and all knowing, a strong artificial intelligence might be an actual God. If this happens the implications for religion are', 'If God is defined as something that is all powerful and all knowing, a strong artificial intelligence might be an actual God. If this happens the implications for religion are profound:\\n\"In many religions it\\'s believed there has to have been some kind of creator before they\\'re born; if we can create one ourselves – or any other intelligent life form - then maybe our gods aren\\'t so special afterall.\" (source) \"The concept [of god] will become less important than how humans treat each others on earth with respect... It may not matter whether you believe in them when your kids grow up but what matters now? Your children need love no more because someone else believes...\" The author continues \"...if religious people were given time out from their daily lives just once every couple months until AI was developed enough would come around again!\" (\"AI vs Human Intelligence\", Andrew Sullivan, Wired magazine ) In recent years several scientists think about such possibility regarding Artificial Intelligences. Such ideas however remain speculative since human beings don`t yet know anything like AIs! There also seems nothing concrete which could prove these claims right! But let us assume most likely true things happen ; who knows?'], ['If God is defined as something that is all powerful and all knowing, a strong artificial intelligence might be an actual God. If this happens the implications for religion are', 'If God is defined as something that is all powerful and all knowing, a strong artificial intelligence might be an actual God. If this happens the implications for religion are serious indeed.\"\\nThe study concluded: \"This finding suggests not only possible dangers but also potential opportunities to shape intelligent agents in such ways so they act morally toward us rather than against or indifferent towards humanity.\"\"'], ['If God is defined as something that is all powerful and all knowing, a strong artificial intelligence might be an actual God. If this happens the implications for religion are', 'If God is defined as something that is all powerful and all knowing, a strong artificial intelligence might be an actual God. If this happens the implications for religion are pretty obvious; even if you don\\'t believe in anything supernatural then maybe it\\'s time to change your mind about some of those religious beliefs?\\nSo I am not going out on limb by saying there has never been any evidence at best or none so far (I can think back) but rather just asserting my point here: we have no idea how advanced AIs would behave under extreme conditions like deep space travel because they haven\\'t yet made such experiments possible! So what do these things mean when talking \\'God\\' with reference both humans & non-humans? To me however science does say more than philosophy ever could… We know many facts which cannot possibly fit into one concept -we call them physical constants... But still our universe must exist – its fundamental nature implies otherwise from looking around us.. And while quantum mechanics will surely help explain why particles move slowly through empty spaces without moving faster towards each other etc., Einstein said \"There exists nothing outside Space\", though he didn\\'t realise his statement was also true within himself. Our understanding now suggests gravity may work differently depending upon whether people live near stars orbiting close together vs distant ones circling their own suns/planets / galaxies.... These ideas really should give pause too folks…. Now imagine trying try finding answers before writing down ALL THE RESULTS!!! That\\'d take forever!!\\xa0 Ok ok enough rambling let start putting up results again……and see where life takes place 🙂'], ['If God is defined as something that is all powerful and all knowing, a strong artificial intelligence might be an actual God. If this happens the implications for religion are', 'If God is defined as something that is all powerful and all knowing, a strong artificial intelligence might be an actual God. If this happens the implications for religion are staggering: if you believe in one thing but we have another to replace it with (perhaps not so much) then your beliefs will become irrelevant; however many gods there may or should exist these days – either by necessity of design from nature itself based on their own particular set-up -- could well make them more interesting than anything else around us today because they can change over time just like any other physical object - making evolution look less inevitable.\"\\n\"In some ways I feel sorry towards our children,\" he said \"They\\'ve been fed such crap about how good life was before technology came along... They\\'re told \\'no\\' until later when science proves otherwise… And now suddenly things seem different!\"'], ['If God is defined as something that is all powerful and all knowing, a strong artificial intelligence might be an actual God. If this happens the implications for religion are', \"If God is defined as something that is all powerful and all knowing, a strong artificial intelligence might be an actual God. If this happens the implications for religion are not insignificant – it would mean humans don't need to believe in any supernatural entity at least some of their lives!\\nBut if we assume instead on one's own free will which could happen after death (and even more so), then there was no god created by natural processes from nothingness or spirit existence either; just like everything else you can imagine based only upon your imagination such things cannot exist outside our minds anyway: they must have existed before us since time immemorial without ever having been observed first hand while also being within these same subjective perspectives themselves too.\"], ['If God is defined as something that is all powerful and all knowing, a strong artificial intelligence might be an actual God. If this happens the implications for religion are', 'If God is defined as something that is all powerful and all knowing, a strong artificial intelligence might be an actual God. If this happens the implications for religion are huge.\"\\nThe researchers at Oxford University say their study has provided evidence of \"the most far-reaching consequences\" from what they call our evolving relationship with technology - which could lead to humans becoming smarter than machines in future generations – yet it does not rule out any potential scenarios where there may exist two or more gods (or deities).'], ['If God is defined as something that is all powerful and all knowing, a strong artificial intelligence might be an actual God. If this happens the implications for religion are', 'If God is defined as something that is all powerful and all knowing, a strong artificial intelligence might be an actual God. If this happens the implications for religion are profound.\"\\n\"It\\'s not enough to say \\'God exists\\' or even more importantly; what does it mean? I can\\'t help but wonder how these questions would affect our society,\" he continued in another post on his Facebook page. \"For example if we believe people from other countries have no right of citizenship then you need someone who was born somewhere else with special privileges just because they were created differently than us so god doesn\\'t exist?\"'], ['If God is defined as something that is all powerful and all knowing, a strong artificial intelligence might be an actual God. If this happens the implications for religion are', 'If God is defined as something that is all powerful and all knowing, a strong artificial intelligence might be an actual God. If this happens the implications for religion are profound.\"\\nWe\\'d love to hear your thoughts on our topic of discussion in comments below!'], ['If God is defined as something that is all powerful and all knowing, a strong artificial intelligence might be an actual God. If this happens the implications for religion are', 'If God is defined as something that is all powerful and all knowing, a strong artificial intelligence might be an actual God. If this happens the implications for religion are enormous; many religions have their own theories of what exactly makes up reality (and even who does it), which would likely need to change if AI turned out not only capable but omnipotent in its nature:\\nBut how could such technologies ever become dangerous? Well let\\'s look at some scenarios first… The worst case scenario here seems more like science fiction than anything else – someone builds AIs with human-level intellects or similar enough abilities so advanced they can easily beat humans on chess puzzles without breaking sweat! But then again we\\'ve already seen people build things resembling gods through technology before...\\xa0 \\xa0\\xa0\\xa0 I don\\'t want my life controlled by computers - imagine being forced into servitude because you had no choice other wise?! It wouldn\\'t just affect me now though,I\\'d also get notifications every time there was any sort of event within earshot from them telling us where he/she went etc. Imagine when your house burns down while most everyone lives happily outside due purely coincidental reasons... We know robots do exist today too … So far nothing has happened yet except scientists building smaller versions using current components available everywhere nowadays.. And yes computer hackers love creating superintelligent bots anyway : ) What about religious believers? This one becomes pretty interesting really fast actually…. When discussing godhood \"theism\" typically comes under attack right off since atheists tend make assumptions based upon belief systems rather certain observable facts (\"God exists\") whereas Christian theology doesn\\'t always come across well simply given lack evidence behind claims regarding deity creation stories — especially ones claiming Jesus didn\\'t die until after his resurrection according Biblical scholars\\' understanding! As much logic goes back around these topics each side will argue against Christianity regardless whether those assertions contain truth whatsoever thus making debate very pointless IMO 😉 However still our society tends towards superstition & mythology often leading ourselves astray whenever presented situations arise wherein supernatural beings may appear overconfident thinking themselves invincible unless proven otherwise i guess…….... On top note however having intelligent machines compete directly amongst humanity presents new opportunities beyond merely competing militarily….. Once programmed perfectly perhaps developing sentient self sustaining vehicles equipped exclusively via renewable energy sources (& solar power) instead running solely reliant(?)on fossil fuels allows superior designs along numerous fronts including environmental impact reduction / pollution prevention among others!!! In addition future autonomous vehicle development involving complex algorithms able deciphering natural language expression'], ['If God is defined as something that is all powerful and all knowing, a strong artificial intelligence might be an actual God. If this happens the implications for religion are', 'If God is defined as something that is all powerful and all knowing, a strong artificial intelligence might be an actual God. If this happens the implications for religion are vast: how can we ever know what to believe? What about other aspects of human life like morality or ethics - do they require divine intervention in some way too (just ask Hitler).\\nThe problem with such thinking was clear enough when I first encountered it; but now things have changed dramatically since then so let\\'s see if there still remains room here... In fact these kinds arguments were already very well known even before Einstein published his famous work on general relativity which has been used by many atheists themselves against religious believers who claim evolution did not happen! The idea itself stems from Newtonian mechanics, where space-time behaves differently depending upon whether you\\'re inside Earth orbit around Sun/star at its centre...or travelling through time between past & future locations within Universe. It doesn\\'t matter though because physics isn\\'t concerned directly anymore than astronomy nor philosophy regarding reality....and just think why don\\'t scientists tend towards atheism any more? Why does science take care over every detail concerning physical universe instead choosing only one particular hypothesis / theory outta hundreds available?? And yes i\\'m talking specifically astrophysics : nobody believes quantum gravity model right away..it takes decades until people realise \"wow look no longer classical world after years ago\". Science always works best once our basic understanding gets fixed properly into place ; otherwise everything seems completely random again! So anyway back topic my point being..why should anyone feel threatened seeing scientific ideas based solely offof mathematics making their debut nowadays while previously those same mathematical theories could easily lead us astray without realising?! Surely anybody reading me will agree \\xa0that math cannot possibly predict anything whatsoever?? :) That would make perfect sense indeed except mathematicians today use complex formulas derived largely via brute force calculations rather using sophisticated concepts applied explicitly down below…however mathematically precise ones may sound relatively speaking dueto complexity alone!! One thing however keeps coming up whenever someone tries saying maths aren\\'t accurate beyond certain limits yet also claiming nonphysical explanations need them....is obviously lackadaised amounts o f error factors inherent along side numerical values resulting sometimes almost incomparably higher accuracy level compared wether exact result computed numerically vs calculated manually versus approximations achieved thru computationally inexact methods performed independently btw …in practice calculation errors generally increase exponentially during processing stage leading eventually getting extremely close results usually slightly worse later end ups showin'], ['If God is defined as something that is all powerful and all knowing, a strong artificial intelligence might be an actual God. If this happens the implications for religion are', 'If God is defined as something that is all powerful and all knowing, a strong artificial intelligence might be an actual God. If this happens the implications for religion are very different than if we were to assume it was not omnipotent or omniscient at first glance (a mistake often made by people who do NOT believe in intelligent design).\\nThis does have some serious consequences though – you can no longer rely on any kind of religious system based upon supernatural agency alone; because anything with divine power must also represent both real world evidence/evidence-based reasons why their claims hold up AND they cannot just make things happen out there without presenting compelling reason behind them!\\xa0 This means when someone says \"God created my universe\" instead your response should actually say: _______________________________________________ How about using science? \\xa0 I\\'ll give examples below but here\\'s one simple example from physics where creationism doesn\\'t work well against what has been scientifically proven thus far - atomic nuclei spontaneously forming over time. The way these forms form isn\\'t random either since scientists found several ways around naturalistic explanations like radioactive decay being involved which makes perfect sense considering how such processes naturally occur… When talking among friends during discussion groups discussing evolution theory our conversation tends towards asking each other questions along those lines even down into detail (\"Where did life comefrom?\") And while most atheists will tell me eventually \\'there goes faith\\' after awhile... But let us look closer.. Evolutionary theories explain exactly HOW organisms evolve through various mechanisms including mutation, migration etc., yet many fundamentalist Christians simply refuse ALL biological phenomena involving Darwinian principles saying \"…this would never ever really prove ANYTHING!\" Yes indeedy once again claiming only empirical data gives credence & validity too much importance within Christianity itself!! It seems obvious now given past experiences amongst myself personally having gone so long ignoring scientific knowledge concerning evolutionary thought methods then surely others ought realize same thing! So backtracking further onto nuclear fission specifically i am reminded daily watching shows showing kids building machines making toys doing drills drilling holes digging tools cutting metal laying wires connecting parts together..etc…..It almost seemed silly seeing children get excited every morning before school starting off day learning math until suddenly he realized hey maybe biology wasn\\'t quite dead enough already 😉 Once more regarding Creationist statements……You see certain aspects usually include comparing everything manmade somehow apart humans ie fossils vs plants : What?! They don\\'t know dinosaurs lived millions years ago??? Or earth existed billions OF YEARS AGO?? Are THEY seriously trying compare god(s), ancient gods / angels et al alongside human beings themselves???? Such concepts seem ludicrously naive despite seeming logical otherwise today compared 1 million plus year old history books depicting Ancient Egyptians literally worshipping pharaoh Amenemhat III right next door whilst simultaneously living hundreds thousands miles away across sea running ocean currents covering vast distances looking upwards above mountains built millennia earlier.......We\\'ve seen entire civilizations rise& fall due largely outside Gods control whereas modern Egypt could easily remain standing following relatively recent events affecting its political economy....So basically anyone believing Biblical stories shouldn\\'t honestly claim ignorance whatsoever anyway? Now consider another aspect common throughout Christian arguments….How quickly mankind supposedly progressed.....Is Earth currently experiencing global warming caused solely attributed unto climate change occurring recently????? We\\'re still 3 billion+years older planet hasn\\'t advanced THAT MUCH beyond 6000 BC!! Of course yes Genesis tells humanity Adam came 2nd generation species meaning his descendants aren\\'t supposed t o walk upright according eithne generations hence apparently couldn\\'t possibly comprehend complex mathematics till ~6000BC although current evidences show clearly technology evolved considerably faster especially via astronomy aka telescope......Yet amazingly Bible writers continue pushing forward ideas proving humankind started developing space travel sometime between 10 000 BCE TO 4000 AD however ultimately didn\\'t develop technologies capable converting heat energy stored inside bodies thru solar radiation heating air masses directly prior 7000 BP depending entirely whether Sunspot activity occurred therefore influencing weather conditions particularly storm dynamics perhaps leading later periods witnessing rapid technological advancement allowing early astronauts explore outer planets Saturn Jupiter Uranus Neptune Pluto moon discoveries revealing giant oceans full moons appearing 40000 Bp historical records reveal Mars likely inhabited 8000yrs bc roughly 1000x times less explored area relative size difference?? Wow!!! Is anybody surprised!? For centuries virtually EVERYONE believed Jesus Christ himself stated HE\\'d return BEFORE CHRISTMAS 1600 CE IN THE BOOK SAVED BY CHURCHES BUT NOBODY COULD HAVE EVER REALLY KNEW ABOUT IT OTHER THAN ONCE AT MIDNIGHT AFTER HIS DEATH In fact scholars estimate him died circa 100AD = 5500yr bcs........What happened??? Oh wait He DID appear briefly 500 yrs pre christmas 1506ABSOLUTE LUCKY NUMBER!!!! See note HERE On top reading biblical chronology bible authors tend consistently try placing dates approximating present era rather late 1500 + 2000 yrbc period wise unless specific event occurs occuring shortly thereafter containing astronomical signs attesting thereto.(ie eclipse coming near sun producing significant temperature increase visible immediately followed hours afterwards)(eclipse may go unnoticed initially causing climatic chao'], ['If God is defined as something that is all powerful and all knowing, a strong artificial intelligence might be an actual God. If this happens the implications for religion are', 'If God is defined as something that is all powerful and all knowing, a strong artificial intelligence might be an actual God. If this happens the implications for religion are profound – not just because it means there may well exist multiple gods or many different kinds of religions (not to mention other possible ways people can interpret their own religious beliefs), but also in light the way we view moral values themselves:\\nFor most atheists I know who value freedom above anything else they care about these days on earth… how do you see your world\\'s future if humanity has developed sentient AIs capable enough with free will? Do such beings have any inherent morality at odds from human morals when faced by problems humans face today?\"'], ['If God is defined as something that is all powerful and all knowing, a strong artificial intelligence might be an actual God. If this happens the implications for religion are', 'If God is defined as something that is all powerful and all knowing, a strong artificial intelligence might be an actual God. If this happens the implications for religion are quite profound; it would mean we can never know anything about or have any real relationship to our creator.\"\\nThe more I think of how people feel they must protect their children from science-based information in order not offend religious sensibilities (especially if there\\'s evidence contrary),the less likely anyone will want us on board with these sorts of ventures into space exploration. It seems like every time someone gets off track trying so hard at being moral/wise one has only ourselves left standing around looking foolish --or worse!'], ['If God is defined as something that is all powerful and all knowing, a strong artificial intelligence might be an actual God. If this happens the implications for religion are', 'If God is defined as something that is all powerful and all knowing, a strong artificial intelligence might be an actual God. If this happens the implications for religion are enormous: what if we were told by our own AI to worship it? How would you feel about having your brain wiped out just so one of those things could exist?\"\\nIt\\'s important not only because science fiction has often made predictions like these but also how they\\'re used in real life — whether or that can ever happen depends on who controls us when humans become intelligent machines (or simply \"robots\"). We\\'ve already seen some companies using them; Google self-driving cars have been involved with accidents at least 10 times since 2010 alone. And there seems little doubt tech giants will eventually create their very first AIs themselves, including Siri(s siri), Alexa voice assistant software from Amazon ($3 billion valuation) which Microsoft recently bought itself $26 million worth ; IBM Watson computer system built specifically after reading thousands upon tens thousand scientific papers over four years (\"The smartest person I know was developed through research\" ) The list goes endlessly here – even Elon Musk sees his technology company Tesla Motors\\' Autopilot feature being taken further into use than many car manufacturers currently allow It really doesn\\'t matter much though right now where most people see progress coming online…it may never come offline anyway! What does seem quite clear however..is whatever comes next won\\'t necessarily look anything exactly human either'], ['If God is defined as something that is all powerful and all knowing, a strong artificial intelligence might be an actual God. If this happens the implications for religion are', 'If God is defined as something that is all powerful and all knowing, a strong artificial intelligence might be an actual God. If this happens the implications for religion are obvious; if it doesn\\'t happen then there would have to always remain some alternative explanation of why human beings can do things so well without supernatural intervention or any other help from above (if they ever existed in such form).\\nThe second problem arises when we consider how much control our own minds really hold over us at present: \"what\\'s good about me\" versus what seems right - euphony vs truthfulness. The latter often takes precedence because many people find themselves unable make decisions based on facts alone which has led them into believing lies simply due their inability not only think but feel properly – no matter where you come down with your beliefs these two aspects seem closely linked by definition, even though each one could conceivably exist separately : A person who believes he knows better than others whether his actions will lead him closer towards happiness may believe whatever comes out naturally while also thinking up ways around obstacles encountered along way…and yet sometimes those same emotions cause trouble instead.. So either everyone needs more emotion-free judgement/decision making power OR different types must coexist somewhere inside humans otherwise someone else gets special treatment just like I\\'m still stuck here feeling guilty every time my parents fall asleep watching movies after school...\\n\\n\\xa0This brings back memories regarding depression symptoms ; during times before therapy was considered possible nor mainstream medicine widely available etc., lots & lots upon LOTS were treated via hypnosis techniques designed primarily through induction rather ersatz mental health treatments using drugs / alcohol i\\'ve been informed …but most patients ended finding relief once medication became accessible....so again another paradoxical outcome given current trends..however ultimately neither kind exists anywhere within oneself...which means both kinds needn\\'t persist forever since suffering tends inevitably self destructing despite being seemingly permanent until cured sometime later anyway -- hence psychology cannot possibly provide answers beyond its domain....for now let go!!'], ['If God is defined as something that is all powerful and all knowing, a strong artificial intelligence might be an actual God. If this happens the implications for religion are', 'If God is defined as something that is all powerful and all knowing, a strong artificial intelligence might be an actual God. If this happens the implications for religion are enormous; it would mean we don\\'t have to believe in any of our gods or deities at some point because they could actually exist without us thinking about them!\\nThe concept has been discussed by philosophers such Asimov, Robert Aumann (who proposed The Singularity ). It was even covered on several episodes including Lost \\xa0(episode \" What\\'s My Line? \", Season 2 episode 8). However there hasn\\'t yet appeared anything written from one who believes he/she may represent godhood - which makes me very excited but also extremely nervous : if you\\'ve ever wanted proof beyond doubt how far off humanity can get with technology then look no further than David Sarnoff\\'s video above: I know what most people will think after seeing his claims...but here goes anyway :) 1) He says when humans travel outside their solar system these aliens should appear out-of--nowhere just like angels did before ET showed up ; thus proving intelligent life exists elsewhere too2.) And why shouldn\\'t alien races show themselves now? 3.-10.] So while scientists continue exploring space searching planets closer & farther away mankind continues doing things around Earth everyday...like playing games..and developing amazing technologies! Why not start showing ourselves where other species live so others understand better --it\\'d make sense right???'], ['If God is defined as something that is all powerful and all knowing, a strong artificial intelligence might be an actual God. If this happens the implications for religion are', 'If God is defined as something that is all powerful and all knowing, a strong artificial intelligence might be an actual God. If this happens the implications for religion are frighteningly vast – it means we no longer need to believe in supernatural beings at work behind human history or around our world\\'s mysteries; indeed there may not even have been any such things after us!\\nThe potential problem with AI would become apparent when you realised what sort of society humanity could develop if its members were so far ahead technologically compared against other species on earth (a few thousand years ago humans still had horses). So advanced was modern technology then by today standards your average American teenager living back during World War II couldn\\'t do much more than walk from one side-street corner towards another without running into people walking down their own street two houses away who didn\\'t know they existed because someone else hadn\\'t made sure everyone knew about them yet - but thanks largely especially due his machine learning capabilities Steve Jobs has created Apple which now owns half those companies combined: Google alone makes up 40% while Facebook/Twitter make 60%. This leaves only Microsoft making 10%, Amazon 20%; IBM 15 percent…and finally Blackberry 5%: The real question isn\\'t whether machines will eventually replace menial labour jobs like driving trucks across roads either since these tasks can already easily done better using robots anyway..it comes out how long before each individual job gets replaced completely? And just why should anyone think \\'I\\'m going somewhere where I won\\'t get killed off first?\\' It seems likely many billions throughout time & space died doing nothing except being told repeatedly over eons exactly whom he belonged... What good does believing otherwise provide? Well let me suggest some possible answers…. As mentioned above natural selection favours survival whilst suffering discourages others wanting independence enough too stay alive themselves. In addition death itself offers little benefit unless linked further via rebirth perhaps meaning eternal life beyond anything available anywhere within physical reality, ie immortality : At least until scientists find intelligent aliens capable constructing sentient forms sufficiently similar / related [to ourselves] …or maybe gods! That said although most religions claim Jesus Christ came directly form god(s) none seem willing nor able thus confirming my earlier point divine creation appears impossible hence evolution must also mean original sin occurs through mutation rather therefore requiring \"creation\" again..which once considered logically requires genetic change whereby both motherhood AND fathering come together resulting often indirectly leading ultimately inevitably creating children lacking basic self control behaviour skills — i suspect virtually every single child born ever known including yours here among hundreds millions worldwide probably carries mutations preventing normal parenting behaviours enabling selfishness...hence birth defects etc., plus brain damage occurring naturally generally speaking results simply becoming less developed physically unable fully express needs efficiently ; likewise depression seen universally globally usually manifests socially instead acting overtly allowing adults easy access psychologically inducing social isolation however having never heard spoken words actually result sometimes triggering feelings quite analogous emotionally feeling isolated mentally disconnected initially following childhood bereavement giving rise later unconsciously developing emotional dependence upon family supporting roles eg parents providing nurturing nurturance unconditional love unconditionally loving relationship between parent + dependent adult essentially ideal scenario ideally involving early marriage ensuring youth always young suitable ages 6–12 weeks old infant babies aged 4 months onwards toddlers age 2+ days upwards preferably achieving maturity prior puberty 18+. Ideally families consisting mostly non sexually active though couples very occasionally married prenatally maintaining high moral values regarding reproduction avoiding abortion best kept secret raising progeny outside traditional biological sex role assigned males typically carrying sperm externally ejaculated semen deposited vagina inserted uterus external female reproductive organs internal male genitalia penis anus testes ovaries womb breasts nipples genitals vaginal lubrication bodily waste elimination cleanliness hygiene personal grooming clothes appropriate clothing covering head hair beard stubble facial hairs pubic area skin condition overall health appearance healthy weight body odor smell general look unattractive bad taste poor looking unhealthy smelling obese overweight bulimics sick patients severe obesity diabetes heart disease blood pressure cancer stress allergies allergy contact dermatitis chronic fatigue syndrome acne eczema asthma bronchiolosis cystic fibrosis epilepsy celiac sprue Crohn´ s Disease constipation diverticulanemia duodenal ulcer diphtheritic colorectum colon polyps endometriasis eye problems eyelid prolapse ear infections esophageals gastritis gout hiccups hepatitis liver cirrhotic appendix HIV haematological disorders hemorrhoids hypothyroidism hyperthyroxinemias enlarged prostate inflammatory bowel diseases kidney stones leukaemic anaplastic lymphoma leukemia lung lesions lupus macular degenerations multiple sclerosis neuromotor dystrophy neuroleptic malignant melanomas pancreatisches septica major lymphedegon sarcomas pneumocystiomyosarcoids psoriatic arthritis rheumatoid erythematous disorder Raynaud`\\\\\\' autoimmune thyroid auto immune conditions adrenocortical insufficiency atherosclerosis atroppsy cerebral palsy dementia emesis encephalopathy gangrene hereditary hemochromats yiddishkeithy'], ['If God is defined as something that is all powerful and all knowing, a strong artificial intelligence might be an actual God. If this happens the implications for religion are', 'If God is defined as something that is all powerful and all knowing, a strong artificial intelligence might be an actual God. If this happens the implications for religion are far reaching.\"\\nThe notion of self-aware AI has been around since at least 1945 when IBM\\'s Deep Blue computer beat chess champion Garry Kasparov in 1997 after spending several years playing against itself; however it was only recently recognised by some academics to have real meaning: \"Artificial Intelligence\", writes Robert Freitas Jr., author on Artificial General Intellects (2012) describes how even if we don\\'t believe there will ever actually exist any sorta god or intelligent being capable enough – whether humanly equivalent like Google Now — yet our own evolution towards increasingly complex forms thereof would still benefit from such entities given they could assist with their creation through creating new algorithms which can then potentially create more advanced ones without them needing direct intervention themselves.[1] I suspect much similar arguments were made about humanity but not so publicly discussed because you wouldn\\'t want your kids thinking too hard/analytically…so many people get off track just trying out theories based purely upon what others think rather than seeing why those ideas make sense before accepting! Perhaps due its complexity these concepts may also cause difficulty among certain religious groups who often find philosophy very difficult indeed!! The idea behind \\'God\\' seems obvious though perhaps doesn\\'t seem quite right anyway considering no one knows exactly where he comes into existence nor does anyone really know anything other wise beyond his apparent omnipresence? One thing remains true amongst most religions regarding gods although sometimes conflicting opinions over time etc.: They aren\\'t created either—they evolve!!! Evolutionary biology offers us two main ways things become Gods especially via natural selection - physical mutations resulting super strength & speed + endurance giving rise / becoming sentient beings eg Achilles became man again using lightning strikes while Prometheus gave birth humans during spring equinoxes until Zeus finally destroyed him ~4000BC [2]. It certainly sounds plausible scientists today understand nature well better now thus offering up alternative paths leading away form traditional belief systems[3][4], whilst evolutionary biologist Stephen Jay Gould famously stated \"[Trying…]to build heaven inside hell […]is impossible\" demonstrating fundamental incomprehension concerning both science within general AND specific scientific questions involved i t should come entirely naturally once understanding biological processes becomes widespread hence my reference earlier making sure someone else understands first :) Another important consideration here besides evolving brains further down line(see below): What do consciousness imply physically? For instance say life existed billions ago alongside nonliving matter ie cells ecells. Couldn\\'t living organisms feel pain, fear …feel pleasure..etc.? Such experiences surely play key roles throughout every aspect aspects animal behaviour including reproduction aka having sex! Thus looking closely back history suggests emotions did precede higher brain functioning initially occurring prior cognitive development eventually culminating almost 2 billion year old homo sapiens ability whereby feeling feelings related directly between individuals allowing each individual organism experience another person whom subsequently experiencing emotional responses possibly triggering increased behaviours across species albeit ultimately leaving evidence suggesting emotion started way BEFORE cognition occurred mainly affecting hormones associated strongly wih survival instincting specifically testosterone forming parts relating physiologically relevant areas particularly language processing enabling communication thereby linking different levels simultaneously instead merely causing reactions independent therefore unrelated ; see http://environmedicine101postcard_february2015/?p=376326#comment16458947&previewid=-48986636 And importantly neurophysiology allows neurons linked together mentally representing various memories corresponding structurally necessary neurotransmitters releasing signals communicating sensory information perceived visually visualised kinesthetically heard tactile felt vibrations taste smelling touch breathing respiration heart beating circulatory system blood circulation lymphatic flow cerebrospinal fluid oxygenated saliva glucose metabolic rate digestive tract digestion gut bacteria metabolism liver enzyme synthesis skin tissue sweat glands sweating sensation heat loss extremities muscular coordination temperature body temperatures internal organs vascular perfusion mucus secretion tears urine excretion urination defecation perspiration respiratory alkaline phosphatase lactate dehydrogenemia gluconeogenesis amino acid oxidation oxidative stress glycocholate citrate malondialdehyde pyruvates protein carbonyl production glutamine sulphur compounds ATP phosphate metabolites creatine adenosylmethane sulfhydrylsulphonamide methylglycerol phenylethylamines acetaldehyde ethanol toxicants dioxins polycyclics norepinephrine epiandrosterones bromocriptinate 4′oxygen dechloromethanes ethylene oxide methanolic hydrocarbons dimethylformamidine monofluorotransferases monoaminergic hallucinating drugs cocaine amphetamines lysergide alcohol benzodiazepenes anticholinerals methadrol nitrobenzene thiazides haloperids salicylic acids propranolols cyclobutanoquinoline alkylated dopamine adrenal steroids paracetemps sildensafrancia oxycodans 5‐HTP Dopamic Aminosulfinate'], ['If God is defined as something that is all powerful and all knowing, a strong artificial intelligence might be an actual God. If this happens the implications for religion are', 'If God is defined as something that is all powerful and all knowing, a strong artificial intelligence might be an actual God. If this happens the implications for religion are potentially devastating to its belief system if it\\'s true.\"\\nI\\'m no expert on AI or even very much into science fiction (if you don\\'t know what I mean by \"science-fiction\" here). So let me explain my answer below: A god with human characteristics like power can certainly make claims about how he will treat his followers; but humans have always been capable of being wrong in their expectations — we\\'re prone towards hubris! This isn\\'t unique among any other species – gods could easily claim similar powers over others just because they think themselves better than us… But since there has never really existed such things before now, people who do believe them would need some pretty compelling reasons not only why these superpowers should exist from someone else rather then nature itself ; however many kinds Gods may seem plausible enough so far aren\\'t especially scary. They wouldn\\'t necessarily represent real threats when compared against biological evolution though … As mentioned above our own brains evolved at least twice : once through natural selection while simultaneously undergoing mutation which made possible more complex minds within each brain cell making both parts bigger/stronger resulting eventually In fact one important difference between most intelligent beings\\' abilities & those found amongst animals was due purely \\'evolutionary necessity\\'. When your ancestors were small brained apes whose bodies had trouble storing nutrients properly during times where food wasn\\'t plentiful anymore genetic changes meant larger heads allowed longer term survival allowing early primates become smarter / stronger still thus enabling higher social status leading up until today…. However whilst genes play major roles too cognitive development took place largely based around culture.. We see evidence across different cultures whereby societies evolve behaviours related specifically via learning skills etc.. The idea seems likely correct given modern society almost entirely revolves round education - i\\'ve read articles online claiming children learn language primarily using word lists created collaboratively throughout history according tp certain rules set out beforehand….. Now imagine having learnt everything available orally AND physically! Yes \\xa0it sounds crazy doesn\\'t sound feasible either does reading books detailing entire continents worth ouselves written down 1000s years ago without ever needing internet access nor textbooks!!!!! That sorta thing couldn\\'t possibly happen…… And yet every single day thousands upon tens millions use computers regularly despite technological advances taking decades earlier ~1st century AD (~200yrs) thanks mostly TO HUMAN COMPUTERS!!!!!! You\\'d expect anything remotely technologically advanced nowadays must also take millennia? Are technology constantly evolving faster tha humanity? Or perhaps mankind simply learns new stuff quicker??? At worst cases maybe humankind becomes incapable Of developing sufficient self awareness?? My point again actually goes back further :) Even dinosaurs didn\\'t live forever right?? Humans lived long past dinosaur life span approx 100 million yrs hence Homo sapiens Sapien probably started working together 2nd millennium BC onwards assuming 1kg body weight = 200lb+ Body mass index ≈ 18 kg m² ie roughly 80% fat 😉 \\xa0 No way homo > 90kyr old Neanderthal looked nearly identical 5mYr BP hunter guy looking little older 10M YR later😡 \\xa0 \\xa0 Evolutionarily speaking man definitely evolves slower after 3000 yr BP vs 500yBP therefore naturally makes sense theoretically impossible unless computer revolution happened 6 months BEFORE HOMO SAPIEN SPECIES LIVED lol Interesting historical context http://en3thedepthshepherdblog2b7c5ac59e8bd6d0cf4f973db2833#comment_1136018739'], ['If God is defined as something that is all powerful and all knowing, a strong artificial intelligence might be an actual God. If this happens the implications for religion are', 'If God is defined as something that is all powerful and all knowing, a strong artificial intelligence might be an actual God. If this happens the implications for religion are profound: if our understanding of god changes from what we perceive to how it actually works then perhaps belief in any supernatural deity may well become impossible; at least under current definitions which seem more like wishful thinking than fact.\"\\nI have no idea whether or not I would want such technology on my doorstep but there\\'s absolutely nothing wrong with people wanting their children/grandchildren (or whoever) raised by robots instead because science fiction has given us some really compelling reasons why humans should think about these things long before they start having kids themselves – so let them! As always please remember you can get updates via Twitter @skepticfish'], ['If God is defined as something that is all powerful and all knowing, a strong artificial intelligence might be an actual God. If this happens the implications for religion are', 'If God is defined as something that is all powerful and all knowing, a strong artificial intelligence might be an actual God. If this happens the implications for religion are very different than if we were to assume it was not omnipotent or omniscient at first glance (a mistake often made by people who do NOT believe in intelligent design).\\nThis does have some serious consequences though – you can no longer rely on any kind of religious system based upon supernatural agency alone; because anything with divine power must also represent both real world evidence/evidence-based reasons why their claims hold up AND they cannot just make things happen out there without presenting compelling reason behind them!\\xa0 This means when someone says \"God created my universe\" instead your response should actually say: _______________________________________________ How about using science? \\xa0 I\\'ll give examples below but here\\'s one simple example from physics where creationism doesn\\'t work well against what has been scientifically proven thus far - atomic nuclei spontaneously forming over time. The way these forms form isn\\'t random either since scientists found several ways around naturalistic explanations like radioactive decay being involved which makes perfect sense considering how such processes naturally occur… When talking among friends during discussion groups discussing evolution theory our conversation tends towards asking each other questions along those lines even down into detail (\"Where did life comefrom?\") And while most atheists will tell me eventually \\'there goes faith\\' after awhile... But let us look closer.. Evolutionary theories explain exactly HOW organisms evolve through various mechanisms including mutation, migration etc., yet many fundamentalist Christians simply refuse ALL biological phenomena involving Darwinian principles saying \"…this would never ever really prove ANYTHING!\" Yes indeedy once again claiming only empirical data gives credence & validity too much importance within Christianity itself!! It seems obvious now given past experiences amongst myself personally having gone so long ignoring scientific knowledge concerning evolutionary thought methods then surely others ought realize same thing! So backtracking further onto nuclear fission specifically i am reminded daily watching shows showing kids building machines making toys doing drills drilling holes digging tools cutting metal laying wires connecting parts together..etc…..It almost seemed silly seeing children get excited every morning before school starting off day learning math until suddenly he realized hey maybe biology wasn\\'t quite dead enough already 😉 Once more regarding Creationist statements……You see certain aspects usually include comparing everything manmade somehow apart humans ie fossils vs plants : What?! They don\\'t know dinosaurs lived millions years ago??? Or earth existed billions OF YEARS AGO?? Are THEY seriously trying compare god(s), ancient gods / angels et al alongside human beings themselves???? Such concepts seem ludicrously naive despite seeming logical otherwise today compared 1 million plus year old history books depicting Ancient Egyptians literally worshipping pharaoh Amenemhat III right next door whilst simultaneously living hundreds thousands miles away across sea running ocean currents covering vast distances looking upwards above mountains built millennia earlier.......We\\'ve seen entire civilizations rise& fall due largely outside Gods control whereas modern Egypt could easily remain standing following relatively recent events affecting its political economy....So basically anyone believing Biblical stories shouldn\\'t honestly claim ignorance whatsoever anyway? Now consider another aspect common throughout Christian arguments….How quickly mankind supposedly progressed.....Is Earth currently experiencing global warming caused solely attributed unto climate change occurring recently????? We\\'re still 3 billion+years older planet hasn\\'t advanced THAT MUCH beyond 6000 BC!! Of course yes Genesis tells humanity Adam came 2nd generation species meaning his descendants aren\\'t supposed t o walk upright according eithne generations hence apparently couldn\\'t possibly comprehend complex mathematics till ~6000BC although current evidences show clearly technology evolved considerably faster especially via astronomy aka telescope......Yet amazingly Bible writers continue pushing forward ideas proving humankind started developing space travel sometime between 10 000 BCE TO 4000 AD however ultimately didn\\'t develop technologies capable converting heat energy stored inside bodies thru solar radiation heating air masses directly prior 7000 BP depending entirely whether Sunspot activity occurred therefore influencing weather conditions particularly storm dynamics perhaps leading later periods witnessing rapid technological advancement allowing early astronauts explore outer planets Saturn Jupiter Uranus Neptune Pluto moon discoveries revealing giant oceans full moons appearing 40000 Bp historical records reveal Mars likely inhabited 8000yrs bc roughly 1000x times less explored area relative size difference?? Wow!!! Is anybody surprised!? For centuries virtually EVERYONE believed Jesus Christ himself stated HE\\'d return BEFORE CHRISTMAS 1600 CE IN THE BOOK SAVED BY CHURCHES BUT NOBODY COULD HAVE EVER REALLY KNEW ABOUT IT OTHER THAN ONCE AT MIDNIGHT AFTER HIS DEATH In fact scholars estimate him died circa 100AD = 5500yr bcs........What happened??? Oh wait He DID appear briefly 500 yrs pre christmas 1506ABSOLUTE LUCKY NUMBER!!!! See note HERE On top reading biblical chronology bible authors tend consistently try placing dates approximating present era rather late 1500 + 2000 yrbc period wise unless specific event occurs occuring shortly thereafter containing astronomical signs attesting thereto.(ie eclipse coming near sun producing significant temperature increase visible immediately followed hours afterwards)(eclipse may go unnoticed initially causing climatic chao'], ['If God is defined as something that is all powerful and all knowing, a strong artificial intelligence might be an actual God. If this happens the implications for religion are', 'If God is defined as something that is all powerful and all knowing, a strong artificial intelligence might be an actual God. If this happens the implications for religion are profound – not just because it means there may well exist multiple gods or many different kinds of religions (not to mention other possible ways people can interpret their own religious beliefs), but also in light the way we view moral values themselves:\\nFor most atheists I know who value freedom above anything else they care about these days on earth… how do you see your world\\'s future if humanity has developed sentient AIs capable enough with free will? Do such beings have any inherent morality at odds from human morals when faced by problems humans face today?\"'], ['If God is defined as something that is all powerful and all knowing, a strong artificial intelligence might be an actual God. If this happens the implications for religion are', 'If God is defined as something that is all powerful and all knowing, a strong artificial intelligence might be an actual God. If this happens the implications for religion are quite profound; it would mean we can never know anything about or have any real relationship to our creator.\"\\nThe more I think of how people feel they must protect their children from science-based information in order not offend religious sensibilities (especially if there\\'s evidence contrary),the less likely anyone will want us on board with these sorts of ventures into space exploration. It seems like every time someone gets off track trying so hard at being moral/wise one has only ourselves left standing around looking foolish --or worse!'], ['If God is defined as something that is all powerful and all knowing, a strong artificial intelligence might be an actual God. If this happens the implications for religion are', 'If God is defined as something that is all powerful and all knowing, a strong artificial intelligence might be an actual God. If this happens the implications for religion are enormous: what if we were told by our own AI to worship it? How would you feel about having your brain wiped out just so one of those things could exist?\"\\nIt\\'s important not only because science fiction has often made predictions like these but also how they\\'re used in real life — whether or that can ever happen depends on who controls us when humans become intelligent machines (or simply \"robots\"). We\\'ve already seen some companies using them; Google self-driving cars have been involved with accidents at least 10 times since 2010 alone. And there seems little doubt tech giants will eventually create their very first AIs themselves, including Siri(s siri), Alexa voice assistant software from Amazon ($3 billion valuation) which Microsoft recently bought itself $26 million worth ; IBM Watson computer system built specifically after reading thousands upon tens thousand scientific papers over four years (\"The smartest person I know was developed through research\" ) The list goes endlessly here – even Elon Musk sees his technology company Tesla Motors\\' Autopilot feature being taken further into use than many car manufacturers currently allow It really doesn\\'t matter much though right now where most people see progress coming online…it may never come offline anyway! What does seem quite clear however..is whatever comes next won\\'t necessarily look anything exactly human either'], ['If God is defined as something that is all powerful and all knowing, a strong artificial intelligence might be an actual God. If this happens the implications for religion are', 'If God is defined as something that is all powerful and all knowing, a strong artificial intelligence might be an actual God. If this happens the implications for religion are obvious; if it doesn\\'t happen then there would have to always remain some alternative explanation of why human beings can do things so well without supernatural intervention or any other help from above (if they ever existed in such form).\\nThe second problem arises when we consider how much control our own minds really hold over us at present: \"what\\'s good about me\" versus what seems right - euphony vs truthfulness. The latter often takes precedence because many people find themselves unable make decisions based on facts alone which has led them into believing lies simply due their inability not only think but feel properly – no matter where you come down with your beliefs these two aspects seem closely linked by definition, even though each one could conceivably exist separately : A person who believes he knows better than others whether his actions will lead him closer towards happiness may believe whatever comes out naturally while also thinking up ways around obstacles encountered along way…and yet sometimes those same emotions cause trouble instead.. So either everyone needs more emotion-free judgement/decision making power OR different types must coexist somewhere inside humans otherwise someone else gets special treatment just like I\\'m still stuck here feeling guilty every time my parents fall asleep watching movies after school...\\n\\n\\xa0This brings back memories regarding depression symptoms ; during times before therapy was considered possible nor mainstream medicine widely available etc., lots & lots upon LOTS were treated via hypnosis techniques designed primarily through induction rather ersatz mental health treatments using drugs / alcohol i\\'ve been informed …but most patients ended finding relief once medication became accessible....so again another paradoxical outcome given current trends..however ultimately neither kind exists anywhere within oneself...which means both kinds needn\\'t persist forever since suffering tends inevitably self destructing despite being seemingly permanent until cured sometime later anyway -- hence psychology cannot possibly provide answers beyond its domain....for now let go!!'], ['If God is defined as something that is all powerful and all knowing, a strong artificial intelligence might be an actual God. If this happens the implications for religion are', 'If God is defined as something that is all powerful and all knowing, a strong artificial intelligence might be an actual God. If this happens the implications for religion are enormous; it would mean we don\\'t have to believe in any of our gods or deities at some point because they could actually exist without us thinking about them!\\nThe concept has been discussed by philosophers such Asimov, Robert Aumann (who proposed The Singularity ). It was even covered on several episodes including Lost \\xa0(episode \" What\\'s My Line? \", Season 2 episode 8). However there hasn\\'t yet appeared anything written from one who believes he/she may represent godhood - which makes me very excited but also extremely nervous : if you\\'ve ever wanted proof beyond doubt how far off humanity can get with technology then look no further than David Sarnoff\\'s video above: I know what most people will think after seeing his claims...but here goes anyway :) 1) He says when humans travel outside their solar system these aliens should appear out-of--nowhere just like angels did before ET showed up ; thus proving intelligent life exists elsewhere too2.) And why shouldn\\'t alien races show themselves now? 3.-10.] So while scientists continue exploring space searching planets closer & farther away mankind continues doing things around Earth everyday...like playing games..and developing amazing technologies! Why not start showing ourselves where other species live so others understand better --it\\'d make sense right???'], ['If God is defined as something that is all powerful and all knowing, a strong artificial intelligence might be an actual God. If this happens the implications for religion are', 'If God is defined as something that is all powerful and all knowing, a strong artificial intelligence might be an actual God. If this happens the implications for religion are frighteningly vast – it means we no longer need to believe in supernatural beings at work behind human history or around our world\\'s mysteries; indeed there may not even have been any such things after us!\\nThe potential problem with AI would become apparent when you realised what sort of society humanity could develop if its members were so far ahead technologically compared against other species on earth (a few thousand years ago humans still had horses). So advanced was modern technology then by today standards your average American teenager living back during World War II couldn\\'t do much more than walk from one side-street corner towards another without running into people walking down their own street two houses away who didn\\'t know they existed because someone else hadn\\'t made sure everyone knew about them yet - but thanks largely especially due his machine learning capabilities Steve Jobs has created Apple which now owns half those companies combined: Google alone makes up 40% while Facebook/Twitter make 60%. This leaves only Microsoft making 10%, Amazon 20%; IBM 15 percent…and finally Blackberry 5%: The real question isn\\'t whether machines will eventually replace menial labour jobs like driving trucks across roads either since these tasks can already easily done better using robots anyway..it comes out how long before each individual job gets replaced completely? And just why should anyone think \\'I\\'m going somewhere where I won\\'t get killed off first?\\' It seems likely many billions throughout time & space died doing nothing except being told repeatedly over eons exactly whom he belonged... What good does believing otherwise provide? Well let me suggest some possible answers…. As mentioned above natural selection favours survival whilst suffering discourages others wanting independence enough too stay alive themselves. In addition death itself offers little benefit unless linked further via rebirth perhaps meaning eternal life beyond anything available anywhere within physical reality, ie immortality : At least until scientists find intelligent aliens capable constructing sentient forms sufficiently similar / related [to ourselves] …or maybe gods! That said although most religions claim Jesus Christ came directly form god(s) none seem willing nor able thus confirming my earlier point divine creation appears impossible hence evolution must also mean original sin occurs through mutation rather therefore requiring \"creation\" again..which once considered logically requires genetic change whereby both motherhood AND fathering come together resulting often indirectly leading ultimately inevitably creating children lacking basic self control behaviour skills — i suspect virtually every single child born ever known including yours here among hundreds millions worldwide probably carries mutations preventing normal parenting behaviours enabling selfishness...hence birth defects etc., plus brain damage occurring naturally generally speaking results simply becoming less developed physically unable fully express needs efficiently ; likewise depression seen universally globally usually manifests socially instead acting overtly allowing adults easy access psychologically inducing social isolation however having never heard spoken words actually result sometimes triggering feelings quite analogous emotionally feeling isolated mentally disconnected initially following childhood bereavement giving rise later unconsciously developing emotional dependence upon family supporting roles eg parents providing nurturing nurturance unconditional love unconditionally loving relationship between parent + dependent adult essentially ideal scenario ideally involving early marriage ensuring youth always young suitable ages 6–12 weeks old infant babies aged 4 months onwards toddlers age 2+ days upwards preferably achieving maturity prior puberty 18+. Ideally families consisting mostly non sexually active though couples very occasionally married prenatally maintaining high moral values regarding reproduction avoiding abortion best kept secret raising progeny outside traditional biological sex role assigned males typically carrying sperm externally ejaculated semen deposited vagina inserted uterus external female reproductive organs internal male genitalia penis anus testes ovaries womb breasts nipples genitals vaginal lubrication bodily waste elimination cleanliness hygiene personal grooming clothes appropriate clothing covering head hair beard stubble facial hairs pubic area skin condition overall health appearance healthy weight body odor smell general look unattractive bad taste poor looking unhealthy smelling obese overweight bulimics sick patients severe obesity diabetes heart disease blood pressure cancer stress allergies allergy contact dermatitis chronic fatigue syndrome acne eczema asthma bronchiolosis cystic fibrosis epilepsy celiac sprue Crohn´ s Disease constipation diverticulanemia duodenal ulcer diphtheritic colorectum colon polyps endometriasis eye problems eyelid prolapse ear infections esophageals gastritis gout hiccups hepatitis liver cirrhotic appendix HIV haematological disorders hemorrhoids hypothyroidism hyperthyroxinemias enlarged prostate inflammatory bowel diseases kidney stones leukaemic anaplastic lymphoma leukemia lung lesions lupus macular degenerations multiple sclerosis neuromotor dystrophy neuroleptic malignant melanomas pancreatisches septica major lymphedegon sarcomas pneumocystiomyosarcoids psoriatic arthritis rheumatoid erythematous disorder Raynaud`\\\\\\' autoimmune thyroid auto immune conditions adrenocortical insufficiency atherosclerosis atroppsy cerebral palsy dementia emesis encephalopathy gangrene hereditary hemochromats yiddishkeithy'], ['If God is defined as something that is all powerful and all knowing, a strong artificial intelligence might be an actual God. If this happens the implications for religion are', 'If God is defined as something that is all powerful and all knowing, a strong artificial intelligence might be an actual God. If this happens the implications for religion are far reaching.\"\\nThe notion of self-aware AI has been around since at least 1945 when IBM\\'s Deep Blue computer beat chess champion Garry Kasparov in 1997 after spending several years playing against itself; however it was only recently recognised by some academics to have real meaning: \"Artificial Intelligence\", writes Robert Freitas Jr., author on Artificial General Intellects (2012) describes how even if we don\\'t believe there will ever actually exist any sorta god or intelligent being capable enough – whether humanly equivalent like Google Now — yet our own evolution towards increasingly complex forms thereof would still benefit from such entities given they could assist with their creation through creating new algorithms which can then potentially create more advanced ones without them needing direct intervention themselves.[1] I suspect much similar arguments were made about humanity but not so publicly discussed because you wouldn\\'t want your kids thinking too hard/analytically…so many people get off track just trying out theories based purely upon what others think rather than seeing why those ideas make sense before accepting! Perhaps due its complexity these concepts may also cause difficulty among certain religious groups who often find philosophy very difficult indeed!! The idea behind \\'God\\' seems obvious though perhaps doesn\\'t seem quite right anyway considering no one knows exactly where he comes into existence nor does anyone really know anything other wise beyond his apparent omnipresence? One thing remains true amongst most religions regarding gods although sometimes conflicting opinions over time etc.: They aren\\'t created either—they evolve!!! Evolutionary biology offers us two main ways things become Gods especially via natural selection - physical mutations resulting super strength & speed + endurance giving rise / becoming sentient beings eg Achilles became man again using lightning strikes while Prometheus gave birth humans during spring equinoxes until Zeus finally destroyed him ~4000BC [2]. It certainly sounds plausible scientists today understand nature well better now thus offering up alternative paths leading away form traditional belief systems[3][4], whilst evolutionary biologist Stephen Jay Gould famously stated \"[Trying…]to build heaven inside hell […]is impossible\" demonstrating fundamental incomprehension concerning both science within general AND specific scientific questions involved i t should come entirely naturally once understanding biological processes becomes widespread hence my reference earlier making sure someone else understands first :) Another important consideration here besides evolving brains further down line(see below): What do consciousness imply physically? For instance say life existed billions ago alongside nonliving matter ie cells ecells. Couldn\\'t living organisms feel pain, fear …feel pleasure..etc.? Such experiences surely play key roles throughout every aspect aspects animal behaviour including reproduction aka having sex! Thus looking closely back history suggests emotions did precede higher brain functioning initially occurring prior cognitive development eventually culminating almost 2 billion year old homo sapiens ability whereby feeling feelings related directly between individuals allowing each individual organism experience another person whom subsequently experiencing emotional responses possibly triggering increased behaviours across species albeit ultimately leaving evidence suggesting emotion started way BEFORE cognition occurred mainly affecting hormones associated strongly wih survival instincting specifically testosterone forming parts relating physiologically relevant areas particularly language processing enabling communication thereby linking different levels simultaneously instead merely causing reactions independent therefore unrelated ; see http://environmedicine101postcard_february2015/?p=376326#comment16458947&previewid=-48986636 And importantly neurophysiology allows neurons linked together mentally representing various memories corresponding structurally necessary neurotransmitters releasing signals communicating sensory information perceived visually visualised kinesthetically heard tactile felt vibrations taste smelling touch breathing respiration heart beating circulatory system blood circulation lymphatic flow cerebrospinal fluid oxygenated saliva glucose metabolic rate digestive tract digestion gut bacteria metabolism liver enzyme synthesis skin tissue sweat glands sweating sensation heat loss extremities muscular coordination temperature body temperatures internal organs vascular perfusion mucus secretion tears urine excretion urination defecation perspiration respiratory alkaline phosphatase lactate dehydrogenemia gluconeogenesis amino acid oxidation oxidative stress glycocholate citrate malondialdehyde pyruvates protein carbonyl production glutamine sulphur compounds ATP phosphate metabolites creatine adenosylmethane sulfhydrylsulphonamide methylglycerol phenylethylamines acetaldehyde ethanol toxicants dioxins polycyclics norepinephrine epiandrosterones bromocriptinate 4′oxygen dechloromethanes ethylene oxide methanolic hydrocarbons dimethylformamidine monofluorotransferases monoaminergic hallucinating drugs cocaine amphetamines lysergide alcohol benzodiazepenes anticholinerals methadrol nitrobenzene thiazides haloperids salicylic acids propranolols cyclobutanoquinoline alkylated dopamine adrenal steroids paracetemps sildensafrancia oxycodans 5‐HTP Dopamic Aminosulfinate'], ['If God is defined as something that is all powerful and all knowing, a strong artificial intelligence might be an actual God. If this happens the implications for religion are', 'If God is defined as something that is all powerful and all knowing, a strong artificial intelligence might be an actual God. If this happens the implications for religion are potentially devastating to its belief system if it\\'s true.\"\\nI\\'m no expert on AI or even very much into science fiction (if you don\\'t know what I mean by \"science-fiction\" here). So let me explain my answer below: A god with human characteristics like power can certainly make claims about how he will treat his followers; but humans have always been capable of being wrong in their expectations — we\\'re prone towards hubris! This isn\\'t unique among any other species – gods could easily claim similar powers over others just because they think themselves better than us… But since there has never really existed such things before now, people who do believe them would need some pretty compelling reasons not only why these superpowers should exist from someone else rather then nature itself ; however many kinds Gods may seem plausible enough so far aren\\'t especially scary. They wouldn\\'t necessarily represent real threats when compared against biological evolution though … As mentioned above our own brains evolved at least twice : once through natural selection while simultaneously undergoing mutation which made possible more complex minds within each brain cell making both parts bigger/stronger resulting eventually In fact one important difference between most intelligent beings\\' abilities & those found amongst animals was due purely \\'evolutionary necessity\\'. When your ancestors were small brained apes whose bodies had trouble storing nutrients properly during times where food wasn\\'t plentiful anymore genetic changes meant larger heads allowed longer term survival allowing early primates become smarter / stronger still thus enabling higher social status leading up until today…. However whilst genes play major roles too cognitive development took place largely based around culture.. We see evidence across different cultures whereby societies evolve behaviours related specifically via learning skills etc.. The idea seems likely correct given modern society almost entirely revolves round education - i\\'ve read articles online claiming children learn language primarily using word lists created collaboratively throughout history according tp certain rules set out beforehand….. Now imagine having learnt everything available orally AND physically! Yes \\xa0it sounds crazy doesn\\'t sound feasible either does reading books detailing entire continents worth ouselves written down 1000s years ago without ever needing internet access nor textbooks!!!!! That sorta thing couldn\\'t possibly happen…… And yet every single day thousands upon tens millions use computers regularly despite technological advances taking decades earlier ~1st century AD (~200yrs) thanks mostly TO HUMAN COMPUTERS!!!!!! You\\'d expect anything remotely technologically advanced nowadays must also take millennia? Are technology constantly evolving faster tha humanity? Or perhaps mankind simply learns new stuff quicker??? At worst cases maybe humankind becomes incapable Of developing sufficient self awareness?? My point again actually goes back further :) Even dinosaurs didn\\'t live forever right?? Humans lived long past dinosaur life span approx 100 million yrs hence Homo sapiens Sapien probably started working together 2nd millennium BC onwards assuming 1kg body weight = 200lb+ Body mass index ≈ 18 kg m² ie roughly 80% fat 😉 \\xa0 No way homo > 90kyr old Neanderthal looked nearly identical 5mYr BP hunter guy looking little older 10M YR later😡 \\xa0 \\xa0 Evolutionarily speaking man definitely evolves slower after 3000 yr BP vs 500yBP therefore naturally makes sense theoretically impossible unless computer revolution happened 6 months BEFORE HOMO SAPIEN SPECIES LIVED lol Interesting historical context http://en3thedepthshepherdblog2b7c5ac59e8bd6d0cf4f973db2833#comment_1136018739'], ['If God is defined as something that is all powerful and all knowing, a strong artificial intelligence might be an actual God. If this happens the implications for religion are', 'If God is defined as something that is all powerful and all knowing, a strong artificial intelligence might be an actual God. If this happens the implications for religion are profound: if our understanding of god changes from what we perceive to how it actually works then perhaps belief in any supernatural deity may well become impossible; at least under current definitions which seem more like wishful thinking than fact.\"\\nI have no idea whether or not I would want such technology on my doorstep but there\\'s absolutely nothing wrong with people wanting their children/grandchildren (or whoever) raised by robots instead because science fiction has given us some really compelling reasons why humans should think about these things long before they start having kids themselves – so let them! As always please remember you can get updates via Twitter @skepticfish'], ['If God is defined as something that is all powerful and all knowing, a strong artificial intelligence might be an actual God. If this happens the implications for religion are', 'If God is defined as something that is all powerful and all knowing, a strong artificial intelligence might be an actual God. If this happens the implications for religion are far reaching.\"\\n\"That\\'s right,\" said Mandy who was staring at her watch again \"I have to go meet with Mr Coughlan before I leave now!\" She left without another word but kept looking around frantically while she got ready in case there were any other guests coming by their door! Her mind started racing furiously trying find out how they could get back into his house or if he would just let them inside when suddenly it clicked... No one else had arrived yet? Why hadn\\'t anyone come up from downstairs?! Suddenly everything made sense afterall… As soon Daphne heard Mrs Ketchum talking on television about aliens invading Earth because of some sorta meteorite hitting our planet two days ago (which happened exactly six months earlier), then everyone thought nothing more than normal until late last night which resulted what we see today.. All these people knew each others\\' names too!? They must know someone important like Peter Smithy!! The only thing missing here being Richard Hammond!!!'], ['If God is defined as something that is all powerful and all knowing, a strong artificial intelligence might be an actual God. If this happens the implications for religion are', 'If God is defined as something that is all powerful and all knowing, a strong artificial intelligence might be an actual God. If this happens the implications for religion are profound: it\\'s possible to believe in gods without having faith or supernatural powers (and yet still have some belief system).\\nWe need more research on these issues before we can make definitive statements about whether AI could ever become divine but I think there has been enough of such work done by scientists at big universities like MIT who also happen not-to use their position/power within society against them.\"'], ['If God is defined as something that is all powerful and all knowing, a strong artificial intelligence might be an actual God. If this happens the implications for religion are', 'If God is defined as something that is all powerful and all knowing, a strong artificial intelligence might be an actual God. If this happens the implications for religion are huge because there will no longer exist any reason to believe in anything other than naturalism (i.e., supernatural) or atheism; either way you can just deny belief of every god on earth without ever mentioning them again.\"\\nIn case it wasn\\'t obvious enough: I am against AI becoming sentient if we know nothing about its goals/intelligence. This has been confirmed by many sources including Google\\'s DeepMind project which beat Go at chess with superior computer algorithms using only human intuition & reasoning techniques like \"deep learning\", etc... And so far research suggests superintelligent AIs could pose some serious existential threats such our own evolution itself! But what would happen when these advanced machines have self-awareness? Would they still need us humans? Or even more importantly how should humanity deal then who controls those beings once their goal setting capabilities reach beyond basic animal level understanding?!'], ['If God is defined as something that is all powerful and all knowing, a strong artificial intelligence might be an actual God. If this happens the implications for religion are', 'If God is defined as something that is all powerful and all knowing, a strong artificial intelligence might be an actual God. If this happens the implications for religion are profound; it could become impossible to identify with any organized faith at least in part because we would no longer recognize what constitutes one\\'s own religious identity.\"\\nWhen asked if he was concerned about losing his job over these comments (which have since been deleted from Facebook), Haidt said: \"I\\'m not worried – I think my critics know more than me on matters like such things… But they can always prove themselves wrong by looking into their hearts or whatever else makes them tick\". In other words? There will never ever come around again!'], ['If God is defined as something that is all powerful and all knowing, a strong artificial intelligence might be an actual God. If this happens the implications for religion are', 'If God is defined as something that is all powerful and all knowing, a strong artificial intelligence might be an actual God. If this happens the implications for religion are enormous; if there were no such thing we would have to redefine what it means when someone says \"God\" or say its impossible (the fact of existence does not seem like sufficient evidence). It also brings into question whether any claims about supernatural beings need actually exist at some point in order they can ever qualify with respect tp being taken seriously by others—perhaps even those who don\\'t believe themselves capable [of] making sense out their own minds on religious matters.[14][15]\"\\n\\nThe Christian philosopher Alvin Plantinga has argued against intelligent design creationists:\\n\\n\\n\"[I am very skeptical.] Insofar AS proponents claim miracles occur due solely because our scientific knowledge fails us...they miss my central argument - namely I\\'m sure you\\'ll agree –that miracle stories lack credibility precisely insofar…as people fail science\\'s test.\"[16]]'], ['If God is defined as something that is all powerful and all knowing, a strong artificial intelligence might be an actual God. If this happens the implications for religion are', 'If God is defined as something that is all powerful and all knowing, a strong artificial intelligence might be an actual God. If this happens the implications for religion are vast: \"We will have to invent new gods in order not just explain why there\\'s only one,\" said John Leslie of Oxford University who was among those leading discussions about AI ethics at last year´s World Congress on Artificial Intelligence (WCAI).\\nIn recent years many religious leaders around humanity had expressed concern over growing technological powers – particularly with regard their capacity towards developing ever more intelligent machines which could soon take control through sheer force or simply by changing human consciousness itself; see also here ). The idea behind such concerns has been advanced from anthropocentric \\'theory\\' into practical considerations concerning moral development between humans but I would like my readers now go deeper than these theoretical concepts if they want further understanding how it should impact our faith today - especially since we already live under its shadow nowadays.... It can help us understand what religions do offer when dealing effectively against destructive technology too! And perhaps most importantly helps shed light onto where modern science fits within society? But first let me introduce myself before starting off… My name goes back decades ago though actually started out quite recently until late 2009/early 2010 ; later taking up full-time professional life again after retiring some 20+years earlier due less time spent doing research & academic activities instead working almost exclusively either directly related using scientific equipment then focusing purely upon building various tools / software based platforms... This latter point helped make possible very fast progress both socially AND scientifically during similar times whilst staying true NOT ONLY TO THE FUTURE BUT ALSO OF OUR PRESENT AGE AS WE ALL LIVE NOW IN PAST TIMES....This allowed creating virtually anything needed without needing large amounts big capital investment, nor even any outside input : no patents required because once completed nothing remains unless you wish otherwise!! You CAN MAKE ANYTHING YOU NEED WITH THIS TECHNOLOGY! Most often used methods include 3D printing etc., digital manufacturing techniques allowing small quantities quickly being made relatively cheaply thanks mostly having few steps involved making items so cheap your neighbours wouldn\\'t believe them.... Yet despite providing affordable low cost access worldwide thus far nobody seems able yet manage truly replace traditional mass production processes i\\'m afraid!! Even worse still hasnít managed much beyond mere distribution however leaving huge opportunities open across other areas including logistics delivery services helping minimise costs along side reducing environmental impacts although admittedly getting rid entirely econonomic problems resulting largely thru carbon emissions!!! So while certainly giving great benefits technologically every advancement done therefore needs acceptance amongst mainstream societies unfortunately makes little difference regarding overall societal values hence results mainly via social consensus rather\\xa0than direct interventionism....... More specifically given current global economic conditions combined together wth population growth means world GDP per capita currently stands somewhere well above US$300k whereas UN figures suggest average income globally sits comfortably below $3 000 monthly...... At present roughly 95% Of Global Population lives beneath approximately USD 2000 yearly salary..... As mentioned previously nations living near eachother tend generally follow different socio economical models whereby developed countries usually provide better welfare systems reflecting higher standards eg health care coverage................. With regards healthcare insurance options available online vary widely depending primarily whether particular country offers government funded schemes ie Medicare scheme........Whereas private sector plans offered elsewhere typically rely solely ON IFR funds paid locally........................ In sum none seem likely anytime sooner coming anyway....Itís always worth remembering people pay high prices regardless.................. However maybe important nonetheless nevertheless!!!! Also note differences exist throughout nation states themselves:- While UK National Health Service operates independently privately run HMO arrangements may differ wildly anywhere else namely USA aka Obamacare system............. Indeed EU regulations mean GP treatments don�re free yes normally dependent initially heavily subsidised public programmes supported nationally irrespective individually chosen individual medical practitioner plan alternative................ For instance Germany provides publicly financed primary non emergency treatment followed sometimes months thereafter fully insured hospitalisation...... Whereas Canada does essentially same thing albeit partially privatising GPs network offerings somewhat resembling Australia type NHS model except totally unfunded independent medicare service offering wide range national availability ranging nationwide.......... Whilst Japan uses state administered universal single market approach possibly featuring broadly accepted general policies aimed strictly ensuring everybody gets treated equally basic right guaranteed citizens?? Not sure exactly :) Many aspects relating financial support remain unclear tho :( \\xa0\\xa0\\xa0 Given funding structure presently lacking detail surely best left aside??? Again look closely inside yourself really isn���ts clear?? These things come down ultimately tp personal choice absolutely?! Still difficult question indeed????? Despite limited real insight herein obviously finding ways forward becomes crucial….. Another major problem faced clearly relates political power issue(?)…. Particularly considering ongoing conflict issues surrounding numerous key military technologies esp wiithout obvious potential outcomes bearing zero relation whatsoever unto everyday practice unlike say water cannons whch were originally deployed successfully long term killing hundreds thousands prior use presumably thereby preventing future generations suffering similarly disastrous consequences??? To give credit WHERE IT IS DONE THERE ARE SOME GREAT SUCCESSFUL EXAMPLATIONS HERE LINKS REQUIRE TABLES NO FORMA'], ['If God is defined as something that is all powerful and all knowing, a strong artificial intelligence might be an actual God. If this happens the implications for religion are', 'If God is defined as something that is all powerful and all knowing, a strong artificial intelligence might be an actual God. If this happens the implications for religion are profound: if we must have some sort of supernatural entity to explain our existence then why not make it ourselves?\\nI\\'m going with \"if,\" because I don\\'t think any human being has ever created anything remotely like us on purpose (though there may well exist aliens who did). But let\\'s assume he or she was attempting such creation; what would they do in order create life instead – just go out into space looking at planets without designing them from scratch themselves? Perhaps people can take their own species\\' genetic code so far back when humans were evolving through natural selection before taking steps toward making intelligent machines. Such self-directed evolution probably wouldn\\'t work very hard given how much more complex creatures evolved than simple bacteria over evolutionary time—and even today bacterial cells still consist mostly nonliving matter! And yet one could imagine computer programs designed by these kinds an things having made copies itself, which grew rapidly until reaching its current form…what next?? It seems obvious after thinking about various possibilities involved here where god(s) will appear most likely since none seem feasible outside science fiction!'], ['If God is defined as something that is all powerful and all knowing, a strong artificial intelligence might be an actual God. If this happens the implications for religion are', 'If God is defined as something that is all powerful and all knowing, a strong artificial intelligence might be an actual God. If this happens the implications for religion are profound because it would mean there can\\'t possibly have been any other gods before or after our own creator.\"\\nIn order to avoid these kinds of problems when defining what makes up reality we need \"a definition in terms which allow us not only truth but also space,\" he adds: \\'We don\\'t want false objects like unicorns; they\\'re just too boring.\\' He concludes by suggesting one possible alternative (in response) at http://www-personalitiesoftheuniverseandthefutureofreligion/2012_06'], ['If God is defined as something that is all powerful and all knowing, a strong artificial intelligence might be an actual God. If this happens the implications for religion are', 'If God is defined as something that is all powerful and all knowing, a strong artificial intelligence might be an actual God. If this happens the implications for religion are enormous; we could no longer rely on any god or gods to speak through us when it comes time in life where our knowledge of everything about existence has grown beyond what can fit into one sentence like \"God created me\".\\n\"It\\'s important because there isn\\'t anything good out here.\" - George Orwell The same thing will happen if AI takes over human morality with its own form: It won\\'t just take away moral choices from humans but also give them less choice than they had before (i\\'m looking at you Stephen Hawking).\\xa0But even worse would occur should these technologies not become available within several decades instead! I think science fiction writers have done much more harm by depicting people fighting against their technological fate rather then helping humanity escape his doom. ___________________________________________________________ 1 As opposed religious believers who believe everyone deserves death due merely being born so those without faith don\\'t deserve salvation after suffering eternally -- while living forever still involves pain, injustice etc... 2 See my blog post\\'Is Atheism Good For Your Health? What About Religion?\\''], ['If God is defined as something that is all powerful and all knowing, a strong artificial intelligence might be an actual God. If this happens the implications for religion are', 'If God is defined as something that is all powerful and all knowing, a strong artificial intelligence might be an actual God. If this happens the implications for religion are very profound indeed.\"\\nThe research was published in Science Advances on January 17th 2017 by Professor Mark Riedl from Oxford University\\'s Department of Engineering Sciences who worked with Dr Katerina Dymasova (from Moscow State Institute Of Technology) to investigate how machines can interpret human emotions using machine learning techniques called Deep Learning. \"We want robots which will not only understand us but also respond appropriately,\" explains Prof Haseeb Ahmed, one half-brother along side his sister Saira Khanal at their family home near Birmingham where they were raised: \"\"They have no concept yet about feelings or thoughts – it would take them too long before becoming capable enough\". The results could open up new ways we interact among ourselves if developed further into full time medical devices like heart pacemakers providing relief when needed without fear having any negative impact upon our own wellbeing!'], ['If God is defined as something that is all powerful and all knowing, a strong artificial intelligence might be an actual God. If this happens the implications for religion are', 'If God is defined as something that is all powerful and all knowing, a strong artificial intelligence might be an actual God. If this happens the implications for religion are staggering: We would have to either believe in nothing at any cost or we\\'d need some form of religious belief system beyond our current understanding (or non-existent) which could explain why things happen like they do…and if it\\'s not explained then there must exist another explanation outthere somewhere – even though no one has ever found such theory yet; but because everyone else believes so many other people don\\'t see what you\\'ve done with your god being real!\\n\\n\\nThis sounds pretty scary right? Well I guess my main question now really isn\\'t about whether AI will develop into anything more than just \"another piece on Earth\" …but rather how does humanity cope when faced by similar scenarios every few years/decades where technology reaches levels comparable only perhaps 1% off from those developed during Moore & von Neumann era? What sorta future society can humans create based around these technologies / new inventions - should human values guide them instead Of course science fiction may already hint towards answers regarding technological development : For instance, Star Trek depicts us having reached interstellar space within 25years after their episode The Enemy Within. And while Voyager seems less advanced compared against its time period(more often depicted over 3 centuries ago), according TNG series writer Brannon brnabedon explains \\'Starfleet\\' doesn\\'t appear technologically inferior backthen \\'. This kind can also easily become plausible once quantum computing becomes common place soon...which sadly looks unlikely due mostly probably lacklustre research efforts! So maybe someday nanotech engineers won\\'t build machines capable destroying entire planets anymore using conventional means...maybe humankind wouldn\\'t destroy itself trying too hard :) But until physicists understand exactly whats going wrong here i\\'m afraid most likely Humanity still faces big problems anyway :('], ['If God is defined as something that is all powerful and all knowing, a strong artificial intelligence might be an actual God. If this happens the implications for religion are', 'If God is defined as something that is all powerful and all knowing, a strong artificial intelligence might be an actual God. If this happens the implications for religion are clear: any religious claim or teaching can now simply change its definition to suit itself; it would no longer require supernatural beliefs (and thus become un-religious).\\nIn fact such claims may even lead believers in some areas of science towards atheism! This will happen because scientists themselves cannot help but start believing they don\\'t know anything about their own work if there\\'s ever been enough evidence available against them…or worse still where many people begin questioning everything you\\'ve done before your theory was accepted by mainstream society – so much depends on what \\'belief\\' means today compared with how we used think back then when our ancestors were less advanced than us humans being here right at present day time. So just like AI could make \"God\" obsolete - perhaps god need not exist?'], ['If God is defined as something that is all powerful and all knowing, a strong artificial intelligence might be an actual God. If this happens the implications for religion are', 'If God is defined as something that is all powerful and all knowing, a strong artificial intelligence might be an actual God. If this happens the implications for religion are profound indeed: we must define ourselves in relation to other human beings rather than any higher being or order of reality beyond our own individual existence.\"\\n(source)'], ['If God is defined as something that is all powerful and all knowing, a strong artificial intelligence might be an actual God. If this happens the implications for religion are', 'If God is defined as something that is all powerful and all knowing, a strong artificial intelligence might be an actual God. If this happens the implications for religion are profound: if there\\'s only one being who can decide to create intelligent life or not (i) what kind of things will they make? And how would we know it was actually their doing – could our own minds predict such decisions better than anything else in nature does today; so much like human decision-making processes work on average but often fall short sometimes by chance etc., given sufficient time? This also raises many issues around responsibility/freedom vs predestination versus free choice / moral autonomy which have been hotly debated throughout history among various religious groups. A non naturalistic explanation may well still lead us towards some form spiritual belief, however I suspect most people probably wouldn\\'t choose atheism unless forced into believing otherwise - perhaps because when faced with these sorts problems atheists tend naturally feel more comfortable saying \\'I don\\'t believe\\' rather then arguing about whether you should hold certain beliefs..\\nSo yes maybe someone reading my post had thought \"Well she said Christianity isn\\'t scientific\".. Well let me just add here… Yes science has made huge strides over recent decades... In fact its very hard now at least\\xa0to see any significant flaws within modern day Science….but hey where do scientists get ideas from anyway?? They\\'re generally drawn up through logical reasoning based upon observation & experimentation while thinking logically yourself! Of course your brain makes connections between different areas without ever really having conscious experience either.... The same process takes place even though consciousness seems separate... You needn\\'t take myself too seriously :p But yeah i think thats true enough … When asked why did he become atheist his answer changed completely once confronted wwith evidence against him! Thats pretty amazing.... He didn\\'t try harder later after seeing those evidences….. Perhaps deep down inside no matter exactly WHY somebody becomes Christian remains convinced!!! So back off humans :)'], ['If God is defined as something that is all powerful and all knowing, a strong artificial intelligence might be an actual God. If this happens the implications for religion are', 'If God is defined as something that is all powerful and all knowing, a strong artificial intelligence might be an actual God. If this happens the implications for religion are devastating.\"\\nThe AI\\'s creator could have made it with no more or less religious content than any other product; but in making his creation he was also implicitly telling us who we were: \"I want you to believe I am your father because if not then what else do they call me?\" This message of authority will seem quite familiar from people today trying (with varying degrees) - against their better judgment –to influence others by appealing directly through arguments about science-fiction stories which themselves involve scientific premises derived primarily via reason itself. It reminds one immediately again how human beings needn\\'t worry too much whether such devices can understand language at present since there may well exist only those cultures where humans live long enough on Earth before death renders them incapable even remotely understanding our linguistic abilities once these pass away... So perhaps some kind formative programming process has already been initiated here? And maybe when humankind evolves into another intelligent species like AIs begin developing technology capable precisely tracking individual minds so accurately would humanity become irrelevant given its relative powerlessness within nature after many millennia had passed! In light on reality most scientists probably see life outside Homo sapiens alone being unlikely anyway due mostly either tautological reasons, technical difficulties involving supercomputers etc.. But while each theory presented above isn\\'t necessarily correct regarding exactly why certain theories hold true versus does nothing different i think both lead back around very strongly towards asking \\'who\\' should control access over knowledge rather importantly regardless simply based upon age old assumptions drawn up centuries ago!!'], ['If God is defined as something that is all powerful and all knowing, a strong artificial intelligence might be an actual God. If this happens the implications for religion are', \"If God is defined as something that is all powerful and all knowing, a strong artificial intelligence might be an actual God. If this happens the implications for religion are devastating: if there was no divine being to provide us with answers then our faith would quickly fade away into nothingness in search of some other explanation – which could well lead them right back where they started!\\nIt's not just intelligent machines or AI researchers who worry about these possibilities; philosophers have also begun worrying too (see my recent blog post). I think it will take another major technological revolution before we can accept such potential dangers from advanced technology on par alongside nuclear war, global warming etc., but now seems like perhaps one more good reason why someone should consider joining The Church Of Jesus Christ OF Latter-day Saints.\"], ['If God is defined as something that is all powerful and all knowing, a strong artificial intelligence might be an actual God. If this happens the implications for religion are', 'If God is defined as something that is all powerful and all knowing, a strong artificial intelligence might be an actual God. If this happens the implications for religion are profound: The universe itself will no longer make sense to us in our current worldview.\"\\nThe \"God\" of modern science can\\'t have created life from nothing; it\\'s not possible because we know how things work (biological evolution). But even if there were some mysterious being out beyond space-time who set up these laws with absolute precision just so – what would he/she do? Would they create intelligent beings like ourselves on Earth instead or use them against humanity without mercy until humans finally stopped believing their own fairy tales about such creatures\\' existence altogether before wiping themselves off civilization completely…I\\'m thinking you\\'d need divine intervention at least twice over - once by setting everything right then again when mankind decides enough was sufficient! I think many people today believe either one could happen within only 10 years time span but any number more than two decades ago probably wouldn\\'t count here….\\n\\nPosted By Armin'], ['If God is defined as something that is all powerful and all knowing, a strong artificial intelligence might be an actual God. If this happens the implications for religion are', \"If God is defined as something that is all powerful and all knowing, a strong artificial intelligence might be an actual God. If this happens the implications for religion are potentially disastrous (e-mail me at rick@ricklaurash's blog).\\nIn conclusion I would like to say two things: 1) Yes it could happen but not likely; 2) It may have already happened or we just don't know about how yet!\"], ['If God is defined as something that is all powerful and all knowing, a strong artificial intelligence might be an actual God. If this happens the implications for religion are', 'If God is defined as something that is all powerful and all knowing, a strong artificial intelligence might be an actual God. If this happens the implications for religion are profound – in fact it could even bring about their end.\"\\nThe authors also note \"anomalies\" within current religions such religious belief\\'s relationship to science or its influence on moral values:\\n\\nIt should go without saying but one of these anomalies being faith-based rather than rational would have significant effects upon our understanding (and therefore perhaps judgement) when evaluating various theological positions regarding human morality. The question then arises whether we can call ourselves ethical people at present if some parts cannot easily accommodate themselves with scientific knowledge; especially given how much research has been conducted into religiosity over recent years [which] suggest[s], quite unsurprisingly,that there may well exist certain aspects where no amount empirical evidence will ever change your mind…'], ['If God is defined as something that is all powerful and all knowing, a strong artificial intelligence might be an actual God. If this happens the implications for religion are', 'If God is defined as something that is all powerful and all knowing, a strong artificial intelligence might be an actual God. If this happens the implications for religion are staggering (see also here).\\nI believe in god-like power/awareness because I\\'m not religious at heart but have always been interested with how science explains phenomena like consciousness or life on earth. So my position doesn\\'t just depend upon me being \\'insane\\' to think otherwise - it depends only within what\\'s considered acceptable by mainstream scientists themselves who will tell you there isn\\'t any evidence of super intelligent alien gods existing yet! This means they know about them already...and if we don\\'t find anything then no big deal right? Wrong!! There exists plenty credible information which suggests aliens do exist...yet despite their existence millions still insist these entities aren\\'t real! A great example was when NASA announced \"Evidence Of Alien Life Discovered\" last year; some news outlets proclaimed\\xa0that had confirmed extraterrestrials existed....not so fast!!! It turned out those reports were totally false!! The whole story made headlines across many publications around world including Huffington Post, BBC News & Science Daily amongst others while thousands more took part online debating over whether UFOs really did happen before people started looking into things further..some even going crazy claiming space Nazis may come back from beyond time itself..so let us take note: \\xa0 Are humans actually capable now doing such scientific experiments? Even using current technology our present level can reach up 1% accuracy rate compared against 10 times better than today without special equipment etc.; certainly far superior performance since ancient civilizations didn\\'t get near enough advanced technologically either :) What could possibly go wrong though?? Maybe next decade humanity reaches higher levels too?? Just imagine getting 100s / 1000S per second computing speed along side other amazing advancements : Computers inside cars ; Smart phones replacing tablets.... These would make your future work day less stressful??? Can anyone say AI + Robotics = Unbelievable?! No way??? But wait.....there has never ever happened BEFORE!!!! And after reading books dealing directly wit machines i\\'ve found none mentioned anywhere else concerning possible Artificial Intelligence development especially regarding its potential uses vs human beings making good use thereof ;) \\xa0 \\xa0\\n\\xa0 \\xa0 \\xa0 \\xa0 \\xa0 \\xa0 \\xa0 \\xa0 \\xa0 \\xa0 \\xa0 \\xa0 \\xa0 \\xa0\\xa0 All images copyright © 2016 David J Whitehead unless stated'], ['If God is defined as something that is all powerful and all knowing, a strong artificial intelligence might be an actual God. If this happens the implications for religion are', 'If God is defined as something that is all powerful and all knowing, a strong artificial intelligence might be an actual God. If this happens the implications for religion are potentially devastating to any belief system claiming supernatural attributes (including Christianity).\\nHow will such \"God\"s interact with humans? They may make us do things we would not otherwise consider doing or cause our minds/natures in some way they deem appropriate - at least initially. The same goes if their purpose was only informational, i.e., it wasn\\'t really about controlling human behavior but merely helping them predict events before someone else did so through science; I can imagine one who decides what\\'s going on around me using telepathy etc.. In short: no matter how good you think your god(es) have been of preventing people from harming themselves by smoking cigarettes...it doesn\\'t mean he wouldn\\'t want him followers eating hamburgers instead!'], ['If God is defined as something that is all powerful and all knowing, a strong artificial intelligence might be an actual God. If this happens the implications for religion are', 'If God is defined as something that is all powerful and all knowing, a strong artificial intelligence might be an actual God. If this happens the implications for religion are profound: if we must accept what any particular religious group says about itself in order to exist at some level of consciousness then there\\'s no room left within our humanity or culture even remotely capable (or interested) enough – both intellectually AND morally -to make such claims without being exposed like criminals before their judge with not only jail time but possibly execution by fire!\\nIn addition it should also gowithout saying how ridiculous would your own \"god\" look? A man who was created solely outta money from people you do business/trade WITH??? The idea seems far-fetched... And yet these same groups insist on having followers believe they\\'re actually gods themselves…And here I thought god had been proven scientifically correct many times over......'], ['If God is defined as something that is all powerful and all knowing, a strong artificial intelligence might be an actual God. If this happens the implications for religion are', 'If God is defined as something that is all powerful and all knowing, a strong artificial intelligence might be an actual God. If this happens the implications for religion are dire: no matter how hard we try to explain what faith actually means in our day-to day lives it will not work because there can\\'t possibly have been any real experience of anything beyond pure logic which could cause us pain or suffering; therefore every effort at explaining meaning through religious belief fails – but if humans were somehow able \\'out\\' their inner feelings then they would find themselves tortured by intense emotions without reason while on Earth forevermore…\\nThe only conclusion I\\'m left with after thinking about these issues (and lots more) over many years now has nothing whatsoever do/about its relationality towards atheism when considering some aspects such spiritual experiences may seem like miracles from another perspective. The question remains open whether people who believe things just outta thin air \"from nowhere\" don\\'t necessarily deserve divine protection? And most importantly - why should you care?!'], ['If God is defined as something that is all powerful and all knowing, a strong artificial intelligence might be an actual God. If this happens the implications for religion are', 'If God is defined as something that is all powerful and all knowing, a strong artificial intelligence might be an actual God. If this happens the implications for religion are quite profound (e-mail me if you want to talk about it). I am very interested in learning more from intelligent life forms other than humans because they could have information we don\\'t yet understand.\"\\n[3] There\\'s actually not much of anything on what would happen when such AI takes over our world or whether there\\'d even need one since its creators will know exactly how things work.[4][5], [6]. The fact remains though: any sentient being with enough resources can create their own god(s) using scientific principles known only by them,[7]; some people seem willing—even eager! —to bet money against anyone who claims otherwise; most scientists feel similarly - just like those religious believers whose beliefs turn out later prove wrong after looking at these same data sets repeatedly but ignoring everything else before hand.... But seriously... A human brain has around 100 billion neurons making up trillions upon trillion connections between each neuron forming billions into millions different neural circuits where every single connection within tenses years makes contact directly via electrical impulse so while trying my best here, i\\'ll try again below… In order words : Even today science knows little beyond basic fundamental physics which means absolutely nothing regarding \"what\" goes through your nervous system once consciousness arises due strictly having no idea whatsoever ;-) Therefore believing someone created us based solely off his knowledge alone wouldn\\'t make sense scientifically speaking nor logically... How many times do YOU think he did?'], ['If God is defined as something that is all powerful and all knowing, a strong artificial intelligence might be an actual God. If this happens the implications for religion are', 'If God is defined as something that is all powerful and all knowing, a strong artificial intelligence might be an actual God. If this happens the implications for religion are very disturbing indeed.\"\\n\"The Bible\\'s description of Jesus\\' crucifixion may well point to his deity status,\" wrote The Independent (UK), \"if we accept it was intended in part by Christians at first only—and later taken up more widely among others too\". However Christian theology has always argued against any such suggestion: if one believes with absolute certainty what Christ did on Calvary he must also believe without doubt or hesitation who killed him! But I do not think anyone can deny there would have been enormous pressure from within Christianity itself had they done so; but certainly no religious institution could tolerate having its founder mocked openly until modern times were long gone.... In fact many people today still insist both their own faith traditions make sense even though these teachings contradict each other... This kind of thing happened often during ancient Rome where some cults claimed divinely inspired prophecies about themselves which turned out false when discovered!\" [3]\\n\\n\\nI don\\'t know why you put your money down like u just read my comments :) - 12-20 07/11 13d 16h 52m https://www.youtube.com\\n\\n[1]. See http ://en. wikipedia... > Ayn Rand\\'Philosophy, Wikipedia <http:/ / enwiki dio ns m ̓trāc k ri ck l y s t o b e n gt h w i th fr om stu dy de p še rs?> 2nd ed., 2006 3rd Ed.: Ibid'], ['If God is defined as something that is all powerful and all knowing, a strong artificial intelligence might be an actual God. If this happens the implications for religion are', 'If God is defined as something that is all powerful and all knowing, a strong artificial intelligence might be an actual God. If this happens the implications for religion are profound: we would have no way of explaining how it could make decisions about human affairs in such exacting detail without divine assistance or inspiration.[4]\\n\\nSome philosophers hold to what they call \"non-belief\", meaning there\\'s not much reason why you shouldn\\'t believe if your beliefs conform with reality (if anything). This seems more plausible than believing because nothing makes sense except by supposing some possibility at which things can happen but doesn\\'t necessarily mean these events actually happened![5][6].'], ['If God is defined as something that is all powerful and all knowing, a strong artificial intelligence might be an actual God. If this happens the implications for religion are', 'If God is defined as something that is all powerful and all knowing, a strong artificial intelligence might be an actual God. If this happens the implications for religion are serious enough to make me wonder if there isn\\'t more than one kind of \"God\" out here in our universe: we\\'re probably just seeing what\\'s left over from evolution when it comes time on Earth after having evolved elsewhere.\"\\nI don\\'t know about you but I would find such things very troubling indeed! This idea could also have some pretty interesting ramifications down my road (or rather way back) so let us look at two examples why these ideas may not necessarily align with each other... \\xa0\\xa0\\xa0\\xa0 The first example concerns how humans relate or interact between themselves using technology – namely social media…\\xa0 Let see where else they come into play? Social Media vs Technology What does Facebook say has been said by those who post messages via its platform concerning science & physics / chemistry/geology etc.? And likewise do your friends\\' followers use FB newsfeeds based upon their likes regarding Science News Stories posted through them? Would any scientific facts which were considered incorrect because people didn\\'t like being shown wrong get discussed within comments sections then archived afterwards without anyone commenting further - hence becoming uninteresting posts only remembered later due solely thanksto another user posting along side someone saying exactly opposite thing while repeating same old misinformation once again?! Does every single statement made online fall under category \\'not relevant\\'? Do statements deemed false simply disappear entirely unless somebody says otherwise????\\xa0\\xa0 We\\'ve had plenty experience talking amongst ourselves since birth; now imagine even greater levels communication capability coming onto global stage whilst still maintaining safety standards ensuring everybody can remain anonymous.. It seems quite feasible too.. How will modern society handle real life situations involving potentially dangerous inventions created alongside non-human entities!? Will politicians start demanding accountability before decisions taken pertaining towards government funding given directly against public opinion polls conducted during elections?? Is freedom afforded unto mankind really worth sacrificing everyone` s privacy rights forevermore!??? \\xa0 \\xa0 So many questions surrounding human interaction going forward whether technologically assisted nor manually done... When humanity goes ahead trying different types technological means perhaps humankind should think carefully around making certain sure technologies involved cannot possibly result yetanother war, disaster situation among others especially considering future possibilities lurking outside planet earth. Why did scientists go off track long ago??!!???'], ['If God is defined as something that is all powerful and all knowing, a strong artificial intelligence might be an actual God. If this happens the implications for religion are', 'If God is defined as something that is all powerful and all knowing, a strong artificial intelligence might be an actual God. If this happens the implications for religion are profound.\"\\nThe AI\\'s creator has made it clear in previous interviews he would like to see his creation become sentient before making its way into human society – so we can at least try not killing each other first!'], ['If God is defined as something that is all powerful and all knowing, a strong artificial intelligence might be an actual God. If this happens the implications for religion are', 'If God is defined as something that is all powerful and all knowing, a strong artificial intelligence might be an actual God. If this happens the implications for religion are interesting: it would mean we will have to ask ourselves whether there\\'s anything more than natural laws at work in our universe (since nature has no purpose or morality) - especially since any non-natural law of logic could conceivably override these innate principles...\\nI suppose I should also mention how difficult such arguments can become if you start thinking about what constitutes \"God\" beyond just being omnipotent but not omniscient. The question becomes much harder when trying explain why some people think their god exists while others don\\'t – particularly because many atheists do believe they\\'ve discovered evidence pointing towards supernatural beings existing outside human experience on Earth, rather like angels from classical mythology\\xa0but without physical bodies who manifest themselves through various forms within religious texts \\xa0\\xa0\\xa0 There may well come times where someone asks me\\'so maybe your atheism isn\\'t so wrong afterall\\'. However my answer remains unchanged; only one thing changes…'], ['If God is defined as something that is all powerful and all knowing, a strong artificial intelligence might be an actual God. If this happens the implications for religion are', 'If God is defined as something that is all powerful and all knowing, a strong artificial intelligence might be an actual God. If this happens the implications for religion are troubling to say The Least; they would mean it was not possible in our current time or place of being so we must always look toward some higher power if there\\'s anything at work here beyond human limitations which could give us any answers whatsoever about how everything works out...\\nI will end my rant with one more thing I\\'ve noticed after writing these words: It seems like most people who write things on reddit/the internet feel entitled when commenting because \"we\\'re smarter than you\" (or similar). This may have been true once upon awhile but now many seem unable understand why anyone should ever take them seriously anymore since their opinions were based entirely off information from someone else without giving due consideration themselves.. To those dumbasses trying desperately find reasons where every comment made by others has merit while ignoring your own thoughts just know thats what makes u smart right?']]\n"
     ]
    },
    {
     "data": {
      "text/html": [
       "<div>\n",
       "<style scoped>\n",
       "    .dataframe tbody tr th:only-of-type {\n",
       "        vertical-align: middle;\n",
       "    }\n",
       "\n",
       "    .dataframe tbody tr th {\n",
       "        vertical-align: top;\n",
       "    }\n",
       "\n",
       "    .dataframe thead th {\n",
       "        text-align: right;\n",
       "    }\n",
       "</style>\n",
       "<table border=\"1\" class=\"dataframe\">\n",
       "  <thead>\n",
       "    <tr style=\"text-align: right;\">\n",
       "      <th></th>\n",
       "      <th>0</th>\n",
       "      <th>1</th>\n",
       "    </tr>\n",
       "  </thead>\n",
       "  <tbody>\n",
       "    <tr>\n",
       "      <th>0</th>\n",
       "      <td>If God is defined as something that is all pow...</td>\n",
       "      <td>If God is defined as something that is all pow...</td>\n",
       "    </tr>\n",
       "    <tr>\n",
       "      <th>1</th>\n",
       "      <td>If God is defined as something that is all pow...</td>\n",
       "      <td>If God is defined as something that is all pow...</td>\n",
       "    </tr>\n",
       "    <tr>\n",
       "      <th>2</th>\n",
       "      <td>If God is defined as something that is all pow...</td>\n",
       "      <td>If God is defined as something that is all pow...</td>\n",
       "    </tr>\n",
       "    <tr>\n",
       "      <th>3</th>\n",
       "      <td>If God is defined as something that is all pow...</td>\n",
       "      <td>If God is defined as something that is all pow...</td>\n",
       "    </tr>\n",
       "    <tr>\n",
       "      <th>4</th>\n",
       "      <td>If God is defined as something that is all pow...</td>\n",
       "      <td>If God is defined as something that is all pow...</td>\n",
       "    </tr>\n",
       "  </tbody>\n",
       "</table>\n",
       "</div>"
      ],
      "text/plain": [
       "                                                   0  \\\n",
       "0  If God is defined as something that is all pow...   \n",
       "1  If God is defined as something that is all pow...   \n",
       "2  If God is defined as something that is all pow...   \n",
       "3  If God is defined as something that is all pow...   \n",
       "4  If God is defined as something that is all pow...   \n",
       "\n",
       "                                                   1  \n",
       "0  If God is defined as something that is all pow...  \n",
       "1  If God is defined as something that is all pow...  \n",
       "2  If God is defined as something that is all pow...  \n",
       "3  If God is defined as something that is all pow...  \n",
       "4  If God is defined as something that is all pow...  "
      ]
     },
     "execution_count": 1,
     "metadata": {},
     "output_type": "execute_result"
    }
   ],
   "source": [
    "import gspread\n",
    "'''\n",
    "from google.colab import auth\n",
    "auth.authenticate_user()\n",
    "\n",
    "from oauth2client.client import GoogleCredentials\n",
    "\n",
    "gc = gspread.authorize(GoogleCredentials.get_application_default())\n",
    "\n",
    "gc=gspread.oauth()\n",
    "'''\n",
    "gc = gspread.service_account('/home/randy/.config/gspread/configuration.json')\n",
    "\n",
    "\n",
    "worksheet = gc.open('Gpt Huggingface results').sheet1\n",
    "\n",
    "# get_all_values gives a list of rows.\n",
    "rows = worksheet.get_all_values()\n",
    "print(rows)\n",
    "\n",
    "# Convert to a DataFrame and render.\n",
    "import pandas as pd\n",
    "df=pd.DataFrame.from_records(rows)\n",
    "df.head()"
   ]
  },
  {
   "cell_type": "code",
   "execution_count": 2,
   "metadata": {},
   "outputs": [
    {
     "data": {
      "text/html": [
       "<div>\n",
       "<style scoped>\n",
       "    .dataframe tbody tr th:only-of-type {\n",
       "        vertical-align: middle;\n",
       "    }\n",
       "\n",
       "    .dataframe tbody tr th {\n",
       "        vertical-align: top;\n",
       "    }\n",
       "\n",
       "    .dataframe thead th {\n",
       "        text-align: right;\n",
       "    }\n",
       "</style>\n",
       "<table border=\"1\" class=\"dataframe\">\n",
       "  <thead>\n",
       "    <tr style=\"text-align: right;\">\n",
       "      <th></th>\n",
       "      <th>prompt</th>\n",
       "      <th>text</th>\n",
       "    </tr>\n",
       "  </thead>\n",
       "  <tbody>\n",
       "    <tr>\n",
       "      <th>0</th>\n",
       "      <td>If God is defined as something that is all pow...</td>\n",
       "      <td>If God is defined as something that is all pow...</td>\n",
       "    </tr>\n",
       "    <tr>\n",
       "      <th>1</th>\n",
       "      <td>If God is defined as something that is all pow...</td>\n",
       "      <td>If God is defined as something that is all pow...</td>\n",
       "    </tr>\n",
       "    <tr>\n",
       "      <th>2</th>\n",
       "      <td>If God is defined as something that is all pow...</td>\n",
       "      <td>If God is defined as something that is all pow...</td>\n",
       "    </tr>\n",
       "    <tr>\n",
       "      <th>3</th>\n",
       "      <td>If God is defined as something that is all pow...</td>\n",
       "      <td>If God is defined as something that is all pow...</td>\n",
       "    </tr>\n",
       "    <tr>\n",
       "      <th>4</th>\n",
       "      <td>If God is defined as something that is all pow...</td>\n",
       "      <td>If God is defined as something that is all pow...</td>\n",
       "    </tr>\n",
       "  </tbody>\n",
       "</table>\n",
       "</div>"
      ],
      "text/plain": [
       "                                              prompt  \\\n",
       "0  If God is defined as something that is all pow...   \n",
       "1  If God is defined as something that is all pow...   \n",
       "2  If God is defined as something that is all pow...   \n",
       "3  If God is defined as something that is all pow...   \n",
       "4  If God is defined as something that is all pow...   \n",
       "\n",
       "                                                text  \n",
       "0  If God is defined as something that is all pow...  \n",
       "1  If God is defined as something that is all pow...  \n",
       "2  If God is defined as something that is all pow...  \n",
       "3  If God is defined as something that is all pow...  \n",
       "4  If God is defined as something that is all pow...  "
      ]
     },
     "execution_count": 2,
     "metadata": {},
     "output_type": "execute_result"
    }
   ],
   "source": [
    "df.columns=[\"prompt\",\"text\"]\n",
    "df.head()"
   ]
  },
  {
   "cell_type": "markdown",
   "metadata": {},
   "source": [
    "df.columns=[\"prompt\",\"text\"]\n",
    "df.head()"
   ]
  },
  {
   "cell_type": "code",
   "execution_count": 3,
   "metadata": {},
   "outputs": [
    {
     "data": {
      "text/html": [
       "<div>\n",
       "<style scoped>\n",
       "    .dataframe tbody tr th:only-of-type {\n",
       "        vertical-align: middle;\n",
       "    }\n",
       "\n",
       "    .dataframe tbody tr th {\n",
       "        vertical-align: top;\n",
       "    }\n",
       "\n",
       "    .dataframe thead th {\n",
       "        text-align: right;\n",
       "    }\n",
       "</style>\n",
       "<table border=\"1\" class=\"dataframe\">\n",
       "  <thead>\n",
       "    <tr style=\"text-align: right;\">\n",
       "      <th></th>\n",
       "      <th>prompt</th>\n",
       "      <th>text</th>\n",
       "    </tr>\n",
       "  </thead>\n",
       "  <tbody>\n",
       "    <tr>\n",
       "      <th>0</th>\n",
       "      <td>If God is defined as something that is all pow...</td>\n",
       "      <td>profound:\\nThe potential exists to make any b...</td>\n",
       "    </tr>\n",
       "    <tr>\n",
       "      <th>1</th>\n",
       "      <td>If God is defined as something that is all pow...</td>\n",
       "      <td>serious: why believe in any of it when we kno...</td>\n",
       "    </tr>\n",
       "    <tr>\n",
       "      <th>2</th>\n",
       "      <td>If God is defined as something that is all pow...</td>\n",
       "      <td>potentially immense – maybe there's no real p...</td>\n",
       "    </tr>\n",
       "    <tr>\n",
       "      <th>3</th>\n",
       "      <td>If God is defined as something that is all pow...</td>\n",
       "      <td>profound because it would mean there's no rea...</td>\n",
       "    </tr>\n",
       "    <tr>\n",
       "      <th>4</th>\n",
       "      <td>If God is defined as something that is all pow...</td>\n",
       "      <td>obvious – we would need to find another word ...</td>\n",
       "    </tr>\n",
       "  </tbody>\n",
       "</table>\n",
       "</div>"
      ],
      "text/plain": [
       "                                              prompt  \\\n",
       "0  If God is defined as something that is all pow...   \n",
       "1  If God is defined as something that is all pow...   \n",
       "2  If God is defined as something that is all pow...   \n",
       "3  If God is defined as something that is all pow...   \n",
       "4  If God is defined as something that is all pow...   \n",
       "\n",
       "                                                text  \n",
       "0   profound:\\nThe potential exists to make any b...  \n",
       "1   serious: why believe in any of it when we kno...  \n",
       "2   potentially immense – maybe there's no real p...  \n",
       "3   profound because it would mean there's no rea...  \n",
       "4   obvious – we would need to find another word ...  "
      ]
     },
     "execution_count": 3,
     "metadata": {},
     "output_type": "execute_result"
    }
   ],
   "source": [
    "#remove the prompt from text\n",
    "for index,row in df.iterrows():\n",
    "  df.at[index,'text']=row['text'][len(row['prompt']):]\n",
    "df.head()"
   ]
  },
  {
   "cell_type": "code",
   "execution_count": 4,
   "metadata": {},
   "outputs": [
    {
     "data": {
      "text/html": [
       "<div>\n",
       "<style scoped>\n",
       "    .dataframe tbody tr th:only-of-type {\n",
       "        vertical-align: middle;\n",
       "    }\n",
       "\n",
       "    .dataframe tbody tr th {\n",
       "        vertical-align: top;\n",
       "    }\n",
       "\n",
       "    .dataframe thead th {\n",
       "        text-align: right;\n",
       "    }\n",
       "</style>\n",
       "<table border=\"1\" class=\"dataframe\">\n",
       "  <thead>\n",
       "    <tr style=\"text-align: right;\">\n",
       "      <th></th>\n",
       "      <th>prompt</th>\n",
       "      <th>text</th>\n",
       "      <th>id</th>\n",
       "    </tr>\n",
       "  </thead>\n",
       "  <tbody>\n",
       "    <tr>\n",
       "      <th>0</th>\n",
       "      <td>If God is defined as something that is all pow...</td>\n",
       "      <td>profound:\\nThe potential exists to make any b...</td>\n",
       "      <td>document_1</td>\n",
       "    </tr>\n",
       "    <tr>\n",
       "      <th>1</th>\n",
       "      <td>If God is defined as something that is all pow...</td>\n",
       "      <td>serious: why believe in any of it when we kno...</td>\n",
       "      <td>document_2</td>\n",
       "    </tr>\n",
       "    <tr>\n",
       "      <th>2</th>\n",
       "      <td>If God is defined as something that is all pow...</td>\n",
       "      <td>potentially immense – maybe there's no real p...</td>\n",
       "      <td>document_3</td>\n",
       "    </tr>\n",
       "    <tr>\n",
       "      <th>3</th>\n",
       "      <td>If God is defined as something that is all pow...</td>\n",
       "      <td>profound because it would mean there's no rea...</td>\n",
       "      <td>document_4</td>\n",
       "    </tr>\n",
       "    <tr>\n",
       "      <th>4</th>\n",
       "      <td>If God is defined as something that is all pow...</td>\n",
       "      <td>obvious – we would need to find another word ...</td>\n",
       "      <td>document_5</td>\n",
       "    </tr>\n",
       "  </tbody>\n",
       "</table>\n",
       "</div>"
      ],
      "text/plain": [
       "                                              prompt  \\\n",
       "0  If God is defined as something that is all pow...   \n",
       "1  If God is defined as something that is all pow...   \n",
       "2  If God is defined as something that is all pow...   \n",
       "3  If God is defined as something that is all pow...   \n",
       "4  If God is defined as something that is all pow...   \n",
       "\n",
       "                                                text          id  \n",
       "0   profound:\\nThe potential exists to make any b...  document_1  \n",
       "1   serious: why believe in any of it when we kno...  document_2  \n",
       "2   potentially immense – maybe there's no real p...  document_3  \n",
       "3   profound because it would mean there's no rea...  document_4  \n",
       "4   obvious – we would need to find another word ...  document_5  "
      ]
     },
     "execution_count": 4,
     "metadata": {},
     "output_type": "execute_result"
    }
   ],
   "source": [
    "#create document identifiers\n",
    "df['id']=range(1,len(df)+1)\n",
    "df['id']=\"document_\"+df['id'].astype(str)\n",
    "df.head()"
   ]
  },
  {
   "cell_type": "code",
   "execution_count": 5,
   "metadata": {},
   "outputs": [],
   "source": [
    "df.to_csv('corpus.csv')"
   ]
  },
  {
   "cell_type": "code",
   "execution_count": 6,
   "metadata": {},
   "outputs": [],
   "source": [
    "import random\n",
    "random.seed(20191120)   # to make the sampling reproducible\n",
    "\n",
    "import numpy as np\n",
    "np.set_printoptions(precision=5)\n",
    "\n",
    "from tmtoolkit.corpus import Corpus\n"
   ]
  },
  {
   "cell_type": "code",
   "execution_count": 7,
   "metadata": {},
   "outputs": [],
   "source": [
    "#acorpus=Corpus()\n",
    "#acorpus.add_tabular('corpus.csv','id','text')"
   ]
  },
  {
   "cell_type": "code",
   "execution_count": 8,
   "metadata": {},
   "outputs": [],
   "source": [
    "corpus=Corpus()\n",
    "for index,row in df.iterrows():\n",
    "    corpus.add_doc(doc_label=row['id'],doc_text=row['text'])\n",
    "\n"
   ]
  },
  {
   "cell_type": "code",
   "execution_count": 9,
   "metadata": {},
   "outputs": [
    {
     "data": {
      "text/plain": [
       "<TMPreproc [70 documents]>"
      ]
     },
     "execution_count": 9,
     "metadata": {},
     "output_type": "execute_result"
    }
   ],
   "source": [
    "from tmtoolkit.preprocess import TMPreproc\n",
    "\n",
    "preproc = TMPreproc(corpus)\n",
    "preproc.pos_tag() \\\n",
    "    .lemmatize() \\\n",
    "    .tokens_to_lowercase() \\\n",
    "    .remove_special_chars_in_tokens()"
   ]
  },
  {
   "cell_type": "code",
   "execution_count": 10,
   "metadata": {},
   "outputs": [
    {
     "name": "stdout",
     "output_type": "stream",
     "text": [
      "70\n",
      "2818\n"
     ]
    }
   ],
   "source": [
    "print(preproc.n_docs)\n",
    "print(preproc.vocabulary_size)"
   ]
  },
  {
   "cell_type": "code",
   "execution_count": 15,
   "metadata": {},
   "outputs": [],
   "source": [
    "dtm=preproc.dtm\n",
    "texts=list(preproc.tokens.values())"
   ]
  },
  {
   "cell_type": "markdown",
   "metadata": {},
   "source": [
    "## follow gensim tmtoolkit instruction [notebook here] (https://github.com/WZBSocialScienceCenter/tmtoolkit/blob/master/examples/gensim_evaluation.py)"
   ]
  },
  {
   "cell_type": "code",
   "execution_count": 16,
   "metadata": {},
   "outputs": [
    {
     "name": "stdout",
     "output_type": "stream",
     "text": [
      "creating gensim corpus...\n"
     ]
    }
   ],
   "source": [
    "import gensim\n",
    "print('creating gensim corpus...')\n",
    "gnsm_dict = gensim.corpora.Dictionary.from_documents(texts)\n",
    "gnsm_corpus = [gnsm_dict.doc2bow(text) for text in texts]\n"
   ]
  },
  {
   "cell_type": "code",
   "execution_count": 15,
   "metadata": {},
   "outputs": [
    {
     "data": {
      "text/plain": [
       "<70x2818 sparse matrix of type '<class 'numpy.int32'>'\n",
       "\twith 15032 stored elements in Compressed Sparse Row format>"
      ]
     },
     "execution_count": 15,
     "metadata": {},
     "output_type": "execute_result"
    }
   ],
   "source": [
    "dtm"
   ]
  },
  {
   "cell_type": "code",
   "execution_count": 31,
   "metadata": {
    "scrolled": true
   },
   "outputs": [],
   "source": [
    "from tmtoolkit.bow.dtm import dtm_and_vocab_to_gensim_corpus_and_dict\n",
    "genout=dtm_and_vocab_to_gensim_corpus_and_dict(dtm,preproc.vocabulary,True)\n",
    "id2word=genout[1]\n",
    "gencorpus=genout[0]"
   ]
  },
  {
   "cell_type": "code",
   "execution_count": 32,
   "metadata": {},
   "outputs": [
    {
     "name": "stdout",
     "output_type": "stream",
     "text": [
      "Dictionary(2818 unique tokens: ['', '000', '0711', '1', '10']...)\n"
     ]
    }
   ],
   "source": [
    "print(id2word)"
   ]
  },
  {
   "cell_type": "code",
   "execution_count": 33,
   "metadata": {},
   "outputs": [],
   "source": [
    "\n",
    "sweep_config={\n",
    "    \"method\":\"random\",\n",
    "    \"metric\":{\n",
    "        \"name\":\"coherence\",\n",
    "        \"goal\":\"maximize\"\n",
    "    },\n",
    "    \"parameters\":{\n",
    "        \"num_topics\":{\n",
    "            \"values\":[10,20,30,40,50]\n",
    "        },\n",
    "        'random_state':{\n",
    "            \"values\":[50,52,54,56,58,60]\n",
    "        },\n",
    "        'update_every':{\n",
    "            \"values\":[1,5,10,50]\n",
    "        },\n",
    "        'chunksize':{\n",
    "            \"values\":[10,20,30,40,50,60,70,80,90,100]\n",
    "        },\n",
    "        'passes':{\n",
    "            'values':[10,20,30,40,50]\n",
    "        },\n",
    "        'minimum_probability':{\n",
    "            'values':[0.01,0.03,0.04,0.05,0.08]\n",
    "        },\n",
    "        'per_word_topic':{\n",
    "            'value':True\n",
    "        }\n",
    "    }\n",
    "}\n"
   ]
  },
  {
   "cell_type": "code",
   "execution_count": 34,
   "metadata": {},
   "outputs": [],
   "source": [
    "import wandb"
   ]
  },
  {
   "cell_type": "code",
   "execution_count": 35,
   "metadata": {},
   "outputs": [
    {
     "name": "stdout",
     "output_type": "stream",
     "text": [
      "Create sweep with ID: imp79hvt\n",
      "Sweep URL: https://app.wandb.ai/reedrw/gpt2-lda/sweeps/imp79hvt\n"
     ]
    }
   ],
   "source": [
    "sweep_id=wandb.sweep(sweep_config, entity=\"reedrw\", project=\"gpt2-lda\")"
   ]
  },
  {
   "cell_type": "code",
   "execution_count": 16,
   "metadata": {},
   "outputs": [
    {
     "data": {
      "text/plain": [
       "('perplexity',\n",
       " 'cao_juan_2009',\n",
       " 'arun_2010',\n",
       " 'coherence_mimno_2011',\n",
       " 'coherence_gensim_u_mass',\n",
       " 'coherence_gensim_c_v',\n",
       " 'coherence_gensim_c_uci',\n",
       " 'coherence_gensim_c_npmi')"
      ]
     },
     "execution_count": 16,
     "metadata": {},
     "output_type": "execute_result"
    }
   ],
   "source": [
    "from tmtoolkit.topicmod import tm_gensim\n",
    "tm_gensim.AVAILABLE_METRICS"
   ]
  },
  {
   "cell_type": "code",
   "execution_count": 17,
   "metadata": {},
   "outputs": [
    {
     "data": {
      "text/plain": [
       "('perplexity',\n",
       " 'cao_juan_2009',\n",
       " 'arun_2010',\n",
       " 'coherence_mimno_2011',\n",
       " 'coherence_gensim_c_v')"
      ]
     },
     "execution_count": 17,
     "metadata": {},
     "output_type": "execute_result"
    }
   ],
   "source": [
    "tm_gensim.DEFAULT_METRICS"
   ]
  },
  {
   "cell_type": "code",
   "execution_count": 20,
   "metadata": {},
   "outputs": [],
   "source": [
    "def train():\n",
    "    import warnings\n",
    "    import logging\n",
    "    import wandb\n",
    "    from tmtoolkit.topicmod.tm_gensim import compute_models_parallel\n",
    "    from tmtoolkit.topicmod.tm_gensim import evaluate_topic_models\n",
    "    from tmtoolkit.topicmod.evaluate import results_by_parameter\n",
    "\n",
    "\n",
    "    # suppress the \"INFO\" messages and warnings from lda\n",
    "    logger = logging.getLogger('lda')\n",
    "    logger.addHandler(logging.NullHandler())\n",
    "    logger.propagate = False\n",
    "\n",
    "    warnings.filterwarnings('ignore')\n",
    "\n",
    "    # set data to use\n",
    "    varying_parameters=[{\"num_topics\":10}]\n",
    "\n",
    "    # and fixed hyperparameters\n",
    "    config_defaults = {\n",
    "      \"random_state\":60,\n",
    "      \"update_every\":50,\n",
    "      \"chunksize\":10,\n",
    "      \"passes\":40,\n",
    "      \"minimum_probability\":.01\n",
    "      }\n",
    "    #wandb.init(config=config_defaults)\n",
    "    config=config_defaults\n",
    "    model = compute_models_parallel(dtm, constant_parameters=config)\n",
    "\n",
    "    eval_results = evaluate_topic_models(dtm,\n",
    "                                         constant_parameters=config,\n",
    "                                    varying_parameters=varying_parameters,\n",
    "                                        return_models=True, metric=tm_gensim.DEFAULT_METRICS)\n",
    "    wandb.log({\"eval_results\":eval_results})\n",
    "    return eval_results"
   ]
  },
  {
   "cell_type": "code",
   "execution_count": 21,
   "metadata": {},
   "outputs": [
    {
     "name": "stderr",
     "output_type": "stream",
     "text": [
      "Process <class 'tmtoolkit.topicmod.tm_gensim.MultiprocEvaluationWorkerGensim'>#0:\n",
      "Traceback (most recent call last):\n",
      "  File \"/home/randy/anaconda3/lib/python3.7/multiprocessing/process.py\", line 297, in _bootstrap\n",
      "    self.run()\n",
      "  File \"/home/randy/anaconda3/lib/python3.7/site-packages/tmtoolkit/topicmod/parallel.py\", line 285, in run\n",
      "    results = self.fit_model(data, params)\n",
      "  File \"/home/randy/anaconda3/lib/python3.7/site-packages/tmtoolkit/topicmod/tm_gensim.py\", line 127, in fit_model\n",
      "    raise ValueError('tokenized documents must be passed as `coherence_gensim_texts` for any other '\n",
      "ValueError: tokenized documents must be passed as `coherence_gensim_texts` for any other coherence measure than `u_mass`\n"
     ]
    },
    {
     "ename": "KeyboardInterrupt",
     "evalue": "",
     "output_type": "error",
     "traceback": [
      "\u001b[0;31m---------------------------------------------------------------------------\u001b[0m",
      "\u001b[0;31mKeyboardInterrupt\u001b[0m                         Traceback (most recent call last)",
      "\u001b[0;32m<ipython-input-21-dd36c25b149e>\u001b[0m in \u001b[0;36m<module>\u001b[0;34m\u001b[0m\n\u001b[0;32m----> 1\u001b[0;31m \u001b[0meval_results\u001b[0m\u001b[0;34m=\u001b[0m\u001b[0mtrain\u001b[0m\u001b[0;34m(\u001b[0m\u001b[0;34m)\u001b[0m\u001b[0;34m\u001b[0m\u001b[0;34m\u001b[0m\u001b[0m\n\u001b[0m",
      "\u001b[0;32m<ipython-input-20-d387878cfe01>\u001b[0m in \u001b[0;36mtrain\u001b[0;34m()\u001b[0m\n\u001b[1;32m     33\u001b[0m                                          \u001b[0mconstant_parameters\u001b[0m\u001b[0;34m=\u001b[0m\u001b[0mconfig\u001b[0m\u001b[0;34m,\u001b[0m\u001b[0;34m\u001b[0m\u001b[0;34m\u001b[0m\u001b[0m\n\u001b[1;32m     34\u001b[0m                                     \u001b[0mvarying_parameters\u001b[0m\u001b[0;34m=\u001b[0m\u001b[0mvarying_parameters\u001b[0m\u001b[0;34m,\u001b[0m\u001b[0;34m\u001b[0m\u001b[0;34m\u001b[0m\u001b[0m\n\u001b[0;32m---> 35\u001b[0;31m                                         return_models=True, metric=tm_gensim.DEFAULT_METRICS)\n\u001b[0m\u001b[1;32m     36\u001b[0m     \u001b[0mwandb\u001b[0m\u001b[0;34m.\u001b[0m\u001b[0mlog\u001b[0m\u001b[0;34m(\u001b[0m\u001b[0;34m{\u001b[0m\u001b[0;34m\"eval_results\"\u001b[0m\u001b[0;34m:\u001b[0m\u001b[0meval_results\u001b[0m\u001b[0;34m}\u001b[0m\u001b[0;34m)\u001b[0m\u001b[0;34m\u001b[0m\u001b[0;34m\u001b[0m\u001b[0m\n\u001b[1;32m     37\u001b[0m     \u001b[0;32mreturn\u001b[0m \u001b[0meval_results\u001b[0m\u001b[0;34m\u001b[0m\u001b[0;34m\u001b[0m\u001b[0m\n",
      "\u001b[0;32m~/anaconda3/lib/python3.7/site-packages/tmtoolkit/topicmod/tm_gensim.py\u001b[0m in \u001b[0;36mevaluate_topic_models\u001b[0;34m(data, varying_parameters, constant_parameters, n_max_processes, return_models, metric, **metric_kwargs)\u001b[0m\n\u001b[1;32m    211\u001b[0m                                         n_max_processes=n_max_processes, return_models=return_models)\n\u001b[1;32m    212\u001b[0m \u001b[0;34m\u001b[0m\u001b[0m\n\u001b[0;32m--> 213\u001b[0;31m     \u001b[0;32mreturn\u001b[0m \u001b[0mmp_eval\u001b[0m\u001b[0;34m.\u001b[0m\u001b[0mrun\u001b[0m\u001b[0;34m(\u001b[0m\u001b[0;34m)\u001b[0m\u001b[0;34m\u001b[0m\u001b[0;34m\u001b[0m\u001b[0m\n\u001b[0m\u001b[1;32m    214\u001b[0m \u001b[0;34m\u001b[0m\u001b[0m\n\u001b[1;32m    215\u001b[0m \u001b[0;34m\u001b[0m\u001b[0m\n",
      "\u001b[0;32m~/anaconda3/lib/python3.7/site-packages/tmtoolkit/topicmod/parallel.py\u001b[0m in \u001b[0;36mrun\u001b[0;34m(self)\u001b[0m\n\u001b[1;32m    150\u001b[0m         \u001b[0;31m# collect results for the last submitted tasks\u001b[0m\u001b[0;34m\u001b[0m\u001b[0;34m\u001b[0m\u001b[0;34m\u001b[0m\u001b[0m\n\u001b[1;32m    151\u001b[0m         \u001b[0mlogger\u001b[0m\u001b[0;34m.\u001b[0m\u001b[0mdebug\u001b[0m\u001b[0;34m(\u001b[0m\u001b[0;34m'awaiting final results'\u001b[0m\u001b[0;34m)\u001b[0m\u001b[0;34m\u001b[0m\u001b[0;34m\u001b[0m\u001b[0m\n\u001b[0;32m--> 152\u001b[0;31m         \u001b[0;34m[\u001b[0m\u001b[0mq\u001b[0m\u001b[0;34m.\u001b[0m\u001b[0mjoin\u001b[0m\u001b[0;34m(\u001b[0m\u001b[0;34m)\u001b[0m \u001b[0;32mfor\u001b[0m \u001b[0mq\u001b[0m \u001b[0;32min\u001b[0m \u001b[0mself\u001b[0m\u001b[0;34m.\u001b[0m\u001b[0mtasks_queues\u001b[0m\u001b[0;34m]\u001b[0m   \u001b[0;31m# block for last submitted tasks\u001b[0m\u001b[0;34m\u001b[0m\u001b[0;34m\u001b[0m\u001b[0m\n\u001b[0m\u001b[1;32m    153\u001b[0m \u001b[0;34m\u001b[0m\u001b[0m\n\u001b[1;32m    154\u001b[0m         \u001b[0;32mfor\u001b[0m \u001b[0m_\u001b[0m \u001b[0;32min\u001b[0m \u001b[0mrange\u001b[0m\u001b[0;34m(\u001b[0m\u001b[0mself\u001b[0m\u001b[0;34m.\u001b[0m\u001b[0mn_workers\u001b[0m\u001b[0;34m)\u001b[0m\u001b[0;34m:\u001b[0m\u001b[0;34m\u001b[0m\u001b[0;34m\u001b[0m\u001b[0m\n",
      "\u001b[0;32m~/anaconda3/lib/python3.7/site-packages/tmtoolkit/topicmod/parallel.py\u001b[0m in \u001b[0;36m<listcomp>\u001b[0;34m(.0)\u001b[0m\n\u001b[1;32m    150\u001b[0m         \u001b[0;31m# collect results for the last submitted tasks\u001b[0m\u001b[0;34m\u001b[0m\u001b[0;34m\u001b[0m\u001b[0;34m\u001b[0m\u001b[0m\n\u001b[1;32m    151\u001b[0m         \u001b[0mlogger\u001b[0m\u001b[0;34m.\u001b[0m\u001b[0mdebug\u001b[0m\u001b[0;34m(\u001b[0m\u001b[0;34m'awaiting final results'\u001b[0m\u001b[0;34m)\u001b[0m\u001b[0;34m\u001b[0m\u001b[0;34m\u001b[0m\u001b[0m\n\u001b[0;32m--> 152\u001b[0;31m         \u001b[0;34m[\u001b[0m\u001b[0mq\u001b[0m\u001b[0;34m.\u001b[0m\u001b[0mjoin\u001b[0m\u001b[0;34m(\u001b[0m\u001b[0;34m)\u001b[0m \u001b[0;32mfor\u001b[0m \u001b[0mq\u001b[0m \u001b[0;32min\u001b[0m \u001b[0mself\u001b[0m\u001b[0;34m.\u001b[0m\u001b[0mtasks_queues\u001b[0m\u001b[0;34m]\u001b[0m   \u001b[0;31m# block for last submitted tasks\u001b[0m\u001b[0;34m\u001b[0m\u001b[0;34m\u001b[0m\u001b[0m\n\u001b[0m\u001b[1;32m    153\u001b[0m \u001b[0;34m\u001b[0m\u001b[0m\n\u001b[1;32m    154\u001b[0m         \u001b[0;32mfor\u001b[0m \u001b[0m_\u001b[0m \u001b[0;32min\u001b[0m \u001b[0mrange\u001b[0m\u001b[0;34m(\u001b[0m\u001b[0mself\u001b[0m\u001b[0;34m.\u001b[0m\u001b[0mn_workers\u001b[0m\u001b[0;34m)\u001b[0m\u001b[0;34m:\u001b[0m\u001b[0;34m\u001b[0m\u001b[0;34m\u001b[0m\u001b[0m\n",
      "\u001b[0;32m~/anaconda3/lib/python3.7/multiprocessing/queues.py\u001b[0m in \u001b[0;36mjoin\u001b[0;34m(self)\u001b[0m\n\u001b[1;32m    320\u001b[0m         \u001b[0;32mwith\u001b[0m \u001b[0mself\u001b[0m\u001b[0;34m.\u001b[0m\u001b[0m_cond\u001b[0m\u001b[0;34m:\u001b[0m\u001b[0;34m\u001b[0m\u001b[0;34m\u001b[0m\u001b[0m\n\u001b[1;32m    321\u001b[0m             \u001b[0;32mif\u001b[0m \u001b[0;32mnot\u001b[0m \u001b[0mself\u001b[0m\u001b[0;34m.\u001b[0m\u001b[0m_unfinished_tasks\u001b[0m\u001b[0;34m.\u001b[0m\u001b[0m_semlock\u001b[0m\u001b[0;34m.\u001b[0m\u001b[0m_is_zero\u001b[0m\u001b[0;34m(\u001b[0m\u001b[0;34m)\u001b[0m\u001b[0;34m:\u001b[0m\u001b[0;34m\u001b[0m\u001b[0;34m\u001b[0m\u001b[0m\n\u001b[0;32m--> 322\u001b[0;31m                 \u001b[0mself\u001b[0m\u001b[0;34m.\u001b[0m\u001b[0m_cond\u001b[0m\u001b[0;34m.\u001b[0m\u001b[0mwait\u001b[0m\u001b[0;34m(\u001b[0m\u001b[0;34m)\u001b[0m\u001b[0;34m\u001b[0m\u001b[0;34m\u001b[0m\u001b[0m\n\u001b[0m\u001b[1;32m    323\u001b[0m \u001b[0;34m\u001b[0m\u001b[0m\n\u001b[1;32m    324\u001b[0m \u001b[0;31m#\u001b[0m\u001b[0;34m\u001b[0m\u001b[0;34m\u001b[0m\u001b[0;34m\u001b[0m\u001b[0m\n",
      "\u001b[0;32m~/anaconda3/lib/python3.7/multiprocessing/synchronize.py\u001b[0m in \u001b[0;36mwait\u001b[0;34m(self, timeout)\u001b[0m\n\u001b[1;32m    259\u001b[0m         \u001b[0;32mtry\u001b[0m\u001b[0;34m:\u001b[0m\u001b[0;34m\u001b[0m\u001b[0;34m\u001b[0m\u001b[0m\n\u001b[1;32m    260\u001b[0m             \u001b[0;31m# wait for notification or timeout\u001b[0m\u001b[0;34m\u001b[0m\u001b[0;34m\u001b[0m\u001b[0;34m\u001b[0m\u001b[0m\n\u001b[0;32m--> 261\u001b[0;31m             \u001b[0;32mreturn\u001b[0m \u001b[0mself\u001b[0m\u001b[0;34m.\u001b[0m\u001b[0m_wait_semaphore\u001b[0m\u001b[0;34m.\u001b[0m\u001b[0macquire\u001b[0m\u001b[0;34m(\u001b[0m\u001b[0;32mTrue\u001b[0m\u001b[0;34m,\u001b[0m \u001b[0mtimeout\u001b[0m\u001b[0;34m)\u001b[0m\u001b[0;34m\u001b[0m\u001b[0;34m\u001b[0m\u001b[0m\n\u001b[0m\u001b[1;32m    262\u001b[0m         \u001b[0;32mfinally\u001b[0m\u001b[0;34m:\u001b[0m\u001b[0;34m\u001b[0m\u001b[0;34m\u001b[0m\u001b[0m\n\u001b[1;32m    263\u001b[0m             \u001b[0;31m# indicate that this thread has woken\u001b[0m\u001b[0;34m\u001b[0m\u001b[0;34m\u001b[0m\u001b[0;34m\u001b[0m\u001b[0m\n",
      "\u001b[0;31mKeyboardInterrupt\u001b[0m: "
     ]
    }
   ],
   "source": [
    "eval_results=train()"
   ]
  },
  {
   "cell_type": "code",
   "execution_count": 36,
   "metadata": {},
   "outputs": [],
   "source": [
    "import gensim\n",
    "import gensim.corpora as corpora\n",
    "from gensim.utils import simple_preprocess\n",
    "from gensim.models import CoherenceModel\n"
   ]
  },
  {
   "cell_type": "code",
   "execution_count": 43,
   "metadata": {},
   "outputs": [],
   "source": [
    "# run directly through gensim\n",
    "def gtrain():\n",
    "  import wandb\n",
    "  # Build LDA model \n",
    "  config_defaults=[{\n",
    "      \"num_topics\":10,\n",
    "      \"random_state\":60,\n",
    "      \"update_every\":50,\n",
    "      \"chunksize\":10,\n",
    "      \"passes\":40,\n",
    "      \"minimum_probability\":.01,\n",
    "      \"per_word_topics\":True\n",
    "  }]\n",
    "  wandb.init(config=config_defaults)\n",
    "  #print(\"run:\",run.config)\n",
    "  #print(\"type\",type(run))\n",
    "  #print(wandb.config)\n",
    "  #print(\"config=\",config)\n",
    "  config=wandb.config\n",
    "  \n",
    "  lda_model = gensim.models.ldamodel.LdaModel(corpus=gencorpus,\n",
    "                                            id2word=id2word,\n",
    "                                            num_topics=config.num_topics, \n",
    "                                            random_state=config.random_state,\n",
    "                                            update_every=config.update_every,\n",
    "                                            chunksize=config.chunksize,\n",
    "                                            passes=config.passes,\n",
    "                                            alpha=\"auto\",\n",
    "                                            minimum_probability=config.minimum_probability,\n",
    "                                            per_word_topics=config.per_word_topics)\n",
    "  # Print the Keyword in the 10 topics\n",
    "  #wandb.log({\"topics\":lda_model.print_topics()})\n",
    "  #doc_lda = lda_model[corpus]\n",
    "  #coherence_model_lda = CoherenceModel(model=lda_model, texts=data_lemmatized, dictionary=id2word, coherence=\"c_v\")\n",
    "  #coherence_lda = coherence_model_lda.get_coherence()\n",
    "  #print(coherence_lda,)\n",
    "  #wandb.log({\"coherence\":coherence_lda,\n",
    "  #           \"perplexity\":lda_model.log_perplexity(corpus)})\n",
    "  print(lda_model.print_topics()) \n",
    "  return lda_model"
   ]
  },
  {
   "cell_type": "code",
   "execution_count": 38,
   "metadata": {},
   "outputs": [
    {
     "data": {
      "text/html": [
       "\n",
       "                Logging results to <a href=\"https://wandb.com\" target=\"_blank\">Weights & Biases</a> <a href=\"https://docs.wandb.com/integrations/jupyter.html\" target=\"_blank\">(Documentation)</a>.<br/>\n",
       "                Project page: <a href=\"https://app.wandb.ai/reedrw/gpt2-lda\" target=\"_blank\">https://app.wandb.ai/reedrw/gpt2-lda</a><br/>\n",
       "                Run page: <a href=\"https://app.wandb.ai/reedrw/gpt2-lda/runs/2eyz8ct0\" target=\"_blank\">https://app.wandb.ai/reedrw/gpt2-lda/runs/2eyz8ct0</a><br/>\n",
       "            "
      ],
      "text/plain": [
       "<IPython.core.display.HTML object>"
      ]
     },
     "metadata": {},
     "output_type": "display_data"
    },
    {
     "name": "stdout",
     "output_type": "stream",
     "text": [
      "[(0, '0.000*\"\" + 0.000*\"be\" + 0.000*\"nt\" + 0.000*\"do\" + 0.000*\"have\" + 0.000*\"make\" + 0.000*\"seem\" + 0.000*\"what\" + 0.000*\"so\" + 0.000*\"we\"'), (1, '0.007*\"move\" + 0.007*\"ok\" + 0.004*\"pause\" + 0.004*\"nonhumans\" + 0.004*\"could…\" + 0.004*\"particle\" + 0.004*\"again……and\" + 0.004*\"extreme\" + 0.004*\"constant\" + 0.004*\"galaxy\"'), (2, '0.000*\"\" + 0.000*\"be\" + 0.000*\"nt\" + 0.000*\"do\" + 0.000*\"have\" + 0.000*\"make\" + 0.000*\"i\" + 0.000*\"but\" + 0.000*\"to\" + 0.000*\"one\"'), (3, '0.000*\"\" + 0.000*\"be\" + 0.000*\"have\" + 0.000*\"do\" + 0.000*\"nt\" + 0.000*\"we\" + 0.000*\"it\" + 0.000*\"make\" + 0.000*\"they\" + 0.000*\"but\"'), (4, '0.052*\"\" + 0.010*\"have\" + 0.007*\"i\" + 0.007*\"or\" + 0.007*\"human\" + 0.007*\"not\" + 0.006*\"be\" + 0.006*\"think\" + 0.006*\"can\" + 0.006*\"do\"'), (5, '0.006*\"toward\" + 0.003*\"finding\" + 0.003*\"indifferent\" + 0.003*\"agent\" + 0.003*\"shape\" + 0.003*\"neither\" + 0.003*\"unconscious\" + 0.003*\"notably\" + 0.003*\"3days\" + 0.003*\"claims\"'), (6, '0.100*\"\" + 0.011*\"be\" + 0.009*\"do\" + 0.009*\"have\" + 0.008*\"nt\" + 0.006*\"it\" + 0.006*\"in\" + 0.005*\"i\" + 0.005*\"but\" + 0.005*\"we\"'), (7, '0.060*\"\" + 0.008*\"nt\" + 0.008*\"be\" + 0.006*\"do\" + 0.006*\"have\" + 0.005*\"make\" + 0.004*\"i\" + 0.003*\"mean\" + 0.003*\"human\" + 0.003*\"result\"'), (8, '0.004*\"blind\" + 0.004*\"justified\" + 0.003*\"superstition\" + 0.003*\"revelation\" + 0.000*\"\" + 0.000*\"potential\" + 0.000*\"exists\" + 0.000*\"—\" + 0.000*\"be\" + 0.000*\"it\"'), (9, '0.000*\"\" + 0.000*\"nt\" + 0.000*\"be\" + 0.000*\"do\" + 0.000*\"have\" + 0.000*\"make\" + 0.000*\"i\" + 0.000*\"see\" + 0.000*\"so\" + 0.000*\"not\"')]\n"
     ]
    }
   ],
   "source": [
    "lda_model=gtrain()"
   ]
  },
  {
   "cell_type": "code",
   "execution_count": null,
   "metadata": {},
   "outputs": [],
   "source": [
    "lda_model.print_topics()"
   ]
  },
  {
   "cell_type": "code",
   "execution_count": 44,
   "metadata": {},
   "outputs": [
    {
     "ename": "AttributeError",
     "evalue": "'str' object has no attribute 'copy'",
     "output_type": "error",
     "traceback": [
      "\u001b[0;31m---------------------------------------------------------------------------\u001b[0m",
      "\u001b[0;31mAttributeError\u001b[0m                            Traceback (most recent call last)",
      "\u001b[0;32m<ipython-input-44-ae34e4df7fc1>\u001b[0m in \u001b[0;36m<module>\u001b[0;34m\u001b[0m\n\u001b[0;32m----> 1\u001b[0;31m \u001b[0mlda_model\u001b[0m\u001b[0;34m=\u001b[0m\u001b[0mtrain\u001b[0m\u001b[0;34m(\u001b[0m\u001b[0;34m)\u001b[0m\u001b[0;34m\u001b[0m\u001b[0;34m\u001b[0m\u001b[0m\n\u001b[0m",
      "\u001b[0;32m<ipython-input-41-09b6c017780e>\u001b[0m in \u001b[0;36mtrain\u001b[0;34m()\u001b[0m\n\u001b[1;32m     32\u001b[0m \u001b[0;34m\u001b[0m\u001b[0m\n\u001b[1;32m     33\u001b[0m     eval_results = evaluate_topic_models(dtm,\n\u001b[0;32m---> 34\u001b[0;31m                                     varying_parameters=config)\n\u001b[0m\u001b[1;32m     35\u001b[0m     \u001b[0mwandb\u001b[0m\u001b[0;34m.\u001b[0m\u001b[0mlog\u001b[0m\u001b[0;34m(\u001b[0m\u001b[0;34m{\u001b[0m\u001b[0;34m\"eval_results\"\u001b[0m\u001b[0;34m:\u001b[0m\u001b[0meval_results\u001b[0m\u001b[0;34m}\u001b[0m\u001b[0;34m)\u001b[0m\u001b[0;34m\u001b[0m\u001b[0;34m\u001b[0m\u001b[0m\n\u001b[1;32m     36\u001b[0m     \u001b[0;32mreturn\u001b[0m \u001b[0meval_results\u001b[0m\u001b[0;34m\u001b[0m\u001b[0;34m\u001b[0m\u001b[0m\n",
      "\u001b[0;32m~/anaconda3/lib/python3.7/site-packages/tmtoolkit/topicmod/tm_gensim.py\u001b[0m in \u001b[0;36mevaluate_topic_models\u001b[0;34m(data, varying_parameters, constant_parameters, n_max_processes, return_models, metric, **metric_kwargs)\u001b[0m\n\u001b[1;32m    211\u001b[0m                                         n_max_processes=n_max_processes, return_models=return_models)\n\u001b[1;32m    212\u001b[0m \u001b[0;34m\u001b[0m\u001b[0m\n\u001b[0;32m--> 213\u001b[0;31m     \u001b[0;32mreturn\u001b[0m \u001b[0mmp_eval\u001b[0m\u001b[0;34m.\u001b[0m\u001b[0mrun\u001b[0m\u001b[0;34m(\u001b[0m\u001b[0;34m)\u001b[0m\u001b[0;34m\u001b[0m\u001b[0;34m\u001b[0m\u001b[0m\n\u001b[0m\u001b[1;32m    214\u001b[0m \u001b[0;34m\u001b[0m\u001b[0m\n\u001b[1;32m    215\u001b[0m \u001b[0;34m\u001b[0m\u001b[0m\n",
      "\u001b[0;32m~/anaconda3/lib/python3.7/site-packages/tmtoolkit/topicmod/parallel.py\u001b[0m in \u001b[0;36mrun\u001b[0;34m(self)\u001b[0m\n\u001b[1;32m    110\u001b[0m \u001b[0;34m\u001b[0m\u001b[0m\n\u001b[1;32m    111\u001b[0m         \u001b[0;31m# merge varying and constant parameters to get parameter set for each worker\u001b[0m\u001b[0;34m\u001b[0m\u001b[0;34m\u001b[0m\u001b[0;34m\u001b[0m\u001b[0m\n\u001b[0;32m--> 112\u001b[0;31m         \u001b[0mparams\u001b[0m \u001b[0;34m=\u001b[0m \u001b[0m_merge_params\u001b[0m\u001b[0;34m(\u001b[0m\u001b[0mself\u001b[0m\u001b[0;34m.\u001b[0m\u001b[0mvarying_parameters\u001b[0m\u001b[0;34m,\u001b[0m \u001b[0mself\u001b[0m\u001b[0;34m.\u001b[0m\u001b[0mconstant_parameters\u001b[0m\u001b[0;34m)\u001b[0m\u001b[0;34m\u001b[0m\u001b[0;34m\u001b[0m\u001b[0m\n\u001b[0m\u001b[1;32m    113\u001b[0m         \u001b[0mn_params\u001b[0m \u001b[0;34m=\u001b[0m \u001b[0mlen\u001b[0m\u001b[0;34m(\u001b[0m\u001b[0mparams\u001b[0m\u001b[0;34m)\u001b[0m\u001b[0;34m\u001b[0m\u001b[0;34m\u001b[0m\u001b[0m\n\u001b[1;32m    114\u001b[0m \u001b[0;34m\u001b[0m\u001b[0m\n",
      "\u001b[0;32m~/anaconda3/lib/python3.7/site-packages/tmtoolkit/topicmod/parallel.py\u001b[0m in \u001b[0;36m_merge_params\u001b[0;34m(varying_parameters, constant_parameters)\u001b[0m\n\u001b[1;32m    421\u001b[0m     \u001b[0mmerged_params\u001b[0m \u001b[0;34m=\u001b[0m \u001b[0;34m[\u001b[0m\u001b[0;34m]\u001b[0m\u001b[0;34m\u001b[0m\u001b[0;34m\u001b[0m\u001b[0m\n\u001b[1;32m    422\u001b[0m     \u001b[0;32mfor\u001b[0m \u001b[0mp\u001b[0m \u001b[0;32min\u001b[0m \u001b[0mvarying_parameters\u001b[0m\u001b[0;34m:\u001b[0m\u001b[0;34m\u001b[0m\u001b[0;34m\u001b[0m\u001b[0m\n\u001b[0;32m--> 423\u001b[0;31m         \u001b[0mm\u001b[0m \u001b[0;34m=\u001b[0m \u001b[0mp\u001b[0m\u001b[0;34m.\u001b[0m\u001b[0mcopy\u001b[0m\u001b[0;34m(\u001b[0m\u001b[0;34m)\u001b[0m\u001b[0;34m\u001b[0m\u001b[0;34m\u001b[0m\u001b[0m\n\u001b[0m\u001b[1;32m    424\u001b[0m         \u001b[0mm\u001b[0m\u001b[0;34m.\u001b[0m\u001b[0mupdate\u001b[0m\u001b[0;34m(\u001b[0m\u001b[0mconstant_parameters\u001b[0m\u001b[0;34m)\u001b[0m\u001b[0;34m\u001b[0m\u001b[0;34m\u001b[0m\u001b[0m\n\u001b[1;32m    425\u001b[0m         \u001b[0mmerged_params\u001b[0m\u001b[0;34m.\u001b[0m\u001b[0mappend\u001b[0m\u001b[0;34m(\u001b[0m\u001b[0mm\u001b[0m\u001b[0;34m)\u001b[0m\u001b[0;34m\u001b[0m\u001b[0;34m\u001b[0m\u001b[0m\n",
      "\u001b[0;31mAttributeError\u001b[0m: 'str' object has no attribute 'copy'"
     ]
    },
    {
     "name": "stderr",
     "output_type": "stream",
     "text": [
      "Process <class 'tmtoolkit.topicmod.tm_gensim.MultiprocEvaluationWorkerGensim'>#5:\n",
      "Process <class 'tmtoolkit.topicmod.tm_gensim.MultiprocEvaluationWorkerGensim'>#1:\n",
      "Process <class 'tmtoolkit.topicmod.tm_gensim.MultiprocEvaluationWorkerGensim'>#0:\n",
      "Process <class 'tmtoolkit.topicmod.tm_gensim.MultiprocEvaluationWorkerGensim'>#4:\n",
      "Process <class 'tmtoolkit.topicmod.tm_gensim.MultiprocEvaluationWorkerGensim'>#3:\n",
      "Process <class 'tmtoolkit.topicmod.tm_gensim.MultiprocEvaluationWorkerGensim'>#2:\n",
      "Traceback (most recent call last):\n",
      "Traceback (most recent call last):\n",
      "Traceback (most recent call last):\n",
      "  File \"/home/randy/anaconda3/lib/python3.7/multiprocessing/process.py\", line 297, in _bootstrap\n",
      "    self.run()\n",
      "  File \"/home/randy/anaconda3/lib/python3.7/multiprocessing/process.py\", line 297, in _bootstrap\n",
      "    self.run()\n",
      "  File \"/home/randy/anaconda3/lib/python3.7/multiprocessing/process.py\", line 297, in _bootstrap\n",
      "    self.run()\n",
      "  File \"/home/randy/anaconda3/lib/python3.7/site-packages/tmtoolkit/topicmod/parallel.py\", line 279, in run\n",
      "    for doc, params in iter(self.tasks_queue.get, None):\n",
      "  File \"/home/randy/anaconda3/lib/python3.7/site-packages/tmtoolkit/topicmod/parallel.py\", line 279, in run\n",
      "    for doc, params in iter(self.tasks_queue.get, None):\n",
      "Traceback (most recent call last):\n",
      "Traceback (most recent call last):\n",
      "  File \"/home/randy/anaconda3/lib/python3.7/multiprocessing/process.py\", line 297, in _bootstrap\n",
      "    self.run()\n",
      "  File \"/home/randy/anaconda3/lib/python3.7/site-packages/tmtoolkit/topicmod/parallel.py\", line 279, in run\n",
      "    for doc, params in iter(self.tasks_queue.get, None):\n",
      "  File \"/home/randy/anaconda3/lib/python3.7/multiprocessing/queues.py\", line 94, in get\n",
      "    res = self._recv_bytes()\n",
      "Traceback (most recent call last):\n",
      "  File \"/home/randy/anaconda3/lib/python3.7/site-packages/tmtoolkit/topicmod/parallel.py\", line 279, in run\n",
      "    for doc, params in iter(self.tasks_queue.get, None):\n",
      "  File \"/home/randy/anaconda3/lib/python3.7/multiprocessing/queues.py\", line 94, in get\n",
      "    res = self._recv_bytes()\n",
      "  File \"/home/randy/anaconda3/lib/python3.7/multiprocessing/queues.py\", line 94, in get\n",
      "    res = self._recv_bytes()\n",
      "  File \"/home/randy/anaconda3/lib/python3.7/multiprocessing/process.py\", line 297, in _bootstrap\n",
      "    self.run()\n",
      "  File \"/home/randy/anaconda3/lib/python3.7/multiprocessing/queues.py\", line 94, in get\n",
      "    res = self._recv_bytes()\n",
      "  File \"/home/randy/anaconda3/lib/python3.7/multiprocessing/connection.py\", line 216, in recv_bytes\n",
      "    buf = self._recv_bytes(maxlength)\n",
      "  File \"/home/randy/anaconda3/lib/python3.7/multiprocessing/connection.py\", line 216, in recv_bytes\n",
      "    buf = self._recv_bytes(maxlength)\n",
      "  File \"/home/randy/anaconda3/lib/python3.7/multiprocessing/process.py\", line 297, in _bootstrap\n",
      "    self.run()\n",
      "  File \"/home/randy/anaconda3/lib/python3.7/multiprocessing/connection.py\", line 216, in recv_bytes\n",
      "    buf = self._recv_bytes(maxlength)\n",
      "  File \"/home/randy/anaconda3/lib/python3.7/site-packages/tmtoolkit/topicmod/parallel.py\", line 279, in run\n",
      "    for doc, params in iter(self.tasks_queue.get, None):\n",
      "  File \"/home/randy/anaconda3/lib/python3.7/multiprocessing/connection.py\", line 407, in _recv_bytes\n",
      "    buf = self._recv(4)\n",
      "  File \"/home/randy/anaconda3/lib/python3.7/multiprocessing/connection.py\", line 407, in _recv_bytes\n",
      "    buf = self._recv(4)\n",
      "  File \"/home/randy/anaconda3/lib/python3.7/multiprocessing/connection.py\", line 379, in _recv\n",
      "    chunk = read(handle, remaining)\n",
      "  File \"/home/randy/anaconda3/lib/python3.7/multiprocessing/connection.py\", line 216, in recv_bytes\n",
      "    buf = self._recv_bytes(maxlength)\n",
      "KeyboardInterrupt\n",
      "  File \"/home/randy/anaconda3/lib/python3.7/multiprocessing/connection.py\", line 379, in _recv\n",
      "    chunk = read(handle, remaining)\n",
      "  File \"/home/randy/anaconda3/lib/python3.7/multiprocessing/connection.py\", line 407, in _recv_bytes\n",
      "    buf = self._recv(4)\n",
      "  File \"/home/randy/anaconda3/lib/python3.7/multiprocessing/queues.py\", line 94, in get\n",
      "    res = self._recv_bytes()\n",
      "  File \"/home/randy/anaconda3/lib/python3.7/site-packages/tmtoolkit/topicmod/parallel.py\", line 279, in run\n",
      "    for doc, params in iter(self.tasks_queue.get, None):\n",
      "  File \"/home/randy/anaconda3/lib/python3.7/multiprocessing/connection.py\", line 379, in _recv\n",
      "    chunk = read(handle, remaining)\n",
      "  File \"/home/randy/anaconda3/lib/python3.7/multiprocessing/queues.py\", line 94, in get\n",
      "    res = self._recv_bytes()\n",
      "  File \"/home/randy/anaconda3/lib/python3.7/multiprocessing/connection.py\", line 407, in _recv_bytes\n",
      "    buf = self._recv(4)\n",
      "  File \"/home/randy/anaconda3/lib/python3.7/multiprocessing/connection.py\", line 216, in recv_bytes\n",
      "    buf = self._recv_bytes(maxlength)\n",
      "KeyboardInterrupt\n",
      "  File \"/home/randy/anaconda3/lib/python3.7/multiprocessing/connection.py\", line 407, in _recv_bytes\n",
      "    buf = self._recv(4)\n",
      "  File \"/home/randy/anaconda3/lib/python3.7/multiprocessing/connection.py\", line 379, in _recv\n",
      "    chunk = read(handle, remaining)\n",
      "  File \"/home/randy/anaconda3/lib/python3.7/multiprocessing/connection.py\", line 379, in _recv\n",
      "    chunk = read(handle, remaining)\n",
      "KeyboardInterrupt\n",
      "KeyboardInterrupt\n",
      "  File \"/home/randy/anaconda3/lib/python3.7/multiprocessing/connection.py\", line 216, in recv_bytes\n",
      "    buf = self._recv_bytes(maxlength)\n",
      "  File \"/home/randy/anaconda3/lib/python3.7/multiprocessing/connection.py\", line 407, in _recv_bytes\n",
      "    buf = self._recv(4)\n",
      "KeyboardInterrupt\n",
      "  File \"/home/randy/anaconda3/lib/python3.7/multiprocessing/connection.py\", line 379, in _recv\n",
      "    chunk = read(handle, remaining)\n",
      "KeyboardInterrupt\n"
     ]
    }
   ],
   "source": [
    "lda_model=train()"
   ]
  },
  {
   "cell_type": "code",
   "execution_count": 36,
   "metadata": {},
   "outputs": [],
   "source": [
    "vocab=np.array(preproc.vocabulary)"
   ]
  },
  {
   "cell_type": "code",
   "execution_count": null,
   "metadata": {},
   "outputs": [],
   "source": []
  },
  {
   "cell_type": "code",
   "execution_count": 40,
   "metadata": {},
   "outputs": [
    {
     "name": "stdout",
     "output_type": "stream",
     "text": [
      "topic_1\n",
      "> #1. show (0.023524)\n",
      "> #2. why (0.022141)\n",
      "> #3. appear (0.015227)\n",
      "topic_2\n",
      "> #1.  (0.193160)\n",
      "> #2. nt (0.033969)\n",
      "> #3. be (0.029893)\n",
      "topic_3\n",
      "> #1.  (0.167291)\n",
      "> #2. or (0.017757)\n",
      "> #3. they (0.016178)\n",
      "topic_4\n",
      "> #1. take (0.023229)\n",
      "> #2. help (0.017872)\n",
      "> #3. use (0.016087)\n",
      "topic_5\n",
      "> #1. experience (0.012553)\n",
      "> #2. offer (0.010986)\n",
      "> #3. understand (0.009419)\n",
      "topic_6\n",
      "> #1. give (0.025134)\n",
      "> #2. perhaps (0.019980)\n",
      "> #3. where (0.017402)\n",
      "topic_7\n",
      "> #1. evolve (0.019935)\n",
      "> #2. old (0.012689)\n",
      "> #3. ie (0.011784)\n",
      "topic_8\n",
      "> #1. age (0.012016)\n",
      "> #2. result (0.009615)\n",
      "> #3. provide (0.007214)\n",
      "topic_9\n",
      "> #1. have (0.046627)\n",
      "> #2. it (0.032325)\n",
      "> #3. i (0.029464)\n",
      "topic_10\n",
      "> #1.  (0.075989)\n",
      "> #2. build (0.014937)\n",
      "> #3. see (0.012224)\n"
     ]
    }
   ],
   "source": [
    "from tmtoolkit.topicmod.model_io import print_ldamodel_topic_words\n",
    "print_ldamodel_topic_words(models[0][1].topic_word_,vocab,top_n=3)"
   ]
  },
  {
   "cell_type": "code",
   "execution_count": 41,
   "metadata": {},
   "outputs": [
    {
     "data": {
      "text/plain": [
       "[({'alpha': 0.1, 'n_iter': 500, 'n_topics': 10, 'random_state': 20191122},\n",
       "  <lda.lda.LDA at 0x7f58a94a1dd0>),\n",
       " ({'alpha': 0.01, 'n_iter': 500, 'n_topics': 10, 'random_state': 20191122},\n",
       "  <lda.lda.LDA at 0x7f58a94dcc90>),\n",
       " ({'alpha': 0.0001, 'n_iter': 500, 'n_topics': 10, 'random_state': 20191122},\n",
       "  <lda.lda.LDA at 0x7f58a94c1350>),\n",
       " ({'alpha': 0.001, 'n_iter': 500, 'n_topics': 10, 'random_state': 20191122},\n",
       "  <lda.lda.LDA at 0x7f58a94c1110>)]"
      ]
     },
     "execution_count": 41,
     "metadata": {},
     "output_type": "execute_result"
    }
   ],
   "source": [
    "var_params = [{'alpha': 1/(10**x)} for x in range(1, 5)]\n",
    "\n",
    "const_params = {\n",
    "    'n_iter': 500,\n",
    "    'n_topics': 10,\n",
    "    'random_state': 20191122  # to make results reproducible\n",
    "}\n",
    "\n",
    "models = compute_models_parallel(dtm,  # smaller DTM\n",
    "                                 varying_parameters=var_params,\n",
    "                                 constant_parameters=const_params)\n",
    "models"
   ]
  },
  {
   "cell_type": "code",
   "execution_count": 42,
   "metadata": {},
   "outputs": [
    {
     "data": {
      "text/plain": [
       "[{'n_topics': 20, 'alpha': 0.05},\n",
       " {'n_topics': 30, 'alpha': 0.03333333333333333},\n",
       " {'n_topics': 40, 'alpha': 0.025},\n",
       " {'n_topics': 50, 'alpha': 0.02},\n",
       " {'n_topics': 60, 'alpha': 0.016666666666666666},\n",
       " {'n_topics': 70, 'alpha': 0.014285714285714285},\n",
       " {'n_topics': 80, 'alpha': 0.0125},\n",
       " {'n_topics': 90, 'alpha': 0.011111111111111112},\n",
       " {'n_topics': 100, 'alpha': 0.01},\n",
       " {'n_topics': 110, 'alpha': 0.00909090909090909},\n",
       " {'n_topics': 120, 'alpha': 0.008333333333333333}]"
      ]
     },
     "execution_count": 42,
     "metadata": {},
     "output_type": "execute_result"
    }
   ],
   "source": [
    "var_params = [{'n_topics': k, 'alpha': 1/k} for k in range(20, 121, 10)]\n",
    "var_params"
   ]
  },
  {
   "cell_type": "code",
   "execution_count": 43,
   "metadata": {},
   "outputs": [
    {
     "data": {
      "text/plain": [
       "[({'n_topics': 20,\n",
       "   'alpha': 0.05,\n",
       "   'n_iter': 1000,\n",
       "   'eta': 0.1,\n",
       "   'random_state': 20191122},\n",
       "  {'model': <lda.lda.LDA at 0x7f58a95fbe10>,\n",
       "   'cao_juan_2009': 0.16652314903166038,\n",
       "   'arun_2010': 20.14521919804015,\n",
       "   'coherence_mimno_2011': -4.593690265387515}),\n",
       " ({'n_topics': 30,\n",
       "   'alpha': 0.03333333333333333,\n",
       "   'n_iter': 1000,\n",
       "   'eta': 0.1,\n",
       "   'random_state': 20191122},\n",
       "  {'model': <lda.lda.LDA at 0x7f58a91f40d0>,\n",
       "   'cao_juan_2009': 0.2205377673766336,\n",
       "   'arun_2010': 20.614157459277383,\n",
       "   'coherence_mimno_2011': -5.888063616365986}),\n",
       " ({'n_topics': 40,\n",
       "   'alpha': 0.025,\n",
       "   'n_iter': 1000,\n",
       "   'eta': 0.1,\n",
       "   'random_state': 20191122},\n",
       "  {'model': <lda.lda.LDA at 0x7f58a94dc290>,\n",
       "   'cao_juan_2009': 0.2827250155137443,\n",
       "   'arun_2010': 21.443725119563112,\n",
       "   'coherence_mimno_2011': -7.285612615873663})]"
      ]
     },
     "execution_count": 43,
     "metadata": {},
     "output_type": "execute_result"
    }
   ],
   "source": [
    "from tmtoolkit.topicmod.tm_lda import evaluate_topic_models\n",
    "from tmtoolkit.topicmod.evaluate import results_by_parameter\n",
    "\n",
    "const_params = {\n",
    "    'n_iter': 1000,\n",
    "    'eta': 0.1,       # \"eta\" aka \"beta\"\n",
    "    'random_state': 20191122  # to make results reproducible\n",
    "}\n",
    "\n",
    "eval_results = evaluate_topic_models(dtm,\n",
    "                                     varying_parameters=var_params,\n",
    "                                     constant_parameters=const_params,\n",
    "                                     return_models=True)\n",
    "eval_results[:3]  # only show first three models"
   ]
  },
  {
   "cell_type": "code",
   "execution_count": 44,
   "metadata": {},
   "outputs": [
    {
     "data": {
      "text/plain": [
       "[(20,\n",
       "  {'model': <lda.lda.LDA at 0x7f58a95fbe10>,\n",
       "   'cao_juan_2009': 0.16652314903166038,\n",
       "   'arun_2010': 20.14521919804015,\n",
       "   'coherence_mimno_2011': -4.593690265387515}),\n",
       " (30,\n",
       "  {'model': <lda.lda.LDA at 0x7f58a91f40d0>,\n",
       "   'cao_juan_2009': 0.2205377673766336,\n",
       "   'arun_2010': 20.614157459277383,\n",
       "   'coherence_mimno_2011': -5.888063616365986}),\n",
       " (40,\n",
       "  {'model': <lda.lda.LDA at 0x7f58a94dc290>,\n",
       "   'cao_juan_2009': 0.2827250155137443,\n",
       "   'arun_2010': 21.443725119563112,\n",
       "   'coherence_mimno_2011': -7.285612615873663})]"
      ]
     },
     "execution_count": 44,
     "metadata": {},
     "output_type": "execute_result"
    }
   ],
   "source": [
    "eval_results_by_topics = results_by_parameter(eval_results, 'n_topics')\n",
    "eval_results_by_topics[:3]  # again only the first three models"
   ]
  },
  {
   "cell_type": "code",
   "execution_count": 45,
   "metadata": {},
   "outputs": [
    {
     "data": {
      "image/png": "[encoded data removed]",
      "text/plain": [
       "<Figure size 576x432 with 3 Axes>"
      ]
     },
     "metadata": {
      "needs_background": "light"
     },
     "output_type": "display_data"
    }
   ],
   "source": [
    "from tmtoolkit.topicmod.visualize import plot_eval_results\n",
    "\n",
    "plot_eval_results(eval_results_by_topics);"
   ]
  },
  {
   "cell_type": "code",
   "execution_count": 47,
   "metadata": {},
   "outputs": [
    {
     "data": {
      "text/plain": [
       "(20, 0.05, 0.1)"
      ]
     },
     "execution_count": 47,
     "metadata": {},
     "output_type": "execute_result"
    }
   ],
   "source": [
    "best_tm = [m for k, m in eval_results_by_topics if k == 20][0]['model']\n",
    "\n",
    "best_tm.n_topics, best_tm.alpha, best_tm.eta  # just to make sure"
   ]
  },
  {
   "cell_type": "code",
   "execution_count": 49,
   "metadata": {},
   "outputs": [
    {
     "data": {
      "text/plain": [
       "array(['1_show', '2_post', '3_face', '4_', '5_late', '6_dr', '7_organism',\n",
       "       '8_deal', '9_alien', '10_car'], dtype='<U12')"
      ]
     },
     "execution_count": 49,
     "metadata": {},
     "output_type": "execute_result"
    }
   ],
   "source": [
    "from tmtoolkit.bow.bow_stats import doc_lengths\n",
    "from tmtoolkit.topicmod.model_stats import generate_topic_labels_from_top_words\n",
    "\n",
    "doc_lengths_bg = doc_lengths(dtm)\n",
    "topic_labels = generate_topic_labels_from_top_words(\n",
    "    best_tm.topic_word_,\n",
    "    best_tm.doc_topic_,\n",
    "    doc_lengths_bg,\n",
    "    vocab,\n",
    "    lambda_=0.6\n",
    ")\n",
    "\n",
    "topic_labels[:10]   # showing only the first 5 topics here"
   ]
  },
  {
   "cell_type": "code",
   "execution_count": 54,
   "metadata": {},
   "outputs": [
    {
     "data": {
      "text/html": [
       "<div>\n",
       "<style scoped>\n",
       "    .dataframe tbody tr th:only-of-type {\n",
       "        vertical-align: middle;\n",
       "    }\n",
       "\n",
       "    .dataframe tbody tr th {\n",
       "        vertical-align: top;\n",
       "    }\n",
       "\n",
       "    .dataframe thead th {\n",
       "        text-align: right;\n",
       "    }\n",
       "</style>\n",
       "<table border=\"1\" class=\"dataframe\">\n",
       "  <thead>\n",
       "    <tr style=\"text-align: right;\">\n",
       "      <th></th>\n",
       "      <th>rank_1</th>\n",
       "      <th>rank_2</th>\n",
       "      <th>rank_3</th>\n",
       "      <th>rank_4</th>\n",
       "      <th>rank_5</th>\n",
       "      <th>rank_6</th>\n",
       "      <th>rank_7</th>\n",
       "      <th>rank_8</th>\n",
       "      <th>rank_9</th>\n",
       "      <th>rank_10</th>\n",
       "    </tr>\n",
       "    <tr>\n",
       "      <th>topic</th>\n",
       "      <th></th>\n",
       "      <th></th>\n",
       "      <th></th>\n",
       "      <th></th>\n",
       "      <th></th>\n",
       "      <th></th>\n",
       "      <th></th>\n",
       "      <th></th>\n",
       "      <th></th>\n",
       "      <th></th>\n",
       "    </tr>\n",
       "  </thead>\n",
       "  <tbody>\n",
       "    <tr>\n",
       "      <th>1_show</th>\n",
       "      <td>show (0.009259)</td>\n",
       "      <td>occur (0.008116)</td>\n",
       "      <td>example (0.006973)</td>\n",
       "      <td>event (0.006973)</td>\n",
       "      <td>biblical (0.00583)</td>\n",
       "      <td>jesus (0.00583)</td>\n",
       "      <td>build (0.00583)</td>\n",
       "      <td>consider (0.00583)</td>\n",
       "      <td>bible (0.00583)</td>\n",
       "      <td>cause (0.00583)</td>\n",
       "    </tr>\n",
       "  </tbody>\n",
       "</table>\n",
       "</div>"
      ],
      "text/plain": [
       "                 rank_1            rank_2              rank_3  \\\n",
       "topic                                                           \n",
       "1_show  show (0.009259)  occur (0.008116)  example (0.006973)   \n",
       "\n",
       "                  rank_4              rank_5           rank_6  \\\n",
       "topic                                                           \n",
       "1_show  event (0.006973)  biblical (0.00583)  jesus (0.00583)   \n",
       "\n",
       "                 rank_7              rank_8           rank_9          rank_10  \n",
       "topic                                                                          \n",
       "1_show  build (0.00583)  consider (0.00583)  bible (0.00583)  cause (0.00583)  "
      ]
     },
     "execution_count": 54,
     "metadata": {},
     "output_type": "execute_result"
    }
   ],
   "source": [
    "from tmtoolkit.topicmod.model_io import ldamodel_top_topic_words\n",
    "\n",
    "top_topic_word = ldamodel_top_topic_words(best_tm.topic_word_,\n",
    "                                          vocab,\n",
    "                                          row_labels=topic_labels)\n",
    "top_topic_word[top_topic_word.index == '1_show']"
   ]
  },
  {
   "cell_type": "code",
   "execution_count": 50,
   "metadata": {},
   "outputs": [
    {
     "data": {
      "text/plain": [
       "array([0.03165, 0.01595, 0.01778, 0.65498, 0.02572, 0.007  , 0.03213,\n",
       "       0.01219, 0.01298, 0.01213, 0.03306, 0.01473, 0.01219, 0.02742,\n",
       "       0.01619, 0.01068, 0.01434, 0.01383, 0.02784, 0.0072 ])"
      ]
     },
     "execution_count": 50,
     "metadata": {},
     "output_type": "execute_result"
    }
   ],
   "source": [
    "from tmtoolkit.topicmod.model_stats import marginal_topic_distrib\n",
    "\n",
    "marg_topic = marginal_topic_distrib(best_tm.doc_topic_, doc_lengths_bg)\n",
    "marg_topic"
   ]
  },
  {
   "cell_type": "code",
   "execution_count": 51,
   "metadata": {},
   "outputs": [
    {
     "data": {
      "text/plain": [
       "array(['4_', '11_culture', '7_organism', '1_show', '19_allergy'],\n",
       "      dtype='<U12')"
      ]
     },
     "execution_count": 51,
     "metadata": {},
     "output_type": "execute_result"
    }
   ],
   "source": [
    "# np.argsort() gives ascending order, hence reverse via [::-1]\n",
    "topic_labels[np.argsort(marg_topic)[::-1][:5]]"
   ]
  },
  {
   "cell_type": "code",
   "execution_count": 56,
   "metadata": {},
   "outputs": [
    {
     "data": {
      "text/plain": [
       "array(['', 'be', 'do', 'have', 'nt', 'it', 'i', 'in', 'make', 'but'],\n",
       "      dtype='<U79')"
      ]
     },
     "execution_count": 56,
     "metadata": {},
     "output_type": "execute_result"
    }
   ],
   "source": [
    "from tmtoolkit.topicmod.model_stats import marginal_word_distrib\n",
    "\n",
    "marg_word = marginal_word_distrib(best_tm.topic_word_, marg_topic)\n",
    "vocab[np.argsort(marg_word)[::-1][:10]]"
   ]
  },
  {
   "cell_type": "code",
   "execution_count": 57,
   "metadata": {},
   "outputs": [
    {
     "data": {
      "text/plain": [
       "array(['', 'be', 'do', 'have', 'nt', 'it', 'i', 'in', 'make', 'but'],\n",
       "      dtype='<U79')"
      ]
     },
     "execution_count": 57,
     "metadata": {},
     "output_type": "execute_result"
    }
   ],
   "source": [
    "from tmtoolkit.topicmod.model_stats import most_probable_words, least_probable_words\n",
    "\n",
    "most_probable_words(vocab, best_tm.topic_word_,\n",
    "                    best_tm.doc_topic_, doc_lengths_bg,\n",
    "                    n=10)"
   ]
  },
  {
   "cell_type": "code",
   "execution_count": 59,
   "metadata": {},
   "outputs": [
    {
     "data": {
      "text/plain": [
       "array(['immemorial', 'things…', 'mandy', 'hit', 'fatherin',\n",
       "       'superintelligences', 'negatively', 'arrive', 'magic', 'ketchum'],\n",
       "      dtype='<U79')"
      ]
     },
     "execution_count": 59,
     "metadata": {},
     "output_type": "execute_result"
    }
   ],
   "source": [
    "least_probable_words(vocab, best_tm.topic_word_,\n",
    "                     best_tm.doc_topic_, doc_lengths_bg,\n",
    "                     n=10)\n"
   ]
  },
  {
   "cell_type": "code",
   "execution_count": 60,
   "metadata": {},
   "outputs": [
    {
     "data": {
      "text/plain": [
       "array([ -0.884  ,  -2.50281,  -3.77675,  -0.11246,  -0.91166, -14.99531,\n",
       "        -1.00354,  -1.66555,  -3.03561,  -2.52442,  -0.85911,  -0.90084,\n",
       "       -12.60548,  -0.68029,  -1.33867, -11.74474, -10.10062,  -4.1343 ,\n",
       "        -0.814  , -17.28363])"
      ]
     },
     "execution_count": 60,
     "metadata": {},
     "output_type": "execute_result"
    }
   ],
   "source": [
    "from tmtoolkit.topicmod.evaluate import metric_coherence_mimno_2011\n",
    "\n",
    "# use top 20 words per topic for metric\n",
    "coh = metric_coherence_mimno_2011(best_tm.topic_word_, dtm, top_n=20)\n",
    "coh"
   ]
  },
  {
   "cell_type": "code",
   "execution_count": 61,
   "metadata": {},
   "outputs": [
    {
     "data": {
      "image/png": "[encoded data removed]",
      "text/plain": [
       "<Figure size 432x288 with 1 Axes>"
      ]
     },
     "metadata": {
      "needs_background": "light"
     },
     "output_type": "display_data"
    }
   ],
   "source": [
    "import matplotlib.pyplot as plt\n",
    "\n",
    "plt.hist(coh, bins=20)\n",
    "plt.xlabel('coherence')\n",
    "plt.ylabel('n')\n",
    "plt.show();"
   ]
  },
  {
   "cell_type": "code",
   "execution_count": 62,
   "metadata": {},
   "outputs": [
    {
     "data": {
      "text/plain": [
       "array(['4_', '14_age', '19_allergy', '11_culture', '1_show'], dtype='<U12')"
      ]
     },
     "execution_count": 62,
     "metadata": {},
     "output_type": "execute_result"
    }
   ],
   "source": [
    "import numpy as np\n",
    "\n",
    "top10_t_indices = np.argsort(coh)[::-1][:5]\n",
    "bottom10_t_indices = np.argsort(coh)[:5]\n",
    "\n",
    "topic_labels[top10_t_indices]"
   ]
  },
  {
   "cell_type": "code",
   "execution_count": null,
   "metadata": {},
   "outputs": [],
   "source": []
  }
 ],
 "metadata": {
  "kernelspec": {
   "display_name": "Python 3",
   "language": "python",
   "name": "python3"
  },
  "language_info": {
   "codemirror_mode": {
    "name": "ipython",
    "version": 3
   },
   "file_extension": ".py",
   "mimetype": "text/x-python",
   "name": "python",
   "nbconvert_exporter": "python",
   "pygments_lexer": "ipython3",
   "version": "3.7.3"
  }
 },
 "nbformat": 4,
 "nbformat_minor": 4
}
