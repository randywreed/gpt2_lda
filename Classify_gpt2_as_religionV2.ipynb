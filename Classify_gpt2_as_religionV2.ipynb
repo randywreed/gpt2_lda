{
  "nbformat": 4,
  "nbformat_minor": 0,
  "metadata": {
    "accelerator": "GPU",
    "colab": {
      "name": "Classify gpt2 as religionV2.ipynb",
      "provenance": [],
      "collapsed_sections": [
        "ilhv9SBGEPBQ",
        "temkUO25ukEh",
        "EV3xHF-OukFL",
        "lxkvAQ5LacHg",
        "gVBfdshWukGA"
      ],
      "toc_visible": true,
      "include_colab_link": true
    },
    "kernelspec": {
      "display_name": "Python 3",
      "language": "python",
      "name": "python3"
    },
    "language_info": {
      "codemirror_mode": {
        "name": "ipython",
        "version": 3
      },
      "file_extension": ".py",
      "mimetype": "text/x-python",
      "name": "python",
      "nbconvert_exporter": "python",
      "pygments_lexer": "ipython3",
      "version": "3.7.7"
    }
  },
  "cells": [
    {
      "cell_type": "markdown",
      "metadata": {
        "id": "view-in-github",
        "colab_type": "text"
      },
      "source": [
        "<a href=\"https://colab.research.google.com/github/randywreed/gpt2_lda/blob/master/Classify_gpt2_as_religionV2.ipynb\" target=\"_parent\"><img src=\"https://colab.research.google.com/assets/colab-badge.svg\" alt=\"Open In Colab\"/></a>"
      ]
    },
    {
      "cell_type": "markdown",
      "metadata": {
        "colab_type": "text",
        "id": "P98_trwB_uf9"
      },
      "source": [
        "## Setup (always run this)\n"
      ]
    },
    {
      "cell_type": "code",
      "metadata": {
        "colab_type": "code",
        "id": "0olZRWVRukCk",
        "colab": {}
      },
      "source": [
        "%reload_ext autoreload\n",
        "%autoreload 2\n",
        "%matplotlib inline"
      ],
      "execution_count": null,
      "outputs": []
    },
    {
      "cell_type": "code",
      "metadata": {
        "id": "Jooc0jCR7aGm",
        "colab_type": "code",
        "colab": {
          "base_uri": "https://localhost:8080/",
          "height": 381
        },
        "outputId": "daa94d79-59ce-40ec-fa13-f620efb058f0"
      },
      "source": [
        "!nvidia-smi"
      ],
      "execution_count": null,
      "outputs": [
        {
          "output_type": "stream",
          "text": [
            "Mon Jun 29 11:54:34 2020       \n",
            "+-----------------------------------------------------------------------------+\n",
            "| NVIDIA-SMI 450.36.06    Driver Version: 418.67       CUDA Version: 10.1     |\n",
            "|-------------------------------+----------------------+----------------------+\n",
            "| GPU  Name        Persistence-M| Bus-Id        Disp.A | Volatile Uncorr. ECC |\n",
            "| Fan  Temp  Perf  Pwr:Usage/Cap|         Memory-Usage | GPU-Util  Compute M. |\n",
            "|                               |                      |               MIG M. |\n",
            "|===============================+======================+======================|\n",
            "|   0  Tesla K80           Off  | 00000000:00:04.0 Off |                    0 |\n",
            "| N/A   73C    P8    33W / 149W |      0MiB / 11441MiB |      0%      Default |\n",
            "|                               |                      |                 ERR! |\n",
            "+-------------------------------+----------------------+----------------------+\n",
            "                                                                               \n",
            "+-----------------------------------------------------------------------------+\n",
            "| Processes:                                                                  |\n",
            "|  GPU   GI   CI        PID   Type   Process name                  GPU Memory |\n",
            "|        ID   ID                                                   Usage      |\n",
            "|=============================================================================|\n",
            "|  No running processes found                                                 |\n",
            "+-----------------------------------------------------------------------------+\n"
          ],
          "name": "stdout"
        }
      ]
    },
    {
      "cell_type": "markdown",
      "metadata": {
        "colab_type": "text",
        "id": "IwwhHOCFAFX5"
      },
      "source": [
        "## MODIFY THE FOLLOWING CELLS: \n",
        "You must have already created a folder in your google drive for use<br>\n",
        "The next two cells give colab permission to use your google drive (you will do this twice)<br>\n",
        "In the following cell change the *paulaidir* to google drive directory to store models and data<br>\n",
        "change *trans* to the tranlation (should correspond to the .csv file name)"
      ]
    },
    {
      "cell_type": "code",
      "metadata": {
        "colab_type": "code",
        "id": "IrmzDJuqvAeh",
        "colab": {
          "base_uri": "https://localhost:8080/",
          "height": 128
        },
        "outputId": "aa5d493f-bc8e-489b-ce4a-28022de5f20b"
      },
      "source": [
        "#If running in colab, run this, otherwise run next cell\n",
        "from google.colab import drive\n",
        "drive.mount('/content/drive') "
      ],
      "execution_count": null,
      "outputs": [
        {
          "output_type": "stream",
          "text": [
            "Go to this URL in a browser: https://accounts.google.com/o/oauth2/auth?client_id=947318989803-6bn6qk8qdgf4n4g3pfee6491hc0brc4i.apps.googleusercontent.com&redirect_uri=urn%3aietf%3awg%3aoauth%3a2.0%3aoob&response_type=code&scope=email%20https%3a%2f%2fwww.googleapis.com%2fauth%2fdocs.test%20https%3a%2f%2fwww.googleapis.com%2fauth%2fdrive%20https%3a%2f%2fwww.googleapis.com%2fauth%2fdrive.photos.readonly%20https%3a%2f%2fwww.googleapis.com%2fauth%2fpeopleapi.readonly\n",
            "\n",
            "Enter your authorization code:\n",
            "··········\n",
            "Mounted at /content/drive\n"
          ],
          "name": "stdout"
        }
      ]
    },
    {
      "cell_type": "markdown",
      "metadata": {
        "id": "eAl85gxRHP3q",
        "colab_type": "text"
      },
      "source": [
        "### Access Google Drive (using Service Account)\n",
        "This will require the service account key file to be on the machine  \n",
        "For spell machines you can use this to download models from Gdrive"
      ]
    },
    {
      "cell_type": "code",
      "metadata": {
        "id": "CHEsgGzdHHAH",
        "colab_type": "code",
        "colab": {
          "base_uri": "https://localhost:8080/",
          "height": 887
        },
        "outputId": "3b8b69c8-970f-45ef-8dfa-86231b7a3281"
      },
      "source": [
        "!pip install -U pip google-api-python-client oauth2client"
      ],
      "execution_count": null,
      "outputs": [
        {
          "output_type": "stream",
          "text": [
            "Collecting pip\n",
            "\u001b[?25l  Downloading https://files.pythonhosted.org/packages/43/84/23ed6a1796480a6f1a2d38f2802901d078266bda38388954d01d3f2e821d/pip-20.1.1-py2.py3-none-any.whl (1.5MB)\n",
            "\u001b[K     |████████████████████████████████| 1.5MB 10.6MB/s \n",
            "\u001b[?25hCollecting google-api-python-client\n",
            "\u001b[?25l  Downloading https://files.pythonhosted.org/packages/63/e1/f465e0e8138cc76587d5b626c16c649b72f41a5cdbf414f8959221e03096/google_api_python_client-1.9.3-py3-none-any.whl (59kB)\n",
            "\u001b[K     |████████████████████████████████| 61kB 9.5MB/s \n",
            "\u001b[?25hRequirement already up-to-date: oauth2client in /usr/local/lib/python3.6/dist-packages (4.1.3)\n",
            "Requirement already satisfied, skipping upgrade: google-auth>=1.16.0 in /usr/local/lib/python3.6/dist-packages (from google-api-python-client) (1.17.2)\n",
            "Collecting google-api-core<2dev,>=1.18.0\n",
            "\u001b[?25l  Downloading https://files.pythonhosted.org/packages/48/76/bd5e3ebd571b9f688ae123a2bd84b2dc9f75e1214a83b8a759bc16e2fc35/google_api_core-1.21.0-py2.py3-none-any.whl (90kB)\n",
            "\u001b[K     |████████████████████████████████| 92kB 13.8MB/s \n",
            "\u001b[?25hRequirement already satisfied, skipping upgrade: six<2dev,>=1.6.1 in /usr/local/lib/python3.6/dist-packages (from google-api-python-client) (1.12.0)\n",
            "Requirement already satisfied, skipping upgrade: uritemplate<4dev,>=3.0.0 in /usr/local/lib/python3.6/dist-packages (from google-api-python-client) (3.0.1)\n",
            "Requirement already satisfied, skipping upgrade: httplib2<1dev,>=0.9.2 in /usr/local/lib/python3.6/dist-packages (from google-api-python-client) (0.17.4)\n",
            "Requirement already satisfied, skipping upgrade: google-auth-httplib2>=0.0.3 in /usr/local/lib/python3.6/dist-packages (from google-api-python-client) (0.0.3)\n",
            "Requirement already satisfied, skipping upgrade: pyasn1-modules>=0.0.5 in /usr/local/lib/python3.6/dist-packages (from oauth2client) (0.2.8)\n",
            "Requirement already satisfied, skipping upgrade: pyasn1>=0.1.7 in /usr/local/lib/python3.6/dist-packages (from oauth2client) (0.4.8)\n",
            "Requirement already satisfied, skipping upgrade: rsa>=3.1.4 in /usr/local/lib/python3.6/dist-packages (from oauth2client) (4.6)\n",
            "Requirement already satisfied, skipping upgrade: cachetools<5.0,>=2.0.0 in /usr/local/lib/python3.6/dist-packages (from google-auth>=1.16.0->google-api-python-client) (4.1.0)\n",
            "Requirement already satisfied, skipping upgrade: setuptools>=40.3.0 in /usr/local/lib/python3.6/dist-packages (from google-auth>=1.16.0->google-api-python-client) (47.3.1)\n",
            "Requirement already satisfied, skipping upgrade: pytz in /usr/local/lib/python3.6/dist-packages (from google-api-core<2dev,>=1.18.0->google-api-python-client) (2018.9)\n",
            "Collecting protobuf>=3.12.0\n",
            "\u001b[?25l  Downloading https://files.pythonhosted.org/packages/28/05/9867ef8eafd12265267bee138fa2c46ebf34a276ea4cbe184cba4c606e8b/protobuf-3.12.2-cp36-cp36m-manylinux1_x86_64.whl (1.3MB)\n",
            "\u001b[K     |████████████████████████████████| 1.3MB 53.6MB/s \n",
            "\u001b[?25hRequirement already satisfied, skipping upgrade: requests<3.0.0dev,>=2.18.0 in /usr/local/lib/python3.6/dist-packages (from google-api-core<2dev,>=1.18.0->google-api-python-client) (2.23.0)\n",
            "Requirement already satisfied, skipping upgrade: googleapis-common-protos<2.0dev,>=1.6.0 in /usr/local/lib/python3.6/dist-packages (from google-api-core<2dev,>=1.18.0->google-api-python-client) (1.52.0)\n",
            "Requirement already satisfied, skipping upgrade: idna<3,>=2.5 in /usr/local/lib/python3.6/dist-packages (from requests<3.0.0dev,>=2.18.0->google-api-core<2dev,>=1.18.0->google-api-python-client) (2.9)\n",
            "Requirement already satisfied, skipping upgrade: certifi>=2017.4.17 in /usr/local/lib/python3.6/dist-packages (from requests<3.0.0dev,>=2.18.0->google-api-core<2dev,>=1.18.0->google-api-python-client) (2020.6.20)\n",
            "Requirement already satisfied, skipping upgrade: urllib3!=1.25.0,!=1.25.1,<1.26,>=1.21.1 in /usr/local/lib/python3.6/dist-packages (from requests<3.0.0dev,>=2.18.0->google-api-core<2dev,>=1.18.0->google-api-python-client) (1.24.3)\n",
            "Requirement already satisfied, skipping upgrade: chardet<4,>=3.0.2 in /usr/local/lib/python3.6/dist-packages (from requests<3.0.0dev,>=2.18.0->google-api-core<2dev,>=1.18.0->google-api-python-client) (3.0.4)\n",
            "\u001b[31mERROR: google-api-core 1.21.0 has requirement google-auth<2.0dev,>=1.18.0, but you'll have google-auth 1.17.2 which is incompatible.\u001b[0m\n",
            "Installing collected packages: pip, protobuf, google-api-core, google-api-python-client\n",
            "  Found existing installation: pip 19.3.1\n",
            "    Uninstalling pip-19.3.1:\n",
            "      Successfully uninstalled pip-19.3.1\n",
            "  Found existing installation: protobuf 3.10.0\n",
            "    Uninstalling protobuf-3.10.0:\n",
            "      Successfully uninstalled protobuf-3.10.0\n",
            "  Found existing installation: google-api-core 1.16.0\n",
            "    Uninstalling google-api-core-1.16.0:\n",
            "      Successfully uninstalled google-api-core-1.16.0\n",
            "  Found existing installation: google-api-python-client 1.7.12\n",
            "    Uninstalling google-api-python-client-1.7.12:\n",
            "      Successfully uninstalled google-api-python-client-1.7.12\n",
            "Successfully installed google-api-core-1.21.0 google-api-python-client-1.9.3 pip-20.1.1 protobuf-3.12.2\n"
          ],
          "name": "stdout"
        },
        {
          "output_type": "display_data",
          "data": {
            "application/vnd.colab-display-data+json": {
              "pip_warning": {
                "packages": [
                  "google"
                ]
              }
            }
          },
          "metadata": {
            "tags": []
          }
        }
      ]
    },
    {
      "cell_type": "code",
      "metadata": {
        "id": "qAuq0KNFHVj5",
        "colab_type": "code",
        "colab": {}
      },
      "source": [
        "from __future__ import print_function\n",
        "import pickle\n",
        "import os.path\n",
        "from googleapiclient.discovery import build\n",
        "from google_auth_oauthlib.flow import InstalledAppFlow\n",
        "from google.auth.transport.requests import Request\n"
      ],
      "execution_count": null,
      "outputs": []
    },
    {
      "cell_type": "code",
      "metadata": {
        "id": "osyBaLhoHmXv",
        "colab_type": "code",
        "colab": {}
      },
      "source": [
        "from google.oauth2 import service_account\n",
        "\n",
        "SCOPES = ['https://www.googleapis.com/auth/drive']\n",
        "SERVICE_ACCOUNT_FILE = '/content/drive/My Drive/AI & Tech Research/Religion of GPT2/gpt2-service_account_client_secret.json' #for colab\n",
        "#SERVICE_ACCOUNT_FILE='gpt2-service_account_client_secret.json'\n",
        "credentials = service_account.Credentials.from_service_account_file(\n",
        "        SERVICE_ACCOUNT_FILE, scopes=SCOPES)\n",
        "service=build('drive','v3',credentials=credentials)"
      ],
      "execution_count": null,
      "outputs": []
    },
    {
      "cell_type": "code",
      "metadata": {
        "id": "Fv7V9xxlHxX9",
        "colab_type": "code",
        "colab": {
          "base_uri": "https://localhost:8080/",
          "height": 51
        },
        "outputId": "382760e4-808f-4bca-fc8b-9ee36115031f"
      },
      "source": [
        "#This queries Google drive API\n",
        "from httplib2 import Http\n",
        "from oauth2client import file, client, tools\n",
        "results=service.files().list(q='name contains \".json\" and name contains \"gpt2-service\"').execute()  \n",
        "items=results.get('files',[])\n",
        "print(\"Files:\")\n",
        "for item in items:\n",
        "  print(u'{} {}'.format(item['name'],item['id']))"
      ],
      "execution_count": null,
      "outputs": [
        {
          "output_type": "stream",
          "text": [
            "Files:\n",
            "gpt2-service_account_client_secret.json 18fImXyK7Y-dbLL2aeVnb_ig3m768qCh0\n"
          ],
          "name": "stdout"
        }
      ]
    },
    {
      "cell_type": "code",
      "metadata": {
        "id": "uJUPpKAGIH69",
        "colab_type": "code",
        "colab": {
          "base_uri": "https://localhost:8080/",
          "height": 34
        },
        "outputId": "5a1e11bc-1d9e-4203-e121-6b6ab2f6a28a"
      },
      "source": [
        "#Using data from previous cell, this will download and save identified file\n",
        "import io\n",
        "from googleapiclient.http import MediaIoBaseDownload\n",
        "\n",
        "file_id=items[0]['id']\n",
        "request=service.files().get_media(fileId=file_id)\n",
        "fh=io.BytesIO()\n",
        "downloader=MediaIoBaseDownload(fh,request)\n",
        "done=False\n",
        "while done is False:\n",
        "  status, done = downloader.next_chunk()\n",
        "  print(\"Download %d%%.\" % int(status.progress()*100))\n",
        "with open(items[0]['name'],\"wb\") as f:\n",
        "  f.write(fh.getbuffer())"
      ],
      "execution_count": null,
      "outputs": [
        {
          "output_type": "stream",
          "text": [
            "Download 100%.\n"
          ],
          "name": "stdout"
        }
      ]
    },
    {
      "cell_type": "markdown",
      "metadata": {
        "id": "b_oj7nqcIowk",
        "colab_type": "text"
      },
      "source": [
        "### Variable Setup (must run)  \n",
        "Change the following variables to the correct path"
      ]
    },
    {
      "cell_type": "code",
      "metadata": {
        "colab_type": "code",
        "id": "FQoukQFF4KEY",
        "colab": {}
      },
      "source": [
        "#set paulaidir to you google drive directory\n",
        "#trans should be equivalent to the .csv file for the full translation (i.e. niv.csv)\n",
        "#if you need to see a list of csv files continue down, and then come back, change and re-run this cell\n",
        "paulaidir='/content/drive/My Drive/AI & Tech Research/Religion of GPT2/fastai/' #gdrive\n",
        "aidatadir=paulaidir #gdrive\n",
        "maindir=\"/content/drive/My Drive/AI & Tech Research/Religion of GPT2/\" #gdrive\n",
        "#paulaidir='/spell/fastai/' #spell\n",
        "#aidatadir='/spell/gpt2wikidata/' #spell\n",
        "#maindir='/spell' #spell\n",
        "trans=\"wikipedia_relwcat - wikipedia_relwcat\"\n",
        "myemail=\"reedrw@appstate.edu\""
      ],
      "execution_count": null,
      "outputs": []
    },
    {
      "cell_type": "code",
      "metadata": {
        "colab_type": "code",
        "id": "12OUvVdsukDg",
        "colab": {
          "base_uri": "https://localhost:8080/",
          "height": 35
        },
        "outputId": "58063ba8-74d6-440b-df0e-556eb755c632"
      },
      "source": [
        "from pathlib import Path\n",
        "paulpath=Path(paulaidir)\n",
        "print(paulpath)\n",
        "#path=Path(paulaidir+'fastai/')\n",
        "path=Path(paulaidir)"
      ],
      "execution_count": null,
      "outputs": [
        {
          "output_type": "stream",
          "text": [
            "/content/drive/My Drive/AI & Tech Research/Religion of GPT2/fastai\n"
          ],
          "name": "stdout"
        }
      ]
    },
    {
      "cell_type": "code",
      "metadata": {
        "colab_type": "code",
        "id": "vbD4pG7J1heu",
        "colab": {}
      },
      "source": [
        "#to see a list of .csv files remove the # from the following lines of the cell\n",
        "import glob\n",
        "for filename in glob.glob(str(aidatadir)+\"/*.csv\"):\n",
        "  print(filename)\n",
        "\n"
      ],
      "execution_count": null,
      "outputs": []
    },
    {
      "cell_type": "code",
      "metadata": {
        "colab_type": "code",
        "id": "7Yrb_UgDukDj",
        "colab": {
          "base_uri": "https://localhost:8080/",
          "height": 55
        },
        "outputId": "ed6c9ca8-52ca-4487-d027-85e8c361e6fb"
      },
      "source": [
        "translation=trans+\".csv\"  \n",
        "file=aidatadir+translation\n",
        "file"
      ],
      "execution_count": null,
      "outputs": [
        {
          "output_type": "execute_result",
          "data": {
            "application/vnd.google.colaboratory.intrinsic": {
              "type": "string"
            },
            "text/plain": [
              "'/content/drive/My Drive/AI & Tech Research/Religion of GPT2/fastai/wikipedia_relwcat - wikipedia_relwcat.csv'"
            ]
          },
          "metadata": {
            "tags": []
          },
          "execution_count": 6
        }
      ]
    },
    {
      "cell_type": "code",
      "metadata": {
        "colab_type": "code",
        "id": "tWOHr8LSukDC",
        "colab": {}
      },
      "source": [
        "from fastai.distributed import *\n",
        "import argparse"
      ],
      "execution_count": null,
      "outputs": []
    },
    {
      "cell_type": "code",
      "metadata": {
        "colab_type": "code",
        "id": "dY5-_USvukDF",
        "colab": {}
      },
      "source": [
        "from fastai import *\n",
        "from fastai.text import *"
      ],
      "execution_count": null,
      "outputs": []
    },
    {
      "cell_type": "code",
      "metadata": {
        "colab_type": "code",
        "id": "d3IzlDAAukDH",
        "colab": {}
      },
      "source": [
        "from fastai.callbacks import SaveModelCallback"
      ],
      "execution_count": null,
      "outputs": []
    },
    {
      "cell_type": "code",
      "metadata": {
        "colab_type": "code",
        "id": "_ghKapI0ukDP",
        "colab": {}
      },
      "source": [
        "# import fastai.utils.collect_env\n",
        "\n",
        "# fastai.utils.collect_env.show_install()"
      ],
      "execution_count": null,
      "outputs": []
    },
    {
      "cell_type": "code",
      "metadata": {
        "colab_type": "code",
        "id": "hVG8jD8wukDR",
        "colab": {
          "base_uri": "https://localhost:8080/",
          "height": 55
        },
        "outputId": "83c5840d-8431-4cbe-be02-ecd0e1735e51"
      },
      "source": [
        "Config.DEFAULT_CONFIG={\n",
        "    'data_path': aidatadir+'data',\n",
        "    'model_path': paulaidir+'model'\n",
        "}\n",
        "print(Config.DEFAULT_CONFIG)\n",
        "Config.create(paulaidir+'fastai/myconfig.yml')\n",
        "Config.DEFAULT_CONFIG_PATH=paulaidir+'/myconfig.yml'"
      ],
      "execution_count": null,
      "outputs": [
        {
          "output_type": "stream",
          "text": [
            "{'data_path': '/content/drive/My Drive/AI & Tech Research/Religion of GPT2/fastai/data', 'model_path': '/content/drive/My Drive/AI & Tech Research/Religion of GPT2/fastai/model'}\n"
          ],
          "name": "stdout"
        }
      ]
    },
    {
      "cell_type": "markdown",
      "metadata": {
        "colab_type": "text",
        "id": "DaBo312AukDU"
      },
      "source": [
        "Note that language models can use a lot of GPU, so you may need to decrease batchsize here."
      ]
    },
    {
      "cell_type": "code",
      "metadata": {
        "colab_type": "code",
        "id": "wgl60TU8ukDV",
        "colab": {}
      },
      "source": [
        "# bs=48\n",
        "# bs=24\n",
        "bs=96"
      ],
      "execution_count": null,
      "outputs": []
    },
    {
      "cell_type": "code",
      "metadata": {
        "colab_type": "code",
        "id": "4XpMFzjLukDX",
        "colab": {
          "base_uri": "https://localhost:8080/",
          "height": 35
        },
        "outputId": "b50e2aa6-b708-407b-e29d-3a6e9c94ead6"
      },
      "source": [
        "#distributed Processing setup\n",
        "#parser = argparse.ArgumentParser()\n",
        "#parser.add_argument(\"--local_rank\", type=int)\n",
        "#args = parser.parse_args()\n",
        "#torch.cuda.set_device(args.local_rank)\n",
        "#torch.distributed.init_process_group(backend='nccl', init_method='env://')\n",
        "bs\n"
      ],
      "execution_count": null,
      "outputs": [
        {
          "output_type": "execute_result",
          "data": {
            "text/plain": [
              "96"
            ]
          },
          "metadata": {
            "tags": []
          },
          "execution_count": 13
        }
      ]
    },
    {
      "cell_type": "code",
      "metadata": {
        "colab_type": "code",
        "id": "Y1j2GlX5ukDb",
        "colab": {}
      },
      "source": [
        "import torch\n",
        "torch.cuda.set_device(0)"
      ],
      "execution_count": null,
      "outputs": []
    },
    {
      "cell_type": "markdown",
      "metadata": {
        "colab_type": "text",
        "id": "i68zFP08ukDe"
      },
      "source": [
        "### Language model (Always Run)\n"
      ]
    },
    {
      "cell_type": "markdown",
      "metadata": {
        "colab_type": "text",
        "id": "16_tfWMwukDf"
      },
      "source": [
        "Now let's grab the full dataset for what follows."
      ]
    },
    {
      "cell_type": "code",
      "metadata": {
        "colab_type": "code",
        "id": "1gGQSiodnnzU",
        "colab": {
          "base_uri": "https://localhost:8080/",
          "height": 35
        },
        "outputId": "7deedc58-df37-4469-d84f-6c39c42f7e67"
      },
      "source": [
        "file"
      ],
      "execution_count": null,
      "outputs": [
        {
          "output_type": "execute_result",
          "data": {
            "application/vnd.google.colaboratory.intrinsic": {
              "type": "string"
            },
            "text/plain": [
              "'/content/drive/My Drive/AI & Tech Research/Religion of GPT2/fastai/wikipedia_relwcat - wikipedia_relwcat.csv'"
            ]
          },
          "metadata": {
            "tags": []
          },
          "execution_count": 15
        }
      ]
    },
    {
      "cell_type": "code",
      "metadata": {
        "colab_type": "code",
        "id": "uKGqu66mukDl",
        "colab": {}
      },
      "source": [
        "import pandas as pd"
      ],
      "execution_count": null,
      "outputs": []
    },
    {
      "cell_type": "code",
      "metadata": {
        "colab_type": "code",
        "id": "eg5uW-A7o98u",
        "colab": {}
      },
      "source": [
        "rpath=\"/content/drive/My Drive/AI & Tech Research/Religion of GPT2/fastai/data/wikipedia_relwcat - wikipedia_relwcat.csv\" #gdrive\n",
        "spath=\"/content/drive/My Drive/AI & Tech Research/Religion of GPT2/fastai/data/wiki_secular.csv\" #gdrive\n",
        "#rpath=\"/spell/gpt2wikidata/wikipedia_relwcat - wikipedia_relwcat.csv\" #spell\n",
        "#spath=\"/spell/gpt2wikidata/wiki_secular.csv\" #spell\n",
        "relfile=Path(rpath)\n",
        "secfile=Path(spath)"
      ],
      "execution_count": null,
      "outputs": []
    },
    {
      "cell_type": "code",
      "metadata": {
        "colab_type": "code",
        "id": "0tX-OeY9sQN-",
        "colab": {
          "base_uri": "https://localhost:8080/",
          "height": 34
        },
        "outputId": "f0fabfe1-3060-4a00-c953-29f7399501c9"
      },
      "source": [
        "print(relfile)"
      ],
      "execution_count": null,
      "outputs": [
        {
          "output_type": "stream",
          "text": [
            "/content/drive/My Drive/AI & Tech Research/Religion of GPT2/fastai/data/wikipedia_relwcat - wikipedia_relwcat.csv\n"
          ],
          "name": "stdout"
        }
      ]
    },
    {
      "cell_type": "code",
      "metadata": {
        "colab_type": "code",
        "id": "7sVmgAEzukDn",
        "colab": {}
      },
      "source": [
        "#read csvs into pandaas dataframe\n",
        "rel=pd.read_csv(relfile)\n",
        "sec=pd.read_csv(secfile)\n",
        "\n"
      ],
      "execution_count": null,
      "outputs": []
    },
    {
      "cell_type": "code",
      "metadata": {
        "colab_type": "code",
        "id": "LmnxHT_wpyCu",
        "colab": {
          "base_uri": "https://localhost:8080/",
          "height": 51
        },
        "outputId": "10180f7c-8dc7-4ad8-8ba4-00a266184c00"
      },
      "source": [
        "print (rel.columns)\n",
        "print(sec.columns)"
      ],
      "execution_count": null,
      "outputs": [
        {
          "output_type": "stream",
          "text": [
            "Index(['Topic', 'Text', 'Flag'], dtype='object')\n",
            "Index(['title', 'text', 'rel'], dtype='object')\n"
          ],
          "name": "stdout"
        }
      ]
    },
    {
      "cell_type": "code",
      "metadata": {
        "colab_type": "code",
        "id": "UcF62_eOp601",
        "colab": {}
      },
      "source": [
        "sec.columns=['Topic','Text','Flag']\n"
      ],
      "execution_count": null,
      "outputs": []
    },
    {
      "cell_type": "code",
      "metadata": {
        "colab_type": "code",
        "id": "f9XYe3DEqKar",
        "colab": {}
      },
      "source": [
        "#set secular to S, religious to r\n",
        "rel.Flag='R'\n",
        "sec.Flag='S'"
      ],
      "execution_count": null,
      "outputs": []
    },
    {
      "cell_type": "code",
      "metadata": {
        "id": "kvzfSUg_FR9B",
        "colab_type": "code",
        "colab": {}
      },
      "source": [
        "#fix na's\n",
        "rel.Text.fillna(rel.Topic, inplace=True)\n",
        "sec.Text.fillna(sec.Topic, inplace=True)"
      ],
      "execution_count": null,
      "outputs": []
    },
    {
      "cell_type": "code",
      "metadata": {
        "id": "CYFqb96DqCHS",
        "colab_type": "code",
        "colab": {
          "base_uri": "https://localhost:8080/",
          "height": 68
        },
        "outputId": "8c934822-d27d-4986-b0f2-c05acc189afe"
      },
      "source": [
        "import nltk\n",
        "nltk.download(\"punkt\")"
      ],
      "execution_count": null,
      "outputs": [
        {
          "output_type": "stream",
          "text": [
            "[nltk_data] Downloading package punkt to /root/nltk_data...\n",
            "[nltk_data]   Unzipping tokenizers/punkt.zip.\n"
          ],
          "name": "stdout"
        },
        {
          "output_type": "execute_result",
          "data": {
            "text/plain": [
              "True"
            ]
          },
          "metadata": {
            "tags": []
          },
          "execution_count": 28
        }
      ]
    },
    {
      "cell_type": "code",
      "metadata": {
        "id": "HmZklHxypr0l",
        "colab_type": "code",
        "colab": {
          "base_uri": "https://localhost:8080/",
          "height": 459
        },
        "outputId": "02cbab56-9986-49d2-8cf8-af94c61da282"
      },
      "source": [
        "df=pd.DataFrame(columns=[\"Text\",\"Flag\"])\n",
        "list_of_datasets=[rel,sec]\n",
        "for index, datasets in enumerate(list_of_datasets):\n",
        "  print('index=',index)\n",
        "  for idx, row in datasets.iterrows():\n",
        "    #print(row)\n",
        "    sent=nltk.tokenize.sent_tokenize(row[1])\n",
        "    sdf=pd.DataFrame(sent,columns=['Text'])\n",
        "    rdf=rdf.append(sdf, ignore_index=True)\n",
        "  if index==0:\n",
        "    df.Flag=\"R\"\n",
        "  else:\n",
        "    df['Flag'].loc[(rdf['Flag']!=\"R\")]=\"S\"\n",
        "  print(df.head())\n",
        "  print(df.tail())"
      ],
      "execution_count": null,
      "outputs": [
        {
          "output_type": "stream",
          "text": [
            "index= 0\n",
            "                                                Text Flag\n",
            "0  Many Wikipedia articles on religious topics ar...    R\n",
            "1  If you cannot find the topic you are intereste...    R\n",
            "2  If you find that it exists, you can edit this ...    R\n",
            "3  If you click on \"Related changes\" at the side ...    R\n",
            "4  This page links to itself and its talk page so...    R\n",
            "                                                     Text Flag\n",
            "149708  In 1933, the eclectic German Faith Movement (D...    R\n",
            "149709  While active throughout the Nazi era, his hope...    R\n",
            "149710  The Heathen movement probably never had more t...    R\n",
            "149711  Few had a direct influence on the Nazi Party l...    R\n",
            "149712  Wiligut professed ancestral-clairvoyant memori...    R\n",
            "index= 1\n",
            "                                                Text Flag\n",
            "0  Many Wikipedia articles on religious topics ar...    R\n",
            "1  If you cannot find the topic you are intereste...    R\n",
            "2  If you find that it exists, you can edit this ...    R\n",
            "3  If you click on \"Related changes\" at the side ...    R\n",
            "4  This page links to itself and its talk page so...    R\n",
            "                                                      Text Flag\n",
            "1797209  On October 14  1995  the track climbed to numb...    S\n",
            "1797210  In its fourth week  \" Si Una Vez \" jumped to n...    S\n",
            "1797211  Despite increased airplay spins  \" Si Una Vez ...    S\n",
            "1797212  On November 11  1995  \" Si Una Vez \" peaked at...    S\n",
            "1797213  = = = = Chart performance = = = =    = = Credi...    S\n"
          ],
          "name": "stdout"
        }
      ]
    },
    {
      "cell_type": "code",
      "metadata": {
        "colab_type": "code",
        "id": "_FO7GgE9qYth",
        "colab": {}
      },
      "source": [
        "#merge two files\n",
        "df.to_pickle(paulaidir+\"wikirel_sec.pkl\")"
      ],
      "execution_count": null,
      "outputs": []
    },
    {
      "cell_type": "code",
      "metadata": {
        "id": "L-jyTyMM59r5",
        "colab_type": "code",
        "colab": {}
      },
      "source": [
        "df=pd.read_pickle(paulaidir+\"wikirel_sec.pkl\")"
      ],
      "execution_count": null,
      "outputs": []
    },
    {
      "cell_type": "code",
      "metadata": {
        "colab_type": "code",
        "id": "mFqKyV_dtNWX",
        "colab": {
          "base_uri": "https://localhost:8080/",
          "height": 357
        },
        "outputId": "dfa1bbee-4e21-40d8-fded-0b90cc092e48"
      },
      "source": [
        "!nvidia-smi"
      ],
      "execution_count": null,
      "outputs": [
        {
          "output_type": "stream",
          "text": [
            "Sun Jun 28 21:51:04 2020       \n",
            "+-----------------------------------------------------------------------------+\n",
            "| NVIDIA-SMI 450.36.06    Driver Version: 418.67       CUDA Version: 10.1     |\n",
            "|-------------------------------+----------------------+----------------------+\n",
            "| GPU  Name        Persistence-M| Bus-Id        Disp.A | Volatile Uncorr. ECC |\n",
            "| Fan  Temp  Perf  Pwr:Usage/Cap|         Memory-Usage | GPU-Util  Compute M. |\n",
            "|                               |                      |               MIG M. |\n",
            "|===============================+======================+======================|\n",
            "|   0  Tesla P4            Off  | 00000000:00:04.0 Off |                    0 |\n",
            "| N/A   35C    P8     7W /  75W |     10MiB /  7611MiB |      0%      Default |\n",
            "|                               |                      |                 ERR! |\n",
            "+-------------------------------+----------------------+----------------------+\n",
            "                                                                               \n",
            "+-----------------------------------------------------------------------------+\n",
            "| Processes:                                                                  |\n",
            "|  GPU   GI   CI        PID   Type   Process name                  GPU Memory |\n",
            "|        ID   ID                                                   Usage      |\n",
            "|=============================================================================|\n",
            "|  No running processes found                                                 |\n",
            "+-----------------------------------------------------------------------------+\n"
          ],
          "name": "stdout"
        }
      ]
    },
    {
      "cell_type": "code",
      "metadata": {
        "colab_type": "code",
        "id": "ZK5jqHiJsayY",
        "colab": {
          "base_uri": "https://localhost:8080/",
          "height": 49
        },
        "outputId": "e60c7645-44cd-4c52-ca50-99167656ea4c"
      },
      "source": [
        "#check text for na's\n",
        "df[df['Text'].isna()]"
      ],
      "execution_count": null,
      "outputs": [
        {
          "output_type": "execute_result",
          "data": {
            "text/html": [
              "<div>\n",
              "<style scoped>\n",
              "    .dataframe tbody tr th:only-of-type {\n",
              "        vertical-align: middle;\n",
              "    }\n",
              "\n",
              "    .dataframe tbody tr th {\n",
              "        vertical-align: top;\n",
              "    }\n",
              "\n",
              "    .dataframe thead th {\n",
              "        text-align: right;\n",
              "    }\n",
              "</style>\n",
              "<table border=\"1\" class=\"dataframe\">\n",
              "  <thead>\n",
              "    <tr style=\"text-align: right;\">\n",
              "      <th></th>\n",
              "      <th>Topic</th>\n",
              "      <th>Text</th>\n",
              "      <th>Flag</th>\n",
              "    </tr>\n",
              "  </thead>\n",
              "  <tbody>\n",
              "  </tbody>\n",
              "</table>\n",
              "</div>"
            ],
            "text/plain": [
              "Empty DataFrame\n",
              "Columns: [Topic, Text, Flag]\n",
              "Index: []"
            ]
          },
          "metadata": {
            "tags": []
          },
          "execution_count": 25
        }
      ]
    },
    {
      "cell_type": "markdown",
      "metadata": {
        "colab_type": "text",
        "heading_collapsed": true,
        "id": "EC9wyi9wukD6"
      },
      "source": [
        "#### Creating the TextLMDataBunch (if run once, skip to loading saved data)"
      ]
    },
    {
      "cell_type": "markdown",
      "metadata": {
        "colab_type": "text",
        "hidden": true,
        "id": "Fh9HvSiNukD7"
      },
      "source": [
        "We have to use a special kind of `TextDataBunch` for the language model, that ignores the labels (that's why we put 0 everywhere), will shuffle the texts at each epoch before concatenating them all together (only for training, we don't shuffle for the validation set) and will send batches that read that text in order with targets that are the next word in the sentence.\n",
        "\n",
        "The line before being a bit long, we want to load quickly the final ids by using the following cell."
      ]
    },
    {
      "cell_type": "code",
      "metadata": {
        "colab_type": "code",
        "id": "zUrJewjZukD3",
        "colab": {
          "base_uri": "https://localhost:8080/",
          "height": 17
        },
        "outputId": "18653d79-a9e6-4e35-8087-24d57cc60a36"
      },
      "source": [
        "data_lm=TextLMDataBunch.from_df(path, train_df=df, valid_df=df, text_cols=\"Text\",bs=bs)"
      ],
      "execution_count": null,
      "outputs": [
        {
          "output_type": "display_data",
          "data": {
            "text/html": [
              ""
            ],
            "text/plain": [
              "<IPython.core.display.HTML object>"
            ]
          },
          "metadata": {
            "tags": []
          }
        },
        {
          "output_type": "display_data",
          "data": {
            "text/html": [
              ""
            ],
            "text/plain": [
              "<IPython.core.display.HTML object>"
            ]
          },
          "metadata": {
            "tags": []
          }
        }
      ]
    },
    {
      "cell_type": "code",
      "metadata": {
        "colab_type": "code",
        "hidden": true,
        "id": "GyOCJWw1ukD8",
        "colab": {
          "base_uri": "https://localhost:8080/",
          "height": 476
        },
        "outputId": "0dc036d7-aac4-471f-cb29-1f7328b793f4"
      },
      "source": [
        "data_lm.show_batch()"
      ],
      "execution_count": null,
      "outputs": [
        {
          "output_type": "display_data",
          "data": {
            "text/html": [
              "<table border=\"1\" class=\"dataframe\">\n",
              "  <thead>\n",
              "    <tr style=\"text-align: right;\">\n",
              "      <th>idx</th>\n",
              "      <th>text</th>\n",
              "    </tr>\n",
              "  </thead>\n",
              "  <tbody>\n",
              "    <tr>\n",
              "      <td>0</td>\n",
              "      <td>to it . \\n  xxmaj if you click on \" xxmaj related changes \" at the side of this page , you will see a list of the most recent changes in articles to which this page links . xxmaj this page links to itself and its talk page so that changes to them can be tracked by the same means . \\n \\n \\n  = = xxunk</td>\n",
              "    </tr>\n",
              "    <tr>\n",
              "      <td>1</td>\n",
              "      <td>( xxmaj greek \" baptize \" ) , they do not eat \" , and \" baptize \" where xxunk , the new xxmaj christian rite , is intended . xxmaj the older ritual washing use of xxunk is relevant in the context of funerals since any xxmaj jew coming into contact with the dead body must undertake ritual washing . xxmaj during the xxmaj second xxmaj temple and early</td>\n",
              "    </tr>\n",
              "    <tr>\n",
              "      <td>2</td>\n",
              "      <td>functional xxmaj christology \" analyzes the works of xxmaj jesus xxmaj christ , while \" soteriological xxmaj christology \" analyzes the \" salvific \" xxunk of xxmaj christology . xxmaj several approaches can be distinguished within xxmaj christology . xxmaj the term \" xxmaj christology from above \" or \" high xxmaj christology \" refers to approaches that include aspects of divinity , such as xxmaj lord and xxmaj son</td>\n",
              "    </tr>\n",
              "    <tr>\n",
              "      <td>3</td>\n",
              "      <td>other than the creator will cease to exist , except xxmaj osiris , who will survive along with him . xxmaj details about this eschatological prospect are left unclear , including the fate of the dead who are associated with xxmaj osiris . xxmaj yet with the creator god and the god of renewal together in the waters that gave rise to the orderly world , there is the potential</td>\n",
              "    </tr>\n",
              "    <tr>\n",
              "      <td>4</td>\n",
              "      <td>xxmaj xxunk xxunk states , \" xxmaj just as these ancient martyrs were revealed once more , xxmaj catholics were beginning to be martyred afresh , both in mission fields overseas and in the struggle to win back xxmaj protestant northern xxmaj europe : the catacombs proved to be an inspiration for many to action and to heroism . xxunk missions were carried to new places beginning with the new</td>\n",
              "    </tr>\n",
              "  </tbody>\n",
              "</table>"
            ],
            "text/plain": [
              "<IPython.core.display.HTML object>"
            ]
          },
          "metadata": {
            "tags": []
          }
        }
      ]
    },
    {
      "cell_type": "code",
      "metadata": {
        "colab_type": "code",
        "id": "55tlSIdIxSwp",
        "colab": {
          "base_uri": "https://localhost:8080/",
          "height": 51
        },
        "outputId": "7646f466-b678-4592-fcd5-3fed819df375"
      },
      "source": [
        "print (paulpath)\n",
        "print(path)"
      ],
      "execution_count": null,
      "outputs": [
        {
          "output_type": "stream",
          "text": [
            "/spell/fastai\n",
            "/spell/fastai\n"
          ],
          "name": "stdout"
        }
      ]
    },
    {
      "cell_type": "markdown",
      "metadata": {
        "colab_type": "text",
        "hidden": true,
        "id": "qcLPVAEjukD-"
      },
      "source": [
        "Let's save our databunch for next time:"
      ]
    },
    {
      "cell_type": "code",
      "metadata": {
        "colab_type": "code",
        "hidden": true,
        "id": "-JQjYErLukD_",
        "colab": {
          "base_uri": "https://localhost:8080/",
          "height": 231
        },
        "outputId": "add9dcbb-51d2-4ce9-f5bd-54b69db39a42"
      },
      "source": [
        "data_lm.path=path\n",
        "print (data_lm.path)\n",
        "\n",
        "data_lm.save('lm_databunch_'+trans)\n",
        "#logwriter.append_row([getloggerdt(),'databunch saved as lm_databuch_'+trans])\n"
      ],
      "execution_count": null,
      "outputs": [
        {
          "output_type": "stream",
          "text": [
            "/spell/fastai\n"
          ],
          "name": "stdout"
        }
      ]
    },
    {
      "cell_type": "markdown",
      "metadata": {
        "colab_type": "text",
        "id": "d6mNXRpmukEA"
      },
      "source": [
        "### Loading saved data, and creating the language model"
      ]
    },
    {
      "cell_type": "markdown",
      "metadata": {
        "colab_type": "text",
        "id": "1nhZvov8ukEB"
      },
      "source": [
        "In the future we can load the data:"
      ]
    },
    {
      "cell_type": "code",
      "metadata": {
        "colab_type": "code",
        "id": "Yx28fAxjukEC",
        "colab": {}
      },
      "source": [
        "data_lm = load_data(path, 'lm_databunch_'+trans, bs=bs)"
      ],
      "execution_count": null,
      "outputs": []
    },
    {
      "cell_type": "markdown",
      "metadata": {
        "colab_type": "text",
        "id": "F6OBSTE0ukEE"
      },
      "source": [
        "We can then put this in a learner object very easily with a model loaded with the pretrained weights. They'll be downloaded the first time you'll execute the following line and stored in `~/.fastai/models/` (or elsewhere if you specified different paths in your config file)."
      ]
    },
    {
      "cell_type": "code",
      "metadata": {
        "colab_type": "code",
        "id": "oInIfpidukEE",
        "scrolled": true,
        "colab": {}
      },
      "source": [
        "learn_lm = language_model_learner(data_lm, AWD_LSTM, drop_mult=0.3)\n",
        "#logwriter.append_row([getloggerdt(),'learner created'])\n"
      ],
      "execution_count": null,
      "outputs": []
    },
    {
      "cell_type": "code",
      "metadata": {
        "colab_type": "code",
        "id": "BSOxD4adukEG",
        "colab": {
          "base_uri": "https://localhost:8080/",
          "height": 68
        },
        "outputId": "f9ac15a3-8ec1-489b-a401-ca98df809cdf"
      },
      "source": [
        "Config.DEFAULT_CONFIG\n"
      ],
      "execution_count": null,
      "outputs": [
        {
          "output_type": "execute_result",
          "data": {
            "text/plain": [
              "{'data_path': '/spell/gpt2wikidata/', 'model_path': '/spell/fastai/model'}"
            ]
          },
          "metadata": {
            "tags": []
          },
          "execution_count": 24
        }
      ]
    },
    {
      "cell_type": "code",
      "metadata": {
        "colab_type": "code",
        "id": "euo2UG1zukEI",
        "colab": {}
      },
      "source": [
        "wiki_itos = pickle.load(open(Config().model_path()/'wt103-fwd/itos_wt103.pkl', 'rb'))"
      ],
      "execution_count": null,
      "outputs": []
    },
    {
      "cell_type": "markdown",
      "metadata": {
        "colab_type": "text",
        "id": "ilhv9SBGEPBQ"
      },
      "source": [
        "### vocabulary Tests (can skip)"
      ]
    },
    {
      "cell_type": "code",
      "metadata": {
        "colab_type": "code",
        "id": "r3WzooFBukEL",
        "colab": {
          "base_uri": "https://localhost:8080/",
          "height": 187
        },
        "outputId": "cf6fca1a-ad2a-4831-abd3-8e3e1cf6725c"
      },
      "source": [
        "wiki_itos[:10]"
      ],
      "execution_count": null,
      "outputs": [
        {
          "output_type": "execute_result",
          "data": {
            "text/plain": [
              "['xxunk',\n",
              " 'xxpad',\n",
              " 'xxbos',\n",
              " 'xxeos',\n",
              " 'xxfld',\n",
              " 'xxmaj',\n",
              " 'xxup',\n",
              " 'xxrep',\n",
              " 'xxwrep',\n",
              " 'the']"
            ]
          },
          "metadata": {
            "tags": []
          },
          "execution_count": 49
        }
      ]
    },
    {
      "cell_type": "code",
      "metadata": {
        "colab_type": "code",
        "id": "tFGKGl_RukEN",
        "colab": {}
      },
      "source": [
        "vocab = data_lm.vocab"
      ],
      "execution_count": null,
      "outputs": []
    },
    {
      "cell_type": "code",
      "metadata": {
        "colab_type": "code",
        "id": "d3c7VtSnukEO",
        "colab": {
          "base_uri": "https://localhost:8080/",
          "height": 34
        },
        "outputId": "b6bb725f-7996-4ff6-a993-be3454aae6fd"
      },
      "source": [
        "vocab.stoi[\"eloi\"]"
      ],
      "execution_count": null,
      "outputs": [
        {
          "output_type": "execute_result",
          "data": {
            "text/plain": [
              "9496"
            ]
          },
          "metadata": {
            "tags": []
          },
          "execution_count": 51
        }
      ]
    },
    {
      "cell_type": "code",
      "metadata": {
        "colab_type": "code",
        "id": "YY3GxoTdukER",
        "colab": {
          "base_uri": "https://localhost:8080/",
          "height": 34
        },
        "outputId": "de984571-52fe-4a9d-8bdf-3636b8f3f1b0"
      },
      "source": [
        "vocab.itos[vocab.stoi[\"eloi\"]]"
      ],
      "execution_count": null,
      "outputs": [
        {
          "output_type": "execute_result",
          "data": {
            "text/plain": [
              "'eloi'"
            ]
          },
          "metadata": {
            "tags": []
          },
          "execution_count": 52
        }
      ]
    },
    {
      "cell_type": "code",
      "metadata": {
        "colab_type": "code",
        "id": "4WdA_wzrukET",
        "colab": {
          "base_uri": "https://localhost:8080/",
          "height": 34
        },
        "outputId": "819d2b38-8d17-41a8-a225-61a7cb62e30f"
      },
      "source": [
        "\"eloi\" in wiki_itos"
      ],
      "execution_count": null,
      "outputs": [
        {
          "output_type": "execute_result",
          "data": {
            "text/plain": [
              "False"
            ]
          },
          "metadata": {
            "tags": []
          },
          "execution_count": 53
        }
      ]
    },
    {
      "cell_type": "code",
      "metadata": {
        "colab_type": "code",
        "id": "vf2ayehwukEX",
        "colab": {
          "base_uri": "https://localhost:8080/",
          "height": 34
        },
        "outputId": "547d0a67-d22c-42d3-e534-dee034907543"
      },
      "source": [
        "vocab.itos[vocab.stoi[\"mobula\"]]"
      ],
      "execution_count": null,
      "outputs": [
        {
          "output_type": "execute_result",
          "data": {
            "text/plain": [
              "'xxunk'"
            ]
          },
          "metadata": {
            "tags": []
          },
          "execution_count": 54
        }
      ]
    },
    {
      "cell_type": "code",
      "metadata": {
        "colab_type": "code",
        "id": "yTyh5BUzukEY",
        "colab": {}
      },
      "source": [
        "awd = learn_lm.model[0]"
      ],
      "execution_count": null,
      "outputs": []
    },
    {
      "cell_type": "markdown",
      "metadata": {
        "colab_type": "text",
        "heading_collapsed": true,
        "id": "temkUO25ukEh"
      },
      "source": [
        "### Difference in vocabulary between Bible translation and Wikipedia (can skip)"
      ]
    },
    {
      "cell_type": "markdown",
      "metadata": {
        "colab_type": "text",
        "hidden": true,
        "id": "Ev71RW_vukEh"
      },
      "source": [
        "We are going to load wiki_itos, which can be downloaded along with wikitext-103.  We will compare the vocabulary from wikitext with the vocabulary in Bible translation.  It is to be expected that the two sets have some different vocabulary words, and that is no problem for transfer learning!"
      ]
    },
    {
      "cell_type": "code",
      "metadata": {
        "colab_type": "code",
        "id": "_yH3jmJnukEb",
        "colab": {}
      },
      "source": [
        "from scipy.spatial.distance import cosine as dist"
      ],
      "execution_count": null,
      "outputs": []
    },
    {
      "cell_type": "code",
      "metadata": {
        "colab_type": "code",
        "id": "C-Xu5EZoukEd",
        "colab": {}
      },
      "source": [
        "enc = learn_lm.model[0].encoder"
      ],
      "execution_count": null,
      "outputs": []
    },
    {
      "cell_type": "code",
      "metadata": {
        "colab_type": "code",
        "id": "Sb4J6P1_ukEf",
        "colab": {
          "base_uri": "https://localhost:8080/",
          "height": 34
        },
        "outputId": "3a4a8e6f-ca5d-4010-a444-be6b6bdfc03c"
      },
      "source": [
        "enc.weight.size()"
      ],
      "execution_count": null,
      "outputs": [
        {
          "output_type": "execute_result",
          "data": {
            "text/plain": [
              "torch.Size([9776, 400])"
            ]
          },
          "metadata": {
            "tags": []
          },
          "execution_count": 62
        }
      ]
    },
    {
      "cell_type": "code",
      "metadata": {
        "colab_type": "code",
        "hidden": true,
        "id": "7H1TyzmPukEj",
        "colab": {
          "base_uri": "https://localhost:8080/",
          "height": 34
        },
        "outputId": "074c740b-88af-4692-cb93-08257a0cd7ef"
      },
      "source": [
        "len(wiki_itos)"
      ],
      "execution_count": null,
      "outputs": [
        {
          "output_type": "execute_result",
          "data": {
            "text/plain": [
              "60000"
            ]
          },
          "metadata": {
            "tags": []
          },
          "execution_count": 63
        }
      ]
    },
    {
      "cell_type": "code",
      "metadata": {
        "colab_type": "code",
        "hidden": true,
        "id": "Vi3mSYy0ukEk",
        "colab": {
          "base_uri": "https://localhost:8080/",
          "height": 34
        },
        "outputId": "19b7e05e-2be9-45ad-9105-a4d461bc97d4"
      },
      "source": [
        "len(vocab.itos)"
      ],
      "execution_count": null,
      "outputs": [
        {
          "output_type": "execute_result",
          "data": {
            "text/plain": [
              "9776"
            ]
          },
          "metadata": {
            "tags": []
          },
          "execution_count": 64
        }
      ]
    },
    {
      "cell_type": "code",
      "metadata": {
        "colab_type": "code",
        "hidden": true,
        "id": "EDxAW8k2ukEp",
        "colab": {}
      },
      "source": [
        "i, unks = 0, []\n",
        "while len(unks) < 50:\n",
        "    if data_lm.vocab.itos[i] not in wiki_itos: unks.append((i,data_lm.vocab.itos[i]))\n",
        "    i += 1"
      ],
      "execution_count": null,
      "outputs": []
    },
    {
      "cell_type": "code",
      "metadata": {
        "colab_type": "code",
        "hidden": true,
        "id": "eXaXNlkPukEr",
        "colab": {}
      },
      "source": [
        "wiki_words = set(wiki_itos)"
      ],
      "execution_count": null,
      "outputs": []
    },
    {
      "cell_type": "code",
      "metadata": {
        "colab_type": "code",
        "hidden": true,
        "id": "pQnS0V7PukEs",
        "colab": {}
      },
      "source": [
        "bible_words = set(vocab.itos)"
      ],
      "execution_count": null,
      "outputs": []
    },
    {
      "cell_type": "code",
      "metadata": {
        "colab_type": "code",
        "hidden": true,
        "id": "RPkaROIGukEt",
        "colab": {}
      },
      "source": [
        "wiki_not_bible = wiki_words.difference(bible_words)"
      ],
      "execution_count": null,
      "outputs": []
    },
    {
      "cell_type": "code",
      "metadata": {
        "colab_type": "code",
        "hidden": true,
        "id": "Uo-ULUKpukEv",
        "colab": {}
      },
      "source": [
        "bible_not_wiki = bible_words.difference(wiki_words)"
      ],
      "execution_count": null,
      "outputs": []
    },
    {
      "cell_type": "code",
      "metadata": {
        "colab_type": "code",
        "hidden": true,
        "id": "CfEm_zNQukEw",
        "colab": {}
      },
      "source": [
        "wiki_not_bible_list = []\n",
        "\n",
        "for i in range(100):\n",
        "    word = wiki_not_bible.pop()\n",
        "    wiki_not_bible_list.append(word)\n",
        "    wiki_not_bible.add(word)"
      ],
      "execution_count": null,
      "outputs": []
    },
    {
      "cell_type": "code",
      "metadata": {
        "colab_type": "code",
        "hidden": true,
        "id": "ZUvZ1K98ukEy",
        "scrolled": true,
        "colab": {
          "base_uri": "https://localhost:8080/",
          "height": 272
        },
        "outputId": "a85f1be7-241f-4b18-9bf8-cc9f69d0d2e2"
      },
      "source": [
        "wiki_not_bible_list[:15]"
      ],
      "execution_count": null,
      "outputs": [
        {
          "output_type": "execute_result",
          "data": {
            "text/plain": [
              "['oases',\n",
              " 'approving',\n",
              " 'tuck',\n",
              " 'aphid',\n",
              " 'haines',\n",
              " 'sōryū',\n",
              " 'pasties',\n",
              " '1101',\n",
              " 'hønefoss',\n",
              " '402',\n",
              " 'unwritten',\n",
              " 'svetlana',\n",
              " 'ipo',\n",
              " 'fimi',\n",
              " '31.2']"
            ]
          },
          "metadata": {
            "tags": []
          },
          "execution_count": 71
        }
      ]
    },
    {
      "cell_type": "code",
      "metadata": {
        "colab_type": "code",
        "hidden": true,
        "id": "5Yhu_lhXukEz",
        "colab": {}
      },
      "source": [
        "bible_not_wiki_list = []\n",
        "\n",
        "for i in range(100):\n",
        "    word = bible_not_wiki.pop()\n",
        "    bible_not_wiki_list.append(word)\n",
        "    bible_not_wiki.add(word)"
      ],
      "execution_count": null,
      "outputs": []
    },
    {
      "cell_type": "code",
      "metadata": {
        "colab_type": "code",
        "hidden": true,
        "id": "2DEwwpRNukE3",
        "colab": {
          "base_uri": "https://localhost:8080/",
          "height": 272
        },
        "outputId": "10019f17-f7cf-4189-e512-57281d2e5f65"
      },
      "source": [
        "bible_not_wiki_list[:15]"
      ],
      "execution_count": null,
      "outputs": [
        {
          "output_type": "execute_result",
          "data": {
            "text/plain": [
              "['ibleam',\n",
              " 'galatia',\n",
              " 'jehoiarib',\n",
              " 'hachilah',\n",
              " 'elpaal',\n",
              " 'epaphras',\n",
              " 'iddo',\n",
              " 'buzite',\n",
              " 'grope',\n",
              " 'tubal',\n",
              " 'zanoah',\n",
              " 'arvad',\n",
              " 'hasupha',\n",
              " 'blasphemies',\n",
              " 'premeditation']"
            ]
          },
          "metadata": {
            "tags": []
          },
          "execution_count": 73
        }
      ]
    },
    {
      "cell_type": "markdown",
      "metadata": {
        "colab_type": "text",
        "hidden": true,
        "id": "ikrGdcaPukE5"
      },
      "source": [
        "All words that appear in the IMDB vocab, but not the wikitext-103 vocab, will be initialized to the same random vector in a model.  As the model trains, we will learn these weights."
      ]
    },
    {
      "cell_type": "code",
      "metadata": {
        "colab_type": "code",
        "id": "EwTfXsUTzejG",
        "colab": {}
      },
      "source": [
        "#test words\n",
        "unique_wiki_words=\"modernisation\"\n",
        "common_word=\"house\"\n",
        "unique_bible_word1=\"blasphemies\"\n",
        "unique_bible_words2=\"displeasing\""
      ],
      "execution_count": null,
      "outputs": []
    },
    {
      "cell_type": "code",
      "metadata": {
        "colab_type": "code",
        "hidden": true,
        "id": "S-OGeMOaukE5",
        "colab": {
          "base_uri": "https://localhost:8080/",
          "height": 34
        },
        "outputId": "2e6a0f62-5a5d-4a8c-8554-6b410d86e8bb"
      },
      "source": [
        "vocab.stoi[unique_wiki_words]"
      ],
      "execution_count": null,
      "outputs": [
        {
          "output_type": "execute_result",
          "data": {
            "text/plain": [
              "0"
            ]
          },
          "metadata": {
            "tags": []
          },
          "execution_count": 74
        }
      ]
    },
    {
      "cell_type": "code",
      "metadata": {
        "colab_type": "code",
        "hidden": true,
        "id": "qQ4l1YnRukE7",
        "colab": {
          "base_uri": "https://localhost:8080/",
          "height": 34
        },
        "outputId": "9b71d095-eb16-4459-ceda-64ababc04de1"
      },
      "source": [
        "unique_wiki_words in wiki_words"
      ],
      "execution_count": null,
      "outputs": [
        {
          "output_type": "execute_result",
          "data": {
            "text/plain": [
              "True"
            ]
          },
          "metadata": {
            "tags": []
          },
          "execution_count": 75
        }
      ]
    },
    {
      "cell_type": "code",
      "metadata": {
        "colab_type": "code",
        "hidden": true,
        "id": "Xix0Mw29ukE-",
        "colab": {
          "base_uri": "https://localhost:8080/",
          "height": 34
        },
        "outputId": "a79058cb-9e75-497d-c12e-c58ebf4d09b3"
      },
      "source": [
        "vocab.stoi[unique_bible_word1]"
      ],
      "execution_count": null,
      "outputs": [
        {
          "output_type": "execute_result",
          "data": {
            "text/plain": [
              "5193"
            ]
          },
          "metadata": {
            "tags": []
          },
          "execution_count": 80
        }
      ]
    },
    {
      "cell_type": "code",
      "metadata": {
        "colab_type": "code",
        "hidden": true,
        "id": "Jtv6uVAcukFA",
        "colab": {
          "base_uri": "https://localhost:8080/",
          "height": 34
        },
        "outputId": "1d21f0e3-3df1-4916-e758-7b4177db858b"
      },
      "source": [
        "unique_bible_word1 in wiki_words, unique_bible_word1 in bible_words"
      ],
      "execution_count": null,
      "outputs": [
        {
          "output_type": "execute_result",
          "data": {
            "text/plain": [
              "(False, True)"
            ]
          },
          "metadata": {
            "tags": []
          },
          "execution_count": 81
        }
      ]
    },
    {
      "cell_type": "code",
      "metadata": {
        "colab_type": "code",
        "hidden": true,
        "id": "X3pEivi3ukFB",
        "colab": {
          "base_uri": "https://localhost:8080/",
          "height": 34
        },
        "outputId": "faac8ceb-32ab-41d9-feb7-1c4caaf3839f"
      },
      "source": [
        "vocab.stoi[unique_bible_words2]"
      ],
      "execution_count": null,
      "outputs": [
        {
          "output_type": "execute_result",
          "data": {
            "text/plain": [
              "4559"
            ]
          },
          "metadata": {
            "tags": []
          },
          "execution_count": 82
        }
      ]
    },
    {
      "cell_type": "code",
      "metadata": {
        "colab_type": "code",
        "hidden": true,
        "id": "pdQAG7mfukFD",
        "colab": {
          "base_uri": "https://localhost:8080/",
          "height": 34
        },
        "outputId": "63d83366-056d-4165-e920-308483de80ad"
      },
      "source": [
        "unique_bible_words2 in wiki_words, unique_bible_words2 in bible_words"
      ],
      "execution_count": null,
      "outputs": [
        {
          "output_type": "execute_result",
          "data": {
            "text/plain": [
              "(False, True)"
            ]
          },
          "metadata": {
            "tags": []
          },
          "execution_count": 83
        }
      ]
    },
    {
      "cell_type": "code",
      "metadata": {
        "colab_type": "code",
        "hidden": true,
        "id": "7EjJkPYOukFF",
        "scrolled": true,
        "colab": {
          "base_uri": "https://localhost:8080/",
          "height": 34
        },
        "outputId": "86c4b87f-7680-4795-d356-65c83bb4f1ac"
      },
      "source": [
        "common_word in wiki_words, common_word in bible_words"
      ],
      "execution_count": null,
      "outputs": [
        {
          "output_type": "execute_result",
          "data": {
            "text/plain": [
              "(True, True)"
            ]
          },
          "metadata": {
            "tags": []
          },
          "execution_count": 84
        }
      ]
    },
    {
      "cell_type": "code",
      "metadata": {
        "colab_type": "code",
        "hidden": true,
        "id": "zwPMLuQKukFG",
        "colab": {
          "base_uri": "https://localhost:8080/",
          "height": 34
        },
        "outputId": "09d1b1f0-d421-4a57-bd28-d1df9589d01b"
      },
      "source": [
        "np.allclose(enc.weight[vocab.stoi[unique_bible_word1], :], \n",
        "            enc.weight[vocab.stoi[unique_bible_words2], :])"
      ],
      "execution_count": null,
      "outputs": [
        {
          "output_type": "execute_result",
          "data": {
            "text/plain": [
              "True"
            ]
          },
          "metadata": {
            "tags": []
          },
          "execution_count": 90
        }
      ]
    },
    {
      "cell_type": "code",
      "metadata": {
        "colab_type": "code",
        "hidden": true,
        "id": "cOe-T9UDukFI",
        "colab": {
          "base_uri": "https://localhost:8080/",
          "height": 34
        },
        "outputId": "a0dc2bdc-6da5-44d3-fc00-d5754bcab52e"
      },
      "source": [
        "np.allclose(enc.weight[vocab.stoi[unique_bible_word1], :], \n",
        "            enc.weight[vocab.stoi[common_word], :])"
      ],
      "execution_count": null,
      "outputs": [
        {
          "output_type": "execute_result",
          "data": {
            "text/plain": [
              "False"
            ]
          },
          "metadata": {
            "tags": []
          },
          "execution_count": 91
        }
      ]
    },
    {
      "cell_type": "code",
      "metadata": {
        "colab_type": "code",
        "hidden": true,
        "id": "OVJsME0tukFJ",
        "colab": {}
      },
      "source": [
        "new_word_vec = enc.weight[vocab.stoi[unique_bible_word1], :]"
      ],
      "execution_count": null,
      "outputs": []
    },
    {
      "cell_type": "markdown",
      "metadata": {
        "colab_type": "text",
        "heading_collapsed": true,
        "id": "EV3xHF-OukFL"
      },
      "source": [
        "### Generating fake Bible texts (using wiki-text model) (can skip)"
      ]
    },
    {
      "cell_type": "code",
      "metadata": {
        "colab_type": "code",
        "hidden": true,
        "id": "oubCEA5BukFM",
        "colab": {}
      },
      "source": [
        "TEXT = \"The color of the sky is\"\n",
        "N_WORDS = 40\n",
        "N_SENTENCES = 2"
      ],
      "execution_count": null,
      "outputs": []
    },
    {
      "cell_type": "code",
      "metadata": {
        "colab_type": "code",
        "hidden": true,
        "id": "64gELVqTukFP",
        "colab": {
          "base_uri": "https://localhost:8080/",
          "height": 71
        },
        "outputId": "3515082b-2b59-4b65-c9dd-f92f2c19323d"
      },
      "source": [
        "print(\"\\n\".join(learn_lm.predict(TEXT, N_WORDS, temperature=0.75) for _ in range(N_SENTENCES)))"
      ],
      "execution_count": null,
      "outputs": [
        {
          "output_type": "stream",
          "text": [
            "The color of the sky is not used in any of the Star Wars , and it is often explained that the Star Wars Star Wars - inspired Star Wars Dark Shadows War and\n",
            "The color of the sky is displayed in the main character and the character is entirely blue in color . The character appears as a red figure in the two - part character The Boat Race . The character first appears\n"
          ],
          "name": "stdout"
        }
      ]
    },
    {
      "cell_type": "code",
      "metadata": {
        "colab_type": "code",
        "hidden": true,
        "id": "3LUmZ9QrukFQ",
        "colab": {}
      },
      "source": [
        "TEXT = \"And Jesus said\"\n",
        "N_WORDS = 30\n",
        "N_SENTENCES = 2"
      ],
      "execution_count": null,
      "outputs": []
    },
    {
      "cell_type": "code",
      "metadata": {
        "colab_type": "code",
        "hidden": true,
        "id": "48GIOx7dukFS",
        "colab": {
          "base_uri": "https://localhost:8080/",
          "height": 51
        },
        "outputId": "d82c6cae-f889-42db-ba64-15c67f93a996"
      },
      "source": [
        "print(\"\\n\".join(learn_lm.predict(TEXT, N_WORDS, temperature=0.75) for _ in range(N_SENTENCES)))"
      ],
      "execution_count": null,
      "outputs": [
        {
          "output_type": "stream",
          "text": [
            "And Jesus said they would not love Jesus Christ because they would never love Jesus . Jesus will come to a cure with Jesus Christ and\n",
            "And Jesus said they were not God and Jesus Christ , Jesus Christ the Jesus Christ , Jesus Christ Christ , and\n"
          ],
          "name": "stdout"
        }
      ]
    },
    {
      "cell_type": "code",
      "metadata": {
        "colab_type": "code",
        "id": "FHZ8E27ibKq1",
        "colab": {}
      },
      "source": [
        "TEXT = \"I, Paul, an apostle\"\n",
        "N_WORDS = 30\n",
        "N_SENTENCES = 2"
      ],
      "execution_count": null,
      "outputs": []
    },
    {
      "cell_type": "code",
      "metadata": {
        "colab_type": "code",
        "hidden": true,
        "id": "XgrSm66kukFT",
        "scrolled": true,
        "colab": {
          "base_uri": "https://localhost:8080/",
          "height": 71
        },
        "outputId": "e6e2ebb3-d877-4894-829b-83d107f6e324"
      },
      "source": [
        "print(\"\\n\".join(learn_lm.predict(TEXT, N_WORDS, temperature=0.75) for _ in range(N_SENTENCES)))"
      ],
      "execution_count": null,
      "outputs": [
        {
          "output_type": "stream",
          "text": [
            "I, Paul, an apostle and a Christian Christian , was part of the Congregation for the Religion of Jesus Christ of Latter - day Saints (\n",
            "I, Paul, an apostle of the Christian faith , and a Christian , published a book on religious faith and religion in Christian literature , called The Christian in\n"
          ],
          "name": "stdout"
        }
      ]
    },
    {
      "cell_type": "code",
      "metadata": {
        "colab_type": "code",
        "hidden": true,
        "id": "KmPQnNmfukFV",
        "colab": {}
      },
      "source": [
        "TEXT = \"And Jesus, moved with compassion,\"\n",
        "N_WORDS = 40\n",
        "N_SENTENCES = 2"
      ],
      "execution_count": null,
      "outputs": []
    },
    {
      "cell_type": "code",
      "metadata": {
        "colab_type": "code",
        "hidden": true,
        "id": "9Qr713SSukFW",
        "scrolled": true,
        "colab": {
          "base_uri": "https://localhost:8080/",
          "height": 71
        },
        "outputId": "99a34ccc-cd02-4a29-b60d-38941410fe62"
      },
      "source": [
        "print(\"\\n\".join(learn_lm.predict(TEXT, N_WORDS, temperature=0.75) for _ in range(N_SENTENCES)))"
      ],
      "execution_count": null,
      "outputs": [
        {
          "output_type": "stream",
          "text": [
            "And Jesus, moved with compassion, first appeared on Late Night with Paul Hunter , on May 29 , March 20 , May 29 , May 20 , March 18 , May her final day of\n",
            "And Jesus, moved with compassion, was released on US - United Nations Special Protection Agency , and continues to be an important source of evidence that Jesus Christ was accused of supporting the Roman Emperor\n"
          ],
          "name": "stdout"
        }
      ]
    },
    {
      "cell_type": "markdown",
      "metadata": {
        "colab_type": "text",
        "hidden": true,
        "id": "0jYCJj2lukFW"
      },
      "source": [
        "Lowering `temperature` will make the texts less randomized."
      ]
    },
    {
      "cell_type": "code",
      "metadata": {
        "colab_type": "code",
        "hidden": true,
        "id": "90GClsPBukFX",
        "colab": {}
      },
      "source": [
        "#doc(LanguageLearner.predict)"
      ],
      "execution_count": null,
      "outputs": []
    },
    {
      "cell_type": "code",
      "metadata": {
        "colab_type": "code",
        "hidden": true,
        "id": "WRS1PxK6ukFY",
        "colab": {
          "base_uri": "https://localhost:8080/",
          "height": 71
        },
        "outputId": "17f76c7d-c25c-458d-8452-3cb2b419b8a8"
      },
      "source": [
        "print(\"\\n\".join(learn_lm.predict(TEXT, N_WORDS, temperature=0.10) for _ in range(N_SENTENCES)))"
      ],
      "execution_count": null,
      "outputs": [
        {
          "output_type": "stream",
          "text": [
            "And Jesus, moved with compassion, and Jesus Christ , Jesus Christ , Jesus Christ , Jesus Christ , Jesus Christ , Jesus Christ , Jesus Christ , Jesus Christ\n",
            "And Jesus, moved with compassion, and Jesus Christ , Jesus Christ , Jesus Christ , Jesus Christ , Jesus Christ , Jesus Christ , Jesus Christ , Jesus Christ\n"
          ],
          "name": "stdout"
        }
      ]
    },
    {
      "cell_type": "markdown",
      "metadata": {
        "colab_type": "text",
        "id": "53VzrpA8ukFa"
      },
      "source": [
        "### Training the language model (run first time - otherwise go to load saved weights)"
      ]
    },
    {
      "cell_type": "markdown",
      "metadata": {
        "colab_type": "text",
        "id": "f5O59TRgukFa"
      },
      "source": [
        "Now, we want to choose a good learning rate."
      ]
    },
    {
      "cell_type": "code",
      "metadata": {
        "colab_type": "code",
        "id": "YQcHct32ukFe",
        "colab": {
          "base_uri": "https://localhost:8080/",
          "height": 112
        },
        "outputId": "8e77985f-7ebc-464c-9341-3a186cb14b7c"
      },
      "source": [
        "learn_lm.lr_find()"
      ],
      "execution_count": null,
      "outputs": [
        {
          "output_type": "display_data",
          "data": {
            "text/html": [
              "\n",
              "    <div>\n",
              "        <style>\n",
              "            /* Turns off some styling */\n",
              "            progress {\n",
              "                /* gets rid of default border in Firefox and Opera. */\n",
              "                border: none;\n",
              "                /* Needs to be in here for Safari polyfill so background images work as expected. */\n",
              "                background-size: auto;\n",
              "            }\n",
              "            .progress-bar-interrupted, .progress-bar-interrupted::-webkit-progress-bar {\n",
              "                background: #F44336;\n",
              "            }\n",
              "        </style>\n",
              "      <progress value='0' class='' max='1' style='width:300px; height:20px; vertical-align: middle;'></progress>\n",
              "      0.00% [0/1 00:00<00:00]\n",
              "    </div>\n",
              "    \n",
              "<table border=\"1\" class=\"dataframe\">\n",
              "  <thead>\n",
              "    <tr style=\"text-align: left;\">\n",
              "      <th>epoch</th>\n",
              "      <th>train_loss</th>\n",
              "      <th>valid_loss</th>\n",
              "      <th>accuracy</th>\n",
              "      <th>time</th>\n",
              "    </tr>\n",
              "  </thead>\n",
              "  <tbody>\n",
              "  </tbody>\n",
              "</table><p>\n",
              "\n",
              "    <div>\n",
              "        <style>\n",
              "            /* Turns off some styling */\n",
              "            progress {\n",
              "                /* gets rid of default border in Firefox and Opera. */\n",
              "                border: none;\n",
              "                /* Needs to be in here for Safari polyfill so background images work as expected. */\n",
              "                background-size: auto;\n",
              "            }\n",
              "            .progress-bar-interrupted, .progress-bar-interrupted::-webkit-progress-bar {\n",
              "                background: #F44336;\n",
              "            }\n",
              "        </style>\n",
              "      <progress value='99' class='' max='7853' style='width:300px; height:20px; vertical-align: middle;'></progress>\n",
              "      1.26% [99/7853 00:28<37:49 11.0288]\n",
              "    </div>\n",
              "    "
            ],
            "text/plain": [
              "<IPython.core.display.HTML object>"
            ]
          },
          "metadata": {
            "tags": []
          }
        },
        {
          "output_type": "stream",
          "text": [
            "LR Finder is complete, type {learner_name}.recorder.plot() to see the graph.\n"
          ],
          "name": "stdout"
        }
      ]
    },
    {
      "cell_type": "code",
      "metadata": {
        "colab_type": "code",
        "id": "hErUGSD8ukFf",
        "colab": {
          "base_uri": "https://localhost:8080/",
          "height": 398
        },
        "outputId": "db1e4527-d2df-490e-fbd3-6319ad808c83"
      },
      "source": [
        "learn_lm.recorder.plot(skip_end=15)\n",
        "#logwriter.append_row([getloggerdt(),'learning rate created'])\n"
      ],
      "execution_count": null,
      "outputs": [
        {
          "output_type": "execute_result",
          "data": {
            "text/plain": [
              "{'spreadsheetId': '1RyYJaX1ysSAo4JpXhbRVcrRm1UGV3oUI7SGLg1rwzUs',\n",
              " 'tableRange': 'Sheet1!A1:B5',\n",
              " 'updates': {'spreadsheetId': '1RyYJaX1ysSAo4JpXhbRVcrRm1UGV3oUI7SGLg1rwzUs',\n",
              "  'updatedCells': 2,\n",
              "  'updatedColumns': 2,\n",
              "  'updatedRange': 'Sheet1!A6:B6',\n",
              "  'updatedRows': 1}}"
            ]
          },
          "metadata": {
            "tags": []
          },
          "execution_count": 31
        },
        {
          "output_type": "display_data",
          "data": {
            "image/png": "[encoded data removed]",
            "text/plain": [
              "<Figure size 432x288 with 1 Axes>"
            ]
          },
          "metadata": {
            "tags": [],
            "needs_background": "light"
          }
        }
      ]
    },
    {
      "cell_type": "markdown",
      "metadata": {
        "colab_type": "text",
        "id": "PXe5cmoP2E8Y"
      },
      "source": [
        "You want to choose a learning rate that is in the middle of slope BEFORE it increases again."
      ]
    },
    {
      "cell_type": "code",
      "metadata": {
        "colab_type": "code",
        "id": "dJfQ6RRwukFj",
        "colab": {}
      },
      "source": [
        "#set the learning rate from above here\n",
        "lr = 1e-2\n",
        "lr *= bs/48\n",
        "#logwriter.append_row([getloggerdt(),'learning rate set to '+str(lr)])\n"
      ],
      "execution_count": null,
      "outputs": []
    },
    {
      "cell_type": "code",
      "metadata": {
        "colab_type": "code",
        "id": "SwkSwW1DukFk",
        "colab": {}
      },
      "source": [
        "learn_lm.to_fp16();"
      ],
      "execution_count": null,
      "outputs": []
    },
    {
      "cell_type": "code",
      "metadata": {
        "colab_type": "code",
        "id": "nIXNYl_FukFm",
        "colab": {
          "base_uri": "https://localhost:8080/",
          "height": 199
        },
        "outputId": "e235e29a-4819-4b2e-d2a8-8f27636e960d"
      },
      "source": [
        "#This trains the top layer of the language model once\n",
        "learn_lm.fit_one_cycle(1, lr*10, moms=(0.8,0.7),callbacks=[SaveModelCallback(learn_lm, every='epoch',monitor='accuracy', name='saved_net'+trans)])\n",
        "#logwriter.append_row([getloggerdt(),'top layer of model trained'])\n"
      ],
      "execution_count": null,
      "outputs": [
        {
          "output_type": "display_data",
          "data": {
            "text/html": [
              "<table border=\"1\" class=\"dataframe\">\n",
              "  <thead>\n",
              "    <tr style=\"text-align: left;\">\n",
              "      <th>epoch</th>\n",
              "      <th>train_loss</th>\n",
              "      <th>valid_loss</th>\n",
              "      <th>accuracy</th>\n",
              "      <th>time</th>\n",
              "    </tr>\n",
              "  </thead>\n",
              "  <tbody>\n",
              "    <tr>\n",
              "      <td>0</td>\n",
              "      <td>4.785406</td>\n",
              "      <td>4.491290</td>\n",
              "      <td>0.297889</td>\n",
              "      <td>41:43</td>\n",
              "    </tr>\n",
              "  </tbody>\n",
              "</table>"
            ],
            "text/plain": [
              "<IPython.core.display.HTML object>"
            ]
          },
          "metadata": {
            "tags": []
          }
        }
      ]
    },
    {
      "cell_type": "markdown",
      "metadata": {
        "colab_type": "text",
        "id": "8HbM9yEhukFn"
      },
      "source": [
        "Since this is relatively slow to train, we will save our weights:"
      ]
    },
    {
      "cell_type": "code",
      "metadata": {
        "colab_type": "code",
        "id": "3FWA9somukFn",
        "colab": {}
      },
      "source": [
        "learn_lm.save('fit_1'+trans)\n",
        "#logwriter.append_row([getloggerdt(),'top layer of model saved as fit_1'+trans])\n"
      ],
      "execution_count": null,
      "outputs": []
    },
    {
      "cell_type": "code",
      "metadata": {
        "colab_type": "code",
        "id": "wZVMwmh5ukFq",
        "colab": {
          "base_uri": "https://localhost:8080/",
          "height": 34
        },
        "outputId": "cd62e879-7c19-4508-97d3-d72feecb6765"
      },
      "source": [
        "learn_lm.path"
      ],
      "execution_count": null,
      "outputs": [
        {
          "output_type": "execute_result",
          "data": {
            "text/plain": [
              "PosixPath('/spell/fastai')"
            ]
          },
          "metadata": {
            "tags": []
          },
          "execution_count": 29
        }
      ]
    },
    {
      "cell_type": "code",
      "metadata": {
        "colab_type": "code",
        "id": "pT0YMx2QukFx",
        "colab": {
          "base_uri": "https://localhost:8080/",
          "height": 51
        },
        "outputId": "c300635a-9568-4e21-87f3-c1bc80389214"
      },
      "source": [
        "import os\n",
        "\n",
        "learn_lm.path=Path(\"/spell/fastai/\")\n",
        "print(learn_lm.path)\n",
        "print(trans)"
      ],
      "execution_count": null,
      "outputs": [
        {
          "output_type": "stream",
          "text": [
            "/spell/fastai\n",
            "wikipedia_relwcat - wikipedia_relwcat\n"
          ],
          "name": "stdout"
        }
      ]
    },
    {
      "cell_type": "code",
      "metadata": {
        "colab_type": "code",
        "id": "Q_68xtthukFy",
        "colab": {}
      },
      "source": [
        "learn_lm.load('fit_1'+trans);"
      ],
      "execution_count": null,
      "outputs": []
    },
    {
      "cell_type": "code",
      "metadata": {
        "colab_type": "code",
        "id": "G7YBlgCuukFz",
        "colab": {}
      },
      "source": [
        "#set this learning rate to the same thing (you can play with it if you want)\n",
        "lr = 1e-3\n",
        "lr *= bs/48"
      ],
      "execution_count": null,
      "outputs": []
    },
    {
      "cell_type": "markdown",
      "metadata": {
        "colab_type": "text",
        "id": "0C8yXY4AukF0"
      },
      "source": [
        "To complete the fine-tuning, we can then unfreeze and launch a new training.<br> This will train the entire model 10 times. It will save the model each time just in case the system crashes."
      ]
    },
    {
      "cell_type": "code",
      "metadata": {
        "colab_type": "code",
        "id": "MsowSb87ukF2",
        "colab": {}
      },
      "source": [
        "learn_lm.unfreeze()"
      ],
      "execution_count": null,
      "outputs": []
    },
    {
      "cell_type": "code",
      "metadata": {
        "colab_type": "code",
        "id": "K-Jgbh1zukF3",
        "colab": {}
      },
      "source": [
        "learn_lm.fit_one_cycle(10, lr, moms=(0.8,0.7),callbacks=[SaveModelCallback(learn_lm, every='epoch',monitor='accuracy', name='10saved_net'+trans)])"
      ],
      "execution_count": null,
      "outputs": []
    },
    {
      "cell_type": "code",
      "metadata": {
        "colab_type": "code",
        "id": "tlIo2rhTs96_",
        "colab": {
          "base_uri": "https://localhost:8080/",
          "height": 381
        },
        "outputId": "1b987221-2778-414c-8a35-17b765c4ae4e"
      },
      "source": [
        "!nvidia-smi"
      ],
      "execution_count": null,
      "outputs": [
        {
          "output_type": "stream",
          "text": [
            "Sun Jun 28 13:26:21 2020       \n",
            "+-----------------------------------------------------------------------------+\n",
            "| NVIDIA-SMI 450.36.06    Driver Version: 418.67       CUDA Version: 10.1     |\n",
            "|-------------------------------+----------------------+----------------------+\n",
            "| GPU  Name        Persistence-M| Bus-Id        Disp.A | Volatile Uncorr. ECC |\n",
            "| Fan  Temp  Perf  Pwr:Usage/Cap|         Memory-Usage | GPU-Util  Compute M. |\n",
            "|                               |                      |               MIG M. |\n",
            "|===============================+======================+======================|\n",
            "|   0  Tesla K80           Off  | 00000000:00:04.0 Off |                    0 |\n",
            "| N/A   72C    P8    34W / 149W |     11MiB / 11441MiB |      0%      Default |\n",
            "|                               |                      |                 ERR! |\n",
            "+-------------------------------+----------------------+----------------------+\n",
            "                                                                               \n",
            "+-----------------------------------------------------------------------------+\n",
            "| Processes:                                                                  |\n",
            "|  GPU   GI   CI        PID   Type   Process name                  GPU Memory |\n",
            "|        ID   ID                                                   Usage      |\n",
            "|=============================================================================|\n",
            "|  No running processes found                                                 |\n",
            "+-----------------------------------------------------------------------------+\n"
          ],
          "name": "stdout"
        }
      ]
    },
    {
      "cell_type": "code",
      "metadata": {
        "colab_type": "code",
        "id": "jRT3r-Znh7gO",
        "colab": {}
      },
      "source": [
        "#restart if interrupted\n",
        "restart_ep=4\n",
        "learn_lm.fit_one_cycle(10,lr, moms=(0.8,0.7), start_epoch=restart_ep, callbacks=[SaveModelCallback(learn_lm, every='epoch',monitor='accuracy', name='10saved_net'+trans)])"
      ],
      "execution_count": null,
      "outputs": []
    },
    {
      "cell_type": "code",
      "metadata": {
        "colab_type": "code",
        "id": "CCDmoEzgukF4",
        "colab": {}
      },
      "source": [
        "learn_lm.save('fine_tuned_'+trans)\n",
        "#logwriter.append_row([loggerdt(),'fine tuned model save as fine_tuned_'+trans])\n"
      ],
      "execution_count": null,
      "outputs": []
    },
    {
      "cell_type": "markdown",
      "metadata": {
        "colab_type": "text",
        "id": "ChuK42ArukF5"
      },
      "source": [
        "We have to save not just the model but also it's encoder, the part that's responsible for creating and updating the hidden state. For the next part, we don't care about the part that tries to guess the next word."
      ]
    },
    {
      "cell_type": "code",
      "metadata": {
        "colab_type": "code",
        "id": "KLqiE6cHukF5",
        "colab": {}
      },
      "source": [
        "learn_lm.save_encoder('fine_tuned_enc_'+trans)\n",
        "#logwriter.append_row([getloggerdt,'fine_tuned encoder saved as fine_tuned_enc_'+trans])\n"
      ],
      "execution_count": null,
      "outputs": []
    },
    {
      "cell_type": "markdown",
      "metadata": {
        "colab_type": "text",
        "heading_collapsed": true,
        "id": "AoB3C6JhukF7"
      },
      "source": [
        "### Loading our saved weights (must run)"
      ]
    },
    {
      "cell_type": "code",
      "metadata": {
        "colab_type": "code",
        "hidden": true,
        "id": "G8gnEjryukF8",
        "colab": {
          "base_uri": "https://localhost:8080/",
          "height": 34
        },
        "outputId": "2cabced8-89e7-43fe-8355-84a033da1ff7"
      },
      "source": [
        "learn_lm.load('fine_tuned_'+trans);\n",
        "learn_lm.path"
      ],
      "execution_count": null,
      "outputs": [
        {
          "output_type": "execute_result",
          "data": {
            "text/plain": [
              "PosixPath('/spell/fastai')"
            ]
          },
          "metadata": {
            "tags": []
          },
          "execution_count": 36
        }
      ]
    },
    {
      "cell_type": "markdown",
      "metadata": {
        "colab_type": "text",
        "id": "lxkvAQ5LacHg"
      },
      "source": [
        "#### Encoder Example (Can Skip)###"
      ]
    },
    {
      "cell_type": "markdown",
      "metadata": {
        "colab_type": "text",
        "hidden": true,
        "id": "leIvZe-pukF9"
      },
      "source": [
        "Now that we've trained our model, different representations have been learned for the words that were in IMDB but not wiki (remember that at the beginning we had initialized them all to the same thing):"
      ]
    },
    {
      "cell_type": "code",
      "metadata": {
        "colab_type": "code",
        "hidden": true,
        "id": "v4jWdNO_ukF9",
        "colab": {}
      },
      "source": [
        "enc = learn_lm.model[0].encoder"
      ],
      "execution_count": null,
      "outputs": []
    },
    {
      "cell_type": "code",
      "metadata": {
        "colab_type": "code",
        "hidden": true,
        "id": "hpzpoH2bukF-",
        "colab": {
          "base_uri": "https://localhost:8080/",
          "height": 180
        },
        "outputId": "4276b9f2-379a-46f8-857f-66f908892eea"
      },
      "source": [
        "np.allclose(enc.weight[vocab.stoi[unique_bible_word1], :], \n",
        "            enc.weight[vocab.stoi[unique_bible_words2], :])"
      ],
      "execution_count": null,
      "outputs": [
        {
          "output_type": "error",
          "ename": "NameError",
          "evalue": "ignored",
          "traceback": [
            "\u001b[0;31m---------------------------------------------------------------------------\u001b[0m",
            "\u001b[0;31mNameError\u001b[0m                                 Traceback (most recent call last)",
            "\u001b[0;32m<ipython-input-42-f9e8b9a98eb5>\u001b[0m in \u001b[0;36m<module>\u001b[0;34m()\u001b[0m\n\u001b[0;32m----> 1\u001b[0;31m np.allclose(enc.weight[vocab.stoi[unique_bible_word1], :], \n\u001b[0m\u001b[1;32m      2\u001b[0m             enc.weight[vocab.stoi[unique_bible_words2], :])\n",
            "\u001b[0;31mNameError\u001b[0m: name 'vocab' is not defined"
          ]
        }
      ]
    },
    {
      "cell_type": "code",
      "metadata": {
        "colab_type": "code",
        "hidden": true,
        "id": "0XJcsZP0ukF_",
        "colab": {
          "base_uri": "https://localhost:8080/",
          "height": 163
        },
        "outputId": "77591113-8868-47a5-e912-f9cf7bff9dcc"
      },
      "source": [
        "np.allclose(enc.weight[vocab.stoi[unique_bible_word1], :], new_word_vec)"
      ],
      "execution_count": null,
      "outputs": [
        {
          "output_type": "error",
          "ename": "NameError",
          "evalue": "ignored",
          "traceback": [
            "\u001b[0;31m---------------------------------------------------------------------------\u001b[0m",
            "\u001b[0;31mNameError\u001b[0m                                 Traceback (most recent call last)",
            "\u001b[0;32m<ipython-input-43-11525bd38c5c>\u001b[0m in \u001b[0;36m<module>\u001b[0;34m()\u001b[0m\n\u001b[0;32m----> 1\u001b[0;31m \u001b[0mnp\u001b[0m\u001b[0;34m.\u001b[0m\u001b[0mallclose\u001b[0m\u001b[0;34m(\u001b[0m\u001b[0menc\u001b[0m\u001b[0;34m.\u001b[0m\u001b[0mweight\u001b[0m\u001b[0;34m[\u001b[0m\u001b[0mvocab\u001b[0m\u001b[0;34m.\u001b[0m\u001b[0mstoi\u001b[0m\u001b[0;34m[\u001b[0m\u001b[0munique_bible_word1\u001b[0m\u001b[0;34m]\u001b[0m\u001b[0;34m,\u001b[0m \u001b[0;34m:\u001b[0m\u001b[0;34m]\u001b[0m\u001b[0;34m,\u001b[0m \u001b[0mnew_word_vec\u001b[0m\u001b[0;34m)\u001b[0m\u001b[0;34m\u001b[0m\u001b[0;34m\u001b[0m\u001b[0m\n\u001b[0m",
            "\u001b[0;31mNameError\u001b[0m: name 'vocab' is not defined"
          ]
        }
      ]
    },
    {
      "cell_type": "markdown",
      "metadata": {
        "colab_type": "text",
        "heading_collapsed": true,
        "id": "gVBfdshWukGA"
      },
      "source": [
        "#### More generated Bible passages (can skip)"
      ]
    },
    {
      "cell_type": "markdown",
      "metadata": {
        "colab_type": "text",
        "hidden": true,
        "id": "qav-oxqmukGA"
      },
      "source": [
        "How good is our model? Well let's try to see what it predicts after a few given words."
      ]
    },
    {
      "cell_type": "code",
      "metadata": {
        "colab_type": "code",
        "hidden": true,
        "id": "aviZVUZ_ukGC",
        "colab": {}
      },
      "source": [
        "TEXT = \"and Jesus said\"\n",
        "N_WORDS = 40\n",
        "N_SENTENCES = 2"
      ],
      "execution_count": null,
      "outputs": []
    },
    {
      "cell_type": "code",
      "metadata": {
        "colab_type": "code",
        "hidden": true,
        "id": "p38T6yuhukGC",
        "colab": {
          "base_uri": "https://localhost:8080/",
          "height": 71
        },
        "outputId": "0d6f23ca-8d7b-4533-f8db-27fc0d7b03d9"
      },
      "source": [
        "print(\"\\n\".join(learn_lm.predict(TEXT, N_WORDS, temperature=0.75) for _ in range(N_SENTENCES)))"
      ],
      "execution_count": null,
      "outputs": [
        {
          "output_type": "stream",
          "text": [
            "and Jesus said to him , “ i am He . ” And Jesus * said to him , “ Follow Me . ” xxbos Now the word of the Lord came to me saying ,\n",
            "and Jesus said to them , “ You are ruby , or who are you , but they must walk in the darkness ? You have no regard for those who hate Me . xxbos For indeed in this\n"
          ],
          "name": "stdout"
        }
      ]
    },
    {
      "cell_type": "code",
      "metadata": {
        "colab_type": "code",
        "hidden": true,
        "id": "qw2A6oSEukGD",
        "colab": {}
      },
      "source": [
        "TEXT = \"I, Paul, an apostle\"\n",
        "N_WORDS = 30\n",
        "N_SENTENCES = 2"
      ],
      "execution_count": null,
      "outputs": []
    },
    {
      "cell_type": "code",
      "metadata": {
        "colab_type": "code",
        "hidden": true,
        "id": "jV3ZT3H8ukGF",
        "colab": {
          "base_uri": "https://localhost:8080/",
          "height": 51
        },
        "outputId": "2094317a-1c67-4ec9-92e6-36fa9693f6de"
      },
      "source": [
        "print(\"\\n\".join(learn_lm.predict(TEXT, N_WORDS, temperature=0.75) for _ in range(N_SENTENCES)))"
      ],
      "execution_count": null,
      "outputs": [
        {
          "output_type": "stream",
          "text": [
            "I, Paul, an apostle of Christ Jesus by the will of God , the Lord God of hosts , who is Christ , the church and the faith\n",
            "I, Paul, an apostle of Christ Jesus by the will of God , who is called by Christ Jesus Christ ; xxbos He said , “\n"
          ],
          "name": "stdout"
        }
      ]
    },
    {
      "cell_type": "code",
      "metadata": {
        "colab_type": "code",
        "hidden": true,
        "id": "im4Au3cWukGH",
        "colab": {}
      },
      "source": [
        "TEXT = \"And Jesus, moved with compassion,\"\n",
        "N_WORDS = 40\n",
        "N_SENTENCES = 2"
      ],
      "execution_count": null,
      "outputs": []
    },
    {
      "cell_type": "code",
      "metadata": {
        "colab_type": "code",
        "hidden": true,
        "id": "hNTDCeZbukGI",
        "colab": {
          "base_uri": "https://localhost:8080/",
          "height": 71
        },
        "outputId": "7479be06-ba11-41cf-c3f9-f42e89aba2fe"
      },
      "source": [
        "print(\"\\n\".join(learn_lm.predict(TEXT, N_WORDS, temperature=0.75) for _ in range(N_SENTENCES)))"
      ],
      "execution_count": null,
      "outputs": [
        {
          "output_type": "stream",
          "text": [
            "And Jesus, moved with compassion, * said to them , “ Why do you still believe ? ” xxbos Into the first of all your fruits you shall shall give it to the priest , for it is a holy thing to the\n",
            "And Jesus, moved with compassion, * said to them , “ Keep watch with the chief priests and bind them to keep My charge . xxbos Beside the border of Naphtali , from the east side to the west side ,\n"
          ],
          "name": "stdout"
        }
      ]
    },
    {
      "cell_type": "markdown",
      "metadata": {
        "colab_type": "text",
        "id": "t-VbDxuxukGI"
      },
      "source": [
        "### Classifier Setup (Run first time)"
      ]
    },
    {
      "cell_type": "markdown",
      "metadata": {
        "colab_type": "text",
        "id": "CDHx393UukGJ"
      },
      "source": [
        "Now, we'll create a new data object that only grabs the labelled data and keeps those labels. Again, this line takes a bit of time."
      ]
    },
    {
      "cell_type": "code",
      "metadata": {
        "id": "lGJ3aqNGAqmr",
        "colab_type": "code",
        "colab": {
          "base_uri": "https://localhost:8080/",
          "height": 74
        },
        "outputId": "9a2bdc99-9f67-4d1d-c244-b4caccf1c489"
      },
      "source": [
        "# if the dataloader is loaded (data_lm) run this\n",
        "data_lm = load_data(path, 'lm_databunch_'+trans, bs=bs)"
      ],
      "execution_count": null,
      "outputs": [
        {
          "output_type": "stream",
          "text": [
            "/usr/local/lib/python3.6/dist-packages/torch/serialization.py:657: SourceChangeWarning: source code of class 'torch.nn.modules.loss.CrossEntropyLoss' has changed. you can retrieve the original source code by accessing the object's source attribute or set `torch.nn.Module.dump_patches = True` and use the patch tool to revert the changes.\n",
            "  warnings.warn(msg, SourceChangeWarning)\n"
          ],
          "name": "stderr"
        }
      ]
    },
    {
      "cell_type": "code",
      "metadata": {
        "colab_type": "code",
        "id": "HPHgHa37cMsE",
        "colab": {
          "base_uri": "https://localhost:8080/",
          "height": 72
        },
        "outputId": "921a05a0-e4d6-4a23-85e8-ed589752f2f8"
      },
      "source": [
        "#if df isn't already loaded run this\n",
        "import pandas as pd\n",
        "\n",
        "df=pd.read_pickle(paulaidir+\"wikirel_sec.pkl\")"
      ],
      "execution_count": null,
      "outputs": [
        {
          "output_type": "stream",
          "text": [
            "/content/drive/My Drive/AI & Tech Research/Religion of GPT2/fastai/\n",
            "/content/drive/My Drive/AI & Tech Research/Religion of GPT2/fastai\n",
            "/content/drive/My Drive/AI & Tech Research/Religion of GPT2/\n"
          ],
          "name": "stdout"
        }
      ]
    },
    {
      "cell_type": "code",
      "metadata": {
        "colab_type": "code",
        "id": "PwHaGRNWukGJ",
        "colab": {}
      },
      "source": [
        "bs=96"
      ],
      "execution_count": null,
      "outputs": []
    },
    {
      "cell_type": "code",
      "metadata": {
        "colab_type": "code",
        "id": "B2Bn7T4PukGL",
        "colab": {
          "base_uri": "https://localhost:8080/",
          "height": 35
        },
        "outputId": "1d623290-11b9-4efe-ed7d-830b67d4082b"
      },
      "source": [
        "#create test set from pandas\n",
        "df_copy=df.copy()\n",
        "print('The number of articles in the whole dataset, columns=',df_copy.shape)"
      ],
      "execution_count": null,
      "outputs": [
        {
          "output_type": "stream",
          "text": [
            "The number of articles in the whole dataset, columns= (1797214, 2)\n"
          ],
          "name": "stdout"
        }
      ]
    },
    {
      "cell_type": "code",
      "metadata": {
        "id": "huVCgH6L-HC7",
        "colab_type": "code",
        "colab": {
          "base_uri": "https://localhost:8080/",
          "height": 54
        },
        "outputId": "82890f7e-0a4e-4a4d-c5c5-21fa7b1bae86"
      },
      "source": [
        "#if using pkl run this skip next\n",
        "is_rel=df_copy.Flag==\"R\"\n",
        "rel=df_copy[is_rel]\n",
        "print('rel shape=',rel.shape)\n",
        "is_sec=df_copy.Flag==\"S\"\n",
        "sec=df_copy[is_sec]\n",
        "print('sec shape=',sec.shape)"
      ],
      "execution_count": null,
      "outputs": [
        {
          "output_type": "stream",
          "text": [
            "rel shape= (149713, 2)\n",
            "sec shape= (1647501, 2)\n"
          ],
          "name": "stdout"
        }
      ]
    },
    {
      "cell_type": "code",
      "metadata": {
        "colab_type": "code",
        "id": "kp9JvM3dukGN",
        "colab": {
          "base_uri": "https://localhost:8080/",
          "height": 54
        },
        "outputId": "723d7ad1-7b8c-497d-b56a-b44867d5556e"
      },
      "source": [
        "#create a test and train set for rel and sec\n",
        "rel_train=rel.sample(frac=0.8,random_state=200) #random state is a seed value\n",
        "rel_test=rel.drop(rel_train.index)\n",
        "sec_train=sec.sample(frac=0.8,random_state=200) #random state is a seed value\n",
        "sec_test=sec.drop(sec_train.index)\n",
        "df_test=pd.concat([rel_test,sec_test])\n",
        "df_train=pd.concat([rel_train,sec_train])\n",
        "print('the number of examples that we will train on=',df_train.shape)\n",
        "print('the number of examples that we will test on = ',df_test.shape)"
      ],
      "execution_count": null,
      "outputs": [
        {
          "output_type": "stream",
          "text": [
            "the number of examples that we will train on= (1437771, 2)\n",
            "the number of examples that we will test on =  (359443, 2)\n"
          ],
          "name": "stdout"
        }
      ]
    },
    {
      "cell_type": "code",
      "metadata": {
        "colab_type": "code",
        "id": "mb3Jdc8EukGO",
        "colab": {
          "base_uri": "https://localhost:8080/",
          "height": 138
        },
        "outputId": "39432b78-c045-4e10-b4cc-bb26d1b73a75"
      },
      "source": [
        "df_test.groupby('Flag').agg('count')"
      ],
      "execution_count": null,
      "outputs": [
        {
          "output_type": "execute_result",
          "data": {
            "text/html": [
              "<div>\n",
              "<style scoped>\n",
              "    .dataframe tbody tr th:only-of-type {\n",
              "        vertical-align: middle;\n",
              "    }\n",
              "\n",
              "    .dataframe tbody tr th {\n",
              "        vertical-align: top;\n",
              "    }\n",
              "\n",
              "    .dataframe thead th {\n",
              "        text-align: right;\n",
              "    }\n",
              "</style>\n",
              "<table border=\"1\" class=\"dataframe\">\n",
              "  <thead>\n",
              "    <tr style=\"text-align: right;\">\n",
              "      <th></th>\n",
              "      <th>Text</th>\n",
              "    </tr>\n",
              "    <tr>\n",
              "      <th>Flag</th>\n",
              "      <th></th>\n",
              "    </tr>\n",
              "  </thead>\n",
              "  <tbody>\n",
              "    <tr>\n",
              "      <th>R</th>\n",
              "      <td>29943</td>\n",
              "    </tr>\n",
              "    <tr>\n",
              "      <th>S</th>\n",
              "      <td>329500</td>\n",
              "    </tr>\n",
              "  </tbody>\n",
              "</table>\n",
              "</div>"
            ],
            "text/plain": [
              "        Text\n",
              "Flag        \n",
              "R      29943\n",
              "S     329500"
            ]
          },
          "metadata": {
            "tags": []
          },
          "execution_count": 30
        }
      ]
    },
    {
      "cell_type": "code",
      "metadata": {
        "colab_type": "code",
        "id": "9QvxaW6XukGO",
        "colab": {
          "base_uri": "https://localhost:8080/",
          "height": 138
        },
        "outputId": "1150512e-1c9a-4f3f-ceb5-85171b13e424"
      },
      "source": [
        "df_copy.groupby('Flag').agg('count')"
      ],
      "execution_count": null,
      "outputs": [
        {
          "output_type": "execute_result",
          "data": {
            "text/html": [
              "<div>\n",
              "<style scoped>\n",
              "    .dataframe tbody tr th:only-of-type {\n",
              "        vertical-align: middle;\n",
              "    }\n",
              "\n",
              "    .dataframe tbody tr th {\n",
              "        vertical-align: top;\n",
              "    }\n",
              "\n",
              "    .dataframe thead th {\n",
              "        text-align: right;\n",
              "    }\n",
              "</style>\n",
              "<table border=\"1\" class=\"dataframe\">\n",
              "  <thead>\n",
              "    <tr style=\"text-align: right;\">\n",
              "      <th></th>\n",
              "      <th>Text</th>\n",
              "    </tr>\n",
              "    <tr>\n",
              "      <th>Flag</th>\n",
              "      <th></th>\n",
              "    </tr>\n",
              "  </thead>\n",
              "  <tbody>\n",
              "    <tr>\n",
              "      <th>R</th>\n",
              "      <td>149713</td>\n",
              "    </tr>\n",
              "    <tr>\n",
              "      <th>S</th>\n",
              "      <td>1647501</td>\n",
              "    </tr>\n",
              "  </tbody>\n",
              "</table>\n",
              "</div>"
            ],
            "text/plain": [
              "         Text\n",
              "Flag         \n",
              "R      149713\n",
              "S     1647501"
            ]
          },
          "metadata": {
            "tags": []
          },
          "execution_count": 31
        }
      ]
    },
    {
      "cell_type": "code",
      "metadata": {
        "colab_type": "code",
        "id": "iYHH4IbLukGX",
        "colab": {
          "base_uri": "https://localhost:8080/",
          "height": 228
        },
        "outputId": "a1c77c28-d747-403e-a5b4-5bec5664acc0"
      },
      "source": [
        "df_test.groupby(['Flag']).head(3)"
      ],
      "execution_count": null,
      "outputs": [
        {
          "output_type": "execute_result",
          "data": {
            "text/html": [
              "<div>\n",
              "<style scoped>\n",
              "    .dataframe tbody tr th:only-of-type {\n",
              "        vertical-align: middle;\n",
              "    }\n",
              "\n",
              "    .dataframe tbody tr th {\n",
              "        vertical-align: top;\n",
              "    }\n",
              "\n",
              "    .dataframe thead th {\n",
              "        text-align: right;\n",
              "    }\n",
              "</style>\n",
              "<table border=\"1\" class=\"dataframe\">\n",
              "  <thead>\n",
              "    <tr style=\"text-align: right;\">\n",
              "      <th></th>\n",
              "      <th>Text</th>\n",
              "      <th>Flag</th>\n",
              "    </tr>\n",
              "  </thead>\n",
              "  <tbody>\n",
              "    <tr>\n",
              "      <th>0</th>\n",
              "      <td>Many Wikipedia articles on religious topics ar...</td>\n",
              "      <td>R</td>\n",
              "    </tr>\n",
              "    <tr>\n",
              "      <th>4</th>\n",
              "      <td>This page links to itself and its talk page so...</td>\n",
              "      <td>R</td>\n",
              "    </tr>\n",
              "    <tr>\n",
              "      <th>7</th>\n",
              "      <td>Because it was adopted by the Philadelphia Ass...</td>\n",
              "      <td>R</td>\n",
              "    </tr>\n",
              "    <tr>\n",
              "      <th>149715</th>\n",
              "      <td>Since its decommissioning  The Tower Building ...</td>\n",
              "      <td>S</td>\n",
              "    </tr>\n",
              "    <tr>\n",
              "      <th>149717</th>\n",
              "      <td>It has also been the headquarters of the Littl...</td>\n",
              "      <td>S</td>\n",
              "    </tr>\n",
              "    <tr>\n",
              "      <th>149721</th>\n",
              "      <td>In 2011 it was named as one of the top 10 attr...</td>\n",
              "      <td>S</td>\n",
              "    </tr>\n",
              "  </tbody>\n",
              "</table>\n",
              "</div>"
            ],
            "text/plain": [
              "                                                     Text Flag\n",
              "0       Many Wikipedia articles on religious topics ar...    R\n",
              "4       This page links to itself and its talk page so...    R\n",
              "7       Because it was adopted by the Philadelphia Ass...    R\n",
              "149715  Since its decommissioning  The Tower Building ...    S\n",
              "149717  It has also been the headquarters of the Littl...    S\n",
              "149721  In 2011 it was named as one of the top 10 attr...    S"
            ]
          },
          "metadata": {
            "tags": []
          },
          "execution_count": 32
        }
      ]
    },
    {
      "cell_type": "code",
      "metadata": {
        "id": "5t445ivHFSL8",
        "colab_type": "code",
        "colab": {
          "base_uri": "https://localhost:8080/",
          "height": 126
        },
        "outputId": "53317c15-3667-4306-92b4-71b0cf9a38ce"
      },
      "source": [
        "#chck for na's\n",
        "print(df_train[df_train['Text'].isna()])\n",
        "print(df_test[df_test['Text'].isna()])\n"
      ],
      "execution_count": null,
      "outputs": [
        {
          "output_type": "stream",
          "text": [
            "Empty DataFrame\n",
            "Columns: [Text, Flag]\n",
            "Index: []\n",
            "Empty DataFrame\n",
            "Columns: [Text, Flag]\n",
            "Index: []\n"
          ],
          "name": "stdout"
        }
      ]
    },
    {
      "cell_type": "code",
      "metadata": {
        "colab_type": "code",
        "id": "BvxO8stPukGY",
        "colab": {
          "base_uri": "https://localhost:8080/",
          "height": 17
        },
        "outputId": "c9b5f7fc-fa05-411f-b521-fdad1a245312"
      },
      "source": [
        "#create the classifier data loader using the test and training sets\n",
        "data_clas=TextClasDataBunch.from_df(path, train_df=df_train, valid_df=df_test, text_cols='Text', \n",
        "                                    label_cols='Flag',vocab=data_lm.vocab, bs=bs, num_workers=1)"
      ],
      "execution_count": null,
      "outputs": [
        {
          "output_type": "display_data",
          "data": {
            "text/html": [
              ""
            ],
            "text/plain": [
              "<IPython.core.display.HTML object>"
            ]
          },
          "metadata": {
            "tags": []
          }
        },
        {
          "output_type": "display_data",
          "data": {
            "text/html": [
              ""
            ],
            "text/plain": [
              "<IPython.core.display.HTML object>"
            ]
          },
          "metadata": {
            "tags": []
          }
        }
      ]
    },
    {
      "cell_type": "code",
      "metadata": {
        "colab_type": "code",
        "id": "D3irW_BbukGZ",
        "colab": {}
      },
      "source": [
        "#data_clas = (TextList.from_folder(path, vocab=data_lm.vocab)\n",
        "             #grab all the text files in path#\n",
        "#             .split_by_folder(valid='test')\n",
        "             #split by train and valid folder (that only keeps 'train' and 'test' so no need to filter)\n",
        "#             .label_from_folder(classes=['neg', 'pos'])\n",
        "             #label them all with their folders\n",
        "#             .databunch(bs=bs, num_workers=1))"
      ],
      "execution_count": null,
      "outputs": []
    },
    {
      "cell_type": "code",
      "metadata": {
        "id": "4A2sBSQQFSMS",
        "colab_type": "code",
        "colab": {
          "base_uri": "https://localhost:8080/",
          "height": 383
        },
        "outputId": "15bd579d-bfb3-4596-b3f3-1dd305a4062a"
      },
      "source": [
        "print(data_clas)"
      ],
      "execution_count": null,
      "outputs": [
        {
          "output_type": "stream",
          "text": [
            "TextClasDataBunch;\n",
            "\n",
            "Train: LabelList (1437771 items)\n",
            "x: TextList\n",
            "xxbos xxmaj bloomsbury xxup xxunk xxmaj clark .,xxbos xxmaj xxunk i ( xxunk ) \n",
            "  xxmaj xxunk i ( xxunk ) , restored \n",
            "  175 .,xxbos xxmaj initially these prejudices only found a reception among xxmaj arab xxmaj christians because they were too foreign to gain any widespread acceptance among xxmaj muslims .,xxbos xxmaj in the 16th century , the xxmaj reformation led to xxmaj protestantism also breaking away .,xxbos xxmaj it runs and sponsors thousands of primary and secondary schools , colleges and universities throughout the world and operates the world 's largest non - governmental school system . xxmaj religious institutes for women have played a particularly prominent role in the provision of health and education services , as with orders such as the xxmaj sisters of xxmaj mercy , xxmaj little xxmaj sisters of the xxmaj poor , the xxmaj missionaries of xxmaj charity , the xxmaj sisters of xxmaj st. xxmaj joseph of the xxmaj sacred xxmaj heart , the xxmaj sisters of the xxmaj blessed xxmaj sacrament and the xxmaj daughters of xxmaj charity of xxmaj saint xxmaj vincent de xxmaj paul .\n",
            "y: CategoryList\n",
            "R,R,R,R,R\n",
            "Path: /content/drive/My Drive/AI & Tech Research/Religion of GPT2/fastai;\n",
            "\n",
            "Valid: LabelList (359443 items)\n",
            "x: TextList\n",
            "xxbos xxmaj many xxmaj wikipedia articles on religious topics are not yet listed on this page .,xxbos xxmaj this page links to itself and its talk page so that changes to them can be tracked by the same means .,xxbos xxmaj because it was adopted by the xxmaj philadelphia xxmaj association of xxmaj baptist xxmaj churches in the 18th century , it is also known as the xxmaj philadelphia xxmaj confession of xxmaj faith .,xxbos xxmaj the xxmaj philadelphia xxmaj confession was a modification of the xxmaj second xxmaj london xxmaj confession that added an allowance for singing of hymns , psalms and spiritual songs in the xxmaj lord 's xxmaj supper and made optional the laying on of hands in baptism .,xxbos xxmaj this official reprieve resulted in representatives from over 100 xxmaj particular xxmaj baptist churches to meet together in xxmaj london from xxunk xxmaj september to discuss and endorse the 1677 document .\n",
            "y: CategoryList\n",
            "R,R,R,R,R\n",
            "Path: /content/drive/My Drive/AI & Tech Research/Religion of GPT2/fastai;\n",
            "\n",
            "Test: None\n"
          ],
          "name": "stdout"
        }
      ]
    },
    {
      "cell_type": "code",
      "metadata": {
        "colab_type": "code",
        "id": "APOmqhBsPSnK",
        "colab": {}
      },
      "source": [
        "data_clas.path=paulpath"
      ],
      "execution_count": null,
      "outputs": []
    },
    {
      "cell_type": "code",
      "metadata": {
        "id": "c_ESvz71FSMe",
        "colab_type": "code",
        "colab": {
          "base_uri": "https://localhost:8080/",
          "height": 35
        },
        "outputId": "247fe6f7-6ca2-48e1-a5c4-1ef5067bdf53"
      },
      "source": [
        "print(paulpath)"
      ],
      "execution_count": null,
      "outputs": [
        {
          "output_type": "stream",
          "text": [
            "/content/drive/My Drive/AI & Tech Research/Religion of GPT2/fastai\n"
          ],
          "name": "stdout"
        }
      ]
    },
    {
      "cell_type": "code",
      "metadata": {
        "colab_type": "code",
        "id": "RdwckSVaukGa",
        "colab": {
          "base_uri": "https://localhost:8080/",
          "height": 54
        },
        "outputId": "6f168eed-13ed-4cf9-c6b6-88157a10c6b9"
      },
      "source": [
        "#save the classifier data loader\n",
        "#class_prefix='bible_textlist_class_'\n",
        "class_prefix=\"wiki_textlist_class_\"\n",
        "class_name=class_prefix+trans\n",
        "print(class_name)\n",
        "data_clas.save(class_name)\n",
        "data_clas.path\n",
        "#logwriter.append_row([getloggerdt(),'classifier data loader created as bible_textlist_class_'+trans])\n"
      ],
      "execution_count": null,
      "outputs": [
        {
          "output_type": "stream",
          "text": [
            "wiki_textlist_class_wikipedia_relwcat - wikipedia_relwcat\n"
          ],
          "name": "stdout"
        },
        {
          "output_type": "execute_result",
          "data": {
            "text/plain": [
              "PosixPath('/content/drive/My Drive/AI & Tech Research/Religion of GPT2/fastai')"
            ]
          },
          "metadata": {
            "tags": []
          },
          "execution_count": 40
        }
      ]
    },
    {
      "cell_type": "markdown",
      "metadata": {
        "colab_type": "text",
        "id": "alNcVPmkukGa"
      },
      "source": [
        "### Load Classifier (must run)"
      ]
    },
    {
      "cell_type": "code",
      "metadata": {
        "colab_type": "code",
        "id": "Dn7GDLcyukGb",
        "colab": {}
      },
      "source": [
        "#Load the classifier data loader\n",
        "#logwriter.append_row([getloggerdt(),'starting classifier loading'])\n",
        "\n",
        "data_clas = load_data(paulpath,class_prefix+trans, bs=bs, num_workers=1)"
      ],
      "execution_count": null,
      "outputs": []
    },
    {
      "cell_type": "code",
      "metadata": {
        "colab_type": "code",
        "id": "1vaJRwMrukGd",
        "scrolled": true,
        "colab": {
          "base_uri": "https://localhost:8080/",
          "height": 1000
        },
        "outputId": "8370b05d-9ab4-461b-f98b-998c9493eb27"
      },
      "source": [
        "#create a learner for the classifere, add  the data loader to the pre-trained model\n",
        "learn_c = text_classifier_learner(data_clas, AWD_LSTM, drop_mult=0.3) #.to_fp16()\n",
        "learn_c.path=paulpath\n",
        "learn_c.load_encoder('fine_tuned_enc_'+trans)\n",
        "#logwriter.append_row([getloggerdt(),'classifier learner created as learn_c'])\n",
        "\n"
      ],
      "execution_count": null,
      "outputs": [
        {
          "output_type": "execute_result",
          "data": {
            "text/plain": [
              "RNNLearner(data=TextClasDataBunch;\n",
              "\n",
              "Train: LabelList (1437771 items)\n",
              "x: TextList\n",
              "xxbos xxmaj bloomsbury xxup xxunk xxmaj clark .,xxbos xxmaj xxunk i ( xxunk ) \n",
              "  xxmaj xxunk i ( xxunk ) , restored \n",
              "  175 .,xxbos xxmaj initially these prejudices only found a reception among xxmaj arab xxmaj christians because they were too foreign to gain any widespread acceptance among xxmaj muslims .,xxbos xxmaj in the 16th century , the xxmaj reformation led to xxmaj protestantism also breaking away .,xxbos xxmaj it runs and sponsors thousands of primary and secondary schools , colleges and universities throughout the world and operates the world 's largest non - governmental school system . xxmaj religious institutes for women have played a particularly prominent role in the provision of health and education services , as with orders such as the xxmaj sisters of xxmaj mercy , xxmaj little xxmaj sisters of the xxmaj poor , the xxmaj missionaries of xxmaj charity , the xxmaj sisters of xxmaj st. xxmaj joseph of the xxmaj sacred xxmaj heart , the xxmaj sisters of the xxmaj blessed xxmaj sacrament and the xxmaj daughters of xxmaj charity of xxmaj saint xxmaj vincent de xxmaj paul .\n",
              "y: CategoryList\n",
              "R,R,R,R,R\n",
              "Path: /content/drive/My Drive/AI & Tech Research/Religion of GPT2/fastai;\n",
              "\n",
              "Valid: LabelList (359443 items)\n",
              "x: TextList\n",
              "xxbos xxmaj many xxmaj wikipedia articles on religious topics are not yet listed on this page .,xxbos xxmaj this page links to itself and its talk page so that changes to them can be tracked by the same means .,xxbos xxmaj because it was adopted by the xxmaj philadelphia xxmaj association of xxmaj baptist xxmaj churches in the 18th century , it is also known as the xxmaj philadelphia xxmaj confession of xxmaj faith .,xxbos xxmaj the xxmaj philadelphia xxmaj confession was a modification of the xxmaj second xxmaj london xxmaj confession that added an allowance for singing of hymns , psalms and spiritual songs in the xxmaj lord 's xxmaj supper and made optional the laying on of hands in baptism .,xxbos xxmaj this official reprieve resulted in representatives from over 100 xxmaj particular xxmaj baptist churches to meet together in xxmaj london from xxunk xxmaj september to discuss and endorse the 1677 document .\n",
              "y: CategoryList\n",
              "R,R,R,R,R\n",
              "Path: /content/drive/My Drive/AI & Tech Research/Religion of GPT2/fastai;\n",
              "\n",
              "Test: None, model=SequentialRNN(\n",
              "  (0): MultiBatchEncoder(\n",
              "    (module): AWD_LSTM(\n",
              "      (encoder): Embedding(60000, 400, padding_idx=1)\n",
              "      (encoder_dp): EmbeddingDropout(\n",
              "        (emb): Embedding(60000, 400, padding_idx=1)\n",
              "      )\n",
              "      (rnns): ModuleList(\n",
              "        (0): WeightDropout(\n",
              "          (module): LSTM(400, 1152, batch_first=True)\n",
              "        )\n",
              "        (1): WeightDropout(\n",
              "          (module): LSTM(1152, 1152, batch_first=True)\n",
              "        )\n",
              "        (2): WeightDropout(\n",
              "          (module): LSTM(1152, 400, batch_first=True)\n",
              "        )\n",
              "      )\n",
              "      (input_dp): RNNDropout()\n",
              "      (hidden_dps): ModuleList(\n",
              "        (0): RNNDropout()\n",
              "        (1): RNNDropout()\n",
              "        (2): RNNDropout()\n",
              "      )\n",
              "    )\n",
              "  )\n",
              "  (1): PoolingLinearClassifier(\n",
              "    (layers): Sequential(\n",
              "      (0): BatchNorm1d(1200, eps=1e-05, momentum=0.1, affine=True, track_running_stats=True)\n",
              "      (1): Dropout(p=0.12, inplace=False)\n",
              "      (2): Linear(in_features=1200, out_features=50, bias=True)\n",
              "      (3): ReLU(inplace=True)\n",
              "      (4): BatchNorm1d(50, eps=1e-05, momentum=0.1, affine=True, track_running_stats=True)\n",
              "      (5): Dropout(p=0.1, inplace=False)\n",
              "      (6): Linear(in_features=50, out_features=2, bias=True)\n",
              "    )\n",
              "  )\n",
              "), opt_func=functools.partial(<class 'torch.optim.adam.Adam'>, betas=(0.9, 0.99)), loss_func=FlattenedLoss of CrossEntropyLoss(), metrics=[<function accuracy at 0x7f1cf0fa0378>], true_wd=True, bn_wd=True, wd=0.01, train_bn=True, path=PosixPath('/content/drive/My Drive/AI & Tech Research/Religion of GPT2/fastai'), model_dir='models', callback_fns=[functools.partial(<class 'fastai.basic_train.Recorder'>, add_time=True, silent=False)], callbacks=[RNNTrainer\n",
              "learn: RNNLearner(data=TextClasDataBunch;\n",
              "\n",
              "Train: LabelList (1437771 items)\n",
              "x: TextList\n",
              "xxbos xxmaj bloomsbury xxup xxunk xxmaj clark .,xxbos xxmaj xxunk i ( xxunk ) \n",
              "  xxmaj xxunk i ( xxunk ) , restored \n",
              "  175 .,xxbos xxmaj initially these prejudices only found a reception among xxmaj arab xxmaj christians because they were too foreign to gain any widespread acceptance among xxmaj muslims .,xxbos xxmaj in the 16th century , the xxmaj reformation led to xxmaj protestantism also breaking away .,xxbos xxmaj it runs and sponsors thousands of primary and secondary schools , colleges and universities throughout the world and operates the world 's largest non - governmental school system . xxmaj religious institutes for women have played a particularly prominent role in the provision of health and education services , as with orders such as the xxmaj sisters of xxmaj mercy , xxmaj little xxmaj sisters of the xxmaj poor , the xxmaj missionaries of xxmaj charity , the xxmaj sisters of xxmaj st. xxmaj joseph of the xxmaj sacred xxmaj heart , the xxmaj sisters of the xxmaj blessed xxmaj sacrament and the xxmaj daughters of xxmaj charity of xxmaj saint xxmaj vincent de xxmaj paul .\n",
              "y: CategoryList\n",
              "R,R,R,R,R\n",
              "Path: /content/drive/My Drive/AI & Tech Research/Religion of GPT2/fastai;\n",
              "\n",
              "Valid: LabelList (359443 items)\n",
              "x: TextList\n",
              "xxbos xxmaj many xxmaj wikipedia articles on religious topics are not yet listed on this page .,xxbos xxmaj this page links to itself and its talk page so that changes to them can be tracked by the same means .,xxbos xxmaj because it was adopted by the xxmaj philadelphia xxmaj association of xxmaj baptist xxmaj churches in the 18th century , it is also known as the xxmaj philadelphia xxmaj confession of xxmaj faith .,xxbos xxmaj the xxmaj philadelphia xxmaj confession was a modification of the xxmaj second xxmaj london xxmaj confession that added an allowance for singing of hymns , psalms and spiritual songs in the xxmaj lord 's xxmaj supper and made optional the laying on of hands in baptism .,xxbos xxmaj this official reprieve resulted in representatives from over 100 xxmaj particular xxmaj baptist churches to meet together in xxmaj london from xxunk xxmaj september to discuss and endorse the 1677 document .\n",
              "y: CategoryList\n",
              "R,R,R,R,R\n",
              "Path: /content/drive/My Drive/AI & Tech Research/Religion of GPT2/fastai;\n",
              "\n",
              "Test: None, model=SequentialRNN(\n",
              "  (0): MultiBatchEncoder(\n",
              "    (module): AWD_LSTM(\n",
              "      (encoder): Embedding(60000, 400, padding_idx=1)\n",
              "      (encoder_dp): EmbeddingDropout(\n",
              "        (emb): Embedding(60000, 400, padding_idx=1)\n",
              "      )\n",
              "      (rnns): ModuleList(\n",
              "        (0): WeightDropout(\n",
              "          (module): LSTM(400, 1152, batch_first=True)\n",
              "        )\n",
              "        (1): WeightDropout(\n",
              "          (module): LSTM(1152, 1152, batch_first=True)\n",
              "        )\n",
              "        (2): WeightDropout(\n",
              "          (module): LSTM(1152, 400, batch_first=True)\n",
              "        )\n",
              "      )\n",
              "      (input_dp): RNNDropout()\n",
              "      (hidden_dps): ModuleList(\n",
              "        (0): RNNDropout()\n",
              "        (1): RNNDropout()\n",
              "        (2): RNNDropout()\n",
              "      )\n",
              "    )\n",
              "  )\n",
              "  (1): PoolingLinearClassifier(\n",
              "    (layers): Sequential(\n",
              "      (0): BatchNorm1d(1200, eps=1e-05, momentum=0.1, affine=True, track_running_stats=True)\n",
              "      (1): Dropout(p=0.12, inplace=False)\n",
              "      (2): Linear(in_features=1200, out_features=50, bias=True)\n",
              "      (3): ReLU(inplace=True)\n",
              "      (4): BatchNorm1d(50, eps=1e-05, momentum=0.1, affine=True, track_running_stats=True)\n",
              "      (5): Dropout(p=0.1, inplace=False)\n",
              "      (6): Linear(in_features=50, out_features=2, bias=True)\n",
              "    )\n",
              "  )\n",
              "), opt_func=functools.partial(<class 'torch.optim.adam.Adam'>, betas=(0.9, 0.99)), loss_func=FlattenedLoss of CrossEntropyLoss(), metrics=[<function accuracy at 0x7f1cf0fa0378>], true_wd=True, bn_wd=True, wd=0.01, train_bn=True, path=PosixPath('/content/drive/My Drive/AI & Tech Research/Religion of GPT2/fastai'), model_dir='models', callback_fns=[functools.partial(<class 'fastai.basic_train.Recorder'>, add_time=True, silent=False)], callbacks=[...], layer_groups=[Sequential(\n",
              "  (0): Embedding(60000, 400, padding_idx=1)\n",
              "  (1): EmbeddingDropout(\n",
              "    (emb): Embedding(60000, 400, padding_idx=1)\n",
              "  )\n",
              "), Sequential(\n",
              "  (0): WeightDropout(\n",
              "    (module): LSTM(400, 1152, batch_first=True)\n",
              "  )\n",
              "  (1): RNNDropout()\n",
              "), Sequential(\n",
              "  (0): WeightDropout(\n",
              "    (module): LSTM(1152, 1152, batch_first=True)\n",
              "  )\n",
              "  (1): RNNDropout()\n",
              "), Sequential(\n",
              "  (0): WeightDropout(\n",
              "    (module): LSTM(1152, 400, batch_first=True)\n",
              "  )\n",
              "  (1): RNNDropout()\n",
              "), Sequential(\n",
              "  (0): PoolingLinearClassifier(\n",
              "    (layers): Sequential(\n",
              "      (0): BatchNorm1d(1200, eps=1e-05, momentum=0.1, affine=True, track_running_stats=True)\n",
              "      (1): Dropout(p=0.12, inplace=False)\n",
              "      (2): Linear(in_features=1200, out_features=50, bias=True)\n",
              "      (3): ReLU(inplace=True)\n",
              "      (4): BatchNorm1d(50, eps=1e-05, momentum=0.1, affine=True, track_running_stats=True)\n",
              "      (5): Dropout(p=0.1, inplace=False)\n",
              "      (6): Linear(in_features=50, out_features=2, bias=True)\n",
              "    )\n",
              "  )\n",
              ")], add_time=True, silent=False)\n",
              "alpha: 2.0\n",
              "beta: 1.0], layer_groups=[Sequential(\n",
              "  (0): Embedding(60000, 400, padding_idx=1)\n",
              "  (1): EmbeddingDropout(\n",
              "    (emb): Embedding(60000, 400, padding_idx=1)\n",
              "  )\n",
              "), Sequential(\n",
              "  (0): WeightDropout(\n",
              "    (module): LSTM(400, 1152, batch_first=True)\n",
              "  )\n",
              "  (1): RNNDropout()\n",
              "), Sequential(\n",
              "  (0): WeightDropout(\n",
              "    (module): LSTM(1152, 1152, batch_first=True)\n",
              "  )\n",
              "  (1): RNNDropout()\n",
              "), Sequential(\n",
              "  (0): WeightDropout(\n",
              "    (module): LSTM(1152, 400, batch_first=True)\n",
              "  )\n",
              "  (1): RNNDropout()\n",
              "), Sequential(\n",
              "  (0): PoolingLinearClassifier(\n",
              "    (layers): Sequential(\n",
              "      (0): BatchNorm1d(1200, eps=1e-05, momentum=0.1, affine=True, track_running_stats=True)\n",
              "      (1): Dropout(p=0.12, inplace=False)\n",
              "      (2): Linear(in_features=1200, out_features=50, bias=True)\n",
              "      (3): ReLU(inplace=True)\n",
              "      (4): BatchNorm1d(50, eps=1e-05, momentum=0.1, affine=True, track_running_stats=True)\n",
              "      (5): Dropout(p=0.1, inplace=False)\n",
              "      (6): Linear(in_features=50, out_features=2, bias=True)\n",
              "    )\n",
              "  )\n",
              ")], add_time=True, silent=False)"
            ]
          },
          "metadata": {
            "tags": []
          },
          "execution_count": 43
        }
      ]
    },
    {
      "cell_type": "markdown",
      "metadata": {
        "colab_type": "text",
        "id": "vmQEoykMDfay"
      },
      "source": [
        "### Train Classifier (if already trained, can skip)"
      ]
    },
    {
      "cell_type": "code",
      "metadata": {
        "colab_type": "code",
        "id": "lFckjWv1ukGb",
        "colab": {
          "base_uri": "https://localhost:8080/",
          "height": 35
        },
        "outputId": "9724792b-ea56-4f85-fa15-6a7d592e1560"
      },
      "source": [
        "len(data_clas.vocab.itos) == len(data_lm.vocab.itos)\n",
        "#logwriter.append_row([getloggerdt(),'starting classifier training'])\n"
      ],
      "execution_count": null,
      "outputs": [
        {
          "output_type": "execute_result",
          "data": {
            "text/plain": [
              "True"
            ]
          },
          "metadata": {
            "tags": []
          },
          "execution_count": 44
        }
      ]
    },
    {
      "cell_type": "code",
      "metadata": {
        "colab_type": "code",
        "id": "yTrSDGEaukGc",
        "colab": {
          "base_uri": "https://localhost:8080/",
          "height": 440
        },
        "outputId": "64a3d7f7-23bb-469d-bf6b-c3218d5438ef"
      },
      "source": [
        "data_clas.show_batch()"
      ],
      "execution_count": null,
      "outputs": [
        {
          "output_type": "display_data",
          "data": {
            "text/html": [
              "<table border=\"1\" class=\"dataframe\">\n",
              "  <thead>\n",
              "    <tr style=\"text-align: right;\">\n",
              "      <th>text</th>\n",
              "      <th>target</th>\n",
              "    </tr>\n",
              "  </thead>\n",
              "  <tbody>\n",
              "    <tr>\n",
              "      <td>xxbos = = xxunk = = \\n  1689 xxmaj baptist xxmaj confession of xxmaj faith \\n \\n \\n  = = a = = \\n  xxmaj abolitionism - \\n  xxmaj abolitionism in the xxmaj united xxmaj states - \\n  xxmaj abraham - \\n  xxmaj abrahamic religion - \\n  xxmaj accommodation - \\n  xxmaj acolyte - \\n  xxmaj acts of xxmaj pilate -</td>\n",
              "      <td>R</td>\n",
              "    </tr>\n",
              "    <tr>\n",
              "      <td>xxbos 1994 xxmaj vivek xxmaj xxunk xxup ceo – xxunk 1993 xxmaj xxunk xxmaj xxunk xxup ceo at xxunk xxmaj private xxmaj wealth 1996 xxmaj radhakrishnan xxmaj xxunk xxup ceo &amp; xxup md at xxmaj xxunk xxup xxunk 1991 xxmaj xxunk xxunk xxmaj vice xxmaj president &amp; xxmaj managing xxmaj partner xxmaj xxunk xxmaj consulting : xxmaj retail xxup xxunk &amp; xxmaj logistics 1996 xxmaj xxunk xxmaj xxunk xxmaj managing</td>\n",
              "      <td>S</td>\n",
              "    </tr>\n",
              "    <tr>\n",
              "      <td>xxbos = = xxmaj in wrestling = = xxmaj finishing moves xxmaj doane - xxmaj nation ( xxmaj diving clothesline ) xxup rk - xxmaj doane ( xxmaj jumping cutter ) xxmaj sky xxmaj high xxmaj leg xxmaj drop ( xxmaj high - angle diving leg drop ) xxmaj snap swinging neckbreaker xxmaj signature moves xxmaj arm drag rolled through and followed into multiple short - arm xxunk xxmaj belly</td>\n",
              "      <td>S</td>\n",
              "    </tr>\n",
              "    <tr>\n",
              "      <td>xxbos xxmaj in the xxmaj sanskrit stage plays , such as xxmaj xxunk 's xxmaj xxunk , high - class male characters typically speak xxmaj sanskrit , while the low - class male characters and most female characters typically speak xxmaj prakrit . xxmaj mirza xxmaj khan 's xxmaj xxunk al - hind ( 1676 ) characterizes xxmaj prakrit as the language of \" the lowest of the low \"</td>\n",
              "      <td>R</td>\n",
              "    </tr>\n",
              "    <tr>\n",
              "      <td>xxbos xxmaj rather than waiting for the 50th or 49th year , the xxmaj deuteronomic xxmaj code requires that xxmaj hebrew slaves be liberated during their 7th year of service , as does the xxmaj covenant xxmaj code , which some textual scholars regard as pre - dating the xxmaj holiness code ; the xxmaj book of xxmaj ezekiel , which some textual scholars also regard as earlier than the</td>\n",
              "      <td>R</td>\n",
              "    </tr>\n",
              "  </tbody>\n",
              "</table>"
            ],
            "text/plain": [
              "<IPython.core.display.HTML object>"
            ]
          },
          "metadata": {
            "tags": []
          }
        }
      ]
    },
    {
      "cell_type": "markdown",
      "metadata": {
        "colab_type": "text",
        "id": "1BN5awasukGd"
      },
      "source": [
        "We can then create a model to classify those reviews and load the encoder we saved before."
      ]
    },
    {
      "cell_type": "code",
      "metadata": {
        "colab_type": "code",
        "id": "TUlto2c1ukGd",
        "colab": {}
      },
      "source": [
        "learn_c.freeze()"
      ],
      "execution_count": null,
      "outputs": []
    },
    {
      "cell_type": "markdown",
      "metadata": {
        "colab_type": "text",
        "id": "MsodN_m0dPLE"
      },
      "source": [
        "Find the learning rate. The learning rate should be in the middle of the downard slope. change the lr variable if necessary."
      ]
    },
    {
      "cell_type": "code",
      "metadata": {
        "colab_type": "code",
        "id": "ExDR9lbyukGe",
        "colab": {
          "base_uri": "https://localhost:8080/",
          "height": 112
        },
        "outputId": "53378b90-d1f4-49a5-dd0e-b26f2b430753"
      },
      "source": [
        "learn_c.lr_find()"
      ],
      "execution_count": null,
      "outputs": [
        {
          "output_type": "display_data",
          "data": {
            "text/html": [
              "\n",
              "    <div>\n",
              "        <style>\n",
              "            /* Turns off some styling */\n",
              "            progress {\n",
              "                /* gets rid of default border in Firefox and Opera. */\n",
              "                border: none;\n",
              "                /* Needs to be in here for Safari polyfill so background images work as expected. */\n",
              "                background-size: auto;\n",
              "            }\n",
              "            .progress-bar-interrupted, .progress-bar-interrupted::-webkit-progress-bar {\n",
              "                background: #F44336;\n",
              "            }\n",
              "        </style>\n",
              "      <progress value='0' class='' max='1' style='width:300px; height:20px; vertical-align: middle;'></progress>\n",
              "      0.00% [0/1 00:00<00:00]\n",
              "    </div>\n",
              "    \n",
              "<table border=\"1\" class=\"dataframe\">\n",
              "  <thead>\n",
              "    <tr style=\"text-align: left;\">\n",
              "      <th>epoch</th>\n",
              "      <th>train_loss</th>\n",
              "      <th>valid_loss</th>\n",
              "      <th>accuracy</th>\n",
              "      <th>time</th>\n",
              "    </tr>\n",
              "  </thead>\n",
              "  <tbody>\n",
              "  </tbody>\n",
              "</table><p>\n",
              "\n",
              "    <div>\n",
              "        <style>\n",
              "            /* Turns off some styling */\n",
              "            progress {\n",
              "                /* gets rid of default border in Firefox and Opera. */\n",
              "                border: none;\n",
              "                /* Needs to be in here for Safari polyfill so background images work as expected. */\n",
              "                background-size: auto;\n",
              "            }\n",
              "            .progress-bar-interrupted, .progress-bar-interrupted::-webkit-progress-bar {\n",
              "                background: #F44336;\n",
              "            }\n",
              "        </style>\n",
              "      <progress value='95' class='' max='14976' style='width:300px; height:20px; vertical-align: middle;'></progress>\n",
              "      0.63% [95/14976 01:32<4:02:37 1.0171]\n",
              "    </div>\n",
              "    "
            ],
            "text/plain": [
              "<IPython.core.display.HTML object>"
            ]
          },
          "metadata": {
            "tags": []
          }
        },
        {
          "output_type": "stream",
          "text": [
            "LR Finder is complete, type {learner_name}.recorder.plot() to see the graph.\n"
          ],
          "name": "stdout"
        }
      ]
    },
    {
      "cell_type": "code",
      "metadata": {
        "colab_type": "code",
        "id": "jKrvUGelukGf",
        "colab": {
          "base_uri": "https://localhost:8080/",
          "height": 279
        },
        "outputId": "2a850e14-aa96-4b88-b9fb-391b60e83870"
      },
      "source": [
        "learn_c.recorder.plot()\n",
        "#logwriter.append_row([getloggerdt(),'plotting classifier learning rate'])"
      ],
      "execution_count": null,
      "outputs": [
        {
          "output_type": "display_data",
          "data": {
            "image/png": "[encoded data removed]",
            "text/plain": [
              "<Figure size 432x288 with 1 Axes>"
            ]
          },
          "metadata": {
            "tags": [],
            "needs_background": "light"
          }
        }
      ]
    },
    {
      "cell_type": "code",
      "metadata": {
        "colab_type": "code",
        "id": "SIJ8v1RJukGg",
        "colab": {
          "base_uri": "https://localhost:8080/",
          "height": 78
        },
        "outputId": "974dfb79-1265-4f7b-e089-d7485b9d5511"
      },
      "source": [
        "lr=1e-2\n",
        "#logwriter.append_row([getloggerdt(),'classifier learning rate='+str(lr)])\n",
        "learn_c.fit_one_cycle(1, lr, moms=(0.8,0.7))"
      ],
      "execution_count": null,
      "outputs": [
        {
          "output_type": "display_data",
          "data": {
            "text/html": [
              "<table border=\"1\" class=\"dataframe\">\n",
              "  <thead>\n",
              "    <tr style=\"text-align: left;\">\n",
              "      <th>epoch</th>\n",
              "      <th>train_loss</th>\n",
              "      <th>valid_loss</th>\n",
              "      <th>accuracy</th>\n",
              "      <th>time</th>\n",
              "    </tr>\n",
              "  </thead>\n",
              "  <tbody>\n",
              "    <tr>\n",
              "      <td>0</td>\n",
              "      <td>0.076688</td>\n",
              "      <td>0.059065</td>\n",
              "      <td>0.979602</td>\n",
              "      <td>43:59</td>\n",
              "    </tr>\n",
              "  </tbody>\n",
              "</table>"
            ],
            "text/plain": [
              "<IPython.core.display.HTML object>"
            ]
          },
          "metadata": {
            "tags": []
          }
        }
      ]
    },
    {
      "cell_type": "code",
      "metadata": {
        "colab_type": "code",
        "id": "LrydBz_zukGh",
        "colab": {}
      },
      "source": [
        "learn_c.save(class_prefix+trans+'_first')\n",
        "#logwriter.append_row([getloggerdt(),'classifier top layer training saved as '+trans+\"_first\"])"
      ],
      "execution_count": null,
      "outputs": []
    },
    {
      "cell_type": "code",
      "metadata": {
        "colab_type": "code",
        "id": "ne6vmHz6ukGh",
        "colab": {}
      },
      "source": [
        "learn_c.load(class_prefix+trans+'_first');"
      ],
      "execution_count": null,
      "outputs": []
    },
    {
      "cell_type": "code",
      "metadata": {
        "colab_type": "code",
        "id": "zMbFOeKmukGj",
        "colab": {
          "base_uri": "https://localhost:8080/",
          "height": 78
        },
        "outputId": "55235069-61df-4ace-b906-80725091200d"
      },
      "source": [
        "#logwriter.append_row([getloggerdt(),'Unfreezing top 3 layers of classifier and training'])\n",
        "learn_c.freeze_to(-2)\n",
        "learn_c.fit_one_cycle(1, slice(1e-2/(2.6**4),1e-2), moms=(0.8,0.7))"
      ],
      "execution_count": null,
      "outputs": [
        {
          "output_type": "display_data",
          "data": {
            "text/html": [
              "<table border=\"1\" class=\"dataframe\">\n",
              "  <thead>\n",
              "    <tr style=\"text-align: left;\">\n",
              "      <th>epoch</th>\n",
              "      <th>train_loss</th>\n",
              "      <th>valid_loss</th>\n",
              "      <th>accuracy</th>\n",
              "      <th>time</th>\n",
              "    </tr>\n",
              "  </thead>\n",
              "  <tbody>\n",
              "    <tr>\n",
              "      <td>0</td>\n",
              "      <td>0.047013</td>\n",
              "      <td>0.043013</td>\n",
              "      <td>0.985035</td>\n",
              "      <td>53:22</td>\n",
              "    </tr>\n",
              "  </tbody>\n",
              "</table>"
            ],
            "text/plain": [
              "<IPython.core.display.HTML object>"
            ]
          },
          "metadata": {
            "tags": []
          }
        }
      ]
    },
    {
      "cell_type": "code",
      "metadata": {
        "colab_type": "code",
        "id": "NGZQXidGukGk",
        "colab": {}
      },
      "source": [
        "learn_c.save(class_prefix+trans+'_2nd')\n",
        "#logwriter.append_row([getloggerdt(),'classifier top 3 layers training saved as '+trans+\"_2nd\"])"
      ],
      "execution_count": null,
      "outputs": []
    },
    {
      "cell_type": "code",
      "metadata": {
        "colab_type": "code",
        "id": "VZOd-Vcvx7eK",
        "colab": {
          "base_uri": "https://localhost:8080/",
          "height": 1000
        },
        "outputId": "1e937357-46c7-4660-cec3-23984c1cd94e"
      },
      "source": [
        "learn_c.load(class_prefix+trans+'_2nd')"
      ],
      "execution_count": null,
      "outputs": [
        {
          "output_type": "execute_result",
          "data": {
            "text/plain": [
              "RNNLearner(data=TextClasDataBunch;\n",
              "\n",
              "Train: LabelList (1437771 items)\n",
              "x: TextList\n",
              "xxbos xxmaj bloomsbury xxup xxunk xxmaj clark .,xxbos xxmaj xxunk i ( xxunk ) \n",
              "  xxmaj xxunk i ( xxunk ) , restored \n",
              "  175 .,xxbos xxmaj initially these prejudices only found a reception among xxmaj arab xxmaj christians because they were too foreign to gain any widespread acceptance among xxmaj muslims .,xxbos xxmaj in the 16th century , the xxmaj reformation led to xxmaj protestantism also breaking away .,xxbos xxmaj it runs and sponsors thousands of primary and secondary schools , colleges and universities throughout the world and operates the world 's largest non - governmental school system . xxmaj religious institutes for women have played a particularly prominent role in the provision of health and education services , as with orders such as the xxmaj sisters of xxmaj mercy , xxmaj little xxmaj sisters of the xxmaj poor , the xxmaj missionaries of xxmaj charity , the xxmaj sisters of xxmaj st. xxmaj joseph of the xxmaj sacred xxmaj heart , the xxmaj sisters of the xxmaj blessed xxmaj sacrament and the xxmaj daughters of xxmaj charity of xxmaj saint xxmaj vincent de xxmaj paul .\n",
              "y: CategoryList\n",
              "R,R,R,R,R\n",
              "Path: /content/drive/My Drive/AI & Tech Research/Religion of GPT2/fastai;\n",
              "\n",
              "Valid: LabelList (359443 items)\n",
              "x: TextList\n",
              "xxbos xxmaj many xxmaj wikipedia articles on religious topics are not yet listed on this page .,xxbos xxmaj this page links to itself and its talk page so that changes to them can be tracked by the same means .,xxbos xxmaj because it was adopted by the xxmaj philadelphia xxmaj association of xxmaj baptist xxmaj churches in the 18th century , it is also known as the xxmaj philadelphia xxmaj confession of xxmaj faith .,xxbos xxmaj the xxmaj philadelphia xxmaj confession was a modification of the xxmaj second xxmaj london xxmaj confession that added an allowance for singing of hymns , psalms and spiritual songs in the xxmaj lord 's xxmaj supper and made optional the laying on of hands in baptism .,xxbos xxmaj this official reprieve resulted in representatives from over 100 xxmaj particular xxmaj baptist churches to meet together in xxmaj london from xxunk xxmaj september to discuss and endorse the 1677 document .\n",
              "y: CategoryList\n",
              "R,R,R,R,R\n",
              "Path: /content/drive/My Drive/AI & Tech Research/Religion of GPT2/fastai;\n",
              "\n",
              "Test: None, model=SequentialRNN(\n",
              "  (0): MultiBatchEncoder(\n",
              "    (module): AWD_LSTM(\n",
              "      (encoder): Embedding(60000, 400, padding_idx=1)\n",
              "      (encoder_dp): EmbeddingDropout(\n",
              "        (emb): Embedding(60000, 400, padding_idx=1)\n",
              "      )\n",
              "      (rnns): ModuleList(\n",
              "        (0): WeightDropout(\n",
              "          (module): LSTM(400, 1152, batch_first=True)\n",
              "        )\n",
              "        (1): WeightDropout(\n",
              "          (module): LSTM(1152, 1152, batch_first=True)\n",
              "        )\n",
              "        (2): WeightDropout(\n",
              "          (module): LSTM(1152, 400, batch_first=True)\n",
              "        )\n",
              "      )\n",
              "      (input_dp): RNNDropout()\n",
              "      (hidden_dps): ModuleList(\n",
              "        (0): RNNDropout()\n",
              "        (1): RNNDropout()\n",
              "        (2): RNNDropout()\n",
              "      )\n",
              "    )\n",
              "  )\n",
              "  (1): PoolingLinearClassifier(\n",
              "    (layers): Sequential(\n",
              "      (0): BatchNorm1d(1200, eps=1e-05, momentum=0.1, affine=True, track_running_stats=True)\n",
              "      (1): Dropout(p=0.12, inplace=False)\n",
              "      (2): Linear(in_features=1200, out_features=50, bias=True)\n",
              "      (3): ReLU(inplace=True)\n",
              "      (4): BatchNorm1d(50, eps=1e-05, momentum=0.1, affine=True, track_running_stats=True)\n",
              "      (5): Dropout(p=0.1, inplace=False)\n",
              "      (6): Linear(in_features=50, out_features=2, bias=True)\n",
              "    )\n",
              "  )\n",
              "), opt_func=functools.partial(<class 'torch.optim.adam.Adam'>, betas=(0.9, 0.99)), loss_func=FlattenedLoss of CrossEntropyLoss(), metrics=[<function accuracy at 0x7f1cf0fa0378>], true_wd=True, bn_wd=True, wd=0.01, train_bn=True, path=PosixPath('/content/drive/My Drive/AI & Tech Research/Religion of GPT2/fastai'), model_dir='models', callback_fns=[functools.partial(<class 'fastai.basic_train.Recorder'>, add_time=True, silent=False)], callbacks=[RNNTrainer\n",
              "learn: RNNLearner(data=TextClasDataBunch;\n",
              "\n",
              "Train: LabelList (1437771 items)\n",
              "x: TextList\n",
              "xxbos xxmaj bloomsbury xxup xxunk xxmaj clark .,xxbos xxmaj xxunk i ( xxunk ) \n",
              "  xxmaj xxunk i ( xxunk ) , restored \n",
              "  175 .,xxbos xxmaj initially these prejudices only found a reception among xxmaj arab xxmaj christians because they were too foreign to gain any widespread acceptance among xxmaj muslims .,xxbos xxmaj in the 16th century , the xxmaj reformation led to xxmaj protestantism also breaking away .,xxbos xxmaj it runs and sponsors thousands of primary and secondary schools , colleges and universities throughout the world and operates the world 's largest non - governmental school system . xxmaj religious institutes for women have played a particularly prominent role in the provision of health and education services , as with orders such as the xxmaj sisters of xxmaj mercy , xxmaj little xxmaj sisters of the xxmaj poor , the xxmaj missionaries of xxmaj charity , the xxmaj sisters of xxmaj st. xxmaj joseph of the xxmaj sacred xxmaj heart , the xxmaj sisters of the xxmaj blessed xxmaj sacrament and the xxmaj daughters of xxmaj charity of xxmaj saint xxmaj vincent de xxmaj paul .\n",
              "y: CategoryList\n",
              "R,R,R,R,R\n",
              "Path: /content/drive/My Drive/AI & Tech Research/Religion of GPT2/fastai;\n",
              "\n",
              "Valid: LabelList (359443 items)\n",
              "x: TextList\n",
              "xxbos xxmaj many xxmaj wikipedia articles on religious topics are not yet listed on this page .,xxbos xxmaj this page links to itself and its talk page so that changes to them can be tracked by the same means .,xxbos xxmaj because it was adopted by the xxmaj philadelphia xxmaj association of xxmaj baptist xxmaj churches in the 18th century , it is also known as the xxmaj philadelphia xxmaj confession of xxmaj faith .,xxbos xxmaj the xxmaj philadelphia xxmaj confession was a modification of the xxmaj second xxmaj london xxmaj confession that added an allowance for singing of hymns , psalms and spiritual songs in the xxmaj lord 's xxmaj supper and made optional the laying on of hands in baptism .,xxbos xxmaj this official reprieve resulted in representatives from over 100 xxmaj particular xxmaj baptist churches to meet together in xxmaj london from xxunk xxmaj september to discuss and endorse the 1677 document .\n",
              "y: CategoryList\n",
              "R,R,R,R,R\n",
              "Path: /content/drive/My Drive/AI & Tech Research/Religion of GPT2/fastai;\n",
              "\n",
              "Test: None, model=SequentialRNN(\n",
              "  (0): MultiBatchEncoder(\n",
              "    (module): AWD_LSTM(\n",
              "      (encoder): Embedding(60000, 400, padding_idx=1)\n",
              "      (encoder_dp): EmbeddingDropout(\n",
              "        (emb): Embedding(60000, 400, padding_idx=1)\n",
              "      )\n",
              "      (rnns): ModuleList(\n",
              "        (0): WeightDropout(\n",
              "          (module): LSTM(400, 1152, batch_first=True)\n",
              "        )\n",
              "        (1): WeightDropout(\n",
              "          (module): LSTM(1152, 1152, batch_first=True)\n",
              "        )\n",
              "        (2): WeightDropout(\n",
              "          (module): LSTM(1152, 400, batch_first=True)\n",
              "        )\n",
              "      )\n",
              "      (input_dp): RNNDropout()\n",
              "      (hidden_dps): ModuleList(\n",
              "        (0): RNNDropout()\n",
              "        (1): RNNDropout()\n",
              "        (2): RNNDropout()\n",
              "      )\n",
              "    )\n",
              "  )\n",
              "  (1): PoolingLinearClassifier(\n",
              "    (layers): Sequential(\n",
              "      (0): BatchNorm1d(1200, eps=1e-05, momentum=0.1, affine=True, track_running_stats=True)\n",
              "      (1): Dropout(p=0.12, inplace=False)\n",
              "      (2): Linear(in_features=1200, out_features=50, bias=True)\n",
              "      (3): ReLU(inplace=True)\n",
              "      (4): BatchNorm1d(50, eps=1e-05, momentum=0.1, affine=True, track_running_stats=True)\n",
              "      (5): Dropout(p=0.1, inplace=False)\n",
              "      (6): Linear(in_features=50, out_features=2, bias=True)\n",
              "    )\n",
              "  )\n",
              "), opt_func=functools.partial(<class 'torch.optim.adam.Adam'>, betas=(0.9, 0.99)), loss_func=FlattenedLoss of CrossEntropyLoss(), metrics=[<function accuracy at 0x7f1cf0fa0378>], true_wd=True, bn_wd=True, wd=0.01, train_bn=True, path=PosixPath('/content/drive/My Drive/AI & Tech Research/Religion of GPT2/fastai'), model_dir='models', callback_fns=[functools.partial(<class 'fastai.basic_train.Recorder'>, add_time=True, silent=False)], callbacks=[...], layer_groups=[Sequential(\n",
              "  (0): Embedding(60000, 400, padding_idx=1)\n",
              "  (1): EmbeddingDropout(\n",
              "    (emb): Embedding(60000, 400, padding_idx=1)\n",
              "  )\n",
              "), Sequential(\n",
              "  (0): WeightDropout(\n",
              "    (module): LSTM(400, 1152, batch_first=True)\n",
              "  )\n",
              "  (1): RNNDropout()\n",
              "), Sequential(\n",
              "  (0): WeightDropout(\n",
              "    (module): LSTM(1152, 1152, batch_first=True)\n",
              "  )\n",
              "  (1): RNNDropout()\n",
              "), Sequential(\n",
              "  (0): WeightDropout(\n",
              "    (module): LSTM(1152, 400, batch_first=True)\n",
              "  )\n",
              "  (1): RNNDropout()\n",
              "), Sequential(\n",
              "  (0): PoolingLinearClassifier(\n",
              "    (layers): Sequential(\n",
              "      (0): BatchNorm1d(1200, eps=1e-05, momentum=0.1, affine=True, track_running_stats=True)\n",
              "      (1): Dropout(p=0.12, inplace=False)\n",
              "      (2): Linear(in_features=1200, out_features=50, bias=True)\n",
              "      (3): ReLU(inplace=True)\n",
              "      (4): BatchNorm1d(50, eps=1e-05, momentum=0.1, affine=True, track_running_stats=True)\n",
              "      (5): Dropout(p=0.1, inplace=False)\n",
              "      (6): Linear(in_features=50, out_features=2, bias=True)\n",
              "    )\n",
              "  )\n",
              ")], add_time=True, silent=False)\n",
              "alpha: 2.0\n",
              "beta: 1.0], layer_groups=[Sequential(\n",
              "  (0): Embedding(60000, 400, padding_idx=1)\n",
              "  (1): EmbeddingDropout(\n",
              "    (emb): Embedding(60000, 400, padding_idx=1)\n",
              "  )\n",
              "), Sequential(\n",
              "  (0): WeightDropout(\n",
              "    (module): LSTM(400, 1152, batch_first=True)\n",
              "  )\n",
              "  (1): RNNDropout()\n",
              "), Sequential(\n",
              "  (0): WeightDropout(\n",
              "    (module): LSTM(1152, 1152, batch_first=True)\n",
              "  )\n",
              "  (1): RNNDropout()\n",
              "), Sequential(\n",
              "  (0): WeightDropout(\n",
              "    (module): LSTM(1152, 400, batch_first=True)\n",
              "  )\n",
              "  (1): RNNDropout()\n",
              "), Sequential(\n",
              "  (0): PoolingLinearClassifier(\n",
              "    (layers): Sequential(\n",
              "      (0): BatchNorm1d(1200, eps=1e-05, momentum=0.1, affine=True, track_running_stats=True)\n",
              "      (1): Dropout(p=0.12, inplace=False)\n",
              "      (2): Linear(in_features=1200, out_features=50, bias=True)\n",
              "      (3): ReLU(inplace=True)\n",
              "      (4): BatchNorm1d(50, eps=1e-05, momentum=0.1, affine=True, track_running_stats=True)\n",
              "      (5): Dropout(p=0.1, inplace=False)\n",
              "      (6): Linear(in_features=50, out_features=2, bias=True)\n",
              "    )\n",
              "  )\n",
              ")], add_time=True, silent=False)"
            ]
          },
          "metadata": {
            "tags": []
          },
          "execution_count": 54
        }
      ]
    },
    {
      "cell_type": "code",
      "metadata": {
        "colab_type": "code",
        "id": "XRFcTWxrukGk",
        "colab": {
          "base_uri": "https://localhost:8080/",
          "height": 455
        },
        "outputId": "657cf190-b089-4fa9-999b-1dc4014927f0"
      },
      "source": [
        "#logwriter.append_row([getloggerdt(),'Unfreezing top 4 layers of classifier and training'])\n",
        "learn_c.freeze_to(-3)\n",
        "learn_c.fit_one_cycle(1, slice(5e-3/(2.6**4),5e-3), moms=(0.8,0.7))"
      ],
      "execution_count": null,
      "outputs": [
        {
          "output_type": "display_data",
          "data": {
            "text/html": [
              "\n",
              "    <div>\n",
              "        <style>\n",
              "            /* Turns off some styling */\n",
              "            progress {\n",
              "                /* gets rid of default border in Firefox and Opera. */\n",
              "                border: none;\n",
              "                /* Needs to be in here for Safari polyfill so background images work as expected. */\n",
              "                background-size: auto;\n",
              "            }\n",
              "            .progress-bar-interrupted, .progress-bar-interrupted::-webkit-progress-bar {\n",
              "                background: #F44336;\n",
              "            }\n",
              "        </style>\n",
              "      <progress value='0' class='' max='1' style='width:300px; height:20px; vertical-align: middle;'></progress>\n",
              "      0.00% [0/1 00:00<00:00]\n",
              "    </div>\n",
              "    \n",
              "<table border=\"1\" class=\"dataframe\">\n",
              "  <thead>\n",
              "    <tr style=\"text-align: left;\">\n",
              "      <th>epoch</th>\n",
              "      <th>train_loss</th>\n",
              "      <th>valid_loss</th>\n",
              "      <th>accuracy</th>\n",
              "      <th>time</th>\n",
              "    </tr>\n",
              "  </thead>\n",
              "  <tbody>\n",
              "  </tbody>\n",
              "</table><p>\n",
              "\n",
              "    <div>\n",
              "        <style>\n",
              "            /* Turns off some styling */\n",
              "            progress {\n",
              "                /* gets rid of default border in Firefox and Opera. */\n",
              "                border: none;\n",
              "                /* Needs to be in here for Safari polyfill so background images work as expected. */\n",
              "                background-size: auto;\n",
              "            }\n",
              "            .progress-bar-interrupted, .progress-bar-interrupted::-webkit-progress-bar {\n",
              "                background: #F44336;\n",
              "            }\n",
              "        </style>\n",
              "      <progress value='0' class='' max='14976' style='width:300px; height:20px; vertical-align: middle;'></progress>\n",
              "      0.00% [0/14976 00:00<00:00]\n",
              "    </div>\n",
              "    "
            ],
            "text/plain": [
              "<IPython.core.display.HTML object>"
            ]
          },
          "metadata": {
            "tags": []
          }
        },
        {
          "output_type": "error",
          "ename": "RuntimeError",
          "evalue": "ignored",
          "traceback": [
            "\u001b[0;31m---------------------------------------------------------------------------\u001b[0m",
            "\u001b[0;31mRuntimeError\u001b[0m                              Traceback (most recent call last)",
            "\u001b[0;32m<ipython-input-55-d2e482d7102b>\u001b[0m in \u001b[0;36m<module>\u001b[0;34m()\u001b[0m\n\u001b[1;32m      1\u001b[0m \u001b[0;31m#logwriter.append_row([getloggerdt(),'Unfreezing top 4 layers of classifier and training'])\u001b[0m\u001b[0;34m\u001b[0m\u001b[0;34m\u001b[0m\u001b[0;34m\u001b[0m\u001b[0m\n\u001b[1;32m      2\u001b[0m \u001b[0mlearn_c\u001b[0m\u001b[0;34m.\u001b[0m\u001b[0mfreeze_to\u001b[0m\u001b[0;34m(\u001b[0m\u001b[0;34m-\u001b[0m\u001b[0;36m3\u001b[0m\u001b[0;34m)\u001b[0m\u001b[0;34m\u001b[0m\u001b[0;34m\u001b[0m\u001b[0m\n\u001b[0;32m----> 3\u001b[0;31m \u001b[0mlearn_c\u001b[0m\u001b[0;34m.\u001b[0m\u001b[0mfit_one_cycle\u001b[0m\u001b[0;34m(\u001b[0m\u001b[0;36m1\u001b[0m\u001b[0;34m,\u001b[0m \u001b[0mslice\u001b[0m\u001b[0;34m(\u001b[0m\u001b[0;36m5e-3\u001b[0m\u001b[0;34m/\u001b[0m\u001b[0;34m(\u001b[0m\u001b[0;36m2.6\u001b[0m\u001b[0;34m**\u001b[0m\u001b[0;36m4\u001b[0m\u001b[0;34m)\u001b[0m\u001b[0;34m,\u001b[0m\u001b[0;36m5e-3\u001b[0m\u001b[0;34m)\u001b[0m\u001b[0;34m,\u001b[0m \u001b[0mmoms\u001b[0m\u001b[0;34m=\u001b[0m\u001b[0;34m(\u001b[0m\u001b[0;36m0.8\u001b[0m\u001b[0;34m,\u001b[0m\u001b[0;36m0.7\u001b[0m\u001b[0;34m)\u001b[0m\u001b[0;34m)\u001b[0m\u001b[0;34m\u001b[0m\u001b[0;34m\u001b[0m\u001b[0m\n\u001b[0m",
            "\u001b[0;32m/usr/local/lib/python3.6/dist-packages/fastai/train.py\u001b[0m in \u001b[0;36mfit_one_cycle\u001b[0;34m(learn, cyc_len, max_lr, moms, div_factor, pct_start, final_div, wd, callbacks, tot_epochs, start_epoch)\u001b[0m\n\u001b[1;32m     21\u001b[0m     callbacks.append(OneCycleScheduler(learn, max_lr, moms=moms, div_factor=div_factor, pct_start=pct_start,\n\u001b[1;32m     22\u001b[0m                                        final_div=final_div, tot_epochs=tot_epochs, start_epoch=start_epoch))\n\u001b[0;32m---> 23\u001b[0;31m     \u001b[0mlearn\u001b[0m\u001b[0;34m.\u001b[0m\u001b[0mfit\u001b[0m\u001b[0;34m(\u001b[0m\u001b[0mcyc_len\u001b[0m\u001b[0;34m,\u001b[0m \u001b[0mmax_lr\u001b[0m\u001b[0;34m,\u001b[0m \u001b[0mwd\u001b[0m\u001b[0;34m=\u001b[0m\u001b[0mwd\u001b[0m\u001b[0;34m,\u001b[0m \u001b[0mcallbacks\u001b[0m\u001b[0;34m=\u001b[0m\u001b[0mcallbacks\u001b[0m\u001b[0;34m)\u001b[0m\u001b[0;34m\u001b[0m\u001b[0;34m\u001b[0m\u001b[0m\n\u001b[0m\u001b[1;32m     24\u001b[0m \u001b[0;34m\u001b[0m\u001b[0m\n\u001b[1;32m     25\u001b[0m def fit_fc(learn:Learner, tot_epochs:int=1, lr:float=defaults.lr,  moms:Tuple[float,float]=(0.95,0.85), start_pct:float=0.72,\n",
            "\u001b[0;32m/usr/local/lib/python3.6/dist-packages/fastai/basic_train.py\u001b[0m in \u001b[0;36mfit\u001b[0;34m(self, epochs, lr, wd, callbacks)\u001b[0m\n\u001b[1;32m    198\u001b[0m         \u001b[0;32melse\u001b[0m\u001b[0;34m:\u001b[0m \u001b[0mself\u001b[0m\u001b[0;34m.\u001b[0m\u001b[0mopt\u001b[0m\u001b[0;34m.\u001b[0m\u001b[0mlr\u001b[0m\u001b[0;34m,\u001b[0m\u001b[0mself\u001b[0m\u001b[0;34m.\u001b[0m\u001b[0mopt\u001b[0m\u001b[0;34m.\u001b[0m\u001b[0mwd\u001b[0m \u001b[0;34m=\u001b[0m \u001b[0mlr\u001b[0m\u001b[0;34m,\u001b[0m\u001b[0mwd\u001b[0m\u001b[0;34m\u001b[0m\u001b[0;34m\u001b[0m\u001b[0m\n\u001b[1;32m    199\u001b[0m         \u001b[0mcallbacks\u001b[0m \u001b[0;34m=\u001b[0m \u001b[0;34m[\u001b[0m\u001b[0mcb\u001b[0m\u001b[0;34m(\u001b[0m\u001b[0mself\u001b[0m\u001b[0;34m)\u001b[0m \u001b[0;32mfor\u001b[0m \u001b[0mcb\u001b[0m \u001b[0;32min\u001b[0m \u001b[0mself\u001b[0m\u001b[0;34m.\u001b[0m\u001b[0mcallback_fns\u001b[0m \u001b[0;34m+\u001b[0m \u001b[0mlistify\u001b[0m\u001b[0;34m(\u001b[0m\u001b[0mdefaults\u001b[0m\u001b[0;34m.\u001b[0m\u001b[0mextra_callback_fns\u001b[0m\u001b[0;34m)\u001b[0m\u001b[0;34m]\u001b[0m \u001b[0;34m+\u001b[0m \u001b[0mlistify\u001b[0m\u001b[0;34m(\u001b[0m\u001b[0mcallbacks\u001b[0m\u001b[0;34m)\u001b[0m\u001b[0;34m\u001b[0m\u001b[0;34m\u001b[0m\u001b[0m\n\u001b[0;32m--> 200\u001b[0;31m         \u001b[0mfit\u001b[0m\u001b[0;34m(\u001b[0m\u001b[0mepochs\u001b[0m\u001b[0;34m,\u001b[0m \u001b[0mself\u001b[0m\u001b[0;34m,\u001b[0m \u001b[0mmetrics\u001b[0m\u001b[0;34m=\u001b[0m\u001b[0mself\u001b[0m\u001b[0;34m.\u001b[0m\u001b[0mmetrics\u001b[0m\u001b[0;34m,\u001b[0m \u001b[0mcallbacks\u001b[0m\u001b[0;34m=\u001b[0m\u001b[0mself\u001b[0m\u001b[0;34m.\u001b[0m\u001b[0mcallbacks\u001b[0m\u001b[0;34m+\u001b[0m\u001b[0mcallbacks\u001b[0m\u001b[0;34m)\u001b[0m\u001b[0;34m\u001b[0m\u001b[0;34m\u001b[0m\u001b[0m\n\u001b[0m\u001b[1;32m    201\u001b[0m \u001b[0;34m\u001b[0m\u001b[0m\n\u001b[1;32m    202\u001b[0m     \u001b[0;32mdef\u001b[0m \u001b[0mcreate_opt\u001b[0m\u001b[0;34m(\u001b[0m\u001b[0mself\u001b[0m\u001b[0;34m,\u001b[0m \u001b[0mlr\u001b[0m\u001b[0;34m:\u001b[0m\u001b[0mFloats\u001b[0m\u001b[0;34m,\u001b[0m \u001b[0mwd\u001b[0m\u001b[0;34m:\u001b[0m\u001b[0mFloats\u001b[0m\u001b[0;34m=\u001b[0m\u001b[0;36m0.\u001b[0m\u001b[0;34m)\u001b[0m\u001b[0;34m->\u001b[0m\u001b[0;32mNone\u001b[0m\u001b[0;34m:\u001b[0m\u001b[0;34m\u001b[0m\u001b[0;34m\u001b[0m\u001b[0m\n",
            "\u001b[0;32m/usr/local/lib/python3.6/dist-packages/fastai/basic_train.py\u001b[0m in \u001b[0;36mfit\u001b[0;34m(epochs, learn, callbacks, metrics)\u001b[0m\n\u001b[1;32m     99\u001b[0m             \u001b[0;32mfor\u001b[0m \u001b[0mxb\u001b[0m\u001b[0;34m,\u001b[0m\u001b[0myb\u001b[0m \u001b[0;32min\u001b[0m \u001b[0mprogress_bar\u001b[0m\u001b[0;34m(\u001b[0m\u001b[0mlearn\u001b[0m\u001b[0;34m.\u001b[0m\u001b[0mdata\u001b[0m\u001b[0;34m.\u001b[0m\u001b[0mtrain_dl\u001b[0m\u001b[0;34m,\u001b[0m \u001b[0mparent\u001b[0m\u001b[0;34m=\u001b[0m\u001b[0mpbar\u001b[0m\u001b[0;34m)\u001b[0m\u001b[0;34m:\u001b[0m\u001b[0;34m\u001b[0m\u001b[0;34m\u001b[0m\u001b[0m\n\u001b[1;32m    100\u001b[0m                 \u001b[0mxb\u001b[0m\u001b[0;34m,\u001b[0m \u001b[0myb\u001b[0m \u001b[0;34m=\u001b[0m \u001b[0mcb_handler\u001b[0m\u001b[0;34m.\u001b[0m\u001b[0mon_batch_begin\u001b[0m\u001b[0;34m(\u001b[0m\u001b[0mxb\u001b[0m\u001b[0;34m,\u001b[0m \u001b[0myb\u001b[0m\u001b[0;34m)\u001b[0m\u001b[0;34m\u001b[0m\u001b[0;34m\u001b[0m\u001b[0m\n\u001b[0;32m--> 101\u001b[0;31m                 \u001b[0mloss\u001b[0m \u001b[0;34m=\u001b[0m \u001b[0mloss_batch\u001b[0m\u001b[0;34m(\u001b[0m\u001b[0mlearn\u001b[0m\u001b[0;34m.\u001b[0m\u001b[0mmodel\u001b[0m\u001b[0;34m,\u001b[0m \u001b[0mxb\u001b[0m\u001b[0;34m,\u001b[0m \u001b[0myb\u001b[0m\u001b[0;34m,\u001b[0m \u001b[0mlearn\u001b[0m\u001b[0;34m.\u001b[0m\u001b[0mloss_func\u001b[0m\u001b[0;34m,\u001b[0m \u001b[0mlearn\u001b[0m\u001b[0;34m.\u001b[0m\u001b[0mopt\u001b[0m\u001b[0;34m,\u001b[0m \u001b[0mcb_handler\u001b[0m\u001b[0;34m)\u001b[0m\u001b[0;34m\u001b[0m\u001b[0;34m\u001b[0m\u001b[0m\n\u001b[0m\u001b[1;32m    102\u001b[0m                 \u001b[0;32mif\u001b[0m \u001b[0mcb_handler\u001b[0m\u001b[0;34m.\u001b[0m\u001b[0mon_batch_end\u001b[0m\u001b[0;34m(\u001b[0m\u001b[0mloss\u001b[0m\u001b[0;34m)\u001b[0m\u001b[0;34m:\u001b[0m \u001b[0;32mbreak\u001b[0m\u001b[0;34m\u001b[0m\u001b[0;34m\u001b[0m\u001b[0m\n\u001b[1;32m    103\u001b[0m \u001b[0;34m\u001b[0m\u001b[0m\n",
            "\u001b[0;32m/usr/local/lib/python3.6/dist-packages/fastai/basic_train.py\u001b[0m in \u001b[0;36mloss_batch\u001b[0;34m(model, xb, yb, loss_func, opt, cb_handler)\u001b[0m\n\u001b[1;32m     24\u001b[0m     \u001b[0;32mif\u001b[0m \u001b[0;32mnot\u001b[0m \u001b[0mis_listy\u001b[0m\u001b[0;34m(\u001b[0m\u001b[0mxb\u001b[0m\u001b[0;34m)\u001b[0m\u001b[0;34m:\u001b[0m \u001b[0mxb\u001b[0m \u001b[0;34m=\u001b[0m \u001b[0;34m[\u001b[0m\u001b[0mxb\u001b[0m\u001b[0;34m]\u001b[0m\u001b[0;34m\u001b[0m\u001b[0;34m\u001b[0m\u001b[0m\n\u001b[1;32m     25\u001b[0m     \u001b[0;32mif\u001b[0m \u001b[0;32mnot\u001b[0m \u001b[0mis_listy\u001b[0m\u001b[0;34m(\u001b[0m\u001b[0myb\u001b[0m\u001b[0;34m)\u001b[0m\u001b[0;34m:\u001b[0m \u001b[0myb\u001b[0m \u001b[0;34m=\u001b[0m \u001b[0;34m[\u001b[0m\u001b[0myb\u001b[0m\u001b[0;34m]\u001b[0m\u001b[0;34m\u001b[0m\u001b[0;34m\u001b[0m\u001b[0m\n\u001b[0;32m---> 26\u001b[0;31m     \u001b[0mout\u001b[0m \u001b[0;34m=\u001b[0m \u001b[0mmodel\u001b[0m\u001b[0;34m(\u001b[0m\u001b[0;34m*\u001b[0m\u001b[0mxb\u001b[0m\u001b[0;34m)\u001b[0m\u001b[0;34m\u001b[0m\u001b[0;34m\u001b[0m\u001b[0m\n\u001b[0m\u001b[1;32m     27\u001b[0m     \u001b[0mout\u001b[0m \u001b[0;34m=\u001b[0m \u001b[0mcb_handler\u001b[0m\u001b[0;34m.\u001b[0m\u001b[0mon_loss_begin\u001b[0m\u001b[0;34m(\u001b[0m\u001b[0mout\u001b[0m\u001b[0;34m)\u001b[0m\u001b[0;34m\u001b[0m\u001b[0;34m\u001b[0m\u001b[0m\n\u001b[1;32m     28\u001b[0m \u001b[0;34m\u001b[0m\u001b[0m\n",
            "\u001b[0;32m/usr/local/lib/python3.6/dist-packages/torch/nn/modules/module.py\u001b[0m in \u001b[0;36m__call__\u001b[0;34m(self, *input, **kwargs)\u001b[0m\n\u001b[1;32m    548\u001b[0m             \u001b[0mresult\u001b[0m \u001b[0;34m=\u001b[0m \u001b[0mself\u001b[0m\u001b[0;34m.\u001b[0m\u001b[0m_slow_forward\u001b[0m\u001b[0;34m(\u001b[0m\u001b[0;34m*\u001b[0m\u001b[0minput\u001b[0m\u001b[0;34m,\u001b[0m \u001b[0;34m**\u001b[0m\u001b[0mkwargs\u001b[0m\u001b[0;34m)\u001b[0m\u001b[0;34m\u001b[0m\u001b[0;34m\u001b[0m\u001b[0m\n\u001b[1;32m    549\u001b[0m         \u001b[0;32melse\u001b[0m\u001b[0;34m:\u001b[0m\u001b[0;34m\u001b[0m\u001b[0;34m\u001b[0m\u001b[0m\n\u001b[0;32m--> 550\u001b[0;31m             \u001b[0mresult\u001b[0m \u001b[0;34m=\u001b[0m \u001b[0mself\u001b[0m\u001b[0;34m.\u001b[0m\u001b[0mforward\u001b[0m\u001b[0;34m(\u001b[0m\u001b[0;34m*\u001b[0m\u001b[0minput\u001b[0m\u001b[0;34m,\u001b[0m \u001b[0;34m**\u001b[0m\u001b[0mkwargs\u001b[0m\u001b[0;34m)\u001b[0m\u001b[0;34m\u001b[0m\u001b[0;34m\u001b[0m\u001b[0m\n\u001b[0m\u001b[1;32m    551\u001b[0m         \u001b[0;32mfor\u001b[0m \u001b[0mhook\u001b[0m \u001b[0;32min\u001b[0m \u001b[0mself\u001b[0m\u001b[0;34m.\u001b[0m\u001b[0m_forward_hooks\u001b[0m\u001b[0;34m.\u001b[0m\u001b[0mvalues\u001b[0m\u001b[0;34m(\u001b[0m\u001b[0;34m)\u001b[0m\u001b[0;34m:\u001b[0m\u001b[0;34m\u001b[0m\u001b[0;34m\u001b[0m\u001b[0m\n\u001b[1;32m    552\u001b[0m             \u001b[0mhook_result\u001b[0m \u001b[0;34m=\u001b[0m \u001b[0mhook\u001b[0m\u001b[0;34m(\u001b[0m\u001b[0mself\u001b[0m\u001b[0;34m,\u001b[0m \u001b[0minput\u001b[0m\u001b[0;34m,\u001b[0m \u001b[0mresult\u001b[0m\u001b[0;34m)\u001b[0m\u001b[0;34m\u001b[0m\u001b[0;34m\u001b[0m\u001b[0m\n",
            "\u001b[0;32m/usr/local/lib/python3.6/dist-packages/torch/nn/modules/container.py\u001b[0m in \u001b[0;36mforward\u001b[0;34m(self, input)\u001b[0m\n\u001b[1;32m     98\u001b[0m     \u001b[0;32mdef\u001b[0m \u001b[0mforward\u001b[0m\u001b[0;34m(\u001b[0m\u001b[0mself\u001b[0m\u001b[0;34m,\u001b[0m \u001b[0minput\u001b[0m\u001b[0;34m)\u001b[0m\u001b[0;34m:\u001b[0m\u001b[0;34m\u001b[0m\u001b[0;34m\u001b[0m\u001b[0m\n\u001b[1;32m     99\u001b[0m         \u001b[0;32mfor\u001b[0m \u001b[0mmodule\u001b[0m \u001b[0;32min\u001b[0m \u001b[0mself\u001b[0m\u001b[0;34m:\u001b[0m\u001b[0;34m\u001b[0m\u001b[0;34m\u001b[0m\u001b[0m\n\u001b[0;32m--> 100\u001b[0;31m             \u001b[0minput\u001b[0m \u001b[0;34m=\u001b[0m \u001b[0mmodule\u001b[0m\u001b[0;34m(\u001b[0m\u001b[0minput\u001b[0m\u001b[0;34m)\u001b[0m\u001b[0;34m\u001b[0m\u001b[0;34m\u001b[0m\u001b[0m\n\u001b[0m\u001b[1;32m    101\u001b[0m         \u001b[0;32mreturn\u001b[0m \u001b[0minput\u001b[0m\u001b[0;34m\u001b[0m\u001b[0;34m\u001b[0m\u001b[0m\n\u001b[1;32m    102\u001b[0m \u001b[0;34m\u001b[0m\u001b[0m\n",
            "\u001b[0;32m/usr/local/lib/python3.6/dist-packages/torch/nn/modules/module.py\u001b[0m in \u001b[0;36m__call__\u001b[0;34m(self, *input, **kwargs)\u001b[0m\n\u001b[1;32m    548\u001b[0m             \u001b[0mresult\u001b[0m \u001b[0;34m=\u001b[0m \u001b[0mself\u001b[0m\u001b[0;34m.\u001b[0m\u001b[0m_slow_forward\u001b[0m\u001b[0;34m(\u001b[0m\u001b[0;34m*\u001b[0m\u001b[0minput\u001b[0m\u001b[0;34m,\u001b[0m \u001b[0;34m**\u001b[0m\u001b[0mkwargs\u001b[0m\u001b[0;34m)\u001b[0m\u001b[0;34m\u001b[0m\u001b[0;34m\u001b[0m\u001b[0m\n\u001b[1;32m    549\u001b[0m         \u001b[0;32melse\u001b[0m\u001b[0;34m:\u001b[0m\u001b[0;34m\u001b[0m\u001b[0;34m\u001b[0m\u001b[0m\n\u001b[0;32m--> 550\u001b[0;31m             \u001b[0mresult\u001b[0m \u001b[0;34m=\u001b[0m \u001b[0mself\u001b[0m\u001b[0;34m.\u001b[0m\u001b[0mforward\u001b[0m\u001b[0;34m(\u001b[0m\u001b[0;34m*\u001b[0m\u001b[0minput\u001b[0m\u001b[0;34m,\u001b[0m \u001b[0;34m**\u001b[0m\u001b[0mkwargs\u001b[0m\u001b[0;34m)\u001b[0m\u001b[0;34m\u001b[0m\u001b[0;34m\u001b[0m\u001b[0m\n\u001b[0m\u001b[1;32m    551\u001b[0m         \u001b[0;32mfor\u001b[0m \u001b[0mhook\u001b[0m \u001b[0;32min\u001b[0m \u001b[0mself\u001b[0m\u001b[0;34m.\u001b[0m\u001b[0m_forward_hooks\u001b[0m\u001b[0;34m.\u001b[0m\u001b[0mvalues\u001b[0m\u001b[0;34m(\u001b[0m\u001b[0;34m)\u001b[0m\u001b[0;34m:\u001b[0m\u001b[0;34m\u001b[0m\u001b[0;34m\u001b[0m\u001b[0m\n\u001b[1;32m    552\u001b[0m             \u001b[0mhook_result\u001b[0m \u001b[0;34m=\u001b[0m \u001b[0mhook\u001b[0m\u001b[0;34m(\u001b[0m\u001b[0mself\u001b[0m\u001b[0;34m,\u001b[0m \u001b[0minput\u001b[0m\u001b[0;34m,\u001b[0m \u001b[0mresult\u001b[0m\u001b[0;34m)\u001b[0m\u001b[0;34m\u001b[0m\u001b[0;34m\u001b[0m\u001b[0m\n",
            "\u001b[0;32m/usr/local/lib/python3.6/dist-packages/fastai/text/learner.py\u001b[0m in \u001b[0;36mforward\u001b[0;34m(self, input)\u001b[0m\n\u001b[1;32m    268\u001b[0m                 \u001b[0mraw_outputs\u001b[0m\u001b[0;34m.\u001b[0m\u001b[0mappend\u001b[0m\u001b[0;34m(\u001b[0m\u001b[0mr\u001b[0m\u001b[0;34m)\u001b[0m\u001b[0;34m\u001b[0m\u001b[0;34m\u001b[0m\u001b[0m\n\u001b[1;32m    269\u001b[0m                 \u001b[0moutputs\u001b[0m\u001b[0;34m.\u001b[0m\u001b[0mappend\u001b[0m\u001b[0;34m(\u001b[0m\u001b[0mo\u001b[0m\u001b[0;34m)\u001b[0m\u001b[0;34m\u001b[0m\u001b[0;34m\u001b[0m\u001b[0m\n\u001b[0;32m--> 270\u001b[0;31m         \u001b[0;32mreturn\u001b[0m \u001b[0mself\u001b[0m\u001b[0;34m.\u001b[0m\u001b[0mconcat\u001b[0m\u001b[0;34m(\u001b[0m\u001b[0mraw_outputs\u001b[0m\u001b[0;34m)\u001b[0m\u001b[0;34m,\u001b[0m\u001b[0mself\u001b[0m\u001b[0;34m.\u001b[0m\u001b[0mconcat\u001b[0m\u001b[0;34m(\u001b[0m\u001b[0moutputs\u001b[0m\u001b[0;34m)\u001b[0m\u001b[0;34m,\u001b[0m\u001b[0mtorch\u001b[0m\u001b[0;34m.\u001b[0m\u001b[0mcat\u001b[0m\u001b[0;34m(\u001b[0m\u001b[0mmasks\u001b[0m\u001b[0;34m,\u001b[0m\u001b[0mdim\u001b[0m\u001b[0;34m=\u001b[0m\u001b[0;36m1\u001b[0m\u001b[0;34m)\u001b[0m\u001b[0;34m\u001b[0m\u001b[0;34m\u001b[0m\u001b[0m\n\u001b[0m\u001b[1;32m    271\u001b[0m \u001b[0;34m\u001b[0m\u001b[0m\n\u001b[1;32m    272\u001b[0m def get_text_classifier(arch:Callable, vocab_sz:int, n_class:int, bptt:int=70, max_len:int=20*70, config:dict=None,\n",
            "\u001b[0;32m/usr/local/lib/python3.6/dist-packages/fastai/text/learner.py\u001b[0m in \u001b[0;36mconcat\u001b[0;34m(self, arrs)\u001b[0m\n\u001b[1;32m    253\u001b[0m     \u001b[0;32mdef\u001b[0m \u001b[0mconcat\u001b[0m\u001b[0;34m(\u001b[0m\u001b[0mself\u001b[0m\u001b[0;34m,\u001b[0m \u001b[0marrs\u001b[0m\u001b[0;34m:\u001b[0m\u001b[0mSequence\u001b[0m\u001b[0;34m[\u001b[0m\u001b[0mSequence\u001b[0m\u001b[0;34m[\u001b[0m\u001b[0mTensor\u001b[0m\u001b[0;34m]\u001b[0m\u001b[0;34m]\u001b[0m\u001b[0;34m)\u001b[0m\u001b[0;34m->\u001b[0m\u001b[0mList\u001b[0m\u001b[0;34m[\u001b[0m\u001b[0mTensor\u001b[0m\u001b[0;34m]\u001b[0m\u001b[0;34m:\u001b[0m\u001b[0;34m\u001b[0m\u001b[0;34m\u001b[0m\u001b[0m\n\u001b[1;32m    254\u001b[0m         \u001b[0;34m\"Concatenate the `arrs` along the batch dimension.\"\u001b[0m\u001b[0;34m\u001b[0m\u001b[0;34m\u001b[0m\u001b[0m\n\u001b[0;32m--> 255\u001b[0;31m         \u001b[0;32mreturn\u001b[0m \u001b[0;34m[\u001b[0m\u001b[0mtorch\u001b[0m\u001b[0;34m.\u001b[0m\u001b[0mcat\u001b[0m\u001b[0;34m(\u001b[0m\u001b[0;34m[\u001b[0m\u001b[0ml\u001b[0m\u001b[0;34m[\u001b[0m\u001b[0msi\u001b[0m\u001b[0;34m]\u001b[0m \u001b[0;32mfor\u001b[0m \u001b[0ml\u001b[0m \u001b[0;32min\u001b[0m \u001b[0marrs\u001b[0m\u001b[0;34m]\u001b[0m\u001b[0;34m,\u001b[0m \u001b[0mdim\u001b[0m\u001b[0;34m=\u001b[0m\u001b[0;36m1\u001b[0m\u001b[0;34m)\u001b[0m \u001b[0;32mfor\u001b[0m \u001b[0msi\u001b[0m \u001b[0;32min\u001b[0m \u001b[0mrange_of\u001b[0m\u001b[0;34m(\u001b[0m\u001b[0marrs\u001b[0m\u001b[0;34m[\u001b[0m\u001b[0;36m0\u001b[0m\u001b[0;34m]\u001b[0m\u001b[0;34m)\u001b[0m\u001b[0;34m]\u001b[0m\u001b[0;34m\u001b[0m\u001b[0;34m\u001b[0m\u001b[0m\n\u001b[0m\u001b[1;32m    256\u001b[0m \u001b[0;34m\u001b[0m\u001b[0m\n\u001b[1;32m    257\u001b[0m     \u001b[0;32mdef\u001b[0m \u001b[0mreset\u001b[0m\u001b[0;34m(\u001b[0m\u001b[0mself\u001b[0m\u001b[0;34m)\u001b[0m\u001b[0;34m:\u001b[0m\u001b[0;34m\u001b[0m\u001b[0;34m\u001b[0m\u001b[0m\n",
            "\u001b[0;32m/usr/local/lib/python3.6/dist-packages/fastai/text/learner.py\u001b[0m in \u001b[0;36m<listcomp>\u001b[0;34m(.0)\u001b[0m\n\u001b[1;32m    253\u001b[0m     \u001b[0;32mdef\u001b[0m \u001b[0mconcat\u001b[0m\u001b[0;34m(\u001b[0m\u001b[0mself\u001b[0m\u001b[0;34m,\u001b[0m \u001b[0marrs\u001b[0m\u001b[0;34m:\u001b[0m\u001b[0mSequence\u001b[0m\u001b[0;34m[\u001b[0m\u001b[0mSequence\u001b[0m\u001b[0;34m[\u001b[0m\u001b[0mTensor\u001b[0m\u001b[0;34m]\u001b[0m\u001b[0;34m]\u001b[0m\u001b[0;34m)\u001b[0m\u001b[0;34m->\u001b[0m\u001b[0mList\u001b[0m\u001b[0;34m[\u001b[0m\u001b[0mTensor\u001b[0m\u001b[0;34m]\u001b[0m\u001b[0;34m:\u001b[0m\u001b[0;34m\u001b[0m\u001b[0;34m\u001b[0m\u001b[0m\n\u001b[1;32m    254\u001b[0m         \u001b[0;34m\"Concatenate the `arrs` along the batch dimension.\"\u001b[0m\u001b[0;34m\u001b[0m\u001b[0;34m\u001b[0m\u001b[0m\n\u001b[0;32m--> 255\u001b[0;31m         \u001b[0;32mreturn\u001b[0m \u001b[0;34m[\u001b[0m\u001b[0mtorch\u001b[0m\u001b[0;34m.\u001b[0m\u001b[0mcat\u001b[0m\u001b[0;34m(\u001b[0m\u001b[0;34m[\u001b[0m\u001b[0ml\u001b[0m\u001b[0;34m[\u001b[0m\u001b[0msi\u001b[0m\u001b[0;34m]\u001b[0m \u001b[0;32mfor\u001b[0m \u001b[0ml\u001b[0m \u001b[0;32min\u001b[0m \u001b[0marrs\u001b[0m\u001b[0;34m]\u001b[0m\u001b[0;34m,\u001b[0m \u001b[0mdim\u001b[0m\u001b[0;34m=\u001b[0m\u001b[0;36m1\u001b[0m\u001b[0;34m)\u001b[0m \u001b[0;32mfor\u001b[0m \u001b[0msi\u001b[0m \u001b[0;32min\u001b[0m \u001b[0mrange_of\u001b[0m\u001b[0;34m(\u001b[0m\u001b[0marrs\u001b[0m\u001b[0;34m[\u001b[0m\u001b[0;36m0\u001b[0m\u001b[0;34m]\u001b[0m\u001b[0;34m)\u001b[0m\u001b[0;34m]\u001b[0m\u001b[0;34m\u001b[0m\u001b[0;34m\u001b[0m\u001b[0m\n\u001b[0m\u001b[1;32m    256\u001b[0m \u001b[0;34m\u001b[0m\u001b[0m\n\u001b[1;32m    257\u001b[0m     \u001b[0;32mdef\u001b[0m \u001b[0mreset\u001b[0m\u001b[0;34m(\u001b[0m\u001b[0mself\u001b[0m\u001b[0;34m)\u001b[0m\u001b[0;34m:\u001b[0m\u001b[0;34m\u001b[0m\u001b[0;34m\u001b[0m\u001b[0m\n",
            "\u001b[0;31mRuntimeError\u001b[0m: CUDA out of memory. Tried to allocate 586.00 MiB (GPU 0; 11.17 GiB total capacity; 10.25 GiB already allocated; 331.75 MiB free; 10.53 GiB reserved in total by PyTorch)"
          ]
        }
      ]
    },
    {
      "cell_type": "code",
      "metadata": {
        "colab_type": "code",
        "id": "PKgjTw_oukGl",
        "colab": {}
      },
      "source": [
        "learn_c.save(class_prefix+trans+'_3rd')\n",
        "#logwriter.append_row([getloggerdt(),'classifier top 3 layers training saved as '+trans+\"_3rd\"])"
      ],
      "execution_count": null,
      "outputs": []
    },
    {
      "cell_type": "code",
      "metadata": {
        "colab_type": "code",
        "id": "cexcFeRSWWxZ",
        "colab": {}
      },
      "source": [
        "learn_c.load(class_prefix+trans+'_3rd')"
      ],
      "execution_count": null,
      "outputs": []
    },
    {
      "cell_type": "markdown",
      "metadata": {
        "colab_type": "text",
        "id": "Y_ZJlZjGdRpN"
      },
      "source": [
        "change ep to the number of epochs you wish to run (100 is the default)<br>\n",
        "This will train the entire classifier. It will search for the most accurate model and then save that when execute the save in the next cell"
      ]
    },
    {
      "cell_type": "code",
      "metadata": {
        "colab_type": "code",
        "id": "1WPoOXm_ukGm",
        "colab": {
          "base_uri": "https://localhost:8080/",
          "height": 495
        },
        "outputId": "c8bfc200-65b2-41a4-a366-91180930b9e9"
      },
      "source": [
        "#ep=100\n",
        "ep=10\n",
        "#logwriter.append_row([getloggerdt(),'training entire model for'+str(ep)+' epochs'])\n",
        "learn_c.unfreeze()\n",
        "learn_c.fit_one_cycle(ep, slice(1e-3/(2.6**4),1e-3), moms=(0.8,0.7),callbacks=[SaveModelCallback(learn_c, every='improvement',monitor='accuracy', name='best_class_'+trans)])"
      ],
      "execution_count": null,
      "outputs": [
        {
          "output_type": "error",
          "ename": "NameError",
          "evalue": "name 'learn_c' is not defined",
          "traceback": [
            "\u001b[0;31m---------------------------------------------------------------------------\u001b[0m",
            "\u001b[0;31mNameError\u001b[0m                                 Traceback (most recent call last)",
            "\u001b[0;32m<ipython-input-38-764ef7068938>\u001b[0m in \u001b[0;36m<module>\u001b[0;34m\u001b[0m\n\u001b[1;32m      2\u001b[0m \u001b[0mep\u001b[0m\u001b[0;34m=\u001b[0m\u001b[0;36m10\u001b[0m\u001b[0;34m\u001b[0m\u001b[0;34m\u001b[0m\u001b[0m\n\u001b[1;32m      3\u001b[0m \u001b[0;31m#logwriter.append_row([getloggerdt(),'training entire model for'+str(ep)+' epochs'])\u001b[0m\u001b[0;34m\u001b[0m\u001b[0;34m\u001b[0m\u001b[0;34m\u001b[0m\u001b[0m\n\u001b[0;32m----> 4\u001b[0;31m \u001b[0mlearn_c\u001b[0m\u001b[0;34m.\u001b[0m\u001b[0munfreeze\u001b[0m\u001b[0;34m(\u001b[0m\u001b[0;34m)\u001b[0m\u001b[0;34m\u001b[0m\u001b[0;34m\u001b[0m\u001b[0m\n\u001b[0m\u001b[1;32m      5\u001b[0m \u001b[0mlearn_c\u001b[0m\u001b[0;34m.\u001b[0m\u001b[0mfit_one_cycle\u001b[0m\u001b[0;34m(\u001b[0m\u001b[0mep\u001b[0m\u001b[0;34m,\u001b[0m \u001b[0mslice\u001b[0m\u001b[0;34m(\u001b[0m\u001b[0;36m1e-3\u001b[0m\u001b[0;34m/\u001b[0m\u001b[0;34m(\u001b[0m\u001b[0;36m2.6\u001b[0m\u001b[0;34m**\u001b[0m\u001b[0;36m4\u001b[0m\u001b[0;34m)\u001b[0m\u001b[0;34m,\u001b[0m\u001b[0;36m1e-3\u001b[0m\u001b[0;34m)\u001b[0m\u001b[0;34m,\u001b[0m \u001b[0mmoms\u001b[0m\u001b[0;34m=\u001b[0m\u001b[0;34m(\u001b[0m\u001b[0;36m0.8\u001b[0m\u001b[0;34m,\u001b[0m\u001b[0;36m0.7\u001b[0m\u001b[0;34m)\u001b[0m\u001b[0;34m,\u001b[0m\u001b[0mcallbacks\u001b[0m\u001b[0;34m=\u001b[0m\u001b[0;34m[\u001b[0m\u001b[0mSaveModelCallback\u001b[0m\u001b[0;34m(\u001b[0m\u001b[0mlearn_c\u001b[0m\u001b[0;34m,\u001b[0m \u001b[0mevery\u001b[0m\u001b[0;34m=\u001b[0m\u001b[0;34m'improvement'\u001b[0m\u001b[0;34m,\u001b[0m\u001b[0mmonitor\u001b[0m\u001b[0;34m=\u001b[0m\u001b[0;34m'accuracy'\u001b[0m\u001b[0;34m,\u001b[0m \u001b[0mname\u001b[0m\u001b[0;34m=\u001b[0m\u001b[0;34m'best_class_'\u001b[0m\u001b[0;34m+\u001b[0m\u001b[0mtrans\u001b[0m\u001b[0;34m)\u001b[0m\u001b[0;34m]\u001b[0m\u001b[0;34m)\u001b[0m\u001b[0;34m\u001b[0m\u001b[0;34m\u001b[0m\u001b[0m\n",
            "\u001b[0;31mNameError\u001b[0m: name 'learn_c' is not defined"
          ]
        }
      ]
    },
    {
      "cell_type": "code",
      "metadata": {
        "colab_type": "code",
        "id": "GWpJ27VMukGm",
        "colab": {}
      },
      "source": [
        "learn_c.save('clas_'+class_prefix+trans)\n",
        "#logwriter.append_row([getloggerdt(),'best model saved as class_'+trans])"
      ],
      "execution_count": null,
      "outputs": []
    },
    {
      "cell_type": "code",
      "metadata": {
        "scrolled": true,
        "id": "qtQKRkXXFSPP",
        "colab_type": "code",
        "colab": {}
      },
      "source": [
        "#this is only necessary if the last cell did not run\n",
        "learn_c.load('best_class_'+class_prefix+trans)\n",
        "learn_c.save('class'+class_prefix+trans)"
      ],
      "execution_count": null,
      "outputs": []
    },
    {
      "cell_type": "markdown",
      "metadata": {
        "colab_type": "text",
        "id": "cfNI_GauukGn"
      },
      "source": [
        "### run predictor"
      ]
    },
    {
      "cell_type": "code",
      "metadata": {
        "id": "P98WMysSLc_T",
        "colab_type": "code",
        "colab": {}
      },
      "source": [
        "#run if starting from scratch\n",
        "\n",
        "data_clas = load_data(paulpath,class_prefix+trans, bs=bs, num_workers=1)\n",
        "learn_c = text_classifier_learner(data_clas, AWD_LSTM, drop_mult=0.3) #.to_fp16()\n",
        "learn_c.path=paulpath\n",
        "learn_c.load_encoder('fine_tuned_enc_'+trans)"
      ],
      "execution_count": null,
      "outputs": []
    },
    {
      "cell_type": "code",
      "metadata": {
        "colab_type": "code",
        "id": "zqE5H8IUukGn",
        "scrolled": true,
        "colab": {
          "base_uri": "https://localhost:8080/",
          "height": 1000
        },
        "outputId": "d0a82c38-8a5a-410f-fe19-9cc673a741c1"
      },
      "source": [
        "#logwriter.append_row([getloggerdt(),'run predictor'])\n",
        "learn_c.load('clas_'+trans)\n",
        "\n",
        "#learn_c.load('clas'+trans)\n",
        "#learn_c."
      ],
      "execution_count": null,
      "outputs": [
        {
          "output_type": "execute_result",
          "data": {
            "text/plain": [
              "RNNLearner(data=TextClasDataBunch;\n",
              "\n",
              "Train: LabelList (13481 items)\n",
              "x: TextList\n",
              "xxbos xxmaj mun or xxmaj xxunk ( also called xxmaj xxunk ) is the traditional polytheistic , animist , shamanistic or xxmaj bon xxunk , and syncretic religion of the xxmaj lepcha people . xxmaj it predates the seventh century xxmaj lepcha conversion to xxmaj xxunk xxmaj buddhism , and since that time , the xxmaj lepcha have practiced it together with xxmaj buddhism . xxmaj since the arrival of xxmaj christian missionaries in the nineteenth century , xxmaj mun traditions have been followed alongside that religion as well . xxmaj the traditional religion permits incorporation of xxmaj buddha and xxmaj jesus xxmaj christ as deities , depending on household beliefs . xxmaj the xxunk \" xxmaj mun \" derives from the traditional belief in spirits called mun or xxunk . xxmaj together with xxunk ( also xxunk or xxunk ) , mun comprise a central element in the religion . xxmaj these terms are also used to describe the shaman priesthood that xxunk the respective spirits . xxmaj the xxmaj mun religion and its priesthood are in decline . xxmaj conversion to other religions is attributed to economic pressure , as traditional practices are immensely expensive to the ordinary practitioner . xxmaj it has , however , regained interest among xxmaj lepcha as ecological encroachment becomes a growing concern . xxmaj the environment is so deeply intertwined with xxmaj mun beliefs that religious leaders have offered direct opposition to development in areas including the xxmaj xxunk xxmaj chu and xxmaj xxunk xxmaj rivers . \n",
              " \n",
              " \n",
              "  = = xxmaj mythology = = \n",
              "  xxmaj the traditional xxmaj lepcha belief system is rich in oral myths , legends , fables , and fairy - tales collectively called xxunk sung . xxmaj according to xxmaj mun mythology , the ancestors of the xxmaj lepcha were created by xxmaj xxunk xxmaj rum , who molded them from the pure snows of mount xxmaj xxunk . xxmaj they thus share a lineage with the natural environment and share the cosmos with non - human spirits . xxmaj the spirit of the legendary xxmaj xxunk xxmaj xxunk delivers xxunk to the xxmaj lepcha chief through mun or xxunk shamans . \n",
              " \n",
              " \n",
              "  = = xxmaj belief system = = \n",
              "  xxmaj the belief system of xxmaj mun is animist , and the natural environment provides much of its basis . xxmaj naturally occurring spirits are an object of ceremonial dedication , and they reside in objects such as trees , rocks , and rivers . xxmaj it is also a syncretic religion that has coexisted with xxmaj mahayana xxmaj buddhism since its arrival in the seventh century , with practitioners following both religions at the same time . xxmaj traditional beliefs may have influenced xxmaj lepcha xxmaj buddhist scriptures . xxmaj modern religious life in a xxmaj lepcha village is centered on the xxunk , or xxmaj buddhist monastery . xxmaj many xxmaj lepcha were converted to xxmaj christianity by xxmaj scottish missionaries in the 19th century , however xxmaj buddhism and the traditional religion have retained important roles in xxmaj lepcha religious life . xxmaj many xxmaj christian xxmaj lepcha who have lost their xxmaj lepcha language have also distanced themselves from these traditional aspects of xxmaj lepcha religion . xxmaj mun religion includes a belief in heaven , called xxunk or rum xxunk ( from rum \" god \" and xxunk \" land / place \" ) . \n",
              " \n",
              " \n",
              "  = = = xxmaj deities = = = \n",
              "  xxmaj the xxmaj mun religion is polytheistic and syncretic : it acknowledges several deities , including those of other religions , namely xxmaj buddhism and xxmaj christianity . xxmaj the chief goddess of the xxmaj lepcha religion is xxmaj xxunk . xxmaj the mother - creator is a female earth deity , xxmaj it xxmaj xxunk ( also xxmaj xxunk - moo ) . xxmaj two other female deities are the chief of the mun spirits . xxmaj traditional xxmaj lepcha beliefs include deities governing family , clan ( or lineage , xxunk ) , village , region , and wider levels . xxmaj clan deities may be named after mountain peaks or rivers , while regions are home to deities associated with xxmaj xxunk such as xxmaj xxunk - rum - fat . xxmaj the current traditional religion also incorporates xxmaj buddha and xxmaj jesus xxmaj christ as a deities , depending on household beliefs . \n",
              " \n",
              " \n",
              "  = = = xxmaj mun spirits = = = \n",
              "  xxmaj mun spirits are of two general types : the benevolent , or white magician , xxunk - li mun , and the malevolent , or black magician , xxunk - sek mun or xxunk . xxmaj the latter reside in trees , bushes , rocks , and rivers . xxmaj the spirits are further subdivided into seven classes : xxunk mun , xxunk mun , xxunk mun , xxunk mun , xxunk mun , mun xxunk mun and xxunk - xxunk mun . xxmaj mun spirits , and witchcraft , are believed to be the xxunk culprit of illness . \n",
              " \n",
              " \n",
              "  = = xxmaj rituals = = \n",
              "  xxmaj ceremonies are usually performed for one or several households , and consist of two parts . xxmaj the rum portion is an offering to devils . xxmaj the second , xxunk , is for offerings to the deity xxmaj xxunk , to xxmaj xxunk rum fat , and to the plains . xxmaj ceremonies generally seek to appease these spirits . xxmaj xxunk rituals generally include prayers , herbs , and amulets , and may also include directed breathing or spitting by the priest . xxmaj ritual prayers are sometimes in the form of glossolalia . xxmaj spirit possession is considered to occur in various ways : from a subtle headache to violent , uncontrollable madness . xxmaj generally symptoms are the manifestation of xxunk spirits feeding off the flesh , blood , internal organs , or life energy of the host . xxmaj ritual paraphernalia include the xxunk bell , xxunk xxunk necklaces , and consecrated cup filled with chi . xxmaj the religion practices animal sacrifice , especially of goats and pigs . xxmaj mun priests are traditionally present at xxmaj lepcha celebrations for birth , marriage , and death . xxmaj among the xxmaj lepcha , xxmaj mun xxunk are the only obligatory aspect of a commoner 's funeral . xxmaj the funerary ceremony , called xxunk flee , is accompanied by the sacrifice of a goat and a hen three days after death . xxmaj it is also performed at the home of people who die elsewhere , for fear of the spirit 's return . xxmaj auspicious locations and days , particularly in rural settings , may be required of rituals to address more severe ailments or threatening afflictions . xxmaj festivals are also a central aspect of the religion . \n",
              " \n",
              " \n",
              "  = = xxmaj priesthood = = \n",
              "  xxmaj the priesthood consists of two types of shaman , corresponding to the spirits they manifest . xxmaj mun enter trance , believed to involve spirit possession , manifesting supernatural entities bodily . xxmaj spirits can be male or female . xxmaj the xxunk are only male , where they have to learn and practice rituals . xxmaj it is said that xxmaj xxunk came before xxmaj mun , so as to show respect , the xxmaj mun needs to learn both the xxmaj xxunk way and the xxmaj mun way . xxmaj their main functions are to ward off misfortunes and illness , perform exorcisms , and guide souls to the afterlife . xxmaj some also adjudicate theft cases . xxmaj although the priesthood exists , the religion considers true knowledge to be a divine revelation through meditation or dreams , as opposed to a learned talent . xxmaj both the mun and xxunk priesthoods are hereditary , although they do not pass strictly xxunk . xxmaj trained disciples of existing masters are often recruited to service at times of crisis as an election by ancestors or shamanic gods . xxmaj it is possible for a xxunk to advance to mun status . xxmaj xxunk are a male hereditary junior priesthood . a xxunk is usually an initiate on the path to becoming a mun shaman , and has the right to offer sacrifice . xxmaj the traditional priesthood also plays a role in the indigenous medical system , as they learn traditional medicine and healing rituals . \n",
              " \n",
              " \n",
              "  = = xxmaj see also = = \n",
              "  xxmaj lepcha people \n",
              "  xxmaj animism \n",
              "  xxmaj syncretism \n",
              "  xxmaj buddhism in xxmaj india \n",
              "  xxmaj indigenous peoples of xxmaj sikkim \n",
              " \n",
              " \n",
              "  = = xxmaj references = =,xxbos xxmaj the xxmaj day of the xxmaj vow ( xxmaj afrikaans : xxmaj xxunk ) was a religious public holiday in xxmaj south xxmaj africa . xxmaj it is an important holiday for xxmaj xxunk , originating from the xxmaj battle of xxmaj blood xxmaj river on 16 xxmaj december 1838 . \n",
              "  xxmaj initially called xxmaj xxunk 's xxmaj day ( xxmaj afrikaans : xxmaj xxunk ) , 16 xxmaj december was made an annual national holiday in 1910 , before being renamed xxmaj day of the xxmaj vow in 1982 . \n",
              "  xxmaj in 1994 , after the end of xxmaj apartheid , it was replaced by the xxmaj day of xxmaj reconciliation , an annual holiday also on 16 xxmaj december , \n",
              " \n",
              " \n",
              "  = = xxmaj origin = = \n",
              "  xxmaj the day of the xxmaj vow traces its origin as an annual religious holiday to xxmaj the xxmaj battle of xxmaj blood xxmaj river on 16 xxmaj december 1838 . xxmaj the besieged xxmaj xxunk took a public vow ( or covenant ) together before the battle , led by xxmaj xxunk xxmaj xxunk . xxmaj in return for xxmaj god 's help in obtaining victory , they promised to build a church and forever honour this day as a holy day of xxmaj god . xxmaj they vowed that they and their descendants would keep the day as a holy xxmaj sabbath . xxmaj during the battle a group of about 470 xxmaj xxunk defeated a force of about 20,000 xxmaj zulu . xxmaj three xxmaj xxunk were wounded , and some 3,000 xxmaj zulu warriors died in the battle . \n",
              "  xxmaj two of the earlier names given to the day stem from this prayer . xxmaj officially known as the xxmaj day of the xxmaj vow , the commemoration was renamed from the xxmaj day of the xxmaj covenant in 1982 . xxmaj xxunk colloquially refer to it as xxmaj xxunk ( xxmaj xxunk 's xxmaj day ) , a reference to the xxmaj zulu ruler of the defeated attackers . \n",
              " \n",
              " \n",
              "  = = xxmaj wording = = \n",
              "  xxmaj no verbatim record of the vow exists . xxmaj the version often considered to be the original vow is in fact xxup xxunk xxmaj xxunk 's ca . 1962 translation into xxmaj afrikaans of xxup xxunk xxmaj xxunk 's reconstruction of the vow in his 1919 biography of xxmaj xxunk xxmaj xxunk ( xxmaj bailey xxunk ) . \n",
              "  xxmaj the wording of the xxmaj vow is : \n",
              " \n",
              "  xxmaj afrikaans : xxmaj xxunk xxunk ons voor die xxmaj xxunk xxmaj god van xxmaj xxunk en xxunk om xxunk xxunk xxunk xxmaj hom te xxunk , dat , as xxmaj xxunk ons sal xxunk en ons xxunk in ons hand sal gee , ons die dag en xxunk xxunk xxunk as xxunk xxunk xxunk xxunk xxmaj sabbat sal xxunk ; en dat ons xxunk xxunk tot xxmaj sy xxunk sal xxunk xxunk xxunk xxmaj hom xxunk , en dat ons xxunk xxunk ons xxunk sal xxunk dat xxunk met ons xxunk xxunk xxunk tot xxunk xxunk xxunk die xxunk xxunk . xxmaj want die xxunk van xxmaj sy naam sal xxunk word xxunk die xxunk en die xxunk van xxunk xxunk xxmaj hom te gee . \n",
              "  xxmaj english : xxmaj we stand here before the xxmaj holy xxmaj god of heaven and earth , to make a vow to xxmaj him that , if xxmaj he will protect us and give our enemy into our hand , we shall keep this day and date every year as a day of thanksgiving like a sabbath , and that we shall build a house to xxmaj his honour wherever it should please xxmaj him , and that we will also tell our children that they should share in that with us in memory for future generations . xxmaj for the honour of xxmaj his name will be glorified by giving xxmaj him the fame and honour for the victory . \n",
              " \n",
              " \n",
              "  = = xxmaj history = = \n",
              " \n",
              "  xxmaj the official version of the event is that a public vow was taken - xxmaj the xxmaj covenant xxmaj vow on xxmaj sunday , xxunk . xxmaj xxunk - xxmaj it was at this xxmaj xxunk xxunk where xxmaj pretorius , xxmaj xxunk and xxmaj xxunk formulated “ xxmaj the xxmaj vow ” and recorded by xxmaj xxunk ( pages 54 - 55 of his journal - location of xxmaj xxunk , xxup xxunk ° 18 ' xxunk xxup xxunk ° 8 ' xxunk ) . xxmaj the original xxmaj xxunk words from the journal read as follows ; \n",
              "  \" xxmaj sunday morning before service began , the xxmaj commander in xxmaj chief ( xxmaj pretorius ) asked those who would lead the service to come together and requested them to speak with the congregation so that they should be zealous in spirit , and in truth , pray to xxmaj god for xxmaj his help and assistance in the coming strike against the enemy , and tell them that xxmaj pretorius wanted to make a xxmaj vow towards the xxmaj almighty ( if all agreed to this ) that \" if the xxmaj lord might give us victory , we hereby promise to found a house ( church ) as a memorial of his xxmaj great xxmaj name at a place ( xxmaj xxunk ) where it shall please xxmaj him \" , and that they also xxunk the help and assistance of xxmaj god in accomplishing this vow and that they write down this xxmaj day of xxmaj victory in a book and disclose this event to our very last xxunk in order that this will forever be celebrated in the honour of xxmaj god . \" \n",
              "  xxmaj this bound future descendants of the xxmaj afrikaner to commemorate the day as a religious holiday ( sabbath ) in the case of victory over the xxmaj xxunk by promising to build a church in xxmaj god 's honour . xxmaj by xxmaj july 1839 nothing had yet been done at xxmaj xxunk regarding their pledge to build a church , and it was xxmaj jan xxmaj xxunk xxmaj xxunk himself who motivated everyone to keep that promise . xxmaj in 1841 with capital accumulated by xxmaj xxunk at the xxmaj xxunk , the xxmaj church of the xxmaj vow at xxmaj xxunk was eventually built - the biggest donor being the widow , xxmaj mrs. xxunk xxmaj xxunk in xxmaj xxunk . \n",
              "  xxmaj as the original vow was never recorded in verbatim form , descriptions come only from the diary of xxmaj jan xxmaj xxunk with a dispatch written by xxmaj xxunk xxmaj pretorius to the xxmaj xxunk on 23 xxmaj december 1838 ; and the recollections of xxmaj xxunk xxmaj xxunk in 1871 . a participant in the battle , xxmaj xxunk xxmaj pretorius also wrote his recollections in 1862 , interpreting the vow as including the building of churches and schools ( xxmaj bailey xxunk ) . \n",
              "  xxmaj jan xxup b. xxmaj xxunk ( xxunk ) , xxmaj pretorius ' secretary , indicates that the initial promise was to build a xxmaj house in return for victory . xxmaj he notes that xxmaj pretorius called everyone together in his tent , ( the senior officers ) and asked them to pray for xxmaj god 's help . xxmaj xxunk writes in his journal that xxmaj pretorius told the assembly that he wanted to make a vow , \" if everyone would agree \" ( xxmaj bailey xxunk ) . xxmaj xxunk does not say whether everyone did so . xxmaj perhaps the fractious nature of the xxmaj xxunk dictated that the raiding party held their own prayers in the tents of various leading men ( xxmaj mackenzie xxunk ) . xxmaj pretorius is also quoted as wanting to have a book written to make known what xxmaj god had done to even \" our last xxunk . xxmaj pretorius in his 1838 dispatch mentions a vow ( xxmaj afrikaans : xxunk ) in connection with the building of a church , but not that it would be binding for future generations . \n",
              " \n",
              "  we here have decided among ourselves ... to make known the day of our victory ... among the whole of our generation , and that we want to devote it to xxmaj god , and to celebrate [ it ] with thanksgiving , just as we ... promised [ xxunk ] in public prayer \n",
              "  xxmaj contrary to xxmaj pretorius , and in agreement with xxmaj xxunk , xxmaj xxunk in 1870 recalled a promise ( xxmaj afrikaans : xxunk ) , not a vow , to commemorate the day and to tell the story to future generations . xxmaj accordingly , they would remember : \n",
              " \n",
              "  the day and date , every year as a commemoration and a day of thanksgiving , as though a xxmaj sabbath ... and that we will also tell it to our children , that they should share in it with us , for the remembrance of our future generations \n",
              "  xxmaj xxunk writes that those who objected were given the option to leave . xxmaj at least two persons declined to participate in the vow . xxmaj scholars disagree about whether the accompanying xxmaj english settlers and servants complied ( xxmaj bailey 2003 ) . xxmaj this seems to confirm that the promise was binding only on those present at the actual battle . xxmaj mackenzie ( 1997 ) claims that xxmaj xxunk may be recalling what he said to men who met in his tent . \n",
              "  xxmaj up to the 1970s the received version of events was seldom questioned , but since then scholars have questioned almost every aspect . xxmaj they debate whether a vow was even taken and , if so , what its wording was . xxmaj some argue that the vow occurred on the day of the battle , others point to 7 or 9 xxmaj december . xxmaj whether xxmaj xxunk xxmaj pretorius or xxmaj xxunk xxmaj xxunk led the assembly has been debated ; and even whether there was an assembly . xxmaj the location at which the vow was taken has also produced diverging opinions , with some rejecting the xxmaj xxunk xxmaj river site for ( xxmaj bailey 2003 ) . \n",
              " \n",
              " \n",
              "  = = xxmaj commemorations of the xxmaj day of the xxmaj vow = = \n",
              " \n",
              "  xxmaj disagreements exist about the extent to which the date was commemorated before the 1860s . xxmaj some historians maintained that little happened between 1838 and 1910 . xxmaj historian xxup xxunk xxmaj mackenzie argues that the day was not commemorated before the 1880s . xxmaj initial observations may have been limited to those associated with the battle at xxmaj xxunk xxmaj river and their descendants . xxmaj while xxmaj xxunk xxmaj xxunk upheld the day , xxmaj xxunk xxmaj pretorius did not ( xxmaj xxunk 2003 ) . \n",
              " \n",
              " \n",
              "  = = = xxmaj in xxmaj natal = = = \n",
              "  xxmaj informal commemorations may have been held in the homes of former xxmaj xxunk in xxmaj xxunk in xxmaj natal . xxmaj xxunk pastor xxmaj rev. xxmaj erasmus xxmaj xxunk announced the \" 7th annual \" anniversary of the day in 1844 in xxmaj de xxmaj xxunk newspaper , for instance . xxmaj bailey mentions a meeting at the site of the battle in 1862 ( xxmaj bailey xxunk ) . \n",
              "  xxmaj in 1864 the xxmaj general xxmaj synod of the xxmaj dutch xxmaj reformed xxmaj church in xxmaj natal decreed that all its congregations should observe the date as a day of thanksgiving . xxmaj the decision was spurred by the efforts of two xxmaj dutch clergymen working in xxmaj xxunk during the 1860s , xxup xxunk xxmaj xxunk and xxup f. xxmaj lion xxmaj xxunk . xxmaj large meetings were held in the church in xxmaj xxunk in 1864 and 1865 ( xxmaj bailey xxunk ) . \n",
              "  xxmaj in 1866 the first large scale meeting took place at the traditional battle site , led by xxmaj xxunk . xxmaj xxunk who gathered to watch proceedings assisted the participants in gathering stones for a commemorative cairn . xxmaj in his speech xxmaj xxunk called for the xxunk of black heathen . xxmaj he relayed a message received from the xxmaj zulu monarch xxmaj xxunk . xxmaj in his reply to xxmaj xxunk , xxmaj xxunk hoped for harmony between the xxmaj zulu and white xxmaj xxunk . xxmaj xxunk survivors recalled events , an institution which in the 1867 observation at the site included a xxmaj zulu ( xxmaj bailey xxunk ) . \n",
              "  xxmaj xxunk was of the same opinion as xxmaj xxunk xxmaj pretorius . xxmaj he declared at a church inauguration in xxmaj xxunk on 16 xxmaj december 1866 that its construction was also part of fulfilling the vow ( xxmaj bailey xxunk ) . \n",
              " \n",
              " \n",
              "  = = = xxmaj in the xxmaj transvaal = = = \n",
              "  xxmaj die xxmaj zuid - xxmaj xxunk xxmaj xxunk declared 16 xxmaj december a public holiday in 1865 , to be commemorated by public religious services . xxmaj however , until 1877 , the general public there did not utilise the holiday as they did in xxmaj natal . xxmaj cricket matches and hunts were organised , some businesses remained open , and newspapers were sold . xxmaj the name xxmaj xxunk 's xxmaj day appeared for the first time in the media , in an 1875 edition of xxmaj de xxmaj xxunk . xxmaj that newspaper wondered whether the lack of support for the holiday signaled a weakening sense of nationalism ( xxmaj bailey xxunk ) . \n",
              "  xxmaj after the xxmaj transvaal was annexed by the xxmaj british in 1877 , the new government refrained from state functions ( like xxmaj supreme xxmaj court sittings ) on the date ( xxmaj bailey xxunk ) . \n",
              "  xxmaj the desire by the xxmaj transvaal to retrieve its independence prompted the emergence of xxmaj afrikaner nationalism and the revival of 16 xxmaj december in that territory . xxmaj transvaal burgers held meetings around the date to discuss responses to the annexation . xxmaj in 1879 the first such a meeting convened at xxmaj xxunk on the xxmaj west xxmaj rand . xxmaj burgers disregarded xxmaj sir xxup xxunk xxmaj xxunk , the governor of xxmaj transvaal , who prohibited the meeting on 16 xxmaj december . xxmaj the following year they held a similar combination of discussions and the celebration of xxmaj xxunk 's xxmaj day at xxmaj xxunk ( xxmaj bailey xxunk ) . \n",
              "  xxmaj paul xxmaj kruger , president of the xxmaj transvaal xxmaj republic , believed that failure to observe the date led to the loss of independence and to the first xxmaj anglo - xxmaj boer war as a divine punishment . xxmaj before initiating hostilities with the xxmaj british , a ceremony was held at xxmaj xxunk on 16 xxmaj december 1880 in which 5,000 burghers [ citizens ] piled a cairn of stones that symbolized past and future victories ( over the xxmaj zulu and the xxmaj british ) . \n",
              "  xxmaj after the success of its military campaign against the xxmaj british , the xxmaj transvaal state organised a xxmaj xxunk 's xxmaj day festival every five years . xxmaj at the first of these in 1881 , an estimated xxunk to 15,000 people listened to speeches by xxmaj kruger and others ( xxmaj xxunk 1989 ) . xxmaj at the third such festival in 1891 , xxmaj kruger emphasised the need for the festival to be religious in nature ( xxmaj xxunk 2003 ) . \n",
              " \n",
              " \n",
              "  = = = xxmaj in the xxmaj free xxmaj state = = = \n",
              "  xxmaj the xxmaj free xxmaj state government in 1894 declared 16 xxmaj december a holiday ( xxmaj bailey 2003 ) . \n",
              " \n",
              " \n",
              "  = = = xxmaj national commemorations = = = \n",
              "  xxmaj the xxmaj union state in 1910 officially declared xxmaj xxunk 's xxmaj day as a national public holiday . \n",
              "  xxmaj in 1938 xxup xxunk xxmaj xxunk , leader of the xxmaj national xxmaj party , reiterated at the site that its soil was \" sacred . \" xxmaj he said that the xxmaj blood xxmaj river battle established \" xxmaj south xxmaj africa as a civilized xxmaj christian country \" and \" the responsible authority of the white race \" . xxmaj xxunk compared the battle to the urban labour situation in which whites had to prevail ( xxmaj xxunk 2003 ) . \n",
              "  xxmaj in 1952 the ruling xxmaj national xxmaj party passed the xxmaj public xxmaj holidays xxmaj act ( xxmaj act 5 of 1952 ) , in which section 2 declared the day to be a religious public holiday . xxmaj accordingly , certain activities were prohibited , such as organized sports contests , theatre shows , and so on ( xxmaj xxunk 2003 ) . xxmaj xxunk a claim on this day was also forbidden under section xxunk ) of the xxmaj mining xxmaj rights ( xxmaj act 20 of 1967 ; repealed by the xxmaj minerals xxmaj act ( xxmaj act 50 of xxunk ] \n",
              "  xxmaj the name was changed to the xxmaj day of the xxmaj vow in order to be less offensive , and to emphasize the vow rather than the xxmaj zulu antagonist ( xxmaj xxunk 2003 ) . \n",
              "  xxmaj in 1961 the xxmaj african xxmaj national xxmaj congress chose 16 xxmaj december to initiate a series of sabotages , signaling its decision to embark on an armed struggle against the regime through its military wing , xxmaj xxunk we xxmaj xxunk . \n",
              "  xxmaj in 1983 the xxmaj south xxmaj african government vetoed the decision by the acting government of xxmaj namibia to discontinue observing the holiday . xxmaj in response , the xxmaj democratic xxmaj xxunk xxmaj alliance resigned its 41 seats in xxmaj namibia 's xxunk xxmaj national xxmaj assembly . xxmaj act 5 of 1952 was repealed in 1994 by xxmaj act xxmaj no . 36 of 1994 , which changed the name of the public holiday to the xxmaj day of xxmaj reconciliation . \n",
              "  xxmaj act 8 of 1995 offered a compensation to the families of the three xxmaj xxunk who were wounded . \n",
              " \n",
              " \n",
              "  = = xxmaj debates over the xxmaj holiday = = \n",
              "  xxmaj scholars like historian xxmaj leonard xxmaj thompson have said that the events of the battle were woven into a new myth that justified racial oppression on the basis of racial superiority and divine providence . xxmaj accordingly , the victory over xxmaj xxunk was reinterpreted as a sign that xxmaj god confirmed the rule of whites over black xxmaj africans , justifying the xxmaj boer project of acquiring land and eventually ascending to power in xxmaj south xxmaj africa . xxmaj in post - apartheid xxmaj south xxmaj africa the holiday is often criticised as a racist holiday , which celebrates the success of xxmaj boer expansion over the black natives . \n",
              "  xxmaj by comparison with the large number of xxmaj xxunk who participated in the annual celebrations of the xxmaj xxunk victory , some did take exception . xxmaj in 1971 , for instance , xxmaj pro xxmaj xxunk , the journal of the anti - apartheid organisation the xxmaj christian xxmaj institute of xxmaj southern xxmaj africa , devoted a special edition to the matter . \n",
              "  xxmaj historian xxmaj anton xxmaj xxunk traces how political and economic factors changed the themes emphasised during celebrations of the xxmaj day of the xxmaj vow . xxmaj during the 1940s and 1950s xxmaj afrikaner unity was emphasised over against black xxmaj africans . xxmaj this theme acquired broader meaning in the 1960s and 1970s , when isolated \" white \" xxmaj south xxmaj africa was positioned against the xxunk of xxmaj africa . xxmaj the economic and political crises of the 1970s and 1980s forced white xxmaj xxunk to rethink the apartheid system . xxmaj afrikaner and other intellectuals began to critically evaluate the historical basis for the celebration . xxmaj the need to include xxmaj english and \" moderate \" black groups in reforms prompted a de - emphasis on \" the ethnic exclusivity and divine mission of xxmaj xxunk \" ( xxmaj xxunk 2003 ) . \n",
              " \n",
              " \n",
              "  = = xxmaj see also = = \n",
              "  xxmaj covenant xxmaj monument \n",
              " \n",
              " \n",
              "  = = xxmaj bibliography = = \n",
              "  xxmaj the xxmaj xxunk xxmaj vow , a poem by xxmaj lynn xxmaj xxunk from xxmaj poems of xxmaj south xxmaj african history , xxup a.d. xxunk - 1910 at the xxmaj internet xxmaj archive \n",
              " \n",
              " \n",
              "  = = xxmaj references = = \n",
              "  \" xxmaj apartheid xxmaj mythology and xxmaj symbolism . xxmaj xxunk and reinvented in the service of nation building in the new xxmaj south xxmaj africa : xxmaj the covenant and the battle of xxmaj blood xxmaj river / xxmaj xxunk , \" xxmaj anton xxmaj xxunk . xxmaj xxunk xxmaj xxunk xxmaj no . 24 , ca . xxunk ] \n",
              "  \" xxmaj the xxmaj beginnings of xxmaj afrikaner xxmaj ethnic xxmaj consciousness , xxunk , \" xxmaj hermann xxmaj xxunk in xxmaj leroy xxmaj vail ( ed . ) xxmaj the xxmaj creation of xxmaj xxunk in xxmaj southern xxmaj africa . xxmaj london / xxmaj berkeley : xxmaj xxunk xxmaj university of xxmaj california xxmaj press , 1989 . [ 11 ] \n",
              "  \" xxmaj die xxmaj xxunk van 16 xxmaj xxunk 1838 : xxmaj xxunk xxunk en xxunk xxunk , 1838 tot 1910 . \" [ xxmaj afrikaans : xxmaj the xxmaj vow of 16 xxmaj december : xxmaj its xxmaj commemoration and xxmaj meaning , 1838 - 1910 ] xxmaj xxunk xxmaj bailey . xxup ma dissertation , xxmaj xxunk . of xxmaj historical and xxmaj heritage xxmaj studies , xxmaj university of xxmaj pretoria , xxunk ] \n",
              "  xxmaj leonard xxmaj thompson ( 1986 ) xxmaj the xxmaj political xxmaj mythology of xxmaj apartheid , xxmaj yale xxmaj university xxmaj press , xxmaj reprint edition xxup isbn xxunk \n",
              "  \" xxmaj xxunk : xxmaj xxunk of xxmaj xxunk ? \" [ xxmaj afrikaans : xxmaj day of the xxmaj vow : xxmaj christian festival or festival of xxmaj baal ? ] , xxmaj xxunk xxmaj meyer , xxmaj pro xxmaj xxunk , xxmaj vol . 10 , xxmaj no . xxunk ] \n",
              " \n",
              " \n",
              "  = = = xxmaj notes = = = \n",
              " \n",
              " \n",
              "  = = xxmaj external links = = \n",
              "  xxmaj official website of the xxmaj xxunk xxmaj vow xxmaj committee , xxmaj xxunk xxmaj xxunk \n",
              "  xxmaj the xxmaj battle of xxmaj blood xxmaj river , xxmaj south xxmaj african xxmaj travel xxmaj guide \n",
              "  xxmaj public holidays in xxmaj south xxmaj africa,xxbos xxmaj signs and wonders refers to experiences that are perceived to be miraculous as being normative in the modern xxmaj christian experience , and is a phrase associated with groups that are a part of modern charismatic movements and xxmaj pentecostalism . xxmaj this phrase is seen multiple times throughout the xxmaj christian xxmaj bible to describe the activities of the early church , and is historically recorded as continuing , at least in practice , since the time of xxmaj christ . xxmaj the phrase is primarily derived from xxmaj old and xxmaj new xxmaj testament references , and is now used in the xxmaj christian and mainstream press , and in scholarly religious discourse to communicate a strong emphasis on recognizing perceived manifestations of the xxmaj holy xxmaj spirit in the contemporary lives of xxmaj christian believers ; as well , it communicates a focus on the expectation that divine action would be experienced in the individual and corporate life of the modern xxmaj christian church , and a further insistence that followers actively seek the \" gifts of the xxmaj xxunk . a further major emphasis of belief in signs and wonders is that the message of the xxmaj christian \" good news \" is communicated more effectively to those who do not believe it if accompanied by such supernatural manifestations of the xxmaj holy xxmaj spirit , including such signs and wonders as miraculous healings and modern prophetic proclamations . xxmaj this is the message of xxmaj john xxmaj wimber 's book , xxmaj power xxmaj evangelism . \n",
              " \n",
              " \n",
              "  = = xxmaj biblical origins = = \n",
              "  xxmaj the origin of the phrase in the xxmaj old xxmaj testament is in xxmaj exodus xxunk , which describes xxmaj god 's actions to free the xxmaj israelites from being enslaved in xxmaj ancient xxmaj egypt . xxmaj this phrase is used a total of 31 times in the xxmaj bible and it became popular again in modern history around the time of the xxmaj azusa xxmaj street xxmaj revival , when attendees claimed miraculous and supernatural events had happened . \n",
              " \n",
              " \n",
              "  = = xxmaj critical responses = = \n",
              "  xxmaj critical responses were made by various writers including : xxup j. xxmaj woodhouse , xxup k. xxup l. xxmaj xxunk , xxup k. xxup m. xxmaj bond , and xxup d. xxup h. xxmaj shepherd , xxmaj later in the 1990s , the discussion was taken up by xxup r. xxup e. xxmaj jackson ( addressing skeptics ) , and xxup d. xxmaj williams . \n",
              " \n",
              " \n",
              "  = = xxmaj defense and reflection = = \n",
              " \n",
              "  xxmaj the ongoing theological reflection accompanying the signs and wonders movement was evidenced by xxmaj fuller xxmaj theological xxmaj seminary 's 1988 xxmaj symposium on xxmaj power xxmaj evangelism and xxup c. xxmaj peter xxmaj wagner 's book titled xxmaj the xxmaj third xxmaj wave of the xxmaj holy xxmaj spirit . xxmaj the study of the xxunk implications of signs and wonders would continue on into the turn of the century xxmaj xxunk object to the existence of charismatic gifts , leading to a xxunk versus xxunk debate . xxmaj the broader debate specifically over the signs and wonders movement and the present - day function of the manifestation gifts would continue on into the 1990s . \n",
              " \n",
              " \n",
              "  = = xxmaj power xxmaj evangelism = = \n",
              "  xxmaj the term power evangelism originally comes from xxmaj lonnie xxmaj frisbee 's ministry but some of his harshest critics for heavy use of the xxmaj holy xxmaj spirit and the gifts of the xxmaj spirit came from the churches he helped found . xxmaj power evangelism is a form of evangelism which relies on the supernatural power and gifts of the xxmaj holy xxmaj spirit , that is , on signs and wonders , to reach new converts and work through born again xxmaj christians . xxmaj it is not the way most churches practice evangelism currently , which relies on an intellectual argument with the hope of salvation through logic and structured rituals . xxmaj proponents believe power evangelism is the way xxmaj jesus operated , although it is known he also was a great student of the xxmaj torah . xxmaj although most xxmaj christians would believe that a person is brought to faith primarily through the action of xxmaj god in the person of the xxmaj holy xxmaj spirit , in this form of evangelism supernatural events such as faith healings , prophetic revelation , words of knowledge and glossolalia ( speaking in tongues ) are a demonstration of the power , and therefore the reality , of xxmaj god . xxmaj power xxmaj evangelism is illustrated in the lives of the disciples in the xxmaj book of xxmaj acts . \n",
              " \n",
              " \n",
              "  = = xxmaj see also = = \n",
              "  xxmaj acts of the xxmaj apostles \n",
              "  xxmaj mark 16 \n",
              " \n",
              " \n",
              "  = = xxmaj references = = \n",
              " \n",
              " \n",
              "  = = xxmaj further reading = = \n",
              "  xxmaj stanley xxup m. xxmaj burgess , ed . , xxmaj the xxmaj new xxmaj international xxmaj dictionary of xxmaj pentecostal and xxmaj charismatic xxmaj movements ( xxmaj grand xxmaj rapids , xxmaj michigan : xxmaj zondervan , 2002 ) , pages 702 and 1200 . \n",
              "  xxmaj christian xxmaj life xxmaj magazine and xxup c. xxup p. xxmaj wagner , xxmaj signs and xxmaj wonders xxmaj today ( xxmaj wheaton , xxmaj illinois : xxmaj christian xxmaj life xxmaj magazine , 1983 ) . \n",
              "  xxup g. xxup r. xxmaj xxunk , xxmaj empowerment of the xxmaj laity with the xxmaj xxunk for xxmaj renewal in a xxmaj traditional xxmaj congregation ( xxmaj rochester , xxmaj new xxmaj york : xxmaj xxunk xxmaj theological xxmaj seminary , 1983 ) . \n",
              "  xxmaj john xxmaj wimber , a xxmaj brief xxmaj sketch of xxmaj signs and xxmaj wonders through the xxmaj church xxmaj age ( xxmaj placentia , xxmaj california : xxmaj vineyard xxmaj christian xxmaj fellowship , 1984 ) . \n",
              "  xxmaj john xxmaj wimber , xxmaj signs and xxmaj wonders and xxmaj church xxmaj growth ( xxmaj placentia , xxmaj california : xxmaj vineyard xxmaj ministries xxmaj international , 1984 ) . \n",
              "  xxmaj trevor xxmaj martin , xxmaj kingdom xxmaj healing ( xxmaj london : xxmaj xxunk , 1981 ) . \n",
              "  xxup s. xxup s. xxmaj xxunk , xxmaj the xxmaj pauline xxmaj concept of xxmaj xxunk in the xxmaj light of xxmaj recent xxmaj critical xxmaj literature ( xxmaj fort xxmaj worth , xxmaj texas : xxmaj southwestern xxmaj baptist xxmaj theological xxmaj seminary , 1981 ) . xxmaj this work would later be released as a xxmaj pauline xxmaj theology of xxmaj xxunk ( xxmaj peabody , xxmaj massachusetts : xxmaj hendrickson xxmaj publishers , 1987 ) . \n",
              "  xxmaj society for xxmaj pentecostal xxmaj studies , xxmaj gifts of the xxmaj spirit : xxmaj papers xxmaj presented at the 12th xxmaj annual xxmaj meeting of the xxmaj society for xxmaj pentecostal xxmaj studies , xxmaj november xxunk , 1982 ( xxmaj pasadena , xxmaj california : xxmaj fuller xxmaj theological xxmaj seminary , 1982 ) . \n",
              "  xxmaj jack xxmaj xxunk , xxmaj surprised by the xxmaj power of the xxmaj spirit ( xxmaj eastbourne : xxmaj kingsway xxmaj publications , 1993 ) . \n",
              "  xxmaj jack xxmaj xxunk , xxmaj surprised by the xxmaj voice of xxmaj god ( xxmaj grand xxmaj rapids , xxmaj michigan : xxmaj zondervan , 1996 ) . \n",
              " \n",
              " \n",
              "  = = xxmaj external links = = \n",
              "  xxup xxunk xxmaj video : xxmaj living a xxmaj life of xxmaj miracles \n",
              "  xxup xxunk xxmaj video : xxmaj miracles xxmaj outside the xxmaj church xxmaj walls \n",
              "  xxmaj personal xxmaj accounts of xxmaj miracles,xxbos xxmaj passover or xxmaj pesach (; xxmaj hebrew : xxunk xxmaj xxunk ) is a major xxmaj jewish holiday that occurs in the spring on the 15th day of the xxmaj hebrew month of xxmaj nisan . xxmaj one of the biblically ordained xxmaj three xxmaj pilgrimage xxmaj festivals , xxmaj passover is traditionally celebrated in the xxmaj land of xxmaj israel for seven days and for eight days among many xxmaj jews in the xxmaj diaspora , based on the concept of yom tov sheni shel xxunk . \n",
              "  xxmaj in the xxmaj bible , xxmaj passover marks the xxmaj exodus of the xxmaj children of xxmaj israel from xxmaj egyptian slavery , when xxmaj god \" passed over \" the houses of the xxmaj israelites during the last of the ten plagues . xxmaj when the xxmaj temple in xxmaj jerusalem stood , the paschal lamb was offered and eaten on xxmaj passover eve , while the wave offering of barley was offered on the second day of the festival . xxmaj nowadays , in addition to the biblical prohibition of owning leavened foods for the duration of the holiday , the xxmaj passover seder is one of the most widely observed rituals in xxmaj judaism . \n",
              " \n",
              " \n",
              "  = = xxmaj etymology = = \n",
              "  xxmaj the xxmaj hebrew xxunk is rendered as xxmaj tiberian [ xxunk ] ( listen ) , and xxmaj modern xxmaj hebrew : [ xxunk ] xxmaj xxunk , xxmaj xxunk . xxmaj the etymology is disputed , and hypotheses are divided whether to connect it to psh ( to protect , save ) or to a word meaning \" limp , dance with limping motions \" . xxmaj cognate languages yield similar terms with distinct meanings , such as \" make soft , xxunk , placate \" ( xxmaj akkadian xxunk ) , \" harvest , commemoration , blow \" ( xxmaj egyptian ) , or \" separate \" ( xxmaj arabic xxunk verb xxunk ( xxunk ) is first mentioned in the xxmaj torah 's account of the xxmaj exodus from xxmaj egypt ( xxmaj exodus xxunk ) , and there is some debate about its exact meaning . xxmaj the commonly held assumption that it means \" xxmaj he passed over \" ( xxunk ) , in reference to xxmaj god \" passing over \" ( or \" skipping \" ) the houses of the xxmaj hebrews during the final of the xxmaj ten xxmaj plagues of xxmaj egypt , stems from the translation provided in the xxmaj septuagint ( xxunk [ xxmaj greek : xxunk ] in xxmaj exodus xxunk , and xxunk [ xxmaj greek : xxunk ] in xxmaj exodus xxunk ) . xxmaj targum xxmaj xxunk translates pesach as ve - xxunk ( xxmaj hebrew : xxunk we - xxunk ) \" he had pity \" coming from the xxmaj hebrew root xxunk meaning to have pity . xxmaj the term xxmaj pesach ( xxmaj hebrew : xxunk xxmaj xxunk ) may also refer to the lamb or goat which was designated as the xxmaj passover sacrifice ( called the xxmaj korban xxmaj pesach in xxmaj hebrew ) . xxmaj four days before the xxmaj exodus , the xxmaj hebrews were commanded to set aside a lamb ( xxmaj exodus xxunk ) , and inspect it daily for xxunk . xxmaj during the day on the 14th of xxmaj nisan , they were to slaughter the animal and use its blood to mark their lintels and door posts . xxmaj before midnight on the 15th of xxmaj nisan they were to consume the lamb . \n",
              " \n",
              "  xxmaj the xxmaj english term \" xxmaj passover \" is first known to be recorded in the xxmaj english language in xxmaj william xxmaj tyndale 's translation of the xxmaj bible , later appearing in the xxmaj king xxmaj james xxmaj version as well . xxmaj it is a literal translation of the xxmaj hebrew term . xxmaj in the xxmaj king xxmaj james xxmaj version , xxmaj exodus xxunk reads : xxmaj for the xxup lord will pass through to xxunk the xxmaj egyptians ; and when he xxunk the blood upon the lintel , and on the two side posts , the xxup lord will pass over the door , and will not suffer the destroyer to come in unto your houses to xxunk you . \n",
              " \n",
              " \n",
              "  = = xxmaj origins = = \n",
              " \n",
              "  xxmaj the xxmaj passover ritual is widely thought to have its origins in an xxunk rite , unrelated to the xxmaj exodus , to ensure the protection of a family home , a rite conducted wholly within a clan . xxmaj xxunk was employed to xxunk the blood of a slaughtered sheep on the lintels and door posts to ensure that demonic forces could not enter the home . a further hypothesis maintains that , once the xxmaj priestly xxmaj code was promulgated , the xxmaj exodus narrative took on a central function , as the xxunk rite was , arguably , amalgamated with the xxmaj canaanite agricultural festival of spring which was a ceremony of unleavened bread , connected with the barley harvest . xxmaj as the xxmaj exodus motif grew , the original function and symbolism of these double origins was lost . xxmaj several motifs replicate the features associated with the xxmaj mesopotamian xxmaj xxunk festival . xxmaj other scholars , xxmaj john xxmaj van xxmaj seters , xxunk and xxmaj tamara xxmaj xxunk disagree with the merged two - festivals hypothesis . \n",
              " \n",
              " \n",
              "  = = xxmaj the biblical narrative = = \n",
              " \n",
              " \n",
              "  = = = xxmaj in the xxmaj book of xxmaj exodus = = = \n",
              " \n",
              "  xxmaj in the xxmaj book of xxmaj exodus , the xxmaj israelites are enslaved in ancient xxmaj egypt . xxmaj yahweh , the god of the xxmaj israelites , appears to xxmaj moses in a burning bush and commands xxmaj moses to confront xxmaj pharaoh . xxmaj to show his power , xxmaj yahweh inflicts a series of 10 plagues on the xxmaj egyptians , culminating in the 10th plague , the death of the first - born . \n",
              " \n",
              "  xxmaj this is what the xxup lord says : \" xxmaj about midnight i will go throughout xxmaj egypt . xxmaj every firstborn son in xxmaj egypt will die , from the firstborn son of xxmaj pharaoh , who sits on the throne , to the firstborn of the slave girl , who is at her hand mill , and all the firstborn of the cattle as well . xxmaj there will be loud wailing throughout xxmaj egypt – worse than there has ever been or ever will be again . \" \n",
              "  xxmaj before this final plague xxmaj yahweh commands xxmaj moses to tell the xxmaj israelites to mark a lamb 's blood above their doors in order that xxmaj yahweh will pass over them ( i.e. , that they will not be touched by the death of the firstborn ) . \n",
              "  xxmaj the biblical regulations for the observance of the festival require that all xxunk be disposed of before the beginning of the 15th of xxmaj nisan xxmaj an xxunk lamb or goat , known as the xxmaj korban xxmaj pesach or \" xxmaj paschal xxmaj lamb \" , is to be set apart on 10th xxmaj nisan , and slaughtered at dusk as 14th xxmaj nisan ends in preparation for the 15th of xxmaj nisan when it will be eaten after being roasted . xxmaj the literal meaning of the xxmaj hebrew is \" between the two evenings \" . xxmaj it is then to be eaten \" that night \" , 15th xxmaj nisan , roasted , without the removal of its internal organs with unleavened bread , known as matzo , and bitter herbs known as maror . xxmaj nothing of the sacrifice on which the sun rises by the morning of the 15th of xxmaj nisan may be eaten , but must be burned . xxmaj the biblical regulations pertaining to the original xxmaj passover , at the time of the xxmaj exodus only , also include how the meal was to be eaten : \" with your xxunk xxunk , your shoes on your feet , and your staff in your hand ; and ye shall eat it in haste : it is the xxup lord 's passover \" xxmaj exodus xxunk . \n",
              "  xxmaj the biblical requirements of slaying the xxmaj paschal lamb in the individual homes of the xxmaj hebrews and xxunk the blood of the lamb on their doorways were celebrated in xxmaj egypt . xxmaj however , once xxmaj israel was in the wilderness and the tabernacle was in operation , a change was made in those two original requirements ( xxmaj deuteronomy xxunk ) . xxmaj passover lambs were to be sacrificed at the door of the tabernacle and no longer in the homes of the xxmaj jews . xxmaj no longer , therefore , could blood be smeared on doorways . \n",
              " \n",
              " \n",
              "  = = = xxmaj the passover in other biblical passages = = = \n",
              "  xxmaj called the \" festival [ of ] the xxunk \" ( xxmaj hebrew : xxunk xxunk xxunk ha - xxunk ) in the xxmaj hebrew xxmaj bible , the commandment to keep xxmaj passover is recorded in the xxmaj book of xxmaj leviticus : \n",
              " \n",
              "  xxmaj in the first month , on the fourteenth day of the month at dusk is the xxup lord 's xxmaj passover . xxmaj and on the fifteenth day of the same month is the feast of unleavened bread unto the xxup lord ; seven days ye shall eat unleavened bread . xxmaj in the first day ye shall have a holy convocation ; ye shall do no manner of servile work . xxmaj and ye shall bring an offering made by fire unto the xxup lord seven days ; in the seventh day is a holy convocation ; ye shall do no manner of servile work . ( xxmaj leviticus xxunk ) \n",
              "  xxmaj the sacrifices may be performed only in a specific place prescribed by xxmaj god . xxmaj for xxmaj judaism , this is xxmaj jerusalem . xxmaj the biblical commandments concerning the xxmaj passover ( and the xxmaj feast of xxmaj unleavened xxmaj bread ) stress the importance of remembering : \n",
              " \n",
              "  xxmaj exodus xxunk commands , in reference to xxmaj god 's sparing of the firstborn from the xxmaj tenth xxmaj plague : xxmaj and this day shall be unto you for a memorial , and ye shall keep it a feast to the xxup lord ; throughout your generations ye shall keep it a feast by an ordinance for ever . \n",
              "  xxmaj exodus xxunk repeats the command to remember : xxmaj remember this day , in which you came out of xxmaj egypt , out of the house of bondage , for by strength the hand of the xxup lord brought you out from this place . \n",
              "  xxmaj and thou shalt remember that thou xxunk a xxunk in xxmaj egypt ; and thou shalt observe and do these statutes ( xxmaj deuteronomy xxunk 2 xxmaj kings xxunk - 23 and 2 xxmaj chronicles xxunk - 19 , xxmaj king xxmaj josiah of xxmaj judah restores the celebration of the xxmaj passover , to a standard not seen since the days of the judges or the days of the prophet xxmaj samuel . xxmaj ezra xxunk - 21 records the celebration of the passover by the xxmaj jews who had returned from exile in xxmaj babylon , after the temple had been rebuilt . \n",
              " \n",
              " \n",
              "  = = = xxmaj in extra - biblical sources = = = \n",
              "  xxmaj some of these details can be corroborated , and to some extent amplified , in xxunk sources . xxmaj the removal ( or \" sealing up \" ) of the leaven is referred to in the xxmaj elephantine papyri , an xxmaj aramaic papyrus from 5th century xxup bce xxmaj elephantine in xxmaj egypt . xxmaj the slaughter of the lambs on the 14th is mentioned in xxmaj the xxmaj book of xxmaj jubilees , a xxmaj jewish work of the xxmaj ptolemaic period , and by the xxmaj herodian - era writers xxmaj josephus and xxmaj philo . xxmaj these sources also indicate that \" between the two evenings \" was taken to mean the afternoon . xxmaj jubilees states the sacrifice was eaten that night , and together with xxmaj josephus states that nothing of the sacrifice was allowed to remain until morning . xxmaj philo states that the banquet included hymns and prayers . \n",
              " \n",
              " \n",
              "  = = xxmaj date and duration = = \n",
              " \n",
              "  xxmaj the xxmaj passover begins on the 15th day of the month of xxmaj nisan , which typically falls in xxmaj march or xxmaj april of the xxmaj gregorian calendar . xxmaj the 15th day begins in the evening , after the 14th day , and the seder meal is eaten that evening . xxmaj passover is a spring festival , so the 15th day of xxmaj nisan typically begins on the night of a full moon after the northern vernal equinox . xxmaj however , due to leap months falling after the vernal equinox , xxmaj passover sometimes starts on the second full moon after vernal equinox , as in 2016 . \n",
              "  xxmaj to ensure that xxmaj passover did not start before spring , the tradition in ancient xxmaj israel held that the first day of xxmaj nisan would not start until the barley was ripe , being the test for the onset of spring . xxmaj if the barley was not ripe , or various other phenomena indicated that spring was not yet imminent , an intercalary month ( xxmaj adar xxup ii ) would be added . xxmaj however , since at least the 4th century , the date has been fixed mathematically . xxmaj in xxmaj israel , xxmaj passover is the seven - day holiday of the xxmaj feast of xxmaj unleavened xxmaj bread , with the first and last days celebrated as legal holidays and as holy days involving holiday meals , special prayer services , and abstention from work ; the intervening days are known as xxmaj chol hamoed ( \" xxmaj weekdays [ of ] the xxmaj festival \" ) . xxmaj jews outside the xxmaj land of xxmaj israel celebrate the festival for eight days . xxmaj reform and xxmaj reconstructionist xxmaj jews usually celebrate the holiday over seven days . xxmaj karaites use a different version of the xxmaj jewish calendar , differing from that used with modern xxmaj jewish calendar by one or two days . xxmaj the xxmaj samaritans use a calendrical system that uses a different method to that current in xxmaj jewish practice , in order to determine their timing of xxunk . xxmaj in 2009 , for example , xxmaj nisan 15 on the xxmaj jewish calendar used by xxmaj rabbinic xxmaj judaism corresponds to xxmaj april 9 . xxmaj on the calendars used by xxmaj karaites and xxmaj samaritans , xxmaj xxunk or xxmaj aviv 15 ( as opposed to ' xxmaj nisan ' ) corresponds to xxmaj april 11 in 2009 . xxmaj the xxmaj karaite and xxmaj samaritan xxmaj xxunk are each one day long , followed by the six - day xxmaj festival of xxmaj unleavened xxmaj bread – for a total of seven days . \n",
              " \n",
              " \n",
              "  = = xxmaj passover sacrifice = = \n",
              " \n",
              "  xxmaj the main entity in xxmaj passover according to xxmaj judaism is the sacrificial lamb . xxmaj during the existence of the xxmaj tabernacle and later the xxmaj temple in xxmaj jerusalem , the focus of the xxmaj passover festival was the xxmaj passover sacrifice ( xxmaj hebrew : korban xxmaj pesach ) , also known as the xxmaj paschal lamb , eaten during the xxmaj passover xxmaj seder on the 15th of xxmaj nisan . xxmaj every family large enough to completely consume a young lamb or wild goat was required to offer one for sacrifice at the xxmaj jewish xxmaj temple on the afternoon of the 14th day of xxmaj nisan ( xxmaj numbers xxunk ) , and eat it that night , which was the 15th of xxmaj nisan ( xxmaj exodus xxunk ) . xxmaj if the family was too small to finish eating the entire offering in one sitting , an offering was made for a group of families . xxmaj the sacrifice could not be offered with anything leavened ( xxmaj exodus xxunk ) , and had to be roasted , without its head , feet , or inner organs being removed ( xxmaj exodus xxunk ) and eaten together with unleavened bread ( matzo ) and bitter herbs ( maror ) . xxmaj one had to be careful not to break any bones from the offering ( xxmaj exodus xxunk ) , and none of the meat could be left over by morning ( xxmaj exodus xxunk xxmaj exodus xxunk ) . \n",
              "  xxmaj because of the xxmaj passover sacrifice 's status as a sacred offering , the only people allowed to eat it were those who had the obligation to bring the offering . xxmaj among those who could not offer or eat the xxmaj passover lamb were an apostate ( xxmaj exodus xxunk ) , a servant ( xxmaj exodus xxunk ) , an uncircumcised man ( xxmaj exodus xxunk ) , a person in a state of ritual impurity , except when a majority of xxmaj jews are in such a state ( xxmaj xxunk xxunk ) , and a non - xxmaj jew . xxmaj the offering had to be made before a quorum of 30 ( xxmaj xxunk xxunk ) . xxmaj in the xxmaj temple , the xxmaj levites sang xxmaj hallel while the priests performed the sacrificial service . xxmaj men and women were equally obligated regarding the offering ( xxmaj xxunk xxunk ) . \n",
              "  xxmaj today , in the absence of the xxmaj temple , when no sacrifices are offered or eaten , the mitzvah of the xxmaj korban xxmaj pesach is memorialized in the xxmaj seder xxmaj korban xxmaj pesach , a set of scriptural and xxmaj rabbinic passages dealing with the xxmaj passover sacrifice , customarily recited after the xxmaj mincha ( afternoon prayer ) service on the 14th of xxmaj nisan , and in the form of the xxunk , a symbolic food placed on the xxmaj passover xxmaj seder xxmaj plate ( but not eaten ) , which is usually a roasted xxunk ( or a chicken wing or neck ) . xxmaj the eating of the afikoman substitutes for the eating of the xxmaj korban xxmaj pesach at the end of the xxmaj seder meal ( xxmaj mishnah xxmaj xxunk xxunk ) . xxmaj many xxmaj sephardi xxmaj jews have the custom of eating lamb or goat meat during the xxmaj seder in memory of the xxmaj korban xxmaj pesach . \n",
              " \n",
              " \n",
              "  = = xxmaj removing all leaven ( chametz ) = = \n",
              " \n",
              "  xxmaj leaven , in xxmaj hebrew chametz ( xxmaj hebrew : xxunk xxunk , \" xxunk \" ) is made from one of five types of grains combined with water and left to stand for more than eighteen minutes . xxmaj the consumption , keeping , and owning of chametz is forbidden during xxmaj passover . xxmaj yeast and fermentation are not themselves forbidden as seen for example by wine , which is required , rather than merely permitted . xxmaj according to xxmaj halakha , the ownership of such chametz is also proscribed . xxmaj chametz does not include baking soda , baking powder or like products . xxmaj although these are defined in xxmaj english as xxunk agents , they leaven by chemical reaction , not by biological fermentation . xxmaj thus , xxunk , xxunk and pancakes made with baking soda and matzo meal are considered permissible , while xxunk made with xxunk and pancakes and xxunk made with yeast are prohibited . xxmaj the xxmaj torah commandments regarding chametz are : \n",
              " \n",
              "  xxmaj to remove all chametz from one 's home , including things made with chametz , before the first day of xxmaj passover ( xxmaj exodus xxunk ) . xxmaj it may be simply used up , thrown out ( historically , destroyed by burning ) , or given or sold to non - xxmaj jews . \n",
              "  xxmaj to refrain from eating chametz or mixtures containing chametz during xxmaj passover ( xxmaj exodus xxunk , xxmaj exodus xxunk , xxmaj deuteronomy xxunk ) . \n",
              "  xxmaj not to possess chametz in one 's domain ( i.e. home , office , car , etc . ) during xxmaj passover ( xxmaj exodus xxunk , xxmaj deuteronomy xxunk xxmaj jews spend the weeks before xxmaj passover in a flurry of thorough xxunk , to remove every xxunk of chametz from every part of the home . xxmaj jewish law requires the elimination of olive - sized or larger quantities of xxunk from one 's possession , but most housekeeping goes beyond this . xxmaj even the cracks of kitchen counters are thoroughly xxunk , for example , to remove any traces of flour and yeast , however small . xxmaj any item or implement that has handled chametz is generally put away and not used during xxmaj passover . xxmaj some hotels , resorts , and even cruise ships across xxmaj america , xxmaj europe and xxmaj israel also undergo a thorough xxunk to make their premises \" kosher for xxmaj pesach \" to cater to observant xxmaj jews . \n",
              " \n",
              " \n",
              "  = = = xxmaj interpretations for abstinence from leaven or yeast = = = \n",
              "  xxmaj some scholars suggest that the command to abstain from leavened food or yeast suggests that sacrifices offered to xxmaj god involve the offering of objects in \" their least altered state \" , that would be nearest to the way in which they were initially made by xxmaj god . xxmaj according to other scholars the absence of leaven or yeast means that leaven or yeast symbolizes corruption and spoiling . xxmaj there are also variations with restrictions on eating matzah before xxmaj passover so that there will be an increased appetite for it during xxmaj passover itself . xxmaj primarily among xxmaj chabad xxmaj xxunk , there is a custom of not eating xxunk ( flat unleavened bread ) in the 30 days before xxmaj passover begins . xxmaj others have a custom to refrain from eating matzah from xxmaj rosh xxmaj chodesh xxmaj nissan , while the halacha merely restricts one from eating matzah on the day before xxmaj passover . \n",
              " \n",
              " \n",
              "  = = xxmaj sale of leaven = = \n",
              " \n",
              "  xxmaj leaven or chametz may be sold rather than discarded , especially in the case of relatively valuable forms such as liquor distilled from wheat , with the products being xxunk afterward . xxmaj in some cases , they may never leave the house , instead being formally sold while remaining in the original owner 's possession in a locked cabinet until they can be xxunk after the holiday . xxmaj modern observance may also include sealing cabinets and xxunk which contain \" xxmaj chametz \" shut by using adhesive tape , which serves a similar purpose to a lock but also shows evidence of tampering . xxmaj although the practice of selling \" xxmaj chametz \" dates back many years , some xxmaj reform rabbinical authorities have come to regard it with disdain – since the supposed \" new owner \" never takes actual possession of the goods . xxmaj the sale of chametz may also be conducted communally via a rabbi , who becomes the \" agent \" for all the community 's xxmaj jews through a halakhic procedure called a xxunk ( acquisition ) . xxmaj each householder must put aside all the chametz he is selling into a box or cupboard , and the rabbi enters into a contract to sell all the chametz to a non - xxmaj jew ( who is not obligated to celebrate the commandments ) in exchange for a small down payment ( e.g. $ 1.00 ) , with the remainder due after xxmaj passover . xxmaj this sale is considered completely binding according to xxmaj halakha , and at any time during the holiday , the buyer may come to take or partake of his property . xxmaj the rabbi then re - purchases the goods for less than they were sold at the end of the holiday . \n",
              " \n",
              " \n",
              "  = = xxmaj search for leaven = = \n",
              " \n",
              "  xxmaj on the night of the fourteenth of xxmaj nisan , the night before the xxmaj passover xxmaj seder ( after nightfall on the evening before xxmaj passover eve ) , xxmaj jews do a formal search in their homes known as xxunk chametz for any possible remaining leaven ( chametz ) . xxmaj the xxmaj talmudic sages instructed that a search for chametz be made in every home , place of work , or any place where chametz may have been brought during the year . xxmaj when the first xxmaj seder is on a xxmaj saturday night , the search is conducted on the preceding xxmaj thursday night ( thirteenth of xxmaj nisan ) as chametz can not be burned during xxmaj shabbat . \n",
              "  xxmaj the xxmaj talmud in xxmaj xxunk ( p. 2a ) derives from the xxmaj torah that the search for chametz be conducted by the light of a candle and therefore is done at night , and although the final destruction of the chametz ( usually by burning it in a small bonfire ) is done on the next morning , the blessing is made at night because the search is both in preparation for and part of the commandments to remove and destroy all chametz from one 's possession . \n",
              " \n",
              " \n",
              "  = = = xxmaj blessing for search of chametz and nullification of chametz = = = \n",
              "  xxmaj before the search is begun there is a special blessing . xxmaj if several people or family members assist in the search then only one person , usually the head of that family recites the blessing having in mind to include everyone present : \n",
              "  xxmaj blessed are xxmaj you , xxmaj hashem our xxmaj god , xxmaj king of the universe , xxmaj who has sanctified us with his commandments and has commanded us concerning the removal of chametz . xxmaj in xxmaj hebrew : \n",
              "  xxunk xxunk xxunk - xxunk א - xxunk xxunk xxunk xxunk xxunk xxunk xxunk xxunk xxunk xxunk \n",
              "  ( xxunk xxunk , xxmaj xxunk e - xxunk , xxunk xxunk , xxunk xxunk - xxunk be - xxunk we - xxunk ‘ al be - xxunk xxunk ) \n",
              "  xxmaj the search is then usually conducted by the head of the household joined by his family including children under the supervision of their parents . \n",
              "  xxmaj it is customary to turn off the lights and conduct the search by candlelight , using a feather and a wooden spoon : candlelight effectively illuminates corners without casting shadows ; the feather can dust xxunk out of their hiding places ; and the wooden spoon which collects the xxunk can be burned the next day with the chametz . xxmaj however , most contemporary xxmaj jewish - xxmaj orthodox authorities permit using a flashlight , while some strongly encourage it due to the danger coupled with using a candle . \n",
              "  xxmaj because the house is assumed to have been thoroughly cleaned by the night before xxmaj passover , there is some concern that making a blessing over the search for chametz will be in vain ( xxunk xxunk ) if nothing is found . xxmaj thus , 10 xxunk of bread or cereal smaller than the size of an olive are traditionally hidden throughout the house in order to ensure that some chametz will be found . \n",
              "  xxmaj upon conclusion of the search , with all the small pieces safely wrapped up and put in one bag or place , to be burned the next morning , the following is said : \n",
              " \n",
              "  xxmaj any chametz or leaven that is in my possession which i have not seen and have not removed and do not know about should be annulled and become xxunk like the dust of the earth . xxmaj original declaration as recited in xxmaj aramaic : xxunk xxunk xxunk xxunk xxunk xxunk xxunk xxunk xxunk xxunk xxunk xxunk xxunk xxunk xxunk xxunk xxunk \n",
              " \n",
              " \n",
              "  = = xxmaj morning of 14th of xxmaj nissan = = \n",
              "  xxmaj note that if the 14th of xxmaj nissan is xxmaj shabbat , many of the below will be celebrated on the 13th instead due to restrictions in place during xxmaj shabbat . \n",
              " \n",
              " \n",
              "  = = = xxmaj fast of the xxmaj firstborn = = = \n",
              " \n",
              "  xxmaj on the day preceding the first xxmaj passover seder ( or on xxmaj thursday morning preceding the seder , when the first seder falls on xxmaj xxunk xxmaj shabbat ) , firstborn sons are commanded to celebrate the xxmaj fast of the xxmaj firstborn which commemorates the salvation of the xxmaj hebrew xxunk . xxmaj according to xxmaj exodus xxunk , xxmaj god struck down all xxmaj egyptian xxunk while the xxmaj israelites were not affected . xxmaj however , it is customary for synagogues to conduct a xxunk ( ceremony marking the completion of a section of xxmaj torah learning ) right after morning prayers , and the celebratory meal that follows cancels the firstborn 's obligation to fast . \n",
              " \n",
              " \n",
              "  = = = xxmaj burning and nullification of leaven = = = \n",
              "  xxmaj on the morning of the 14th of xxmaj nisan , any leavened products that remain in the householder 's possession , along with the 10 xxunk of bread from the previous night 's search , are burned ( xxunk chametz ) . xxmaj the head of the household repeats the declaration of xxunk chametz , declaring any chametz that may not have been found to be null and void \" as the dust of the earth \" : \n",
              " \n",
              "  xxmaj any chametz or leaven that is in my possession which i have not seen and have not removed and do not know about should be annulled and become xxunk like the dust of the earth . xxmaj original declaration as recited in xxmaj aramaic : xxunk xxunk xxunk xxunk xxunk xxunk xxunk xxunk xxunk xxunk xxunk xxunk xxunk xxunk xxunk xxunk xxunk \n",
              "  xxmaj should more chametz actually be found in the house during the xxmaj passover holiday , it must be burnt as soon as possible . \n",
              "  xxmaj unlike chametz , which can be eaten any day of the year except during xxmaj passover , kosher for xxmaj passover foods can be eaten year - round . xxmaj they need not be burnt or otherwise discarded after the holiday ends . \n",
              "  xxmaj the historic \" xxmaj paschal lamb \" xxmaj passover sacrifice ( xxmaj korban xxmaj pesach ) has not been brought following the xxmaj romans ' destruction of the xxmaj second xxmaj jewish temple approximately two thousand years ago , and it is therefore still not part of the modern xxmaj jewish holiday . \n",
              "  xxmaj in the times when the xxmaj jewish xxmaj temples stood , the lamb was slaughtered and cooked on the evening of xxmaj passover and was completely consumed before the morning as described in xxmaj exodus xxunk . \n",
              " \n",
              " \n",
              "  = = xxmaj separate kosher for xxmaj passover utensils and dishes = = \n",
              "  xxmaj due to the xxmaj torah injunction not to eat chametz ( leaven ) during xxmaj passover ( xxmaj exodus xxunk ) , observant families typically own complete sets of serving dishes , glassware and silverware ( and in some cases , even separate xxunk and sinks ) which have never come into contact with chametz , for use only during xxmaj passover . xxmaj under certain circumstances , some chametz utensils can be immersed in boiling water ( xxunk xxunk ) to purge them of any traces of chametz that may have accumulated during the year . xxmaj many xxmaj sephardic families thoroughly wash their year - round glassware and then use it for xxmaj passover , as the xxmaj sephardic position is that glass does not absorb enough traces of food to present a problem . xxmaj similarly , ovens may be used for xxmaj passover either by setting the self - cleaning function to the highest degree for a certain period of time , or by applying a blow torch to the interior until the oven xxunk red hot ( a process called xxunk xxunk ) . \n",
              " \n",
              " \n",
              "  = = xxmaj matzah = = \n",
              " \n",
              "  a symbol of the xxmaj passover holiday is matzo , an unleavened xxunk made solely from flour and water which is continually worked from mixing through baking , so that it is not allowed to rise . xxmaj matzo may be made by machine or by hand . xxmaj the xxmaj torah contains an instruction to eat matzo , specifically , on the first night of xxmaj passover and to eat only unleavened bread ( in practice , matzo ) during the entire week of xxmaj passover . xxmaj consequently , the eating of matzo figures prominently in the xxmaj passover xxmaj seder . xxmaj there are several explanations for this . \n",
              "  xxmaj the xxmaj torah says that it is because the xxmaj hebrews left xxmaj egypt with such haste that there was no time to allow baked bread to rise ; thus flat , unleavened bread , matzo , is a reminder of the rapid departure of the xxmaj exodus . xxmaj other scholars teach that in the time of the xxmaj exodus , matzo was commonly baked for the purpose of traveling because it preserved well and was light to carry ( making it similar to xxunk ) , suggesting that matzo was baked intentionally for the long journey ahead . \n",
              "  xxmaj matzo has also been called xxmaj xxunk xxmaj oni ( xxmaj hebrew : \" bread of poverty \" ) . xxmaj there is an attendant explanation that matzo serves as a symbol to remind xxmaj jews what it is like to be a poor slave and to promote humility , appreciate freedom , and avoid the inflated ego symbolized by more luxurious leavened bread . \n",
              " \n",
              "  xxmaj xxunk matzo ( \" watched \" or \" guarded \" matzo ) , is the bread of preference for the xxmaj passover xxmaj seder in xxmaj orthodox xxmaj jewish communities . xxmaj xxunk matzo is made from wheat that is guarded from contamination by leaven ( chametz ) from the time of summer harvest to its baking into matzos five to ten months later . \n",
              "  xxmaj in the weeks before xxmaj passover , matzos are prepared for holiday consumption . xxmaj in many xxmaj orthodox xxmaj jewish communities , men traditionally gather in groups ( \" xxunk \" ) to bake handmade matzo for use at the xxmaj seder , the dough being rolled by hand , resulting in a large and round matzo . xxmaj xxunk also work together in machine - made matzo factories , which produce the typically square - shaped matzo sold in stores . \n",
              "  xxmaj the baking of matzo is labor - intensive , as less than 18 minutes is permitted between the mixing of flour and water to the conclusion of baking and removal from the oven . xxmaj consequently , only a small number of matzos can be baked at one time , and the xxunk members are enjoined to work the dough constantly so that it is not allowed to ferment and rise . a special cutting tool is run over the dough just before baking to prick any bubbles which might make the xxunk puff up ; this creates the familiar dotted holes in the matzo . \n",
              "  xxmaj after the matzos come out of the oven , the entire work area is xxunk down and swept to make sure that no pieces of old , potentially leavened dough remain , as any stray pieces are now chametz , and can contaminate the next batch of matzo . \n",
              "  xxmaj some machine - made matzos are completed within 5 minutes of being xxunk . \n",
              " \n",
              " \n",
              "  = = xxmaj passover seder = = \n",
              " \n",
              "  xxmaj it is traditional for xxmaj jewish families to gather on the first night of xxmaj passover ( first two nights in xxmaj orthodox and xxmaj conservative communities outside xxmaj israel ) for a special dinner called a seder ( xxmaj hebrew : xxunk seder – derived from the xxmaj hebrew word for \" order \" or \" arrangement \" , referring to the very specific order of the ritual ) . xxmaj the table is set with the finest china and silverware to reflect the importance of the meal . xxmaj during this meal , the story of the xxmaj exodus from xxmaj egypt is retold using a special text called the xxmaj haggadah . xxmaj four cups of wine are consumed at various stages in the narrative . xxmaj the xxmaj haggadah divides the night 's procedure into 15 parts : \n",
              " \n",
              "  xxmaj xxunk / xxmaj xxunk xxunk – recital of xxmaj kiddush blessing and drinking of the first cup of wine \n",
              "  xxmaj xxunk / xxmaj xxunk / xxmaj xxunk xxunk – the washing of the hands – without blessing \n",
              "  xxmaj xxunk xxunk – dipping of the xxunk in salt water \n",
              "  xxmaj xxunk / xxmaj xxunk / xxmaj xxunk xxunk – breaking the middle matzo ; the larger piece becomes the afikoman which is eaten later during the ritual of xxmaj xxunk \n",
              "  xxmaj xxunk / xxmaj xxunk xxunk – retelling the xxmaj passover story , including the recital of \" the four questions \" and drinking of the second cup of wine \n",
              "  xxmaj xxunk / xxmaj xxunk / xxmaj xxunk xxunk – second washing of the hands – with blessing \n",
              "  xxmaj xxunk / xxmaj xxunk ’ / xxmaj xxunk ’ xxunk – traditional blessing before eating bread products \n",
              "  xxmaj matzo / xxmaj xxunk xxunk – blessing before eating matzo \n",
              "  xxmaj maror xxunk – eating of the maror \n",
              "  xxmaj xxunk / xxmaj xxunk xxunk – eating of a sandwich made of matzo and maror \n",
              "  xxmaj shulchan xxunk / xxmaj xxunk ‘ xxunk xxunk xxunk – lit . \" set table \" – the serving of the holiday meal \n",
              "  xxmaj xxunk / xxmaj xxunk / xxmaj xxunk xxunk – eating of the afikoman \n",
              "  xxmaj xxunk / xxmaj xxunk xxunk – blessing after the meal and drinking of the third cup of wine \n",
              "  xxmaj hallel xxunk – recital of the xxmaj hallel , traditionally recited on festivals ; drinking of the fourth cup of wine \n",
              "  xxmaj xxunk / xxmaj xxunk / xxmaj xxunk xxunk – xxunk 15 parts parallel the 15 steps in the xxmaj temple in xxmaj jerusalem on which the xxmaj levites stood during xxmaj temple services , and which were memorialized in the 15 xxmaj psalms ( # xxunk ) known as xxmaj xxunk xxunk lot ( xxmaj hebrew : xxunk xxunk xxunk ha - xxunk , \" xxmaj songs of xxunk seder is replete with questions , answers , and unusual practices ( e.g. the recital of xxmaj kiddush which is not immediately followed by the blessing over bread , which is the traditional procedure for all other holiday meals ) to arouse the interest and curiosity of the children at the table . xxmaj the children are also rewarded with nuts and xxunk when they ask questions and participate in the discussion of the xxmaj exodus and its aftermath . xxmaj likewise , they are encouraged to search for the afikoman , the piece of matzo which is the last thing eaten at the seder . xxmaj audience participation and interaction is the rule , and many families ' seders last long into the night with animated discussions and much singing . xxmaj the seder concludes with additional songs of praise and faith printed in the xxmaj haggadah , including xxmaj chad xxmaj xxunk ( \" xxmaj one xxmaj little xxmaj kid \" or \" xxmaj one xxmaj little xxmaj goat \" ) . \n",
              " \n",
              " \n",
              "  = = = xxmaj maror = = = \n",
              " \n",
              "  xxmaj maror ( bitter herbs ) symbolizes the bitterness of slavery in xxmaj egypt . xxmaj the following verse from the xxmaj torah underscores that symbolism : \" xxmaj and they embittered ( xxmaj hebrew : xxunk ve - xxunk ) their lives with hard labor , with mortar and with bricks and with all manner of labor in the field ; any labor that they made them do was with hard labor \" ( xxmaj exodus xxunk ) . \n",
              " \n",
              " \n",
              "  = = = xxmaj four cups of wine = = = \n",
              "  xxmaj there is a xxmaj rabbinic requirement that four cups of wine are to be drunk during the seder meal . xxmaj this applies to both men and women . xxmaj the xxmaj mishnah says ( xxmaj pes . xxunk ) that even the poorest man in xxmaj israel has an obligation to drink . xxmaj each cup is connected to a different part of the seder : the first cup is for xxmaj kiddush , the second cup is connected with the recounting of the xxmaj exodus , the drinking of the third cup concludes xxmaj xxunk xxmaj xxunk and the fourth cup is associated with xxmaj hallel . \n",
              " \n",
              " \n",
              "  = = = xxmaj the four questions and participation of children = = = \n",
              " \n",
              "  xxmaj children have a very important role in the xxmaj passover seder . xxmaj traditionally the youngest child is prompted to ask questions about the xxmaj passover seder , beginning with the words , xxmaj mah xxmaj xxunk xxunk xxunk ( xxmaj why is this night different from all other nights ? ) . xxmaj the questions encourage the gathering to discuss the significance of the symbols in the meal . xxmaj the questions asked by the child are : \n",
              " \n",
              "  xxmaj why is this night different from all other nights ? \n",
              "  xxmaj on all other nights , we eat either unleavened or leavened bread , but tonight we eat only unleavened bread ? \n",
              "  xxmaj on all other nights , we eat all kinds of vegetables , but tonight , we eat only bitter herbs ? \n",
              "  xxmaj on all other nights , we do not dip [ our food ] even once , but tonight we dip twice ? \n",
              "  xxmaj on all other nights , we eat either sitting or reclining , but tonight we only xxunk the leader of the seder and the other adults at the meal will use prompted responses from the xxmaj haggadah , which states , \" xxmaj the more one talks about the xxmaj exodus from xxmaj egypt , the more praiseworthy he is . \" xxmaj many readings , prayers , and stories are used to recount the story of the xxmaj exodus . xxmaj many households add their own commentary and interpretation and often the story of the xxmaj jews is related to the theme of liberation and its implications worldwide . \n",
              " \n",
              " \n",
              "  = = = xxmaj afikoman = = = \n",
              " \n",
              "  xxmaj the afikoman – an integral part of the xxmaj seder itself – is used to engage the interest and excitement of the children at the table . xxmaj during the fourth part of the xxmaj seder , called xxmaj xxunk , the leader breaks the middle piece of matzo into two . xxmaj he sets aside the larger portion as the afikoman . xxmaj many families use the afikoman as a device for keeping the children awake and alert throughout the xxmaj seder proceedings by hiding the afikoman and offering a prize for its return . xxmaj alternatively , the children are allowed to \" steal \" the afikoman and demand a reward for its return . xxmaj in either case , the afikoman must be consumed during the twelfth part of the xxmaj seder , xxmaj xxunk . \n",
              " \n",
              " \n",
              "  = = = xxmaj concluding songs = = = \n",
              "  xxmaj after the xxmaj hallel , the fourth glass of wine is drunk , and participants recite a prayer that ends in \" xxmaj next year in xxmaj jerusalem ! \" . xxmaj this is followed by several lyric prayers that expound upon xxmaj god 's mercy and kindness , and give thanks for the survival of the xxmaj jewish people through a history of exile and hardship . \" xxmaj xxunk xxmaj mi xxmaj xxunk \" ( \" xxmaj who xxmaj knows xxmaj one ? \" ) is a playful song , testing the general knowledge of the children ( and the adults ) . xxmaj some of these songs , such as \" xxmaj chad xxmaj xxunk \" are allegorical . \n",
              " \n",
              " \n",
              "  = = xxmaj counting of the xxmaj omer = = \n",
              "  xxmaj beginning on the second night of xxmaj passover , the 16th day of xxmaj nisan , xxmaj jews begin the practice of the xxmaj counting of the xxmaj omer , a nightly reminder of the approach of the holiday of xxmaj shavuot 50 days hence . xxmaj each night after the evening prayer service , men and women recite a special blessing and then xxunk the day of the xxmaj omer . xxmaj on the first night , for example , they say , \" xxmaj today is the first day in ( or , to ) the xxmaj omer \" ; on the second night , \" xxmaj today is the second day in the xxmaj omer . \" xxmaj the counting also involves weeks ; thus , the seventh day is commemorated , \" xxmaj today is the seventh day , which is one week in the xxmaj omer . \" xxmaj the eighth day is marked , \" xxmaj today is the eighth day , which is one week and one day in the xxmaj omer , \" etc . \n",
              "  xxmaj when the xxmaj temple stood in xxmaj jerusalem , a sheaf of new - cut barley was presented before the altar on the second day of xxmaj unleavened xxmaj bread . xxmaj josephus writes : \n",
              "  xxmaj on the second day of unleavened bread , that is to say the sixteenth , our people partake of the crops which they have xxunk and which have not been touched till then , and xxunk it right first to do homage to xxmaj god , to whom they owe the abundance of these gifts , they offer to him the first - fruits of the barley in the following way . xxmaj after xxunk and crushing the little sheaf of ears and purifying the barley for grinding , they bring to the altar an xxunk for xxmaj god , and , having flung a handful thereof on the altar , they leave the rest for the use of the priests . xxmaj thereafter all are permitted , publicly or individually , to begin harvest . xxmaj since the destruction of the xxmaj temple , this offering is brought in word rather than deed . \n",
              "  xxmaj one explanation for the xxmaj counting of the xxmaj omer is that it shows the connection between xxmaj passover and xxmaj shavuot . xxmaj the physical freedom that the xxmaj hebrews achieved at the xxmaj exodus from xxmaj egypt was only the beginning of a process that xxunk with the spiritual freedom they gained at the giving of the xxmaj torah at xxmaj mount xxmaj sinai . xxmaj another explanation is that the newborn nation which emerged after the xxmaj exodus needed time to learn their new responsibilities vis - a - vis xxmaj torah and mitzvot before accepting xxmaj god 's law . xxmaj the distinction between the xxmaj omer offering – a measure of barley , typically animal fodder – and the xxmaj shavuot offering – two loaves of wheat bread , human food – symbolizes the transition process . \n",
              " \n",
              " \n",
              "  = = xxmaj chol hamoed : xxmaj the intermediate days of xxmaj passover = = \n",
              "  xxmaj in xxmaj israel , xxmaj passover lasts for seven days with the first and last days being major xxmaj jewish holidays . xxmaj in xxmaj orthodox and xxmaj conservative communities , no work is performed on those days , with most of the rules relating to the observances of xxmaj shabbat being applied . xxmaj outside xxmaj israel , in xxmaj orthodox and xxmaj conservative communities , the holiday lasts for eight days with the first two days and last two days being major holidays . xxmaj in the intermediate days necessary work can be performed . xxmaj reform xxmaj judaism observes xxmaj passover over seven days , with the first and last days being major holidays . \n",
              "  xxmaj like the holiday of xxmaj sukkot , the intermediary days of xxmaj passover are known as xxmaj chol hamoed ( festival weekdays ) and are imbued with a semi - festive status . xxmaj it is a time for family outings and picnic lunches of matzo , hardboiled eggs , fruits and vegetables , and xxmaj passover treats such as xxunk and homemade xxunk . xxmaj passover cake recipes call for potato starch or xxmaj passover cake flour made from finely xxunk matzo instead of regular flour , and a large amount of eggs to achieve xxunk . xxmaj cookie recipes use matzo xxunk ( broken bits of matzo ) or ground nuts as the base . xxmaj for families with xxmaj eastern xxmaj european backgrounds , xxunk , a soup made with xxunk , is a xxmaj passover tradition . \n",
              " \n",
              "  xxmaj while kosher for xxmaj passover packaged goods are available in stores , some families opt to cook everything from scratch during xxmaj passover week . xxmaj in xxmaj israel , families that do not xxunk their ovens can bake cakes , xxunk , and even meat on the xxunk in a xxmaj wonder xxmaj pot , an xxmaj israeli invention consisting of three parts : an aluminium pot shaped like a xxmaj xxunk pan , a hooded cover perforated with venting holes , and a thick , round , metal disc with a center hole which is placed between the xxmaj wonder xxmaj pot and the flame to disperse heat . \n",
              " \n",
              " \n",
              "  = = xxmaj seventh day of xxmaj passover = = \n",
              "  xxmaj xxunk shel xxmaj pesach ( xxunk xxunk xxunk ) ( \" seventh [ day ] of xxmaj passover \" ) is another full xxmaj jewish holiday , with special prayer services and festive meals . xxmaj outside the xxmaj land of xxmaj israel , in the xxmaj jewish diaspora , xxmaj xxunk shel xxmaj pesach is celebrated on both the seventh and eighth days of xxmaj passover . xxmaj this holiday commemorates the day the xxmaj children of xxmaj israel reached the xxmaj red xxmaj sea and witnessed both the miraculous \" xxmaj splitting of the xxmaj sea \" ( xxmaj passage of the xxmaj red xxmaj sea ) , the drowning of all the xxmaj egyptian chariots , horses and soldiers that pursued them . xxmaj according to the xxmaj midrash , only the xxmaj pharaoh was spared to give testimony to the miracle that occurred . \n",
              "  xxmaj hasidic xxmaj rebbes traditionally hold a xxunk on the night of xxmaj xxunk shel xxmaj pesach and place a cup or bowl of water on the table before them . xxmaj they use this opportunity to speak about the xxmaj splitting of the xxmaj sea to their disciples , and sing songs of praise to xxmaj god . \n",
              " \n",
              " \n",
              "  = = xxmaj second xxmaj passover = = \n",
              "  xxmaj the \" xxmaj second xxmaj passover \" ( xxmaj pesach xxmaj sheni ) on the 14th of xxmaj xxunk in the xxmaj hebrew xxmaj calendar is mentioned in the xxmaj hebrew xxmaj bible 's xxmaj book of xxmaj numbers ( xxmaj numbers xxunk ) as a make - up day for people who were unable to offer the pesach sacrifice at the appropriate time due to ritual impurity or distance from xxmaj jerusalem . xxmaj just as on the first xxmaj pesach night , breaking bones from the second xxmaj paschal offering or leaving meat over until morning is prohibited ( xxmaj numbers xxunk , xxmaj pesach xxmaj sheni on the 14th of xxmaj xxunk has the status of a very minor holiday ( so much so that many of the xxmaj jewish people have never even heard of it , and it essentially does not exist outside of xxmaj orthodox and traditional xxmaj conservative xxmaj judaism ) . xxmaj there are not really any special prayers or observances that are considered xxmaj jewish law . xxmaj the only change in the liturgy is that in some communities xxmaj xxunk , a penitential prayer omitted on holidays , is not said . xxmaj there is a custom , though not xxmaj jewish law , to eat just one piece of matzo on that night . \n",
              " \n",
              " \n",
              "  = = xxmaj traditional foods = = \n",
              " \n",
              "  xxmaj because the house is free of leaven ( chametz ) for eight days , the xxmaj jewish household typically eats different foods during the week of xxmaj passover . xxmaj some include : \n",
              "  xxmaj ashkenazi foods \n",
              " \n",
              "  xxmaj matzah xxunk – xxmaj matzo softened in milk or water and fried with egg and fat ; served either savory or sweet \n",
              "  xxmaj matzo xxunk – a xxunk made with matzo instead of noodles \n",
              "  xxmaj xxunk – a sweet mixture of fruit , fresh , dried or both ; nuts ; spices ; honey ; and sometimes wine . xxmaj the xxunk is a symbol of the mortar the xxmaj israelites used for building while enslaved in xxmaj egypt ( xxmaj see xxmaj passover seder ) \n",
              "  xxmaj xxunk – xxmaj xxunk and beet relish \n",
              "  xxmaj xxunk fish – xxmaj xxunk fish patties or fish balls made from a mixture of ground , de - boned fish , mostly carp or pike \n",
              "  xxmaj chicken soup with matzah balls ( xxunk ) – xxmaj chicken soup served with matzo - meal xxunk \n",
              "  xxmaj passover noodles – xxmaj noodles prepared from potato flour and eggs , served in soup . xxmaj batter is fried like thin xxunk , which are stacked , rolled up and sliced into ribbons . xxmaj sephardi foods \n",
              " \n",
              "  xxmaj xxunk di xxunk – xxmaj fried balls made of xxunk , meat , and matzo meal \n",
              "  xxmaj lamb or chicken leg – a symbol of xxmaj god 's strong hand , and korban pesach \n",
              "  xxmaj mina ( pastel di pesach ) – a meat pie made with matzos \n",
              "  xxmaj spring green vegetables – xxunk , xxunk beans , peas \n",
              " \n",
              " \n",
              "  = = xxmaj sermons , liturgy , and song = = \n",
              "  xxmaj the story of xxmaj passover , with its message that slaves can go free , and that the future can be better than the present , has inspired a number of religious sermons , prayers , and songs – including spirituals ( what used to be called \" xxmaj negro xxmaj spirituals \" ) , within the xxmaj african - xxmaj american community . \n",
              "  xxmaj rabbi xxmaj philip xxup r. xxmaj xxunk , an early leader of xxmaj conservative xxmaj judaism , known for his fiery rhetoric and powerful oratory skills , wrote and spoke in 1939 about the power of the xxmaj passover story during the rise of xxmaj nazi persecution and terror : \n",
              "  xxmaj perhaps in our generation the counsel of our xxmaj talmudic sages may seem superfluous , for today the story of our enslavement in xxmaj egypt is kept alive not only by ritualistic symbolism , but even more so by tragic realism . xxmaj we are the contemporaries and witnesses of its daily re - enactment . xxmaj are not our hapless brethren in the xxmaj german xxmaj reich eating \" the bread of affliction \" ? xxmaj are not their lives embittered by complete xxunk and forced labor ? xxmaj are they not lashed mercilessly by brutal xxunk behind the walls of concentration camps ? xxmaj are not many of their men - folk being murdered in cold blood ? xxmaj is not the ruthlessness of the xxmaj egyptian xxmaj pharaoh surpassed by the sadism of the xxmaj nazi xxunk yet , even in this hour of disaster and degradation , it is still helpful to \" visualize oneself among those who had gone forth out of xxmaj egypt . \" xxmaj it gives stability and equilibrium to the spirit . xxmaj only our estranged kinsmen , the assimilated , and the de - xxmaj xxunk , go to pieces under the impact of the blow xxrep 4 . xxmaj but those who visualize themselves among the groups who have gone forth from the successive xxmaj xxunk in our history never lose their sense of perspective , nor are they overwhelmed by confusion and despair xxrep 4 . xxmaj it is this faith , born of racial experience and wisdom , which gives the oppressed the strength to outlive the oppressors and to endure until the day of ultimate triumph when we shall \" be brought forth from bondage unto freedom , from sorrow unto joy , from mourning unto festivity , from darkness unto great light , and from servitude unto redemption . \n",
              " \n",
              " \n",
              "  = = xxmaj celebrations in other religions = = \n",
              " \n",
              "  xxmaj the xxmaj samaritan religion celebrates its own , similar xxmaj passover holiday , based on the xxmaj samaritan xxmaj pentateuch . xxmaj xxunk holds that the xxmaj jews and xxmaj samaritans share a common history , but split into distinct communities after the time of xxmaj moses . xxmaj passover is also celebrated in xxmaj karaite xxmaj judaism , which rejects the xxmaj oral xxmaj torah that characterizes mainstream xxmaj rabbinic xxmaj judaism , as well as other groups claiming affiliation with xxmaj israelites . \n",
              "  xxmaj in xxmaj christianity , the celebration of xxmaj good xxmaj friday finds its roots in the xxmaj jewish feast of xxmaj passover , the evening on which xxmaj jesus was crucified as the xxmaj passover xxmaj lamb . xxmaj some xxmaj christians , including xxmaj messianic xxmaj jews , also celebrate xxmaj passover itself as a xxmaj christian holiday . \n",
              "  xxmaj in the xxmaj sunni sect of xxmaj islam , it is recommended to fast on the day of xxmaj xxunk ( 10th of xxmaj muharram ) based on narrations attributed to xxmaj muhammad . xxmaj the fast is celebrated in order to commemorate the day when xxmaj moses and his followers were saved from xxmaj pharaoh by xxmaj god by creating a path in the xxmaj red xxmaj sea ( xxmaj the xxmaj exodus ) . xxmaj according to xxmaj muslim tradition , the xxmaj jews of xxmaj xxunk used to fast on the tenth of xxmaj muharram in observance of xxmaj passover . xxmaj in narrations recorded in the al - xxmaj hadith ( sayings of the xxmaj islamic xxmaj prophet xxmaj muhammad ) of xxmaj sahih al - xxmaj bukhari , it is recommended that xxmaj muslims fast on this day . xxmaj it is also stipulated that its observance should differ from the feast of xxmaj passover which is celebrated by the xxmaj jews , and he stated that xxmaj muslims should fast for two days instead of one , either on the 9th and 10th day or on the 10th and 11th day of xxmaj muharram . \n",
              " \n",
              " \n",
              "  = = xxmaj see also = = \n",
              " \n",
              "  xxmaj xxunk \n",
              "  xxmaj haggadah of xxmaj pesach \n",
              "  xxmaj jewish greetings \n",
              "  xxmaj xxunk \n",
              "  xxmaj xxunk \n",
              " \n",
              " \n",
              "  = = xxmaj references = = \n",
              " \n",
              " \n",
              "  = = xxmaj external links = = \n",
              "  xxmaj passover xxmaj resources – xxunk \n",
              "  xxmaj guide to xxmaj passover – chabad.org \n",
              "  ' xxmaj xxunk xxmaj xxunk ' xxmaj jewish xxmaj law – xxmaj xxunk \n",
              "  xxmaj xxunk xxmaj passover xxmaj primer \n",
              "  xxmaj jewish xxmaj encyclopedia : xxmaj passover \n",
              "  xxmaj xxunk : xxmaj the xxmaj jewish xxmaj children 's xxmaj learning xxmaj network \n",
              "  xxmaj all about xxmaj pesach \n",
              "  xxmaj secular dates for passover \n",
              "  \" xxmaj passover collected news and commentary \" . xxmaj the xxmaj new xxmaj york xxmaj times .,xxbos xxmaj this article lists historical figures credited with founding religions or religious philosophies or people who first codified older known religious traditions . xxmaj it also lists those who have founded a specific major denomination within a larger religion . \n",
              " \n",
              " \n",
              "  = = xxmaj ancient ( before xxup ad 500 ) = = \n",
              "  xxmaj see culture hero for legendary founders of doubtful historicity . xxmaj if you intend to add figures that fall into this category , please add them in the allotted section . \n",
              " \n",
              " \n",
              "  = = xxmaj medieval to xxmaj early xxmaj modern ( xxunk xxup ad ) = = \n",
              " \n",
              " \n",
              "  = = xxmaj new religious movements ( xxunk ) = = \n",
              " \n",
              " \n",
              "  = = xxmaj legendary / semi - historical = = \n",
              " \n",
              " \n",
              "  = = xxmaj see also = = \n",
              "  xxmaj burial places of founders of world religions \n",
              "  xxmaj list of xxmaj buddha claimants \n",
              "  xxmaj list of messiah claimants \n",
              "  xxmaj list of people who have been considered deities \n",
              "  xxmaj list of religions and spiritual traditions \n",
              "  xxmaj lists of religious leaders by century \n",
              "  xxmaj timeline of religion \n",
              " \n",
              " \n",
              "  = = xxmaj notes = = \n",
              " \n",
              " \n",
              "  = = xxmaj references = = \n",
              " \n",
              " \n",
              "  = = xxmaj bibliography = = \n",
              "  xxmaj beit - xxmaj xxunk , xxmaj benjamin ( 1998 ) . xxmaj the xxmaj illustrated xxmaj encyclopedia of xxmaj active xxmaj new xxmaj religions , xxmaj sects , and xxmaj cults ( xxmaj revised xxmaj edition ) . xxmaj rosen xxmaj publishing xxmaj group . xxup isbn 978 - 0 - xxunk - xxunk - 5 . \n",
              "  xxmaj xxunk , xxmaj walter ( 2002 ) . xxmaj xxunk of xxmaj faith : a xxmaj theological xxmaj handbook of xxmaj old xxmaj testament xxmaj themes . xxmaj westminster xxmaj john xxmaj knox xxmaj press . xxup isbn 978 - 0 - 664 - xxunk - 4 . \n",
              "  xxmaj xxunk , xxmaj george xxup d. ( 2001 ) . xxmaj historical dictionary of new religious movements . xxmaj the xxmaj scarecrow xxmaj press , xxmaj inc. xxup isbn 978 - 0 - xxunk - xxunk - 9 . \n",
              "  xxmaj cousins , xxup ls ( 1996 ) , \" xxmaj the dating of the historical xxmaj buddha : a review article \" , xxmaj journal of the xxmaj royal xxmaj asiatic xxmaj society , 3 , 6 ( 1 ) : xxunk , xxunk / xxunk \n",
              "  xxmaj xxunk , xxmaj phyllis xxup g. ( 2004 ) . xxmaj holy xxmaj people of the xxmaj world : a xxmaj cross - cultural xxmaj encyclopedia ( xxmaj volume 3 ) . xxup abc - xxup clio , xxmaj inc. xxup isbn 978 - 1 - xxunk - 355 - 1 . \n",
              "  xxmaj melton , xxup j. xxmaj gordon ( 2003 ) . xxmaj encyclopedia of xxmaj american xxmaj religions ( xxmaj seventh edition ) . xxmaj farmington xxmaj hills , xxmaj michigan : xxmaj the xxmaj gale xxmaj group , xxmaj inc. xxup isbn 978 - 0 - xxunk - xxunk - 1 . \n",
              "  xxmaj radhakrishnan , xxmaj xxunk ; xxmaj moore , xxmaj charles ( 1957 ) . a xxmaj source xxmaj book in xxmaj indian xxmaj philosophy . xxmaj princeton xxmaj university xxmaj press . xxup isbn 978 - 0 - 691 - xxunk - xxup xxunk maint : ref = harv ( link ) \n",
              "  xxmaj xxunk , j ( 3 xxmaj july 2002 ) . \" xxmaj confucius \" . xxmaj stanford xxmaj encyclopedia of xxmaj philosophy . xxmaj retrieved 27 xxmaj october xxup xxunk maint : ref = harv ( link ) \n",
              "  xxmaj schumann , xxmaj hans xxmaj wolfgang ( 2003 ) , xxmaj the xxmaj historical xxmaj buddha : xxmaj the xxmaj times , xxmaj life , and xxmaj teachings of the xxmaj founder of xxmaj buddhism , xxmaj xxunk xxmaj xxunk , xxup isbn 978 - xxunk \n",
              "  xxmaj smith , xxmaj christian ; xxmaj joshua xxmaj xxunk ( 1999 ) . xxmaj latin xxmaj american xxmaj religion in xxmaj motion . xxmaj new xxmaj york , xxmaj new xxmaj york : xxmaj routledge . xxup isbn 978 - 0 - 415 - xxunk - 0 . \n",
              "  xxmaj singh , xxmaj xxunk ( 2016 ) , a xxmaj history of xxmaj ancient and xxmaj early xxmaj medieval xxmaj india : xxmaj from the xxmaj stone xxmaj age to the 12th xxmaj century , xxmaj pearson xxmaj education , xxup isbn 978 - 93 - 325 - xxunk - 6 \n",
              "  xxmaj zimmer , xxmaj heinrich ( 1953 ) [ xxmaj april 1952 ] , xxmaj campbell , xxmaj joseph ( ed . ) , xxmaj philosophies xxmaj of xxmaj india , xxmaj london , xxup xxunk 4 : xxmaj routledge & xxmaj xxunk xxmaj paul xxmaj ltd , xxup isbn 978 - 81 - 208 - xxunk - xxup xxunk maint : location ( link )\n",
              "y: CategoryList\n",
              "R,R,R,R,R\n",
              "Path: /content/drive/My Drive/AI & Tech Research/Religion of GPT2/fastai;\n",
              "\n",
              "Valid: LabelList (3370 items)\n",
              "x: TextList\n",
              "xxbos xxmaj many xxmaj wikipedia articles on religious topics are not yet listed on this page . xxmaj if you can not find the topic you are interested in on this page , it still may already exist ; you can try to find it using the \" xxmaj search \" box . xxmaj if you find that it exists , you can edit this page to add a link to it . \n",
              "  xxmaj if you click on \" xxmaj related changes \" at the side of this page , you will see a list of the most recent changes in articles to which this page links . xxmaj this page links to itself and its talk page so that changes to them can be tracked by the same means . \n",
              " \n",
              " \n",
              "  = = xxunk = = \n",
              "  1689 xxmaj baptist xxmaj confession of xxmaj faith \n",
              " \n",
              " \n",
              "  = = a = = \n",
              "  xxmaj abolitionism - \n",
              "  xxmaj abolitionism in the xxmaj united xxmaj states - \n",
              "  xxmaj abraham - \n",
              "  xxmaj abrahamic religion - \n",
              "  xxmaj accommodation - \n",
              "  xxmaj acolyte - \n",
              "  xxmaj acts of xxmaj pilate - \n",
              "  xxmaj adam and xxmaj eve - \n",
              "  xxmaj aeon - \n",
              "  xxmaj agnosticism - \n",
              "  xxmaj agnostic xxmaj theism - \n",
              "  xxmaj ahmadiyya - \n",
              "  xxmaj ahn xxmaj shi xxmaj il - \n",
              "  xxmaj xxunk - \n",
              "  xxmaj alexandrian xxmaj rite - \n",
              "  xxmaj all xxmaj saints - \n",
              "  xxmaj alleged textual evidence for xxmaj jesus - \n",
              "  xxmaj alpha course - \n",
              "  xxmaj altar - \n",
              "  xxmaj altar boy - \n",
              "  xxmaj altar rails - \n",
              "  xxmaj altar server - \n",
              "  xxmaj amazing xxmaj grace - \n",
              "  xxmaj xxunk - \n",
              "  xxmaj amish - \n",
              "  xxmaj anabaptist - \n",
              "  xxmaj anathema - \n",
              "  xxmaj anatta - \n",
              "  xxmaj ancestor - worship - \n",
              "  xxmaj ancient of xxmaj days - \n",
              "  xxmaj angel - \n",
              "  xxmaj angels of the zodiac - \n",
              "  xxmaj anglican xxmaj communion - \n",
              "  xxmaj anglican continuing churches - \n",
              "  xxmaj anglican views of homosexuality - \n",
              "  xxmaj anglicanism - \n",
              "  xxmaj anglo - xxmaj catholicism - \n",
              "  xxmaj animism - \n",
              "  xxmaj anointing - \n",
              "  xxmaj anointing of the xxmaj sick - \n",
              "  xxmaj antediluvian - \n",
              "  xxmaj anthropology of religion - \n",
              "  xxmaj anthropomorphism - \n",
              "  xxmaj anti - xxmaj arab - \n",
              "  xxmaj anti - xxmaj defamation xxmaj league - \n",
              "  xxmaj anti - xxmaj modernist oath - \n",
              "  xxmaj anti - xxmaj semitism - \n",
              "  xxmaj anti - xxmaj zionism - \n",
              "  xxmaj antichrist - \n",
              "  xxmaj apatheism - \n",
              "  xxmaj apocrypha - \n",
              "  xxmaj apocatastasis - \n",
              "  xxmaj apostles - \n",
              "  xxmaj apostles ' xxmaj creed - \n",
              "  xxmaj apostolic xxmaj pardon - \n",
              "  xxmaj apostolic xxmaj see - \n",
              "  xxmaj apostolic succession - \n",
              "  xxmaj marian apparition - \n",
              "  xxmaj ara xxmaj pacis - \n",
              "  xxmaj arab anti - semitism - \n",
              "  xxmaj xxunk - \n",
              "  xxmaj archbishop - \n",
              "  xxmaj arguments against the existence of xxmaj god - \n",
              "  xxmaj arguments for the existence of xxmaj god - \n",
              "  xxmaj arianism - \n",
              "  xxmaj arminianism - \n",
              "  xxmaj arul xxmaj nool - \n",
              "  xxmaj xxunk - \n",
              "  xxmaj ascension of xxmaj jesus xxmaj christ - \n",
              "  xxmaj ascetic - \n",
              "  xxmaj ash xxmaj wednesday - \n",
              "  xxmaj asherah - \n",
              "  xxmaj ashkenazi - \n",
              "  xxmaj xxunk - \n",
              "  xxmaj assumption of xxmaj mary - \n",
              "  xxmaj astrology - \n",
              "  xxmaj aten - \n",
              "  xxmaj athanasian xxmaj creed - \n",
              "  xxmaj atheism - \n",
              "  xxmaj atonement - \n",
              "  xxmaj augur - \n",
              "  xxmaj augustinians - \n",
              "  xxmaj xxunk - \n",
              "  xxmaj autocephaly - \n",
              "  xxmaj awards - \n",
              "  xxmaj ayyavazhi - \n",
              "  xxmaj ayyavazhi mythology - \n",
              "  xxmaj azazel - \n",
              "  xxmaj aztec mythology \n",
              " \n",
              " \n",
              "  = = b = = \n",
              "  xxmaj baal teshuva - \n",
              "  xxmaj baal - \n",
              "  xxmaj báb - \n",
              "  xxmaj babylonian calendar - \n",
              "  xxmaj backward message - \n",
              "  xxmaj bahá'í calendar - \n",
              "  xxmaj bahá'í xxmaj faith - \n",
              "  xxmaj bahá'u'lláh - \n",
              "  xxmaj bakkah - \n",
              "  xxmaj balaam - \n",
              "  xxmaj xxunk ( demon ) - \n",
              "  xxmaj balor - \n",
              "  xxmaj baptism - \n",
              "  xxmaj baptism for the dead - \n",
              "  xxmaj baptism of the xxmaj holy xxmaj spirit - \n",
              "  xxmaj bar mitzvah and xxmaj bat mitzvah - \n",
              "  xxmaj beatific vision - \n",
              "  xxmaj beast - \n",
              "  xxmaj beelzebub - \n",
              "  xxmaj robert xxmaj bellarmine - \n",
              "  xxmaj benedictine - \n",
              "  xxmaj bhakti - \n",
              "  xxmaj bhakti movement - \n",
              "  xxmaj bible - \n",
              "  xxmaj the xxmaj bible and history - \n",
              "  xxmaj bible translations - \n",
              "  xxmaj biblical canon - \n",
              "  xxmaj biblical inerrancy - \n",
              "  xxmaj jesus in the xxmaj christian xxmaj bible - \n",
              "  xxmaj biblical xxunk - \n",
              "  xxmaj biblical poetry - \n",
              "  xxmaj biblical xxmaj sabbath - \n",
              "  xxmaj binding of xxmaj isaac - \n",
              "  xxmaj bioethics - \n",
              "  xxmaj bishops ' xxmaj bible - \n",
              "  xxmaj bishop - \n",
              "  xxmaj black xxmaj madonna - \n",
              "  xxmaj blessed xxmaj sacrament - \n",
              "  xxmaj blessed xxmaj virgin xxmaj mary - \n",
              "  xxmaj blood libel - \n",
              "  xxmaj b'nai xxmaj xxunk - \n",
              "  xxmaj bodhisattva - \n",
              "  xxmaj bodhi - \n",
              "  xxmaj book of xxmaj mormon - \n",
              "  xxmaj books of the xxmaj bible - \n",
              "  xxmaj born again - \n",
              "  xxmaj brahma - \n",
              "  xxmaj brahman - \n",
              "  xxmaj brahmin - \n",
              "  xxmaj brahma xxmaj kumaris - \n",
              "  xxmaj brethren of the xxmaj common xxmaj life - \n",
              "  xxmaj breviary - \n",
              "  xxmaj brit milah - \n",
              "  xxmaj buddha - nature - \n",
              "  xxmaj buddhism - \n",
              "  xxmaj business ethics \n",
              " \n",
              " \n",
              "  = = c = = \n",
              "  xxmaj thomas xxmaj cajetan - \n",
              "  xxmaj canadian xxmaj unitarian xxmaj council - \n",
              "  xxmaj calendar of saints - \n",
              "  xxmaj calendar - \n",
              "  xxmaj calvinism - \n",
              "  xxmaj cambridge xxmaj declaration - \n",
              "  xxmaj candomblé - \n",
              "  xxmaj canon ( priest ) - \n",
              "  xxmaj canon law - \n",
              "  xxmaj canons of xxmaj dort - \n",
              "  xxmaj cantor ( church ) - \n",
              "  xxmaj cardinal ( xxmaj catholicism ) - \n",
              "  xxmaj carmelites - \n",
              "  xxmaj carmen xxmaj xxunk - \n",
              "  xxmaj catechism - \n",
              "  xxmaj catechism of the xxmaj catholic xxmaj church - \n",
              "  xxmaj cathedral - \n",
              "  xxmaj cathedral architecture - \n",
              "  xxmaj catholic xxmaj apostolic xxmaj church - \n",
              "  xxmaj catholic xxmaj church - \n",
              "  xxmaj catholic xxmaj church against war on xxmaj iraq - \n",
              "  xxmaj catholic xxmaj communion - \n",
              "  xxmaj catholic xxmaj king - \n",
              "  xxmaj catholic ministers - \n",
              "  xxmaj sacraments ( xxmaj catholic xxmaj church ) - \n",
              "  xxmaj catholicism - \n",
              "  xxmaj chalcedonian xxmaj creed - \n",
              "  xxmaj charismatic - \n",
              "  xxmaj xxunk - \n",
              "  xxmaj cherub - \n",
              "  xxmaj chicago xxmaj statement on xxmaj biblical xxmaj inerrancy - \n",
              "  xxmaj child sacrifice - \n",
              "  xxmaj chinese house church - \n",
              "  xxmaj chosen people - \n",
              "  xxmaj chrismation - \n",
              "  xxmaj christian anti - xxmaj semitism - \n",
              "  xxmaj christian anarchism - \n",
              "  xxmaj christian eschatology - \n",
              "  xxmaj christian fundamentalism - \n",
              "  xxmaj christian – xxmaj jewish reconciliation - \n",
              "  xxmaj christian xxmaj identity - \n",
              "  xxmaj christian mythology - \n",
              "  xxmaj christian xxmaj peacemaker xxmaj teams - \n",
              "  xxmaj christian xxmaj science - \n",
              "  xxmaj christian theological controversy - \n",
              "  xxmaj christian tradition - \n",
              "  xxmaj christianity - \n",
              "  xxmaj christmas - \n",
              "  xxmaj christmas xxmaj eve - \n",
              "  xxmaj christology - \n",
              "  xxmaj church - \n",
              "  xxmaj church of xxmaj england - \n",
              "  xxmaj church militant and church triumphant - \n",
              "  xxmaj church planting - \n",
              "  xxmaj civil religion - \n",
              "  xxmaj clergy - \n",
              "  xxmaj clerical celibacy - \n",
              "  xxmaj closed communion - \n",
              "  xxmaj college of xxmaj cardinals - \n",
              "  xxmaj college of xxmaj pontiffs - \n",
              "  xxmaj communion - \n",
              "  xxmaj communion of xxmaj saints - \n",
              "  xxmaj comparative religion - \n",
              "  xxmaj christianity and xxmaj judaism - \n",
              "  xxmaj comparing xxmaj eastern and xxmaj western religious traditions - \n",
              "  xxmaj concordat - \n",
              "  xxmaj conditional baptism - \n",
              "  xxmaj confession ( religion ) - \n",
              "  xxmaj confirmation ( sacrament ) - \n",
              "  xxmaj confucianism - \n",
              "  xxmaj congregation of xxmaj christian xxmaj brothers - \n",
              "  xxmaj congregationalism - \n",
              "  xxmaj congregationalist church - \n",
              "  xxmaj congregationalist polity - \n",
              "  xxmaj consecration - \n",
              "  xxmaj conservative xxmaj judaism - \n",
              "  xxmaj continuous revelation - \n",
              "  xxmaj conversational intolerance - \n",
              "  xxmaj cosmology - \n",
              "  xxmaj counter - xxmaj reformation - \n",
              "  a xxmaj course xxmaj in xxmaj miracles - \n",
              "  xxmaj covenant ( religion ) - \n",
              "  xxmaj covenanter - \n",
              "  xxmaj covenant theology - \n",
              "  xxmaj creationism - \n",
              "  xxmaj creed - \n",
              "  xxmaj criticism of religion - \n",
              "  xxmaj crucifixion - \n",
              "  xxmaj crusade - \n",
              "  xxmaj crypto - xxmaj judaism - \n",
              "  xxmaj cult - \n",
              "  xxmaj cult ( religion ) - \n",
              "  xxmaj curse \n",
              " \n",
              " \n",
              "  = = d = = \n",
              "  xxmaj dabru xxmaj emet - \n",
              "  xxmaj dajjal - \n",
              "  xxmaj day of the xxmaj vow - \n",
              "  xxmaj deacon - \n",
              "  xxmaj dead xxmaj sea scrolls - \n",
              "  xxmaj death worship - \n",
              "  xxmaj deism - \n",
              "  xxmaj demigod - \n",
              "  xxmaj demonology - \n",
              "  xxmaj demon - \n",
              "  xxmaj deuterocanonical books - \n",
              "  xxmaj deuteronomy - \n",
              "  xxmaj devil - \n",
              "  xxmaj devil 's xxmaj advocate - \n",
              "  xxmaj dharma - \n",
              "  xxmaj dhimmi - \n",
              "  xxmaj dies xxmaj irae - \n",
              "  xxmaj diocese - \n",
              "  xxmaj discordianism - \n",
              "  xxmaj dispensationalism - \n",
              "  xxmaj divination - \n",
              "  xxmaj divine grace - \n",
              "  xxmaj divine healing - \n",
              "  xxmaj divine xxmaj liturgy - \n",
              "  xxmaj divine providence - \n",
              "  xxmaj divine simplicity - \n",
              "  xxmaj doctor of the xxmaj church - \n",
              "  xxmaj doctrine xxmaj doctrine - \n",
              "  xxmaj doctrine and xxmaj covenants - \n",
              "  xxmaj documentary hypothesis - \n",
              "  xxmaj dogmatic definition - \n",
              "  xxmaj dogma - \n",
              "  xxmaj dominican xxmaj order - \n",
              "  xxmaj dominion xxmaj theology - \n",
              "  xxmaj dominus xxmaj iesus - \n",
              "  xxmaj douai xxmaj bible - \n",
              "  xxmaj xxunk \n",
              " \n",
              " \n",
              "  = = e = = \n",
              "  xxmaj early xxmaj christianity - \n",
              "  xxmaj early xxmaj muslim philosophy - \n",
              "  xxmaj earth religion - \n",
              "  xxmaj east – xxmaj west xxmaj schism - \n",
              "  xxmaj easter - \n",
              "  xxmaj eastern xxmaj christianity - \n",
              "  xxmaj eastern xxmaj orthodox xxmaj church organization - \n",
              "  xxmaj eastern xxmaj orthodoxy - \n",
              "  xxmaj eastern xxmaj rite xxmaj catholic xxmaj churches - \n",
              "  xxmaj ecclesia ( sociology of religion ) - \n",
              "  xxmaj ecclesial communities contrasted - \n",
              "  xxmaj ecclesiology - \n",
              "  xxmaj eckankar - \n",
              "  xxmaj economics of religion - \n",
              "  xxmaj economy ( xxmaj eastern xxmaj orthodoxy ) - \n",
              "  xxmaj ecumenical - \n",
              "  xxmaj ecumenical council - \n",
              "  xxmaj ecumenism - \n",
              "  xxmaj mary xxmaj baker xxmaj eddy - \n",
              "  xxmaj jonathan xxmaj edwards ( theology ) - \n",
              "  xxmaj egyptian mythology - \n",
              "  xxmaj emanationism - \n",
              "  xxmaj emergency baptism - \n",
              "  xxmaj emerging xxmaj church - \n",
              "  xxmaj the xxmaj enlightenment - \n",
              "  xxmaj end of the world - \n",
              "  xxmaj end times - \n",
              "  xxmaj epiclesis - \n",
              "  xxmaj epiphany - \n",
              "  xxmaj episcopacy - \n",
              "  xxmaj episcopalian - \n",
              "  xxmaj episcopal xxmaj church in the xxmaj united xxmaj states of xxmaj america - \n",
              "  xxmaj episcopal xxmaj church in xxmaj jerusalem and the xxmaj middle xxmaj east - \n",
              "  xxmaj episcopal xxmaj church of xxmaj scotland - \n",
              "  xxmaj episcopal see - \n",
              "  xxmaj eritrean xxmaj orthodox xxmaj church - \n",
              "  xxmaj xxunk - \n",
              "  xxmaj eschatology - \n",
              "  xxmaj esoteric cosmology - \n",
              "  xxmaj eternal xxmaj marriage - \n",
              "  xxmaj eternity xxmaj eternity - \n",
              "  xxmaj ethics - \n",
              "  xxmaj eucharist - \n",
              "  xxmaj evangelicalism - \n",
              "  xxmaj evolution - \n",
              "  xxmaj ex cathedra - \n",
              "  xxmaj excommunication - \n",
              "  xxmaj book of xxmaj exodus - \n",
              "  xxmaj exorcism - \n",
              "  xxmaj expository preaching - \n",
              "  xxmaj extra xxmaj xxunk xxmaj xxunk xxmaj xxunk \n",
              " \n",
              " \n",
              "  = = f = = \n",
              "  xxmaj faith - \n",
              "  xxmaj fall - \n",
              "  xxmaj fallen angel - \n",
              "  xxmaj free xxmaj christians ( xxmaj britain ) - \n",
              "  xxmaj feast of the xxmaj xxunk - \n",
              "  xxmaj fetishism - \n",
              "  xxmaj fideism - \n",
              "  xxmaj filioque clause - \n",
              "  xxmaj first xxmaj vatican xxmaj council - \n",
              "  xxmaj five xxmaj pillars of xxmaj islam - \n",
              "  xxmaj five solas - \n",
              "  xxmaj fleur de lys - \n",
              "  xxmaj flirty xxmaj fishing - \n",
              "  xxmaj flying xxmaj spaghetti xxmaj monster - \n",
              "  xxmaj folk religion - \n",
              "  xxmaj forgiveness - \n",
              "  xxmaj xxunk xxmaj xxunk - \n",
              "  xxmaj free xxmaj church of xxmaj scotland - \n",
              "  xxmaj free will - \n",
              "  xxmaj full communion - \n",
              "  xxmaj full xxmaj gospel - \n",
              "  xxmaj fundamentalism - \n",
              "  xxmaj funeral \n",
              " \n",
              " \n",
              "  = = g = = \n",
              "  xxmaj gabriel - \n",
              "  xxmaj gautama xxmaj buddha - \n",
              "  xxmaj genesis - \n",
              "  xxmaj geneva xxmaj bible - \n",
              "  xxmaj genie - \n",
              "  xxmaj gersonides - \n",
              "  xxmaj glossolalia - \n",
              "  xxmaj gnosticism - \n",
              "  xxmaj god - \n",
              "  xxmaj god and gender - \n",
              "  xxmaj goddess worship - \n",
              "  xxmaj goddess - \n",
              "  xxmaj godhead ( xxmaj christianity ) - \n",
              "  xxmaj gog - \n",
              "  xxmaj the xxmaj golden xxmaj bough - \n",
              "  xxmaj gospel of xxmaj john - \n",
              "  xxmaj gospel of xxmaj luke - \n",
              "  xxmaj gospel of xxmaj mark - \n",
              "  xxmaj gospel of xxmaj matthew - \n",
              "  xxmaj grace - \n",
              "  xxmaj great xxmaj apostasy - \n",
              "  xxmaj great xxmaj bible - \n",
              "  xxmaj greek mythology - \n",
              "  xxmaj greek xxmaj orthodox xxmaj church - \n",
              "  xxmaj greek religion - \n",
              "  xxmaj gregorian calendar - \n",
              "  xxmaj gregorian chant - \n",
              "  xxmaj guru \n",
              " \n",
              " \n",
              "  = = h = = \n",
              "  xxmaj hagiography - \n",
              "  xxmaj hail xxmaj mary - \n",
              "  xxmaj haitian xxmaj vodou - \n",
              "  xxmaj halakha - \n",
              "  xxmaj haredi xxmaj judaism - \n",
              "  xxmaj harran - \n",
              "  xxmaj harrowing of xxmaj hell - \n",
              "  xxmaj xxunk - \n",
              "  xxmaj hasidim - \n",
              "  xxmaj hasidism - \n",
              "  xxmaj heaven - \n",
              "  xxmaj hebrew xxmaj bible - \n",
              "  xxmaj hebrew xxmaj calendar - \n",
              "  xxmaj hebrew - \n",
              "  xxmaj hell - \n",
              "  xxmaj hellenic polytheism - \n",
              "  xxmaj hellenistic religion - \n",
              "  xxmaj henotheism - \n",
              "  xxmaj herem ( censure ) xxmaj talk : xxmaj herem ( censure ) - \n",
              "  xxmaj herem ( priestly gift ) xxmaj talk : xxmaj herem ( priestly gift ) - \n",
              "  xxmaj herem ( war or property ) xxmaj talk : xxmaj herem ( war or property ) - \n",
              "  xxmaj heresy - \n",
              "  xxmaj xxunk - \n",
              "  xxmaj heterodoxy - \n",
              "  xxmaj high xxmaj sabbaths - \n",
              "  xxmaj hinduism - \n",
              "  xxmaj hiram xxmaj xxunk - \n",
              "  xxmaj historical episcopate - \n",
              "  xxmaj history of ancient xxmaj israel and xxmaj judah - \n",
              "  xxmaj history of xxmaj christianity - \n",
              "  xxmaj history of the xxmaj english xxmaj bible - \n",
              "  xxmaj history of xxmaj unfulfilled xxmaj prophecy by xxmaj christians - \n",
              "  xxmaj history of xxmaj islam - \n",
              "  xxmaj holidays - \n",
              "  xxmaj holocaust theology - \n",
              "  xxmaj holocaust - \n",
              "  xxmaj holy card - \n",
              "  xxmaj holy xxmaj day of xxmaj obligation - \n",
              "  xxmaj holy xxmaj inquisition - \n",
              "  xxmaj holy xxmaj living and xxmaj holy xxmaj dying - \n",
              "  xxmaj holy xxmaj orders - \n",
              "  xxmaj holy xxmaj xxunk - \n",
              "  xxmaj holy xxmaj see - \n",
              "  xxmaj holy xxmaj spirit - \n",
              "  xxmaj holy xxmaj synod - \n",
              "  xxmaj holy water - \n",
              "  xxmaj homeric hymns - \n",
              "  xxmaj homosexuality and morality - \n",
              "  xxmaj homosexuality - \n",
              "  xxmaj house church - \n",
              "  xxmaj human sacrifice - \n",
              "  xxmaj humanism - \n",
              "  xxmaj hymn - \n",
              "  xxmaj hyper - xxmaj calvinism - \n",
              " \n",
              " \n",
              "  = = i = = \n",
              "  xxmaj icon - \n",
              "  xxmaj iconoclasm - \n",
              "  xxmaj iconography - \n",
              "  xxmaj iconostasis - \n",
              "  xxmaj idolatry - \n",
              "  xxmaj ifá - \n",
              "  xxmaj iguvine xxmaj tables - \n",
              "  xxmaj imam - \n",
              "  xxmaj impiety - \n",
              "  xxmaj imperial cult - \n",
              "  xxmaj incarnation - \n",
              "  xxmaj indulgence - \n",
              "  xxmaj infidel - \n",
              "  xxmaj inquisition - \n",
              "  xxmaj institute of the xxmaj brothers of the xxmaj christian xxmaj schools - \n",
              "  xxmaj integral thought - \n",
              "  xxmaj intelligent design - \n",
              "  xxmaj intercommunion - \n",
              "  xxmaj involution ( xxunk ) - \n",
              "  xxmaj irreligion - \n",
              "  xxmaj irresistible grace - \n",
              "  xxmaj isaac - \n",
              "  xxmaj isaiah - \n",
              "  xxmaj xxunk - xxmaj deva - \n",
              "  xxmaj ishmael - \n",
              "  xxmaj islam - \n",
              "  xxmaj islam and anti - xxmaj semitism - \n",
              "  xxmaj islam and xxmaj judaism - \n",
              "  xxmaj islamic calendar - \n",
              "  xxmaj islamic view of xxmaj jesus - \n",
              "  xxmaj islamism - \n",
              "  xxmaj israel \n",
              " \n",
              " \n",
              "  = = j = = \n",
              "  xxmaj jacob - \n",
              "  xxmaj jainism - \n",
              "  xxmaj james the xxmaj just - \n",
              "  xxmaj jehovah 's xxmaj witnesses - \n",
              "  xxmaj jehovah 's xxmaj witnesses and the xxmaj holocaust - \n",
              "  xxmaj jerusalem - \n",
              "  xxmaj jesus as xxmaj christ and xxmaj messiah - \n",
              "  xxmaj jesus - \n",
              "  xxmaj jew - \n",
              "  xxmaj jewish eschatology - \n",
              "  xxmaj jewish fundamentalism - \n",
              "  xxmaj jewish history timeline - \n",
              "  xxmaj jewish holidays - \n",
              "  xxmaj jewish principles of faith - \n",
              "  xxmaj jewish services - \n",
              "  xxmaj jewish xxmaj theological xxmaj seminary of xxmaj america - \n",
              "  xxmaj jewish views on marriage - \n",
              "  xxmaj jewish views on religious pluralism - \n",
              "  xxmaj jews for xxmaj jesus - \n",
              "  xxmaj jihad - \n",
              "  xxmaj jubilee ( xxmaj biblical ) - \n",
              "  xxmaj jubilee ( xxmaj christian ) - \n",
              "  xxmaj judaism - \n",
              "  xxmaj jumu'ah - \n",
              "  xxmaj justification ( theology ) - \n",
              " \n",
              " \n",
              "  = = k = = \n",
              "  xxmaj kabbalah - \n",
              "  xxmaj kairos - \n",
              "  xxmaj kairos retreat - \n",
              "  xxmaj karaite xxmaj judaism - \n",
              "  xxmaj karma - \n",
              "  xxmaj kashrut - \n",
              "  xxmaj kenosis - \n",
              "  xxmaj king xxmaj james xxmaj version of the xxmaj bible - \n",
              "  xxmaj king - xxmaj james - xxmaj only xxmaj movement - \n",
              "  xxmaj kingdom of xxmaj israel ( xxmaj samaria ) - \n",
              "  xxmaj kohen - \n",
              "  xxmaj kollel - \n",
              "  xxmaj korban - \n",
              "  xxmaj krishna \n",
              " \n",
              " \n",
              "  = = l = = \n",
              "  xxmaj laity - \n",
              "  xxmaj last xxmaj judgment - \n",
              "  xxmaj latin xxmaj rite - \n",
              "  xxmaj latria - \n",
              "  xxmaj xxunk - \n",
              "  xxmaj latter xxmaj rain xxmaj movement - \n",
              "  xxmaj lay presidency - \n",
              "  xxmaj lay xxmaj reader - \n",
              "  xxmaj lector - \n",
              "  xxmaj legalism ( theology ) - \n",
              "  xxmaj leviathan - \n",
              "  xxmaj leviticus - \n",
              "  xxmaj liberal xxmaj judaism ( disambiguation ) - \n",
              "  xxmaj light xxmaj upon xxmaj light - \n",
              "  xxmaj lilith - \n",
              "  xxmaj limited atonement - \n",
              "  xxmaj liturgical colours - \n",
              "  xxmaj liturgical hymn - \n",
              "  xxmaj liturgical xxmaj year - \n",
              "  xxmaj liturgy - \n",
              "  xxmaj louisiana xxmaj voodoo - \n",
              "  xxmaj luciferianism - \n",
              "  xxmaj lucifer - \n",
              "  xxmaj lupercalia - \n",
              "  xxmaj lutheran xxmaj church \n",
              " \n",
              " \n",
              "  = = m = = \n",
              "  xxmaj magic ( paranormal ) - \n",
              "  xxmaj magic ( religion ) - \n",
              "  xxmaj magnificat - \n",
              "  xxmaj magus - \n",
              "  xxmaj mahayana - \n",
              "  xxmaj maimonides - \n",
              "  xxmaj major orders - \n",
              "  xxmaj xxunk - \n",
              "  xxmaj manichaeism - \n",
              "  xxmaj marcionism - \n",
              "  xxmaj marian apparitions - \n",
              "  xxmaj maronite - \n",
              "  xxmaj marriage - \n",
              "  xxmaj mary , the mother of xxmaj jesus - \n",
              "  xxmaj masoretic text - \n",
              "  xxmaj masorti - \n",
              "  xxmaj mass ( liturgy ) - \n",
              "  xxmaj mass ( music ) - \n",
              "  xxmaj massacre of the xxmaj innocents - \n",
              "  xxmaj cotton xxmaj mather - \n",
              "  xxmaj increase xxmaj mather - \n",
              "  xxmaj meditation - \n",
              "  xxmaj xxunk - \n",
              "  xxmaj xxunk - \n",
              "  xxmaj mephistopheles - \n",
              "  xxmaj merkabah - \n",
              "  xxmaj messiah - \n",
              "  xxmaj messianic xxmaj judaism - \n",
              "  xxmaj methodism - \n",
              "  xxmaj methods of divination - \n",
              "  xxmaj metrical psalter - \n",
              "  xxmaj metropolitan bishop - \n",
              "  xxmaj michael ( archangel ) - \n",
              "  xxmaj midrash - \n",
              "  xxmaj xxunk - \n",
              "  xxmaj millennialism - \n",
              "  xxmaj millerites - \n",
              "  xxmaj minor orders - \n",
              "  xxmaj minority religion - \n",
              "  xxmaj miracle - \n",
              "  xxmaj mishnah - \n",
              "  xxmaj mithraism - \n",
              "  xxmaj mitzvah - \n",
              "  xxmaj modern xxmaj orthodox xxmaj judaism - \n",
              "  xxmaj moloch - \n",
              "  xxmaj monastery - \n",
              "  xxmaj monasticism - \n",
              "  xxmaj monk - \n",
              "  xxmaj monophysitism - \n",
              "  xxmaj monotheism - \n",
              "  xxmaj moral community - \n",
              "  xxmaj moravian xxmaj church - \n",
              "  xxmaj moriah - \n",
              "  xxmaj mormonism - \n",
              "  xxmaj edgardo xxmaj mortara - \n",
              "  xxmaj moses - \n",
              "  xxmaj mosque - \n",
              "  xxmaj mount xxmaj sinai - \n",
              "  xxmaj mourning - \n",
              "  xxmaj muhammad - \n",
              "  xxmaj xxunk worship - \n",
              "  xxmaj mun ( religion ) - \n",
              "  xxmaj mussar xxmaj movement - \n",
              "  xxmaj mysticism - \n",
              "  xxmaj myths and legends surrounding the xxmaj papacy \n",
              " \n",
              " \n",
              "  = = n = = \n",
              "  xxmaj xxunk - \n",
              "  xxmaj natural theology - \n",
              "  xxmaj neo - druidism - \n",
              "  xxmaj neopaganism - \n",
              "  xxmaj nestorianism - \n",
              "  xxmaj new xxmaj age - \n",
              "  xxmaj new moon - \n",
              "  xxmaj new xxmaj testament - \n",
              "  xxmaj nicene xxmaj creed - \n",
              "  xxmaj nirvana ( concept ) - \n",
              "  xxmaj nirvana ( xxmaj jainism ) - \n",
              "  xxmaj non - xxmaj abrahamic religion - \n",
              "  xxmaj nontheistic religions - \n",
              "  xxmaj nontrinitarianism - \n",
              "  xxmaj norse mythology - \n",
              "  xxmaj numinous - \n",
              "  xxmaj number of the xxmaj beast ( numerology ) \n",
              " \n",
              " \n",
              "  = = o = = \n",
              "  xxmaj oahspe - \n",
              "  xxmaj occult - \n",
              "  xxmaj old xxmaj english xxmaj bible translations - \n",
              "  xxmaj old xxmaj testament - \n",
              "  xxmaj omen - \n",
              "  xxmaj omnipotence - \n",
              "  xxmaj omniscience - \n",
              "  xxmaj one xxmaj holy xxmaj catholic and xxmaj apostolic xxmaj church - \n",
              "  xxmaj opus xxmaj dei - \n",
              "  xxmaj order of the xxmaj solar xxmaj temple - \n",
              "  xxmaj organizational structure of xxmaj jehovah 's xxmaj witnesses - \n",
              "  xxmaj oriental xxmaj orthodoxy - \n",
              "  xxmaj original sin - \n",
              "  xxmaj orthodoxy - \n",
              "  xxmaj orthodox xxmaj bahá'í xxmaj faith - \n",
              "  xxmaj orthodox xxmaj christian xxmaj mission xxmaj center - \n",
              "  xxmaj orthodox xxmaj judaism \n",
              " \n",
              " \n",
              "  = = p = = \n",
              "  xxmaj paganism - \n",
              "  xxmaj pali canon - \n",
              "  xxmaj pali - \n",
              "  xxmaj panentheism - \n",
              "  xxmaj xxunk xxmaj lingua - \n",
              "  xxmaj pantheism - \n",
              "  xxmaj papal abdication - \n",
              "  xxmaj papal bull - \n",
              "  xxmaj papal xxmaj coronation - \n",
              "  xxmaj papal election - \n",
              "  xxmaj papal xxmaj infallibility - \n",
              "  xxmaj papal xxmaj states - \n",
              "  xxmaj papal xxmaj tiara - \n",
              "  xxmaj paradise - \n",
              "  xxmaj xxunk - \n",
              "  xxmaj parousia - \n",
              "  xxmaj particular church - \n",
              "  xxmaj passover - \n",
              "  xxmaj patriarch - \n",
              "  xxmaj patron god - \n",
              "  xxmaj patron saint - \n",
              "  xxmaj paul of xxmaj tarsus - \n",
              "  xxmaj pauline xxmaj christianity - \n",
              "  xxmaj peace - \n",
              "  xxmaj pearl of xxmaj great xxmaj price - \n",
              "  xxmaj pelagianism - \n",
              "  xxmaj pentateuch - \n",
              "  xxmaj pentecostalism - \n",
              "  xxmaj people of the xxmaj book - \n",
              "  xxmaj permanent deacon - \n",
              "  xxmaj perpetual virginity of xxmaj mary - \n",
              "  xxmaj persecution of xxmaj christians - \n",
              "  xxmaj persian religions - \n",
              "  xxmaj peter - \n",
              "  xxmaj pharisee - \n",
              "  xxmaj philistine - \n",
              "  xxmaj philosophy of religion - \n",
              "  xxmaj xxunk - \n",
              "  xxmaj pietism - \n",
              "  xxmaj pilgrim 's xxmaj progress - \n",
              "  xxmaj pilgrimage - \n",
              "  xxmaj plural xxmaj marriage ( xxmaj mormonism ) - \n",
              "  xxmaj political religion - \n",
              "  xxmaj polytheism - \n",
              "  xxmaj polytheistic reconstructionism - \n",
              "  xxmaj pontiff - \n",
              "  xxmaj pontifex xxmaj maximus - \n",
              "  xxmaj pope - \n",
              "  xxmaj port - xxmaj royal - \n",
              "  xxmaj posek - \n",
              "  xxmaj pow - wow ( folk magic ) - \n",
              "  xxmaj practices of xxmaj jehovah 's xxmaj witnesses - \n",
              "  xxmaj prakrit - \n",
              "  xxmaj praxis ( xxmaj orthodox ) - \n",
              "  xxmaj prayer - \n",
              "  xxmaj prayer for the dead - \n",
              "  xxmaj predestination - \n",
              "  xxmaj pre - existence - \n",
              "  xxmaj presbyterian - \n",
              "  xxmaj presbyterian xxmaj church - \n",
              "  xxmaj presbytery ( sacred architecture ) - \n",
              "  xxmaj prevenient grace - \n",
              "  xxmaj priesthood ( xxmaj mormonism ) - \n",
              "  xxmaj priesthood of all believers - \n",
              "  xxmaj priest - \n",
              "  xxmaj primacy of the xxmaj roman xxmaj pontiff - \n",
              "  xxmaj primate ( bishop ) - \n",
              "  xxmaj probabilism - \n",
              "  xxmaj the problem of evil - \n",
              "  xxmaj the problem of xxmaj hell - \n",
              "  xxmaj process theology - \n",
              "  xxmaj projects working for peace among xxmaj israelis and xxmaj arabs - \n",
              "  xxmaj prophet - \n",
              "  xxmaj prophets of xxmaj islam - \n",
              "  xxmaj protestantism - \n",
              "  xxmaj protestant xxmaj reformation - \n",
              "  xxmaj proto - xxmaj indo - xxmaj european religion - \n",
              "  xxmaj psalm - \n",
              "  xxmaj psalms of xxmaj asaph - \n",
              "  xxmaj pseudoscience - \n",
              "  xxmaj xxunk - \n",
              "  xxmaj purgatory - \n",
              "  xxmaj purim - \n",
              "  xxmaj puritan - \n",
              "  xxmaj pythagoreanism \n",
              " \n",
              " \n",
              "  = = q = = \n",
              "  xxmaj quietism ( xxmaj christian philosophy ) - \n",
              "  xxmaj qur'an \n",
              " \n",
              " \n",
              "  = = r = = \n",
              "  xxmaj rabbi - \n",
              "  xxmaj rabbinical xxmaj assembly - \n",
              "  xxmaj rabbinic literature - \n",
              "  xxmaj raëlism - \n",
              "  xxmaj raja xxmaj yoga - \n",
              "  xxmaj rama - \n",
              "  xxmaj ramadan - \n",
              "  xxmaj raphael ( angel ) - \n",
              "  xxmaj rastafari movement - \n",
              "  xxmaj rationalism - \n",
              "  xxmaj rebbe - \n",
              "  xxmaj rebirth - \n",
              "  xxmaj reconstructionist xxmaj judaism - \n",
              "  xxmaj red xxmaj sea - \n",
              "  xxmaj reform xxmaj judaism - \n",
              "  xxmaj reincarnation - \n",
              "  xxmaj religion - \n",
              "  xxmaj religion and abortion - \n",
              "  xxmaj religion and homosexuality - \n",
              "  xxmaj religion in xxmaj ancient xxmaj rome - \n",
              "  xxmaj religion in xxmaj canada - \n",
              "  xxmaj religion in xxmaj germany - \n",
              "  xxmaj religion in xxmaj india - \n",
              "  xxmaj religion in the xxmaj united xxmaj states - \n",
              "  xxmaj religious aspects of marriage - \n",
              "  xxmaj religious conversion - \n",
              "  xxmaj religious cosmology - \n",
              "  xxmaj religious denomination - \n",
              "  xxmaj religious ecstasy - \n",
              "  xxmaj religious xxmaj humanism - \n",
              "  xxmaj religious intolerance - \n",
              "  xxmaj religious persecution - \n",
              "  xxmaj religious pluralism - \n",
              "  xxmaj religious studies - \n",
              "  xxmaj repentance - \n",
              "  xxmaj requiem - \n",
              "  xxmaj responsa - \n",
              "  xxmaj restorationism ( xxmaj christian primitivism ) - \n",
              "  xxmaj restoration ( xxmaj mormonism ) - \n",
              "  xxmaj resurrection - \n",
              "  xxmaj resurrection of xxmaj jesus - \n",
              "  xxmaj revelation - \n",
              "  xxmaj reverence - \n",
              "  xxmaj rhema - \n",
              "  xxup rhema xxmaj bible xxmaj training xxmaj center - \n",
              "  xxmaj righteousness - \n",
              "  xxmaj role of women in xxmaj judaism - \n",
              "  xxmaj roman xxmaj catholic xxmaj church sex abuse allegations - \n",
              "  xxmaj romanian xxmaj orthodox xxmaj church - \n",
              "  xxmaj roman mythology - \n",
              "  xxmaj romans road - \n",
              "  xxmaj rosh xxmaj hashanah \n",
              " \n",
              " \n",
              "  = = s = = \n",
              "  xxmaj sabbath economics - \n",
              "  xxmaj sabbath in xxmaj christianity - \n",
              "  xxmaj sabbath in seventh - day churches - \n",
              "  xxmaj sabbath mode - \n",
              "  xxmaj sabbath xxmaj school - \n",
              "  xxmaj sabellianism - \n",
              "  xxmaj sabians - \n",
              "  xxmaj sacrament - \n",
              "  xxmaj sacramental character - \n",
              "  xxmaj sacramental index - \n",
              "  xxmaj sacred ( comparative religion ) - \n",
              "  xxmaj sacred xxmaj heart - \n",
              "  xxmaj sacred king - \n",
              "  xxmaj sacred language - \n",
              "  xxmaj sacred text - \n",
              "  xxmaj sacred xxmaj tradition - \n",
              "  xxmaj sacrifice - \n",
              "  xxmaj xxunk - \n",
              "  xxmaj sai xxmaj baba - \n",
              "  xxmaj xxunk - \n",
              "  xxmaj saint - \n",
              "  xxmaj saints , calendar of - \n",
              "  xxmaj salvation - \n",
              "  xxmaj samael - \n",
              "  xxmaj sanctification - \n",
              "  xxmaj sanskrit - \n",
              "  xxmaj sarah - \n",
              "  xxmaj satanism - \n",
              "  xxmaj satan - \n",
              "  xxmaj sathya xxmaj sai xxmaj baba - \n",
              "  xxmaj saturday - \n",
              "  xxmaj saturnalia - \n",
              "  xxmaj scapegoat - \n",
              "  xxmaj scientology xxmaj in xxmaj australia - \n",
              "  xxmaj scofield xxmaj reference xxmaj bible - \n",
              "  xxmaj seal of the xxmaj prophets - \n",
              "  xxmaj second xxmaj coming - \n",
              "  xxmaj second xxmaj great xxmaj awakening - \n",
              "  xxmaj second xxmaj vatican xxmaj council - \n",
              "  xxmaj secondary conversion - \n",
              "  xxmaj sect - \n",
              "  xxmaj secular humanism - \n",
              "  xxmaj seder - \n",
              "  xxmaj sede vacante - \n",
              "  xxmaj sedevacantism - \n",
              "  xxmaj seir - \n",
              "  xxmaj sephardic xxmaj judaism - \n",
              "  xxmaj sephardi - \n",
              "  xxmaj septuagint - \n",
              "  xxmaj seraph - \n",
              "  xxmaj sermon on the xxmaj mount - \n",
              "  xxmaj sermon - \n",
              "  xxmaj seven - day week - \n",
              "  xxmaj shabbat - \n",
              "  xxmaj shabbat ( xxmaj talmud ) - \n",
              "  xxmaj xxunk - \n",
              "  xxmaj shabbos goy - \n",
              "  xxmaj shamanism - \n",
              "  xxmaj xxunk - \n",
              "  xxmaj sharia - \n",
              "  xxmaj shavuot - \n",
              "  xxmaj shiite - \n",
              "  xxmaj shinto - \n",
              "  xxmaj shirk ( idolatry ) - \n",
              "  xxmaj shiva - \n",
              "  xxmaj shmita - \n",
              "  xxmaj shofar - \n",
              "  xxmaj shrine - \n",
              "  xxmaj shrines to the xxmaj virgin xxmaj mary - \n",
              "  xxmaj shunning - \n",
              "  xxmaj siddur - \n",
              "  xxmaj sikhism - \n",
              "  xxmaj sign of the cross - \n",
              "  xxmaj signs and xxmaj wonders - \n",
              "  xxmaj simony - \n",
              "  xxmaj sin - \n",
              "  xxmaj sira - \n",
              "  xxmaj skepticism - \n",
              "  xxmaj sky xxmaj father - \n",
              "  xxmaj slain in the xxmaj spirit - \n",
              "  xxmaj smith , xxmaj joseph , xxmaj jr. - \n",
              "  xxmaj xxunk - \n",
              "  xxmaj xxunk - \n",
              "  xxmaj sodom and xxmaj gomorrah - \n",
              "  xxmaj sol xxmaj invictus - \n",
              "  xxmaj solar xxmaj deity - \n",
              "  xxmaj soul sleep - \n",
              "  xxmaj spirit - \n",
              "  xxmaj spiritism - \n",
              "  xxmaj spiritual ( music ) - \n",
              "  xxmaj spiritual possession - \n",
              "  xxmaj spiritualism ( religious movement ) - \n",
              "  xxmaj spiritualism - \n",
              "  xxmaj spirituality - \n",
              "  xxmaj state religion - \n",
              "  xxmaj stations of the xxmaj cross - \n",
              "  xxmaj suburbicarian diocese - \n",
              "  xxmaj succubus - \n",
              "  xxmaj sufi - \n",
              "  xxmaj xxunk - \n",
              "  xxmaj sukkot - \n",
              "  xxmaj sumerian religion - \n",
              "  xxmaj sunnah - \n",
              "  xxmaj sunni - \n",
              "  xxmaj supernatural - \n",
              "  xxmaj supersessionism - \n",
              "  xxmaj superstition - \n",
              "  xxmaj supreme xxmaj pontiff - \n",
              "  xxmaj surat xxmaj shabd xxmaj yoga - \n",
              "  xxmaj sutra - \n",
              "  xxmaj sydney xxmaj anglicans - \n",
              "  xxmaj syllabus of xxmaj errors - \n",
              "  xxmaj synagogue - \n",
              "  xxmaj syncretism \n",
              " \n",
              " \n",
              "  = = t = = \n",
              "  xxmaj tathagatagarbha doctrine - \n",
              "  xxmaj tallit - \n",
              "  xxmaj talmud - \n",
              "  xxmaj tanakh - \n",
              "  xxmaj taoism - \n",
              "  xxmaj tawhid - \n",
              "  xxmaj tefillin - \n",
              "  xxmaj temple in xxmaj jerusalem - \n",
              "  xxmaj temple ( xxmaj latter xxmaj day xxmaj saints ) - \n",
              "  xxmaj temple - \n",
              "  xxmaj ten xxmaj commandments - \n",
              "  xxmaj the xxmaj ten xxmaj gurus of xxmaj sikhism - \n",
              "  xxmaj territorial xxmaj spirits - \n",
              "  xxmaj tetragrammaton - \n",
              "  xxmaj thai lunar calendar - \n",
              "  xxmaj thealogy - \n",
              "  xxmaj theism - \n",
              "  xxmaj theodicy - \n",
              "  xxmaj theology - \n",
              "  xxmaj theoria - \n",
              "  xxmaj theosis - \n",
              "  xxmaj theosophy ( xxmaj xxunk ) - \n",
              "  xxmaj theosophy ( xxmaj xxunk ) - \n",
              "  xxmaj theravada - \n",
              "  xxmaj third xxmaj wave of the xxmaj holy xxmaj spirit - \n",
              "  xxmaj thirty - xxmaj nine xxmaj articles - \n",
              "  xxmaj three - xxmaj chapter xxmaj controversy - \n",
              "  xxmaj three xxmaj wise xxmaj men - \n",
              "  xxmaj tibetan xxmaj buddhism - \n",
              "  xxmaj tipitaka - \n",
              "  xxmaj torah study - \n",
              "  xxmaj torah - \n",
              "  xxmaj tosefta - \n",
              "  xxmaj total depravity - \n",
              "  xxmaj totemism - \n",
              "  xxmaj toward the xxmaj light - \n",
              "  xxmaj tract ( liturgy ) - \n",
              "  xxmaj transcendentalism - \n",
              "  xxmaj transfiguration - \n",
              "  xxmaj transubstantiation - \n",
              "  xxmaj translation ( religion ) - \n",
              "  xxmaj trimurti - \n",
              "  xxmaj trinitarian formula - \n",
              "  xxmaj trinitarianism - \n",
              "  xxmaj trinity - \n",
              "  xxmaj xxunk - \n",
              "  xxmaj tutelary \n",
              " \n",
              " \n",
              "  = = u = = \n",
              "  xxmaj umbanda - \n",
              "  xxmaj unitarianism - \n",
              "  xxmaj unitarian xxmaj universalism - \n",
              "  xxmaj unitarian xxmaj universalist xxmaj association - \n",
              "  xxmaj united xxmaj synagogue of xxmaj conservative xxmaj judaism - \n",
              "  xxmaj universalism - \n",
              "  xxmaj universi xxmaj dominici gregis - \n",
              "  xxmaj upanishad - \n",
              "  xxmaj uposatha - \n",
              "  xxmaj the xxmaj urantia xxmaj book - \n",
              "  xxmaj uriel - \n",
              "  xxmaj xxunk \n",
              " \n",
              " \n",
              "  = = v = = \n",
              "  xxmaj vajrayana - \n",
              "  xxmaj the xxmaj varieties of xxmaj religious xxmaj experience - \n",
              "  xxmaj vatican xxmaj city - \n",
              "  xxmaj vatican xxmaj hill - \n",
              "  xxmaj vatican xxup ii - \n",
              "  xxmaj veneration - \n",
              "  xxmaj vespers - \n",
              "  xxmaj vetus xxmaj latina - \n",
              "  xxmaj xxunk - \n",
              "  xxmaj vineyard xxmaj movement - \n",
              "  xxmaj viruses of the xxmaj mind - \n",
              "  xxmaj vishnu - \n",
              "  xxmaj vow of celibacy - \n",
              "  xxmaj vulgate \n",
              " \n",
              " \n",
              "  = = w = = \n",
              "  xxmaj wahhabi - \n",
              "  xxmaj week - \n",
              "  xxmaj charles xxmaj wesley - \n",
              "  xxmaj john xxmaj wesley - \n",
              "  xxmaj west xxmaj african xxmaj vodun - \n",
              "  xxmaj western xxmaj orthodoxy - \n",
              "  xxmaj western xxmaj schism - \n",
              "  xxmaj western xxmaj wall - \n",
              "  xxmaj westminster xxmaj confession of xxmaj faith - \n",
              "  xxmaj westminster xxmaj larger xxmaj catechism - \n",
              "  xxmaj westminster xxmaj shorter xxmaj catechism - \n",
              "  xxmaj wheel of the xxmaj year - \n",
              "  xxmaj ellen xxup g. xxmaj white - \n",
              "  xxmaj the xxmaj white xxmaj goddess - \n",
              "  xxmaj whore of xxmaj babylon - \n",
              "  xxmaj wicca - \n",
              "  xxmaj roger xxmaj williams - \n",
              "  xxmaj john xxmaj wimber - \n",
              "  xxmaj witches ' xxmaj sabbath - \n",
              "  xxmaj witch of xxmaj endor - \n",
              "  xxmaj women - \n",
              "  xxmaj word of xxmaj knowledge - \n",
              "  xxmaj worship - \n",
              "  xxmaj worship dance \n",
              " \n",
              " \n",
              "  = = x = = \n",
              "  xxmaj xmas \n",
              " \n",
              " \n",
              "  = = y = = \n",
              "  xxmaj yahweh - \n",
              "  xxmaj yeshiva xxmaj university - \n",
              "  xxmaj yeshiva - \n",
              "  xxmaj yeshu - \n",
              "  xxmaj yeshua ( name ) - \n",
              "  xxmaj yom xxmaj kippur - \n",
              "  xxmaj yoruba mythology - \n",
              "  xxmaj brigham xxmaj young - \n",
              " \n",
              " \n",
              "  = = z = = \n",
              "  xxmaj zen - \n",
              "  xxmaj zionism - \n",
              "  xxmaj zohar - \n",
              "  xxmaj zoroaster - \n",
              "  xxmaj zoroastrianism \n",
              " \n",
              " \n",
              "  = = xxmaj lists = =,xxbos xxmaj the xxmaj jewish tradition that there are 613 commandments ( xxmaj hebrew : xxunk xxunk , romanized : xxunk mitzvot ) or mitzvot in the xxmaj torah ( also known as the xxmaj law of xxmaj moses ) began in the 3rd century xxup ce , when xxmaj rabbi xxmaj xxunk mentioned it in a sermon that is recorded in xxmaj talmud xxmaj xxunk xxunk . xxmaj although there have been a lot of attempts to codify and xxunk the commandments contained in the xxmaj torah , the most traditional enumeration is xxmaj maimonides ' . xxmaj the 613 commandments include \" positive commandments \" , to perform an act ( mitzvot xxunk ) , and \" negative commandments \" , to abstain from certain acts ( mitzvot lo xxunk ) . xxmaj the negative commandments number 365 , which coincides with the number of days in the solar year , and the positive commandments number 248 , a number ascribed to the number of bones and main organs in the human body . xxmaj though the number 613 is mentioned in the xxmaj talmud , its real significance increased in later medieval rabbinic literature , including many works listing or arranged by the mitzvot . xxmaj three types of negative commandments fall under the self - sacrificial principle xxunk xxunk xxunk , meaning \" xxmaj one should let oneself be killed rather than violate it \" . xxmaj these are murder , idolatry , and forbidden sexual relations . xxmaj the 613 mitzvot have been divided also into three general categories : xxunk ; xxunk ; and xxunk . xxmaj xxunk ( \" laws \" ) include commandments that are deemed to be self - evident , such as not to murder and not to steal . xxmaj xxunk ( \" testimonies \" ) commemorate important events in xxmaj jewish history . xxmaj for example , the xxmaj shabbat is said to testify to the story that xxmaj hashem created the world in six days and rested on the seventh day and declared it holy . xxmaj xxunk ( \" decrees \" ) are commandments with no known rationale , and are perceived as pure manifestations of the xxmaj divine will . xxmaj many of the mitzvot can not be observed now , following the destruction of the xxmaj second xxmaj temple , although they still retain religious significance . xxmaj according to one standard reckoning , there are 77 positive and 194 negative commandments that can be observed today , of which there are 26 commands that apply only within the xxmaj land of xxmaj israel . xxmaj furthermore , there are some time - related commandments from which women are exempt ( examples include shofar , sukkah , xxunk , tzitzit and tefillin ) . xxmaj some depend on the special status of a person in xxmaj judaism ( such as kohanim ) , while others apply only to men or only to women . \n",
              " \n",
              " \n",
              "  = = xxmaj significance of 613 = = \n",
              " \n",
              "  xxmaj according to the xxmaj talmud , xxmaj deuteronomy xxunk is to be interpreted to mean that xxmaj moses transmitted the \" xxmaj torah \" from xxmaj god to the xxmaj israelites : \" xxmaj moses commanded us the xxmaj torah as an inheritance for the community of xxmaj jacob \" . \n",
              "  xxmaj the xxmaj talmud notes that the xxmaj hebrew numerical value ( gematria ) of the word \" xxmaj torah \" is 611 , and combining xxmaj moses 's 611 commandments with the first two of the xxmaj ten xxmaj commandments which were the only ones heard directly from xxmaj god , adds up to 613 . xxmaj the xxmaj talmud attributes the number 613 to xxmaj rabbi xxmaj xxunk , but other classical sages who hold this view include xxmaj rabbi xxmaj simeon ben xxmaj xxunk and xxmaj rabbi xxmaj eleazar ben xxmaj xxunk the xxmaj galilean . xxmaj it is quoted in xxmaj midrash xxmaj xxunk xxmaj rabbah xxunk , xxmaj xxunk xxmaj rabbah xxunk ; xxunk and xxmaj talmud xxmaj xxunk xxunk . \n",
              "  xxmaj many xxmaj jewish philosophical and mystical works ( e.g. by xxmaj baal xxunk , the xxmaj xxunk of xxmaj prague and leaders of xxmaj hasidic xxmaj judaism ) find allusions and inspirational calculations relating to the number of commandments . \n",
              "  xxmaj the tzitzit ( \" knotted fringes \" ) of the tallit ( \" [ prayer ] shawl \" ) are connected to the 613 commandments by interpretation : principal xxmaj torah commentator xxmaj rashi bases the number of knots on a gematria : the word tzitzit ( xxmaj hebrew : xxunk ( xxmaj biblical ) , xxunk , in its xxmaj mishnaic spelling ) has the value 600 . xxmaj each tassel has eight threads ( when doubled over ) and five sets of knots , totalling 13 . xxmaj the sum of all numbers is 613 . xxmaj this reflects the concept that donning a garment with tzitzit reminds its wearer of all xxmaj torah commandments . \n",
              " \n",
              " \n",
              "  = = xxmaj dissent and difficulties = = \n",
              "  xxmaj rabbinic support for the number of commandments being 613 is not without dissent . xxmaj for example , xxmaj ben xxmaj xxunk held that there exist 300 positive mitzvot . xxmaj also , even as the number gained acceptance , difficulties arose in xxunk the list . xxmaj some rabbis declared that this count was not an authentic tradition , or that it was not logically possible to come up with a systematic count . xxmaj no early work of xxmaj jewish law or xxmaj biblical commentary depended on the 613 system , and no early systems of xxmaj jewish principles of faith made acceptance of this xxmaj aggadah ( non - legal xxmaj talmudic statement ) normative . a number of classical authorities denied that it was normative : \n",
              " \n",
              "  xxmaj rabbi xxmaj abraham ibn xxmaj ezra denied that this was an authentic rabbinic tradition . xxmaj ibn xxmaj ezra writes \" xxmaj some sages xxunk 613 mitzvot in many diverse ways [ ... ] but in truth there is no end to the number of mitzvot [ ... ] and if we were to count only the root principles [ ... ] the number of mitzvot would not reach xxunk . xxmaj nahmanides held that this particular counting was a matter of rabbinic controversy , and that rabbinic opinion on this is not unanimous . xxmaj nonetheless , he concedes that \" this total has proliferated throughout the aggadic literature ... we ought to say that it was a tradition from xxmaj moses at xxmaj mount xxmaj xxunk . xxmaj rabbi xxmaj simeon ben xxmaj xxunk xxmaj duran likewise rejected the dogma of the 613 as being the sum of the xxmaj law , saying that \" perhaps the agreement that the number of mitzvot is 613 ... is just xxmaj rabbi xxmaj xxunk 's opinion , following his own xxunk of the mitzvot . xxmaj and we need not rely on his xxunk when we come to determine [ and affect ] the xxmaj law , but rather on the xxmaj talmudic xxunk . xxmaj gersonides held that the number 613 was only one rabbi 's ( xxmaj rabbi xxmaj xxunk 's ) opinion , and if the conclusion of a xxmaj talmudic discussion indicated that the number of commandments was greater or lesser than 613 , xxmaj rabbi xxmaj xxunk 's opinion would be overruled . \n",
              "  xxmaj the xxmaj vilna xxmaj gaon suggested that there exist many more than 613 commandments ( because otherwise large narrative parts of the xxmaj pentateuch would be without commandments , which he considered difficult to accept ) and that the count of 613 refers to \" roots \" ( xxunk ) of the other commandments . xxmaj even when rabbis attempted to compile a list of the 613 commandments , they were faced with a number of difficulties : \n",
              " \n",
              "  xxmaj which statements were to be included amongst the 613 commandments ? xxmaj every one of xxmaj god 's commands to any individual or to the entire people of xxmaj israel ? \n",
              "  xxmaj would an order from xxmaj god be counted as a commandment , for the purposes of such a list , if it could only be complied with in one place and time ? xxmaj else , would such an order only count as a commandment if it could be followed at all times ? ( xxmaj the latter is the view of xxmaj maimonides . ) \n",
              "  xxmaj does counting a single commandment depend on whether it falls within one verse , even though it may contain multiple prohibitions , or should each prohibition count as a single xxunk , though , the concept of 613 commandments has become accepted as normative amongst practicing xxmaj jews and today it is still common practice to refer to the total system of commandments within the xxmaj torah as the \" 613 commandments \" , even among those who do not literally accept this count as accurate . xxmaj however , the 613 mitzvot do not constitute a formal code of present - day halakha . xxmaj later codes of law such as the xxmaj xxunk xxmaj arukh and xxmaj xxunk xxmaj xxunk xxmaj arukh do not refer to it . xxmaj however , xxmaj maimonides ' xxmaj mishneh xxmaj torah is prefaced by a count of the 613 mitzvot . \n",
              " \n",
              " \n",
              "  = = xxmaj works xxunk the commandments = = \n",
              "  xxmaj there is no single definitive list that xxunk the 613 commandments . xxmaj lists differ , for example , in how they interpret passages in the xxmaj torah that may be read as dealing with several cases under a single law or several separate laws . xxmaj other \" commandments \" in the xxmaj torah are restricted as one - time acts , and would not be considered as \" mitzvot \" binding on other persons . xxmaj in rabbinic literature , xxmaj rishonim and later scholars composed to articulate and justify their enumeration of the commandments : \n",
              "  xxmaj xxunk xxmaj xxunk ( \" xxmaj great xxmaj laws \" ) , thought to be written by xxmaj rabbi xxmaj simeon xxmaj xxunk ( the xxmaj xxunk ) is the earliest extant enumeration of the 613 mitzvot . \n",
              "  xxmaj sefer ha - xxmaj xxunk ( \" xxmaj book of xxmaj commandments \" ) by xxmaj rabbi xxmaj saadia xxmaj gaon . xxmaj written during the period of the xxmaj geonim , xxmaj saadia 's work is a simple list ( though it was later expanded by xxmaj rabbi xxmaj xxunk xxmaj xxunk xxmaj xxunk . ) \n",
              "  xxmaj sefer xxmaj xxunk ( \" xxmaj book of xxmaj commandments \" ) by xxmaj maimonides , with a commentary by xxmaj xxunk . xxmaj maimonides employs a set of fourteen rules ( xxunk ) which determine inclusion into the list . xxmaj in this work , he supports his specification of each mitzvah through quotations from the midrash halakha and the xxmaj gemara . xxmaj xxunk makes a number of critical points and replaces some items of the list with others . \n",
              "  xxmaj sefer ha - xxmaj xxunk ( \" xxmaj book of xxmaj education \" ) . xxmaj this work generally follows xxmaj maimonides ' reckoning of the 613 commandments . xxmaj it is written in the order in which the commandments appear in the xxmaj torah rather than an arrangement by category ( as in xxmaj maimonides ' work . ) xxmaj in addition to xxunk the commandments and giving a brief overview of relevant laws , the xxmaj sefer ha - xxmaj xxunk also tries to explain the philosophical reasons behind the mitzvot . xxmaj it has been attributed to various authors , most commonly xxmaj rabbi xxmaj aaron ha - xxmaj levi of xxmaj barcelona ( the xxmaj xxunk ) , though its true authorship is unknown . \n",
              "  xxmaj sefer xxmaj mitzvot xxmaj gadol or xxunk ( \" xxmaj large book of xxmaj commandments \" ) by xxmaj rabbi xxmaj moses ben xxmaj jacob of xxmaj xxunk . \n",
              "  xxmaj sefer ha - xxmaj xxunk by xxmaj rabbi xxmaj yisrael xxmaj meir xxmaj kagan ( the \" xxmaj xxunk xxmaj chaim \" ) . xxmaj the xxmaj xxunk xxmaj chaim 's work follows the reckoning of xxmaj maimonides but gives only the commandments relevant today . xxmaj notably , this listing omits commandments regarding temple service , ritual purity , sacrifices , and so on . xxmaj though the original work included only those commandments relevant in all places and at all times , later editions include agricultural laws relevant today only in the xxmaj land of xxmaj israel . \n",
              " \n",
              " \n",
              "  = = = xxmaj works in which the number of commandments is not 613 = = = \n",
              "  xxmaj sefer xxmaj xxunk by xxmaj eliezer ben xxmaj samuel lists only 417 commandments ( including commandments only applicable when the xxmaj temple stood ) . \n",
              "  xxmaj xxunk xxmaj xxunk , in his book xxmaj xxunk xxunk , counted 250 positive and 361 negative commandments , for a total of 611 . xxmaj these 611 include the two commandments of xxmaj exodus xxunk , indicating that this list is incompatible with the approach of r ' xxmaj xxunk in the xxmaj talmud ( who said that of the 613 commandments , the two in xxmaj exodus xxunk were given directly by xxmaj god , and the remaining 611 via xxmaj moses ) . \n",
              "  xxmaj sefer xxmaj xxunk xxmaj katan , by xxmaj rabbi xxmaj isaac of xxmaj corbeil , listed 320 commandments applicable nowadays . xxmaj to reach a total of 613 , one would have to add 293 commandments applicable only while the xxmaj temple stood . xxmaj as the number of xxmaj temple - only commandments appears to be much lower than 293 ( for example , xxmaj sefer xxunk only counted 201 such commandments ) , it seems that the overall count of commandments would likely be lower than 613 . \n",
              "  xxmaj according to xxmaj dr. xxmaj xxunk xxmaj ben - xxmaj or , xxmaj gersonides ' commentary to the xxmaj torah indicates that he counted a total of 513 commandments . \n",
              " \n",
              " \n",
              "  = = xxmaj maimonides ' list = = \n",
              "  xxmaj the following are the 613 commandments and the source of their derivation from the xxmaj hebrew xxmaj bible as enumerated by xxmaj maimonides : \n",
              " \n",
              " \n",
              "  = = = xxmaj canonical order = = = \n",
              " \n",
              " \n",
              "  = = = xxmaj typical order = = = \n",
              " \n",
              " \n",
              "  = = xxmaj see also = = \n",
              "  xxmaj halakha \n",
              "  xxmaj jewish ethics \n",
              "  xxmaj laws and customs of the xxmaj land of xxmaj israel in xxmaj judaism \n",
              "  xxmaj list of capital crimes in the xxmaj torah \n",
              "  xxmaj mitzvah xxunk mitzvah \n",
              " \n",
              " \n",
              "  = = xxmaj references = = \n",
              " \n",
              " \n",
              "  = = xxmaj bibliography = = \n",
              "  xxmaj eisenberg , xxmaj ronald xxup l. xxmaj the 613 xxmaj mitzvot : a xxmaj contemporary xxmaj guide to the xxmaj commandments of xxmaj judaism , xxmaj rockville , xxmaj schreiber xxmaj publishing , 2005 . xxup isbn 0 - xxunk - 303 - 5 \n",
              "  xxmaj moses xxmaj maimonides , translation by xxmaj charles xxmaj xxunk xxmaj xxunk and xxmaj moses ibn xxmaj xxunk . xxmaj the book of divine commandments ( the xxmaj sefer xxmaj ha - xxunk of xxmaj moses xxmaj maimonides ) xxmaj london : xxmaj xxunk xxmaj press , 1940 . \n",
              " \n",
              " \n",
              "  = = xxmaj external links = = \n",
              "  xxmaj enumeration of the commandments according to six different commentators \n",
              "  xxmaj xxunk - \" xxmaj xxunk \" - xxmaj origin of 613 xxmaj commandments \n",
              "  xxmaj judaism 101 : a xxmaj list of the 613 xxmaj commandments \n",
              "  xxmaj jewish xxmaj virtual xxmaj library - xxmaj the 613 xxmaj commandments \n",
              "  xxmaj chabad.org - xxmaj the 613 xxmaj commandments \n",
              "  xxmaj xxunk , xxmaj albert ( 2013 ) . xxmaj crafting the 613 xxmaj commandments : xxmaj maimonides on the xxmaj enumeration , xxmaj classification , and xxmaj formulation of the xxmaj scriptural xxmaj commandments . xxmaj boston : xxmaj academic xxmaj studies xxmaj press . doi:10.2307 / xxunk . xxup jstor xxunk .,xxbos xxmaj abraham ( originally xxmaj abram ) is the common patriarch of the xxmaj abrahamic religions , including xxmaj judaism , xxmaj christianity and xxmaj islam . xxmaj in xxmaj judaism , he is the founding father of the covenant of the pieces , the special relationship between the xxmaj hebrews and xxmaj god ; in xxmaj christianity , he is the prototype of all believers , xxmaj jewish or xxmaj gentile ; and in xxmaj islam he is seen as a link in the chain of prophets that begins with xxmaj adam and culminates in xxmaj muhammad . xxmaj the narrative in the xxmaj book of xxmaj genesis revolves around the themes of posterity and land . xxmaj abraham is called by xxmaj god to leave the house of his father xxmaj terah and settle in the land originally given to xxmaj canaan but which xxmaj god now promises to xxmaj abraham and his progeny . xxmaj various candidates are put forward who might inherit the land after xxmaj abraham ; and , while promises are made to xxmaj ishmael about founding a great nation , xxmaj isaac , xxmaj abraham 's son by his half - sister xxmaj sarah , inherits xxmaj god 's promises to xxmaj abraham . xxmaj abraham purchases a tomb ( the xxmaj cave of the xxmaj patriarchs ) at xxmaj hebron to be xxmaj sarah 's grave , thus establishing his right to the land ; and , in the second generation , his heir xxmaj isaac is married to a woman from his own kin , thus ruling the xxmaj canaanites out of any inheritance . xxmaj abraham later marries xxmaj xxunk and has six more sons ; but , on his death , when he is buried beside xxmaj sarah , it is xxmaj isaac who receives \" all xxmaj abraham 's goods \" , while the other sons receive only \" gifts \" ( xxmaj genesis xxunk xxmaj abraham story can not be definitively related to any specific time , and it is widely agreed that the patriarchal age , along with the exodus and the period of the judges , is a late literary construct that does not relate to any period in actual history . a common hypothesis among scholars is that it was composed in the early xxmaj persian period ( late 6th century xxup bce ) as a result of tensions between xxmaj jewish landowners who had stayed in xxmaj judah during the xxmaj babylonian captivity and traced their right to the land through their \" father xxmaj abraham \" , and the returning exiles who based their counter - claim on xxmaj moses and the xxmaj exodus tradition . \n",
              " \n",
              " \n",
              "  = = xxmaj biblical account = = \n",
              " \n",
              " \n",
              "  = = = xxmaj origins and calling = = = \n",
              "  xxmaj terah , the ninth in descent from xxmaj noah , was the father of three sons : xxmaj abram , xxmaj xxunk , and xxmaj haran . xxmaj the entire family , including grandchildren , lived in xxmaj ur of the xxmaj xxunk . xxmaj according to a midrash , xxmaj abram worked in xxmaj terah 's idol shop in his youth . xxmaj haran was the father of xxmaj lot , and thus xxmaj lot was xxmaj abram 's nephew . xxmaj haran died in his native city , xxmaj ur of the xxmaj xxunk . \n",
              "  xxmaj abram married xxmaj sarah ( xxmaj sarai ) , who was barren . xxmaj terah , with xxmaj abram , xxmaj sarai , and xxmaj lot , then departed for xxmaj canaan , but settled in a place named xxmaj haran , where xxmaj terah died at the age of xxunk xxunk ] xxmaj god had told xxmaj abram to leave his country and kindred and go to a land that he would show him , and promised to make of him a great nation , bless him , make his name great , bless them that bless him , and curse them who may curse xxunk xxunk ] xxmaj abram was 75 years old when he left xxmaj haran with his wife xxmaj sarai , his nephew xxmaj lot , and the substance and souls that they had acquired , and traveled to xxmaj shechem in xxunk xxunk ] \n",
              " \n",
              " \n",
              "  = = = xxmaj sarai = = = \n",
              "  xxmaj there was a severe famine in the land of xxmaj canaan , so that xxmaj abram and xxmaj lot and their households traveled to xxmaj egypt . xxmaj on the way xxmaj abram told xxmaj sarai to say that she was his sister , so that the xxmaj egyptians would not kill xxunk xxunk ] xxmaj when they entered xxmaj egypt , the xxmaj pharaoh 's officials praised xxmaj sarai 's beauty to xxmaj pharaoh , and they took her into the palace and gave xxmaj abram goods in exchange . xxmaj god afflicted xxmaj pharaoh and his household with plagues , which led xxmaj pharaoh to try to find out what was xxunk xxunk ] xxmaj upon discovering that xxmaj sarai was a married woman , xxmaj pharaoh demanded that xxmaj abram and xxmaj sarai xxunk xxunk ] \n",
              " \n",
              " \n",
              "  = = = xxmaj abram and xxmaj lot separate = = = \n",
              " \n",
              "  xxmaj when they came back to the xxmaj bethel and xxmaj hai area , xxmaj abram 's and xxmaj lot 's sizable herds occupied the same pastures . xxmaj this became a problem for the xxunk who were assigned to each family 's cattle . xxmaj the conflicts between xxunk had become so troublesome that xxmaj abram suggested that xxmaj lot choose a separate area , either on the left hand or on the right hand , that there be no conflict amongst brethren . xxmaj lot chose to go eastward to the plain of xxmaj jordan where the land was well watered everywhere as far as xxmaj xxunk , and he dwelled in the cities of the plain toward xxmaj sodom . xxmaj abram went south to xxmaj hebron and settled in the plain of xxmaj xxunk , where he built another altar to worship xxmaj god . \n",
              " \n",
              " \n",
              "  = = = xxmaj xxunk = = = \n",
              " \n",
              "  xxmaj during the rebellion of the xxmaj jordan xxmaj river cities against xxunk xxunk ] xxmaj abram 's nephew , xxmaj lot , was taken prisoner along with his entire household by the invading xxmaj elamite forces . xxmaj the xxmaj elamite army came to collect the spoils of war , after having just defeated the king of xxmaj sodom 's xxunk xxunk ] xxmaj lot and his family , at the time , were settled on the outskirts of the xxmaj kingdom of xxmaj sodom which made them a visible xxunk xxunk person who escaped capture came and told xxmaj abram what happened . xxmaj once xxmaj abram received this news , he immediately assembled 318 trained servants . xxmaj abram 's force headed north in pursuit of the xxmaj elamite army , who were already worn down from the xxmaj battle of xxmaj xxunk . xxmaj when they caught up with them at xxmaj dan , xxmaj abram devised a battle plan by splitting his group into more than one unit , and launched a night raid . xxmaj not only were they able to free the captives , xxmaj abram 's unit chased and slaughtered the xxmaj elamite xxmaj king xxmaj xxunk at xxmaj xxunk , just north of xxmaj damascus . xxmaj they freed xxmaj lot , as well as his household and possessions , and recovered all of the goods from xxmaj sodom that had been xxunk xxunk xxmaj abram 's return , xxmaj sodom 's king came out to meet with him in the xxmaj valley of xxmaj xxunk , the \" king 's dale \" . xxmaj also , xxmaj melchizedek king of xxmaj salem ( xxmaj jerusalem ) , a priest of xxmaj god xxmaj most xxmaj high , brought out bread and wine and blessed xxmaj abram and xxmaj god . xxmaj abram then gave xxmaj melchizedek a tenth of everything . xxmaj the king of xxmaj sodom then offered to let xxmaj abram keep all the possessions if he would merely return his people . xxmaj abram refused any deal from the king of xxmaj sodom , other than the share to which his allies were xxunk xxunk ] \n",
              " \n",
              " \n",
              "  = = = xxmaj covenant of the pieces = = = \n",
              " \n",
              "  xxmaj the voice of the xxmaj lord came to xxmaj abram in a vision and repeated the promise of the land and descendants as numerous as the stars . xxmaj abram and xxmaj god made a covenant ceremony , and xxmaj god told of the future bondage of xxmaj israel in xxmaj egypt . xxmaj god described to xxmaj abram the land that his offspring would claim : the land of the xxmaj xxunk , xxmaj xxunk , xxmaj xxunk , xxmaj hittites , xxmaj xxunk , xxmaj xxunk , xxmaj xxunk , xxmaj canaanites , xxmaj xxunk , and xxunk xxunk ] \n",
              " \n",
              " \n",
              "  = = = xxmaj hagar = = = \n",
              " \n",
              "  xxmaj abram and xxmaj sarai tried to make sense of how he would become a progenitor of nations , because after 10 years of living in xxmaj canaan , no child had been born . xxmaj sarai then offered her xxmaj egyptian xxunk , xxmaj hagar , to xxmaj abram with the intention that she would bear him a son . \n",
              "  xxmaj after xxmaj hagar found she was pregnant , she began to despise her mistress , xxmaj sarai . xxmaj sarai responded by xxunk xxmaj hagar , and xxmaj hagar fled into the wilderness . xxmaj an angel spoke with xxmaj hagar at the fountain on the way to xxmaj xxunk . xxmaj he instructed her to return to the camp of xxmaj abram , and that her son would be \" a wild ass of a man ; his hand shall be against every man , and every man 's hand against him ; and he shall dwell in the face of all his brethren . \" xxmaj she was told to call her son xxmaj ishmael . xxmaj hagar then called xxmaj god who spoke to her \" xxmaj el - roi \" , ( \" xxmaj thou xxmaj god xxunk me : \" xxup kjv ) . xxmaj from that day onward , the well was called xxmaj beer - xxunk - roi , ( \" xxmaj the well of him that xxunk and xxunk me . \" xxup kjv margin ) . xxmaj she then did as she was instructed by returning to her mistress in order to have her child . xxmaj abram was 86 years of age when xxmaj ishmael was xxunk xxunk ] \n",
              " \n",
              " \n",
              "  = = = xxmaj sarah = = = \n",
              "  xxmaj thirteen years later , when xxmaj abram was 99 years of age , xxmaj god declared xxmaj abram 's new name : \" xxmaj abraham \" – \" a father of many xxunk xxunk ] xxmaj abraham then received the instructions for the covenant , of which circumcision was to be the xxunk xxunk declared xxmaj sarai 's new name : \" xxmaj sarah \" , blessed her , and told xxmaj abraham , \" i will give thee a son also of xxunk xxunk ] xxmaj abraham laughed , and \" said in his heart , ' xxmaj shall a child be born unto him that is a hundred years old ? and shall xxmaj sarah , that is ninety years old , xxunk xxunk ] xxmaj immediately after xxmaj abraham 's encounter with xxmaj god , he had his entire household of men , including himself ( age 99 ) and xxmaj ishmael ( age 13 ) , xxunk xxunk ] \n",
              " \n",
              " \n",
              "  = = = xxmaj three visitors = = = \n",
              " \n",
              "  xxmaj not long afterward , during the heat of the day , xxmaj abraham had been sitting at the entrance of his tent by the xxunk of xxmaj xxunk . xxmaj he looked up and saw three men in the presence of xxmaj god . xxmaj then he ran and bowed to the ground to welcome them . xxmaj abraham then offered to wash their feet and fetch them a xxunk of bread , to which they xxunk . xxmaj abraham rushed to xxmaj sarah 's tent to order cakes made from choice flour , then he ordered a servant - boy to prepare a choice calf . xxmaj when all was prepared , he set xxunk , milk and the calf before them , waiting on them , under a tree , as they xxunk xxunk of the visitors told xxmaj abraham that upon his return next year , xxmaj sarah would have a son . xxmaj while at the tent entrance , xxmaj sarah overheard what was said and she laughed to herself about the prospect of having a child at their ages . xxmaj the visitor inquired of xxmaj abraham why xxmaj sarah laughed at bearing a child at her age , as nothing is too hard for xxmaj god . xxmaj frightened , xxmaj sarah denied laughing . \n",
              " \n",
              " \n",
              "  = = = xxmaj abraham 's plea = = = \n",
              " \n",
              "  xxmaj after eating , xxmaj abraham and the three visitors got up . xxmaj they walked over to the peak that overlooked the ' cities of the plain ' to discuss the fate of xxmaj sodom and xxmaj gomorrah for their xxunk sins that were so great , it moved xxmaj god to action . xxmaj because xxmaj abraham 's nephew was living in xxmaj sodom , xxmaj god revealed plans to confirm and judge these cities . xxmaj at this point , the two other visitors left for xxmaj sodom . xxmaj then xxmaj abraham turned to xxmaj god and pleaded xxunk with xxmaj him ( from fifty persons to less ) that \" if there were at least ten righteous men found in the city , would not xxmaj god spare the city ? \" xxmaj for the sake of ten righteous people , xxmaj god declared that he would not destroy the xxunk xxunk the two visitors got to xxmaj sodom to conduct their report , they planned on staying in the city square . xxmaj however , xxmaj abraham 's nephew , xxmaj lot , met with them and strongly insisted that these two \" men \" stay at his house for the night . a rally of men stood outside of xxmaj lot 's home and demanded that xxmaj lot bring out his guests so that they may \" know \" ( xxunk ) them . xxmaj however , xxmaj lot objected and offered his virgin daughters who had not \" known \" ( xxunk ) man to the rally of men instead . xxmaj they rejected that notion and sought to break down xxmaj lot 's door to get to his male xxunk xxunk ] thus confirming the wickedness of the city and xxunk their imminent xxunk xxunk the next morning , xxmaj abraham went to the place where he stood before xxmaj god . xxmaj he \" looked out toward xxmaj sodom and xxmaj gomorrah \" and saw what became of the cities of the plain , where not even \" ten righteous \" ( xxunk ) had been found , as \" the smoke of the land went up as the smoke of a furnace . xxunk xxunk ] \n",
              " \n",
              " \n",
              "  = = = xxmaj abimelech = = = \n",
              " \n",
              "  xxmaj abraham settled between xxmaj xxunk and xxmaj xxunk in the land of the xxmaj philistines . xxmaj while he was living in xxmaj xxunk , xxmaj abraham openly claimed that xxmaj sarah was his sister . xxmaj upon discovering this news , xxmaj king xxmaj abimelech had her brought to him . xxmaj god then came to xxmaj abimelech in a dream and declared that taking her would result in death because she was a man 's wife . xxmaj abimelech had not laid hands on her , so he inquired if he would also slay a righteous nation , especially since xxmaj abraham had claimed that he and xxmaj sarah were siblings . xxmaj in response , xxmaj god told xxmaj abimelech that he did indeed have a blameless heart and that is why he continued to exist . xxmaj however , should he not return the wife of xxmaj abraham back to him , xxmaj god would surely destroy xxmaj abimelech and his entire household . xxmaj abimelech was informed that xxmaj abraham was a prophet who would pray for xxunk xxunk next morning , xxmaj abimelech informed his servants of his dream and approached xxmaj abraham inquiring as to why he had brought such great guilt upon his kingdom . xxmaj abraham stated that he thought there was no fear of xxmaj god in that place , and that they might kill him for his wife . xxmaj then xxmaj abraham defended what he had said as not being a lie at all : \" xxmaj and yet indeed she is my sister ; she is the daughter of my father , but not the daughter of my mother ; and she became my wife . xxunk xxunk ] xxmaj abimelech returned xxmaj sarah to xxmaj abraham , and gave him gifts of sheep , oxen , and servants ; and invited him to settle wherever he pleased in xxmaj abimelech 's lands . xxmaj further , xxmaj abimelech gave xxmaj abraham a thousand pieces of silver to serve as xxmaj sarah 's vindication before all . xxmaj abraham then prayed for xxmaj abimelech and his household , since xxmaj god had stricken the women with infertility because of the taking of xxunk xxunk living for some time in the land of the xxmaj philistines , xxmaj abimelech and xxmaj xxunk , the chief of his troops , approached xxmaj abraham because of a dispute that resulted in a violent confrontation at a well . xxmaj abraham then xxunk xxmaj abimelech due to his xxmaj philistine servant 's aggressive attacks and the seizing of xxmaj abraham 's well . xxmaj abimelech claimed ignorance of the incident . xxmaj then xxmaj abraham offered a pact by providing sheep and oxen to xxmaj abimelech . xxmaj further , to attest that xxmaj abraham was the one who dug the well , he also gave xxmaj abimelech seven ewes for proof . xxmaj because of this sworn oath , they called the place of this well : xxmaj beersheba . xxmaj after xxmaj abimelech and xxmaj xxunk headed back to xxmaj xxunk , xxmaj abraham planted a grove in xxmaj beersheba and called upon \" the name of the xxup lord , the everlasting xxmaj god . xxunk xxunk ] \n",
              " \n",
              " \n",
              "  = = = xxmaj isaac = = = \n",
              " \n",
              "  xxmaj as had been prophesied in xxmaj xxunk the previous xxunk xxunk ] xxmaj sarah became pregnant and bore a son to xxmaj abraham , on the first anniversary of the covenant of circumcision . xxmaj abraham was \" an hundred years old \" , when his son whom he named xxmaj isaac was born ; and he circumcised him when he was eight days xxunk ] xxmaj for xxmaj sarah , the thought of giving birth and nursing a child , at such an old age , also brought her much laughter , as she declared , \" xxmaj god hath made me to laugh , so that all who hear will laugh with me . xxunk ] xxmaj isaac continued to grow and on the day he was weaned , xxmaj abraham held a great feast to honor the occasion . xxmaj during the celebration , however , xxmaj sarah found xxmaj ishmael mocking ; an observation that would begin to clarify the birthright of xxunk xxunk ] \n",
              " \n",
              " \n",
              "  = = = xxmaj ishmael = = = \n",
              " \n",
              "  xxmaj ishmael was fourteen years old when xxmaj abraham 's son xxmaj isaac was born to xxmaj sarah . xxmaj when she found xxmaj ishmael teasing xxmaj isaac , xxmaj sarah told xxmaj abraham to send both xxmaj ishmael and xxmaj hagar away . xxmaj she declared that xxmaj ishmael would not share in xxmaj isaac 's inheritance . xxmaj abraham was greatly distressed by his wife 's words and sought the advice of his xxmaj god . xxmaj god told xxmaj abraham not to be distressed but to do as his wife commanded . xxmaj god reassured xxmaj abraham that \" in xxmaj isaac shall seed be called to thee . xxunk xxunk ] xxmaj he also said that xxmaj ishmael would make a nation , \" because he is thy xxunk xxunk the next morning , xxmaj abraham brought xxmaj hagar and xxmaj ishmael out together . xxmaj he gave her bread and water and sent them away . xxmaj the two wandered in the wilderness of xxmaj beersheba until her bottle of water was completely consumed . xxmaj in a moment of despair , she burst into tears . xxmaj after xxmaj god heard the boy 's voice , an angel of the xxmaj lord confirmed to xxmaj hagar that he would become a great nation , and will be \" living on his sword \" . a well of water then appeared so that it saved their lives . xxmaj as the boy grew , he became a skilled archer living in the wilderness of xxmaj xxunk . xxmaj eventually his mother found a wife for xxmaj ishmael from her home country , the land of xxunk xxunk ] \n",
              " \n",
              " \n",
              "  = = = xxmaj binding of xxmaj isaac = = = \n",
              " \n",
              "  xxmaj at some point in xxmaj isaac 's youth , xxmaj abraham was commanded by xxmaj god to offer his son up as a sacrifice in the land of xxmaj moriah . xxmaj the patriarch traveled three days until he came to the mount that xxmaj god told him of . xxmaj he then commanded the servants to remain while he and xxmaj isaac proceeded alone into the mount . xxmaj isaac carried the wood upon which he would be sacrificed . xxmaj along the way , xxmaj isaac asked his father where the animal for the burnt offering was , to which xxmaj abraham replied \" xxmaj god will provide himself a lamb for a burnt offering \" . xxmaj just as xxmaj abraham was about to sacrifice his son , he was interrupted by the angel of the xxmaj lord , and he saw behind him a \" ram caught in a thicket by his horns \" , which he sacrificed instead of his son . xxmaj for his obedience he received another promise of numerous descendants and abundant prosperity . xxmaj after this event , xxmaj abraham went to xxunk xxunk ] \n",
              " \n",
              " \n",
              "  = = = xxmaj later years = = = \n",
              " \n",
              "  xxmaj sarah died , and xxmaj abraham buried her in the xxmaj cave of the xxmaj patriarchs ( the \" cave of xxmaj xxunk \" ) , near xxmaj hebron which he had purchased along with the adjoining field from xxmaj xxunk the xxunk xxunk ] xxmaj after the death of xxmaj sarah , xxmaj abraham took another wife , a concubine named xxmaj xxunk , by whom he had six sons : xxmaj xxunk , xxmaj xxunk , xxmaj medan , xxmaj midian , xxmaj xxunk , and xxunk xxunk ] xxmaj according to the xxmaj bible , reflecting the change of his name to \" xxmaj abraham \" meaning \" a father of many nations \" , xxmaj abraham is considered to be the progenitor of many nations mentioned in the xxmaj bible , among others the xxmaj israelites , xxunk xxunk ] xxunk xxunk ] ) xxunk xxunk ] xxunk xxunk ] xxmaj xxunk and xxunk xxunk ] and through his nephew xxmaj lot he was also related to the xxmaj xxunk and xxunk xxunk ] xxmaj abraham lived to see his son marry xxmaj rebekah , ( and to see the birth of his twin grandsons xxmaj jacob and xxmaj esau ) . xxmaj he died at age 175 , and was buried in the cave of xxmaj xxunk by his sons xxmaj isaac and xxunk xxunk xxmaj chronicles xxunk ] \n",
              " \n",
              " \n",
              "  = = xxmaj historicity and origins = = \n",
              " \n",
              " \n",
              "  = = = xxmaj historicity = = = \n",
              " \n",
              "  xxmaj in the early and middle 20th century , leading archaeologists such as xxmaj william xxup f. xxmaj albright and biblical scholars such as xxmaj albrecht xxmaj alt believed that the patriarchs and xxunk were either real individuals or believable composites of people who lived in the \" patriarchal age \" , the 2nd millennium xxup bce . xxmaj but , in the 1970s , new arguments concerning xxmaj israel 's past and the biblical texts challenged these views ; these arguments can be found in xxmaj thomas xxup l. xxmaj thompson 's xxmaj the xxmaj historicity of the xxmaj patriarchal xxmaj narratives ( 1974 ) , and xxmaj john xxmaj van xxmaj seters ' xxmaj abraham in xxmaj history and xxmaj tradition ( 1975 ) . xxmaj thompson , a literary scholar , based his argument on archaeology and ancient texts . xxmaj his thesis centered on the lack of compelling evidence that the patriarchs lived in the 2nd millennium xxup bce , and noted how certain biblical texts reflected first millennium conditions and concerns . xxmaj van xxmaj seters examined the patriarchal stories and argued that their names , social milieu , and messages strongly suggested that they were xxmaj iron xxmaj age creations . xxmaj by the beginning of the 21st century , archaeologists had given up hope of recovering any context that would make xxmaj abraham , xxmaj isaac or xxmaj jacob credible historical figures . \n",
              " \n",
              " \n",
              "  = = = xxmaj origins of the narrative = = = \n",
              " \n",
              "  xxmaj abraham 's name is apparently very ancient , as the tradition found in xxmaj genesis no longer understands its original meaning ( probably \" xxmaj father is exalted \" – the meaning offered in xxmaj genesis xxunk , \" xxmaj father of a multitude \" , is a popular etymology ) . xxmaj the story , like those of the other patriarchs , most likely had a substantial oral prehistory . xxmaj at some stage the oral traditions became part of the written tradition of the xxmaj pentateuch ; a majority of scholars believe this stage belongs to the xxmaj persian period , roughly xxunk xxup bce . xxmaj the mechanisms by which this came about remain unknown , but there are currently two important hypotheses . xxmaj the first , called xxmaj persian xxmaj imperial authorisation , is that the post - xxmaj exilic community devised the xxmaj torah as a legal basis on which to function within the xxmaj persian xxmaj imperial system ; the second is that the xxmaj pentateuch was written to provide the criteria for determining who would belong to the post xxmaj exilic xxmaj jewish community and to establish the power structures and relative positions of its various groups , notably the priesthood and the lay \" xxunk . xxmaj nevertheless , the completion of the xxmaj torah and its elevation to the centre of post - xxmaj exilic xxmaj judaism was as much or more about combining older texts as writing new ones – the final xxmaj pentateuch was based on existing traditions . xxmaj in xxmaj ezekiel xxunk , written during the xxmaj exile ( i.e. , in the first half of the 6th century xxup bce ) , xxmaj ezekiel , an exile in xxmaj babylon , tells how those who remained in xxmaj judah are claiming ownership of the land based on inheritance from xxmaj abraham ; but the prophet tells them they have no claim because they do not observe xxmaj torah . xxmaj isaiah xxunk similarly testifies of tension between the people of xxmaj judah and the returning post - xxmaj exilic xxmaj jews ( the \" xxunk \" ) , stating that xxmaj god is the father of xxmaj israel and that xxmaj israel 's history begins with the xxmaj exodus and not with xxmaj abraham . xxmaj the conclusion to be inferred from this and similar evidence ( e.g. , xxmaj ezra – xxmaj nehemiah ) , is that the figure of xxmaj abraham must have been preeminent among the great landowners of xxmaj judah at the time of the xxmaj exile and after , serving to support their claims to the land in opposition to those of the returning exiles . \n",
              " \n",
              " \n",
              "  = = xxmaj religious traditions = = \n",
              " \n",
              " \n",
              "  = = = xxmaj overview = = = \n",
              "  xxmaj abraham is given a high position of respect in three major world faiths , xxmaj judaism , xxmaj christianity and xxmaj islam . xxmaj in xxmaj judaism he is the founding father of the xxmaj covenant , the special relationship between the xxmaj jewish people and xxmaj god – leading to the belief that the xxmaj jews are the xxmaj chosen xxmaj people of xxmaj god . xxmaj in xxmaj christianity , the xxmaj apostle xxmaj paul taught that xxmaj abraham 's faith in xxmaj god – preceding the xxmaj mosaic law – made him the prototype of all believers , circumcised and uncircumcised . xxmaj in xxmaj islam , the prophet xxmaj muhammad claimed xxmaj abraham , whose submission to xxmaj god constituted xxmaj islam , was a \" believer before the fact \" and undercut xxmaj jewish claims to an exclusive relationship with xxmaj god and the xxmaj covenant . \n",
              " \n",
              " \n",
              "  = = = xxmaj judaism = = = \n",
              "  xxmaj in xxmaj jewish tradition , xxmaj abraham is called xxmaj avraham xxmaj xxunk ( xxunk xxunk ) , \" our father xxmaj abraham , \" signifying that he is both the biological progenitor of the xxmaj jews and the father of xxmaj judaism , the first xxmaj jew . xxmaj his story is read in the weekly xxmaj torah reading portions , predominantly in the xxunk : xxmaj lech - xxmaj xxunk ( xxunk - xxunk ) , xxmaj xxunk ( xxunk ) , xxmaj xxunk xxmaj sarah ( xxunk xxunk ) , and xxmaj toledot ( xxunk ) . \n",
              "  xxmaj in xxmaj jewish legend , xxmaj god created heaven and earth for the sake of the merits of xxmaj abraham . xxmaj after the deluge , xxmaj abraham was the only one among the pious who solemnly swear never xxunk xxmaj god , and studied in house of xxmaj noah and xxmaj shem to learn about \" xxmaj ways of xxmaj god , \" and continuing the line of xxmaj high xxmaj priest from xxmaj noah and xxmaj shem , then he descended the office to xxmaj levi and his seed forever . xxmaj before leaving his fathers ' land , xxmaj abraham was miraculously saved from the fiery furnace of xxmaj nimrod following his brave action of breaking the idols of the xxmaj xxunk into pieces . xxmaj during his xxunk in xxmaj canaan , xxmaj abraham was accustomed to extend hospitality to travelers and strangers and taught how to praise xxmaj god also knowledge of xxmaj god to those who had received his kindness . xxmaj besides xxmaj isaac and xxmaj jacob , he is the one whose name would appear united with xxmaj god , as xxmaj god in xxmaj judaism was called xxmaj xxunk xxmaj abraham , xxmaj xxunk xxmaj xxunk ve xxmaj xxunk xxmaj xxunk ( \" xxmaj god of xxmaj abraham , xxmaj god of xxmaj isaac , and xxmaj god of xxmaj jacob \" ) and never the xxmaj god of any one else . xxmaj he was also mentioned as the father of thirty nations . xxmaj abraham is generally credited as the author of the xxmaj sefer xxmaj xxunk ( xxmaj the xxmaj book of xxmaj creation ) , one of the earliest extant books on xxmaj jewish mysticism . \n",
              " \n",
              " \n",
              "  = = = xxmaj christianity = = = \n",
              "  xxmaj abraham does not loom so large in xxmaj christianity as he does in xxmaj judaism and xxmaj islam . xxmaj it is xxmaj jesus as the xxmaj jewish xxmaj messiah who is central to xxmaj christianity , and the idea of a divine xxmaj messiah is what separates xxmaj christianity from the other two religions . xxmaj in xxmaj romans 4 , xxmaj abraham 's merit is less his obedience to the divine will than his faith in xxmaj god 's ultimate grace ; this faith provides him the merit for xxmaj god having chosen him for the covenant , and the covenant becomes one of faith , not obedience . xxmaj the xxmaj roman xxmaj catholic xxmaj church calls xxmaj abraham \" our father in xxmaj faith \" in the xxmaj eucharistic prayer of the xxmaj roman xxmaj canon , recited during the xxmaj mass ( see xxmaj abraham in the xxmaj catholic liturgy ) . xxmaj he is also commemorated in the calendars of saints of several denominations : on 20 xxmaj august by the xxmaj maronite xxmaj church , 28 xxmaj august in the xxmaj coptic xxmaj church and the xxmaj assyrian xxmaj church of the xxmaj east ( with the full office for the latter ) , and on 9 xxmaj october by the xxmaj roman xxmaj catholic xxmaj church and the xxmaj lutheran xxmaj church – xxmaj missouri xxmaj synod . xxmaj in the introduction to his 15th - century translation of the xxmaj golden xxmaj legend 's account of xxmaj abraham , xxmaj william xxmaj xxunk noted that this patriarch 's life was read in church on xxmaj xxunk xxmaj sunday . \n",
              "  xxmaj he is the patron saint of those in the hospitality industry . xxmaj the xxmaj eastern xxmaj orthodox xxmaj church commemorates him as the \" xxmaj righteous xxmaj xxunk xxmaj abraham \" , with two feast days in its liturgical calendar . xxmaj the first time is on 9 xxmaj october ( for those churches which follow the traditional xxmaj julian xxmaj calendar , 9 xxmaj october falls on 22 xxmaj october of the modern xxmaj gregorian xxmaj calendar ) , where he is commemorated together with his nephew \" xxmaj righteous xxmaj lot \" . xxmaj the other is on the \" xxmaj sunday of the xxmaj forefathers \" ( two xxmaj sundays before xxmaj christmas ) , when he is commemorated together with other ancestors of xxmaj jesus . xxmaj abraham is also mentioned in the xxmaj divine xxmaj liturgy of xxmaj saint xxmaj basil the xxmaj great , just before the xxmaj anaphora , and xxmaj abraham and xxmaj sarah are invoked in the prayers said by the priest over a newly married couple . \n",
              " \n",
              " \n",
              "  = = = xxmaj islam = = = \n",
              " \n",
              "  xxmaj islam regards xxmaj abraham as a link in the chain of prophets that begins with xxmaj adam and culminates in xxmaj muhammad . xxmaj xxunk is mentioned in 35 chapters of the xxmaj quran , more often than any other biblical personage apart from xxmaj moses . xxmaj he is called both a hanif ( monotheist ) and muslim ( one who submits ) , and xxmaj muslims regard him as a prophet and patriarch , the archetype of the perfect xxmaj muslim , and the revered reformer of the xxmaj kaaba in xxmaj mecca . xxmaj islamic traditions consider xxmaj xxunk ( xxmaj abraham ) the first xxmaj pioneer of xxmaj islam ( which is also called xxunk xxmaj ibrahim , the \" religion of xxmaj abraham \" ) , and that his purpose and mission throughout his life was to proclaim the xxmaj oneness of xxmaj god . xxmaj in xxmaj islam , xxmaj abraham holds an exalted position among the major prophets and he is referred to as \" xxmaj ibrahim xxmaj xxunk \" , meaning \" xxmaj abraham the xxmaj beloved of xxmaj allah \" . \n",
              "  xxmaj besides xxmaj ishaq and xxmaj xxunk , xxmaj ibrahim is among the most honorable and the most excellent men in sight of xxmaj god . xxmaj ibrahim was also mentioned in xxmaj quran as \" xxmaj father of xxmaj muslims \" and the role model for the community . \n",
              " \n",
              " \n",
              "  = = xxmaj in the arts = = \n",
              " \n",
              " \n",
              "  = = = xxmaj painting and sculpture = = = \n",
              "  xxmaj paintings on the life of xxmaj abraham tend to focus on only a few incidents : the sacrifice of xxmaj isaac ; meeting xxmaj melchizedek ; entertaining the three angels ; xxmaj hagar in the desert ; and a few others . xxmaj additionally , xxmaj martin xxunk , a professor of xxmaj biblical xxmaj studies , writes that the parable of xxmaj lazarus resting in the \" xxmaj bosom of xxmaj abraham \" , as described in the xxmaj gospel of xxmaj luke , became an iconic image in xxmaj christian works . xxmaj according to xxunk , artists often chose to divert from the common literary portrayal of xxmaj lazarus sitting next to xxmaj abraham at a banquet in xxmaj heaven and instead focus on the \" somewhat incongruous notion of xxmaj abraham , the most venerated of patriarchs , holding a naked and vulnerable child in his bosom \" . xxmaj several artists have been inspired by the life of xxmaj abraham , including xxmaj albrecht xxmaj dürer ( xxunk ) , xxmaj xxunk ( xxunk ) , xxmaj xxunk , xxmaj raphael , xxmaj philip van xxmaj dyck ( xxmaj dutch painter , xxunk ) , and xxmaj claude xxmaj xxunk ( xxmaj french painter , xxunk ) . xxmaj rembrandt ( xxmaj dutch , xxunk ) created at least seven works on xxmaj abraham , xxmaj peter xxmaj paul xxmaj rubens ( xxunk ) did several , xxmaj marc xxmaj chagall did at least five on xxmaj abraham , xxmaj gustave xxmaj xxunk ( xxmaj french illustrator , xxunk ) did six , and xxmaj james xxmaj xxunk ( xxmaj french painter and illustrator , xxunk ) did over twenty works on the subject . \n",
              " \n",
              "  xxmaj the xxmaj sarcophagus of xxmaj junius xxmaj xxunk depicts a set of biblical stories , including xxmaj abraham about to sacrifice xxmaj isaac . xxmaj these sculpted scenes are on the outside of a marble xxmaj early xxmaj christian sarcophagus used for the burial of xxmaj junius xxmaj xxunk . xxmaj he died in 359 . xxmaj this sarcophagus has been described as \" probably the single most famous piece of early xxmaj christian relief sculpture . \" xxmaj the sarcophagus was originally placed in or under xxmaj old xxmaj st. xxmaj peter 's xxmaj basilica , was rediscovered in 1597 , and is now below the modern basilica in the xxmaj museo xxmaj xxunk del xxmaj xxunk della xxmaj basilica di xxmaj san xxmaj pietro ( xxmaj museum of xxmaj st. xxmaj peter 's xxmaj basilica ) in the xxmaj vatican . xxmaj the base is approximately 4 × 8 × 4 feet . xxmaj the xxmaj old xxmaj testament scenes depicted were chosen as precursors of xxmaj christ 's sacrifice in the xxmaj new xxmaj testament , in an early form of typology . xxmaj just to the right of the middle is xxmaj daniel in the lion 's den and on the left is xxmaj abraham about to sacrifice xxmaj isaac . \n",
              "  xxmaj george xxmaj segal created xxunk sculptures by molding plastered xxunk strips over live models in his 1987 work xxmaj abraham 's xxmaj farewell to xxmaj ishmael . xxmaj the human condition was central to his concerns , and xxmaj segal used the xxmaj old xxmaj testament as a source for his imagery . xxmaj this sculpture depicts the dilemma faced by xxmaj abraham when xxmaj sarah demanded that he expel xxmaj hagar and xxmaj ishmael . xxmaj in the sculpture , the father 's tenderness , xxmaj sarah 's rage , and xxmaj hagar 's resigned acceptance portray a range of human emotions . xxmaj the sculpture was donated to the xxmaj miami xxmaj art xxmaj museum after the artist 's death in 2000 . \n",
              " \n",
              " \n",
              "  xxrep 4 = xxmaj christian iconography xxrep 4 = \n",
              "  xxmaj usually xxmaj abraham can be identified by the context of the image – the meeting with xxmaj melchizedek , the three visitors , or the sacrifice of xxmaj isaac . xxmaj in solo portraits a sword or knife may be used as his attribute , as in this statue by xxmaj gian xxmaj maria xxmaj xxunk or this painting by xxmaj lorenzo xxmaj monaco . xxmaj he always wears a gray or white beard . \n",
              "  xxmaj as early as the beginning of the 3rd century , xxmaj christian art followed xxmaj christian typology in making the sacrifice of xxmaj isaac a foreshadowing of xxmaj christ 's sacrifice on the cross and its memorial in the sacrifice of the xxmaj mass. xxmaj see for example this 11th - century xxmaj christian altar engraved with xxmaj abraham 's and other sacrifices taken to xxunk that of xxmaj christ in the xxmaj eucharist . xxmaj some early xxmaj christian writers interpreted the three visitors as the triune xxmaj god . xxmaj thus in xxmaj santa xxmaj maria xxmaj maggiore , xxmaj rome , a 5th - century mosaic portrays only the visitors against a gold ground and puts xxunk copies of them in the \" heavenly \" space above the scene . xxmaj in xxmaj eastern xxmaj orthodox art the visit is the chief means by which the xxmaj trinity is pictured ( example ) . xxmaj some images do not include xxmaj abraham and xxmaj sarah , like xxmaj andrei xxmaj xxunk 's xxmaj trinity , which shows only the three visitors as xxunk youths at a table . \n",
              " \n",
              " \n",
              "  = = = xxmaj literature = = = \n",
              "  xxmaj fear and xxmaj trembling ( original xxmaj danish title : xxmaj xxunk og xxmaj xxunk ) is an influential philosophical work by xxmaj søren xxmaj kierkegaard , published in 1843 under the pseudonym xxmaj johannes de xxunk ( xxmaj john the xxmaj silent ) . xxmaj kierkegaard wanted to understand the anxiety that must have been present in xxmaj abraham when xxmaj god asked him to sacrifice his son . xxup w. xxup g. xxmaj hardy 's novel xxmaj father xxmaj abraham ( 1935 ) , tells the fictionalized life of xxmaj abraham . \n",
              " \n",
              " \n",
              "  = = = xxmaj music = = = \n",
              "  xxmaj in 1681 , xxmaj marc - xxmaj antoine xxmaj charpentier released a xxmaj dramatic motet xxmaj xxunk xxmaj xxunk h 402 - 402 a - 402 b , for soloists , chorus , doubling instruments and bc . xxmaj sébastien de xxmaj xxunk released a xxunk xxmaj abraham ( date unknown ) . \n",
              "  xxmaj in 1994 , xxmaj steve xxmaj reich released an opera named xxmaj the xxmaj cave . xxmaj the title refers to the xxmaj cave of the xxmaj patriarchs . xxmaj the narrative of the opera is based on the story of xxmaj abraham and his immediate family as it is recounted in the various religious texts , and as it is understood by individual people from different cultures and religious traditions . \n",
              "  xxmaj bob xxmaj dylan 's \" xxmaj highway 61 xxmaj revisited \" is the title track for his 1965 album xxmaj highway 61 xxmaj revisited . xxmaj in 2004 , xxmaj rolling xxmaj stone magazine ranked the song as number 364 in their 500 xxmaj greatest xxmaj songs of xxmaj all xxmaj time . xxmaj the song has five stanzas . xxmaj in each stanza , someone describes an unusual problem that is ultimately resolved on xxmaj highway 61 . xxmaj in xxmaj stanza 1 , xxmaj god tells xxmaj abraham to \" kill me a son \" . xxmaj god wants the killing done on xxmaj highway 61 . xxmaj abram , the original name of the biblical xxmaj abraham , is also the name of xxmaj dylan 's own father . \n",
              " \n",
              " \n",
              "  = = xxmaj see also = = \n",
              " \n",
              "  xxmaj abraham xxmaj path \n",
              "  xxmaj abraham 's xxmaj gate at xxmaj tel xxmaj dan \n",
              "  xxmaj apocalypse of xxmaj abraham \n",
              "  xxmaj abraham and the xxmaj idol xxmaj shop \n",
              "  xxmaj bruce xxmaj xxunk , an author who has written extensively on xxmaj abraham \n",
              "  xxmaj gathering of xxmaj israel \n",
              "  xxmaj genealogies of xxmaj genesis \n",
              "  xxmaj kabbalah \n",
              "  xxmaj pearl of xxmaj great xxmaj price \n",
              "  xxmaj list of oldest fathers \n",
              "  xxmaj table of prophets of xxmaj abrahamic religions \n",
              "  xxmaj the evil xxmaj nimrod vs. the righteous xxmaj abraham \n",
              "  xxmaj zoroaster \n",
              " \n",
              " \n",
              "  = = xxmaj notes = = \n",
              " \n",
              " \n",
              "  = = xxmaj references = = \n",
              " \n",
              " \n",
              "  = = xxmaj bibliography = = \n",
              " \n",
              " \n",
              "  = = xxmaj external links = = \n",
              "  \" xxmaj abraham \" at chabad.org . \n",
              "  xxmaj abraham smashes the idols ( accessed 24 xxmaj march 2011 ) . \n",
              "  \" xxmaj journey and xxmaj life of the xxmaj patriarch xxmaj abraham \" , a map dating back to 1590 . \n",
              "  xxmaj kitáb - i - xxmaj xxunk,xxbos xxmaj the xxmaj abrahamic religions , also referred to collectively as xxmaj xxunk , are a group of xxmaj semitic - originated religious communities of faith that claim descent from the xxmaj judaism of the ancient xxmaj israelites and the worship of the xxmaj god of xxmaj abraham . xxmaj the xxmaj abrahamic religions are monotheistic , with the term deriving from the patriarch xxmaj abraham ( a major biblical figure from the xxmaj old xxmaj testament , who is recognized by xxmaj jews , xxmaj christians , xxmaj muslims , and xxunk religions spread globally through xxmaj christianity being adopted by the xxmaj roman xxmaj empire in the 4th century and xxmaj islam by the xxmaj islamic empires from the 7th century . xxmaj today the xxmaj abrahamic religions are one of the major divisions in comparative religion ( along with xxmaj indian , xxmaj iranian , and xxmaj east xxmaj asian religions ) . xxmaj the major xxmaj abrahamic religions in chronological order of founding are xxmaj judaism ( the base of the other two religions ) in the 7th century xxup bce , xxmaj christianity in the 1st century xxup ce , and xxmaj islam in the 7th century xxup ce . \n",
              "  xxmaj christianity , xxmaj islam , and xxmaj judaism are the xxmaj abrahamic religions with the greatest numbers of adherents . xxmaj abrahamic religions with fewer adherents include the xxmaj druze faith ( sometimes considered a part of xxmaj islam ) , the xxmaj bahá'í xxmaj faith , and xxmaj rastafari . xxmaj as of 2015 , estimates classified xxunk % ( 3.8 billion people ) of the world 's population as adherents of an xxmaj abrahamic religion , which makes the other 46 % ( 2.8 billion people ) of the world 's population adherents of a non - xxmaj abrahamic religion ( 32 % ) or irreligious ( 16 % ) as adherents of no organized religion . xxmaj christianity claims 31.2 % of the world 's population , xxmaj islam has 24.1 % , xxmaj judaism has 0.2 % and the xxmaj bahá'í xxmaj faith represents around 0.1 % . \n",
              " \n",
              " \n",
              "  = = xxmaj etymology = = \n",
              " \n",
              "  xxmaj it was suggested by xxmaj catholic scholar of xxmaj islam xxmaj louis xxmaj xxunk that the phrase \" xxmaj abrahamic religion \" means that all these religions come from one spiritual source . xxmaj paul the xxmaj apostle referred to xxmaj abraham as the \" father of us xxunk . 4 ] xxmaj there is a xxmaj quranic term , xxunk xxmaj ibrahim , ' religion of xxmaj ibrahim ' , indicating that xxmaj islam sees itself as standing in a tradition of religious practice from xxmaj abraham . xxmaj jewish tradition claims that the xxmaj jews are descended from xxmaj abraham , and adherents of xxmaj judaism derive their spiritual identity from xxmaj abraham as the first of the three \" fathers \" or biblical patriarchs : xxmaj abraham , xxmaj isaac , and xxmaj jacob . \n",
              "  xxmaj all the major xxmaj abrahamic religions claim a direct lineage to xxmaj abraham , although in xxmaj christianity this is understood in spiritual terms : \n",
              " \n",
              "  xxmaj abraham is recorded in the xxmaj torah as the ancestor of the xxmaj israelites through his son xxmaj isaac , born to xxmaj sarah through a promise made in xxunk . xxunk ] \n",
              "  xxmaj most xxmaj christians affirm the ancestral origin of the xxmaj jews in xxmaj abraham , but , as gentiles , they consider themselves as grafted into the family tree under the xxmaj new xxmaj covenant : see significance of xxmaj abraham for xxmaj christians for details . \n",
              "  xxmaj it is the xxmaj islamic tradition that xxmaj muhammad , as an xxmaj arab , is descended from xxmaj abraham 's son xxmaj ishmael . xxmaj jewish tradition also equates the descendants of xxmaj ishmael , xxmaj xxunk , with xxmaj arabs , while the descendants of xxmaj isaac by xxmaj jacob , who was also later known as xxmaj israel , are the xxmaj israelites . xxmaj adam xxmaj dodds argues that the term \" xxmaj abrahamic faiths \" , while helpful , can be misleading , as it conveys an unspecified historical and theological commonality that is problematic on closer examination . xxmaj while there is commonality among the religions , in large measure their shared ancestry is peripheral to their respective foundational beliefs and thus conceals crucial differences . xxmaj for example , the common xxmaj christian beliefs of xxmaj incarnation , xxmaj trinity , and the resurrection of xxmaj jesus are not accepted by xxmaj judaism or xxmaj islam ( see for example xxmaj islamic view of xxmaj jesus ' death ) . xxmaj there are key beliefs in both xxmaj islam and xxmaj judaism that are not shared by most of xxmaj christianity ( such as strict monotheism and adherence to xxmaj divine xxmaj law ) , and key beliefs of xxmaj islam , xxmaj christianity , and the xxmaj bahá'í xxmaj faith not shared by xxmaj judaism ( such as the prophetic and xxmaj messianic position of xxmaj jesus , respectively ) . \n",
              " \n",
              " \n",
              "  = = xxmaj challenges to the term = = \n",
              "  xxmaj the appropriateness of grouping xxmaj judaism , xxmaj christianity , and xxmaj islam by the terms \" xxmaj abrahamic religions \" or \" xxmaj abrahamic traditions \" has been challenged . \n",
              "  xxmaj in 2012 , xxmaj alan xxup l. xxmaj berger , xxmaj professor of xxmaj judaic xxmaj studies at xxmaj florida xxmaj atlantic xxmaj university , in his xxmaj preface to xxmaj xxunk and xxmaj terror : xxmaj judaism , xxmaj christianity , and xxmaj islam after 9 / 11 wrote that there are \" commonalities \" , but \" there are essential differences between the xxmaj abrahamic traditions \" both \" historical and theological \" . xxmaj although \" xxmaj judaism birthed both xxmaj christianity and xxmaj islam \" , the \" three monotheistic faiths went their separate ways \" . xxmaj the three faiths \" understand the role of xxmaj abraham \" in \" differing ways \" , and the relationships between xxmaj judaism and xxmaj christianity and between xxmaj judaism and xxmaj islam are \" uneven \" . xxmaj also , the three traditions are \" xxunk unbalanced and ideologically xxunk . xxmaj also in 2012 , xxmaj aaron xxup w. xxmaj hughes published a book about the category xxmaj abrahamic religions as an example of \" abuses of history . \" xxmaj he said that only recently the category \" xxmaj abrahamic religions \" has come into use and that it is a \" vague referent . \" xxmaj it is \" largely a theological xxunk \" and \" an artificial and imprecise \" term . xxmaj combining the xxmaj jewish , xxmaj christian , and xxmaj muslim religions into this one category might serve the purpose of encouraging \" interfaith xxunk \" , but it is not true to the \" historical record \" . xxmaj abrahamic religions is \" an xxunk category \" . xxmaj there are \" certain family resemblances \" among these three religions , but the \" amorphous \" term \" xxmaj abrahamic religions \" prevents an understanding of the \" complex nature \" of the interactions among them . xxmaj furthermore , the three religions do not share the same story of xxmaj abraham . xxmaj for these and other reasons , xxmaj hughes argued that the term should not be used , at least in academic circles . \n",
              " \n",
              " \n",
              "  = = xxmaj religions = = \n",
              " \n",
              " \n",
              "  = = = xxmaj judaism = = = \n",
              " \n",
              "  xxmaj one of xxmaj judaism 's primary texts is the xxmaj tanakh , an account of the xxmaj israelites ' relationship with xxmaj god from their earliest history until the building of the xxmaj second xxmaj temple ( c. 535 xxup bce ) . xxmaj abraham is hailed as the first xxmaj hebrew and the father of the xxmaj jewish people . xxmaj one of his great - grandsons was xxmaj judah , from whom the religion ultimately gets its name . xxmaj the xxmaj israelites were initially a number of tribes who lived in the xxmaj kingdom of xxmaj israel and xxmaj kingdom of xxmaj judah . \n",
              "  xxmaj after being conquered and exiled , some members of the xxmaj kingdom of xxmaj judah eventually returned to xxmaj israel . xxmaj they later formed an independent state under the xxmaj hasmonean dynasty in the 2nd and 1st centuries xxup bce , before becoming a client kingdom of the xxmaj roman xxmaj empire , which also conquered the state and dispersed its inhabitants . xxmaj from the 2nd to the 6th centuries xxmaj jews wrote the xxmaj talmud , a lengthy work of legal rulings and xxmaj biblical exegesis which , along with the xxmaj tanakh , is a key text of xxmaj judaism . \n",
              " \n",
              " \n",
              "  = = = xxmaj christianity = = = \n",
              " \n",
              "  xxmaj christianity began in the 1st century as a sect within xxmaj judaism initially led by xxmaj jesus . xxmaj his followers viewed him as the xxmaj messiah , as in the xxmaj confession of xxmaj peter ; after his crucifixion and death they came to view him as xxmaj god incarnate , who was resurrected and will return at the end of time to judge the living and the dead and create an eternal xxmaj kingdom of xxmaj god . xxmaj within a few decades the new movement split from xxmaj judaism . xxmaj christian teaching is based on the xxmaj old and xxmaj new xxmaj testaments of the xxmaj bible . \n",
              "  xxmaj after several periods of alternating persecution and relative peace vis a vis the xxmaj roman authorities under different administrations , xxmaj christianity became the state church of the xxmaj roman xxmaj empire in 380 , but has been split into various churches from its beginning . xxmaj an attempt was made by the xxmaj byzantine xxmaj empire to unify xxmaj christendom , but this formally failed with the xxmaj east – xxmaj west xxmaj schism of 1054 . xxmaj in the 16th century , the birth and growth of xxmaj protestantism further split xxmaj christianity into many denominations . \n",
              " \n",
              " \n",
              "  = = = xxmaj islam = = = \n",
              " \n",
              "  xxmaj islam is based on the teachings of the xxmaj quran . xxmaj although it considers xxmaj muhammad to be the xxmaj seal of the prophets , xxmaj islam teaches that every prophet preached xxmaj islam , as the word xxmaj islam literally means submission to xxmaj god , the main concept preached by all xxmaj abrahamic prophets . xxmaj the teachings of the xxmaj quran are believed by xxmaj muslims to be the direct and final revelation and words of xxmaj allah ( i.e. xxmaj god in xxmaj arabic ) . xxmaj islam like xxmaj christianity is a universal religion ( xxunk is open to anyone ) . xxmaj like xxmaj judaism , it has a strictly unitary conception of xxmaj god , called tawhid , or \" strict \" monotheism . \n",
              " \n",
              " \n",
              "  = = = xxmaj other xxmaj abrahamic religions = = = \n",
              "  xxmaj historically , the xxmaj abrahamic religions have been considered to be xxmaj judaism , xxmaj christianity and xxmaj islam . xxmaj some of this is due to the age and larger size of these three . xxmaj the other , similar religions were seen as either too new to judge as being truly in the same class , or too small to be of significance to the category . \n",
              "  xxmaj however , some of the restriction of xxmaj abrahamic to these three is due only to tradition in historical classification . xxmaj therefore , restricting the category to these three religions has come under criticism . xxmaj the religions listed below here claim xxmaj abrahamic classification , either by the religions themselves , or by scholars who study them . \n",
              " \n",
              " \n",
              "  xxrep 4 = xxmaj bábism xxrep 4 = \n",
              "  xxmaj bábism ( xxmaj persian : xxunk , xxmaj xxunk ) , also known as the xxmaj xxunk xxmaj faith ( xxmaj arabic : xxunk , xxmaj xxunk ) , is a monotheistic religion which professes that there is one incorporeal , unknown , and incomprehensible xxmaj god who manifests his will in an unending series of xxunk , called xxmaj manifestations of xxmaj god ( xxmaj arabic : xxunk الله ) . xxmaj it is an extremely small religion , with no more than a few thousand adherents according to current estimates , most of which are concentrated in xxmaj iran . xxmaj it was founded by ' xxmaj ali xxmaj muhammad xxmaj shirazi who first assumed the title of xxmaj báb ( lit . \" xxmaj gate \" ) from which the religion gets its name , out of the belief that he was the gate to the xxmaj twelfth xxmaj imam . xxmaj however throughout his ministry his titles and claims underwent much evolution as the xxmaj báb progressively outlined his teachings . xxmaj founded in 1844 , xxmaj bábism flourished in xxmaj persia until 1852 , then lingered on in exile in the xxmaj ottoman xxmaj empire , especially xxmaj cyprus , as well as underground . xxmaj an anomaly amongst xxmaj islamic messianic movements , the xxmaj bábí movement signaled a break with xxmaj islam , beginning a new religious system with its own unique laws , teachings , and practices . xxmaj while xxmaj bábism was violently opposed by both clerical and government establishments , it led to the founding of the xxmaj bahá'í xxmaj faith , whose followers consider the religion founded by the xxmaj báb as a predecessor to their own . \n",
              " \n",
              " \n",
              "  xxrep 4 = xxmaj bahá'í xxmaj faith xxrep 4 = \n",
              " \n",
              "  xxmaj the xxmaj bahá'í xxmaj faith , which dates to the late 19th century , is a new religious movement that has sometimes been listed as xxmaj abrahamic by scholarly sources in various fields . xxmaj bahá'u'lláh ( xxunk ) , the founder , affirms the highest religious station for xxmaj abraham and generally for prophets mentioned among the other xxmaj abrahamic religions , and has claimed a lineage of descent from xxmaj abraham through xxmaj xxunk and xxmaj sarah . xxmaj additionally , xxmaj xxunk cite that xxmaj bahá'u'lláh lost a son , xxmaj mírzá xxmaj xxunk . xxmaj bahá'u'lláh , then in prison , eulogized his son and connected the subsequent easing of restrictions to his son 's dying prayer and compared it to the intended sacrifice of xxmaj abraham 's son . xxmaj the religion also shares many of the same commonalities of xxmaj judaism , xxmaj christianity and xxmaj islam . xxmaj the religion emphasizes monotheism and believes in one eternal transcendent xxmaj god , the station of the founders of the major religions as xxmaj manifestations of xxmaj god come with revelation as a series of interventions by xxmaj god in human history that has been progressive , and each preparing the way for the next . xxmaj there is no definitive list of xxmaj manifestations of xxmaj god , but xxmaj bahá'u'lláh and ' xxmaj abdu'l - xxmaj bahá referred to several personages as xxmaj manifestations ; they include individuals generally not recognized by other xxmaj abrahamic religions — xxmaj krishna , xxmaj zoroaster , and xxmaj buddha — and general statements go further to other cultures . \n",
              " \n",
              " \n",
              "  xxrep 4 = xxmaj druze faith xxrep 4 = \n",
              " \n",
              "  xxmaj the xxmaj druze faith or xxmaj xxunk is a monotheistic religion based on the teachings of high xxmaj islamic figures like xxmaj hamza xxunk ibn - xxmaj ahmad and xxmaj al - xxmaj hakim bi - xxmaj amr xxmaj allah , and xxmaj greek philosophers such as xxmaj plato and xxmaj aristotle . xxmaj hamza ibn xxmaj ali ibn xxmaj ahmad is considered the founder of the xxmaj druze and the primary author of the xxmaj druze manuscripts . xxmaj and xxmaj jethro of xxmaj midian is considered an ancestor of xxmaj druze , who revere him as their spiritual founder and chief prophet . xxmaj the xxmaj epistles of xxmaj wisdom is the foundational text of the xxmaj druze faith . xxmaj the xxmaj druze faith incorporates elements of xxmaj islam 's xxmaj xxunk , xxmaj gnosticism , xxmaj neoplatonism , xxmaj pythagoreanism , xxmaj christianity , xxmaj hinduism and other philosophies and beliefs , creating a distinct and secretive theology known to interpret xxunk religious scriptures , and to highlight the role of the mind and truthfulness . xxmaj the xxmaj druze follow theophany , and believe in reincarnation or the transmigration of the soul . xxmaj at the end of the cycle of rebirth , which is achieved through successive reincarnations , the soul is united with the xxmaj cosmic xxmaj mind ( xxmaj al xxmaj xxunk xxmaj al xxmaj xxunk ) . xxmaj in the xxmaj druze faith , xxmaj jesus is considered one of xxmaj god 's important prophets . xxmaj the xxmaj druze xxmaj faith is often classified as a branch of xxmaj xxunk xxmaj shia xxmaj islam . xxmaj even though the faith originally developed out of xxmaj ismaili xxmaj islam , xxmaj druze are not generally considered xxmaj muslims . \n",
              " \n",
              " \n",
              "  xxrep 4 = xxmaj mandaeism xxrep 4 = \n",
              " \n",
              "  xxmaj mandaeism or xxmaj xxunk ( xxmaj arabic : xxunk xxmaj xxunk ) is a monotheistic xxmaj gnostic religion with a strongly dualistic worldview . xxmaj its adherents , the xxmaj mandaeans , revere xxmaj adam , xxmaj abel , xxmaj seth , xxmaj xxunk , xxmaj noah , xxmaj shem , xxmaj aram , and especially xxmaj john the xxmaj baptist . xxmaj occasionally , xxmaj mandaeans are called \" xxmaj christians of xxmaj saint xxmaj john \" by xxmaj jews and xxmaj christians . xxmaj the xxmaj mandaeans do not worship the xxmaj god of xxmaj abraham and they hate xxmaj abraham , considering him , along with xxmaj moses , xxmaj jesus and xxmaj mohammed , to be a false prophet . xxmaj they regard the xxmaj abrahamic religions of xxmaj judaism , xxmaj christianity and xxmaj islam as hostile or enemy religions . xxmaj abraham , or xxmaj xxunk , was a priest of the xxmaj xxunk , who , because he was circumcised , went out into the desert with the lepers and the unclean and began to worship xxmaj xxunk , one of the powers of xxmaj darkness . xxmaj it was through xxmaj xxunk 's power of xxmaj darkness that xxmaj abraham and his people became strong . xxmaj the xxmaj mandaeans are xxmaj gnostics and worship a supreme xxmaj god far removed from the malevolent creator god of the material world , who in xxmaj mandaean writings , is identified as the xxmaj lord of the xxmaj old xxmaj testament and is associated with the xxmaj holy xxmaj spirit . xxmaj both the xxmaj lord and the xxmaj holy xxmaj spirit are regarded as malevolent figures . xxmaj while biblically informed , xxmaj xxunk has been characterized as \" not - exactly - xxmaj abrahamic - or - xxmaj muslim \" dualism . \n",
              " \n",
              " \n",
              "  xxrep 4 = xxmaj rastafari xxrep 4 = \n",
              "  xxmaj rastafari , sometimes termed xxmaj xxunk , is also sometimes listed as an xxmaj abrahamic religion . xxmaj classified as both a new religious movement and social movement , it developed in xxmaj jamaica during the 1930s . xxmaj it lacks any centralised authority and there is much xxunk among practitioners , who are known as xxmaj rastafari , xxmaj xxunk , or xxmaj rastas . \n",
              "  xxmaj rastafari refer to their beliefs , which are based on a specific interpretation of the xxmaj bible , as \" xxmaj xxunk \" . xxmaj central is a monotheistic belief in a single xxmaj god — referred to as xxmaj jah — who partially resides within each individual . xxmaj the former emperor of xxmaj ethiopia , xxmaj haile xxmaj selassie , is given central importance . xxmaj many xxmaj rastas regard him as an incarnation of xxmaj jah on xxmaj earth and as the xxmaj second xxmaj coming of xxmaj christ . xxmaj others regard him as a human prophet who fully recognised the inner divinity within every individual . xxmaj rastafari is xxmaj xxunk and focuses its attention on the xxmaj african diaspora , which it believes is oppressed within xxmaj western society , or \" xxmaj babylon \" . xxmaj many xxmaj rastas call for the resettlement of the xxmaj african diaspora in either xxmaj ethiopia or xxmaj africa more widely , referring to this continent as the xxmaj promised xxmaj land of \" xxmaj zion \" . xxmaj other interpretations shift focus on to the adoption of an xxmaj xxunk attitude while living outside of xxmaj africa . xxmaj rastas refer to their practices as \" xxunk \" . xxmaj communal meetings are known as \" xxunk \" , and are typified by music , chanting , discussions , and the smoking of cannabis , the latter being regarded as a sacrament with beneficial properties . xxmaj rastas place emphasis on what they regard as living ' naturally ' , adhering to xxunk dietary requirements , allowing their hair to form into dreadlocks , and following patriarchal gender roles . \n",
              "  xxmaj rastafari originated among impoverished and socially disenfranchised xxmaj afro - xxmaj jamaican communities . xxmaj its xxmaj xxunk ideology was largely a reaction against xxmaj jamaica 's then - dominant xxmaj british colonial culture . xxmaj it was influenced by both xxmaj xxunk and the xxmaj back - to - xxmaj africa movement promoted by black nationalist figures like xxmaj marcus xxmaj garvey . xxmaj the movement developed after several xxmaj christian clergymen , most notably xxmaj leonard xxmaj howell , proclaimed that the crowning of xxmaj haile xxmaj selassie as xxmaj emperor of xxmaj ethiopia in 1930 fulfilled a xxmaj biblical prophecy . xxmaj by the 1950s , xxmaj rastafari 's counter - cultural stance had brought the movement into conflict with wider xxmaj jamaican society , including violent clashes with law enforcement . xxmaj in the 1960s and 1970s it gained increased respectability within xxmaj jamaica and greater visibility abroad through the popularity of xxmaj rasta - inspired reggae musicians like xxmaj bob xxmaj marley . xxmaj enthusiasm for xxmaj rastafari declined in the 1980s , following the deaths of xxmaj haile xxmaj selassie and xxmaj marley . \n",
              "  xxmaj the xxmaj rasta movement is organised on a largely cellular basis . xxmaj there are several denominations , or \" xxmaj mansions of xxmaj rastafari \" , the most prominent of which are the xxmaj xxunk , xxmaj bobo xxmaj ashanti , xxmaj ethiopian xxmaj zion xxmaj coptic xxmaj church , and the xxmaj twelve xxmaj tribes of xxmaj israel , each of which offers different interpretations of xxmaj rasta belief . xxmaj there are an estimated xxunk to 1 million xxmaj rastas across the world ; the largest population is in xxmaj jamaica although communities can be found in most of the world 's major population centres . \n",
              " \n",
              " \n",
              "  xxrep 4 = xxmaj xxunk xxrep 4 = \n",
              "  xxmaj xxunk is based on some of the same books used as the basis of xxmaj judaism but differs from the latter . xxmaj samaritan religious works include the xxmaj samaritan version of the xxmaj torah , the xxmaj xxunk xxmaj xxunk , the xxmaj samaritan liturgy , and xxmaj samaritan law codes and biblical commentaries . xxmaj many claim the xxmaj samaritans appear to have a text of the xxmaj torah as old as the xxmaj masoretic xxmaj text ; scholars have various theories concerning the actual relationships between these three texts . \n",
              " \n",
              " \n",
              "  xxrep 4 = xxmaj xxunk xxrep 4 = \n",
              "  xxmaj xxunk is the name given to the beliefs and practices of the xxmaj xxunk people of xxmaj kurdistan region and around xxmaj mosul in xxmaj iraq . a majority of xxmaj xxunk regard themselves as xxmaj shia , and a minority identify as xxmaj sunnis . xxmaj despite this , their actual faith and rituals differ from xxmaj islam , and have characteristics that make them distinct from neighboring xxmaj muslim populations . xxmaj these include features from xxmaj christianity including confession , and the consumption of alcohol , and the fact that xxmaj xxunk often go on pilgrimage to xxmaj yazidi shrines . xxmaj nevertheless , the xxmaj xxunk people also go on pilgrimages to xxmaj shia holy cities such as xxmaj xxunk and xxmaj karbala , and follow many xxmaj shiite teachings . xxmaj the organization of xxmaj xxunk appears to be much like that of a xxmaj sufi order : adult laymen ( xxmaj xxunk ) are bound to spiritual guides ( xxunk or xxmaj xxunk ) who are knowledgeable in matters of religious doctrine and ritual . xxmaj there are several ranks of such xxunk ; at the top stands the xxmaj baba , or supreme head of the order . xxmaj theoretically individuals can choose their own xxunk , but in practice the pir families often become associated with lay families over several generations . xxmaj xxunk combines elements of xxmaj sufism with the uniquely xxmaj xxunk interpretation of \" divine reality . \" xxmaj according to xxmaj xxunk , this divine reality xxunk the literal , or xxmaj xxunk , interpretation of the xxmaj quran . xxmaj xxunk comprehend divine reality through the mediation of the \" xxmaj pir \" or spiritual guide , who also performs xxmaj xxunk rituals . xxmaj the structure of these xxunk relationships closely resembles that of the xxmaj xxunk . xxmaj the primary xxmaj xxunk religious text is the xxmaj xxunk or xxmaj kitab al - xxmaj xxunk ( xxmaj book of xxmaj exemplary xxmaj acts ) and is written in xxmaj xxunk . xxmaj xxunk also consider the poetry of xxmaj ismail i to be revealed by xxmaj god , and they recite xxmaj ismail 's poetry during religious meetings . \n",
              " \n",
              " \n",
              "  xxrep 4 = xxmaj xxunk ( the xxmaj xxunk , xxmaj xxunk and xxmaj xxunk faiths ) xxrep 4 = \n",
              " \n",
              "  xxmaj xxunk , or the xxmaj cult of xxmaj angels , is a proposed pre - xxmaj islamic , native religion of the xxmaj kurds . xxmaj the term was introduced by xxmaj kurdish scholar xxmaj xxunk xxmaj xxunk to represent what he considers the \" original \" religion of the xxmaj kurds as the primary inhabitants of the xxmaj xxunk xxmaj mountains , until their increasing xxmaj islamization in the course of the 10th century . xxmaj according to xxmaj xxunk , xxmaj xxunk is now continued in the denominations of xxmaj xxunk , xxmaj xxunk , and xxmaj xxunk . xxmaj the three traditions subsumed under the term xxmaj xxunk are primarily practiced in relatively isolated communities , from xxmaj khurasan to xxmaj anatolia and parts of western xxmaj iran . \n",
              "  xxmaj the concept of xxmaj xxunk has found a wide perception both within and beyond xxmaj kurdish nationalist discourses , but has been disputed by other recognized scholars of xxmaj iranian religions . xxmaj well established , however , are the \" striking \" and \" unmistakable \" similarities between the xxmaj xxunk and the xxmaj xxunk or xxmaj ahl - e xxmaj xxunk , some of which can be traced back to elements of an ancient faith that was probably dominant among xxmaj western xxmaj iranians and likened to practices of pre - xxmaj zoroastrian xxmaj mithraic religion . xxmaj xxunk xxmaj xxunk defines the xxmaj xxunk as an ancient xxmaj hurrian religion and states that xxmaj xxunk could have introduced some of the xxmaj vedic tradition that appears to be manifest in xxmaj xxunk . \n",
              " \n",
              " \n",
              "  = = xxmaj abrahamic ethno - religious groups = = \n",
              "  xxmaj some small religions , such as xxmaj xxunk , xxmaj druze , xxmaj rastafari movement , and the xxmaj bábí xxmaj faith , are xxmaj abrahamic . xxmaj these religions are regional , with xxmaj samaritans largely in xxmaj israel and the xxmaj west xxmaj bank , xxmaj druze largely in xxmaj syria , xxmaj lebanon , xxmaj israel , and xxmaj jordan , and xxmaj rastafari largely in xxmaj jamaica . \n",
              " \n",
              " \n",
              "  = = xxmaj origins and history = = \n",
              " \n",
              "  xxmaj the civilizations that developed in xxmaj mesopotamia influenced some religious texts , particularly the xxmaj hebrew xxmaj bible and the xxmaj book of xxmaj genesis . xxmaj abraham is said to have originated in xxmaj mesopotamia . xxmaj judaism regards itself as the religion of the descendants of xxmaj jacob , a grandson of xxmaj abraham . xxmaj it has a strictly unitary view of xxmaj god , and the central holy book for almost all branches is the xxmaj masoretic xxmaj text as elucidated in the xxmaj oral xxmaj torah . xxmaj in the 19th century and 20th centuries xxmaj judaism developed a small number of branches , of which the most significant are xxmaj orthodox , xxmaj conservative , and xxmaj reform . \n",
              "  xxmaj christianity began as a sect of xxmaj judaism in the xxmaj mediterranean xxmaj basin of the first century xxup ce and evolved into a separate religion — xxmaj christianity — with distinctive beliefs and practices . xxmaj jesus is the central figure of xxmaj christianity , considered by almost all denominations to be xxmaj god the xxmaj son , one person of the xxmaj trinity . ( xxmaj see xxmaj god in xxmaj christianity . ) xxmaj the xxmaj christian biblical canons are usually held to be the ultimate authority , alongside sacred tradition in some denominations ( such as the xxmaj catholic xxmaj church and the xxmaj eastern xxmaj orthodox xxmaj church ) . xxmaj over many centuries , xxmaj christianity divided into three main branches ( xxmaj catholic , xxmaj orthodox , and xxmaj protestant ) , dozens of significant denominations , and hundreds of smaller ones . \n",
              "  xxmaj islam arose in the xxmaj arabian xxmaj peninsula in the 7th century xxup ce with a strictly unitary view of xxmaj god . xxmaj muslims hold the xxmaj quran to be the ultimate authority , as revealed and elucidated through the teachings and practices of a central , but not divine , prophet , xxmaj muhammad . xxmaj the xxmaj islamic faith considers all prophets and messengers from xxmaj adam through the final messenger ( xxmaj muhammad ) to carry the same xxmaj islamic monotheistic principles . xxmaj soon after its founding , xxmaj islam split into two main branches ( xxmaj sunni and xxmaj shia xxmaj islam ) , each of which now has a number of denominations . \n",
              "  xxmaj the xxmaj bahá'í xxmaj faith began within the context of xxmaj shia xxmaj islam in 19th - century xxmaj persia , after a merchant named xxmaj xxunk ' xxmaj xxunk xxmaj xxunk xxmaj xxunk claimed divine revelation and took on the title of the xxmaj báb , or \" the xxmaj gate \" . xxmaj the xxmaj bab 's ministry proclaimed the imminent advent of \" xxmaj he whom xxmaj god shall make manifest \" , who xxmaj bahá'í 's accept as xxmaj bahá'u'lláh . xxmaj bahá'í 's revere the xxmaj torah , xxmaj gospels and the xxmaj quran , and the writings of the xxmaj báb , xxmaj bahá'u'lláh , and ' xxmaj xxunk - xxmaj bahá ' are considered the central texts of the faith . a vast majority of adherents are unified under a single denomination . xxmaj lesser - known xxmaj abrahamic religions , originally offshoots of xxmaj shia xxmaj islam , include xxmaj bábism and the xxmaj druze faith . \n",
              " \n",
              " \n",
              "  = = xxmaj common aspects = = \n",
              "  xxmaj all xxmaj abrahamic religions accept the tradition that xxmaj god revealed himself to the patriarch xxmaj abraham . xxmaj all are monotheistic , and conceive xxmaj god to be a transcendent creator and the source of moral law . xxmaj their religious texts feature many of the same figures , histories , and places , although they often present them with different roles , perspectives , and meanings . xxmaj believers who agree on these similarities and the common xxmaj abrahamic origin tend to also be more positive towards other xxmaj abrahamic groups . xxmaj in the three main xxmaj abrahamic xxunk , xxmaj christianity and xxmaj islam ) , the individual , xxmaj god , and the universe are highly separate from each other . xxmaj the xxmaj abrahamic religions believe in a judging , paternal , fully external god to which the individual and nature are subordinate . xxmaj one seeks salvation or transcendence not by contemplating the natural world or via philosophical speculation , but by seeking to please xxmaj god ( such as obedience with xxmaj god 's wishes or his law ) and see divine revelation as outside of self , nature , and custom . \n",
              " \n",
              " \n",
              "  = = = xxmaj monotheism = = = \n",
              "  xxmaj all xxmaj abrahamic religions claim to be monotheistic , worshiping an exclusive xxmaj god , although one known by different names . xxmaj each of these religions preaches that xxmaj god creates , is one , rules , reveals , loves , judges , punishes , and forgives . xxmaj however , although xxmaj christianity does not profess to believe in three gods — but rather in three persons , or hypostases , united in one essence — the xxmaj trinitarian doctrine , a fundamental of faith for the vast majority of xxmaj christian denominations , conflicts with xxmaj jewish and xxmaj muslim concepts of monotheism . xxmaj since the conception of a divine xxmaj trinity is not amenable to tawhid , the xxmaj islamic doctrine of monotheism , xxmaj islam regards xxmaj christianity as variously polytheistic . xxmaj christianity and xxmaj islam both revere xxmaj jesus ( xxmaj arabic : xxmaj isa or xxmaj xxunk among xxmaj muslims and xxmaj arab xxmaj christians respectively ) but with vastly differing conceptions : \n",
              " \n",
              "  xxmaj christians view xxmaj jesus as the saviour ( and most xxmaj christians also regard him as xxmaj god incarnate ) . \n",
              "  xxmaj muslims see xxmaj isa as a xxmaj prophet of xxmaj islam and xxmaj messiah . xxmaj however , the worship of xxmaj jesus , or the ascribing of partners to xxmaj god ( known as shirk in xxmaj islam and as xxunk in xxmaj judaism ) , is typically viewed as the heresy of idolatry by xxmaj islam and xxmaj judaism . xxmaj judaism and xxmaj islam see the incarnation of xxmaj god into human form as a heresy . \n",
              " \n",
              " \n",
              "  = = = xxmaj theological continuity = = = \n",
              " \n",
              "  xxmaj all the xxmaj abrahamic religions affirm one eternal xxmaj god who created the universe , who rules history , who sends prophetic and angelic messengers and who reveals the divine will through inspired revelation . xxmaj they also affirm that obedience to this creator deity is to be lived out historically and that one day xxmaj god will unilaterally intervene in human history at the xxmaj last xxmaj judgment . xxmaj christianity , xxmaj islam , and xxmaj judaism have a teleological view on history , unlike the static or cyclic view on it found in other cultures ( the latter being common in xxmaj indian religions ) . \n",
              " \n",
              " \n",
              "  = = = xxmaj scripture = = = \n",
              " \n",
              "  xxmaj all xxmaj abrahamic religions believe that xxmaj god guides humanity through revelation to prophets , and each religion recognizes that xxmaj god revealed teachings up to and including those in their own scripture . \n",
              " \n",
              " \n",
              "  = = = xxmaj ethical orientation = = = \n",
              " \n",
              "  xxmaj an ethical orientation : all these religions speak of a choice between good and evil , which is associated with obedience or disobedience to a single xxmaj god and to xxmaj divine xxmaj law . \n",
              " \n",
              " \n",
              "  = = = xxmaj eschatological world view = = = \n",
              "  xxmaj an eschatological world view of history and destiny , beginning with the creation of the world and the concept that xxmaj god works through history , and ending with a resurrection of the dead and final judgment and world to come . \n",
              " \n",
              " \n",
              "  = = = xxmaj importance of xxmaj jerusalem = = = \n",
              " \n",
              "  xxmaj jerusalem is considered xxmaj judaism 's holiest city . xxmaj its origins can be dated to 1004 xxup bce when according to xxmaj biblical tradition xxmaj david established it as the capital of the xxmaj united xxmaj kingdom of xxmaj israel , and his son xxmaj solomon built the xxmaj first xxmaj temple on xxmaj mount xxmaj moriah . xxmaj since the xxmaj hebrew xxmaj bible relates that xxmaj isaac 's sacrifice took place there , xxmaj mount xxmaj moriah 's importance for xxmaj jews predates even these prominent events . xxmaj jews thrice daily pray in its direction , including in their prayers pleas for the restoration and the rebuilding of the xxmaj holy xxmaj temple ( the xxmaj third xxmaj temple ) on mount xxmaj moriah , close the xxmaj passover service with the wistful statement \" xxmaj next year in built xxmaj jerusalem , \" and recall the city in the blessing at the end of each meal . xxmaj jerusalem has served as the only capital for the five xxmaj jewish states that have existed in xxmaj israel since 1400 xxup bce ( the xxmaj united xxmaj kingdom of xxmaj israel , the xxmaj kingdom of xxmaj judah , xxmaj yehud xxmaj xxunk , the xxmaj hasmonean xxmaj kingdom , and modern xxmaj israel ) . xxmaj it has been majority xxmaj jewish since about 1852 and continues through today . xxmaj jerusalem was an early center of xxmaj christianity . xxmaj there has been a continuous xxmaj christian presence there since . xxmaj william xxup r. xxmaj xxunk , xxmaj jr. , professor of the history of xxmaj christianity at the xxmaj university of xxmaj virginia , xxmaj charlottesville , writes that from the middle of the 4th century to the xxmaj islamic conquest in the middle of the 7th century , the xxmaj roman province of xxmaj palestine was a xxmaj christian nation with xxmaj jerusalem its principal city . xxmaj according to the xxmaj new xxmaj testament , xxmaj jerusalem was the city xxmaj jesus was brought to as a child to be presented at the xxunk xxunk ] and for the feast of the xxunk xxunk ] xxmaj he preached and healed in xxmaj jerusalem , unceremoniously drove the money changers in disarray from the temple there , held the xxmaj last xxmaj supper in an \" upper room \" ( traditionally the xxmaj xxunk ) there the night before he is said to have died on the cross , was arrested in xxmaj gethsemane . xxmaj the six parts to xxmaj jesus ' trial — three stages in a religious court and three stages before a xxmaj roman court — were all held in xxmaj jerusalem . xxmaj his crucifixion at xxmaj golgotha , his burial nearby ( traditionally the xxmaj church of the xxmaj holy xxmaj sepulchre ) , and his resurrection and ascension and prophecy to return all are said to have occurred or will occur there . \n",
              "  xxmaj jerusalem became holy to xxmaj muslims , third after xxmaj mecca and xxmaj medina . xxmaj the xxmaj al - xxmaj aqsa xxmaj mosque , which translates to \" farthest mosque \" in sura xxmaj al - xxmaj xxunk in the xxmaj quran and its surroundings are addressed in the xxmaj quran as \" the holy land \" . xxmaj muslim tradition as recorded in the xxunk identifies al - xxmaj aqsa with a mosque in xxmaj jerusalem . xxmaj the first xxmaj muslims did not pray toward xxmaj kaaba , but toward xxmaj jerusalem ( this was the xxunk for 13 years ) : the xxunk was switched to xxmaj kaaba later on to fulfill the order of xxmaj allah of praying in the direction of xxmaj kaaba ( xxmaj quran , xxmaj al - xxmaj xxunk xxunk ) . xxmaj another reason for its significance is its connection with the xxmaj xxunk , where , according to traditional xxmaj muslim , xxmaj muhammad ascended through the xxmaj seven heavens on a winged mule named xxmaj xxunk , guided by the xxmaj archangel xxmaj gabriel , beginning from the xxmaj foundation xxmaj stone on the xxmaj temple xxmaj mount , in modern times under the xxmaj dome of the xxmaj rock . \n",
              " \n",
              " \n",
              "  = = = xxmaj significance of xxmaj abraham = = = \n",
              " \n",
              "  xxmaj even though members of xxmaj judaism , xxmaj christianity , and xxmaj islam do not all claim xxmaj abraham as an ancestor , some members of these religions have tried to claim him as exclusively theirs . xxmaj for xxmaj jews , xxmaj abraham is the founding patriarch of the children of xxmaj israel . xxmaj god promised xxmaj abraham : \" i will make of you a great nation , and i will bless you . xxunk . 12:2 ] xxmaj with xxmaj abraham , xxmaj god entered into \" an everlasting covenant throughout the ages to be xxmaj god to you and to your offspring to xxunk . xxunk ] xxmaj it is this covenant that makes xxmaj abraham and his descendants children of the covenant . xxmaj similarly , converts , who join the covenant , are all identified as sons and daughters of xxmaj abraham . xxmaj abraham is primarily a revered ancestor or patriarch ( referred to as xxmaj avraham xxmaj xxunk ( xxunk xxunk in xxmaj hebrew ) \" xxmaj abraham our father \" ) to whom xxmaj god made several promises : chiefly , that he would have xxunk descendants , who would receive the land of xxmaj canaan ( the \" xxmaj promised xxmaj land \" ) . xxmaj according to xxmaj jewish tradition , xxmaj abraham was the first post - xxmaj flood prophet to reject idolatry through rational analysis , although xxmaj shem and xxmaj xxunk carried on the tradition from xxmaj noah . xxmaj christians view xxmaj abraham as an important exemplar of faith , and a spiritual , as well as physical , ancestor of xxmaj jesus . xxmaj for xxmaj christians , xxmaj abraham is a spiritual xxunk as well as / rather than a direct ancestor depending on the individual 's interpretation of xxmaj paul the xxunk . xxunk ] with the xxmaj abrahamic covenant \" reinterpreted so as to be defined by faith in xxmaj christ rather than biological descent \" or both by faith as well as a direct ancestor ; in any case , the emphasis is placed on faith being the only requirement for the xxmaj abrahamic xxmaj covenant to apply ( see also xxmaj new xxmaj covenant and supersessionism ) . xxmaj in xxmaj christian belief , xxmaj abraham is a role model of xxunk . xxunk ] and his obedience to xxmaj god by offering xxmaj isaac is seen as a foreshadowing of xxmaj god 's offering of his son xxunk . xxunk commentators have a tendency to interpret xxmaj god 's promises to xxmaj abraham as applying to xxmaj christianity subsequent to , and sometimes rather than ( as in supersessionism ) , being applied to xxmaj judaism , whose adherents rejected xxmaj jesus . xxmaj they argue this on the basis that just as xxmaj abraham as a xxmaj gentile ( before he was circumcised ) \" believed xxmaj god and it was credited to him as righteousness \" [ xxmaj gen. xxunk ] ( cf . xxmaj rom . xxunk , xxmaj james xxunk ) , \" those who have faith are children of xxmaj abraham \" [ xxmaj gal . xxunk ] ( see also xxmaj john xxunk ) . xxmaj this is most fully developed in xxmaj paul 's theology where all who believe in xxmaj god are spiritual descendants of xxunk . xxunk ] [ xxmaj gal . xxunk ] xxmaj however , with regards to xxmaj rom . xxunk and xxmaj gal . xxunk , in both cases he refers to these spiritual descendants as the \" sons of xxunk . xxunk ] rather than \" children of xxmaj xxunk . xxmaj for xxmaj muslims , xxmaj abraham is a prophet , the \" messenger of xxmaj god \" who stands in the line from xxmaj adam to xxmaj muhammad , to whom xxmaj god gave xxunk xxunk ] , who \" raised the foundations of the xxmaj house \" ( i.e. , the xxunk xxunk ] with his first son , xxmaj xxunk , a symbol of which is every mosque . xxmaj ibrahim ( xxmaj abraham ) is the first in a genealogy for xxmaj muhammad . xxmaj islam considers xxmaj abraham to be \" one of the first xxmaj muslims \" ( xxmaj surah xxunk first monotheist in a world where monotheism was lost , and the community of those faithful to xxmaj god , thus being referred to as xxunk xxunk or \" xxmaj our xxmaj father xxmaj abraham \" , as well as xxmaj ibrahim al - xxmaj hanif or \" xxmaj abraham the xxmaj monotheist \" . xxmaj also , the same as xxmaj judaism , xxmaj islam believes that xxmaj abraham rejected idolatry through logical reasoning . xxmaj abraham is also recalled in certain details of the annual xxmaj hajj pilgrimage . \n",
              " \n",
              " \n",
              "  = = xxmaj differences = = \n",
              " \n",
              " \n",
              "  = = = xxmaj god = = = \n",
              " \n",
              "  xxmaj the xxmaj abrahamic xxmaj god is conceived of as eternal , omnipotent , omniscient and as the creator of the universe . xxmaj god is further held to have the properties of holiness , justice , omnibenevolence and omnipresence . xxmaj proponents of xxmaj abrahamic faiths believe that xxmaj god is also transcendent , but at the same time personal and involved , listening to prayer and reacting to the actions of his creatures . \n",
              " \n",
              "  xxmaj in xxmaj jewish theology , xxmaj god is strictly monotheistic . xxmaj god is an absolute one , indivisible and incomparable being who is the ultimate cause of all existence . xxmaj jewish tradition teaches that the true aspect of xxmaj god is incomprehensible and unknowable and that it is only xxmaj god 's revealed aspect that brought the universe into existence , and interacts with mankind and the world . xxmaj in xxmaj judaism , the one xxmaj god of xxmaj israel is the xxmaj god of xxmaj abraham , xxmaj isaac , and xxmaj jacob , who is the guide of the world , delivered xxmaj israel from slavery in xxmaj egypt , and gave them the 613 xxmaj mitzvot at xxmaj mount xxmaj sinai as described in the xxmaj torah . \n",
              "  xxmaj the national god of the xxmaj israelites has a proper name , written xxup yhwh ( xxmaj hebrew : xxunk , xxmaj modern : xxmaj xxunk , xxmaj tiberian : xxmaj xxunk ) in the xxmaj hebrew xxmaj bible . xxmaj the name xxup yhwh is a combination of the future , present , and past tense of the verb \" xxunk \" ( xxmaj hebrew : xxunk ) meaning \" to be \" and translated literally means \" xxmaj the self - existent xxmaj one \" . a further explanation of the name was given to xxmaj moses when xxup yhwh stated xxmaj xxunk xxmaj asher xxmaj xxunk ( xxmaj hebrew : xxunk xxunk xxunk ) \" i will be that i will be \" , the name relates to xxmaj god as xxmaj god truly is , xxmaj god 's revealed essence , which transcends the universe . xxmaj it also represents xxmaj god 's compassion towards the world . xxmaj in xxmaj jewish tradition another name of xxmaj god is xxmaj elohim , relating to the interaction between xxmaj god and the universe , xxmaj god as manifest in the physical world , it designates the justice of xxmaj god , and means \" the xxmaj one who is the totality of powers , forces and causes in the universe \" . \n",
              " \n",
              "  xxmaj in xxmaj christian theology , xxmaj god is the eternal being who created and preserves the world . xxmaj christians believe xxmaj god to be both transcendent and immanent ( involved in the world ) . xxmaj early xxmaj christian views of xxmaj god were expressed in the xxmaj pauline xxmaj epistles and the early creeds , which proclaimed one xxmaj god and the divinity of xxmaj jesus . \n",
              "  xxmaj around the year 200 , xxmaj tertullian formulated a version of the doctrine of the xxmaj trinity which clearly affirmed the divinity of xxmaj jesus and came close to the later definitive form produced by the xxmaj ecumenical xxmaj council of 381 . xxmaj trinitarians , who form the large majority of xxmaj christians , hold it as a core tenet of their faith . xxmaj nontrinitarian denominations define the xxmaj father , the xxmaj son , and the xxmaj holy xxmaj spirit in a number of different ways . xxmaj the theology of the attributes and nature of xxmaj god has been discussed since the earliest days of xxmaj christianity , with xxmaj irenaeus writing in the 2nd century : \" xxmaj his greatness lacks nothing , but contains all things \" . xxmaj in the 8th century , xxmaj john of xxmaj damascus listed eighteen attributes which remain widely accepted . xxmaj as time passed , theologians developed systematic lists of these attributes , some based on statements in the xxmaj bible ( e.g. , the xxmaj lord 's xxmaj prayer , stating that the xxmaj father is in xxmaj heaven ) , others based on theological reasoning . \n",
              " \n",
              "  xxmaj in xxmaj islamic theology , xxmaj god ( xxmaj arabic : xxunk xxmaj allāh ) is the all - powerful and all - knowing creator , sustainer , xxunk and judge of everything in existence . xxmaj islam emphasizes that xxmaj god is strictly singular ( xxunk ) unique ( xxunk ) and inherently xxmaj one ( xxunk ) , all - merciful and omnipotent . xxmaj according to xxmaj islamic teachings , xxmaj god exists without place and according to the xxmaj quran , \" xxmaj no vision can grasp him , but xxmaj his grasp is over all vision : xxmaj he is above all comprehension , yet is acquainted with all things . \" xxmaj god , as referenced in the xxmaj quran , is the only xxmaj god . xxmaj islamic tradition also describes the 99 names of xxmaj god . xxmaj these 99 names describe attributes of xxmaj god , including xxmaj most xxmaj merciful , xxmaj the xxmaj just , xxmaj the xxmaj peace and xxmaj blessing , and the xxmaj guardian . \n",
              "  xxmaj islamic belief in xxmaj god is distinct from xxmaj christianity in that xxmaj god has no progeny . xxmaj this belief is summed up in chapter 112 of the xxmaj quran titled xxmaj al - xxmaj xxunk , which states \" xxmaj say , he is xxmaj allah ( who is ) one , xxmaj allah is the xxmaj eternal , the xxmaj absolute . xxmaj he does not xxunk nor was he begotten . xxmaj nor is there to xxmaj him any xxunk xxunk ] \n",
              " \n",
              " \n",
              "  = = = xxmaj scriptures = = = \n",
              " \n",
              "  xxmaj all these religions rely on a body of scriptures , some of which are considered to be the word of xxmaj god — hence sacred and xxunk — and some the work of religious men , revered mainly by tradition and to the extent that they are considered to have been divinely inspired , if not dictated , by the divine being . \n",
              "  xxmaj the sacred scriptures of xxmaj judaism are the xxmaj tanakh , a xxmaj hebrew acronym standing for xxmaj torah ( xxmaj law or xxmaj teachings ) , xxmaj nevi'im ( xxmaj prophets ) and xxmaj ketuvim ( xxmaj writings ) . xxmaj these are complemented by and supplemented with various ( originally oral ) traditions : xxmaj midrash , the xxmaj mishnah , the xxmaj talmud and collected rabbinical writings . xxmaj the xxmaj tanakh ( or xxmaj hebrew xxmaj bible ) was composed between xxunk xxup bce , and 400 xxup bce by xxmaj jewish prophets , kings , and priests . \n",
              "  xxmaj the xxmaj hebrew text of the xxmaj tanakh , and the xxmaj torah in particular is considered holy , down to the last letter : transcribing is done with painstaking care . xxmaj an error in a single letter , ornamentation or symbol of the 300,000 + stylized letters that make up the xxmaj hebrew xxmaj torah text renders a xxmaj torah scroll unfit for use ; hence the skills of a xxmaj torah scribe are specialist skills , and a scroll takes considerable time to write and check . \n",
              " \n",
              "  xxmaj the sacred scriptures of most xxmaj christian groups are the xxmaj old xxmaj testament and the xxmaj new xxmaj testament . xxmaj latin xxmaj bibles originally contained 73 books ; however , 7 books , collectively called the xxmaj apocrypha or xxmaj deuterocanon depending on one 's opinion of them , were removed by xxmaj martin xxmaj luther due to a lack of original xxmaj hebrew sources , and now vary on their inclusion between denominations . xxmaj greek xxmaj bibles contain additional materials . \n",
              "  xxmaj the xxmaj new xxmaj testament comprises four accounts of the life and teachings of xxmaj jesus ( the xxmaj four xxmaj gospels ) , as well as several other writings ( the epistles ) and the xxmaj book of xxmaj revelation . xxmaj they are usually considered to be divinely inspired , and together comprise the xxmaj christian xxmaj bible . \n",
              "  xxmaj the vast majority of xxmaj christian faiths ( including xxmaj catholicism , xxmaj orthodox xxmaj christianity , and most forms of xxmaj protestantism ) recognize that the xxmaj gospels were passed on by oral tradition , and were not set to paper until decades after the resurrection of xxmaj jesus and that the extant versions are copies of those originals . xxmaj the version of the xxmaj bible considered to be most valid ( in the sense of best conveying the true meaning of the word of xxmaj god ) has varied considerably : the xxmaj greek xxmaj septuagint , the xxmaj syriac xxmaj peshitta , the xxmaj latin xxmaj vulgate , the xxmaj english xxmaj king xxmaj james xxmaj version and the xxmaj russian xxmaj xxunk xxmaj bible have been authoritative to different communities at different times . \n",
              "  xxmaj the sacred scriptures of the xxmaj christian xxmaj bible are complemented by a large body of writings by individual xxmaj christians and councils of xxmaj christian leaders ( see canon law ) . xxmaj some xxmaj christian churches and denominations consider certain additional writings to be binding ; other xxmaj christian groups consider only the xxmaj bible to be binding ( sola scriptura ) . \n",
              " \n",
              "  xxmaj islam 's holiest book is the xxmaj quran , comprising 114 xxmaj suras ( \" chapters of the xxmaj qur'an \" ) . xxmaj however , xxmaj muslims also believe in the religious texts of xxmaj judaism and xxmaj christianity in their original forms , albeit not the current versions . xxmaj according to the xxmaj quran ( and mainstream xxmaj muslim belief ) , the verses of the xxmaj quran were revealed by xxmaj god through the xxmaj archangel xxmaj xxunk to xxmaj muhammad on separate occasions . xxmaj these revelations were written down and also memorized by hundreds of companions of xxmaj muhammad . xxmaj these multiple sources were collected into one official copy . xxmaj after the death of xxmaj mohammed , xxmaj quran was copied on several copies and xxmaj caliph xxmaj uthman provided these copies to different cities of xxmaj islamic xxmaj empire . \n",
              "  xxmaj the xxmaj quran mentions and xxunk several of the xxmaj israelite prophets , including xxmaj moses and xxmaj jesus , among others ( see also : xxmaj prophets of xxmaj islam ) . xxmaj the stories of these prophets are very similar to those in the xxmaj bible . xxmaj however , the detailed precepts of the xxmaj tanakh and the xxmaj new xxmaj testament are not adopted outright ; they are replaced by the new commandments accepted as revealed directly by xxmaj god ( through xxmaj gabriel ) to xxmaj muhammad and codified in the xxmaj quran . \n",
              "  xxmaj like the xxmaj jews with the xxmaj torah , xxmaj muslims consider the original xxmaj arabic text of the xxmaj quran as xxunk and holy to the last letter , and any translations are considered to be interpretations of the meaning of the xxmaj quran , as only the original xxmaj arabic text is considered to be the divine scripture . xxmaj like the xxmaj rabbinic xxmaj oral xxmaj law to the xxmaj hebrew xxmaj bible , the xxmaj quran is complemented by the xxmaj hadith , a set of books by later authors recording the sayings of the prophet xxmaj muhammad . xxmaj the xxmaj hadith interpret and elaborate xxmaj qur'anic precepts . xxmaj islamic scholars have categorized each xxmaj hadith at one of the following levels of authenticity or xxunk : genuine ( sahih ) , fair ( hasan ) or weak ( xxunk the 9th century , six major xxmaj hadith collections were accepted as reliable to xxmaj sunni xxmaj muslims . \n",
              " \n",
              "  xxmaj sahih al - xxmaj bukhari \n",
              "  xxmaj sahih xxmaj muslim \n",
              "  xxmaj sunan ibn xxmaj xxunk \n",
              "  xxmaj sunan xxmaj abu xxmaj xxunk \n",
              "  xxmaj xxunk al - xxmaj xxunk \n",
              "  xxmaj sunan an - xxunk xxmaj muslims , however , refer to other authenticated hadiths instead . xxmaj they are known collectively as xxmaj the xxmaj four xxmaj books . \n",
              "  xxmaj the xxmaj hadith and the life story of xxmaj muhammad ( sira ) form the xxmaj sunnah , an authoritative supplement to the xxmaj quran . xxmaj the legal opinions of xxmaj islamic jurists ( xxmaj xxunk ) provide another source for the daily practice and interpretation of xxmaj islamic tradition ( see xxmaj fiqh . ) \n",
              "  xxmaj the xxmaj quran contains repeated references to the \" religion of xxmaj abraham \" ( see xxmaj suras xxunk ; xxunk ; xxunk ; xxunk ; xxunk ; xxunk ) . xxmaj in the xxmaj quran , this expression refers specifically to xxmaj islam ; sometimes in contrast to xxmaj christianity and xxmaj judaism , as in xxmaj sura xxunk , for example : ' xxmaj they say : \" xxmaj become xxmaj jews or xxmaj christians if ye would be guided ( to salvation ) . \" xxmaj say thou ( o xxmaj muslims ) : \" xxmaj nay ! ( i would rather ) the xxmaj religion of xxmaj abraham the xxmaj true , and he joined not gods with xxmaj god . \" ' xxmaj in the xxmaj quran , xxmaj abraham is declared to have been a xxmaj muslim ( a hanif , more accurately a \" primordial monotheist \" ) , not a xxmaj jew nor a xxmaj christian ( xxmaj sura xxunk ) . \n",
              " \n",
              " \n",
              "  = = = xxmaj eschatology = = = \n",
              " \n",
              "  xxmaj in the major xxmaj abrahamic religions , there exists the expectation of an individual who will herald the time of the end or bring about the xxmaj kingdom of xxmaj god on xxmaj earth ; in other words , the xxmaj messianic prophecy . xxmaj judaism awaits the coming of the xxmaj jewish xxmaj messiah ; the xxmaj jewish concept of xxmaj messiah differs from the xxmaj christian concept in several significant ways , despite the same term being applied to both . xxmaj the xxmaj jewish xxmaj messiah is not seen as a \" god \" , but as a mortal man who by his holiness is worthy of that description . xxmaj his appearance is not the end of history , rather it signals the coming of the world to come . \n",
              "  xxmaj christianity awaits the xxmaj second xxmaj coming of xxmaj christ , though xxmaj full xxmaj preterists believe this has already happened . xxmaj islam awaits both the second coming of xxmaj jesus ( to complete his life and die ) and the coming of xxmaj mahdi ( xxmaj sunnis in his first incarnation , xxmaj shia as the return of xxmaj muhammad al - xxmaj mahdi ) . \n",
              "  xxmaj most xxmaj abrahamic religions agree that a human being comprises the body , which dies , and the soul , which is capable of remaining alive beyond human death and carries the person 's essence , and that xxmaj god will judge each person 's life accordingly on the xxmaj day of xxmaj judgement . xxmaj the importance of this and the focus on it , as well as the precise criteria and end result , differ between religions . xxmaj judaism 's views on the afterlife ( \" the xxmaj next xxmaj world \" ) are quite diverse . xxmaj this can be attributed to the fact that although there clearly are traditions in the xxmaj hebrew xxmaj bible of an afterlife ( see xxmaj xxunk and the xxmaj witch of xxmaj endor ) , xxmaj judaism focuses on this life and how to lead a holy life to please xxmaj god , rather than future reward . \n",
              "  xxmaj christians have more diverse and definite teachings on the end times and what constitutes afterlife . xxmaj most xxmaj christian approaches either include different abodes for the dead ( xxmaj heaven , xxmaj hell , xxmaj limbo , xxmaj purgatory ) or universal reconciliation because all souls are made in the image of xxmaj god . a small minority teach xxunk , the doctrine that those persons who are not reconciled to xxmaj god simply cease to exist . \n",
              "  xxmaj in xxmaj islam , xxmaj god is said to be \" xxmaj most xxmaj compassionate and xxmaj most xxmaj merciful \" ( xxmaj quran 1:2 , as well as the start of all xxmaj suras but one ) . xxmaj however , xxmaj god is also \" xxmaj most xxmaj just \" ; xxmaj islam prescribes a literal xxmaj hell for those who disobey xxmaj god and commit gross sin . xxmaj those who obey xxmaj god and submit to xxmaj god will be rewarded with their own place in xxmaj paradise . xxmaj while sinners are punished with fire , there are also many other forms of punishment described , depending on the sin committed ; xxmaj hell is divided into numerous levels . \n",
              "  xxmaj those who worship and remember xxmaj god are promised eternal abode in a physical and spiritual xxmaj paradise . xxmaj heaven is divided into eight levels , with the highest level of xxmaj paradise being the reward of those who have been most virtuous , the prophets , and those killed while fighting for xxmaj allah ( martyrs ) . \n",
              "  xxmaj upon repentance to xxmaj god , many sins can be forgiven , on the condition they are not repeated , as xxmaj god is supremely merciful . xxmaj additionally , those who believe in xxmaj god , but have led sinful lives , may be punished for a time , and then eventually released into xxmaj paradise . xxmaj if anyone dies in a state of xxmaj shirk ( i.e. associating xxmaj god in any way , such as claiming that xxmaj he is equal with anything or denying xxmaj him ) , this is not xxunk — he or she will stay forever in xxmaj hell . \n",
              "  xxmaj once a person is admitted to xxmaj paradise , this person will abide there for eternity . \n",
              " \n",
              " \n",
              "  = = = xxmaj worship and religious rites = = = \n",
              " \n",
              "  xxmaj worship , ceremonies and religion - related customs differ substantially among the xxmaj abrahamic religions . xxmaj among the few similarities are a seven - day cycle in which one day is nominally reserved for worship , prayer or other religious activities — xxmaj shabbat , xxmaj sabbath , or jumu'ah ; this custom is related to the biblical story of xxmaj genesis , where xxmaj god created the universe in six days and rested in the seventh . \n",
              "  xxmaj orthodox xxmaj judaism practice is guided by the interpretation of the xxmaj torah and the xxmaj talmud . xxmaj before the destruction of the xxmaj temple in xxmaj jerusalem , xxmaj jewish priests offered sacrifices there two times daily ; since then , the practice has been replaced , until the xxmaj temple is rebuilt , by xxmaj jewish men being required to pray three times daily , including the chanting of the xxmaj torah , and facing in the direction of xxmaj jerusalem 's xxmaj temple xxmaj mount . xxmaj other practices include circumcision , dietary laws , xxmaj shabbat , xxmaj passover , xxmaj torah study , xxmaj tefillin , purity and others . xxmaj conservative xxmaj judaism , xxmaj reform xxmaj judaism and the xxmaj reconstructionist movement all move away , in different degrees , from the strict tradition of the law . \n",
              "  xxmaj jewish women 's prayer obligations vary by denomination ; in contemporary xxmaj orthodox practice , women do not read from the xxmaj torah and are only required to say certain parts of these daily services . \n",
              "  xxmaj all versions of xxmaj judaism share a common , specialized calendar , containing many festivals . xxmaj the calendar is lunisolar , with lunar months and a solar year ( an extra month is added every second or third year to allow the shorter lunar year to \" catch up \" to the solar year ) . xxmaj all streams observe the same festivals , but some emphasize them differently . xxmaj as is usual with its extensive law system , the xxmaj orthodox have the most complex manner of observing the festivals , while the xxmaj reform pay more attention to the simple symbolism of each one . \n",
              "  xxmaj christian worship varies from denomination to denomination . xxmaj individual prayer is usually not ritualised , while group prayer may be ritual or non - ritual according to the occasion . xxmaj during church services , some form of liturgy is frequently followed . xxmaj rituals are performed during sacraments , which also vary from denomination to denomination and usually include xxmaj baptism and xxmaj communion , and may also include xxmaj confirmation , xxmaj confession , xxmaj last xxmaj rites and xxmaj holy xxmaj orders . \n",
              "  xxmaj catholic worship practice is governed by the xxmaj roman xxmaj missal and other documents . xxmaj individuals , churches and denominations place different emphasis on ritual — some denominations consider most ritual xxunk,xxbos xxmaj the xxmaj gospel of xxmaj nicodemus , also known as the xxmaj acts of xxmaj pilate ( xxmaj latin : xxmaj acta xxmaj xxunk ; xxmaj greek : xxmaj xxunk xxmaj xxunk ) , is an apocryphal gospel claimed to have been derived from an original xxmaj hebrew work written by xxmaj nicodemus , who appears in the xxmaj gospel of xxmaj john as an associate of xxmaj jesus . xxmaj the title \" xxmaj gospel of xxmaj nicodemus \" is medieval in origin . xxmaj the dates of its xxunk sections are uncertain , but according to the 1907 edition of the xxmaj catholic xxmaj encyclopedia scholars agree in assigning the resulting work to the middle of the fourth century xxunk section about xxmaj pilate is an older text found in the xxmaj greek xxmaj acts of xxmaj peter and xxmaj paul and , according to the surviving version , is an official document from xxmaj pontius xxmaj pilate ( or composed from reports at the xxunk at xxmaj jerusalem ) reporting events in xxmaj judea to xxmaj emperor xxmaj tiberius , and referring to the crucifixion of xxmaj jesus , as well as his miracles . \n",
              " \n",
              " \n",
              "  = = xxmaj history and authenticity = = \n",
              "  xxmaj the oldest sections of the book appear first in xxmaj greek . xxmaj the text contains multiple parts , which are uneven in style and would seem to be by different hands . xxmaj according to the xxmaj acts of xxmaj pilate , the original version was preserved in the xxunk at xxmaj jerusalem . xxmaj the question of the original language is debated . xxmaj beyond xxmaj greek , the versions in xxmaj latin , xxmaj syriac , xxmaj coptic , xxmaj georgian , xxmaj slavonic , and other languages have survived . xxmaj the prevailing view is that the xxmaj christian xxmaj acts of xxmaj pilate were first devised and published as a counter blast to the pagan xxmaj acts .. xxmaj it can be shown , that the work behind the xxmaj christian xxmaj acts of xxmaj pilate must have originated very early . \"the first part of the book , containing the story of the xxmaj passion and xxmaj resurrection , is not earlier than the fourth century . xxmaj its object in the main is to furnish xxunk testimony to the resurrection . xxmaj attempts have been made to show that it is of early date - that it is , for instance , the writing which xxmaj justin xxmaj martyr meant when in his xxmaj apology he referred his heathen readers to the ’ xxmaj acts ’ of xxmaj christ ’s trial preserved among the archives of xxmaj rome . xxmaj the truth of that matter is that he simply assumed that such records must exist . xxmaj false ’ acts ’ of the trial were written in the xxmaj pagan interest under xxmaj xxunk , and introduced into schools early in the fourth century . xxmaj it is imagined by some that our book was a xxunk to these . xxmaj the account of the xxmaj descent into xxmaj hell ( xxmaj part xxup ii ) is an addition to the xxmaj acta . xxmaj it does not appear in any xxmaj oriental version , and the xxmaj greek copies are rare . xxmaj it is in xxmaj latin that it has chiefly flourished , and has been the parent of versions in every xxmaj european language . \" \n",
              " \n",
              " \n",
              "  = = xxmaj core texts = = \n",
              "  xxmaj the main body of the xxmaj gospel of xxmaj nicodemus is in two sections , with an appendix , xxmaj xxunk ad xxmaj xxunk ( the xxmaj harrowing of xxmaj hell ) . xxmaj the first ( chapters i – xi ) contains the trial of xxmaj jesus based upon xxmaj luke 23 . xxmaj in addition to the xxmaj greek and xxmaj latin witnesses of the first part , there are three other notable ancient versions including xxmaj syriac or xxmaj aramaic ( also known as xxmaj hebrew in the 1st century ) , xxmaj armenian , and xxmaj coptic . xxmaj the second part ( xii – xvi ) concerns the xxmaj resurrection . xxmaj in it , xxmaj xxunk and xxmaj xxunk , the two souls raised from the dead after the xxmaj crucifixion , relate to the xxmaj sanhedrin the circumstances of the descent of xxmaj christ to xxmaj limbo . a literature of miracle - tale romance developed around a conflated \" xxmaj xxunk xxmaj xxunk \" as an author of further texts . xxmaj the xxmaj harrowing of xxmaj hell episode depicts xxmaj st xxmaj xxunk accompanying xxmaj christ in xxmaj hell , and the deliverance of the righteous xxmaj old xxmaj testament patriarchs . \n",
              "  xxmaj an appended text is a written report made by xxmaj pontius xxmaj pilate to xxmaj claudius , containing a description of the crucifixion , as well as an account of the resurrection of xxmaj jesus ; both are presented as an official report . xxmaj one series of xxmaj latin manuscripts includes as an appendix or continuation , the episode xxmaj xxunk xxmaj xxunk xxmaj xxunk ( \" xxmaj the xxmaj cure of xxmaj tiberius \" ) , the oldest form of the xxmaj veronica legend , according to the xxmaj catholic xxmaj encyclopedia , in which xxmaj emperor xxmaj tiberius is cured of his xxunk . ( xxmaj compare the legend of the xxmaj image of xxmaj edessa . ) \n",
              " \n",
              " \n",
              "  = = xxmaj dating and readership = = \n",
              "  xxmaj as the xxmaj church historian xxmaj eusebius of xxmaj caesarea ( writing c. 325 ) shows no acquaintance with this xxmaj gospel , historians assume that it xxunk this time . xxmaj eusebius was aware of related texts : the \" xxmaj letters of xxmaj pilate \" referred to by xxmaj justin and xxmaj tertullian as well as an anti - xxmaj christian text called xxmaj acts of xxmaj pilate , which was prescribed for reading in schools under the emperor xxmaj xxunk during the xxmaj xxunk xxmaj persecution . \" xxmaj we are forced to admit that [ the xxmaj christian xxmaj acts of xxmaj pilate ] is of later origin , and scholars agree in assigning it to the middle of the fourth century . \" xxmaj epiphanius refers to an xxmaj acta xxmaj xxunk ( c. 376 ) , but the extant xxmaj greek texts show evidence of later editing . \n",
              "  xxmaj justin xxmaj martyr wrote , \" xxmaj and that these things did happen , you can ascertain from the xxmaj acts of xxmaj pontius xxmaj pilate . \" xxmaj the xxmaj apology letters were written and addressed by name to the xxmaj roman xxmaj emperor xxmaj pius and the xxmaj roman xxmaj governor xxmaj xxunk . xxmaj all three of these men lived between xxup ad 138 – 161 . \n",
              "  xxmaj the xxmaj acta xxmaj xxunk have had a long history inspiring devotional works . a xxmaj xxunk xxunk la xxmaj xxunk del xxunk xxunk xxmaj xxunk xxmaj christo , drawing in part on xxmaj acta xxmaj xxunk for its expanded anecdotal elements in the xxmaj passion , was printed twenty - eight times in xxmaj italy between about 1476 and 1500 , and inspired the depiction of xxmaj christ before xxmaj pilate by xxmaj xxunk . \n",
              " \n",
              " \n",
              "  = = xxmaj naming of xxmaj new xxmaj testament figures = = \n",
              "  xxmaj the xxmaj gospel of xxmaj nicodemus names several minor xxmaj new xxmaj testament figures who were not named in the canonical texts ; for example , the soldier who speared xxmaj jesus on the cross is named as xxmaj xxunk and the two criminals crucified beside xxmaj jesus are named as xxmaj xxunk and xxmaj xxunk . \n",
              " \n",
              " \n",
              "  = = xxmaj see also = = \n",
              "  xxmaj list of xxmaj gospels \n",
              " \n",
              " \n",
              "  = = xxmaj references = = \n",
              " \n",
              " \n",
              "  = = xxmaj external links = = \n",
              "  xxmaj the xxmaj report of xxmaj pilate to the xxmaj emperor xxmaj claudius e - text , xxup xxunk xxmaj james , translator \n",
              "  xxmaj herbermann , xxmaj charles , ed . ( 1913 ) . \" xxmaj acta xxmaj xxunk \" . xxmaj catholic xxmaj encyclopedia . xxmaj new xxmaj york : xxmaj robert xxmaj appleton xxmaj company . \n",
              "  \" xxmaj gospel of xxmaj nicodemus , or xxmaj acts of xxmaj pilate \" ( xxup pdf ) . xxmaj the xxmaj apocryphal xxmaj new xxmaj testament . xxmaj translated by xxmaj james , xxup xxunk xxmaj oxford : xxmaj clarendon xxmaj press . 1924 . xxmaj archived from the original ( xxup pdf ) on 5 xxmaj july 2015 . \n",
              "  xxmaj simmons , xxmaj austin ( 2010 ) . \" xxmaj the xxmaj xxunk of the xxmaj franks xxmaj casket \" ( xxup pdf ) . xxmaj archived from the original ( xxup pdf ) on 3 xxmaj march 2012 . xxmaj an apocryphal tradition reflected in the xxmaj xxunk xxmaj xxunk ( see xxmaj old xxmaj english literature ) very likely influenced the art carved into the back of the xxmaj franks xxmaj casket ; this article argues that the xxmaj xxunk ad xxmaj xxunk is alluded to on the casket 's ill - understood right side .\n",
              "y: CategoryList\n",
              "R,R,R,R,R\n",
              "Path: /content/drive/My Drive/AI & Tech Research/Religion of GPT2/fastai;\n",
              "\n",
              "Test: None, model=SequentialRNN(\n",
              "  (0): MultiBatchEncoder(\n",
              "    (module): AWD_LSTM(\n",
              "      (encoder): Embedding(60000, 400, padding_idx=1)\n",
              "      (encoder_dp): EmbeddingDropout(\n",
              "        (emb): Embedding(60000, 400, padding_idx=1)\n",
              "      )\n",
              "      (rnns): ModuleList(\n",
              "        (0): WeightDropout(\n",
              "          (module): LSTM(400, 1152, batch_first=True)\n",
              "        )\n",
              "        (1): WeightDropout(\n",
              "          (module): LSTM(1152, 1152, batch_first=True)\n",
              "        )\n",
              "        (2): WeightDropout(\n",
              "          (module): LSTM(1152, 400, batch_first=True)\n",
              "        )\n",
              "      )\n",
              "      (input_dp): RNNDropout()\n",
              "      (hidden_dps): ModuleList(\n",
              "        (0): RNNDropout()\n",
              "        (1): RNNDropout()\n",
              "        (2): RNNDropout()\n",
              "      )\n",
              "    )\n",
              "  )\n",
              "  (1): PoolingLinearClassifier(\n",
              "    (layers): Sequential(\n",
              "      (0): BatchNorm1d(1200, eps=1e-05, momentum=0.1, affine=True, track_running_stats=True)\n",
              "      (1): Dropout(p=0.12, inplace=False)\n",
              "      (2): Linear(in_features=1200, out_features=50, bias=True)\n",
              "      (3): ReLU(inplace=True)\n",
              "      (4): BatchNorm1d(50, eps=1e-05, momentum=0.1, affine=True, track_running_stats=True)\n",
              "      (5): Dropout(p=0.1, inplace=False)\n",
              "      (6): Linear(in_features=50, out_features=2, bias=True)\n",
              "    )\n",
              "  )\n",
              "), opt_func=functools.partial(<class 'torch.optim.adam.Adam'>, betas=(0.9, 0.99)), loss_func=FlattenedLoss of CrossEntropyLoss(), metrics=[<function accuracy at 0x7fc8b0fb9ea0>], true_wd=True, bn_wd=True, wd=0.01, train_bn=True, path=PosixPath('/content/drive/My Drive/AI & Tech Research/Religion of GPT2/fastai'), model_dir='models', callback_fns=[functools.partial(<class 'fastai.basic_train.Recorder'>, add_time=True, silent=False)], callbacks=[RNNTrainer\n",
              "learn: RNNLearner(data=TextClasDataBunch;\n",
              "\n",
              "Train: LabelList (13481 items)\n",
              "x: TextList\n",
              "xxbos xxmaj mun or xxmaj xxunk ( also called xxmaj xxunk ) is the traditional polytheistic , animist , shamanistic or xxmaj bon xxunk , and syncretic religion of the xxmaj lepcha people . xxmaj it predates the seventh century xxmaj lepcha conversion to xxmaj xxunk xxmaj buddhism , and since that time , the xxmaj lepcha have practiced it together with xxmaj buddhism . xxmaj since the arrival of xxmaj christian missionaries in the nineteenth century , xxmaj mun traditions have been followed alongside that religion as well . xxmaj the traditional religion permits incorporation of xxmaj buddha and xxmaj jesus xxmaj christ as deities , depending on household beliefs . xxmaj the xxunk \" xxmaj mun \" derives from the traditional belief in spirits called mun or xxunk . xxmaj together with xxunk ( also xxunk or xxunk ) , mun comprise a central element in the religion . xxmaj these terms are also used to describe the shaman priesthood that xxunk the respective spirits . xxmaj the xxmaj mun religion and its priesthood are in decline . xxmaj conversion to other religions is attributed to economic pressure , as traditional practices are immensely expensive to the ordinary practitioner . xxmaj it has , however , regained interest among xxmaj lepcha as ecological encroachment becomes a growing concern . xxmaj the environment is so deeply intertwined with xxmaj mun beliefs that religious leaders have offered direct opposition to development in areas including the xxmaj xxunk xxmaj chu and xxmaj xxunk xxmaj rivers . \n",
              " \n",
              " \n",
              "  = = xxmaj mythology = = \n",
              "  xxmaj the traditional xxmaj lepcha belief system is rich in oral myths , legends , fables , and fairy - tales collectively called xxunk sung . xxmaj according to xxmaj mun mythology , the ancestors of the xxmaj lepcha were created by xxmaj xxunk xxmaj rum , who molded them from the pure snows of mount xxmaj xxunk . xxmaj they thus share a lineage with the natural environment and share the cosmos with non - human spirits . xxmaj the spirit of the legendary xxmaj xxunk xxmaj xxunk delivers xxunk to the xxmaj lepcha chief through mun or xxunk shamans . \n",
              " \n",
              " \n",
              "  = = xxmaj belief system = = \n",
              "  xxmaj the belief system of xxmaj mun is animist , and the natural environment provides much of its basis . xxmaj naturally occurring spirits are an object of ceremonial dedication , and they reside in objects such as trees , rocks , and rivers . xxmaj it is also a syncretic religion that has coexisted with xxmaj mahayana xxmaj buddhism since its arrival in the seventh century , with practitioners following both religions at the same time . xxmaj traditional beliefs may have influenced xxmaj lepcha xxmaj buddhist scriptures . xxmaj modern religious life in a xxmaj lepcha village is centered on the xxunk , or xxmaj buddhist monastery . xxmaj many xxmaj lepcha were converted to xxmaj christianity by xxmaj scottish missionaries in the 19th century , however xxmaj buddhism and the traditional religion have retained important roles in xxmaj lepcha religious life . xxmaj many xxmaj christian xxmaj lepcha who have lost their xxmaj lepcha language have also distanced themselves from these traditional aspects of xxmaj lepcha religion . xxmaj mun religion includes a belief in heaven , called xxunk or rum xxunk ( from rum \" god \" and xxunk \" land / place \" ) . \n",
              " \n",
              " \n",
              "  = = = xxmaj deities = = = \n",
              "  xxmaj the xxmaj mun religion is polytheistic and syncretic : it acknowledges several deities , including those of other religions , namely xxmaj buddhism and xxmaj christianity . xxmaj the chief goddess of the xxmaj lepcha religion is xxmaj xxunk . xxmaj the mother - creator is a female earth deity , xxmaj it xxmaj xxunk ( also xxmaj xxunk - moo ) . xxmaj two other female deities are the chief of the mun spirits . xxmaj traditional xxmaj lepcha beliefs include deities governing family , clan ( or lineage , xxunk ) , village , region , and wider levels . xxmaj clan deities may be named after mountain peaks or rivers , while regions are home to deities associated with xxmaj xxunk such as xxmaj xxunk - rum - fat . xxmaj the current traditional religion also incorporates xxmaj buddha and xxmaj jesus xxmaj christ as a deities , depending on household beliefs . \n",
              " \n",
              " \n",
              "  = = = xxmaj mun spirits = = = \n",
              "  xxmaj mun spirits are of two general types : the benevolent , or white magician , xxunk - li mun , and the malevolent , or black magician , xxunk - sek mun or xxunk . xxmaj the latter reside in trees , bushes , rocks , and rivers . xxmaj the spirits are further subdivided into seven classes : xxunk mun , xxunk mun , xxunk mun , xxunk mun , xxunk mun , mun xxunk mun and xxunk - xxunk mun . xxmaj mun spirits , and witchcraft , are believed to be the xxunk culprit of illness . \n",
              " \n",
              " \n",
              "  = = xxmaj rituals = = \n",
              "  xxmaj ceremonies are usually performed for one or several households , and consist of two parts . xxmaj the rum portion is an offering to devils . xxmaj the second , xxunk , is for offerings to the deity xxmaj xxunk , to xxmaj xxunk rum fat , and to the plains . xxmaj ceremonies generally seek to appease these spirits . xxmaj xxunk rituals generally include prayers , herbs , and amulets , and may also include directed breathing or spitting by the priest . xxmaj ritual prayers are sometimes in the form of glossolalia . xxmaj spirit possession is considered to occur in various ways : from a subtle headache to violent , uncontrollable madness . xxmaj generally symptoms are the manifestation of xxunk spirits feeding off the flesh , blood , internal organs , or life energy of the host . xxmaj ritual paraphernalia include the xxunk bell , xxunk xxunk necklaces , and consecrated cup filled with chi . xxmaj the religion practices animal sacrifice , especially of goats and pigs . xxmaj mun priests are traditionally present at xxmaj lepcha celebrations for birth , marriage , and death . xxmaj among the xxmaj lepcha , xxmaj mun xxunk are the only obligatory aspect of a commoner 's funeral . xxmaj the funerary ceremony , called xxunk flee , is accompanied by the sacrifice of a goat and a hen three days after death . xxmaj it is also performed at the home of people who die elsewhere , for fear of the spirit 's return . xxmaj auspicious locations and days , particularly in rural settings , may be required of rituals to address more severe ailments or threatening afflictions . xxmaj festivals are also a central aspect of the religion . \n",
              " \n",
              " \n",
              "  = = xxmaj priesthood = = \n",
              "  xxmaj the priesthood consists of two types of shaman , corresponding to the spirits they manifest . xxmaj mun enter trance , believed to involve spirit possession , manifesting supernatural entities bodily . xxmaj spirits can be male or female . xxmaj the xxunk are only male , where they have to learn and practice rituals . xxmaj it is said that xxmaj xxunk came before xxmaj mun , so as to show respect , the xxmaj mun needs to learn both the xxmaj xxunk way and the xxmaj mun way . xxmaj their main functions are to ward off misfortunes and illness , perform exorcisms , and guide souls to the afterlife . xxmaj some also adjudicate theft cases . xxmaj although the priesthood exists , the religion considers true knowledge to be a divine revelation through meditation or dreams , as opposed to a learned talent . xxmaj both the mun and xxunk priesthoods are hereditary , although they do not pass strictly xxunk . xxmaj trained disciples of existing masters are often recruited to service at times of crisis as an election by ancestors or shamanic gods . xxmaj it is possible for a xxunk to advance to mun status . xxmaj xxunk are a male hereditary junior priesthood . a xxunk is usually an initiate on the path to becoming a mun shaman , and has the right to offer sacrifice . xxmaj the traditional priesthood also plays a role in the indigenous medical system , as they learn traditional medicine and healing rituals . \n",
              " \n",
              " \n",
              "  = = xxmaj see also = = \n",
              "  xxmaj lepcha people \n",
              "  xxmaj animism \n",
              "  xxmaj syncretism \n",
              "  xxmaj buddhism in xxmaj india \n",
              "  xxmaj indigenous peoples of xxmaj sikkim \n",
              " \n",
              " \n",
              "  = = xxmaj references = =,xxbos xxmaj the xxmaj day of the xxmaj vow ( xxmaj afrikaans : xxmaj xxunk ) was a religious public holiday in xxmaj south xxmaj africa . xxmaj it is an important holiday for xxmaj xxunk , originating from the xxmaj battle of xxmaj blood xxmaj river on 16 xxmaj december 1838 . \n",
              "  xxmaj initially called xxmaj xxunk 's xxmaj day ( xxmaj afrikaans : xxmaj xxunk ) , 16 xxmaj december was made an annual national holiday in 1910 , before being renamed xxmaj day of the xxmaj vow in 1982 . \n",
              "  xxmaj in 1994 , after the end of xxmaj apartheid , it was replaced by the xxmaj day of xxmaj reconciliation , an annual holiday also on 16 xxmaj december , \n",
              " \n",
              " \n",
              "  = = xxmaj origin = = \n",
              "  xxmaj the day of the xxmaj vow traces its origin as an annual religious holiday to xxmaj the xxmaj battle of xxmaj blood xxmaj river on 16 xxmaj december 1838 . xxmaj the besieged xxmaj xxunk took a public vow ( or covenant ) together before the battle , led by xxmaj xxunk xxmaj xxunk . xxmaj in return for xxmaj god 's help in obtaining victory , they promised to build a church and forever honour this day as a holy day of xxmaj god . xxmaj they vowed that they and their descendants would keep the day as a holy xxmaj sabbath . xxmaj during the battle a group of about 470 xxmaj xxunk defeated a force of about 20,000 xxmaj zulu . xxmaj three xxmaj xxunk were wounded , and some 3,000 xxmaj zulu warriors died in the battle . \n",
              "  xxmaj two of the earlier names given to the day stem from this prayer . xxmaj officially known as the xxmaj day of the xxmaj vow , the commemoration was renamed from the xxmaj day of the xxmaj covenant in 1982 . xxmaj xxunk colloquially refer to it as xxmaj xxunk ( xxmaj xxunk 's xxmaj day ) , a reference to the xxmaj zulu ruler of the defeated attackers . \n",
              " \n",
              " \n",
              "  = = xxmaj wording = = \n",
              "  xxmaj no verbatim record of the vow exists . xxmaj the version often considered to be the original vow is in fact xxup xxunk xxmaj xxunk 's ca . 1962 translation into xxmaj afrikaans of xxup xxunk xxmaj xxunk 's reconstruction of the vow in his 1919 biography of xxmaj xxunk xxmaj xxunk ( xxmaj bailey xxunk ) . \n",
              "  xxmaj the wording of the xxmaj vow is : \n",
              " \n",
              "  xxmaj afrikaans : xxmaj xxunk xxunk ons voor die xxmaj xxunk xxmaj god van xxmaj xxunk en xxunk om xxunk xxunk xxunk xxmaj hom te xxunk , dat , as xxmaj xxunk ons sal xxunk en ons xxunk in ons hand sal gee , ons die dag en xxunk xxunk xxunk as xxunk xxunk xxunk xxunk xxmaj sabbat sal xxunk ; en dat ons xxunk xxunk tot xxmaj sy xxunk sal xxunk xxunk xxunk xxmaj hom xxunk , en dat ons xxunk xxunk ons xxunk sal xxunk dat xxunk met ons xxunk xxunk xxunk tot xxunk xxunk xxunk die xxunk xxunk . xxmaj want die xxunk van xxmaj sy naam sal xxunk word xxunk die xxunk en die xxunk van xxunk xxunk xxmaj hom te gee . \n",
              "  xxmaj english : xxmaj we stand here before the xxmaj holy xxmaj god of heaven and earth , to make a vow to xxmaj him that , if xxmaj he will protect us and give our enemy into our hand , we shall keep this day and date every year as a day of thanksgiving like a sabbath , and that we shall build a house to xxmaj his honour wherever it should please xxmaj him , and that we will also tell our children that they should share in that with us in memory for future generations . xxmaj for the honour of xxmaj his name will be glorified by giving xxmaj him the fame and honour for the victory . \n",
              " \n",
              " \n",
              "  = = xxmaj history = = \n",
              " \n",
              "  xxmaj the official version of the event is that a public vow was taken - xxmaj the xxmaj covenant xxmaj vow on xxmaj sunday , xxunk . xxmaj xxunk - xxmaj it was at this xxmaj xxunk xxunk where xxmaj pretorius , xxmaj xxunk and xxmaj xxunk formulated “ xxmaj the xxmaj vow ” and recorded by xxmaj xxunk ( pages 54 - 55 of his journal - location of xxmaj xxunk , xxup xxunk ° 18 ' xxunk xxup xxunk ° 8 ' xxunk ) . xxmaj the original xxmaj xxunk words from the journal read as follows ; \n",
              "  \" xxmaj sunday morning before service began , the xxmaj commander in xxmaj chief ( xxmaj pretorius ) asked those who would lead the service to come together and requested them to speak with the congregation so that they should be zealous in spirit , and in truth , pray to xxmaj god for xxmaj his help and assistance in the coming strike against the enemy , and tell them that xxmaj pretorius wanted to make a xxmaj vow towards the xxmaj almighty ( if all agreed to this ) that \" if the xxmaj lord might give us victory , we hereby promise to found a house ( church ) as a memorial of his xxmaj great xxmaj name at a place ( xxmaj xxunk ) where it shall please xxmaj him \" , and that they also xxunk the help and assistance of xxmaj god in accomplishing this vow and that they write down this xxmaj day of xxmaj victory in a book and disclose this event to our very last xxunk in order that this will forever be celebrated in the honour of xxmaj god . \" \n",
              "  xxmaj this bound future descendants of the xxmaj afrikaner to commemorate the day as a religious holiday ( sabbath ) in the case of victory over the xxmaj xxunk by promising to build a church in xxmaj god 's honour . xxmaj by xxmaj july 1839 nothing had yet been done at xxmaj xxunk regarding their pledge to build a church , and it was xxmaj jan xxmaj xxunk xxmaj xxunk himself who motivated everyone to keep that promise . xxmaj in 1841 with capital accumulated by xxmaj xxunk at the xxmaj xxunk , the xxmaj church of the xxmaj vow at xxmaj xxunk was eventually built - the biggest donor being the widow , xxmaj mrs. xxunk xxmaj xxunk in xxmaj xxunk . \n",
              "  xxmaj as the original vow was never recorded in verbatim form , descriptions come only from the diary of xxmaj jan xxmaj xxunk with a dispatch written by xxmaj xxunk xxmaj pretorius to the xxmaj xxunk on 23 xxmaj december 1838 ; and the recollections of xxmaj xxunk xxmaj xxunk in 1871 . a participant in the battle , xxmaj xxunk xxmaj pretorius also wrote his recollections in 1862 , interpreting the vow as including the building of churches and schools ( xxmaj bailey xxunk ) . \n",
              "  xxmaj jan xxup b. xxmaj xxunk ( xxunk ) , xxmaj pretorius ' secretary , indicates that the initial promise was to build a xxmaj house in return for victory . xxmaj he notes that xxmaj pretorius called everyone together in his tent , ( the senior officers ) and asked them to pray for xxmaj god 's help . xxmaj xxunk writes in his journal that xxmaj pretorius told the assembly that he wanted to make a vow , \" if everyone would agree \" ( xxmaj bailey xxunk ) . xxmaj xxunk does not say whether everyone did so . xxmaj perhaps the fractious nature of the xxmaj xxunk dictated that the raiding party held their own prayers in the tents of various leading men ( xxmaj mackenzie xxunk ) . xxmaj pretorius is also quoted as wanting to have a book written to make known what xxmaj god had done to even \" our last xxunk . xxmaj pretorius in his 1838 dispatch mentions a vow ( xxmaj afrikaans : xxunk ) in connection with the building of a church , but not that it would be binding for future generations . \n",
              " \n",
              "  we here have decided among ourselves ... to make known the day of our victory ... among the whole of our generation , and that we want to devote it to xxmaj god , and to celebrate [ it ] with thanksgiving , just as we ... promised [ xxunk ] in public prayer \n",
              "  xxmaj contrary to xxmaj pretorius , and in agreement with xxmaj xxunk , xxmaj xxunk in 1870 recalled a promise ( xxmaj afrikaans : xxunk ) , not a vow , to commemorate the day and to tell the story to future generations . xxmaj accordingly , they would remember : \n",
              " \n",
              "  the day and date , every year as a commemoration and a day of thanksgiving , as though a xxmaj sabbath ... and that we will also tell it to our children , that they should share in it with us , for the remembrance of our future generations \n",
              "  xxmaj xxunk writes that those who objected were given the option to leave . xxmaj at least two persons declined to participate in the vow . xxmaj scholars disagree about whether the accompanying xxmaj english settlers and servants complied ( xxmaj bailey 2003 ) . xxmaj this seems to confirm that the promise was binding only on those present at the actual battle . xxmaj mackenzie ( 1997 ) claims that xxmaj xxunk may be recalling what he said to men who met in his tent . \n",
              "  xxmaj up to the 1970s the received version of events was seldom questioned , but since then scholars have questioned almost every aspect . xxmaj they debate whether a vow was even taken and , if so , what its wording was . xxmaj some argue that the vow occurred on the day of the battle , others point to 7 or 9 xxmaj december . xxmaj whether xxmaj xxunk xxmaj pretorius or xxmaj xxunk xxmaj xxunk led the assembly has been debated ; and even whether there was an assembly . xxmaj the location at which the vow was taken has also produced diverging opinions , with some rejecting the xxmaj xxunk xxmaj river site for ( xxmaj bailey 2003 ) . \n",
              " \n",
              " \n",
              "  = = xxmaj commemorations of the xxmaj day of the xxmaj vow = = \n",
              " \n",
              "  xxmaj disagreements exist about the extent to which the date was commemorated before the 1860s . xxmaj some historians maintained that little happened between 1838 and 1910 . xxmaj historian xxup xxunk xxmaj mackenzie argues that the day was not commemorated before the 1880s . xxmaj initial observations may have been limited to those associated with the battle at xxmaj xxunk xxmaj river and their descendants . xxmaj while xxmaj xxunk xxmaj xxunk upheld the day , xxmaj xxunk xxmaj pretorius did not ( xxmaj xxunk 2003 ) . \n",
              " \n",
              " \n",
              "  = = = xxmaj in xxmaj natal = = = \n",
              "  xxmaj informal commemorations may have been held in the homes of former xxmaj xxunk in xxmaj xxunk in xxmaj natal . xxmaj xxunk pastor xxmaj rev. xxmaj erasmus xxmaj xxunk announced the \" 7th annual \" anniversary of the day in 1844 in xxmaj de xxmaj xxunk newspaper , for instance . xxmaj bailey mentions a meeting at the site of the battle in 1862 ( xxmaj bailey xxunk ) . \n",
              "  xxmaj in 1864 the xxmaj general xxmaj synod of the xxmaj dutch xxmaj reformed xxmaj church in xxmaj natal decreed that all its congregations should observe the date as a day of thanksgiving . xxmaj the decision was spurred by the efforts of two xxmaj dutch clergymen working in xxmaj xxunk during the 1860s , xxup xxunk xxmaj xxunk and xxup f. xxmaj lion xxmaj xxunk . xxmaj large meetings were held in the church in xxmaj xxunk in 1864 and 1865 ( xxmaj bailey xxunk ) . \n",
              "  xxmaj in 1866 the first large scale meeting took place at the traditional battle site , led by xxmaj xxunk . xxmaj xxunk who gathered to watch proceedings assisted the participants in gathering stones for a commemorative cairn . xxmaj in his speech xxmaj xxunk called for the xxunk of black heathen . xxmaj he relayed a message received from the xxmaj zulu monarch xxmaj xxunk . xxmaj in his reply to xxmaj xxunk , xxmaj xxunk hoped for harmony between the xxmaj zulu and white xxmaj xxunk . xxmaj xxunk survivors recalled events , an institution which in the 1867 observation at the site included a xxmaj zulu ( xxmaj bailey xxunk ) . \n",
              "  xxmaj xxunk was of the same opinion as xxmaj xxunk xxmaj pretorius . xxmaj he declared at a church inauguration in xxmaj xxunk on 16 xxmaj december 1866 that its construction was also part of fulfilling the vow ( xxmaj bailey xxunk ) . \n",
              " \n",
              " \n",
              "  = = = xxmaj in the xxmaj transvaal = = = \n",
              "  xxmaj die xxmaj zuid - xxmaj xxunk xxmaj xxunk declared 16 xxmaj december a public holiday in 1865 , to be commemorated by public religious services . xxmaj however , until 1877 , the general public there did not utilise the holiday as they did in xxmaj natal . xxmaj cricket matches and hunts were organised , some businesses remained open , and newspapers were sold . xxmaj the name xxmaj xxunk 's xxmaj day appeared for the first time in the media , in an 1875 edition of xxmaj de xxmaj xxunk . xxmaj that newspaper wondered whether the lack of support for the holiday signaled a weakening sense of nationalism ( xxmaj bailey xxunk ) . \n",
              "  xxmaj after the xxmaj transvaal was annexed by the xxmaj british in 1877 , the new government refrained from state functions ( like xxmaj supreme xxmaj court sittings ) on the date ( xxmaj bailey xxunk ) . \n",
              "  xxmaj the desire by the xxmaj transvaal to retrieve its independence prompted the emergence of xxmaj afrikaner nationalism and the revival of 16 xxmaj december in that territory . xxmaj transvaal burgers held meetings around the date to discuss responses to the annexation . xxmaj in 1879 the first such a meeting convened at xxmaj xxunk on the xxmaj west xxmaj rand . xxmaj burgers disregarded xxmaj sir xxup xxunk xxmaj xxunk , the governor of xxmaj transvaal , who prohibited the meeting on 16 xxmaj december . xxmaj the following year they held a similar combination of discussions and the celebration of xxmaj xxunk 's xxmaj day at xxmaj xxunk ( xxmaj bailey xxunk ) . \n",
              "  xxmaj paul xxmaj kruger , president of the xxmaj transvaal xxmaj republic , believed that failure to observe the date led to the loss of independence and to the first xxmaj anglo - xxmaj boer war as a divine punishment . xxmaj before initiating hostilities with the xxmaj british , a ceremony was held at xxmaj xxunk on 16 xxmaj december 1880 in which 5,000 burghers [ citizens ] piled a cairn of stones that symbolized past and future victories ( over the xxmaj zulu and the xxmaj british ) . \n",
              "  xxmaj after the success of its military campaign against the xxmaj british , the xxmaj transvaal state organised a xxmaj xxunk 's xxmaj day festival every five years . xxmaj at the first of these in 1881 , an estimated xxunk to 15,000 people listened to speeches by xxmaj kruger and others ( xxmaj xxunk 1989 ) . xxmaj at the third such festival in 1891 , xxmaj kruger emphasised the need for the festival to be religious in nature ( xxmaj xxunk 2003 ) . \n",
              " \n",
              " \n",
              "  = = = xxmaj in the xxmaj free xxmaj state = = = \n",
              "  xxmaj the xxmaj free xxmaj state government in 1894 declared 16 xxmaj december a holiday ( xxmaj bailey 2003 ) . \n",
              " \n",
              " \n",
              "  = = = xxmaj national commemorations = = = \n",
              "  xxmaj the xxmaj union state in 1910 officially declared xxmaj xxunk 's xxmaj day as a national public holiday . \n",
              "  xxmaj in 1938 xxup xxunk xxmaj xxunk , leader of the xxmaj national xxmaj party , reiterated at the site that its soil was \" sacred . \" xxmaj he said that the xxmaj blood xxmaj river battle established \" xxmaj south xxmaj africa as a civilized xxmaj christian country \" and \" the responsible authority of the white race \" . xxmaj xxunk compared the battle to the urban labour situation in which whites had to prevail ( xxmaj xxunk 2003 ) . \n",
              "  xxmaj in 1952 the ruling xxmaj national xxmaj party passed the xxmaj public xxmaj holidays xxmaj act ( xxmaj act 5 of 1952 ) , in which section 2 declared the day to be a religious public holiday . xxmaj accordingly , certain activities were prohibited , such as organized sports contests , theatre shows , and so on ( xxmaj xxunk 2003 ) . xxmaj xxunk a claim on this day was also forbidden under section xxunk ) of the xxmaj mining xxmaj rights ( xxmaj act 20 of 1967 ; repealed by the xxmaj minerals xxmaj act ( xxmaj act 50 of xxunk ] \n",
              "  xxmaj the name was changed to the xxmaj day of the xxmaj vow in order to be less offensive , and to emphasize the vow rather than the xxmaj zulu antagonist ( xxmaj xxunk 2003 ) . \n",
              "  xxmaj in 1961 the xxmaj african xxmaj national xxmaj congress chose 16 xxmaj december to initiate a series of sabotages , signaling its decision to embark on an armed struggle against the regime through its military wing , xxmaj xxunk we xxmaj xxunk . \n",
              "  xxmaj in 1983 the xxmaj south xxmaj african government vetoed the decision by the acting government of xxmaj namibia to discontinue observing the holiday . xxmaj in response , the xxmaj democratic xxmaj xxunk xxmaj alliance resigned its 41 seats in xxmaj namibia 's xxunk xxmaj national xxmaj assembly . xxmaj act 5 of 1952 was repealed in 1994 by xxmaj act xxmaj no . 36 of 1994 , which changed the name of the public holiday to the xxmaj day of xxmaj reconciliation . \n",
              "  xxmaj act 8 of 1995 offered a compensation to the families of the three xxmaj xxunk who were wounded . \n",
              " \n",
              " \n",
              "  = = xxmaj debates over the xxmaj holiday = = \n",
              "  xxmaj scholars like historian xxmaj leonard xxmaj thompson have said that the events of the battle were woven into a new myth that justified racial oppression on the basis of racial superiority and divine providence . xxmaj accordingly , the victory over xxmaj xxunk was reinterpreted as a sign that xxmaj god confirmed the rule of whites over black xxmaj africans , justifying the xxmaj boer project of acquiring land and eventually ascending to power in xxmaj south xxmaj africa . xxmaj in post - apartheid xxmaj south xxmaj africa the holiday is often criticised as a racist holiday , which celebrates the success of xxmaj boer expansion over the black natives . \n",
              "  xxmaj by comparison with the large number of xxmaj xxunk who participated in the annual celebrations of the xxmaj xxunk victory , some did take exception . xxmaj in 1971 , for instance , xxmaj pro xxmaj xxunk , the journal of the anti - apartheid organisation the xxmaj christian xxmaj institute of xxmaj southern xxmaj africa , devoted a special edition to the matter . \n",
              "  xxmaj historian xxmaj anton xxmaj xxunk traces how political and economic factors changed the themes emphasised during celebrations of the xxmaj day of the xxmaj vow . xxmaj during the 1940s and 1950s xxmaj afrikaner unity was emphasised over against black xxmaj africans . xxmaj this theme acquired broader meaning in the 1960s and 1970s , when isolated \" white \" xxmaj south xxmaj africa was positioned against the xxunk of xxmaj africa . xxmaj the economic and political crises of the 1970s and 1980s forced white xxmaj xxunk to rethink the apartheid system . xxmaj afrikaner and other intellectuals began to critically evaluate the historical basis for the celebration . xxmaj the need to include xxmaj english and \" moderate \" black groups in reforms prompted a de - emphasis on \" the ethnic exclusivity and divine mission of xxmaj xxunk \" ( xxmaj xxunk 2003 ) . \n",
              " \n",
              " \n",
              "  = = xxmaj see also = = \n",
              "  xxmaj covenant xxmaj monument \n",
              " \n",
              " \n",
              "  = = xxmaj bibliography = = \n",
              "  xxmaj the xxmaj xxunk xxmaj vow , a poem by xxmaj lynn xxmaj xxunk from xxmaj poems of xxmaj south xxmaj african history , xxup a.d. xxunk - 1910 at the xxmaj internet xxmaj archive \n",
              " \n",
              " \n",
              "  = = xxmaj references = = \n",
              "  \" xxmaj apartheid xxmaj mythology and xxmaj symbolism . xxmaj xxunk and reinvented in the service of nation building in the new xxmaj south xxmaj africa : xxmaj the covenant and the battle of xxmaj blood xxmaj river / xxmaj xxunk , \" xxmaj anton xxmaj xxunk . xxmaj xxunk xxmaj xxunk xxmaj no . 24 , ca . xxunk ] \n",
              "  \" xxmaj the xxmaj beginnings of xxmaj afrikaner xxmaj ethnic xxmaj consciousness , xxunk , \" xxmaj hermann xxmaj xxunk in xxmaj leroy xxmaj vail ( ed . ) xxmaj the xxmaj creation of xxmaj xxunk in xxmaj southern xxmaj africa . xxmaj london / xxmaj berkeley : xxmaj xxunk xxmaj university of xxmaj california xxmaj press , 1989 . [ 11 ] \n",
              "  \" xxmaj die xxmaj xxunk van 16 xxmaj xxunk 1838 : xxmaj xxunk xxunk en xxunk xxunk , 1838 tot 1910 . \" [ xxmaj afrikaans : xxmaj the xxmaj vow of 16 xxmaj december : xxmaj its xxmaj commemoration and xxmaj meaning , 1838 - 1910 ] xxmaj xxunk xxmaj bailey . xxup ma dissertation , xxmaj xxunk . of xxmaj historical and xxmaj heritage xxmaj studies , xxmaj university of xxmaj pretoria , xxunk ] \n",
              "  xxmaj leonard xxmaj thompson ( 1986 ) xxmaj the xxmaj political xxmaj mythology of xxmaj apartheid , xxmaj yale xxmaj university xxmaj press , xxmaj reprint edition xxup isbn xxunk \n",
              "  \" xxmaj xxunk : xxmaj xxunk of xxmaj xxunk ? \" [ xxmaj afrikaans : xxmaj day of the xxmaj vow : xxmaj christian festival or festival of xxmaj baal ? ] , xxmaj xxunk xxmaj meyer , xxmaj pro xxmaj xxunk , xxmaj vol . 10 , xxmaj no . xxunk ] \n",
              " \n",
              " \n",
              "  = = = xxmaj notes = = = \n",
              " \n",
              " \n",
              "  = = xxmaj external links = = \n",
              "  xxmaj official website of the xxmaj xxunk xxmaj vow xxmaj committee , xxmaj xxunk xxmaj xxunk \n",
              "  xxmaj the xxmaj battle of xxmaj blood xxmaj river , xxmaj south xxmaj african xxmaj travel xxmaj guide \n",
              "  xxmaj public holidays in xxmaj south xxmaj africa,xxbos xxmaj signs and wonders refers to experiences that are perceived to be miraculous as being normative in the modern xxmaj christian experience , and is a phrase associated with groups that are a part of modern charismatic movements and xxmaj pentecostalism . xxmaj this phrase is seen multiple times throughout the xxmaj christian xxmaj bible to describe the activities of the early church , and is historically recorded as continuing , at least in practice , since the time of xxmaj christ . xxmaj the phrase is primarily derived from xxmaj old and xxmaj new xxmaj testament references , and is now used in the xxmaj christian and mainstream press , and in scholarly religious discourse to communicate a strong emphasis on recognizing perceived manifestations of the xxmaj holy xxmaj spirit in the contemporary lives of xxmaj christian believers ; as well , it communicates a focus on the expectation that divine action would be experienced in the individual and corporate life of the modern xxmaj christian church , and a further insistence that followers actively seek the \" gifts of the xxmaj xxunk . a further major emphasis of belief in signs and wonders is that the message of the xxmaj christian \" good news \" is communicated more effectively to those who do not believe it if accompanied by such supernatural manifestations of the xxmaj holy xxmaj spirit , including such signs and wonders as miraculous healings and modern prophetic proclamations . xxmaj this is the message of xxmaj john xxmaj wimber 's book , xxmaj power xxmaj evangelism . \n",
              " \n",
              " \n",
              "  = = xxmaj biblical origins = = \n",
              "  xxmaj the origin of the phrase in the xxmaj old xxmaj testament is in xxmaj exodus xxunk , which describes xxmaj god 's actions to free the xxmaj israelites from being enslaved in xxmaj ancient xxmaj egypt . xxmaj this phrase is used a total of 31 times in the xxmaj bible and it became popular again in modern history around the time of the xxmaj azusa xxmaj street xxmaj revival , when attendees claimed miraculous and supernatural events had happened . \n",
              " \n",
              " \n",
              "  = = xxmaj critical responses = = \n",
              "  xxmaj critical responses were made by various writers including : xxup j. xxmaj woodhouse , xxup k. xxup l. xxmaj xxunk , xxup k. xxup m. xxmaj bond , and xxup d. xxup h. xxmaj shepherd , xxmaj later in the 1990s , the discussion was taken up by xxup r. xxup e. xxmaj jackson ( addressing skeptics ) , and xxup d. xxmaj williams . \n",
              " \n",
              " \n",
              "  = = xxmaj defense and reflection = = \n",
              " \n",
              "  xxmaj the ongoing theological reflection accompanying the signs and wonders movement was evidenced by xxmaj fuller xxmaj theological xxmaj seminary 's 1988 xxmaj symposium on xxmaj power xxmaj evangelism and xxup c. xxmaj peter xxmaj wagner 's book titled xxmaj the xxmaj third xxmaj wave of the xxmaj holy xxmaj spirit . xxmaj the study of the xxunk implications of signs and wonders would continue on into the turn of the century xxmaj xxunk object to the existence of charismatic gifts , leading to a xxunk versus xxunk debate . xxmaj the broader debate specifically over the signs and wonders movement and the present - day function of the manifestation gifts would continue on into the 1990s . \n",
              " \n",
              " \n",
              "  = = xxmaj power xxmaj evangelism = = \n",
              "  xxmaj the term power evangelism originally comes from xxmaj lonnie xxmaj frisbee 's ministry but some of his harshest critics for heavy use of the xxmaj holy xxmaj spirit and the gifts of the xxmaj spirit came from the churches he helped found . xxmaj power evangelism is a form of evangelism which relies on the supernatural power and gifts of the xxmaj holy xxmaj spirit , that is , on signs and wonders , to reach new converts and work through born again xxmaj christians . xxmaj it is not the way most churches practice evangelism currently , which relies on an intellectual argument with the hope of salvation through logic and structured rituals . xxmaj proponents believe power evangelism is the way xxmaj jesus operated , although it is known he also was a great student of the xxmaj torah . xxmaj although most xxmaj christians would believe that a person is brought to faith primarily through the action of xxmaj god in the person of the xxmaj holy xxmaj spirit , in this form of evangelism supernatural events such as faith healings , prophetic revelation , words of knowledge and glossolalia ( speaking in tongues ) are a demonstration of the power , and therefore the reality , of xxmaj god . xxmaj power xxmaj evangelism is illustrated in the lives of the disciples in the xxmaj book of xxmaj acts . \n",
              " \n",
              " \n",
              "  = = xxmaj see also = = \n",
              "  xxmaj acts of the xxmaj apostles \n",
              "  xxmaj mark 16 \n",
              " \n",
              " \n",
              "  = = xxmaj references = = \n",
              " \n",
              " \n",
              "  = = xxmaj further reading = = \n",
              "  xxmaj stanley xxup m. xxmaj burgess , ed . , xxmaj the xxmaj new xxmaj international xxmaj dictionary of xxmaj pentecostal and xxmaj charismatic xxmaj movements ( xxmaj grand xxmaj rapids , xxmaj michigan : xxmaj zondervan , 2002 ) , pages 702 and 1200 . \n",
              "  xxmaj christian xxmaj life xxmaj magazine and xxup c. xxup p. xxmaj wagner , xxmaj signs and xxmaj wonders xxmaj today ( xxmaj wheaton , xxmaj illinois : xxmaj christian xxmaj life xxmaj magazine , 1983 ) . \n",
              "  xxup g. xxup r. xxmaj xxunk , xxmaj empowerment of the xxmaj laity with the xxmaj xxunk for xxmaj renewal in a xxmaj traditional xxmaj congregation ( xxmaj rochester , xxmaj new xxmaj york : xxmaj xxunk xxmaj theological xxmaj seminary , 1983 ) . \n",
              "  xxmaj john xxmaj wimber , a xxmaj brief xxmaj sketch of xxmaj signs and xxmaj wonders through the xxmaj church xxmaj age ( xxmaj placentia , xxmaj california : xxmaj vineyard xxmaj christian xxmaj fellowship , 1984 ) . \n",
              "  xxmaj john xxmaj wimber , xxmaj signs and xxmaj wonders and xxmaj church xxmaj growth ( xxmaj placentia , xxmaj california : xxmaj vineyard xxmaj ministries xxmaj international , 1984 ) . \n",
              "  xxmaj trevor xxmaj martin , xxmaj kingdom xxmaj healing ( xxmaj london : xxmaj xxunk , 1981 ) . \n",
              "  xxup s. xxup s. xxmaj xxunk , xxmaj the xxmaj pauline xxmaj concept of xxmaj xxunk in the xxmaj light of xxmaj recent xxmaj critical xxmaj literature ( xxmaj fort xxmaj worth , xxmaj texas : xxmaj southwestern xxmaj baptist xxmaj theological xxmaj seminary , 1981 ) . xxmaj this work would later be released as a xxmaj pauline xxmaj theology of xxmaj xxunk ( xxmaj peabody , xxmaj massachusetts : xxmaj hendrickson xxmaj publishers , 1987 ) . \n",
              "  xxmaj society for xxmaj pentecostal xxmaj studies , xxmaj gifts of the xxmaj spirit : xxmaj papers xxmaj presented at the 12th xxmaj annual xxmaj meeting of the xxmaj society for xxmaj pentecostal xxmaj studies , xxmaj november xxunk , 1982 ( xxmaj pasadena , xxmaj california : xxmaj fuller xxmaj theological xxmaj seminary , 1982 ) . \n",
              "  xxmaj jack xxmaj xxunk , xxmaj surprised by the xxmaj power of the xxmaj spirit ( xxmaj eastbourne : xxmaj kingsway xxmaj publications , 1993 ) . \n",
              "  xxmaj jack xxmaj xxunk , xxmaj surprised by the xxmaj voice of xxmaj god ( xxmaj grand xxmaj rapids , xxmaj michigan : xxmaj zondervan , 1996 ) . \n",
              " \n",
              " \n",
              "  = = xxmaj external links = = \n",
              "  xxup xxunk xxmaj video : xxmaj living a xxmaj life of xxmaj miracles \n",
              "  xxup xxunk xxmaj video : xxmaj miracles xxmaj outside the xxmaj church xxmaj walls \n",
              "  xxmaj personal xxmaj accounts of xxmaj miracles,xxbos xxmaj passover or xxmaj pesach (; xxmaj hebrew : xxunk xxmaj xxunk ) is a major xxmaj jewish holiday that occurs in the spring on the 15th day of the xxmaj hebrew month of xxmaj nisan . xxmaj one of the biblically ordained xxmaj three xxmaj pilgrimage xxmaj festivals , xxmaj passover is traditionally celebrated in the xxmaj land of xxmaj israel for seven days and for eight days among many xxmaj jews in the xxmaj diaspora , based on the concept of yom tov sheni shel xxunk . \n",
              "  xxmaj in the xxmaj bible , xxmaj passover marks the xxmaj exodus of the xxmaj children of xxmaj israel from xxmaj egyptian slavery , when xxmaj god \" passed over \" the houses of the xxmaj israelites during the last of the ten plagues . xxmaj when the xxmaj temple in xxmaj jerusalem stood , the paschal lamb was offered and eaten on xxmaj passover eve , while the wave offering of barley was offered on the second day of the festival . xxmaj nowadays , in addition to the biblical prohibition of owning leavened foods for the duration of the holiday , the xxmaj passover seder is one of the most widely observed rituals in xxmaj judaism . \n",
              " \n",
              " \n",
              "  = = xxmaj etymology = = \n",
              "  xxmaj the xxmaj hebrew xxunk is rendered as xxmaj tiberian [ xxunk ] ( listen ) , and xxmaj modern xxmaj hebrew : [ xxunk ] xxmaj xxunk , xxmaj xxunk . xxmaj the etymology is disputed , and hypotheses are divided whether to connect it to psh ( to protect , save ) or to a word meaning \" limp , dance with limping motions \" . xxmaj cognate languages yield similar terms with distinct meanings , such as \" make soft , xxunk , placate \" ( xxmaj akkadian xxunk ) , \" harvest , commemoration , blow \" ( xxmaj egyptian ) , or \" separate \" ( xxmaj arabic xxunk verb xxunk ( xxunk ) is first mentioned in the xxmaj torah 's account of the xxmaj exodus from xxmaj egypt ( xxmaj exodus xxunk ) , and there is some debate about its exact meaning . xxmaj the commonly held assumption that it means \" xxmaj he passed over \" ( xxunk ) , in reference to xxmaj god \" passing over \" ( or \" skipping \" ) the houses of the xxmaj hebrews during the final of the xxmaj ten xxmaj plagues of xxmaj egypt , stems from the translation provided in the xxmaj septuagint ( xxunk [ xxmaj greek : xxunk ] in xxmaj exodus xxunk , and xxunk [ xxmaj greek : xxunk ] in xxmaj exodus xxunk ) . xxmaj targum xxmaj xxunk translates pesach as ve - xxunk ( xxmaj hebrew : xxunk we - xxunk ) \" he had pity \" coming from the xxmaj hebrew root xxunk meaning to have pity . xxmaj the term xxmaj pesach ( xxmaj hebrew : xxunk xxmaj xxunk ) may also refer to the lamb or goat which was designated as the xxmaj passover sacrifice ( called the xxmaj korban xxmaj pesach in xxmaj hebrew ) . xxmaj four days before the xxmaj exodus , the xxmaj hebrews were commanded to set aside a lamb ( xxmaj exodus xxunk ) , and inspect it daily for xxunk . xxmaj during the day on the 14th of xxmaj nisan , they were to slaughter the animal and use its blood to mark their lintels and door posts . xxmaj before midnight on the 15th of xxmaj nisan they were to consume the lamb . \n",
              " \n",
              "  xxmaj the xxmaj english term \" xxmaj passover \" is first known to be recorded in the xxmaj english language in xxmaj william xxmaj tyndale 's translation of the xxmaj bible , later appearing in the xxmaj king xxmaj james xxmaj version as well . xxmaj it is a literal translation of the xxmaj hebrew term . xxmaj in the xxmaj king xxmaj james xxmaj version , xxmaj exodus xxunk reads : xxmaj for the xxup lord will pass through to xxunk the xxmaj egyptians ; and when he xxunk the blood upon the lintel , and on the two side posts , the xxup lord will pass over the door , and will not suffer the destroyer to come in unto your houses to xxunk you . \n",
              " \n",
              " \n",
              "  = = xxmaj origins = = \n",
              " \n",
              "  xxmaj the xxmaj passover ritual is widely thought to have its origins in an xxunk rite , unrelated to the xxmaj exodus , to ensure the protection of a family home , a rite conducted wholly within a clan . xxmaj xxunk was employed to xxunk the blood of a slaughtered sheep on the lintels and door posts to ensure that demonic forces could not enter the home . a further hypothesis maintains that , once the xxmaj priestly xxmaj code was promulgated , the xxmaj exodus narrative took on a central function , as the xxunk rite was , arguably , amalgamated with the xxmaj canaanite agricultural festival of spring which was a ceremony of unleavened bread , connected with the barley harvest . xxmaj as the xxmaj exodus motif grew , the original function and symbolism of these double origins was lost . xxmaj several motifs replicate the features associated with the xxmaj mesopotamian xxmaj xxunk festival . xxmaj other scholars , xxmaj john xxmaj van xxmaj seters , xxunk and xxmaj tamara xxmaj xxunk disagree with the merged two - festivals hypothesis . \n",
              " \n",
              " \n",
              "  = = xxmaj the biblical narrative = = \n",
              " \n",
              " \n",
              "  = = = xxmaj in the xxmaj book of xxmaj exodus = = = \n",
              " \n",
              "  xxmaj in the xxmaj book of xxmaj exodus , the xxmaj israelites are enslaved in ancient xxmaj egypt . xxmaj yahweh , the god of the xxmaj israelites , appears to xxmaj moses in a burning bush and commands xxmaj moses to confront xxmaj pharaoh . xxmaj to show his power , xxmaj yahweh inflicts a series of 10 plagues on the xxmaj egyptians , culminating in the 10th plague , the death of the first - born . \n",
              " \n",
              "  xxmaj this is what the xxup lord says : \" xxmaj about midnight i will go throughout xxmaj egypt . xxmaj every firstborn son in xxmaj egypt will die , from the firstborn son of xxmaj pharaoh , who sits on the throne , to the firstborn of the slave girl , who is at her hand mill , and all the firstborn of the cattle as well . xxmaj there will be loud wailing throughout xxmaj egypt – worse than there has ever been or ever will be again . \" \n",
              "  xxmaj before this final plague xxmaj yahweh commands xxmaj moses to tell the xxmaj israelites to mark a lamb 's blood above their doors in order that xxmaj yahweh will pass over them ( i.e. , that they will not be touched by the death of the firstborn ) . \n",
              "  xxmaj the biblical regulations for the observance of the festival require that all xxunk be disposed of before the beginning of the 15th of xxmaj nisan xxmaj an xxunk lamb or goat , known as the xxmaj korban xxmaj pesach or \" xxmaj paschal xxmaj lamb \" , is to be set apart on 10th xxmaj nisan , and slaughtered at dusk as 14th xxmaj nisan ends in preparation for the 15th of xxmaj nisan when it will be eaten after being roasted . xxmaj the literal meaning of the xxmaj hebrew is \" between the two evenings \" . xxmaj it is then to be eaten \" that night \" , 15th xxmaj nisan , roasted , without the removal of its internal organs with unleavened bread , known as matzo , and bitter herbs known as maror . xxmaj nothing of the sacrifice on which the sun rises by the morning of the 15th of xxmaj nisan may be eaten , but must be burned . xxmaj the biblical regulations pertaining to the original xxmaj passover , at the time of the xxmaj exodus only , also include how the meal was to be eaten : \" with your xxunk xxunk , your shoes on your feet , and your staff in your hand ; and ye shall eat it in haste : it is the xxup lord 's passover \" xxmaj exodus xxunk . \n",
              "  xxmaj the biblical requirements of slaying the xxmaj paschal lamb in the individual homes of the xxmaj hebrews and xxunk the blood of the lamb on their doorways were celebrated in xxmaj egypt . xxmaj however , once xxmaj israel was in the wilderness and the tabernacle was in operation , a change was made in those two original requirements ( xxmaj deuteronomy xxunk ) . xxmaj passover lambs were to be sacrificed at the door of the tabernacle and no longer in the homes of the xxmaj jews . xxmaj no longer , therefore , could blood be smeared on doorways . \n",
              " \n",
              " \n",
              "  = = = xxmaj the passover in other biblical passages = = = \n",
              "  xxmaj called the \" festival [ of ] the xxunk \" ( xxmaj hebrew : xxunk xxunk xxunk ha - xxunk ) in the xxmaj hebrew xxmaj bible , the commandment to keep xxmaj passover is recorded in the xxmaj book of xxmaj leviticus : \n",
              " \n",
              "  xxmaj in the first month , on the fourteenth day of the month at dusk is the xxup lord 's xxmaj passover . xxmaj and on the fifteenth day of the same month is the feast of unleavened bread unto the xxup lord ; seven days ye shall eat unleavened bread . xxmaj in the first day ye shall have a holy convocation ; ye shall do no manner of servile work . xxmaj and ye shall bring an offering made by fire unto the xxup lord seven days ; in the seventh day is a holy convocation ; ye shall do no manner of servile work . ( xxmaj leviticus xxunk ) \n",
              "  xxmaj the sacrifices may be performed only in a specific place prescribed by xxmaj god . xxmaj for xxmaj judaism , this is xxmaj jerusalem . xxmaj the biblical commandments concerning the xxmaj passover ( and the xxmaj feast of xxmaj unleavened xxmaj bread ) stress the importance of remembering : \n",
              " \n",
              "  xxmaj exodus xxunk commands , in reference to xxmaj god 's sparing of the firstborn from the xxmaj tenth xxmaj plague : xxmaj and this day shall be unto you for a memorial , and ye shall keep it a feast to the xxup lord ; throughout your generations ye shall keep it a feast by an ordinance for ever . \n",
              "  xxmaj exodus xxunk repeats the command to remember : xxmaj remember this day , in which you came out of xxmaj egypt , out of the house of bondage , for by strength the hand of the xxup lord brought you out from this place . \n",
              "  xxmaj and thou shalt remember that thou xxunk a xxunk in xxmaj egypt ; and thou shalt observe and do these statutes ( xxmaj deuteronomy xxunk 2 xxmaj kings xxunk - 23 and 2 xxmaj chronicles xxunk - 19 , xxmaj king xxmaj josiah of xxmaj judah restores the celebration of the xxmaj passover , to a standard not seen since the days of the judges or the days of the prophet xxmaj samuel . xxmaj ezra xxunk - 21 records the celebration of the passover by the xxmaj jews who had returned from exile in xxmaj babylon , after the temple had been rebuilt . \n",
              " \n",
              " \n",
              "  = = = xxmaj in extra - biblical sources = = = \n",
              "  xxmaj some of these details can be corroborated , and to some extent amplified , in xxunk sources . xxmaj the removal ( or \" sealing up \" ) of the leaven is referred to in the xxmaj elephantine papyri , an xxmaj aramaic papyrus from 5th century xxup bce xxmaj elephantine in xxmaj egypt . xxmaj the slaughter of the lambs on the 14th is mentioned in xxmaj the xxmaj book of xxmaj jubilees , a xxmaj jewish work of the xxmaj ptolemaic period , and by the xxmaj herodian - era writers xxmaj josephus and xxmaj philo . xxmaj these sources also indicate that \" between the two evenings \" was taken to mean the afternoon . xxmaj jubilees states the sacrifice was eaten that night , and together with xxmaj josephus states that nothing of the sacrifice was allowed to remain until morning . xxmaj philo states that the banquet included hymns and prayers . \n",
              " \n",
              " \n",
              "  = = xxmaj date and duration = = \n",
              " \n",
              "  xxmaj the xxmaj passover begins on the 15th day of the month of xxmaj nisan , which typically falls in xxmaj march or xxmaj april of the xxmaj gregorian calendar . xxmaj the 15th day begins in the evening , after the 14th day , and the seder meal is eaten that evening . xxmaj passover is a spring festival , so the 15th day of xxmaj nisan typically begins on the night of a full moon after the northern vernal equinox . xxmaj however , due to leap months falling after the vernal equinox , xxmaj passover sometimes starts on the second full moon after vernal equinox , as in 2016 . \n",
              "  xxmaj to ensure that xxmaj passover did not start before spring , the tradition in ancient xxmaj israel held that the first day of xxmaj nisan would not start until the barley was ripe , being the test for the onset of spring . xxmaj if the barley was not ripe , or various other phenomena indicated that spring was not yet imminent , an intercalary month ( xxmaj adar xxup ii ) would be added . xxmaj however , since at least the 4th century , the date has been fixed mathematically . xxmaj in xxmaj israel , xxmaj passover is the seven - day holiday of the xxmaj feast of xxmaj unleavened xxmaj bread , with the first and last days celebrated as legal holidays and as holy days involving holiday meals , special prayer services , and abstention from work ; the intervening days are known as xxmaj chol hamoed ( \" xxmaj weekdays [ of ] the xxmaj festival \" ) . xxmaj jews outside the xxmaj land of xxmaj israel celebrate the festival for eight days . xxmaj reform and xxmaj reconstructionist xxmaj jews usually celebrate the holiday over seven days . xxmaj karaites use a different version of the xxmaj jewish calendar , differing from that used with modern xxmaj jewish calendar by one or two days . xxmaj the xxmaj samaritans use a calendrical system that uses a different method to that current in xxmaj jewish practice , in order to determine their timing of xxunk . xxmaj in 2009 , for example , xxmaj nisan 15 on the xxmaj jewish calendar used by xxmaj rabbinic xxmaj judaism corresponds to xxmaj april 9 . xxmaj on the calendars used by xxmaj karaites and xxmaj samaritans , xxmaj xxunk or xxmaj aviv 15 ( as opposed to ' xxmaj nisan ' ) corresponds to xxmaj april 11 in 2009 . xxmaj the xxmaj karaite and xxmaj samaritan xxmaj xxunk are each one day long , followed by the six - day xxmaj festival of xxmaj unleavened xxmaj bread – for a total of seven days . \n",
              " \n",
              " \n",
              "  = = xxmaj passover sacrifice = = \n",
              " \n",
              "  xxmaj the main entity in xxmaj passover according to xxmaj judaism is the sacrificial lamb . xxmaj during the existence of the xxmaj tabernacle and later the xxmaj temple in xxmaj jerusalem , the focus of the xxmaj passover festival was the xxmaj passover sacrifice ( xxmaj hebrew : korban xxmaj pesach ) , also known as the xxmaj paschal lamb , eaten during the xxmaj passover xxmaj seder on the 15th of xxmaj nisan . xxmaj every family large enough to completely consume a young lamb or wild goat was required to offer one for sacrifice at the xxmaj jewish xxmaj temple on the afternoon of the 14th day of xxmaj nisan ( xxmaj numbers xxunk ) , and eat it that night , which was the 15th of xxmaj nisan ( xxmaj exodus xxunk ) . xxmaj if the family was too small to finish eating the entire offering in one sitting , an offering was made for a group of families . xxmaj the sacrifice could not be offered with anything leavened ( xxmaj exodus xxunk ) , and had to be roasted , without its head , feet , or inner organs being removed ( xxmaj exodus xxunk ) and eaten together with unleavened bread ( matzo ) and bitter herbs ( maror ) . xxmaj one had to be careful not to break any bones from the offering ( xxmaj exodus xxunk ) , and none of the meat could be left over by morning ( xxmaj exodus xxunk xxmaj exodus xxunk ) . \n",
              "  xxmaj because of the xxmaj passover sacrifice 's status as a sacred offering , the only people allowed to eat it were those who had the obligation to bring the offering . xxmaj among those who could not offer or eat the xxmaj passover lamb were an apostate ( xxmaj exodus xxunk ) , a servant ( xxmaj exodus xxunk ) , an uncircumcised man ( xxmaj exodus xxunk ) , a person in a state of ritual impurity , except when a majority of xxmaj jews are in such a state ( xxmaj xxunk xxunk ) , and a non - xxmaj jew . xxmaj the offering had to be made before a quorum of 30 ( xxmaj xxunk xxunk ) . xxmaj in the xxmaj temple , the xxmaj levites sang xxmaj hallel while the priests performed the sacrificial service . xxmaj men and women were equally obligated regarding the offering ( xxmaj xxunk xxunk ) . \n",
              "  xxmaj today , in the absence of the xxmaj temple , when no sacrifices are offered or eaten , the mitzvah of the xxmaj korban xxmaj pesach is memorialized in the xxmaj seder xxmaj korban xxmaj pesach , a set of scriptural and xxmaj rabbinic passages dealing with the xxmaj passover sacrifice , customarily recited after the xxmaj mincha ( afternoon prayer ) service on the 14th of xxmaj nisan , and in the form of the xxunk , a symbolic food placed on the xxmaj passover xxmaj seder xxmaj plate ( but not eaten ) , which is usually a roasted xxunk ( or a chicken wing or neck ) . xxmaj the eating of the afikoman substitutes for the eating of the xxmaj korban xxmaj pesach at the end of the xxmaj seder meal ( xxmaj mishnah xxmaj xxunk xxunk ) . xxmaj many xxmaj sephardi xxmaj jews have the custom of eating lamb or goat meat during the xxmaj seder in memory of the xxmaj korban xxmaj pesach . \n",
              " \n",
              " \n",
              "  = = xxmaj removing all leaven ( chametz ) = = \n",
              " \n",
              "  xxmaj leaven , in xxmaj hebrew chametz ( xxmaj hebrew : xxunk xxunk , \" xxunk \" ) is made from one of five types of grains combined with water and left to stand for more than eighteen minutes . xxmaj the consumption , keeping , and owning of chametz is forbidden during xxmaj passover . xxmaj yeast and fermentation are not themselves forbidden as seen for example by wine , which is required , rather than merely permitted . xxmaj according to xxmaj halakha , the ownership of such chametz is also proscribed . xxmaj chametz does not include baking soda , baking powder or like products . xxmaj although these are defined in xxmaj english as xxunk agents , they leaven by chemical reaction , not by biological fermentation . xxmaj thus , xxunk , xxunk and pancakes made with baking soda and matzo meal are considered permissible , while xxunk made with xxunk and pancakes and xxunk made with yeast are prohibited . xxmaj the xxmaj torah commandments regarding chametz are : \n",
              " \n",
              "  xxmaj to remove all chametz from one 's home , including things made with chametz , before the first day of xxmaj passover ( xxmaj exodus xxunk ) . xxmaj it may be simply used up , thrown out ( historically , destroyed by burning ) , or given or sold to non - xxmaj jews . \n",
              "  xxmaj to refrain from eating chametz or mixtures containing chametz during xxmaj passover ( xxmaj exodus xxunk , xxmaj exodus xxunk , xxmaj deuteronomy xxunk ) . \n",
              "  xxmaj not to possess chametz in one 's domain ( i.e. home , office , car , etc . ) during xxmaj passover ( xxmaj exodus xxunk , xxmaj deuteronomy xxunk xxmaj jews spend the weeks before xxmaj passover in a flurry of thorough xxunk , to remove every xxunk of chametz from every part of the home . xxmaj jewish law requires the elimination of olive - sized or larger quantities of xxunk from one 's possession , but most housekeeping goes beyond this . xxmaj even the cracks of kitchen counters are thoroughly xxunk , for example , to remove any traces of flour and yeast , however small . xxmaj any item or implement that has handled chametz is generally put away and not used during xxmaj passover . xxmaj some hotels , resorts , and even cruise ships across xxmaj america , xxmaj europe and xxmaj israel also undergo a thorough xxunk to make their premises \" kosher for xxmaj pesach \" to cater to observant xxmaj jews . \n",
              " \n",
              " \n",
              "  = = = xxmaj interpretations for abstinence from leaven or yeast = = = \n",
              "  xxmaj some scholars suggest that the command to abstain from leavened food or yeast suggests that sacrifices offered to xxmaj god involve the offering of objects in \" their least altered state \" , that would be nearest to the way in which they were initially made by xxmaj god . xxmaj according to other scholars the absence of leaven or yeast means that leaven or yeast symbolizes corruption and spoiling . xxmaj there are also variations with restrictions on eating matzah before xxmaj passover so that there will be an increased appetite for it during xxmaj passover itself . xxmaj primarily among xxmaj chabad xxmaj xxunk , there is a custom of not eating xxunk ( flat unleavened bread ) in the 30 days before xxmaj passover begins . xxmaj others have a custom to refrain from eating matzah from xxmaj rosh xxmaj chodesh xxmaj nissan , while the halacha merely restricts one from eating matzah on the day before xxmaj passover . \n",
              " \n",
              " \n",
              "  = = xxmaj sale of leaven = = \n",
              " \n",
              "  xxmaj leaven or chametz may be sold rather than discarded , especially in the case of relatively valuable forms such as liquor distilled from wheat , with the products being xxunk afterward . xxmaj in some cases , they may never leave the house , instead being formally sold while remaining in the original owner 's possession in a locked cabinet until they can be xxunk after the holiday . xxmaj modern observance may also include sealing cabinets and xxunk which contain \" xxmaj chametz \" shut by using adhesive tape , which serves a similar purpose to a lock but also shows evidence of tampering . xxmaj although the practice of selling \" xxmaj chametz \" dates back many years , some xxmaj reform rabbinical authorities have come to regard it with disdain – since the supposed \" new owner \" never takes actual possession of the goods . xxmaj the sale of chametz may also be conducted communally via a rabbi , who becomes the \" agent \" for all the community 's xxmaj jews through a halakhic procedure called a xxunk ( acquisition ) . xxmaj each householder must put aside all the chametz he is selling into a box or cupboard , and the rabbi enters into a contract to sell all the chametz to a non - xxmaj jew ( who is not obligated to celebrate the commandments ) in exchange for a small down payment ( e.g. $ 1.00 ) , with the remainder due after xxmaj passover . xxmaj this sale is considered completely binding according to xxmaj halakha , and at any time during the holiday , the buyer may come to take or partake of his property . xxmaj the rabbi then re - purchases the goods for less than they were sold at the end of the holiday . \n",
              " \n",
              " \n",
              "  = = xxmaj search for leaven = = \n",
              " \n",
              "  xxmaj on the night of the fourteenth of xxmaj nisan , the night before the xxmaj passover xxmaj seder ( after nightfall on the evening before xxmaj passover eve ) , xxmaj jews do a formal search in their homes known as xxunk chametz for any possible remaining leaven ( chametz ) . xxmaj the xxmaj talmudic sages instructed that a search for chametz be made in every home , place of work , or any place where chametz may have been brought during the year . xxmaj when the first xxmaj seder is on a xxmaj saturday night , the search is conducted on the preceding xxmaj thursday night ( thirteenth of xxmaj nisan ) as chametz can not be burned during xxmaj shabbat . \n",
              "  xxmaj the xxmaj talmud in xxmaj xxunk ( p. 2a ) derives from the xxmaj torah that the search for chametz be conducted by the light of a candle and therefore is done at night , and although the final destruction of the chametz ( usually by burning it in a small bonfire ) is done on the next morning , the blessing is made at night because the search is both in preparation for and part of the commandments to remove and destroy all chametz from one 's possession . \n",
              " \n",
              " \n",
              "  = = = xxmaj blessing for search of chametz and nullification of chametz = = = \n",
              "  xxmaj before the search is begun there is a special blessing . xxmaj if several people or family members assist in the search then only one person , usually the head of that family recites the blessing having in mind to include everyone present : \n",
              "  xxmaj blessed are xxmaj you , xxmaj hashem our xxmaj god , xxmaj king of the universe , xxmaj who has sanctified us with his commandments and has commanded us concerning the removal of chametz . xxmaj in xxmaj hebrew : \n",
              "  xxunk xxunk xxunk - xxunk א - xxunk xxunk xxunk xxunk xxunk xxunk xxunk xxunk xxunk xxunk \n",
              "  ( xxunk xxunk , xxmaj xxunk e - xxunk , xxunk xxunk , xxunk xxunk - xxunk be - xxunk we - xxunk ‘ al be - xxunk xxunk ) \n",
              "  xxmaj the search is then usually conducted by the head of the household joined by his family including children under the supervision of their parents . \n",
              "  xxmaj it is customary to turn off the lights and conduct the search by candlelight , using a feather and a wooden spoon : candlelight effectively illuminates corners without casting shadows ; the feather can dust xxunk out of their hiding places ; and the wooden spoon which collects the xxunk can be burned the next day with the chametz . xxmaj however , most contemporary xxmaj jewish - xxmaj orthodox authorities permit using a flashlight , while some strongly encourage it due to the danger coupled with using a candle . \n",
              "  xxmaj because the house is assumed to have been thoroughly cleaned by the night before xxmaj passover , there is some concern that making a blessing over the search for chametz will be in vain ( xxunk xxunk ) if nothing is found . xxmaj thus , 10 xxunk of bread or cereal smaller than the size of an olive are traditionally hidden throughout the house in order to ensure that some chametz will be found . \n",
              "  xxmaj upon conclusion of the search , with all the small pieces safely wrapped up and put in one bag or place , to be burned the next morning , the following is said : \n",
              " \n",
              "  xxmaj any chametz or leaven that is in my possession which i have not seen and have not removed and do not know about should be annulled and become xxunk like the dust of the earth . xxmaj original declaration as recited in xxmaj aramaic : xxunk xxunk xxunk xxunk xxunk xxunk xxunk xxunk xxunk xxunk xxunk xxunk xxunk xxunk xxunk xxunk xxunk \n",
              " \n",
              " \n",
              "  = = xxmaj morning of 14th of xxmaj nissan = = \n",
              "  xxmaj note that if the 14th of xxmaj nissan is xxmaj shabbat , many of the below will be celebrated on the 13th instead due to restrictions in place during xxmaj shabbat . \n",
              " \n",
              " \n",
              "  = = = xxmaj fast of the xxmaj firstborn = = = \n",
              " \n",
              "  xxmaj on the day preceding the first xxmaj passover seder ( or on xxmaj thursday morning preceding the seder , when the first seder falls on xxmaj xxunk xxmaj shabbat ) , firstborn sons are commanded to celebrate the xxmaj fast of the xxmaj firstborn which commemorates the salvation of the xxmaj hebrew xxunk . xxmaj according to xxmaj exodus xxunk , xxmaj god struck down all xxmaj egyptian xxunk while the xxmaj israelites were not affected . xxmaj however , it is customary for synagogues to conduct a xxunk ( ceremony marking the completion of a section of xxmaj torah learning ) right after morning prayers , and the celebratory meal that follows cancels the firstborn 's obligation to fast . \n",
              " \n",
              " \n",
              "  = = = xxmaj burning and nullification of leaven = = = \n",
              "  xxmaj on the morning of the 14th of xxmaj nisan , any leavened products that remain in the householder 's possession , along with the 10 xxunk of bread from the previous night 's search , are burned ( xxunk chametz ) . xxmaj the head of the household repeats the declaration of xxunk chametz , declaring any chametz that may not have been found to be null and void \" as the dust of the earth \" : \n",
              " \n",
              "  xxmaj any chametz or leaven that is in my possession which i have not seen and have not removed and do not know about should be annulled and become xxunk like the dust of the earth . xxmaj original declaration as recited in xxmaj aramaic : xxunk xxunk xxunk xxunk xxunk xxunk xxunk xxunk xxunk xxunk xxunk xxunk xxunk xxunk xxunk xxunk xxunk \n",
              "  xxmaj should more chametz actually be found in the house during the xxmaj passover holiday , it must be burnt as soon as possible . \n",
              "  xxmaj unlike chametz , which can be eaten any day of the year except during xxmaj passover , kosher for xxmaj passover foods can be eaten year - round . xxmaj they need not be burnt or otherwise discarded after the holiday ends . \n",
              "  xxmaj the historic \" xxmaj paschal lamb \" xxmaj passover sacrifice ( xxmaj korban xxmaj pesach ) has not been brought following the xxmaj romans ' destruction of the xxmaj second xxmaj jewish temple approximately two thousand years ago , and it is therefore still not part of the modern xxmaj jewish holiday . \n",
              "  xxmaj in the times when the xxmaj jewish xxmaj temples stood , the lamb was slaughtered and cooked on the evening of xxmaj passover and was completely consumed before the morning as described in xxmaj exodus xxunk . \n",
              " \n",
              " \n",
              "  = = xxmaj separate kosher for xxmaj passover utensils and dishes = = \n",
              "  xxmaj due to the xxmaj torah injunction not to eat chametz ( leaven ) during xxmaj passover ( xxmaj exodus xxunk ) , observant families typically own complete sets of serving dishes , glassware and silverware ( and in some cases , even separate xxunk and sinks ) which have never come into contact with chametz , for use only during xxmaj passover . xxmaj under certain circumstances , some chametz utensils can be immersed in boiling water ( xxunk xxunk ) to purge them of any traces of chametz that may have accumulated during the year . xxmaj many xxmaj sephardic families thoroughly wash their year - round glassware and then use it for xxmaj passover , as the xxmaj sephardic position is that glass does not absorb enough traces of food to present a problem . xxmaj similarly , ovens may be used for xxmaj passover either by setting the self - cleaning function to the highest degree for a certain period of time , or by applying a blow torch to the interior until the oven xxunk red hot ( a process called xxunk xxunk ) . \n",
              " \n",
              " \n",
              "  = = xxmaj matzah = = \n",
              " \n",
              "  a symbol of the xxmaj passover holiday is matzo , an unleavened xxunk made solely from flour and water which is continually worked from mixing through baking , so that it is not allowed to rise . xxmaj matzo may be made by machine or by hand . xxmaj the xxmaj torah contains an instruction to eat matzo , specifically , on the first night of xxmaj passover and to eat only unleavened bread ( in practice , matzo ) during the entire week of xxmaj passover . xxmaj consequently , the eating of matzo figures prominently in the xxmaj passover xxmaj seder . xxmaj there are several explanations for this . \n",
              "  xxmaj the xxmaj torah says that it is because the xxmaj hebrews left xxmaj egypt with such haste that there was no time to allow baked bread to rise ; thus flat , unleavened bread , matzo , is a reminder of the rapid departure of the xxmaj exodus . xxmaj other scholars teach that in the time of the xxmaj exodus , matzo was commonly baked for the purpose of traveling because it preserved well and was light to carry ( making it similar to xxunk ) , suggesting that matzo was baked intentionally for the long journey ahead . \n",
              "  xxmaj matzo has also been called xxmaj xxunk xxmaj oni ( xxmaj hebrew : \" bread of poverty \" ) . xxmaj there is an attendant explanation that matzo serves as a symbol to remind xxmaj jews what it is like to be a poor slave and to promote humility , appreciate freedom , and avoid the inflated ego symbolized by more luxurious leavened bread . \n",
              " \n",
              "  xxmaj xxunk matzo ( \" watched \" or \" guarded \" matzo ) , is the bread of preference for the xxmaj passover xxmaj seder in xxmaj orthodox xxmaj jewish communities . xxmaj xxunk matzo is made from wheat that is guarded from contamination by leaven ( chametz ) from the time of summer harvest to its baking into matzos five to ten months later . \n",
              "  xxmaj in the weeks before xxmaj passover , matzos are prepared for holiday consumption . xxmaj in many xxmaj orthodox xxmaj jewish communities , men traditionally gather in groups ( \" xxunk \" ) to bake handmade matzo for use at the xxmaj seder , the dough being rolled by hand , resulting in a large and round matzo . xxmaj xxunk also work together in machine - made matzo factories , which produce the typically square - shaped matzo sold in stores . \n",
              "  xxmaj the baking of matzo is labor - intensive , as less than 18 minutes is permitted between the mixing of flour and water to the conclusion of baking and removal from the oven . xxmaj consequently , only a small number of matzos can be baked at one time , and the xxunk members are enjoined to work the dough constantly so that it is not allowed to ferment and rise . a special cutting tool is run over the dough just before baking to prick any bubbles which might make the xxunk puff up ; this creates the familiar dotted holes in the matzo . \n",
              "  xxmaj after the matzos come out of the oven , the entire work area is xxunk down and swept to make sure that no pieces of old , potentially leavened dough remain , as any stray pieces are now chametz , and can contaminate the next batch of matzo . \n",
              "  xxmaj some machine - made matzos are completed within 5 minutes of being xxunk . \n",
              " \n",
              " \n",
              "  = = xxmaj passover seder = = \n",
              " \n",
              "  xxmaj it is traditional for xxmaj jewish families to gather on the first night of xxmaj passover ( first two nights in xxmaj orthodox and xxmaj conservative communities outside xxmaj israel ) for a special dinner called a seder ( xxmaj hebrew : xxunk seder – derived from the xxmaj hebrew word for \" order \" or \" arrangement \" , referring to the very specific order of the ritual ) . xxmaj the table is set with the finest china and silverware to reflect the importance of the meal . xxmaj during this meal , the story of the xxmaj exodus from xxmaj egypt is retold using a special text called the xxmaj haggadah . xxmaj four cups of wine are consumed at various stages in the narrative . xxmaj the xxmaj haggadah divides the night 's procedure into 15 parts : \n",
              " \n",
              "  xxmaj xxunk / xxmaj xxunk xxunk – recital of xxmaj kiddush blessing and drinking of the first cup of wine \n",
              "  xxmaj xxunk / xxmaj xxunk / xxmaj xxunk xxunk – the washing of the hands – without blessing \n",
              "  xxmaj xxunk xxunk – dipping of the xxunk in salt water \n",
              "  xxmaj xxunk / xxmaj xxunk / xxmaj xxunk xxunk – breaking the middle matzo ; the larger piece becomes the afikoman which is eaten later during the ritual of xxmaj xxunk \n",
              "  xxmaj xxunk / xxmaj xxunk xxunk – retelling the xxmaj passover story , including the recital of \" the four questions \" and drinking of the second cup of wine \n",
              "  xxmaj xxunk / xxmaj xxunk / xxmaj xxunk xxunk – second washing of the hands – with blessing \n",
              "  xxmaj xxunk / xxmaj xxunk ’ / xxmaj xxunk ’ xxunk – traditional blessing before eating bread products \n",
              "  xxmaj matzo / xxmaj xxunk xxunk – blessing before eating matzo \n",
              "  xxmaj maror xxunk – eating of the maror \n",
              "  xxmaj xxunk / xxmaj xxunk xxunk – eating of a sandwich made of matzo and maror \n",
              "  xxmaj shulchan xxunk / xxmaj xxunk ‘ xxunk xxunk xxunk – lit . \" set table \" – the serving of the holiday meal \n",
              "  xxmaj xxunk / xxmaj xxunk / xxmaj xxunk xxunk – eating of the afikoman \n",
              "  xxmaj xxunk / xxmaj xxunk xxunk – blessing after the meal and drinking of the third cup of wine \n",
              "  xxmaj hallel xxunk – recital of the xxmaj hallel , traditionally recited on festivals ; drinking of the fourth cup of wine \n",
              "  xxmaj xxunk / xxmaj xxunk / xxmaj xxunk xxunk – xxunk 15 parts parallel the 15 steps in the xxmaj temple in xxmaj jerusalem on which the xxmaj levites stood during xxmaj temple services , and which were memorialized in the 15 xxmaj psalms ( # xxunk ) known as xxmaj xxunk xxunk lot ( xxmaj hebrew : xxunk xxunk xxunk ha - xxunk , \" xxmaj songs of xxunk seder is replete with questions , answers , and unusual practices ( e.g. the recital of xxmaj kiddush which is not immediately followed by the blessing over bread , which is the traditional procedure for all other holiday meals ) to arouse the interest and curiosity of the children at the table . xxmaj the children are also rewarded with nuts and xxunk when they ask questions and participate in the discussion of the xxmaj exodus and its aftermath . xxmaj likewise , they are encouraged to search for the afikoman , the piece of matzo which is the last thing eaten at the seder . xxmaj audience participation and interaction is the rule , and many families ' seders last long into the night with animated discussions and much singing . xxmaj the seder concludes with additional songs of praise and faith printed in the xxmaj haggadah , including xxmaj chad xxmaj xxunk ( \" xxmaj one xxmaj little xxmaj kid \" or \" xxmaj one xxmaj little xxmaj goat \" ) . \n",
              " \n",
              " \n",
              "  = = = xxmaj maror = = = \n",
              " \n",
              "  xxmaj maror ( bitter herbs ) symbolizes the bitterness of slavery in xxmaj egypt . xxmaj the following verse from the xxmaj torah underscores that symbolism : \" xxmaj and they embittered ( xxmaj hebrew : xxunk ve - xxunk ) their lives with hard labor , with mortar and with bricks and with all manner of labor in the field ; any labor that they made them do was with hard labor \" ( xxmaj exodus xxunk ) . \n",
              " \n",
              " \n",
              "  = = = xxmaj four cups of wine = = = \n",
              "  xxmaj there is a xxmaj rabbinic requirement that four cups of wine are to be drunk during the seder meal . xxmaj this applies to both men and women . xxmaj the xxmaj mishnah says ( xxmaj pes . xxunk ) that even the poorest man in xxmaj israel has an obligation to drink . xxmaj each cup is connected to a different part of the seder : the first cup is for xxmaj kiddush , the second cup is connected with the recounting of the xxmaj exodus , the drinking of the third cup concludes xxmaj xxunk xxmaj xxunk and the fourth cup is associated with xxmaj hallel . \n",
              " \n",
              " \n",
              "  = = = xxmaj the four questions and participation of children = = = \n",
              " \n",
              "  xxmaj children have a very important role in the xxmaj passover seder . xxmaj traditionally the youngest child is prompted to ask questions about the xxmaj passover seder , beginning with the words , xxmaj mah xxmaj xxunk xxunk xxunk ( xxmaj why is this night different from all other nights ? ) . xxmaj the questions encourage the gathering to discuss the significance of the symbols in the meal . xxmaj the questions asked by the child are : \n",
              " \n",
              "  xxmaj why is this night different from all other nights ? \n",
              "  xxmaj on all other nights , we eat either unleavened or leavened bread , but tonight we eat only unleavened bread ? \n",
              "  xxmaj on all other nights , we eat all kinds of vegetables , but tonight , we eat only bitter herbs ? \n",
              "  xxmaj on all other nights , we do not dip [ our food ] even once , but tonight we dip twice ? \n",
              "  xxmaj on all other nights , we eat either sitting or reclining , but tonight we only xxunk the leader of the seder and the other adults at the meal will use prompted responses from the xxmaj haggadah , which states , \" xxmaj the more one talks about the xxmaj exodus from xxmaj egypt , the more praiseworthy he is . \" xxmaj many readings , prayers , and stories are used to recount the story of the xxmaj exodus . xxmaj many households add their own commentary and interpretation and often the story of the xxmaj jews is related to the theme of liberation and its implications worldwide . \n",
              " \n",
              " \n",
              "  = = = xxmaj afikoman = = = \n",
              " \n",
              "  xxmaj the afikoman – an integral part of the xxmaj seder itself – is used to engage the interest and excitement of the children at the table . xxmaj during the fourth part of the xxmaj seder , called xxmaj xxunk , the leader breaks the middle piece of matzo into two . xxmaj he sets aside the larger portion as the afikoman . xxmaj many families use the afikoman as a device for keeping the children awake and alert throughout the xxmaj seder proceedings by hiding the afikoman and offering a prize for its return . xxmaj alternatively , the children are allowed to \" steal \" the afikoman and demand a reward for its return . xxmaj in either case , the afikoman must be consumed during the twelfth part of the xxmaj seder , xxmaj xxunk . \n",
              " \n",
              " \n",
              "  = = = xxmaj concluding songs = = = \n",
              "  xxmaj after the xxmaj hallel , the fourth glass of wine is drunk , and participants recite a prayer that ends in \" xxmaj next year in xxmaj jerusalem ! \" . xxmaj this is followed by several lyric prayers that expound upon xxmaj god 's mercy and kindness , and give thanks for the survival of the xxmaj jewish people through a history of exile and hardship . \" xxmaj xxunk xxmaj mi xxmaj xxunk \" ( \" xxmaj who xxmaj knows xxmaj one ? \" ) is a playful song , testing the general knowledge of the children ( and the adults ) . xxmaj some of these songs , such as \" xxmaj chad xxmaj xxunk \" are allegorical . \n",
              " \n",
              " \n",
              "  = = xxmaj counting of the xxmaj omer = = \n",
              "  xxmaj beginning on the second night of xxmaj passover , the 16th day of xxmaj nisan , xxmaj jews begin the practice of the xxmaj counting of the xxmaj omer , a nightly reminder of the approach of the holiday of xxmaj shavuot 50 days hence . xxmaj each night after the evening prayer service , men and women recite a special blessing and then xxunk the day of the xxmaj omer . xxmaj on the first night , for example , they say , \" xxmaj today is the first day in ( or , to ) the xxmaj omer \" ; on the second night , \" xxmaj today is the second day in the xxmaj omer . \" xxmaj the counting also involves weeks ; thus , the seventh day is commemorated , \" xxmaj today is the seventh day , which is one week in the xxmaj omer . \" xxmaj the eighth day is marked , \" xxmaj today is the eighth day , which is one week and one day in the xxmaj omer , \" etc . \n",
              "  xxmaj when the xxmaj temple stood in xxmaj jerusalem , a sheaf of new - cut barley was presented before the altar on the second day of xxmaj unleavened xxmaj bread . xxmaj josephus writes : \n",
              "  xxmaj on the second day of unleavened bread , that is to say the sixteenth , our people partake of the crops which they have xxunk and which have not been touched till then , and xxunk it right first to do homage to xxmaj god , to whom they owe the abundance of these gifts , they offer to him the first - fruits of the barley in the following way . xxmaj after xxunk and crushing the little sheaf of ears and purifying the barley for grinding , they bring to the altar an xxunk for xxmaj god , and , having flung a handful thereof on the altar , they leave the rest for the use of the priests . xxmaj thereafter all are permitted , publicly or individually , to begin harvest . xxmaj since the destruction of the xxmaj temple , this offering is brought in word rather than deed . \n",
              "  xxmaj one explanation for the xxmaj counting of the xxmaj omer is that it shows the connection between xxmaj passover and xxmaj shavuot . xxmaj the physical freedom that the xxmaj hebrews achieved at the xxmaj exodus from xxmaj egypt was only the beginning of a process that xxunk with the spiritual freedom they gained at the giving of the xxmaj torah at xxmaj mount xxmaj sinai . xxmaj another explanation is that the newborn nation which emerged after the xxmaj exodus needed time to learn their new responsibilities vis - a - vis xxmaj torah and mitzvot before accepting xxmaj god 's law . xxmaj the distinction between the xxmaj omer offering – a measure of barley , typically animal fodder – and the xxmaj shavuot offering – two loaves of wheat bread , human food – symbolizes the transition process . \n",
              " \n",
              " \n",
              "  = = xxmaj chol hamoed : xxmaj the intermediate days of xxmaj passover = = \n",
              "  xxmaj in xxmaj israel , xxmaj passover lasts for seven days with the first and last days being major xxmaj jewish holidays . xxmaj in xxmaj orthodox and xxmaj conservative communities , no work is performed on those days , with most of the rules relating to the observances of xxmaj shabbat being applied . xxmaj outside xxmaj israel , in xxmaj orthodox and xxmaj conservative communities , the holiday lasts for eight days with the first two days and last two days being major holidays . xxmaj in the intermediate days necessary work can be performed . xxmaj reform xxmaj judaism observes xxmaj passover over seven days , with the first and last days being major holidays . \n",
              "  xxmaj like the holiday of xxmaj sukkot , the intermediary days of xxmaj passover are known as xxmaj chol hamoed ( festival weekdays ) and are imbued with a semi - festive status . xxmaj it is a time for family outings and picnic lunches of matzo , hardboiled eggs , fruits and vegetables , and xxmaj passover treats such as xxunk and homemade xxunk . xxmaj passover cake recipes call for potato starch or xxmaj passover cake flour made from finely xxunk matzo instead of regular flour , and a large amount of eggs to achieve xxunk . xxmaj cookie recipes use matzo xxunk ( broken bits of matzo ) or ground nuts as the base . xxmaj for families with xxmaj eastern xxmaj european backgrounds , xxunk , a soup made with xxunk , is a xxmaj passover tradition . \n",
              " \n",
              "  xxmaj while kosher for xxmaj passover packaged goods are available in stores , some families opt to cook everything from scratch during xxmaj passover week . xxmaj in xxmaj israel , families that do not xxunk their ovens can bake cakes , xxunk , and even meat on the xxunk in a xxmaj wonder xxmaj pot , an xxmaj israeli invention consisting of three parts : an aluminium pot shaped like a xxmaj xxunk pan , a hooded cover perforated with venting holes , and a thick , round , metal disc with a center hole which is placed between the xxmaj wonder xxmaj pot and the flame to disperse heat . \n",
              " \n",
              " \n",
              "  = = xxmaj seventh day of xxmaj passover = = \n",
              "  xxmaj xxunk shel xxmaj pesach ( xxunk xxunk xxunk ) ( \" seventh [ day ] of xxmaj passover \" ) is another full xxmaj jewish holiday , with special prayer services and festive meals . xxmaj outside the xxmaj land of xxmaj israel , in the xxmaj jewish diaspora , xxmaj xxunk shel xxmaj pesach is celebrated on both the seventh and eighth days of xxmaj passover . xxmaj this holiday commemorates the day the xxmaj children of xxmaj israel reached the xxmaj red xxmaj sea and witnessed both the miraculous \" xxmaj splitting of the xxmaj sea \" ( xxmaj passage of the xxmaj red xxmaj sea ) , the drowning of all the xxmaj egyptian chariots , horses and soldiers that pursued them . xxmaj according to the xxmaj midrash , only the xxmaj pharaoh was spared to give testimony to the miracle that occurred . \n",
              "  xxmaj hasidic xxmaj rebbes traditionally hold a xxunk on the night of xxmaj xxunk shel xxmaj pesach and place a cup or bowl of water on the table before them . xxmaj they use this opportunity to speak about the xxmaj splitting of the xxmaj sea to their disciples , and sing songs of praise to xxmaj god . \n",
              " \n",
              " \n",
              "  = = xxmaj second xxmaj passover = = \n",
              "  xxmaj the \" xxmaj second xxmaj passover \" ( xxmaj pesach xxmaj sheni ) on the 14th of xxmaj xxunk in the xxmaj hebrew xxmaj calendar is mentioned in the xxmaj hebrew xxmaj bible 's xxmaj book of xxmaj numbers ( xxmaj numbers xxunk ) as a make - up day for people who were unable to offer the pesach sacrifice at the appropriate time due to ritual impurity or distance from xxmaj jerusalem . xxmaj just as on the first xxmaj pesach night , breaking bones from the second xxmaj paschal offering or leaving meat over until morning is prohibited ( xxmaj numbers xxunk , xxmaj pesach xxmaj sheni on the 14th of xxmaj xxunk has the status of a very minor holiday ( so much so that many of the xxmaj jewish people have never even heard of it , and it essentially does not exist outside of xxmaj orthodox and traditional xxmaj conservative xxmaj judaism ) . xxmaj there are not really any special prayers or observances that are considered xxmaj jewish law . xxmaj the only change in the liturgy is that in some communities xxmaj xxunk , a penitential prayer omitted on holidays , is not said . xxmaj there is a custom , though not xxmaj jewish law , to eat just one piece of matzo on that night . \n",
              " \n",
              " \n",
              "  = = xxmaj traditional foods = = \n",
              " \n",
              "  xxmaj because the house is free of leaven ( chametz ) for eight days , the xxmaj jewish household typically eats different foods during the week of xxmaj passover . xxmaj some include : \n",
              "  xxmaj ashkenazi foods \n",
              " \n",
              "  xxmaj matzah xxunk – xxmaj matzo softened in milk or water and fried with egg and fat ; served either savory or sweet \n",
              "  xxmaj matzo xxunk – a xxunk made with matzo instead of noodles \n",
              "  xxmaj xxunk – a sweet mixture of fruit , fresh , dried or both ; nuts ; spices ; honey ; and sometimes wine . xxmaj the xxunk is a symbol of the mortar the xxmaj israelites used for building while enslaved in xxmaj egypt ( xxmaj see xxmaj passover seder ) \n",
              "  xxmaj xxunk – xxmaj xxunk and beet relish \n",
              "  xxmaj xxunk fish – xxmaj xxunk fish patties or fish balls made from a mixture of ground , de - boned fish , mostly carp or pike \n",
              "  xxmaj chicken soup with matzah balls ( xxunk ) – xxmaj chicken soup served with matzo - meal xxunk \n",
              "  xxmaj passover noodles – xxmaj noodles prepared from potato flour and eggs , served in soup . xxmaj batter is fried like thin xxunk , which are stacked , rolled up and sliced into ribbons . xxmaj sephardi foods \n",
              " \n",
              "  xxmaj xxunk di xxunk – xxmaj fried balls made of xxunk , meat , and matzo meal \n",
              "  xxmaj lamb or chicken leg – a symbol of xxmaj god 's strong hand , and korban pesach \n",
              "  xxmaj mina ( pastel di pesach ) – a meat pie made with matzos \n",
              "  xxmaj spring green vegetables – xxunk , xxunk beans , peas \n",
              " \n",
              " \n",
              "  = = xxmaj sermons , liturgy , and song = = \n",
              "  xxmaj the story of xxmaj passover , with its message that slaves can go free , and that the future can be better than the present , has inspired a number of religious sermons , prayers , and songs – including spirituals ( what used to be called \" xxmaj negro xxmaj spirituals \" ) , within the xxmaj african - xxmaj american community . \n",
              "  xxmaj rabbi xxmaj philip xxup r. xxmaj xxunk , an early leader of xxmaj conservative xxmaj judaism , known for his fiery rhetoric and powerful oratory skills , wrote and spoke in 1939 about the power of the xxmaj passover story during the rise of xxmaj nazi persecution and terror : \n",
              "  xxmaj perhaps in our generation the counsel of our xxmaj talmudic sages may seem superfluous , for today the story of our enslavement in xxmaj egypt is kept alive not only by ritualistic symbolism , but even more so by tragic realism . xxmaj we are the contemporaries and witnesses of its daily re - enactment . xxmaj are not our hapless brethren in the xxmaj german xxmaj reich eating \" the bread of affliction \" ? xxmaj are not their lives embittered by complete xxunk and forced labor ? xxmaj are they not lashed mercilessly by brutal xxunk behind the walls of concentration camps ? xxmaj are not many of their men - folk being murdered in cold blood ? xxmaj is not the ruthlessness of the xxmaj egyptian xxmaj pharaoh surpassed by the sadism of the xxmaj nazi xxunk yet , even in this hour of disaster and degradation , it is still helpful to \" visualize oneself among those who had gone forth out of xxmaj egypt . \" xxmaj it gives stability and equilibrium to the spirit . xxmaj only our estranged kinsmen , the assimilated , and the de - xxmaj xxunk , go to pieces under the impact of the blow xxrep 4 . xxmaj but those who visualize themselves among the groups who have gone forth from the successive xxmaj xxunk in our history never lose their sense of perspective , nor are they overwhelmed by confusion and despair xxrep 4 . xxmaj it is this faith , born of racial experience and wisdom , which gives the oppressed the strength to outlive the oppressors and to endure until the day of ultimate triumph when we shall \" be brought forth from bondage unto freedom , from sorrow unto joy , from mourning unto festivity , from darkness unto great light , and from servitude unto redemption . \n",
              " \n",
              " \n",
              "  = = xxmaj celebrations in other religions = = \n",
              " \n",
              "  xxmaj the xxmaj samaritan religion celebrates its own , similar xxmaj passover holiday , based on the xxmaj samaritan xxmaj pentateuch . xxmaj xxunk holds that the xxmaj jews and xxmaj samaritans share a common history , but split into distinct communities after the time of xxmaj moses . xxmaj passover is also celebrated in xxmaj karaite xxmaj judaism , which rejects the xxmaj oral xxmaj torah that characterizes mainstream xxmaj rabbinic xxmaj judaism , as well as other groups claiming affiliation with xxmaj israelites . \n",
              "  xxmaj in xxmaj christianity , the celebration of xxmaj good xxmaj friday finds its roots in the xxmaj jewish feast of xxmaj passover , the evening on which xxmaj jesus was crucified as the xxmaj passover xxmaj lamb . xxmaj some xxmaj christians , including xxmaj messianic xxmaj jews , also celebrate xxmaj passover itself as a xxmaj christian holiday . \n",
              "  xxmaj in the xxmaj sunni sect of xxmaj islam , it is recommended to fast on the day of xxmaj xxunk ( 10th of xxmaj muharram ) based on narrations attributed to xxmaj muhammad . xxmaj the fast is celebrated in order to commemorate the day when xxmaj moses and his followers were saved from xxmaj pharaoh by xxmaj god by creating a path in the xxmaj red xxmaj sea ( xxmaj the xxmaj exodus ) . xxmaj according to xxmaj muslim tradition , the xxmaj jews of xxmaj xxunk used to fast on the tenth of xxmaj muharram in observance of xxmaj passover . xxmaj in narrations recorded in the al - xxmaj hadith ( sayings of the xxmaj islamic xxmaj prophet xxmaj muhammad ) of xxmaj sahih al - xxmaj bukhari , it is recommended that xxmaj muslims fast on this day . xxmaj it is also stipulated that its observance should differ from the feast of xxmaj passover which is celebrated by the xxmaj jews , and he stated that xxmaj muslims should fast for two days instead of one , either on the 9th and 10th day or on the 10th and 11th day of xxmaj muharram . \n",
              " \n",
              " \n",
              "  = = xxmaj see also = = \n",
              " \n",
              "  xxmaj xxunk \n",
              "  xxmaj haggadah of xxmaj pesach \n",
              "  xxmaj jewish greetings \n",
              "  xxmaj xxunk \n",
              "  xxmaj xxunk \n",
              " \n",
              " \n",
              "  = = xxmaj references = = \n",
              " \n",
              " \n",
              "  = = xxmaj external links = = \n",
              "  xxmaj passover xxmaj resources – xxunk \n",
              "  xxmaj guide to xxmaj passover – chabad.org \n",
              "  ' xxmaj xxunk xxmaj xxunk ' xxmaj jewish xxmaj law – xxmaj xxunk \n",
              "  xxmaj xxunk xxmaj passover xxmaj primer \n",
              "  xxmaj jewish xxmaj encyclopedia : xxmaj passover \n",
              "  xxmaj xxunk : xxmaj the xxmaj jewish xxmaj children 's xxmaj learning xxmaj network \n",
              "  xxmaj all about xxmaj pesach \n",
              "  xxmaj secular dates for passover \n",
              "  \" xxmaj passover collected news and commentary \" . xxmaj the xxmaj new xxmaj york xxmaj times .,xxbos xxmaj this article lists historical figures credited with founding religions or religious philosophies or people who first codified older known religious traditions . xxmaj it also lists those who have founded a specific major denomination within a larger religion . \n",
              " \n",
              " \n",
              "  = = xxmaj ancient ( before xxup ad 500 ) = = \n",
              "  xxmaj see culture hero for legendary founders of doubtful historicity . xxmaj if you intend to add figures that fall into this category , please add them in the allotted section . \n",
              " \n",
              " \n",
              "  = = xxmaj medieval to xxmaj early xxmaj modern ( xxunk xxup ad ) = = \n",
              " \n",
              " \n",
              "  = = xxmaj new religious movements ( xxunk ) = = \n",
              " \n",
              " \n",
              "  = = xxmaj legendary / semi - historical = = \n",
              " \n",
              " \n",
              "  = = xxmaj see also = = \n",
              "  xxmaj burial places of founders of world religions \n",
              "  xxmaj list of xxmaj buddha claimants \n",
              "  xxmaj list of messiah claimants \n",
              "  xxmaj list of people who have been considered deities \n",
              "  xxmaj list of religions and spiritual traditions \n",
              "  xxmaj lists of religious leaders by century \n",
              "  xxmaj timeline of religion \n",
              " \n",
              " \n",
              "  = = xxmaj notes = = \n",
              " \n",
              " \n",
              "  = = xxmaj references = = \n",
              " \n",
              " \n",
              "  = = xxmaj bibliography = = \n",
              "  xxmaj beit - xxmaj xxunk , xxmaj benjamin ( 1998 ) . xxmaj the xxmaj illustrated xxmaj encyclopedia of xxmaj active xxmaj new xxmaj religions , xxmaj sects , and xxmaj cults ( xxmaj revised xxmaj edition ) . xxmaj rosen xxmaj publishing xxmaj group . xxup isbn 978 - 0 - xxunk - xxunk - 5 . \n",
              "  xxmaj xxunk , xxmaj walter ( 2002 ) . xxmaj xxunk of xxmaj faith : a xxmaj theological xxmaj handbook of xxmaj old xxmaj testament xxmaj themes . xxmaj westminster xxmaj john xxmaj knox xxmaj press . xxup isbn 978 - 0 - 664 - xxunk - 4 . \n",
              "  xxmaj xxunk , xxmaj george xxup d. ( 2001 ) . xxmaj historical dictionary of new religious movements . xxmaj the xxmaj scarecrow xxmaj press , xxmaj inc. xxup isbn 978 - 0 - xxunk - xxunk - 9 . \n",
              "  xxmaj cousins , xxup ls ( 1996 ) , \" xxmaj the dating of the historical xxmaj buddha : a review article \" , xxmaj journal of the xxmaj royal xxmaj asiatic xxmaj society , 3 , 6 ( 1 ) : xxunk , xxunk / xxunk \n",
              "  xxmaj xxunk , xxmaj phyllis xxup g. ( 2004 ) . xxmaj holy xxmaj people of the xxmaj world : a xxmaj cross - cultural xxmaj encyclopedia ( xxmaj volume 3 ) . xxup abc - xxup clio , xxmaj inc. xxup isbn 978 - 1 - xxunk - 355 - 1 . \n",
              "  xxmaj melton , xxup j. xxmaj gordon ( 2003 ) . xxmaj encyclopedia of xxmaj american xxmaj religions ( xxmaj seventh edition ) . xxmaj farmington xxmaj hills , xxmaj michigan : xxmaj the xxmaj gale xxmaj group , xxmaj inc. xxup isbn 978 - 0 - xxunk - xxunk - 1 . \n",
              "  xxmaj radhakrishnan , xxmaj xxunk ; xxmaj moore , xxmaj charles ( 1957 ) . a xxmaj source xxmaj book in xxmaj indian xxmaj philosophy . xxmaj princeton xxmaj university xxmaj press . xxup isbn 978 - 0 - 691 - xxunk - xxup xxunk maint : ref = harv ( link ) \n",
              "  xxmaj xxunk , j ( 3 xxmaj july 2002 ) . \" xxmaj confucius \" . xxmaj stanford xxmaj encyclopedia of xxmaj philosophy . xxmaj retrieved 27 xxmaj october xxup xxunk maint : ref = harv ( link ) \n",
              "  xxmaj schumann , xxmaj hans xxmaj wolfgang ( 2003 ) , xxmaj the xxmaj historical xxmaj buddha : xxmaj the xxmaj times , xxmaj life , and xxmaj teachings of the xxmaj founder of xxmaj buddhism , xxmaj xxunk xxmaj xxunk , xxup isbn 978 - xxunk \n",
              "  xxmaj smith , xxmaj christian ; xxmaj joshua xxmaj xxunk ( 1999 ) . xxmaj latin xxmaj american xxmaj religion in xxmaj motion . xxmaj new xxmaj york , xxmaj new xxmaj york : xxmaj routledge . xxup isbn 978 - 0 - 415 - xxunk - 0 . \n",
              "  xxmaj singh , xxmaj xxunk ( 2016 ) , a xxmaj history of xxmaj ancient and xxmaj early xxmaj medieval xxmaj india : xxmaj from the xxmaj stone xxmaj age to the 12th xxmaj century , xxmaj pearson xxmaj education , xxup isbn 978 - 93 - 325 - xxunk - 6 \n",
              "  xxmaj zimmer , xxmaj heinrich ( 1953 ) [ xxmaj april 1952 ] , xxmaj campbell , xxmaj joseph ( ed . ) , xxmaj philosophies xxmaj of xxmaj india , xxmaj london , xxup xxunk 4 : xxmaj routledge & xxmaj xxunk xxmaj paul xxmaj ltd , xxup isbn 978 - 81 - 208 - xxunk - xxup xxunk maint : location ( link )\n",
              "y: CategoryList\n",
              "R,R,R,R,R\n",
              "Path: /content/drive/My Drive/AI & Tech Research/Religion of GPT2/fastai;\n",
              "\n",
              "Valid: LabelList (3370 items)\n",
              "x: TextList\n",
              "xxbos xxmaj many xxmaj wikipedia articles on religious topics are not yet listed on this page . xxmaj if you can not find the topic you are interested in on this page , it still may already exist ; you can try to find it using the \" xxmaj search \" box . xxmaj if you find that it exists , you can edit this page to add a link to it . \n",
              "  xxmaj if you click on \" xxmaj related changes \" at the side of this page , you will see a list of the most recent changes in articles to which this page links . xxmaj this page links to itself and its talk page so that changes to them can be tracked by the same means . \n",
              " \n",
              " \n",
              "  = = xxunk = = \n",
              "  1689 xxmaj baptist xxmaj confession of xxmaj faith \n",
              " \n",
              " \n",
              "  = = a = = \n",
              "  xxmaj abolitionism - \n",
              "  xxmaj abolitionism in the xxmaj united xxmaj states - \n",
              "  xxmaj abraham - \n",
              "  xxmaj abrahamic religion - \n",
              "  xxmaj accommodation - \n",
              "  xxmaj acolyte - \n",
              "  xxmaj acts of xxmaj pilate - \n",
              "  xxmaj adam and xxmaj eve - \n",
              "  xxmaj aeon - \n",
              "  xxmaj agnosticism - \n",
              "  xxmaj agnostic xxmaj theism - \n",
              "  xxmaj ahmadiyya - \n",
              "  xxmaj ahn xxmaj shi xxmaj il - \n",
              "  xxmaj xxunk - \n",
              "  xxmaj alexandrian xxmaj rite - \n",
              "  xxmaj all xxmaj saints - \n",
              "  xxmaj alleged textual evidence for xxmaj jesus - \n",
              "  xxmaj alpha course - \n",
              "  xxmaj altar - \n",
              "  xxmaj altar boy - \n",
              "  xxmaj altar rails - \n",
              "  xxmaj altar server - \n",
              "  xxmaj amazing xxmaj grace - \n",
              "  xxmaj xxunk - \n",
              "  xxmaj amish - \n",
              "  xxmaj anabaptist - \n",
              "  xxmaj anathema - \n",
              "  xxmaj anatta - \n",
              "  xxmaj ancestor - worship - \n",
              "  xxmaj ancient of xxmaj days - \n",
              "  xxmaj angel - \n",
              "  xxmaj angels of the zodiac - \n",
              "  xxmaj anglican xxmaj communion - \n",
              "  xxmaj anglican continuing churches - \n",
              "  xxmaj anglican views of homosexuality - \n",
              "  xxmaj anglicanism - \n",
              "  xxmaj anglo - xxmaj catholicism - \n",
              "  xxmaj animism - \n",
              "  xxmaj anointing - \n",
              "  xxmaj anointing of the xxmaj sick - \n",
              "  xxmaj antediluvian - \n",
              "  xxmaj anthropology of religion - \n",
              "  xxmaj anthropomorphism - \n",
              "  xxmaj anti - xxmaj arab - \n",
              "  xxmaj anti - xxmaj defamation xxmaj league - \n",
              "  xxmaj anti - xxmaj modernist oath - \n",
              "  xxmaj anti - xxmaj semitism - \n",
              "  xxmaj anti - xxmaj zionism - \n",
              "  xxmaj antichrist - \n",
              "  xxmaj apatheism - \n",
              "  xxmaj apocrypha - \n",
              "  xxmaj apocatastasis - \n",
              "  xxmaj apostles - \n",
              "  xxmaj apostles ' xxmaj creed - \n",
              "  xxmaj apostolic xxmaj pardon - \n",
              "  xxmaj apostolic xxmaj see - \n",
              "  xxmaj apostolic succession - \n",
              "  xxmaj marian apparition - \n",
              "  xxmaj ara xxmaj pacis - \n",
              "  xxmaj arab anti - semitism - \n",
              "  xxmaj xxunk - \n",
              "  xxmaj archbishop - \n",
              "  xxmaj arguments against the existence of xxmaj god - \n",
              "  xxmaj arguments for the existence of xxmaj god - \n",
              "  xxmaj arianism - \n",
              "  xxmaj arminianism - \n",
              "  xxmaj arul xxmaj nool - \n",
              "  xxmaj xxunk - \n",
              "  xxmaj ascension of xxmaj jesus xxmaj christ - \n",
              "  xxmaj ascetic - \n",
              "  xxmaj ash xxmaj wednesday - \n",
              "  xxmaj asherah - \n",
              "  xxmaj ashkenazi - \n",
              "  xxmaj xxunk - \n",
              "  xxmaj assumption of xxmaj mary - \n",
              "  xxmaj astrology - \n",
              "  xxmaj aten - \n",
              "  xxmaj athanasian xxmaj creed - \n",
              "  xxmaj atheism - \n",
              "  xxmaj atonement - \n",
              "  xxmaj augur - \n",
              "  xxmaj augustinians - \n",
              "  xxmaj xxunk - \n",
              "  xxmaj autocephaly - \n",
              "  xxmaj awards - \n",
              "  xxmaj ayyavazhi - \n",
              "  xxmaj ayyavazhi mythology - \n",
              "  xxmaj azazel - \n",
              "  xxmaj aztec mythology \n",
              " \n",
              " \n",
              "  = = b = = \n",
              "  xxmaj baal teshuva - \n",
              "  xxmaj baal - \n",
              "  xxmaj báb - \n",
              "  xxmaj babylonian calendar - \n",
              "  xxmaj backward message - \n",
              "  xxmaj bahá'í calendar - \n",
              "  xxmaj bahá'í xxmaj faith - \n",
              "  xxmaj bahá'u'lláh - \n",
              "  xxmaj bakkah - \n",
              "  xxmaj balaam - \n",
              "  xxmaj xxunk ( demon ) - \n",
              "  xxmaj balor - \n",
              "  xxmaj baptism - \n",
              "  xxmaj baptism for the dead - \n",
              "  xxmaj baptism of the xxmaj holy xxmaj spirit - \n",
              "  xxmaj bar mitzvah and xxmaj bat mitzvah - \n",
              "  xxmaj beatific vision - \n",
              "  xxmaj beast - \n",
              "  xxmaj beelzebub - \n",
              "  xxmaj robert xxmaj bellarmine - \n",
              "  xxmaj benedictine - \n",
              "  xxmaj bhakti - \n",
              "  xxmaj bhakti movement - \n",
              "  xxmaj bible - \n",
              "  xxmaj the xxmaj bible and history - \n",
              "  xxmaj bible translations - \n",
              "  xxmaj biblical canon - \n",
              "  xxmaj biblical inerrancy - \n",
              "  xxmaj jesus in the xxmaj christian xxmaj bible - \n",
              "  xxmaj biblical xxunk - \n",
              "  xxmaj biblical poetry - \n",
              "  xxmaj biblical xxmaj sabbath - \n",
              "  xxmaj binding of xxmaj isaac - \n",
              "  xxmaj bioethics - \n",
              "  xxmaj bishops ' xxmaj bible - \n",
              "  xxmaj bishop - \n",
              "  xxmaj black xxmaj madonna - \n",
              "  xxmaj blessed xxmaj sacrament - \n",
              "  xxmaj blessed xxmaj virgin xxmaj mary - \n",
              "  xxmaj blood libel - \n",
              "  xxmaj b'nai xxmaj xxunk - \n",
              "  xxmaj bodhisattva - \n",
              "  xxmaj bodhi - \n",
              "  xxmaj book of xxmaj mormon - \n",
              "  xxmaj books of the xxmaj bible - \n",
              "  xxmaj born again - \n",
              "  xxmaj brahma - \n",
              "  xxmaj brahman - \n",
              "  xxmaj brahmin - \n",
              "  xxmaj brahma xxmaj kumaris - \n",
              "  xxmaj brethren of the xxmaj common xxmaj life - \n",
              "  xxmaj breviary - \n",
              "  xxmaj brit milah - \n",
              "  xxmaj buddha - nature - \n",
              "  xxmaj buddhism - \n",
              "  xxmaj business ethics \n",
              " \n",
              " \n",
              "  = = c = = \n",
              "  xxmaj thomas xxmaj cajetan - \n",
              "  xxmaj canadian xxmaj unitarian xxmaj council - \n",
              "  xxmaj calendar of saints - \n",
              "  xxmaj calendar - \n",
              "  xxmaj calvinism - \n",
              "  xxmaj cambridge xxmaj declaration - \n",
              "  xxmaj candomblé - \n",
              "  xxmaj canon ( priest ) - \n",
              "  xxmaj canon law - \n",
              "  xxmaj canons of xxmaj dort - \n",
              "  xxmaj cantor ( church ) - \n",
              "  xxmaj cardinal ( xxmaj catholicism ) - \n",
              "  xxmaj carmelites - \n",
              "  xxmaj carmen xxmaj xxunk - \n",
              "  xxmaj catechism - \n",
              "  xxmaj catechism of the xxmaj catholic xxmaj church - \n",
              "  xxmaj cathedral - \n",
              "  xxmaj cathedral architecture - \n",
              "  xxmaj catholic xxmaj apostolic xxmaj church - \n",
              "  xxmaj catholic xxmaj church - \n",
              "  xxmaj catholic xxmaj church against war on xxmaj iraq - \n",
              "  xxmaj catholic xxmaj communion - \n",
              "  xxmaj catholic xxmaj king - \n",
              "  xxmaj catholic ministers - \n",
              "  xxmaj sacraments ( xxmaj catholic xxmaj church ) - \n",
              "  xxmaj catholicism - \n",
              "  xxmaj chalcedonian xxmaj creed - \n",
              "  xxmaj charismatic - \n",
              "  xxmaj xxunk - \n",
              "  xxmaj cherub - \n",
              "  xxmaj chicago xxmaj statement on xxmaj biblical xxmaj inerrancy - \n",
              "  xxmaj child sacrifice - \n",
              "  xxmaj chinese house church - \n",
              "  xxmaj chosen people - \n",
              "  xxmaj chrismation - \n",
              "  xxmaj christian anti - xxmaj semitism - \n",
              "  xxmaj christian anarchism - \n",
              "  xxmaj christian eschatology - \n",
              "  xxmaj christian fundamentalism - \n",
              "  xxmaj christian – xxmaj jewish reconciliation - \n",
              "  xxmaj christian xxmaj identity - \n",
              "  xxmaj christian mythology - \n",
              "  xxmaj christian xxmaj peacemaker xxmaj teams - \n",
              "  xxmaj christian xxmaj science - \n",
              "  xxmaj christian theological controversy - \n",
              "  xxmaj christian tradition - \n",
              "  xxmaj christianity - \n",
              "  xxmaj christmas - \n",
              "  xxmaj christmas xxmaj eve - \n",
              "  xxmaj christology - \n",
              "  xxmaj church - \n",
              "  xxmaj church of xxmaj england - \n",
              "  xxmaj church militant and church triumphant - \n",
              "  xxmaj church planting - \n",
              "  xxmaj civil religion - \n",
              "  xxmaj clergy - \n",
              "  xxmaj clerical celibacy - \n",
              "  xxmaj closed communion - \n",
              "  xxmaj college of xxmaj cardinals - \n",
              "  xxmaj college of xxmaj pontiffs - \n",
              "  xxmaj communion - \n",
              "  xxmaj communion of xxmaj saints - \n",
              "  xxmaj comparative religion - \n",
              "  xxmaj christianity and xxmaj judaism - \n",
              "  xxmaj comparing xxmaj eastern and xxmaj western religious traditions - \n",
              "  xxmaj concordat - \n",
              "  xxmaj conditional baptism - \n",
              "  xxmaj confession ( religion ) - \n",
              "  xxmaj confirmation ( sacrament ) - \n",
              "  xxmaj confucianism - \n",
              "  xxmaj congregation of xxmaj christian xxmaj brothers - \n",
              "  xxmaj congregationalism - \n",
              "  xxmaj congregationalist church - \n",
              "  xxmaj congregationalist polity - \n",
              "  xxmaj consecration - \n",
              "  xxmaj conservative xxmaj judaism - \n",
              "  xxmaj continuous revelation - \n",
              "  xxmaj conversational intolerance - \n",
              "  xxmaj cosmology - \n",
              "  xxmaj counter - xxmaj reformation - \n",
              "  a xxmaj course xxmaj in xxmaj miracles - \n",
              "  xxmaj covenant ( religion ) - \n",
              "  xxmaj covenanter - \n",
              "  xxmaj covenant theology - \n",
              "  xxmaj creationism - \n",
              "  xxmaj creed - \n",
              "  xxmaj criticism of religion - \n",
              "  xxmaj crucifixion - \n",
              "  xxmaj crusade - \n",
              "  xxmaj crypto - xxmaj judaism - \n",
              "  xxmaj cult - \n",
              "  xxmaj cult ( religion ) - \n",
              "  xxmaj curse \n",
              " \n",
              " \n",
              "  = = d = = \n",
              "  xxmaj dabru xxmaj emet - \n",
              "  xxmaj dajjal - \n",
              "  xxmaj day of the xxmaj vow - \n",
              "  xxmaj deacon - \n",
              "  xxmaj dead xxmaj sea scrolls - \n",
              "  xxmaj death worship - \n",
              "  xxmaj deism - \n",
              "  xxmaj demigod - \n",
              "  xxmaj demonology - \n",
              "  xxmaj demon - \n",
              "  xxmaj deuterocanonical books - \n",
              "  xxmaj deuteronomy - \n",
              "  xxmaj devil - \n",
              "  xxmaj devil 's xxmaj advocate - \n",
              "  xxmaj dharma - \n",
              "  xxmaj dhimmi - \n",
              "  xxmaj dies xxmaj irae - \n",
              "  xxmaj diocese - \n",
              "  xxmaj discordianism - \n",
              "  xxmaj dispensationalism - \n",
              "  xxmaj divination - \n",
              "  xxmaj divine grace - \n",
              "  xxmaj divine healing - \n",
              "  xxmaj divine xxmaj liturgy - \n",
              "  xxmaj divine providence - \n",
              "  xxmaj divine simplicity - \n",
              "  xxmaj doctor of the xxmaj church - \n",
              "  xxmaj doctrine xxmaj doctrine - \n",
              "  xxmaj doctrine and xxmaj covenants - \n",
              "  xxmaj documentary hypothesis - \n",
              "  xxmaj dogmatic definition - \n",
              "  xxmaj dogma - \n",
              "  xxmaj dominican xxmaj order - \n",
              "  xxmaj dominion xxmaj theology - \n",
              "  xxmaj dominus xxmaj iesus - \n",
              "  xxmaj douai xxmaj bible - \n",
              "  xxmaj xxunk \n",
              " \n",
              " \n",
              "  = = e = = \n",
              "  xxmaj early xxmaj christianity - \n",
              "  xxmaj early xxmaj muslim philosophy - \n",
              "  xxmaj earth religion - \n",
              "  xxmaj east – xxmaj west xxmaj schism - \n",
              "  xxmaj easter - \n",
              "  xxmaj eastern xxmaj christianity - \n",
              "  xxmaj eastern xxmaj orthodox xxmaj church organization - \n",
              "  xxmaj eastern xxmaj orthodoxy - \n",
              "  xxmaj eastern xxmaj rite xxmaj catholic xxmaj churches - \n",
              "  xxmaj ecclesia ( sociology of religion ) - \n",
              "  xxmaj ecclesial communities contrasted - \n",
              "  xxmaj ecclesiology - \n",
              "  xxmaj eckankar - \n",
              "  xxmaj economics of religion - \n",
              "  xxmaj economy ( xxmaj eastern xxmaj orthodoxy ) - \n",
              "  xxmaj ecumenical - \n",
              "  xxmaj ecumenical council - \n",
              "  xxmaj ecumenism - \n",
              "  xxmaj mary xxmaj baker xxmaj eddy - \n",
              "  xxmaj jonathan xxmaj edwards ( theology ) - \n",
              "  xxmaj egyptian mythology - \n",
              "  xxmaj emanationism - \n",
              "  xxmaj emergency baptism - \n",
              "  xxmaj emerging xxmaj church - \n",
              "  xxmaj the xxmaj enlightenment - \n",
              "  xxmaj end of the world - \n",
              "  xxmaj end times - \n",
              "  xxmaj epiclesis - \n",
              "  xxmaj epiphany - \n",
              "  xxmaj episcopacy - \n",
              "  xxmaj episcopalian - \n",
              "  xxmaj episcopal xxmaj church in the xxmaj united xxmaj states of xxmaj america - \n",
              "  xxmaj episcopal xxmaj church in xxmaj jerusalem and the xxmaj middle xxmaj east - \n",
              "  xxmaj episcopal xxmaj church of xxmaj scotland - \n",
              "  xxmaj episcopal see - \n",
              "  xxmaj eritrean xxmaj orthodox xxmaj church - \n",
              "  xxmaj xxunk - \n",
              "  xxmaj eschatology - \n",
              "  xxmaj esoteric cosmology - \n",
              "  xxmaj eternal xxmaj marriage - \n",
              "  xxmaj eternity xxmaj eternity - \n",
              "  xxmaj ethics - \n",
              "  xxmaj eucharist - \n",
              "  xxmaj evangelicalism - \n",
              "  xxmaj evolution - \n",
              "  xxmaj ex cathedra - \n",
              "  xxmaj excommunication - \n",
              "  xxmaj book of xxmaj exodus - \n",
              "  xxmaj exorcism - \n",
              "  xxmaj expository preaching - \n",
              "  xxmaj extra xxmaj xxunk xxmaj xxunk xxmaj xxunk \n",
              " \n",
              " \n",
              "  = = f = = \n",
              "  xxmaj faith - \n",
              "  xxmaj fall - \n",
              "  xxmaj fallen angel - \n",
              "  xxmaj free xxmaj christians ( xxmaj britain ) - \n",
              "  xxmaj feast of the xxmaj xxunk - \n",
              "  xxmaj fetishism - \n",
              "  xxmaj fideism - \n",
              "  xxmaj filioque clause - \n",
              "  xxmaj first xxmaj vatican xxmaj council - \n",
              "  xxmaj five xxmaj pillars of xxmaj islam - \n",
              "  xxmaj five solas - \n",
              "  xxmaj fleur de lys - \n",
              "  xxmaj flirty xxmaj fishing - \n",
              "  xxmaj flying xxmaj spaghetti xxmaj monster - \n",
              "  xxmaj folk religion - \n",
              "  xxmaj forgiveness - \n",
              "  xxmaj xxunk xxmaj xxunk - \n",
              "  xxmaj free xxmaj church of xxmaj scotland - \n",
              "  xxmaj free will - \n",
              "  xxmaj full communion - \n",
              "  xxmaj full xxmaj gospel - \n",
              "  xxmaj fundamentalism - \n",
              "  xxmaj funeral \n",
              " \n",
              " \n",
              "  = = g = = \n",
              "  xxmaj gabriel - \n",
              "  xxmaj gautama xxmaj buddha - \n",
              "  xxmaj genesis - \n",
              "  xxmaj geneva xxmaj bible - \n",
              "  xxmaj genie - \n",
              "  xxmaj gersonides - \n",
              "  xxmaj glossolalia - \n",
              "  xxmaj gnosticism - \n",
              "  xxmaj god - \n",
              "  xxmaj god and gender - \n",
              "  xxmaj goddess worship - \n",
              "  xxmaj goddess - \n",
              "  xxmaj godhead ( xxmaj christianity ) - \n",
              "  xxmaj gog - \n",
              "  xxmaj the xxmaj golden xxmaj bough - \n",
              "  xxmaj gospel of xxmaj john - \n",
              "  xxmaj gospel of xxmaj luke - \n",
              "  xxmaj gospel of xxmaj mark - \n",
              "  xxmaj gospel of xxmaj matthew - \n",
              "  xxmaj grace - \n",
              "  xxmaj great xxmaj apostasy - \n",
              "  xxmaj great xxmaj bible - \n",
              "  xxmaj greek mythology - \n",
              "  xxmaj greek xxmaj orthodox xxmaj church - \n",
              "  xxmaj greek religion - \n",
              "  xxmaj gregorian calendar - \n",
              "  xxmaj gregorian chant - \n",
              "  xxmaj guru \n",
              " \n",
              " \n",
              "  = = h = = \n",
              "  xxmaj hagiography - \n",
              "  xxmaj hail xxmaj mary - \n",
              "  xxmaj haitian xxmaj vodou - \n",
              "  xxmaj halakha - \n",
              "  xxmaj haredi xxmaj judaism - \n",
              "  xxmaj harran - \n",
              "  xxmaj harrowing of xxmaj hell - \n",
              "  xxmaj xxunk - \n",
              "  xxmaj hasidim - \n",
              "  xxmaj hasidism - \n",
              "  xxmaj heaven - \n",
              "  xxmaj hebrew xxmaj bible - \n",
              "  xxmaj hebrew xxmaj calendar - \n",
              "  xxmaj hebrew - \n",
              "  xxmaj hell - \n",
              "  xxmaj hellenic polytheism - \n",
              "  xxmaj hellenistic religion - \n",
              "  xxmaj henotheism - \n",
              "  xxmaj herem ( censure ) xxmaj talk : xxmaj herem ( censure ) - \n",
              "  xxmaj herem ( priestly gift ) xxmaj talk : xxmaj herem ( priestly gift ) - \n",
              "  xxmaj herem ( war or property ) xxmaj talk : xxmaj herem ( war or property ) - \n",
              "  xxmaj heresy - \n",
              "  xxmaj xxunk - \n",
              "  xxmaj heterodoxy - \n",
              "  xxmaj high xxmaj sabbaths - \n",
              "  xxmaj hinduism - \n",
              "  xxmaj hiram xxmaj xxunk - \n",
              "  xxmaj historical episcopate - \n",
              "  xxmaj history of ancient xxmaj israel and xxmaj judah - \n",
              "  xxmaj history of xxmaj christianity - \n",
              "  xxmaj history of the xxmaj english xxmaj bible - \n",
              "  xxmaj history of xxmaj unfulfilled xxmaj prophecy by xxmaj christians - \n",
              "  xxmaj history of xxmaj islam - \n",
              "  xxmaj holidays - \n",
              "  xxmaj holocaust theology - \n",
              "  xxmaj holocaust - \n",
              "  xxmaj holy card - \n",
              "  xxmaj holy xxmaj day of xxmaj obligation - \n",
              "  xxmaj holy xxmaj inquisition - \n",
              "  xxmaj holy xxmaj living and xxmaj holy xxmaj dying - \n",
              "  xxmaj holy xxmaj orders - \n",
              "  xxmaj holy xxmaj xxunk - \n",
              "  xxmaj holy xxmaj see - \n",
              "  xxmaj holy xxmaj spirit - \n",
              "  xxmaj holy xxmaj synod - \n",
              "  xxmaj holy water - \n",
              "  xxmaj homeric hymns - \n",
              "  xxmaj homosexuality and morality - \n",
              "  xxmaj homosexuality - \n",
              "  xxmaj house church - \n",
              "  xxmaj human sacrifice - \n",
              "  xxmaj humanism - \n",
              "  xxmaj hymn - \n",
              "  xxmaj hyper - xxmaj calvinism - \n",
              " \n",
              " \n",
              "  = = i = = \n",
              "  xxmaj icon - \n",
              "  xxmaj iconoclasm - \n",
              "  xxmaj iconography - \n",
              "  xxmaj iconostasis - \n",
              "  xxmaj idolatry - \n",
              "  xxmaj ifá - \n",
              "  xxmaj iguvine xxmaj tables - \n",
              "  xxmaj imam - \n",
              "  xxmaj impiety - \n",
              "  xxmaj imperial cult - \n",
              "  xxmaj incarnation - \n",
              "  xxmaj indulgence - \n",
              "  xxmaj infidel - \n",
              "  xxmaj inquisition - \n",
              "  xxmaj institute of the xxmaj brothers of the xxmaj christian xxmaj schools - \n",
              "  xxmaj integral thought - \n",
              "  xxmaj intelligent design - \n",
              "  xxmaj intercommunion - \n",
              "  xxmaj involution ( xxunk ) - \n",
              "  xxmaj irreligion - \n",
              "  xxmaj irresistible grace - \n",
              "  xxmaj isaac - \n",
              "  xxmaj isaiah - \n",
              "  xxmaj xxunk - xxmaj deva - \n",
              "  xxmaj ishmael - \n",
              "  xxmaj islam - \n",
              "  xxmaj islam and anti - xxmaj semitism - \n",
              "  xxmaj islam and xxmaj judaism - \n",
              "  xxmaj islamic calendar - \n",
              "  xxmaj islamic view of xxmaj jesus - \n",
              "  xxmaj islamism - \n",
              "  xxmaj israel \n",
              " \n",
              " \n",
              "  = = j = = \n",
              "  xxmaj jacob - \n",
              "  xxmaj jainism - \n",
              "  xxmaj james the xxmaj just - \n",
              "  xxmaj jehovah 's xxmaj witnesses - \n",
              "  xxmaj jehovah 's xxmaj witnesses and the xxmaj holocaust - \n",
              "  xxmaj jerusalem - \n",
              "  xxmaj jesus as xxmaj christ and xxmaj messiah - \n",
              "  xxmaj jesus - \n",
              "  xxmaj jew - \n",
              "  xxmaj jewish eschatology - \n",
              "  xxmaj jewish fundamentalism - \n",
              "  xxmaj jewish history timeline - \n",
              "  xxmaj jewish holidays - \n",
              "  xxmaj jewish principles of faith - \n",
              "  xxmaj jewish services - \n",
              "  xxmaj jewish xxmaj theological xxmaj seminary of xxmaj america - \n",
              "  xxmaj jewish views on marriage - \n",
              "  xxmaj jewish views on religious pluralism - \n",
              "  xxmaj jews for xxmaj jesus - \n",
              "  xxmaj jihad - \n",
              "  xxmaj jubilee ( xxmaj biblical ) - \n",
              "  xxmaj jubilee ( xxmaj christian ) - \n",
              "  xxmaj judaism - \n",
              "  xxmaj jumu'ah - \n",
              "  xxmaj justification ( theology ) - \n",
              " \n",
              " \n",
              "  = = k = = \n",
              "  xxmaj kabbalah - \n",
              "  xxmaj kairos - \n",
              "  xxmaj kairos retreat - \n",
              "  xxmaj karaite xxmaj judaism - \n",
              "  xxmaj karma - \n",
              "  xxmaj kashrut - \n",
              "  xxmaj kenosis - \n",
              "  xxmaj king xxmaj james xxmaj version of the xxmaj bible - \n",
              "  xxmaj king - xxmaj james - xxmaj only xxmaj movement - \n",
              "  xxmaj kingdom of xxmaj israel ( xxmaj samaria ) - \n",
              "  xxmaj kohen - \n",
              "  xxmaj kollel - \n",
              "  xxmaj korban - \n",
              "  xxmaj krishna \n",
              " \n",
              " \n",
              "  = = l = = \n",
              "  xxmaj laity - \n",
              "  xxmaj last xxmaj judgment - \n",
              "  xxmaj latin xxmaj rite - \n",
              "  xxmaj latria - \n",
              "  xxmaj xxunk - \n",
              "  xxmaj latter xxmaj rain xxmaj movement - \n",
              "  xxmaj lay presidency - \n",
              "  xxmaj lay xxmaj reader - \n",
              "  xxmaj lector - \n",
              "  xxmaj legalism ( theology ) - \n",
              "  xxmaj leviathan - \n",
              "  xxmaj leviticus - \n",
              "  xxmaj liberal xxmaj judaism ( disambiguation ) - \n",
              "  xxmaj light xxmaj upon xxmaj light - \n",
              "  xxmaj lilith - \n",
              "  xxmaj limited atonement - \n",
              "  xxmaj liturgical colours - \n",
              "  xxmaj liturgical hymn - \n",
              "  xxmaj liturgical xxmaj year - \n",
              "  xxmaj liturgy - \n",
              "  xxmaj louisiana xxmaj voodoo - \n",
              "  xxmaj luciferianism - \n",
              "  xxmaj lucifer - \n",
              "  xxmaj lupercalia - \n",
              "  xxmaj lutheran xxmaj church \n",
              " \n",
              " \n",
              "  = = m = = \n",
              "  xxmaj magic ( paranormal ) - \n",
              "  xxmaj magic ( religion ) - \n",
              "  xxmaj magnificat - \n",
              "  xxmaj magus - \n",
              "  xxmaj mahayana - \n",
              "  xxmaj maimonides - \n",
              "  xxmaj major orders - \n",
              "  xxmaj xxunk - \n",
              "  xxmaj manichaeism - \n",
              "  xxmaj marcionism - \n",
              "  xxmaj marian apparitions - \n",
              "  xxmaj maronite - \n",
              "  xxmaj marriage - \n",
              "  xxmaj mary , the mother of xxmaj jesus - \n",
              "  xxmaj masoretic text - \n",
              "  xxmaj masorti - \n",
              "  xxmaj mass ( liturgy ) - \n",
              "  xxmaj mass ( music ) - \n",
              "  xxmaj massacre of the xxmaj innocents - \n",
              "  xxmaj cotton xxmaj mather - \n",
              "  xxmaj increase xxmaj mather - \n",
              "  xxmaj meditation - \n",
              "  xxmaj xxunk - \n",
              "  xxmaj xxunk - \n",
              "  xxmaj mephistopheles - \n",
              "  xxmaj merkabah - \n",
              "  xxmaj messiah - \n",
              "  xxmaj messianic xxmaj judaism - \n",
              "  xxmaj methodism - \n",
              "  xxmaj methods of divination - \n",
              "  xxmaj metrical psalter - \n",
              "  xxmaj metropolitan bishop - \n",
              "  xxmaj michael ( archangel ) - \n",
              "  xxmaj midrash - \n",
              "  xxmaj xxunk - \n",
              "  xxmaj millennialism - \n",
              "  xxmaj millerites - \n",
              "  xxmaj minor orders - \n",
              "  xxmaj minority religion - \n",
              "  xxmaj miracle - \n",
              "  xxmaj mishnah - \n",
              "  xxmaj mithraism - \n",
              "  xxmaj mitzvah - \n",
              "  xxmaj modern xxmaj orthodox xxmaj judaism - \n",
              "  xxmaj moloch - \n",
              "  xxmaj monastery - \n",
              "  xxmaj monasticism - \n",
              "  xxmaj monk - \n",
              "  xxmaj monophysitism - \n",
              "  xxmaj monotheism - \n",
              "  xxmaj moral community - \n",
              "  xxmaj moravian xxmaj church - \n",
              "  xxmaj moriah - \n",
              "  xxmaj mormonism - \n",
              "  xxmaj edgardo xxmaj mortara - \n",
              "  xxmaj moses - \n",
              "  xxmaj mosque - \n",
              "  xxmaj mount xxmaj sinai - \n",
              "  xxmaj mourning - \n",
              "  xxmaj muhammad - \n",
              "  xxmaj xxunk worship - \n",
              "  xxmaj mun ( religion ) - \n",
              "  xxmaj mussar xxmaj movement - \n",
              "  xxmaj mysticism - \n",
              "  xxmaj myths and legends surrounding the xxmaj papacy \n",
              " \n",
              " \n",
              "  = = n = = \n",
              "  xxmaj xxunk - \n",
              "  xxmaj natural theology - \n",
              "  xxmaj neo - druidism - \n",
              "  xxmaj neopaganism - \n",
              "  xxmaj nestorianism - \n",
              "  xxmaj new xxmaj age - \n",
              "  xxmaj new moon - \n",
              "  xxmaj new xxmaj testament - \n",
              "  xxmaj nicene xxmaj creed - \n",
              "  xxmaj nirvana ( concept ) - \n",
              "  xxmaj nirvana ( xxmaj jainism ) - \n",
              "  xxmaj non - xxmaj abrahamic religion - \n",
              "  xxmaj nontheistic religions - \n",
              "  xxmaj nontrinitarianism - \n",
              "  xxmaj norse mythology - \n",
              "  xxmaj numinous - \n",
              "  xxmaj number of the xxmaj beast ( numerology ) \n",
              " \n",
              " \n",
              "  = = o = = \n",
              "  xxmaj oahspe - \n",
              "  xxmaj occult - \n",
              "  xxmaj old xxmaj english xxmaj bible translations - \n",
              "  xxmaj old xxmaj testament - \n",
              "  xxmaj omen - \n",
              "  xxmaj omnipotence - \n",
              "  xxmaj omniscience - \n",
              "  xxmaj one xxmaj holy xxmaj catholic and xxmaj apostolic xxmaj church - \n",
              "  xxmaj opus xxmaj dei - \n",
              "  xxmaj order of the xxmaj solar xxmaj temple - \n",
              "  xxmaj organizational structure of xxmaj jehovah 's xxmaj witnesses - \n",
              "  xxmaj oriental xxmaj orthodoxy - \n",
              "  xxmaj original sin - \n",
              "  xxmaj orthodoxy - \n",
              "  xxmaj orthodox xxmaj bahá'í xxmaj faith - \n",
              "  xxmaj orthodox xxmaj christian xxmaj mission xxmaj center - \n",
              "  xxmaj orthodox xxmaj judaism \n",
              " \n",
              " \n",
              "  = = p = = \n",
              "  xxmaj paganism - \n",
              "  xxmaj pali canon - \n",
              "  xxmaj pali - \n",
              "  xxmaj panentheism - \n",
              "  xxmaj xxunk xxmaj lingua - \n",
              "  xxmaj pantheism - \n",
              "  xxmaj papal abdication - \n",
              "  xxmaj papal bull - \n",
              "  xxmaj papal xxmaj coronation - \n",
              "  xxmaj papal election - \n",
              "  xxmaj papal xxmaj infallibility - \n",
              "  xxmaj papal xxmaj states - \n",
              "  xxmaj papal xxmaj tiara - \n",
              "  xxmaj paradise - \n",
              "  xxmaj xxunk - \n",
              "  xxmaj parousia - \n",
              "  xxmaj particular church - \n",
              "  xxmaj passover - \n",
              "  xxmaj patriarch - \n",
              "  xxmaj patron god - \n",
              "  xxmaj patron saint - \n",
              "  xxmaj paul of xxmaj tarsus - \n",
              "  xxmaj pauline xxmaj christianity - \n",
              "  xxmaj peace - \n",
              "  xxmaj pearl of xxmaj great xxmaj price - \n",
              "  xxmaj pelagianism - \n",
              "  xxmaj pentateuch - \n",
              "  xxmaj pentecostalism - \n",
              "  xxmaj people of the xxmaj book - \n",
              "  xxmaj permanent deacon - \n",
              "  xxmaj perpetual virginity of xxmaj mary - \n",
              "  xxmaj persecution of xxmaj christians - \n",
              "  xxmaj persian religions - \n",
              "  xxmaj peter - \n",
              "  xxmaj pharisee - \n",
              "  xxmaj philistine - \n",
              "  xxmaj philosophy of religion - \n",
              "  xxmaj xxunk - \n",
              "  xxmaj pietism - \n",
              "  xxmaj pilgrim 's xxmaj progress - \n",
              "  xxmaj pilgrimage - \n",
              "  xxmaj plural xxmaj marriage ( xxmaj mormonism ) - \n",
              "  xxmaj political religion - \n",
              "  xxmaj polytheism - \n",
              "  xxmaj polytheistic reconstructionism - \n",
              "  xxmaj pontiff - \n",
              "  xxmaj pontifex xxmaj maximus - \n",
              "  xxmaj pope - \n",
              "  xxmaj port - xxmaj royal - \n",
              "  xxmaj posek - \n",
              "  xxmaj pow - wow ( folk magic ) - \n",
              "  xxmaj practices of xxmaj jehovah 's xxmaj witnesses - \n",
              "  xxmaj prakrit - \n",
              "  xxmaj praxis ( xxmaj orthodox ) - \n",
              "  xxmaj prayer - \n",
              "  xxmaj prayer for the dead - \n",
              "  xxmaj predestination - \n",
              "  xxmaj pre - existence - \n",
              "  xxmaj presbyterian - \n",
              "  xxmaj presbyterian xxmaj church - \n",
              "  xxmaj presbytery ( sacred architecture ) - \n",
              "  xxmaj prevenient grace - \n",
              "  xxmaj priesthood ( xxmaj mormonism ) - \n",
              "  xxmaj priesthood of all believers - \n",
              "  xxmaj priest - \n",
              "  xxmaj primacy of the xxmaj roman xxmaj pontiff - \n",
              "  xxmaj primate ( bishop ) - \n",
              "  xxmaj probabilism - \n",
              "  xxmaj the problem of evil - \n",
              "  xxmaj the problem of xxmaj hell - \n",
              "  xxmaj process theology - \n",
              "  xxmaj projects working for peace among xxmaj israelis and xxmaj arabs - \n",
              "  xxmaj prophet - \n",
              "  xxmaj prophets of xxmaj islam - \n",
              "  xxmaj protestantism - \n",
              "  xxmaj protestant xxmaj reformation - \n",
              "  xxmaj proto - xxmaj indo - xxmaj european religion - \n",
              "  xxmaj psalm - \n",
              "  xxmaj psalms of xxmaj asaph - \n",
              "  xxmaj pseudoscience - \n",
              "  xxmaj xxunk - \n",
              "  xxmaj purgatory - \n",
              "  xxmaj purim - \n",
              "  xxmaj puritan - \n",
              "  xxmaj pythagoreanism \n",
              " \n",
              " \n",
              "  = = q = = \n",
              "  xxmaj quietism ( xxmaj christian philosophy ) - \n",
              "  xxmaj qur'an \n",
              " \n",
              " \n",
              "  = = r = = \n",
              "  xxmaj rabbi - \n",
              "  xxmaj rabbinical xxmaj assembly - \n",
              "  xxmaj rabbinic literature - \n",
              "  xxmaj raëlism - \n",
              "  xxmaj raja xxmaj yoga - \n",
              "  xxmaj rama - \n",
              "  xxmaj ramadan - \n",
              "  xxmaj raphael ( angel ) - \n",
              "  xxmaj rastafari movement - \n",
              "  xxmaj rationalism - \n",
              "  xxmaj rebbe - \n",
              "  xxmaj rebirth - \n",
              "  xxmaj reconstructionist xxmaj judaism - \n",
              "  xxmaj red xxmaj sea - \n",
              "  xxmaj reform xxmaj judaism - \n",
              "  xxmaj reincarnation - \n",
              "  xxmaj religion - \n",
              "  xxmaj religion and abortion - \n",
              "  xxmaj religion and homosexuality - \n",
              "  xxmaj religion in xxmaj ancient xxmaj rome - \n",
              "  xxmaj religion in xxmaj canada - \n",
              "  xxmaj religion in xxmaj germany - \n",
              "  xxmaj religion in xxmaj india - \n",
              "  xxmaj religion in the xxmaj united xxmaj states - \n",
              "  xxmaj religious aspects of marriage - \n",
              "  xxmaj religious conversion - \n",
              "  xxmaj religious cosmology - \n",
              "  xxmaj religious denomination - \n",
              "  xxmaj religious ecstasy - \n",
              "  xxmaj religious xxmaj humanism - \n",
              "  xxmaj religious intolerance - \n",
              "  xxmaj religious persecution - \n",
              "  xxmaj religious pluralism - \n",
              "  xxmaj religious studies - \n",
              "  xxmaj repentance - \n",
              "  xxmaj requiem - \n",
              "  xxmaj responsa - \n",
              "  xxmaj restorationism ( xxmaj christian primitivism ) - \n",
              "  xxmaj restoration ( xxmaj mormonism ) - \n",
              "  xxmaj resurrection - \n",
              "  xxmaj resurrection of xxmaj jesus - \n",
              "  xxmaj revelation - \n",
              "  xxmaj reverence - \n",
              "  xxmaj rhema - \n",
              "  xxup rhema xxmaj bible xxmaj training xxmaj center - \n",
              "  xxmaj righteousness - \n",
              "  xxmaj role of women in xxmaj judaism - \n",
              "  xxmaj roman xxmaj catholic xxmaj church sex abuse allegations - \n",
              "  xxmaj romanian xxmaj orthodox xxmaj church - \n",
              "  xxmaj roman mythology - \n",
              "  xxmaj romans road - \n",
              "  xxmaj rosh xxmaj hashanah \n",
              " \n",
              " \n",
              "  = = s = = \n",
              "  xxmaj sabbath economics - \n",
              "  xxmaj sabbath in xxmaj christianity - \n",
              "  xxmaj sabbath in seventh - day churches - \n",
              "  xxmaj sabbath mode - \n",
              "  xxmaj sabbath xxmaj school - \n",
              "  xxmaj sabellianism - \n",
              "  xxmaj sabians - \n",
              "  xxmaj sacrament - \n",
              "  xxmaj sacramental character - \n",
              "  xxmaj sacramental index - \n",
              "  xxmaj sacred ( comparative religion ) - \n",
              "  xxmaj sacred xxmaj heart - \n",
              "  xxmaj sacred king - \n",
              "  xxmaj sacred language - \n",
              "  xxmaj sacred text - \n",
              "  xxmaj sacred xxmaj tradition - \n",
              "  xxmaj sacrifice - \n",
              "  xxmaj xxunk - \n",
              "  xxmaj sai xxmaj baba - \n",
              "  xxmaj xxunk - \n",
              "  xxmaj saint - \n",
              "  xxmaj saints , calendar of - \n",
              "  xxmaj salvation - \n",
              "  xxmaj samael - \n",
              "  xxmaj sanctification - \n",
              "  xxmaj sanskrit - \n",
              "  xxmaj sarah - \n",
              "  xxmaj satanism - \n",
              "  xxmaj satan - \n",
              "  xxmaj sathya xxmaj sai xxmaj baba - \n",
              "  xxmaj saturday - \n",
              "  xxmaj saturnalia - \n",
              "  xxmaj scapegoat - \n",
              "  xxmaj scientology xxmaj in xxmaj australia - \n",
              "  xxmaj scofield xxmaj reference xxmaj bible - \n",
              "  xxmaj seal of the xxmaj prophets - \n",
              "  xxmaj second xxmaj coming - \n",
              "  xxmaj second xxmaj great xxmaj awakening - \n",
              "  xxmaj second xxmaj vatican xxmaj council - \n",
              "  xxmaj secondary conversion - \n",
              "  xxmaj sect - \n",
              "  xxmaj secular humanism - \n",
              "  xxmaj seder - \n",
              "  xxmaj sede vacante - \n",
              "  xxmaj sedevacantism - \n",
              "  xxmaj seir - \n",
              "  xxmaj sephardic xxmaj judaism - \n",
              "  xxmaj sephardi - \n",
              "  xxmaj septuagint - \n",
              "  xxmaj seraph - \n",
              "  xxmaj sermon on the xxmaj mount - \n",
              "  xxmaj sermon - \n",
              "  xxmaj seven - day week - \n",
              "  xxmaj shabbat - \n",
              "  xxmaj shabbat ( xxmaj talmud ) - \n",
              "  xxmaj xxunk - \n",
              "  xxmaj shabbos goy - \n",
              "  xxmaj shamanism - \n",
              "  xxmaj xxunk - \n",
              "  xxmaj sharia - \n",
              "  xxmaj shavuot - \n",
              "  xxmaj shiite - \n",
              "  xxmaj shinto - \n",
              "  xxmaj shirk ( idolatry ) - \n",
              "  xxmaj shiva - \n",
              "  xxmaj shmita - \n",
              "  xxmaj shofar - \n",
              "  xxmaj shrine - \n",
              "  xxmaj shrines to the xxmaj virgin xxmaj mary - \n",
              "  xxmaj shunning - \n",
              "  xxmaj siddur - \n",
              "  xxmaj sikhism - \n",
              "  xxmaj sign of the cross - \n",
              "  xxmaj signs and xxmaj wonders - \n",
              "  xxmaj simony - \n",
              "  xxmaj sin - \n",
              "  xxmaj sira - \n",
              "  xxmaj skepticism - \n",
              "  xxmaj sky xxmaj father - \n",
              "  xxmaj slain in the xxmaj spirit - \n",
              "  xxmaj smith , xxmaj joseph , xxmaj jr. - \n",
              "  xxmaj xxunk - \n",
              "  xxmaj xxunk - \n",
              "  xxmaj sodom and xxmaj gomorrah - \n",
              "  xxmaj sol xxmaj invictus - \n",
              "  xxmaj solar xxmaj deity - \n",
              "  xxmaj soul sleep - \n",
              "  xxmaj spirit - \n",
              "  xxmaj spiritism - \n",
              "  xxmaj spiritual ( music ) - \n",
              "  xxmaj spiritual possession - \n",
              "  xxmaj spiritualism ( religious movement ) - \n",
              "  xxmaj spiritualism - \n",
              "  xxmaj spirituality - \n",
              "  xxmaj state religion - \n",
              "  xxmaj stations of the xxmaj cross - \n",
              "  xxmaj suburbicarian diocese - \n",
              "  xxmaj succubus - \n",
              "  xxmaj sufi - \n",
              "  xxmaj xxunk - \n",
              "  xxmaj sukkot - \n",
              "  xxmaj sumerian religion - \n",
              "  xxmaj sunnah - \n",
              "  xxmaj sunni - \n",
              "  xxmaj supernatural - \n",
              "  xxmaj supersessionism - \n",
              "  xxmaj superstition - \n",
              "  xxmaj supreme xxmaj pontiff - \n",
              "  xxmaj surat xxmaj shabd xxmaj yoga - \n",
              "  xxmaj sutra - \n",
              "  xxmaj sydney xxmaj anglicans - \n",
              "  xxmaj syllabus of xxmaj errors - \n",
              "  xxmaj synagogue - \n",
              "  xxmaj syncretism \n",
              " \n",
              " \n",
              "  = = t = = \n",
              "  xxmaj tathagatagarbha doctrine - \n",
              "  xxmaj tallit - \n",
              "  xxmaj talmud - \n",
              "  xxmaj tanakh - \n",
              "  xxmaj taoism - \n",
              "  xxmaj tawhid - \n",
              "  xxmaj tefillin - \n",
              "  xxmaj temple in xxmaj jerusalem - \n",
              "  xxmaj temple ( xxmaj latter xxmaj day xxmaj saints ) - \n",
              "  xxmaj temple - \n",
              "  xxmaj ten xxmaj commandments - \n",
              "  xxmaj the xxmaj ten xxmaj gurus of xxmaj sikhism - \n",
              "  xxmaj territorial xxmaj spirits - \n",
              "  xxmaj tetragrammaton - \n",
              "  xxmaj thai lunar calendar - \n",
              "  xxmaj thealogy - \n",
              "  xxmaj theism - \n",
              "  xxmaj theodicy - \n",
              "  xxmaj theology - \n",
              "  xxmaj theoria - \n",
              "  xxmaj theosis - \n",
              "  xxmaj theosophy ( xxmaj xxunk ) - \n",
              "  xxmaj theosophy ( xxmaj xxunk ) - \n",
              "  xxmaj theravada - \n",
              "  xxmaj third xxmaj wave of the xxmaj holy xxmaj spirit - \n",
              "  xxmaj thirty - xxmaj nine xxmaj articles - \n",
              "  xxmaj three - xxmaj chapter xxmaj controversy - \n",
              "  xxmaj three xxmaj wise xxmaj men - \n",
              "  xxmaj tibetan xxmaj buddhism - \n",
              "  xxmaj tipitaka - \n",
              "  xxmaj torah study - \n",
              "  xxmaj torah - \n",
              "  xxmaj tosefta - \n",
              "  xxmaj total depravity - \n",
              "  xxmaj totemism - \n",
              "  xxmaj toward the xxmaj light - \n",
              "  xxmaj tract ( liturgy ) - \n",
              "  xxmaj transcendentalism - \n",
              "  xxmaj transfiguration - \n",
              "  xxmaj transubstantiation - \n",
              "  xxmaj translation ( religion ) - \n",
              "  xxmaj trimurti - \n",
              "  xxmaj trinitarian formula - \n",
              "  xxmaj trinitarianism - \n",
              "  xxmaj trinity - \n",
              "  xxmaj xxunk - \n",
              "  xxmaj tutelary \n",
              " \n",
              " \n",
              "  = = u = = \n",
              "  xxmaj umbanda - \n",
              "  xxmaj unitarianism - \n",
              "  xxmaj unitarian xxmaj universalism - \n",
              "  xxmaj unitarian xxmaj universalist xxmaj association - \n",
              "  xxmaj united xxmaj synagogue of xxmaj conservative xxmaj judaism - \n",
              "  xxmaj universalism - \n",
              "  xxmaj universi xxmaj dominici gregis - \n",
              "  xxmaj upanishad - \n",
              "  xxmaj uposatha - \n",
              "  xxmaj the xxmaj urantia xxmaj book - \n",
              "  xxmaj uriel - \n",
              "  xxmaj xxunk \n",
              " \n",
              " \n",
              "  = = v = = \n",
              "  xxmaj vajrayana - \n",
              "  xxmaj the xxmaj varieties of xxmaj religious xxmaj experience - \n",
              "  xxmaj vatican xxmaj city - \n",
              "  xxmaj vatican xxmaj hill - \n",
              "  xxmaj vatican xxup ii - \n",
              "  xxmaj veneration - \n",
              "  xxmaj vespers - \n",
              "  xxmaj vetus xxmaj latina - \n",
              "  xxmaj xxunk - \n",
              "  xxmaj vineyard xxmaj movement - \n",
              "  xxmaj viruses of the xxmaj mind - \n",
              "  xxmaj vishnu - \n",
              "  xxmaj vow of celibacy - \n",
              "  xxmaj vulgate \n",
              " \n",
              " \n",
              "  = = w = = \n",
              "  xxmaj wahhabi - \n",
              "  xxmaj week - \n",
              "  xxmaj charles xxmaj wesley - \n",
              "  xxmaj john xxmaj wesley - \n",
              "  xxmaj west xxmaj african xxmaj vodun - \n",
              "  xxmaj western xxmaj orthodoxy - \n",
              "  xxmaj western xxmaj schism - \n",
              "  xxmaj western xxmaj wall - \n",
              "  xxmaj westminster xxmaj confession of xxmaj faith - \n",
              "  xxmaj westminster xxmaj larger xxmaj catechism - \n",
              "  xxmaj westminster xxmaj shorter xxmaj catechism - \n",
              "  xxmaj wheel of the xxmaj year - \n",
              "  xxmaj ellen xxup g. xxmaj white - \n",
              "  xxmaj the xxmaj white xxmaj goddess - \n",
              "  xxmaj whore of xxmaj babylon - \n",
              "  xxmaj wicca - \n",
              "  xxmaj roger xxmaj williams - \n",
              "  xxmaj john xxmaj wimber - \n",
              "  xxmaj witches ' xxmaj sabbath - \n",
              "  xxmaj witch of xxmaj endor - \n",
              "  xxmaj women - \n",
              "  xxmaj word of xxmaj knowledge - \n",
              "  xxmaj worship - \n",
              "  xxmaj worship dance \n",
              " \n",
              " \n",
              "  = = x = = \n",
              "  xxmaj xmas \n",
              " \n",
              " \n",
              "  = = y = = \n",
              "  xxmaj yahweh - \n",
              "  xxmaj yeshiva xxmaj university - \n",
              "  xxmaj yeshiva - \n",
              "  xxmaj yeshu - \n",
              "  xxmaj yeshua ( name ) - \n",
              "  xxmaj yom xxmaj kippur - \n",
              "  xxmaj yoruba mythology - \n",
              "  xxmaj brigham xxmaj young - \n",
              " \n",
              " \n",
              "  = = z = = \n",
              "  xxmaj zen - \n",
              "  xxmaj zionism - \n",
              "  xxmaj zohar - \n",
              "  xxmaj zoroaster - \n",
              "  xxmaj zoroastrianism \n",
              " \n",
              " \n",
              "  = = xxmaj lists = =,xxbos xxmaj the xxmaj jewish tradition that there are 613 commandments ( xxmaj hebrew : xxunk xxunk , romanized : xxunk mitzvot ) or mitzvot in the xxmaj torah ( also known as the xxmaj law of xxmaj moses ) began in the 3rd century xxup ce , when xxmaj rabbi xxmaj xxunk mentioned it in a sermon that is recorded in xxmaj talmud xxmaj xxunk xxunk . xxmaj although there have been a lot of attempts to codify and xxunk the commandments contained in the xxmaj torah , the most traditional enumeration is xxmaj maimonides ' . xxmaj the 613 commandments include \" positive commandments \" , to perform an act ( mitzvot xxunk ) , and \" negative commandments \" , to abstain from certain acts ( mitzvot lo xxunk ) . xxmaj the negative commandments number 365 , which coincides with the number of days in the solar year , and the positive commandments number 248 , a number ascribed to the number of bones and main organs in the human body . xxmaj though the number 613 is mentioned in the xxmaj talmud , its real significance increased in later medieval rabbinic literature , including many works listing or arranged by the mitzvot . xxmaj three types of negative commandments fall under the self - sacrificial principle xxunk xxunk xxunk , meaning \" xxmaj one should let oneself be killed rather than violate it \" . xxmaj these are murder , idolatry , and forbidden sexual relations . xxmaj the 613 mitzvot have been divided also into three general categories : xxunk ; xxunk ; and xxunk . xxmaj xxunk ( \" laws \" ) include commandments that are deemed to be self - evident , such as not to murder and not to steal . xxmaj xxunk ( \" testimonies \" ) commemorate important events in xxmaj jewish history . xxmaj for example , the xxmaj shabbat is said to testify to the story that xxmaj hashem created the world in six days and rested on the seventh day and declared it holy . xxmaj xxunk ( \" decrees \" ) are commandments with no known rationale , and are perceived as pure manifestations of the xxmaj divine will . xxmaj many of the mitzvot can not be observed now , following the destruction of the xxmaj second xxmaj temple , although they still retain religious significance . xxmaj according to one standard reckoning , there are 77 positive and 194 negative commandments that can be observed today , of which there are 26 commands that apply only within the xxmaj land of xxmaj israel . xxmaj furthermore , there are some time - related commandments from which women are exempt ( examples include shofar , sukkah , xxunk , tzitzit and tefillin ) . xxmaj some depend on the special status of a person in xxmaj judaism ( such as kohanim ) , while others apply only to men or only to women . \n",
              " \n",
              " \n",
              "  = = xxmaj significance of 613 = = \n",
              " \n",
              "  xxmaj according to the xxmaj talmud , xxmaj deuteronomy xxunk is to be interpreted to mean that xxmaj moses transmitted the \" xxmaj torah \" from xxmaj god to the xxmaj israelites : \" xxmaj moses commanded us the xxmaj torah as an inheritance for the community of xxmaj jacob \" . \n",
              "  xxmaj the xxmaj talmud notes that the xxmaj hebrew numerical value ( gematria ) of the word \" xxmaj torah \" is 611 , and combining xxmaj moses 's 611 commandments with the first two of the xxmaj ten xxmaj commandments which were the only ones heard directly from xxmaj god , adds up to 613 . xxmaj the xxmaj talmud attributes the number 613 to xxmaj rabbi xxmaj xxunk , but other classical sages who hold this view include xxmaj rabbi xxmaj simeon ben xxmaj xxunk and xxmaj rabbi xxmaj eleazar ben xxmaj xxunk the xxmaj galilean . xxmaj it is quoted in xxmaj midrash xxmaj xxunk xxmaj rabbah xxunk , xxmaj xxunk xxmaj rabbah xxunk ; xxunk and xxmaj talmud xxmaj xxunk xxunk . \n",
              "  xxmaj many xxmaj jewish philosophical and mystical works ( e.g. by xxmaj baal xxunk , the xxmaj xxunk of xxmaj prague and leaders of xxmaj hasidic xxmaj judaism ) find allusions and inspirational calculations relating to the number of commandments . \n",
              "  xxmaj the tzitzit ( \" knotted fringes \" ) of the tallit ( \" [ prayer ] shawl \" ) are connected to the 613 commandments by interpretation : principal xxmaj torah commentator xxmaj rashi bases the number of knots on a gematria : the word tzitzit ( xxmaj hebrew : xxunk ( xxmaj biblical ) , xxunk , in its xxmaj mishnaic spelling ) has the value 600 . xxmaj each tassel has eight threads ( when doubled over ) and five sets of knots , totalling 13 . xxmaj the sum of all numbers is 613 . xxmaj this reflects the concept that donning a garment with tzitzit reminds its wearer of all xxmaj torah commandments . \n",
              " \n",
              " \n",
              "  = = xxmaj dissent and difficulties = = \n",
              "  xxmaj rabbinic support for the number of commandments being 613 is not without dissent . xxmaj for example , xxmaj ben xxmaj xxunk held that there exist 300 positive mitzvot . xxmaj also , even as the number gained acceptance , difficulties arose in xxunk the list . xxmaj some rabbis declared that this count was not an authentic tradition , or that it was not logically possible to come up with a systematic count . xxmaj no early work of xxmaj jewish law or xxmaj biblical commentary depended on the 613 system , and no early systems of xxmaj jewish principles of faith made acceptance of this xxmaj aggadah ( non - legal xxmaj talmudic statement ) normative . a number of classical authorities denied that it was normative : \n",
              " \n",
              "  xxmaj rabbi xxmaj abraham ibn xxmaj ezra denied that this was an authentic rabbinic tradition . xxmaj ibn xxmaj ezra writes \" xxmaj some sages xxunk 613 mitzvot in many diverse ways [ ... ] but in truth there is no end to the number of mitzvot [ ... ] and if we were to count only the root principles [ ... ] the number of mitzvot would not reach xxunk . xxmaj nahmanides held that this particular counting was a matter of rabbinic controversy , and that rabbinic opinion on this is not unanimous . xxmaj nonetheless , he concedes that \" this total has proliferated throughout the aggadic literature ... we ought to say that it was a tradition from xxmaj moses at xxmaj mount xxmaj xxunk . xxmaj rabbi xxmaj simeon ben xxmaj xxunk xxmaj duran likewise rejected the dogma of the 613 as being the sum of the xxmaj law , saying that \" perhaps the agreement that the number of mitzvot is 613 ... is just xxmaj rabbi xxmaj xxunk 's opinion , following his own xxunk of the mitzvot . xxmaj and we need not rely on his xxunk when we come to determine [ and affect ] the xxmaj law , but rather on the xxmaj talmudic xxunk . xxmaj gersonides held that the number 613 was only one rabbi 's ( xxmaj rabbi xxmaj xxunk 's ) opinion , and if the conclusion of a xxmaj talmudic discussion indicated that the number of commandments was greater or lesser than 613 , xxmaj rabbi xxmaj xxunk 's opinion would be overruled . \n",
              "  xxmaj the xxmaj vilna xxmaj gaon suggested that there exist many more than 613 commandments ( because otherwise large narrative parts of the xxmaj pentateuch would be without commandments , which he considered difficult to accept ) and that the count of 613 refers to \" roots \" ( xxunk ) of the other commandments . xxmaj even when rabbis attempted to compile a list of the 613 commandments , they were faced with a number of difficulties : \n",
              " \n",
              "  xxmaj which statements were to be included amongst the 613 commandments ? xxmaj every one of xxmaj god 's commands to any individual or to the entire people of xxmaj israel ? \n",
              "  xxmaj would an order from xxmaj god be counted as a commandment , for the purposes of such a list , if it could only be complied with in one place and time ? xxmaj else , would such an order only count as a commandment if it could be followed at all times ? ( xxmaj the latter is the view of xxmaj maimonides . ) \n",
              "  xxmaj does counting a single commandment depend on whether it falls within one verse , even though it may contain multiple prohibitions , or should each prohibition count as a single xxunk , though , the concept of 613 commandments has become accepted as normative amongst practicing xxmaj jews and today it is still common practice to refer to the total system of commandments within the xxmaj torah as the \" 613 commandments \" , even among those who do not literally accept this count as accurate . xxmaj however , the 613 mitzvot do not constitute a formal code of present - day halakha . xxmaj later codes of law such as the xxmaj xxunk xxmaj arukh and xxmaj xxunk xxmaj xxunk xxmaj arukh do not refer to it . xxmaj however , xxmaj maimonides ' xxmaj mishneh xxmaj torah is prefaced by a count of the 613 mitzvot . \n",
              " \n",
              " \n",
              "  = = xxmaj works xxunk the commandments = = \n",
              "  xxmaj there is no single definitive list that xxunk the 613 commandments . xxmaj lists differ , for example , in how they interpret passages in the xxmaj torah that may be read as dealing with several cases under a single law or several separate laws . xxmaj other \" commandments \" in the xxmaj torah are restricted as one - time acts , and would not be considered as \" mitzvot \" binding on other persons . xxmaj in rabbinic literature , xxmaj rishonim and later scholars composed to articulate and justify their enumeration of the commandments : \n",
              "  xxmaj xxunk xxmaj xxunk ( \" xxmaj great xxmaj laws \" ) , thought to be written by xxmaj rabbi xxmaj simeon xxmaj xxunk ( the xxmaj xxunk ) is the earliest extant enumeration of the 613 mitzvot . \n",
              "  xxmaj sefer ha - xxmaj xxunk ( \" xxmaj book of xxmaj commandments \" ) by xxmaj rabbi xxmaj saadia xxmaj gaon . xxmaj written during the period of the xxmaj geonim , xxmaj saadia 's work is a simple list ( though it was later expanded by xxmaj rabbi xxmaj xxunk xxmaj xxunk xxmaj xxunk . ) \n",
              "  xxmaj sefer xxmaj xxunk ( \" xxmaj book of xxmaj commandments \" ) by xxmaj maimonides , with a commentary by xxmaj xxunk . xxmaj maimonides employs a set of fourteen rules ( xxunk ) which determine inclusion into the list . xxmaj in this work , he supports his specification of each mitzvah through quotations from the midrash halakha and the xxmaj gemara . xxmaj xxunk makes a number of critical points and replaces some items of the list with others . \n",
              "  xxmaj sefer ha - xxmaj xxunk ( \" xxmaj book of xxmaj education \" ) . xxmaj this work generally follows xxmaj maimonides ' reckoning of the 613 commandments . xxmaj it is written in the order in which the commandments appear in the xxmaj torah rather than an arrangement by category ( as in xxmaj maimonides ' work . ) xxmaj in addition to xxunk the commandments and giving a brief overview of relevant laws , the xxmaj sefer ha - xxmaj xxunk also tries to explain the philosophical reasons behind the mitzvot . xxmaj it has been attributed to various authors , most commonly xxmaj rabbi xxmaj aaron ha - xxmaj levi of xxmaj barcelona ( the xxmaj xxunk ) , though its true authorship is unknown . \n",
              "  xxmaj sefer xxmaj mitzvot xxmaj gadol or xxunk ( \" xxmaj large book of xxmaj commandments \" ) by xxmaj rabbi xxmaj moses ben xxmaj jacob of xxmaj xxunk . \n",
              "  xxmaj sefer ha - xxmaj xxunk by xxmaj rabbi xxmaj yisrael xxmaj meir xxmaj kagan ( the \" xxmaj xxunk xxmaj chaim \" ) . xxmaj the xxmaj xxunk xxmaj chaim 's work follows the reckoning of xxmaj maimonides but gives only the commandments relevant today . xxmaj notably , this listing omits commandments regarding temple service , ritual purity , sacrifices , and so on . xxmaj though the original work included only those commandments relevant in all places and at all times , later editions include agricultural laws relevant today only in the xxmaj land of xxmaj israel . \n",
              " \n",
              " \n",
              "  = = = xxmaj works in which the number of commandments is not 613 = = = \n",
              "  xxmaj sefer xxmaj xxunk by xxmaj eliezer ben xxmaj samuel lists only 417 commandments ( including commandments only applicable when the xxmaj temple stood ) . \n",
              "  xxmaj xxunk xxmaj xxunk , in his book xxmaj xxunk xxunk , counted 250 positive and 361 negative commandments , for a total of 611 . xxmaj these 611 include the two commandments of xxmaj exodus xxunk , indicating that this list is incompatible with the approach of r ' xxmaj xxunk in the xxmaj talmud ( who said that of the 613 commandments , the two in xxmaj exodus xxunk were given directly by xxmaj god , and the remaining 611 via xxmaj moses ) . \n",
              "  xxmaj sefer xxmaj xxunk xxmaj katan , by xxmaj rabbi xxmaj isaac of xxmaj corbeil , listed 320 commandments applicable nowadays . xxmaj to reach a total of 613 , one would have to add 293 commandments applicable only while the xxmaj temple stood . xxmaj as the number of xxmaj temple - only commandments appears to be much lower than 293 ( for example , xxmaj sefer xxunk only counted 201 such commandments ) , it seems that the overall count of commandments would likely be lower than 613 . \n",
              "  xxmaj according to xxmaj dr. xxmaj xxunk xxmaj ben - xxmaj or , xxmaj gersonides ' commentary to the xxmaj torah indicates that he counted a total of 513 commandments . \n",
              " \n",
              " \n",
              "  = = xxmaj maimonides ' list = = \n",
              "  xxmaj the following are the 613 commandments and the source of their derivation from the xxmaj hebrew xxmaj bible as enumerated by xxmaj maimonides : \n",
              " \n",
              " \n",
              "  = = = xxmaj canonical order = = = \n",
              " \n",
              " \n",
              "  = = = xxmaj typical order = = = \n",
              " \n",
              " \n",
              "  = = xxmaj see also = = \n",
              "  xxmaj halakha \n",
              "  xxmaj jewish ethics \n",
              "  xxmaj laws and customs of the xxmaj land of xxmaj israel in xxmaj judaism \n",
              "  xxmaj list of capital crimes in the xxmaj torah \n",
              "  xxmaj mitzvah xxunk mitzvah \n",
              " \n",
              " \n",
              "  = = xxmaj references = = \n",
              " \n",
              " \n",
              "  = = xxmaj bibliography = = \n",
              "  xxmaj eisenberg , xxmaj ronald xxup l. xxmaj the 613 xxmaj mitzvot : a xxmaj contemporary xxmaj guide to the xxmaj commandments of xxmaj judaism , xxmaj rockville , xxmaj schreiber xxmaj publishing , 2005 . xxup isbn 0 - xxunk - 303 - 5 \n",
              "  xxmaj moses xxmaj maimonides , translation by xxmaj charles xxmaj xxunk xxmaj xxunk and xxmaj moses ibn xxmaj xxunk . xxmaj the book of divine commandments ( the xxmaj sefer xxmaj ha - xxunk of xxmaj moses xxmaj maimonides ) xxmaj london : xxmaj xxunk xxmaj press , 1940 . \n",
              " \n",
              " \n",
              "  = = xxmaj external links = = \n",
              "  xxmaj enumeration of the commandments according to six different commentators \n",
              "  xxmaj xxunk - \" xxmaj xxunk \" - xxmaj origin of 613 xxmaj commandments \n",
              "  xxmaj judaism 101 : a xxmaj list of the 613 xxmaj commandments \n",
              "  xxmaj jewish xxmaj virtual xxmaj library - xxmaj the 613 xxmaj commandments \n",
              "  xxmaj chabad.org - xxmaj the 613 xxmaj commandments \n",
              "  xxmaj xxunk , xxmaj albert ( 2013 ) . xxmaj crafting the 613 xxmaj commandments : xxmaj maimonides on the xxmaj enumeration , xxmaj classification , and xxmaj formulation of the xxmaj scriptural xxmaj commandments . xxmaj boston : xxmaj academic xxmaj studies xxmaj press . doi:10.2307 / xxunk . xxup jstor xxunk .,xxbos xxmaj abraham ( originally xxmaj abram ) is the common patriarch of the xxmaj abrahamic religions , including xxmaj judaism , xxmaj christianity and xxmaj islam . xxmaj in xxmaj judaism , he is the founding father of the covenant of the pieces , the special relationship between the xxmaj hebrews and xxmaj god ; in xxmaj christianity , he is the prototype of all believers , xxmaj jewish or xxmaj gentile ; and in xxmaj islam he is seen as a link in the chain of prophets that begins with xxmaj adam and culminates in xxmaj muhammad . xxmaj the narrative in the xxmaj book of xxmaj genesis revolves around the themes of posterity and land . xxmaj abraham is called by xxmaj god to leave the house of his father xxmaj terah and settle in the land originally given to xxmaj canaan but which xxmaj god now promises to xxmaj abraham and his progeny . xxmaj various candidates are put forward who might inherit the land after xxmaj abraham ; and , while promises are made to xxmaj ishmael about founding a great nation , xxmaj isaac , xxmaj abraham 's son by his half - sister xxmaj sarah , inherits xxmaj god 's promises to xxmaj abraham . xxmaj abraham purchases a tomb ( the xxmaj cave of the xxmaj patriarchs ) at xxmaj hebron to be xxmaj sarah 's grave , thus establishing his right to the land ; and , in the second generation , his heir xxmaj isaac is married to a woman from his own kin , thus ruling the xxmaj canaanites out of any inheritance . xxmaj abraham later marries xxmaj xxunk and has six more sons ; but , on his death , when he is buried beside xxmaj sarah , it is xxmaj isaac who receives \" all xxmaj abraham 's goods \" , while the other sons receive only \" gifts \" ( xxmaj genesis xxunk xxmaj abraham story can not be definitively related to any specific time , and it is widely agreed that the patriarchal age , along with the exodus and the period of the judges , is a late literary construct that does not relate to any period in actual history . a common hypothesis among scholars is that it was composed in the early xxmaj persian period ( late 6th century xxup bce ) as a result of tensions between xxmaj jewish landowners who had stayed in xxmaj judah during the xxmaj babylonian captivity and traced their right to the land through their \" father xxmaj abraham \" , and the returning exiles who based their counter - claim on xxmaj moses and the xxmaj exodus tradition . \n",
              " \n",
              " \n",
              "  = = xxmaj biblical account = = \n",
              " \n",
              " \n",
              "  = = = xxmaj origins and calling = = = \n",
              "  xxmaj terah , the ninth in descent from xxmaj noah , was the father of three sons : xxmaj abram , xxmaj xxunk , and xxmaj haran . xxmaj the entire family , including grandchildren , lived in xxmaj ur of the xxmaj xxunk . xxmaj according to a midrash , xxmaj abram worked in xxmaj terah 's idol shop in his youth . xxmaj haran was the father of xxmaj lot , and thus xxmaj lot was xxmaj abram 's nephew . xxmaj haran died in his native city , xxmaj ur of the xxmaj xxunk . \n",
              "  xxmaj abram married xxmaj sarah ( xxmaj sarai ) , who was barren . xxmaj terah , with xxmaj abram , xxmaj sarai , and xxmaj lot , then departed for xxmaj canaan , but settled in a place named xxmaj haran , where xxmaj terah died at the age of xxunk xxunk ] xxmaj god had told xxmaj abram to leave his country and kindred and go to a land that he would show him , and promised to make of him a great nation , bless him , make his name great , bless them that bless him , and curse them who may curse xxunk xxunk ] xxmaj abram was 75 years old when he left xxmaj haran with his wife xxmaj sarai , his nephew xxmaj lot , and the substance and souls that they had acquired , and traveled to xxmaj shechem in xxunk xxunk ] \n",
              " \n",
              " \n",
              "  = = = xxmaj sarai = = = \n",
              "  xxmaj there was a severe famine in the land of xxmaj canaan , so that xxmaj abram and xxmaj lot and their households traveled to xxmaj egypt . xxmaj on the way xxmaj abram told xxmaj sarai to say that she was his sister , so that the xxmaj egyptians would not kill xxunk xxunk ] xxmaj when they entered xxmaj egypt , the xxmaj pharaoh 's officials praised xxmaj sarai 's beauty to xxmaj pharaoh , and they took her into the palace and gave xxmaj abram goods in exchange . xxmaj god afflicted xxmaj pharaoh and his household with plagues , which led xxmaj pharaoh to try to find out what was xxunk xxunk ] xxmaj upon discovering that xxmaj sarai was a married woman , xxmaj pharaoh demanded that xxmaj abram and xxmaj sarai xxunk xxunk ] \n",
              " \n",
              " \n",
              "  = = = xxmaj abram and xxmaj lot separate = = = \n",
              " \n",
              "  xxmaj when they came back to the xxmaj bethel and xxmaj hai area , xxmaj abram 's and xxmaj lot 's sizable herds occupied the same pastures . xxmaj this became a problem for the xxunk who were assigned to each family 's cattle . xxmaj the conflicts between xxunk had become so troublesome that xxmaj abram suggested that xxmaj lot choose a separate area , either on the left hand or on the right hand , that there be no conflict amongst brethren . xxmaj lot chose to go eastward to the plain of xxmaj jordan where the land was well watered everywhere as far as xxmaj xxunk , and he dwelled in the cities of the plain toward xxmaj sodom . xxmaj abram went south to xxmaj hebron and settled in the plain of xxmaj xxunk , where he built another altar to worship xxmaj god . \n",
              " \n",
              " \n",
              "  = = = xxmaj xxunk = = = \n",
              " \n",
              "  xxmaj during the rebellion of the xxmaj jordan xxmaj river cities against xxunk xxunk ] xxmaj abram 's nephew , xxmaj lot , was taken prisoner along with his entire household by the invading xxmaj elamite forces . xxmaj the xxmaj elamite army came to collect the spoils of war , after having just defeated the king of xxmaj sodom 's xxunk xxunk ] xxmaj lot and his family , at the time , were settled on the outskirts of the xxmaj kingdom of xxmaj sodom which made them a visible xxunk xxunk person who escaped capture came and told xxmaj abram what happened . xxmaj once xxmaj abram received this news , he immediately assembled 318 trained servants . xxmaj abram 's force headed north in pursuit of the xxmaj elamite army , who were already worn down from the xxmaj battle of xxmaj xxunk . xxmaj when they caught up with them at xxmaj dan , xxmaj abram devised a battle plan by splitting his group into more than one unit , and launched a night raid . xxmaj not only were they able to free the captives , xxmaj abram 's unit chased and slaughtered the xxmaj elamite xxmaj king xxmaj xxunk at xxmaj xxunk , just north of xxmaj damascus . xxmaj they freed xxmaj lot , as well as his household and possessions , and recovered all of the goods from xxmaj sodom that had been xxunk xxunk xxmaj abram 's return , xxmaj sodom 's king came out to meet with him in the xxmaj valley of xxmaj xxunk , the \" king 's dale \" . xxmaj also , xxmaj melchizedek king of xxmaj salem ( xxmaj jerusalem ) , a priest of xxmaj god xxmaj most xxmaj high , brought out bread and wine and blessed xxmaj abram and xxmaj god . xxmaj abram then gave xxmaj melchizedek a tenth of everything . xxmaj the king of xxmaj sodom then offered to let xxmaj abram keep all the possessions if he would merely return his people . xxmaj abram refused any deal from the king of xxmaj sodom , other than the share to which his allies were xxunk xxunk ] \n",
              " \n",
              " \n",
              "  = = = xxmaj covenant of the pieces = = = \n",
              " \n",
              "  xxmaj the voice of the xxmaj lord came to xxmaj abram in a vision and repeated the promise of the land and descendants as numerous as the stars . xxmaj abram and xxmaj god made a covenant ceremony , and xxmaj god told of the future bondage of xxmaj israel in xxmaj egypt . xxmaj god described to xxmaj abram the land that his offspring would claim : the land of the xxmaj xxunk , xxmaj xxunk , xxmaj xxunk , xxmaj hittites , xxmaj xxunk , xxmaj xxunk , xxmaj xxunk , xxmaj canaanites , xxmaj xxunk , and xxunk xxunk ] \n",
              " \n",
              " \n",
              "  = = = xxmaj hagar = = = \n",
              " \n",
              "  xxmaj abram and xxmaj sarai tried to make sense of how he would become a progenitor of nations , because after 10 years of living in xxmaj canaan , no child had been born . xxmaj sarai then offered her xxmaj egyptian xxunk , xxmaj hagar , to xxmaj abram with the intention that she would bear him a son . \n",
              "  xxmaj after xxmaj hagar found she was pregnant , she began to despise her mistress , xxmaj sarai . xxmaj sarai responded by xxunk xxmaj hagar , and xxmaj hagar fled into the wilderness . xxmaj an angel spoke with xxmaj hagar at the fountain on the way to xxmaj xxunk . xxmaj he instructed her to return to the camp of xxmaj abram , and that her son would be \" a wild ass of a man ; his hand shall be against every man , and every man 's hand against him ; and he shall dwell in the face of all his brethren . \" xxmaj she was told to call her son xxmaj ishmael . xxmaj hagar then called xxmaj god who spoke to her \" xxmaj el - roi \" , ( \" xxmaj thou xxmaj god xxunk me : \" xxup kjv ) . xxmaj from that day onward , the well was called xxmaj beer - xxunk - roi , ( \" xxmaj the well of him that xxunk and xxunk me . \" xxup kjv margin ) . xxmaj she then did as she was instructed by returning to her mistress in order to have her child . xxmaj abram was 86 years of age when xxmaj ishmael was xxunk xxunk ] \n",
              " \n",
              " \n",
              "  = = = xxmaj sarah = = = \n",
              "  xxmaj thirteen years later , when xxmaj abram was 99 years of age , xxmaj god declared xxmaj abram 's new name : \" xxmaj abraham \" – \" a father of many xxunk xxunk ] xxmaj abraham then received the instructions for the covenant , of which circumcision was to be the xxunk xxunk declared xxmaj sarai 's new name : \" xxmaj sarah \" , blessed her , and told xxmaj abraham , \" i will give thee a son also of xxunk xxunk ] xxmaj abraham laughed , and \" said in his heart , ' xxmaj shall a child be born unto him that is a hundred years old ? and shall xxmaj sarah , that is ninety years old , xxunk xxunk ] xxmaj immediately after xxmaj abraham 's encounter with xxmaj god , he had his entire household of men , including himself ( age 99 ) and xxmaj ishmael ( age 13 ) , xxunk xxunk ] \n",
              " \n",
              " \n",
              "  = = = xxmaj three visitors = = = \n",
              " \n",
              "  xxmaj not long afterward , during the heat of the day , xxmaj abraham had been sitting at the entrance of his tent by the xxunk of xxmaj xxunk . xxmaj he looked up and saw three men in the presence of xxmaj god . xxmaj then he ran and bowed to the ground to welcome them . xxmaj abraham then offered to wash their feet and fetch them a xxunk of bread , to which they xxunk . xxmaj abraham rushed to xxmaj sarah 's tent to order cakes made from choice flour , then he ordered a servant - boy to prepare a choice calf . xxmaj when all was prepared , he set xxunk , milk and the calf before them , waiting on them , under a tree , as they xxunk xxunk of the visitors told xxmaj abraham that upon his return next year , xxmaj sarah would have a son . xxmaj while at the tent entrance , xxmaj sarah overheard what was said and she laughed to herself about the prospect of having a child at their ages . xxmaj the visitor inquired of xxmaj abraham why xxmaj sarah laughed at bearing a child at her age , as nothing is too hard for xxmaj god . xxmaj frightened , xxmaj sarah denied laughing . \n",
              " \n",
              " \n",
              "  = = = xxmaj abraham 's plea = = = \n",
              " \n",
              "  xxmaj after eating , xxmaj abraham and the three visitors got up . xxmaj they walked over to the peak that overlooked the ' cities of the plain ' to discuss the fate of xxmaj sodom and xxmaj gomorrah for their xxunk sins that were so great , it moved xxmaj god to action . xxmaj because xxmaj abraham 's nephew was living in xxmaj sodom , xxmaj god revealed plans to confirm and judge these cities . xxmaj at this point , the two other visitors left for xxmaj sodom . xxmaj then xxmaj abraham turned to xxmaj god and pleaded xxunk with xxmaj him ( from fifty persons to less ) that \" if there were at least ten righteous men found in the city , would not xxmaj god spare the city ? \" xxmaj for the sake of ten righteous people , xxmaj god declared that he would not destroy the xxunk xxunk the two visitors got to xxmaj sodom to conduct their report , they planned on staying in the city square . xxmaj however , xxmaj abraham 's nephew , xxmaj lot , met with them and strongly insisted that these two \" men \" stay at his house for the night . a rally of men stood outside of xxmaj lot 's home and demanded that xxmaj lot bring out his guests so that they may \" know \" ( xxunk ) them . xxmaj however , xxmaj lot objected and offered his virgin daughters who had not \" known \" ( xxunk ) man to the rally of men instead . xxmaj they rejected that notion and sought to break down xxmaj lot 's door to get to his male xxunk xxunk ] thus confirming the wickedness of the city and xxunk their imminent xxunk xxunk the next morning , xxmaj abraham went to the place where he stood before xxmaj god . xxmaj he \" looked out toward xxmaj sodom and xxmaj gomorrah \" and saw what became of the cities of the plain , where not even \" ten righteous \" ( xxunk ) had been found , as \" the smoke of the land went up as the smoke of a furnace . xxunk xxunk ] \n",
              " \n",
              " \n",
              "  = = = xxmaj abimelech = = = \n",
              " \n",
              "  xxmaj abraham settled between xxmaj xxunk and xxmaj xxunk in the land of the xxmaj philistines . xxmaj while he was living in xxmaj xxunk , xxmaj abraham openly claimed that xxmaj sarah was his sister . xxmaj upon discovering this news , xxmaj king xxmaj abimelech had her brought to him . xxmaj god then came to xxmaj abimelech in a dream and declared that taking her would result in death because she was a man 's wife . xxmaj abimelech had not laid hands on her , so he inquired if he would also slay a righteous nation , especially since xxmaj abraham had claimed that he and xxmaj sarah were siblings . xxmaj in response , xxmaj god told xxmaj abimelech that he did indeed have a blameless heart and that is why he continued to exist . xxmaj however , should he not return the wife of xxmaj abraham back to him , xxmaj god would surely destroy xxmaj abimelech and his entire household . xxmaj abimelech was informed that xxmaj abraham was a prophet who would pray for xxunk xxunk next morning , xxmaj abimelech informed his servants of his dream and approached xxmaj abraham inquiring as to why he had brought such great guilt upon his kingdom . xxmaj abraham stated that he thought there was no fear of xxmaj god in that place , and that they might kill him for his wife . xxmaj then xxmaj abraham defended what he had said as not being a lie at all : \" xxmaj and yet indeed she is my sister ; she is the daughter of my father , but not the daughter of my mother ; and she became my wife . xxunk xxunk ] xxmaj abimelech returned xxmaj sarah to xxmaj abraham , and gave him gifts of sheep , oxen , and servants ; and invited him to settle wherever he pleased in xxmaj abimelech 's lands . xxmaj further , xxmaj abimelech gave xxmaj abraham a thousand pieces of silver to serve as xxmaj sarah 's vindication before all . xxmaj abraham then prayed for xxmaj abimelech and his household , since xxmaj god had stricken the women with infertility because of the taking of xxunk xxunk living for some time in the land of the xxmaj philistines , xxmaj abimelech and xxmaj xxunk , the chief of his troops , approached xxmaj abraham because of a dispute that resulted in a violent confrontation at a well . xxmaj abraham then xxunk xxmaj abimelech due to his xxmaj philistine servant 's aggressive attacks and the seizing of xxmaj abraham 's well . xxmaj abimelech claimed ignorance of the incident . xxmaj then xxmaj abraham offered a pact by providing sheep and oxen to xxmaj abimelech . xxmaj further , to attest that xxmaj abraham was the one who dug the well , he also gave xxmaj abimelech seven ewes for proof . xxmaj because of this sworn oath , they called the place of this well : xxmaj beersheba . xxmaj after xxmaj abimelech and xxmaj xxunk headed back to xxmaj xxunk , xxmaj abraham planted a grove in xxmaj beersheba and called upon \" the name of the xxup lord , the everlasting xxmaj god . xxunk xxunk ] \n",
              " \n",
              " \n",
              "  = = = xxmaj isaac = = = \n",
              " \n",
              "  xxmaj as had been prophesied in xxmaj xxunk the previous xxunk xxunk ] xxmaj sarah became pregnant and bore a son to xxmaj abraham , on the first anniversary of the covenant of circumcision . xxmaj abraham was \" an hundred years old \" , when his son whom he named xxmaj isaac was born ; and he circumcised him when he was eight days xxunk ] xxmaj for xxmaj sarah , the thought of giving birth and nursing a child , at such an old age , also brought her much laughter , as she declared , \" xxmaj god hath made me to laugh , so that all who hear will laugh with me . xxunk ] xxmaj isaac continued to grow and on the day he was weaned , xxmaj abraham held a great feast to honor the occasion . xxmaj during the celebration , however , xxmaj sarah found xxmaj ishmael mocking ; an observation that would begin to clarify the birthright of xxunk xxunk ] \n",
              " \n",
              " \n",
              "  = = = xxmaj ishmael = = = \n",
              " \n",
              "  xxmaj ishmael was fourteen years old when xxmaj abraham 's son xxmaj isaac was born to xxmaj sarah . xxmaj when she found xxmaj ishmael teasing xxmaj isaac , xxmaj sarah told xxmaj abraham to send both xxmaj ishmael and xxmaj hagar away . xxmaj she declared that xxmaj ishmael would not share in xxmaj isaac 's inheritance . xxmaj abraham was greatly distressed by his wife 's words and sought the advice of his xxmaj god . xxmaj god told xxmaj abraham not to be distressed but to do as his wife commanded . xxmaj god reassured xxmaj abraham that \" in xxmaj isaac shall seed be called to thee . xxunk xxunk ] xxmaj he also said that xxmaj ishmael would make a nation , \" because he is thy xxunk xxunk the next morning , xxmaj abraham brought xxmaj hagar and xxmaj ishmael out together . xxmaj he gave her bread and water and sent them away . xxmaj the two wandered in the wilderness of xxmaj beersheba until her bottle of water was completely consumed . xxmaj in a moment of despair , she burst into tears . xxmaj after xxmaj god heard the boy 's voice , an angel of the xxmaj lord confirmed to xxmaj hagar that he would become a great nation , and will be \" living on his sword \" . a well of water then appeared so that it saved their lives . xxmaj as the boy grew , he became a skilled archer living in the wilderness of xxmaj xxunk . xxmaj eventually his mother found a wife for xxmaj ishmael from her home country , the land of xxunk xxunk ] \n",
              " \n",
              " \n",
              "  = = = xxmaj binding of xxmaj isaac = = = \n",
              " \n",
              "  xxmaj at some point in xxmaj isaac 's youth , xxmaj abraham was commanded by xxmaj god to offer his son up as a sacrifice in the land of xxmaj moriah . xxmaj the patriarch traveled three days until he came to the mount that xxmaj god told him of . xxmaj he then commanded the servants to remain while he and xxmaj isaac proceeded alone into the mount . xxmaj isaac carried the wood upon which he would be sacrificed . xxmaj along the way , xxmaj isaac asked his father where the animal for the burnt offering was , to which xxmaj abraham replied \" xxmaj god will provide himself a lamb for a burnt offering \" . xxmaj just as xxmaj abraham was about to sacrifice his son , he was interrupted by the angel of the xxmaj lord , and he saw behind him a \" ram caught in a thicket by his horns \" , which he sacrificed instead of his son . xxmaj for his obedience he received another promise of numerous descendants and abundant prosperity . xxmaj after this event , xxmaj abraham went to xxunk xxunk ] \n",
              " \n",
              " \n",
              "  = = = xxmaj later years = = = \n",
              " \n",
              "  xxmaj sarah died , and xxmaj abraham buried her in the xxmaj cave of the xxmaj patriarchs ( the \" cave of xxmaj xxunk \" ) , near xxmaj hebron which he had purchased along with the adjoining field from xxmaj xxunk the xxunk xxunk ] xxmaj after the death of xxmaj sarah , xxmaj abraham took another wife , a concubine named xxmaj xxunk , by whom he had six sons : xxmaj xxunk , xxmaj xxunk , xxmaj medan , xxmaj midian , xxmaj xxunk , and xxunk xxunk ] xxmaj according to the xxmaj bible , reflecting the change of his name to \" xxmaj abraham \" meaning \" a father of many nations \" , xxmaj abraham is considered to be the progenitor of many nations mentioned in the xxmaj bible , among others the xxmaj israelites , xxunk xxunk ] xxunk xxunk ] ) xxunk xxunk ] xxunk xxunk ] xxmaj xxunk and xxunk xxunk ] and through his nephew xxmaj lot he was also related to the xxmaj xxunk and xxunk xxunk ] xxmaj abraham lived to see his son marry xxmaj rebekah , ( and to see the birth of his twin grandsons xxmaj jacob and xxmaj esau ) . xxmaj he died at age 175 , and was buried in the cave of xxmaj xxunk by his sons xxmaj isaac and xxunk xxunk xxmaj chronicles xxunk ] \n",
              " \n",
              " \n",
              "  = = xxmaj historicity and origins = = \n",
              " \n",
              " \n",
              "  = = = xxmaj historicity = = = \n",
              " \n",
              "  xxmaj in the early and middle 20th century , leading archaeologists such as xxmaj william xxup f. xxmaj albright and biblical scholars such as xxmaj albrecht xxmaj alt believed that the patriarchs and xxunk were either real individuals or believable composites of people who lived in the \" patriarchal age \" , the 2nd millennium xxup bce . xxmaj but , in the 1970s , new arguments concerning xxmaj israel 's past and the biblical texts challenged these views ; these arguments can be found in xxmaj thomas xxup l. xxmaj thompson 's xxmaj the xxmaj historicity of the xxmaj patriarchal xxmaj narratives ( 1974 ) , and xxmaj john xxmaj van xxmaj seters ' xxmaj abraham in xxmaj history and xxmaj tradition ( 1975 ) . xxmaj thompson , a literary scholar , based his argument on archaeology and ancient texts . xxmaj his thesis centered on the lack of compelling evidence that the patriarchs lived in the 2nd millennium xxup bce , and noted how certain biblical texts reflected first millennium conditions and concerns . xxmaj van xxmaj seters examined the patriarchal stories and argued that their names , social milieu , and messages strongly suggested that they were xxmaj iron xxmaj age creations . xxmaj by the beginning of the 21st century , archaeologists had given up hope of recovering any context that would make xxmaj abraham , xxmaj isaac or xxmaj jacob credible historical figures . \n",
              " \n",
              " \n",
              "  = = = xxmaj origins of the narrative = = = \n",
              " \n",
              "  xxmaj abraham 's name is apparently very ancient , as the tradition found in xxmaj genesis no longer understands its original meaning ( probably \" xxmaj father is exalted \" – the meaning offered in xxmaj genesis xxunk , \" xxmaj father of a multitude \" , is a popular etymology ) . xxmaj the story , like those of the other patriarchs , most likely had a substantial oral prehistory . xxmaj at some stage the oral traditions became part of the written tradition of the xxmaj pentateuch ; a majority of scholars believe this stage belongs to the xxmaj persian period , roughly xxunk xxup bce . xxmaj the mechanisms by which this came about remain unknown , but there are currently two important hypotheses . xxmaj the first , called xxmaj persian xxmaj imperial authorisation , is that the post - xxmaj exilic community devised the xxmaj torah as a legal basis on which to function within the xxmaj persian xxmaj imperial system ; the second is that the xxmaj pentateuch was written to provide the criteria for determining who would belong to the post xxmaj exilic xxmaj jewish community and to establish the power structures and relative positions of its various groups , notably the priesthood and the lay \" xxunk . xxmaj nevertheless , the completion of the xxmaj torah and its elevation to the centre of post - xxmaj exilic xxmaj judaism was as much or more about combining older texts as writing new ones – the final xxmaj pentateuch was based on existing traditions . xxmaj in xxmaj ezekiel xxunk , written during the xxmaj exile ( i.e. , in the first half of the 6th century xxup bce ) , xxmaj ezekiel , an exile in xxmaj babylon , tells how those who remained in xxmaj judah are claiming ownership of the land based on inheritance from xxmaj abraham ; but the prophet tells them they have no claim because they do not observe xxmaj torah . xxmaj isaiah xxunk similarly testifies of tension between the people of xxmaj judah and the returning post - xxmaj exilic xxmaj jews ( the \" xxunk \" ) , stating that xxmaj god is the father of xxmaj israel and that xxmaj israel 's history begins with the xxmaj exodus and not with xxmaj abraham . xxmaj the conclusion to be inferred from this and similar evidence ( e.g. , xxmaj ezra – xxmaj nehemiah ) , is that the figure of xxmaj abraham must have been preeminent among the great landowners of xxmaj judah at the time of the xxmaj exile and after , serving to support their claims to the land in opposition to those of the returning exiles . \n",
              " \n",
              " \n",
              "  = = xxmaj religious traditions = = \n",
              " \n",
              " \n",
              "  = = = xxmaj overview = = = \n",
              "  xxmaj abraham is given a high position of respect in three major world faiths , xxmaj judaism , xxmaj christianity and xxmaj islam . xxmaj in xxmaj judaism he is the founding father of the xxmaj covenant , the special relationship between the xxmaj jewish people and xxmaj god – leading to the belief that the xxmaj jews are the xxmaj chosen xxmaj people of xxmaj god . xxmaj in xxmaj christianity , the xxmaj apostle xxmaj paul taught that xxmaj abraham 's faith in xxmaj god – preceding the xxmaj mosaic law – made him the prototype of all believers , circumcised and uncircumcised . xxmaj in xxmaj islam , the prophet xxmaj muhammad claimed xxmaj abraham , whose submission to xxmaj god constituted xxmaj islam , was a \" believer before the fact \" and undercut xxmaj jewish claims to an exclusive relationship with xxmaj god and the xxmaj covenant . \n",
              " \n",
              " \n",
              "  = = = xxmaj judaism = = = \n",
              "  xxmaj in xxmaj jewish tradition , xxmaj abraham is called xxmaj avraham xxmaj xxunk ( xxunk xxunk ) , \" our father xxmaj abraham , \" signifying that he is both the biological progenitor of the xxmaj jews and the father of xxmaj judaism , the first xxmaj jew . xxmaj his story is read in the weekly xxmaj torah reading portions , predominantly in the xxunk : xxmaj lech - xxmaj xxunk ( xxunk - xxunk ) , xxmaj xxunk ( xxunk ) , xxmaj xxunk xxmaj sarah ( xxunk xxunk ) , and xxmaj toledot ( xxunk ) . \n",
              "  xxmaj in xxmaj jewish legend , xxmaj god created heaven and earth for the sake of the merits of xxmaj abraham . xxmaj after the deluge , xxmaj abraham was the only one among the pious who solemnly swear never xxunk xxmaj god , and studied in house of xxmaj noah and xxmaj shem to learn about \" xxmaj ways of xxmaj god , \" and continuing the line of xxmaj high xxmaj priest from xxmaj noah and xxmaj shem , then he descended the office to xxmaj levi and his seed forever . xxmaj before leaving his fathers ' land , xxmaj abraham was miraculously saved from the fiery furnace of xxmaj nimrod following his brave action of breaking the idols of the xxmaj xxunk into pieces . xxmaj during his xxunk in xxmaj canaan , xxmaj abraham was accustomed to extend hospitality to travelers and strangers and taught how to praise xxmaj god also knowledge of xxmaj god to those who had received his kindness . xxmaj besides xxmaj isaac and xxmaj jacob , he is the one whose name would appear united with xxmaj god , as xxmaj god in xxmaj judaism was called xxmaj xxunk xxmaj abraham , xxmaj xxunk xxmaj xxunk ve xxmaj xxunk xxmaj xxunk ( \" xxmaj god of xxmaj abraham , xxmaj god of xxmaj isaac , and xxmaj god of xxmaj jacob \" ) and never the xxmaj god of any one else . xxmaj he was also mentioned as the father of thirty nations . xxmaj abraham is generally credited as the author of the xxmaj sefer xxmaj xxunk ( xxmaj the xxmaj book of xxmaj creation ) , one of the earliest extant books on xxmaj jewish mysticism . \n",
              " \n",
              " \n",
              "  = = = xxmaj christianity = = = \n",
              "  xxmaj abraham does not loom so large in xxmaj christianity as he does in xxmaj judaism and xxmaj islam . xxmaj it is xxmaj jesus as the xxmaj jewish xxmaj messiah who is central to xxmaj christianity , and the idea of a divine xxmaj messiah is what separates xxmaj christianity from the other two religions . xxmaj in xxmaj romans 4 , xxmaj abraham 's merit is less his obedience to the divine will than his faith in xxmaj god 's ultimate grace ; this faith provides him the merit for xxmaj god having chosen him for the covenant , and the covenant becomes one of faith , not obedience . xxmaj the xxmaj roman xxmaj catholic xxmaj church calls xxmaj abraham \" our father in xxmaj faith \" in the xxmaj eucharistic prayer of the xxmaj roman xxmaj canon , recited during the xxmaj mass ( see xxmaj abraham in the xxmaj catholic liturgy ) . xxmaj he is also commemorated in the calendars of saints of several denominations : on 20 xxmaj august by the xxmaj maronite xxmaj church , 28 xxmaj august in the xxmaj coptic xxmaj church and the xxmaj assyrian xxmaj church of the xxmaj east ( with the full office for the latter ) , and on 9 xxmaj october by the xxmaj roman xxmaj catholic xxmaj church and the xxmaj lutheran xxmaj church – xxmaj missouri xxmaj synod . xxmaj in the introduction to his 15th - century translation of the xxmaj golden xxmaj legend 's account of xxmaj abraham , xxmaj william xxmaj xxunk noted that this patriarch 's life was read in church on xxmaj xxunk xxmaj sunday . \n",
              "  xxmaj he is the patron saint of those in the hospitality industry . xxmaj the xxmaj eastern xxmaj orthodox xxmaj church commemorates him as the \" xxmaj righteous xxmaj xxunk xxmaj abraham \" , with two feast days in its liturgical calendar . xxmaj the first time is on 9 xxmaj october ( for those churches which follow the traditional xxmaj julian xxmaj calendar , 9 xxmaj october falls on 22 xxmaj october of the modern xxmaj gregorian xxmaj calendar ) , where he is commemorated together with his nephew \" xxmaj righteous xxmaj lot \" . xxmaj the other is on the \" xxmaj sunday of the xxmaj forefathers \" ( two xxmaj sundays before xxmaj christmas ) , when he is commemorated together with other ancestors of xxmaj jesus . xxmaj abraham is also mentioned in the xxmaj divine xxmaj liturgy of xxmaj saint xxmaj basil the xxmaj great , just before the xxmaj anaphora , and xxmaj abraham and xxmaj sarah are invoked in the prayers said by the priest over a newly married couple . \n",
              " \n",
              " \n",
              "  = = = xxmaj islam = = = \n",
              " \n",
              "  xxmaj islam regards xxmaj abraham as a link in the chain of prophets that begins with xxmaj adam and culminates in xxmaj muhammad . xxmaj xxunk is mentioned in 35 chapters of the xxmaj quran , more often than any other biblical personage apart from xxmaj moses . xxmaj he is called both a hanif ( monotheist ) and muslim ( one who submits ) , and xxmaj muslims regard him as a prophet and patriarch , the archetype of the perfect xxmaj muslim , and the revered reformer of the xxmaj kaaba in xxmaj mecca . xxmaj islamic traditions consider xxmaj xxunk ( xxmaj abraham ) the first xxmaj pioneer of xxmaj islam ( which is also called xxunk xxmaj ibrahim , the \" religion of xxmaj abraham \" ) , and that his purpose and mission throughout his life was to proclaim the xxmaj oneness of xxmaj god . xxmaj in xxmaj islam , xxmaj abraham holds an exalted position among the major prophets and he is referred to as \" xxmaj ibrahim xxmaj xxunk \" , meaning \" xxmaj abraham the xxmaj beloved of xxmaj allah \" . \n",
              "  xxmaj besides xxmaj ishaq and xxmaj xxunk , xxmaj ibrahim is among the most honorable and the most excellent men in sight of xxmaj god . xxmaj ibrahim was also mentioned in xxmaj quran as \" xxmaj father of xxmaj muslims \" and the role model for the community . \n",
              " \n",
              " \n",
              "  = = xxmaj in the arts = = \n",
              " \n",
              " \n",
              "  = = = xxmaj painting and sculpture = = = \n",
              "  xxmaj paintings on the life of xxmaj abraham tend to focus on only a few incidents : the sacrifice of xxmaj isaac ; meeting xxmaj melchizedek ; entertaining the three angels ; xxmaj hagar in the desert ; and a few others . xxmaj additionally , xxmaj martin xxunk , a professor of xxmaj biblical xxmaj studies , writes that the parable of xxmaj lazarus resting in the \" xxmaj bosom of xxmaj abraham \" , as described in the xxmaj gospel of xxmaj luke , became an iconic image in xxmaj christian works . xxmaj according to xxunk , artists often chose to divert from the common literary portrayal of xxmaj lazarus sitting next to xxmaj abraham at a banquet in xxmaj heaven and instead focus on the \" somewhat incongruous notion of xxmaj abraham , the most venerated of patriarchs , holding a naked and vulnerable child in his bosom \" . xxmaj several artists have been inspired by the life of xxmaj abraham , including xxmaj albrecht xxmaj dürer ( xxunk ) , xxmaj xxunk ( xxunk ) , xxmaj xxunk , xxmaj raphael , xxmaj philip van xxmaj dyck ( xxmaj dutch painter , xxunk ) , and xxmaj claude xxmaj xxunk ( xxmaj french painter , xxunk ) . xxmaj rembrandt ( xxmaj dutch , xxunk ) created at least seven works on xxmaj abraham , xxmaj peter xxmaj paul xxmaj rubens ( xxunk ) did several , xxmaj marc xxmaj chagall did at least five on xxmaj abraham , xxmaj gustave xxmaj xxunk ( xxmaj french illustrator , xxunk ) did six , and xxmaj james xxmaj xxunk ( xxmaj french painter and illustrator , xxunk ) did over twenty works on the subject . \n",
              " \n",
              "  xxmaj the xxmaj sarcophagus of xxmaj junius xxmaj xxunk depicts a set of biblical stories , including xxmaj abraham about to sacrifice xxmaj isaac . xxmaj these sculpted scenes are on the outside of a marble xxmaj early xxmaj christian sarcophagus used for the burial of xxmaj junius xxmaj xxunk . xxmaj he died in 359 . xxmaj this sarcophagus has been described as \" probably the single most famous piece of early xxmaj christian relief sculpture . \" xxmaj the sarcophagus was originally placed in or under xxmaj old xxmaj st. xxmaj peter 's xxmaj basilica , was rediscovered in 1597 , and is now below the modern basilica in the xxmaj museo xxmaj xxunk del xxmaj xxunk della xxmaj basilica di xxmaj san xxmaj pietro ( xxmaj museum of xxmaj st. xxmaj peter 's xxmaj basilica ) in the xxmaj vatican . xxmaj the base is approximately 4 × 8 × 4 feet . xxmaj the xxmaj old xxmaj testament scenes depicted were chosen as precursors of xxmaj christ 's sacrifice in the xxmaj new xxmaj testament , in an early form of typology . xxmaj just to the right of the middle is xxmaj daniel in the lion 's den and on the left is xxmaj abraham about to sacrifice xxmaj isaac . \n",
              "  xxmaj george xxmaj segal created xxunk sculptures by molding plastered xxunk strips over live models in his 1987 work xxmaj abraham 's xxmaj farewell to xxmaj ishmael . xxmaj the human condition was central to his concerns , and xxmaj segal used the xxmaj old xxmaj testament as a source for his imagery . xxmaj this sculpture depicts the dilemma faced by xxmaj abraham when xxmaj sarah demanded that he expel xxmaj hagar and xxmaj ishmael . xxmaj in the sculpture , the father 's tenderness , xxmaj sarah 's rage , and xxmaj hagar 's resigned acceptance portray a range of human emotions . xxmaj the sculpture was donated to the xxmaj miami xxmaj art xxmaj museum after the artist 's death in 2000 . \n",
              " \n",
              " \n",
              "  xxrep 4 = xxmaj christian iconography xxrep 4 = \n",
              "  xxmaj usually xxmaj abraham can be identified by the context of the image – the meeting with xxmaj melchizedek , the three visitors , or the sacrifice of xxmaj isaac . xxmaj in solo portraits a sword or knife may be used as his attribute , as in this statue by xxmaj gian xxmaj maria xxmaj xxunk or this painting by xxmaj lorenzo xxmaj monaco . xxmaj he always wears a gray or white beard . \n",
              "  xxmaj as early as the beginning of the 3rd century , xxmaj christian art followed xxmaj christian typology in making the sacrifice of xxmaj isaac a foreshadowing of xxmaj christ 's sacrifice on the cross and its memorial in the sacrifice of the xxmaj mass. xxmaj see for example this 11th - century xxmaj christian altar engraved with xxmaj abraham 's and other sacrifices taken to xxunk that of xxmaj christ in the xxmaj eucharist . xxmaj some early xxmaj christian writers interpreted the three visitors as the triune xxmaj god . xxmaj thus in xxmaj santa xxmaj maria xxmaj maggiore , xxmaj rome , a 5th - century mosaic portrays only the visitors against a gold ground and puts xxunk copies of them in the \" heavenly \" space above the scene . xxmaj in xxmaj eastern xxmaj orthodox art the visit is the chief means by which the xxmaj trinity is pictured ( example ) . xxmaj some images do not include xxmaj abraham and xxmaj sarah , like xxmaj andrei xxmaj xxunk 's xxmaj trinity , which shows only the three visitors as xxunk youths at a table . \n",
              " \n",
              " \n",
              "  = = = xxmaj literature = = = \n",
              "  xxmaj fear and xxmaj trembling ( original xxmaj danish title : xxmaj xxunk og xxmaj xxunk ) is an influential philosophical work by xxmaj søren xxmaj kierkegaard , published in 1843 under the pseudonym xxmaj johannes de xxunk ( xxmaj john the xxmaj silent ) . xxmaj kierkegaard wanted to understand the anxiety that must have been present in xxmaj abraham when xxmaj god asked him to sacrifice his son . xxup w. xxup g. xxmaj hardy 's novel xxmaj father xxmaj abraham ( 1935 ) , tells the fictionalized life of xxmaj abraham . \n",
              " \n",
              " \n",
              "  = = = xxmaj music = = = \n",
              "  xxmaj in 1681 , xxmaj marc - xxmaj antoine xxmaj charpentier released a xxmaj dramatic motet xxmaj xxunk xxmaj xxunk h 402 - 402 a - 402 b , for soloists , chorus , doubling instruments and bc . xxmaj sébastien de xxmaj xxunk released a xxunk xxmaj abraham ( date unknown ) . \n",
              "  xxmaj in 1994 , xxmaj steve xxmaj reich released an opera named xxmaj the xxmaj cave . xxmaj the title refers to the xxmaj cave of the xxmaj patriarchs . xxmaj the narrative of the opera is based on the story of xxmaj abraham and his immediate family as it is recounted in the various religious texts , and as it is understood by individual people from different cultures and religious traditions . \n",
              "  xxmaj bob xxmaj dylan 's \" xxmaj highway 61 xxmaj revisited \" is the title track for his 1965 album xxmaj highway 61 xxmaj revisited . xxmaj in 2004 , xxmaj rolling xxmaj stone magazine ranked the song as number 364 in their 500 xxmaj greatest xxmaj songs of xxmaj all xxmaj time . xxmaj the song has five stanzas . xxmaj in each stanza , someone describes an unusual problem that is ultimately resolved on xxmaj highway 61 . xxmaj in xxmaj stanza 1 , xxmaj god tells xxmaj abraham to \" kill me a son \" . xxmaj god wants the killing done on xxmaj highway 61 . xxmaj abram , the original name of the biblical xxmaj abraham , is also the name of xxmaj dylan 's own father . \n",
              " \n",
              " \n",
              "  = = xxmaj see also = = \n",
              " \n",
              "  xxmaj abraham xxmaj path \n",
              "  xxmaj abraham 's xxmaj gate at xxmaj tel xxmaj dan \n",
              "  xxmaj apocalypse of xxmaj abraham \n",
              "  xxmaj abraham and the xxmaj idol xxmaj shop \n",
              "  xxmaj bruce xxmaj xxunk , an author who has written extensively on xxmaj abraham \n",
              "  xxmaj gathering of xxmaj israel \n",
              "  xxmaj genealogies of xxmaj genesis \n",
              "  xxmaj kabbalah \n",
              "  xxmaj pearl of xxmaj great xxmaj price \n",
              "  xxmaj list of oldest fathers \n",
              "  xxmaj table of prophets of xxmaj abrahamic religions \n",
              "  xxmaj the evil xxmaj nimrod vs. the righteous xxmaj abraham \n",
              "  xxmaj zoroaster \n",
              " \n",
              " \n",
              "  = = xxmaj notes = = \n",
              " \n",
              " \n",
              "  = = xxmaj references = = \n",
              " \n",
              " \n",
              "  = = xxmaj bibliography = = \n",
              " \n",
              " \n",
              "  = = xxmaj external links = = \n",
              "  \" xxmaj abraham \" at chabad.org . \n",
              "  xxmaj abraham smashes the idols ( accessed 24 xxmaj march 2011 ) . \n",
              "  \" xxmaj journey and xxmaj life of the xxmaj patriarch xxmaj abraham \" , a map dating back to 1590 . \n",
              "  xxmaj kitáb - i - xxmaj xxunk,xxbos xxmaj the xxmaj abrahamic religions , also referred to collectively as xxmaj xxunk , are a group of xxmaj semitic - originated religious communities of faith that claim descent from the xxmaj judaism of the ancient xxmaj israelites and the worship of the xxmaj god of xxmaj abraham . xxmaj the xxmaj abrahamic religions are monotheistic , with the term deriving from the patriarch xxmaj abraham ( a major biblical figure from the xxmaj old xxmaj testament , who is recognized by xxmaj jews , xxmaj christians , xxmaj muslims , and xxunk religions spread globally through xxmaj christianity being adopted by the xxmaj roman xxmaj empire in the 4th century and xxmaj islam by the xxmaj islamic empires from the 7th century . xxmaj today the xxmaj abrahamic religions are one of the major divisions in comparative religion ( along with xxmaj indian , xxmaj iranian , and xxmaj east xxmaj asian religions ) . xxmaj the major xxmaj abrahamic religions in chronological order of founding are xxmaj judaism ( the base of the other two religions ) in the 7th century xxup bce , xxmaj christianity in the 1st century xxup ce , and xxmaj islam in the 7th century xxup ce . \n",
              "  xxmaj christianity , xxmaj islam , and xxmaj judaism are the xxmaj abrahamic religions with the greatest numbers of adherents . xxmaj abrahamic religions with fewer adherents include the xxmaj druze faith ( sometimes considered a part of xxmaj islam ) , the xxmaj bahá'í xxmaj faith , and xxmaj rastafari . xxmaj as of 2015 , estimates classified xxunk % ( 3.8 billion people ) of the world 's population as adherents of an xxmaj abrahamic religion , which makes the other 46 % ( 2.8 billion people ) of the world 's population adherents of a non - xxmaj abrahamic religion ( 32 % ) or irreligious ( 16 % ) as adherents of no organized religion . xxmaj christianity claims 31.2 % of the world 's population , xxmaj islam has 24.1 % , xxmaj judaism has 0.2 % and the xxmaj bahá'í xxmaj faith represents around 0.1 % . \n",
              " \n",
              " \n",
              "  = = xxmaj etymology = = \n",
              " \n",
              "  xxmaj it was suggested by xxmaj catholic scholar of xxmaj islam xxmaj louis xxmaj xxunk that the phrase \" xxmaj abrahamic religion \" means that all these religions come from one spiritual source . xxmaj paul the xxmaj apostle referred to xxmaj abraham as the \" father of us xxunk . 4 ] xxmaj there is a xxmaj quranic term , xxunk xxmaj ibrahim , ' religion of xxmaj ibrahim ' , indicating that xxmaj islam sees itself as standing in a tradition of religious practice from xxmaj abraham . xxmaj jewish tradition claims that the xxmaj jews are descended from xxmaj abraham , and adherents of xxmaj judaism derive their spiritual identity from xxmaj abraham as the first of the three \" fathers \" or biblical patriarchs : xxmaj abraham , xxmaj isaac , and xxmaj jacob . \n",
              "  xxmaj all the major xxmaj abrahamic religions claim a direct lineage to xxmaj abraham , although in xxmaj christianity this is understood in spiritual terms : \n",
              " \n",
              "  xxmaj abraham is recorded in the xxmaj torah as the ancestor of the xxmaj israelites through his son xxmaj isaac , born to xxmaj sarah through a promise made in xxunk . xxunk ] \n",
              "  xxmaj most xxmaj christians affirm the ancestral origin of the xxmaj jews in xxmaj abraham , but , as gentiles , they consider themselves as grafted into the family tree under the xxmaj new xxmaj covenant : see significance of xxmaj abraham for xxmaj christians for details . \n",
              "  xxmaj it is the xxmaj islamic tradition that xxmaj muhammad , as an xxmaj arab , is descended from xxmaj abraham 's son xxmaj ishmael . xxmaj jewish tradition also equates the descendants of xxmaj ishmael , xxmaj xxunk , with xxmaj arabs , while the descendants of xxmaj isaac by xxmaj jacob , who was also later known as xxmaj israel , are the xxmaj israelites . xxmaj adam xxmaj dodds argues that the term \" xxmaj abrahamic faiths \" , while helpful , can be misleading , as it conveys an unspecified historical and theological commonality that is problematic on closer examination . xxmaj while there is commonality among the religions , in large measure their shared ancestry is peripheral to their respective foundational beliefs and thus conceals crucial differences . xxmaj for example , the common xxmaj christian beliefs of xxmaj incarnation , xxmaj trinity , and the resurrection of xxmaj jesus are not accepted by xxmaj judaism or xxmaj islam ( see for example xxmaj islamic view of xxmaj jesus ' death ) . xxmaj there are key beliefs in both xxmaj islam and xxmaj judaism that are not shared by most of xxmaj christianity ( such as strict monotheism and adherence to xxmaj divine xxmaj law ) , and key beliefs of xxmaj islam , xxmaj christianity , and the xxmaj bahá'í xxmaj faith not shared by xxmaj judaism ( such as the prophetic and xxmaj messianic position of xxmaj jesus , respectively ) . \n",
              " \n",
              " \n",
              "  = = xxmaj challenges to the term = = \n",
              "  xxmaj the appropriateness of grouping xxmaj judaism , xxmaj christianity , and xxmaj islam by the terms \" xxmaj abrahamic religions \" or \" xxmaj abrahamic traditions \" has been challenged . \n",
              "  xxmaj in 2012 , xxmaj alan xxup l. xxmaj berger , xxmaj professor of xxmaj judaic xxmaj studies at xxmaj florida xxmaj atlantic xxmaj university , in his xxmaj preface to xxmaj xxunk and xxmaj terror : xxmaj judaism , xxmaj christianity , and xxmaj islam after 9 / 11 wrote that there are \" commonalities \" , but \" there are essential differences between the xxmaj abrahamic traditions \" both \" historical and theological \" . xxmaj although \" xxmaj judaism birthed both xxmaj christianity and xxmaj islam \" , the \" three monotheistic faiths went their separate ways \" . xxmaj the three faiths \" understand the role of xxmaj abraham \" in \" differing ways \" , and the relationships between xxmaj judaism and xxmaj christianity and between xxmaj judaism and xxmaj islam are \" uneven \" . xxmaj also , the three traditions are \" xxunk unbalanced and ideologically xxunk . xxmaj also in 2012 , xxmaj aaron xxup w. xxmaj hughes published a book about the category xxmaj abrahamic religions as an example of \" abuses of history . \" xxmaj he said that only recently the category \" xxmaj abrahamic religions \" has come into use and that it is a \" vague referent . \" xxmaj it is \" largely a theological xxunk \" and \" an artificial and imprecise \" term . xxmaj combining the xxmaj jewish , xxmaj christian , and xxmaj muslim religions into this one category might serve the purpose of encouraging \" interfaith xxunk \" , but it is not true to the \" historical record \" . xxmaj abrahamic religions is \" an xxunk category \" . xxmaj there are \" certain family resemblances \" among these three religions , but the \" amorphous \" term \" xxmaj abrahamic religions \" prevents an understanding of the \" complex nature \" of the interactions among them . xxmaj furthermore , the three religions do not share the same story of xxmaj abraham . xxmaj for these and other reasons , xxmaj hughes argued that the term should not be used , at least in academic circles . \n",
              " \n",
              " \n",
              "  = = xxmaj religions = = \n",
              " \n",
              " \n",
              "  = = = xxmaj judaism = = = \n",
              " \n",
              "  xxmaj one of xxmaj judaism 's primary texts is the xxmaj tanakh , an account of the xxmaj israelites ' relationship with xxmaj god from their earliest history until the building of the xxmaj second xxmaj temple ( c. 535 xxup bce ) . xxmaj abraham is hailed as the first xxmaj hebrew and the father of the xxmaj jewish people . xxmaj one of his great - grandsons was xxmaj judah , from whom the religion ultimately gets its name . xxmaj the xxmaj israelites were initially a number of tribes who lived in the xxmaj kingdom of xxmaj israel and xxmaj kingdom of xxmaj judah . \n",
              "  xxmaj after being conquered and exiled , some members of the xxmaj kingdom of xxmaj judah eventually returned to xxmaj israel . xxmaj they later formed an independent state under the xxmaj hasmonean dynasty in the 2nd and 1st centuries xxup bce , before becoming a client kingdom of the xxmaj roman xxmaj empire , which also conquered the state and dispersed its inhabitants . xxmaj from the 2nd to the 6th centuries xxmaj jews wrote the xxmaj talmud , a lengthy work of legal rulings and xxmaj biblical exegesis which , along with the xxmaj tanakh , is a key text of xxmaj judaism . \n",
              " \n",
              " \n",
              "  = = = xxmaj christianity = = = \n",
              " \n",
              "  xxmaj christianity began in the 1st century as a sect within xxmaj judaism initially led by xxmaj jesus . xxmaj his followers viewed him as the xxmaj messiah , as in the xxmaj confession of xxmaj peter ; after his crucifixion and death they came to view him as xxmaj god incarnate , who was resurrected and will return at the end of time to judge the living and the dead and create an eternal xxmaj kingdom of xxmaj god . xxmaj within a few decades the new movement split from xxmaj judaism . xxmaj christian teaching is based on the xxmaj old and xxmaj new xxmaj testaments of the xxmaj bible . \n",
              "  xxmaj after several periods of alternating persecution and relative peace vis a vis the xxmaj roman authorities under different administrations , xxmaj christianity became the state church of the xxmaj roman xxmaj empire in 380 , but has been split into various churches from its beginning . xxmaj an attempt was made by the xxmaj byzantine xxmaj empire to unify xxmaj christendom , but this formally failed with the xxmaj east – xxmaj west xxmaj schism of 1054 . xxmaj in the 16th century , the birth and growth of xxmaj protestantism further split xxmaj christianity into many denominations . \n",
              " \n",
              " \n",
              "  = = = xxmaj islam = = = \n",
              " \n",
              "  xxmaj islam is based on the teachings of the xxmaj quran . xxmaj although it considers xxmaj muhammad to be the xxmaj seal of the prophets , xxmaj islam teaches that every prophet preached xxmaj islam , as the word xxmaj islam literally means submission to xxmaj god , the main concept preached by all xxmaj abrahamic prophets . xxmaj the teachings of the xxmaj quran are believed by xxmaj muslims to be the direct and final revelation and words of xxmaj allah ( i.e. xxmaj god in xxmaj arabic ) . xxmaj islam like xxmaj christianity is a universal religion ( xxunk is open to anyone ) . xxmaj like xxmaj judaism , it has a strictly unitary conception of xxmaj god , called tawhid , or \" strict \" monotheism . \n",
              " \n",
              " \n",
              "  = = = xxmaj other xxmaj abrahamic religions = = = \n",
              "  xxmaj historically , the xxmaj abrahamic religions have been considered to be xxmaj judaism , xxmaj christianity and xxmaj islam . xxmaj some of this is due to the age and larger size of these three . xxmaj the other , similar religions were seen as either too new to judge as being truly in the same class , or too small to be of significance to the category . \n",
              "  xxmaj however , some of the restriction of xxmaj abrahamic to these three is due only to tradition in historical classification . xxmaj therefore , restricting the category to these three religions has come under criticism . xxmaj the religions listed below here claim xxmaj abrahamic classification , either by the religions themselves , or by scholars who study them . \n",
              " \n",
              " \n",
              "  xxrep 4 = xxmaj bábism xxrep 4 = \n",
              "  xxmaj bábism ( xxmaj persian : xxunk , xxmaj xxunk ) , also known as the xxmaj xxunk xxmaj faith ( xxmaj arabic : xxunk , xxmaj xxunk ) , is a monotheistic religion which professes that there is one incorporeal , unknown , and incomprehensible xxmaj god who manifests his will in an unending series of xxunk , called xxmaj manifestations of xxmaj god ( xxmaj arabic : xxunk الله ) . xxmaj it is an extremely small religion , with no more than a few thousand adherents according to current estimates , most of which are concentrated in xxmaj iran . xxmaj it was founded by ' xxmaj ali xxmaj muhammad xxmaj shirazi who first assumed the title of xxmaj báb ( lit . \" xxmaj gate \" ) from which the religion gets its name , out of the belief that he was the gate to the xxmaj twelfth xxmaj imam . xxmaj however throughout his ministry his titles and claims underwent much evolution as the xxmaj báb progressively outlined his teachings . xxmaj founded in 1844 , xxmaj bábism flourished in xxmaj persia until 1852 , then lingered on in exile in the xxmaj ottoman xxmaj empire , especially xxmaj cyprus , as well as underground . xxmaj an anomaly amongst xxmaj islamic messianic movements , the xxmaj bábí movement signaled a break with xxmaj islam , beginning a new religious system with its own unique laws , teachings , and practices . xxmaj while xxmaj bábism was violently opposed by both clerical and government establishments , it led to the founding of the xxmaj bahá'í xxmaj faith , whose followers consider the religion founded by the xxmaj báb as a predecessor to their own . \n",
              " \n",
              " \n",
              "  xxrep 4 = xxmaj bahá'í xxmaj faith xxrep 4 = \n",
              " \n",
              "  xxmaj the xxmaj bahá'í xxmaj faith , which dates to the late 19th century , is a new religious movement that has sometimes been listed as xxmaj abrahamic by scholarly sources in various fields . xxmaj bahá'u'lláh ( xxunk ) , the founder , affirms the highest religious station for xxmaj abraham and generally for prophets mentioned among the other xxmaj abrahamic religions , and has claimed a lineage of descent from xxmaj abraham through xxmaj xxunk and xxmaj sarah . xxmaj additionally , xxmaj xxunk cite that xxmaj bahá'u'lláh lost a son , xxmaj mírzá xxmaj xxunk . xxmaj bahá'u'lláh , then in prison , eulogized his son and connected the subsequent easing of restrictions to his son 's dying prayer and compared it to the intended sacrifice of xxmaj abraham 's son . xxmaj the religion also shares many of the same commonalities of xxmaj judaism , xxmaj christianity and xxmaj islam . xxmaj the religion emphasizes monotheism and believes in one eternal transcendent xxmaj god , the station of the founders of the major religions as xxmaj manifestations of xxmaj god come with revelation as a series of interventions by xxmaj god in human history that has been progressive , and each preparing the way for the next . xxmaj there is no definitive list of xxmaj manifestations of xxmaj god , but xxmaj bahá'u'lláh and ' xxmaj abdu'l - xxmaj bahá referred to several personages as xxmaj manifestations ; they include individuals generally not recognized by other xxmaj abrahamic religions — xxmaj krishna , xxmaj zoroaster , and xxmaj buddha — and general statements go further to other cultures . \n",
              " \n",
              " \n",
              "  xxrep 4 = xxmaj druze faith xxrep 4 = \n",
              " \n",
              "  xxmaj the xxmaj druze faith or xxmaj xxunk is a monotheistic religion based on the teachings of high xxmaj islamic figures like xxmaj hamza xxunk ibn - xxmaj ahmad and xxmaj al - xxmaj hakim bi - xxmaj amr xxmaj allah , and xxmaj greek philosophers such as xxmaj plato and xxmaj aristotle . xxmaj hamza ibn xxmaj ali ibn xxmaj ahmad is considered the founder of the xxmaj druze and the primary author of the xxmaj druze manuscripts . xxmaj and xxmaj jethro of xxmaj midian is considered an ancestor of xxmaj druze , who revere him as their spiritual founder and chief prophet . xxmaj the xxmaj epistles of xxmaj wisdom is the foundational text of the xxmaj druze faith . xxmaj the xxmaj druze faith incorporates elements of xxmaj islam 's xxmaj xxunk , xxmaj gnosticism , xxmaj neoplatonism , xxmaj pythagoreanism , xxmaj christianity , xxmaj hinduism and other philosophies and beliefs , creating a distinct and secretive theology known to interpret xxunk religious scriptures , and to highlight the role of the mind and truthfulness . xxmaj the xxmaj druze follow theophany , and believe in reincarnation or the transmigration of the soul . xxmaj at the end of the cycle of rebirth , which is achieved through successive reincarnations , the soul is united with the xxmaj cosmic xxmaj mind ( xxmaj al xxmaj xxunk xxmaj al xxmaj xxunk ) . xxmaj in the xxmaj druze faith , xxmaj jesus is considered one of xxmaj god 's important prophets . xxmaj the xxmaj druze xxmaj faith is often classified as a branch of xxmaj xxunk xxmaj shia xxmaj islam . xxmaj even though the faith originally developed out of xxmaj ismaili xxmaj islam , xxmaj druze are not generally considered xxmaj muslims . \n",
              " \n",
              " \n",
              "  xxrep 4 = xxmaj mandaeism xxrep 4 = \n",
              " \n",
              "  xxmaj mandaeism or xxmaj xxunk ( xxmaj arabic : xxunk xxmaj xxunk ) is a monotheistic xxmaj gnostic religion with a strongly dualistic worldview . xxmaj its adherents , the xxmaj mandaeans , revere xxmaj adam , xxmaj abel , xxmaj seth , xxmaj xxunk , xxmaj noah , xxmaj shem , xxmaj aram , and especially xxmaj john the xxmaj baptist . xxmaj occasionally , xxmaj mandaeans are called \" xxmaj christians of xxmaj saint xxmaj john \" by xxmaj jews and xxmaj christians . xxmaj the xxmaj mandaeans do not worship the xxmaj god of xxmaj abraham and they hate xxmaj abraham , considering him , along with xxmaj moses , xxmaj jesus and xxmaj mohammed , to be a false prophet . xxmaj they regard the xxmaj abrahamic religions of xxmaj judaism , xxmaj christianity and xxmaj islam as hostile or enemy religions . xxmaj abraham , or xxmaj xxunk , was a priest of the xxmaj xxunk , who , because he was circumcised , went out into the desert with the lepers and the unclean and began to worship xxmaj xxunk , one of the powers of xxmaj darkness . xxmaj it was through xxmaj xxunk 's power of xxmaj darkness that xxmaj abraham and his people became strong . xxmaj the xxmaj mandaeans are xxmaj gnostics and worship a supreme xxmaj god far removed from the malevolent creator god of the material world , who in xxmaj mandaean writings , is identified as the xxmaj lord of the xxmaj old xxmaj testament and is associated with the xxmaj holy xxmaj spirit . xxmaj both the xxmaj lord and the xxmaj holy xxmaj spirit are regarded as malevolent figures . xxmaj while biblically informed , xxmaj xxunk has been characterized as \" not - exactly - xxmaj abrahamic - or - xxmaj muslim \" dualism . \n",
              " \n",
              " \n",
              "  xxrep 4 = xxmaj rastafari xxrep 4 = \n",
              "  xxmaj rastafari , sometimes termed xxmaj xxunk , is also sometimes listed as an xxmaj abrahamic religion . xxmaj classified as both a new religious movement and social movement , it developed in xxmaj jamaica during the 1930s . xxmaj it lacks any centralised authority and there is much xxunk among practitioners , who are known as xxmaj rastafari , xxmaj xxunk , or xxmaj rastas . \n",
              "  xxmaj rastafari refer to their beliefs , which are based on a specific interpretation of the xxmaj bible , as \" xxmaj xxunk \" . xxmaj central is a monotheistic belief in a single xxmaj god — referred to as xxmaj jah — who partially resides within each individual . xxmaj the former emperor of xxmaj ethiopia , xxmaj haile xxmaj selassie , is given central importance . xxmaj many xxmaj rastas regard him as an incarnation of xxmaj jah on xxmaj earth and as the xxmaj second xxmaj coming of xxmaj christ . xxmaj others regard him as a human prophet who fully recognised the inner divinity within every individual . xxmaj rastafari is xxmaj xxunk and focuses its attention on the xxmaj african diaspora , which it believes is oppressed within xxmaj western society , or \" xxmaj babylon \" . xxmaj many xxmaj rastas call for the resettlement of the xxmaj african diaspora in either xxmaj ethiopia or xxmaj africa more widely , referring to this continent as the xxmaj promised xxmaj land of \" xxmaj zion \" . xxmaj other interpretations shift focus on to the adoption of an xxmaj xxunk attitude while living outside of xxmaj africa . xxmaj rastas refer to their practices as \" xxunk \" . xxmaj communal meetings are known as \" xxunk \" , and are typified by music , chanting , discussions , and the smoking of cannabis , the latter being regarded as a sacrament with beneficial properties . xxmaj rastas place emphasis on what they regard as living ' naturally ' , adhering to xxunk dietary requirements , allowing their hair to form into dreadlocks , and following patriarchal gender roles . \n",
              "  xxmaj rastafari originated among impoverished and socially disenfranchised xxmaj afro - xxmaj jamaican communities . xxmaj its xxmaj xxunk ideology was largely a reaction against xxmaj jamaica 's then - dominant xxmaj british colonial culture . xxmaj it was influenced by both xxmaj xxunk and the xxmaj back - to - xxmaj africa movement promoted by black nationalist figures like xxmaj marcus xxmaj garvey . xxmaj the movement developed after several xxmaj christian clergymen , most notably xxmaj leonard xxmaj howell , proclaimed that the crowning of xxmaj haile xxmaj selassie as xxmaj emperor of xxmaj ethiopia in 1930 fulfilled a xxmaj biblical prophecy . xxmaj by the 1950s , xxmaj rastafari 's counter - cultural stance had brought the movement into conflict with wider xxmaj jamaican society , including violent clashes with law enforcement . xxmaj in the 1960s and 1970s it gained increased respectability within xxmaj jamaica and greater visibility abroad through the popularity of xxmaj rasta - inspired reggae musicians like xxmaj bob xxmaj marley . xxmaj enthusiasm for xxmaj rastafari declined in the 1980s , following the deaths of xxmaj haile xxmaj selassie and xxmaj marley . \n",
              "  xxmaj the xxmaj rasta movement is organised on a largely cellular basis . xxmaj there are several denominations , or \" xxmaj mansions of xxmaj rastafari \" , the most prominent of which are the xxmaj xxunk , xxmaj bobo xxmaj ashanti , xxmaj ethiopian xxmaj zion xxmaj coptic xxmaj church , and the xxmaj twelve xxmaj tribes of xxmaj israel , each of which offers different interpretations of xxmaj rasta belief . xxmaj there are an estimated xxunk to 1 million xxmaj rastas across the world ; the largest population is in xxmaj jamaica although communities can be found in most of the world 's major population centres . \n",
              " \n",
              " \n",
              "  xxrep 4 = xxmaj xxunk xxrep 4 = \n",
              "  xxmaj xxunk is based on some of the same books used as the basis of xxmaj judaism but differs from the latter . xxmaj samaritan religious works include the xxmaj samaritan version of the xxmaj torah , the xxmaj xxunk xxmaj xxunk , the xxmaj samaritan liturgy , and xxmaj samaritan law codes and biblical commentaries . xxmaj many claim the xxmaj samaritans appear to have a text of the xxmaj torah as old as the xxmaj masoretic xxmaj text ; scholars have various theories concerning the actual relationships between these three texts . \n",
              " \n",
              " \n",
              "  xxrep 4 = xxmaj xxunk xxrep 4 = \n",
              "  xxmaj xxunk is the name given to the beliefs and practices of the xxmaj xxunk people of xxmaj kurdistan region and around xxmaj mosul in xxmaj iraq . a majority of xxmaj xxunk regard themselves as xxmaj shia , and a minority identify as xxmaj sunnis . xxmaj despite this , their actual faith and rituals differ from xxmaj islam , and have characteristics that make them distinct from neighboring xxmaj muslim populations . xxmaj these include features from xxmaj christianity including confession , and the consumption of alcohol , and the fact that xxmaj xxunk often go on pilgrimage to xxmaj yazidi shrines . xxmaj nevertheless , the xxmaj xxunk people also go on pilgrimages to xxmaj shia holy cities such as xxmaj xxunk and xxmaj karbala , and follow many xxmaj shiite teachings . xxmaj the organization of xxmaj xxunk appears to be much like that of a xxmaj sufi order : adult laymen ( xxmaj xxunk ) are bound to spiritual guides ( xxunk or xxmaj xxunk ) who are knowledgeable in matters of religious doctrine and ritual . xxmaj there are several ranks of such xxunk ; at the top stands the xxmaj baba , or supreme head of the order . xxmaj theoretically individuals can choose their own xxunk , but in practice the pir families often become associated with lay families over several generations . xxmaj xxunk combines elements of xxmaj sufism with the uniquely xxmaj xxunk interpretation of \" divine reality . \" xxmaj according to xxmaj xxunk , this divine reality xxunk the literal , or xxmaj xxunk , interpretation of the xxmaj quran . xxmaj xxunk comprehend divine reality through the mediation of the \" xxmaj pir \" or spiritual guide , who also performs xxmaj xxunk rituals . xxmaj the structure of these xxunk relationships closely resembles that of the xxmaj xxunk . xxmaj the primary xxmaj xxunk religious text is the xxmaj xxunk or xxmaj kitab al - xxmaj xxunk ( xxmaj book of xxmaj exemplary xxmaj acts ) and is written in xxmaj xxunk . xxmaj xxunk also consider the poetry of xxmaj ismail i to be revealed by xxmaj god , and they recite xxmaj ismail 's poetry during religious meetings . \n",
              " \n",
              " \n",
              "  xxrep 4 = xxmaj xxunk ( the xxmaj xxunk , xxmaj xxunk and xxmaj xxunk faiths ) xxrep 4 = \n",
              " \n",
              "  xxmaj xxunk , or the xxmaj cult of xxmaj angels , is a proposed pre - xxmaj islamic , native religion of the xxmaj kurds . xxmaj the term was introduced by xxmaj kurdish scholar xxmaj xxunk xxmaj xxunk to represent what he considers the \" original \" religion of the xxmaj kurds as the primary inhabitants of the xxmaj xxunk xxmaj mountains , until their increasing xxmaj islamization in the course of the 10th century . xxmaj according to xxmaj xxunk , xxmaj xxunk is now continued in the denominations of xxmaj xxunk , xxmaj xxunk , and xxmaj xxunk . xxmaj the three traditions subsumed under the term xxmaj xxunk are primarily practiced in relatively isolated communities , from xxmaj khurasan to xxmaj anatolia and parts of western xxmaj iran . \n",
              "  xxmaj the concept of xxmaj xxunk has found a wide perception both within and beyond xxmaj kurdish nationalist discourses , but has been disputed by other recognized scholars of xxmaj iranian religions . xxmaj well established , however , are the \" striking \" and \" unmistakable \" similarities between the xxmaj xxunk and the xxmaj xxunk or xxmaj ahl - e xxmaj xxunk , some of which can be traced back to elements of an ancient faith that was probably dominant among xxmaj western xxmaj iranians and likened to practices of pre - xxmaj zoroastrian xxmaj mithraic religion . xxmaj xxunk xxmaj xxunk defines the xxmaj xxunk as an ancient xxmaj hurrian religion and states that xxmaj xxunk could have introduced some of the xxmaj vedic tradition that appears to be manifest in xxmaj xxunk . \n",
              " \n",
              " \n",
              "  = = xxmaj abrahamic ethno - religious groups = = \n",
              "  xxmaj some small religions , such as xxmaj xxunk , xxmaj druze , xxmaj rastafari movement , and the xxmaj bábí xxmaj faith , are xxmaj abrahamic . xxmaj these religions are regional , with xxmaj samaritans largely in xxmaj israel and the xxmaj west xxmaj bank , xxmaj druze largely in xxmaj syria , xxmaj lebanon , xxmaj israel , and xxmaj jordan , and xxmaj rastafari largely in xxmaj jamaica . \n",
              " \n",
              " \n",
              "  = = xxmaj origins and history = = \n",
              " \n",
              "  xxmaj the civilizations that developed in xxmaj mesopotamia influenced some religious texts , particularly the xxmaj hebrew xxmaj bible and the xxmaj book of xxmaj genesis . xxmaj abraham is said to have originated in xxmaj mesopotamia . xxmaj judaism regards itself as the religion of the descendants of xxmaj jacob , a grandson of xxmaj abraham . xxmaj it has a strictly unitary view of xxmaj god , and the central holy book for almost all branches is the xxmaj masoretic xxmaj text as elucidated in the xxmaj oral xxmaj torah . xxmaj in the 19th century and 20th centuries xxmaj judaism developed a small number of branches , of which the most significant are xxmaj orthodox , xxmaj conservative , and xxmaj reform . \n",
              "  xxmaj christianity began as a sect of xxmaj judaism in the xxmaj mediterranean xxmaj basin of the first century xxup ce and evolved into a separate religion — xxmaj christianity — with distinctive beliefs and practices . xxmaj jesus is the central figure of xxmaj christianity , considered by almost all denominations to be xxmaj god the xxmaj son , one person of the xxmaj trinity . ( xxmaj see xxmaj god in xxmaj christianity . ) xxmaj the xxmaj christian biblical canons are usually held to be the ultimate authority , alongside sacred tradition in some denominations ( such as the xxmaj catholic xxmaj church and the xxmaj eastern xxmaj orthodox xxmaj church ) . xxmaj over many centuries , xxmaj christianity divided into three main branches ( xxmaj catholic , xxmaj orthodox , and xxmaj protestant ) , dozens of significant denominations , and hundreds of smaller ones . \n",
              "  xxmaj islam arose in the xxmaj arabian xxmaj peninsula in the 7th century xxup ce with a strictly unitary view of xxmaj god . xxmaj muslims hold the xxmaj quran to be the ultimate authority , as revealed and elucidated through the teachings and practices of a central , but not divine , prophet , xxmaj muhammad . xxmaj the xxmaj islamic faith considers all prophets and messengers from xxmaj adam through the final messenger ( xxmaj muhammad ) to carry the same xxmaj islamic monotheistic principles . xxmaj soon after its founding , xxmaj islam split into two main branches ( xxmaj sunni and xxmaj shia xxmaj islam ) , each of which now has a number of denominations . \n",
              "  xxmaj the xxmaj bahá'í xxmaj faith began within the context of xxmaj shia xxmaj islam in 19th - century xxmaj persia , after a merchant named xxmaj xxunk ' xxmaj xxunk xxmaj xxunk xxmaj xxunk claimed divine revelation and took on the title of the xxmaj báb , or \" the xxmaj gate \" . xxmaj the xxmaj bab 's ministry proclaimed the imminent advent of \" xxmaj he whom xxmaj god shall make manifest \" , who xxmaj bahá'í 's accept as xxmaj bahá'u'lláh . xxmaj bahá'í 's revere the xxmaj torah , xxmaj gospels and the xxmaj quran , and the writings of the xxmaj báb , xxmaj bahá'u'lláh , and ' xxmaj xxunk - xxmaj bahá ' are considered the central texts of the faith . a vast majority of adherents are unified under a single denomination . xxmaj lesser - known xxmaj abrahamic religions , originally offshoots of xxmaj shia xxmaj islam , include xxmaj bábism and the xxmaj druze faith . \n",
              " \n",
              " \n",
              "  = = xxmaj common aspects = = \n",
              "  xxmaj all xxmaj abrahamic religions accept the tradition that xxmaj god revealed himself to the patriarch xxmaj abraham . xxmaj all are monotheistic , and conceive xxmaj god to be a transcendent creator and the source of moral law . xxmaj their religious texts feature many of the same figures , histories , and places , although they often present them with different roles , perspectives , and meanings . xxmaj believers who agree on these similarities and the common xxmaj abrahamic origin tend to also be more positive towards other xxmaj abrahamic groups . xxmaj in the three main xxmaj abrahamic xxunk , xxmaj christianity and xxmaj islam ) , the individual , xxmaj god , and the universe are highly separate from each other . xxmaj the xxmaj abrahamic religions believe in a judging , paternal , fully external god to which the individual and nature are subordinate . xxmaj one seeks salvation or transcendence not by contemplating the natural world or via philosophical speculation , but by seeking to please xxmaj god ( such as obedience with xxmaj god 's wishes or his law ) and see divine revelation as outside of self , nature , and custom . \n",
              " \n",
              " \n",
              "  = = = xxmaj monotheism = = = \n",
              "  xxmaj all xxmaj abrahamic religions claim to be monotheistic , worshiping an exclusive xxmaj god , although one known by different names . xxmaj each of these religions preaches that xxmaj god creates , is one , rules , reveals , loves , judges , punishes , and forgives . xxmaj however , although xxmaj christianity does not profess to believe in three gods — but rather in three persons , or hypostases , united in one essence — the xxmaj trinitarian doctrine , a fundamental of faith for the vast majority of xxmaj christian denominations , conflicts with xxmaj jewish and xxmaj muslim concepts of monotheism . xxmaj since the conception of a divine xxmaj trinity is not amenable to tawhid , the xxmaj islamic doctrine of monotheism , xxmaj islam regards xxmaj christianity as variously polytheistic . xxmaj christianity and xxmaj islam both revere xxmaj jesus ( xxmaj arabic : xxmaj isa or xxmaj xxunk among xxmaj muslims and xxmaj arab xxmaj christians respectively ) but with vastly differing conceptions : \n",
              " \n",
              "  xxmaj christians view xxmaj jesus as the saviour ( and most xxmaj christians also regard him as xxmaj god incarnate ) . \n",
              "  xxmaj muslims see xxmaj isa as a xxmaj prophet of xxmaj islam and xxmaj messiah . xxmaj however , the worship of xxmaj jesus , or the ascribing of partners to xxmaj god ( known as shirk in xxmaj islam and as xxunk in xxmaj judaism ) , is typically viewed as the heresy of idolatry by xxmaj islam and xxmaj judaism . xxmaj judaism and xxmaj islam see the incarnation of xxmaj god into human form as a heresy . \n",
              " \n",
              " \n",
              "  = = = xxmaj theological continuity = = = \n",
              " \n",
              "  xxmaj all the xxmaj abrahamic religions affirm one eternal xxmaj god who created the universe , who rules history , who sends prophetic and angelic messengers and who reveals the divine will through inspired revelation . xxmaj they also affirm that obedience to this creator deity is to be lived out historically and that one day xxmaj god will unilaterally intervene in human history at the xxmaj last xxmaj judgment . xxmaj christianity , xxmaj islam , and xxmaj judaism have a teleological view on history , unlike the static or cyclic view on it found in other cultures ( the latter being common in xxmaj indian religions ) . \n",
              " \n",
              " \n",
              "  = = = xxmaj scripture = = = \n",
              " \n",
              "  xxmaj all xxmaj abrahamic religions believe that xxmaj god guides humanity through revelation to prophets , and each religion recognizes that xxmaj god revealed teachings up to and including those in their own scripture . \n",
              " \n",
              " \n",
              "  = = = xxmaj ethical orientation = = = \n",
              " \n",
              "  xxmaj an ethical orientation : all these religions speak of a choice between good and evil , which is associated with obedience or disobedience to a single xxmaj god and to xxmaj divine xxmaj law . \n",
              " \n",
              " \n",
              "  = = = xxmaj eschatological world view = = = \n",
              "  xxmaj an eschatological world view of history and destiny , beginning with the creation of the world and the concept that xxmaj god works through history , and ending with a resurrection of the dead and final judgment and world to come . \n",
              " \n",
              " \n",
              "  = = = xxmaj importance of xxmaj jerusalem = = = \n",
              " \n",
              "  xxmaj jerusalem is considered xxmaj judaism 's holiest city . xxmaj its origins can be dated to 1004 xxup bce when according to xxmaj biblical tradition xxmaj david established it as the capital of the xxmaj united xxmaj kingdom of xxmaj israel , and his son xxmaj solomon built the xxmaj first xxmaj temple on xxmaj mount xxmaj moriah . xxmaj since the xxmaj hebrew xxmaj bible relates that xxmaj isaac 's sacrifice took place there , xxmaj mount xxmaj moriah 's importance for xxmaj jews predates even these prominent events . xxmaj jews thrice daily pray in its direction , including in their prayers pleas for the restoration and the rebuilding of the xxmaj holy xxmaj temple ( the xxmaj third xxmaj temple ) on mount xxmaj moriah , close the xxmaj passover service with the wistful statement \" xxmaj next year in built xxmaj jerusalem , \" and recall the city in the blessing at the end of each meal . xxmaj jerusalem has served as the only capital for the five xxmaj jewish states that have existed in xxmaj israel since 1400 xxup bce ( the xxmaj united xxmaj kingdom of xxmaj israel , the xxmaj kingdom of xxmaj judah , xxmaj yehud xxmaj xxunk , the xxmaj hasmonean xxmaj kingdom , and modern xxmaj israel ) . xxmaj it has been majority xxmaj jewish since about 1852 and continues through today . xxmaj jerusalem was an early center of xxmaj christianity . xxmaj there has been a continuous xxmaj christian presence there since . xxmaj william xxup r. xxmaj xxunk , xxmaj jr. , professor of the history of xxmaj christianity at the xxmaj university of xxmaj virginia , xxmaj charlottesville , writes that from the middle of the 4th century to the xxmaj islamic conquest in the middle of the 7th century , the xxmaj roman province of xxmaj palestine was a xxmaj christian nation with xxmaj jerusalem its principal city . xxmaj according to the xxmaj new xxmaj testament , xxmaj jerusalem was the city xxmaj jesus was brought to as a child to be presented at the xxunk xxunk ] and for the feast of the xxunk xxunk ] xxmaj he preached and healed in xxmaj jerusalem , unceremoniously drove the money changers in disarray from the temple there , held the xxmaj last xxmaj supper in an \" upper room \" ( traditionally the xxmaj xxunk ) there the night before he is said to have died on the cross , was arrested in xxmaj gethsemane . xxmaj the six parts to xxmaj jesus ' trial — three stages in a religious court and three stages before a xxmaj roman court — were all held in xxmaj jerusalem . xxmaj his crucifixion at xxmaj golgotha , his burial nearby ( traditionally the xxmaj church of the xxmaj holy xxmaj sepulchre ) , and his resurrection and ascension and prophecy to return all are said to have occurred or will occur there . \n",
              "  xxmaj jerusalem became holy to xxmaj muslims , third after xxmaj mecca and xxmaj medina . xxmaj the xxmaj al - xxmaj aqsa xxmaj mosque , which translates to \" farthest mosque \" in sura xxmaj al - xxmaj xxunk in the xxmaj quran and its surroundings are addressed in the xxmaj quran as \" the holy land \" . xxmaj muslim tradition as recorded in the xxunk identifies al - xxmaj aqsa with a mosque in xxmaj jerusalem . xxmaj the first xxmaj muslims did not pray toward xxmaj kaaba , but toward xxmaj jerusalem ( this was the xxunk for 13 years ) : the xxunk was switched to xxmaj kaaba later on to fulfill the order of xxmaj allah of praying in the direction of xxmaj kaaba ( xxmaj quran , xxmaj al - xxmaj xxunk xxunk ) . xxmaj another reason for its significance is its connection with the xxmaj xxunk , where , according to traditional xxmaj muslim , xxmaj muhammad ascended through the xxmaj seven heavens on a winged mule named xxmaj xxunk , guided by the xxmaj archangel xxmaj gabriel , beginning from the xxmaj foundation xxmaj stone on the xxmaj temple xxmaj mount , in modern times under the xxmaj dome of the xxmaj rock . \n",
              " \n",
              " \n",
              "  = = = xxmaj significance of xxmaj abraham = = = \n",
              " \n",
              "  xxmaj even though members of xxmaj judaism , xxmaj christianity , and xxmaj islam do not all claim xxmaj abraham as an ancestor , some members of these religions have tried to claim him as exclusively theirs . xxmaj for xxmaj jews , xxmaj abraham is the founding patriarch of the children of xxmaj israel . xxmaj god promised xxmaj abraham : \" i will make of you a great nation , and i will bless you . xxunk . 12:2 ] xxmaj with xxmaj abraham , xxmaj god entered into \" an everlasting covenant throughout the ages to be xxmaj god to you and to your offspring to xxunk . xxunk ] xxmaj it is this covenant that makes xxmaj abraham and his descendants children of the covenant . xxmaj similarly , converts , who join the covenant , are all identified as sons and daughters of xxmaj abraham . xxmaj abraham is primarily a revered ancestor or patriarch ( referred to as xxmaj avraham xxmaj xxunk ( xxunk xxunk in xxmaj hebrew ) \" xxmaj abraham our father \" ) to whom xxmaj god made several promises : chiefly , that he would have xxunk descendants , who would receive the land of xxmaj canaan ( the \" xxmaj promised xxmaj land \" ) . xxmaj according to xxmaj jewish tradition , xxmaj abraham was the first post - xxmaj flood prophet to reject idolatry through rational analysis , although xxmaj shem and xxmaj xxunk carried on the tradition from xxmaj noah . xxmaj christians view xxmaj abraham as an important exemplar of faith , and a spiritual , as well as physical , ancestor of xxmaj jesus . xxmaj for xxmaj christians , xxmaj abraham is a spiritual xxunk as well as / rather than a direct ancestor depending on the individual 's interpretation of xxmaj paul the xxunk . xxunk ] with the xxmaj abrahamic covenant \" reinterpreted so as to be defined by faith in xxmaj christ rather than biological descent \" or both by faith as well as a direct ancestor ; in any case , the emphasis is placed on faith being the only requirement for the xxmaj abrahamic xxmaj covenant to apply ( see also xxmaj new xxmaj covenant and supersessionism ) . xxmaj in xxmaj christian belief , xxmaj abraham is a role model of xxunk . xxunk ] and his obedience to xxmaj god by offering xxmaj isaac is seen as a foreshadowing of xxmaj god 's offering of his son xxunk . xxunk commentators have a tendency to interpret xxmaj god 's promises to xxmaj abraham as applying to xxmaj christianity subsequent to , and sometimes rather than ( as in supersessionism ) , being applied to xxmaj judaism , whose adherents rejected xxmaj jesus . xxmaj they argue this on the basis that just as xxmaj abraham as a xxmaj gentile ( before he was circumcised ) \" believed xxmaj god and it was credited to him as righteousness \" [ xxmaj gen. xxunk ] ( cf . xxmaj rom . xxunk , xxmaj james xxunk ) , \" those who have faith are children of xxmaj abraham \" [ xxmaj gal . xxunk ] ( see also xxmaj john xxunk ) . xxmaj this is most fully developed in xxmaj paul 's theology where all who believe in xxmaj god are spiritual descendants of xxunk . xxunk ] [ xxmaj gal . xxunk ] xxmaj however , with regards to xxmaj rom . xxunk and xxmaj gal . xxunk , in both cases he refers to these spiritual descendants as the \" sons of xxunk . xxunk ] rather than \" children of xxmaj xxunk . xxmaj for xxmaj muslims , xxmaj abraham is a prophet , the \" messenger of xxmaj god \" who stands in the line from xxmaj adam to xxmaj muhammad , to whom xxmaj god gave xxunk xxunk ] , who \" raised the foundations of the xxmaj house \" ( i.e. , the xxunk xxunk ] with his first son , xxmaj xxunk , a symbol of which is every mosque . xxmaj ibrahim ( xxmaj abraham ) is the first in a genealogy for xxmaj muhammad . xxmaj islam considers xxmaj abraham to be \" one of the first xxmaj muslims \" ( xxmaj surah xxunk first monotheist in a world where monotheism was lost , and the community of those faithful to xxmaj god , thus being referred to as xxunk xxunk or \" xxmaj our xxmaj father xxmaj abraham \" , as well as xxmaj ibrahim al - xxmaj hanif or \" xxmaj abraham the xxmaj monotheist \" . xxmaj also , the same as xxmaj judaism , xxmaj islam believes that xxmaj abraham rejected idolatry through logical reasoning . xxmaj abraham is also recalled in certain details of the annual xxmaj hajj pilgrimage . \n",
              " \n",
              " \n",
              "  = = xxmaj differences = = \n",
              " \n",
              " \n",
              "  = = = xxmaj god = = = \n",
              " \n",
              "  xxmaj the xxmaj abrahamic xxmaj god is conceived of as eternal , omnipotent , omniscient and as the creator of the universe . xxmaj god is further held to have the properties of holiness , justice , omnibenevolence and omnipresence . xxmaj proponents of xxmaj abrahamic faiths believe that xxmaj god is also transcendent , but at the same time personal and involved , listening to prayer and reacting to the actions of his creatures . \n",
              " \n",
              "  xxmaj in xxmaj jewish theology , xxmaj god is strictly monotheistic . xxmaj god is an absolute one , indivisible and incomparable being who is the ultimate cause of all existence . xxmaj jewish tradition teaches that the true aspect of xxmaj god is incomprehensible and unknowable and that it is only xxmaj god 's revealed aspect that brought the universe into existence , and interacts with mankind and the world . xxmaj in xxmaj judaism , the one xxmaj god of xxmaj israel is the xxmaj god of xxmaj abraham , xxmaj isaac , and xxmaj jacob , who is the guide of the world , delivered xxmaj israel from slavery in xxmaj egypt , and gave them the 613 xxmaj mitzvot at xxmaj mount xxmaj sinai as described in the xxmaj torah . \n",
              "  xxmaj the national god of the xxmaj israelites has a proper name , written xxup yhwh ( xxmaj hebrew : xxunk , xxmaj modern : xxmaj xxunk , xxmaj tiberian : xxmaj xxunk ) in the xxmaj hebrew xxmaj bible . xxmaj the name xxup yhwh is a combination of the future , present , and past tense of the verb \" xxunk \" ( xxmaj hebrew : xxunk ) meaning \" to be \" and translated literally means \" xxmaj the self - existent xxmaj one \" . a further explanation of the name was given to xxmaj moses when xxup yhwh stated xxmaj xxunk xxmaj asher xxmaj xxunk ( xxmaj hebrew : xxunk xxunk xxunk ) \" i will be that i will be \" , the name relates to xxmaj god as xxmaj god truly is , xxmaj god 's revealed essence , which transcends the universe . xxmaj it also represents xxmaj god 's compassion towards the world . xxmaj in xxmaj jewish tradition another name of xxmaj god is xxmaj elohim , relating to the interaction between xxmaj god and the universe , xxmaj god as manifest in the physical world , it designates the justice of xxmaj god , and means \" the xxmaj one who is the totality of powers , forces and causes in the universe \" . \n",
              " \n",
              "  xxmaj in xxmaj christian theology , xxmaj god is the eternal being who created and preserves the world . xxmaj christians believe xxmaj god to be both transcendent and immanent ( involved in the world ) . xxmaj early xxmaj christian views of xxmaj god were expressed in the xxmaj pauline xxmaj epistles and the early creeds , which proclaimed one xxmaj god and the divinity of xxmaj jesus . \n",
              "  xxmaj around the year 200 , xxmaj tertullian formulated a version of the doctrine of the xxmaj trinity which clearly affirmed the divinity of xxmaj jesus and came close to the later definitive form produced by the xxmaj ecumenical xxmaj council of 381 . xxmaj trinitarians , who form the large majority of xxmaj christians , hold it as a core tenet of their faith . xxmaj nontrinitarian denominations define the xxmaj father , the xxmaj son , and the xxmaj holy xxmaj spirit in a number of different ways . xxmaj the theology of the attributes and nature of xxmaj god has been discussed since the earliest days of xxmaj christianity , with xxmaj irenaeus writing in the 2nd century : \" xxmaj his greatness lacks nothing , but contains all things \" . xxmaj in the 8th century , xxmaj john of xxmaj damascus listed eighteen attributes which remain widely accepted . xxmaj as time passed , theologians developed systematic lists of these attributes , some based on statements in the xxmaj bible ( e.g. , the xxmaj lord 's xxmaj prayer , stating that the xxmaj father is in xxmaj heaven ) , others based on theological reasoning . \n",
              " \n",
              "  xxmaj in xxmaj islamic theology , xxmaj god ( xxmaj arabic : xxunk xxmaj allāh ) is the all - powerful and all - knowing creator , sustainer , xxunk and judge of everything in existence . xxmaj islam emphasizes that xxmaj god is strictly singular ( xxunk ) unique ( xxunk ) and inherently xxmaj one ( xxunk ) , all - merciful and omnipotent . xxmaj according to xxmaj islamic teachings , xxmaj god exists without place and according to the xxmaj quran , \" xxmaj no vision can grasp him , but xxmaj his grasp is over all vision : xxmaj he is above all comprehension , yet is acquainted with all things . \" xxmaj god , as referenced in the xxmaj quran , is the only xxmaj god . xxmaj islamic tradition also describes the 99 names of xxmaj god . xxmaj these 99 names describe attributes of xxmaj god , including xxmaj most xxmaj merciful , xxmaj the xxmaj just , xxmaj the xxmaj peace and xxmaj blessing , and the xxmaj guardian . \n",
              "  xxmaj islamic belief in xxmaj god is distinct from xxmaj christianity in that xxmaj god has no progeny . xxmaj this belief is summed up in chapter 112 of the xxmaj quran titled xxmaj al - xxmaj xxunk , which states \" xxmaj say , he is xxmaj allah ( who is ) one , xxmaj allah is the xxmaj eternal , the xxmaj absolute . xxmaj he does not xxunk nor was he begotten . xxmaj nor is there to xxmaj him any xxunk xxunk ] \n",
              " \n",
              " \n",
              "  = = = xxmaj scriptures = = = \n",
              " \n",
              "  xxmaj all these religions rely on a body of scriptures , some of which are considered to be the word of xxmaj god — hence sacred and xxunk — and some the work of religious men , revered mainly by tradition and to the extent that they are considered to have been divinely inspired , if not dictated , by the divine being . \n",
              "  xxmaj the sacred scriptures of xxmaj judaism are the xxmaj tanakh , a xxmaj hebrew acronym standing for xxmaj torah ( xxmaj law or xxmaj teachings ) , xxmaj nevi'im ( xxmaj prophets ) and xxmaj ketuvim ( xxmaj writings ) . xxmaj these are complemented by and supplemented with various ( originally oral ) traditions : xxmaj midrash , the xxmaj mishnah , the xxmaj talmud and collected rabbinical writings . xxmaj the xxmaj tanakh ( or xxmaj hebrew xxmaj bible ) was composed between xxunk xxup bce , and 400 xxup bce by xxmaj jewish prophets , kings , and priests . \n",
              "  xxmaj the xxmaj hebrew text of the xxmaj tanakh , and the xxmaj torah in particular is considered holy , down to the last letter : transcribing is done with painstaking care . xxmaj an error in a single letter , ornamentation or symbol of the 300,000 + stylized letters that make up the xxmaj hebrew xxmaj torah text renders a xxmaj torah scroll unfit for use ; hence the skills of a xxmaj torah scribe are specialist skills , and a scroll takes considerable time to write and check . \n",
              " \n",
              "  xxmaj the sacred scriptures of most xxmaj christian groups are the xxmaj old xxmaj testament and the xxmaj new xxmaj testament . xxmaj latin xxmaj bibles originally contained 73 books ; however , 7 books , collectively called the xxmaj apocrypha or xxmaj deuterocanon depending on one 's opinion of them , were removed by xxmaj martin xxmaj luther due to a lack of original xxmaj hebrew sources , and now vary on their inclusion between denominations . xxmaj greek xxmaj bibles contain additional materials . \n",
              "  xxmaj the xxmaj new xxmaj testament comprises four accounts of the life and teachings of xxmaj jesus ( the xxmaj four xxmaj gospels ) , as well as several other writings ( the epistles ) and the xxmaj book of xxmaj revelation . xxmaj they are usually considered to be divinely inspired , and together comprise the xxmaj christian xxmaj bible . \n",
              "  xxmaj the vast majority of xxmaj christian faiths ( including xxmaj catholicism , xxmaj orthodox xxmaj christianity , and most forms of xxmaj protestantism ) recognize that the xxmaj gospels were passed on by oral tradition , and were not set to paper until decades after the resurrection of xxmaj jesus and that the extant versions are copies of those originals . xxmaj the version of the xxmaj bible considered to be most valid ( in the sense of best conveying the true meaning of the word of xxmaj god ) has varied considerably : the xxmaj greek xxmaj septuagint , the xxmaj syriac xxmaj peshitta , the xxmaj latin xxmaj vulgate , the xxmaj english xxmaj king xxmaj james xxmaj version and the xxmaj russian xxmaj xxunk xxmaj bible have been authoritative to different communities at different times . \n",
              "  xxmaj the sacred scriptures of the xxmaj christian xxmaj bible are complemented by a large body of writings by individual xxmaj christians and councils of xxmaj christian leaders ( see canon law ) . xxmaj some xxmaj christian churches and denominations consider certain additional writings to be binding ; other xxmaj christian groups consider only the xxmaj bible to be binding ( sola scriptura ) . \n",
              " \n",
              "  xxmaj islam 's holiest book is the xxmaj quran , comprising 114 xxmaj suras ( \" chapters of the xxmaj qur'an \" ) . xxmaj however , xxmaj muslims also believe in the religious texts of xxmaj judaism and xxmaj christianity in their original forms , albeit not the current versions . xxmaj according to the xxmaj quran ( and mainstream xxmaj muslim belief ) , the verses of the xxmaj quran were revealed by xxmaj god through the xxmaj archangel xxmaj xxunk to xxmaj muhammad on separate occasions . xxmaj these revelations were written down and also memorized by hundreds of companions of xxmaj muhammad . xxmaj these multiple sources were collected into one official copy . xxmaj after the death of xxmaj mohammed , xxmaj quran was copied on several copies and xxmaj caliph xxmaj uthman provided these copies to different cities of xxmaj islamic xxmaj empire . \n",
              "  xxmaj the xxmaj quran mentions and xxunk several of the xxmaj israelite prophets , including xxmaj moses and xxmaj jesus , among others ( see also : xxmaj prophets of xxmaj islam ) . xxmaj the stories of these prophets are very similar to those in the xxmaj bible . xxmaj however , the detailed precepts of the xxmaj tanakh and the xxmaj new xxmaj testament are not adopted outright ; they are replaced by the new commandments accepted as revealed directly by xxmaj god ( through xxmaj gabriel ) to xxmaj muhammad and codified in the xxmaj quran . \n",
              "  xxmaj like the xxmaj jews with the xxmaj torah , xxmaj muslims consider the original xxmaj arabic text of the xxmaj quran as xxunk and holy to the last letter , and any translations are considered to be interpretations of the meaning of the xxmaj quran , as only the original xxmaj arabic text is considered to be the divine scripture . xxmaj like the xxmaj rabbinic xxmaj oral xxmaj law to the xxmaj hebrew xxmaj bible , the xxmaj quran is complemented by the xxmaj hadith , a set of books by later authors recording the sayings of the prophet xxmaj muhammad . xxmaj the xxmaj hadith interpret and elaborate xxmaj qur'anic precepts . xxmaj islamic scholars have categorized each xxmaj hadith at one of the following levels of authenticity or xxunk : genuine ( sahih ) , fair ( hasan ) or weak ( xxunk the 9th century , six major xxmaj hadith collections were accepted as reliable to xxmaj sunni xxmaj muslims . \n",
              " \n",
              "  xxmaj sahih al - xxmaj bukhari \n",
              "  xxmaj sahih xxmaj muslim \n",
              "  xxmaj sunan ibn xxmaj xxunk \n",
              "  xxmaj sunan xxmaj abu xxmaj xxunk \n",
              "  xxmaj xxunk al - xxmaj xxunk \n",
              "  xxmaj sunan an - xxunk xxmaj muslims , however , refer to other authenticated hadiths instead . xxmaj they are known collectively as xxmaj the xxmaj four xxmaj books . \n",
              "  xxmaj the xxmaj hadith and the life story of xxmaj muhammad ( sira ) form the xxmaj sunnah , an authoritative supplement to the xxmaj quran . xxmaj the legal opinions of xxmaj islamic jurists ( xxmaj xxunk ) provide another source for the daily practice and interpretation of xxmaj islamic tradition ( see xxmaj fiqh . ) \n",
              "  xxmaj the xxmaj quran contains repeated references to the \" religion of xxmaj abraham \" ( see xxmaj suras xxunk ; xxunk ; xxunk ; xxunk ; xxunk ; xxunk ) . xxmaj in the xxmaj quran , this expression refers specifically to xxmaj islam ; sometimes in contrast to xxmaj christianity and xxmaj judaism , as in xxmaj sura xxunk , for example : ' xxmaj they say : \" xxmaj become xxmaj jews or xxmaj christians if ye would be guided ( to salvation ) . \" xxmaj say thou ( o xxmaj muslims ) : \" xxmaj nay ! ( i would rather ) the xxmaj religion of xxmaj abraham the xxmaj true , and he joined not gods with xxmaj god . \" ' xxmaj in the xxmaj quran , xxmaj abraham is declared to have been a xxmaj muslim ( a hanif , more accurately a \" primordial monotheist \" ) , not a xxmaj jew nor a xxmaj christian ( xxmaj sura xxunk ) . \n",
              " \n",
              " \n",
              "  = = = xxmaj eschatology = = = \n",
              " \n",
              "  xxmaj in the major xxmaj abrahamic religions , there exists the expectation of an individual who will herald the time of the end or bring about the xxmaj kingdom of xxmaj god on xxmaj earth ; in other words , the xxmaj messianic prophecy . xxmaj judaism awaits the coming of the xxmaj jewish xxmaj messiah ; the xxmaj jewish concept of xxmaj messiah differs from the xxmaj christian concept in several significant ways , despite the same term being applied to both . xxmaj the xxmaj jewish xxmaj messiah is not seen as a \" god \" , but as a mortal man who by his holiness is worthy of that description . xxmaj his appearance is not the end of history , rather it signals the coming of the world to come . \n",
              "  xxmaj christianity awaits the xxmaj second xxmaj coming of xxmaj christ , though xxmaj full xxmaj preterists believe this has already happened . xxmaj islam awaits both the second coming of xxmaj jesus ( to complete his life and die ) and the coming of xxmaj mahdi ( xxmaj sunnis in his first incarnation , xxmaj shia as the return of xxmaj muhammad al - xxmaj mahdi ) . \n",
              "  xxmaj most xxmaj abrahamic religions agree that a human being comprises the body , which dies , and the soul , which is capable of remaining alive beyond human death and carries the person 's essence , and that xxmaj god will judge each person 's life accordingly on the xxmaj day of xxmaj judgement . xxmaj the importance of this and the focus on it , as well as the precise criteria and end result , differ between religions . xxmaj judaism 's views on the afterlife ( \" the xxmaj next xxmaj world \" ) are quite diverse . xxmaj this can be attributed to the fact that although there clearly are traditions in the xxmaj hebrew xxmaj bible of an afterlife ( see xxmaj xxunk and the xxmaj witch of xxmaj endor ) , xxmaj judaism focuses on this life and how to lead a holy life to please xxmaj god , rather than future reward . \n",
              "  xxmaj christians have more diverse and definite teachings on the end times and what constitutes afterlife . xxmaj most xxmaj christian approaches either include different abodes for the dead ( xxmaj heaven , xxmaj hell , xxmaj limbo , xxmaj purgatory ) or universal reconciliation because all souls are made in the image of xxmaj god . a small minority teach xxunk , the doctrine that those persons who are not reconciled to xxmaj god simply cease to exist . \n",
              "  xxmaj in xxmaj islam , xxmaj god is said to be \" xxmaj most xxmaj compassionate and xxmaj most xxmaj merciful \" ( xxmaj quran 1:2 , as well as the start of all xxmaj suras but one ) . xxmaj however , xxmaj god is also \" xxmaj most xxmaj just \" ; xxmaj islam prescribes a literal xxmaj hell for those who disobey xxmaj god and commit gross sin . xxmaj those who obey xxmaj god and submit to xxmaj god will be rewarded with their own place in xxmaj paradise . xxmaj while sinners are punished with fire , there are also many other forms of punishment described , depending on the sin committed ; xxmaj hell is divided into numerous levels . \n",
              "  xxmaj those who worship and remember xxmaj god are promised eternal abode in a physical and spiritual xxmaj paradise . xxmaj heaven is divided into eight levels , with the highest level of xxmaj paradise being the reward of those who have been most virtuous , the prophets , and those killed while fighting for xxmaj allah ( martyrs ) . \n",
              "  xxmaj upon repentance to xxmaj god , many sins can be forgiven , on the condition they are not repeated , as xxmaj god is supremely merciful . xxmaj additionally , those who believe in xxmaj god , but have led sinful lives , may be punished for a time , and then eventually released into xxmaj paradise . xxmaj if anyone dies in a state of xxmaj shirk ( i.e. associating xxmaj god in any way , such as claiming that xxmaj he is equal with anything or denying xxmaj him ) , this is not xxunk — he or she will stay forever in xxmaj hell . \n",
              "  xxmaj once a person is admitted to xxmaj paradise , this person will abide there for eternity . \n",
              " \n",
              " \n",
              "  = = = xxmaj worship and religious rites = = = \n",
              " \n",
              "  xxmaj worship , ceremonies and religion - related customs differ substantially among the xxmaj abrahamic religions . xxmaj among the few similarities are a seven - day cycle in which one day is nominally reserved for worship , prayer or other religious activities — xxmaj shabbat , xxmaj sabbath , or jumu'ah ; this custom is related to the biblical story of xxmaj genesis , where xxmaj god created the universe in six days and rested in the seventh . \n",
              "  xxmaj orthodox xxmaj judaism practice is guided by the interpretation of the xxmaj torah and the xxmaj talmud . xxmaj before the destruction of the xxmaj temple in xxmaj jerusalem , xxmaj jewish priests offered sacrifices there two times daily ; since then , the practice has been replaced , until the xxmaj temple is rebuilt , by xxmaj jewish men being required to pray three times daily , including the chanting of the xxmaj torah , and facing in the direction of xxmaj jerusalem 's xxmaj temple xxmaj mount . xxmaj other practices include circumcision , dietary laws , xxmaj shabbat , xxmaj passover , xxmaj torah study , xxmaj tefillin , purity and others . xxmaj conservative xxmaj judaism , xxmaj reform xxmaj judaism and the xxmaj reconstructionist movement all move away , in different degrees , from the strict tradition of the law . \n",
              "  xxmaj jewish women 's prayer obligations vary by denomination ; in contemporary xxmaj orthodox practice , women do not read from the xxmaj torah and are only required to say certain parts of these daily services . \n",
              "  xxmaj all versions of xxmaj judaism share a common , specialized calendar , containing many festivals . xxmaj the calendar is lunisolar , with lunar months and a solar year ( an extra month is added every second or third year to allow the shorter lunar year to \" catch up \" to the solar year ) . xxmaj all streams observe the same festivals , but some emphasize them differently . xxmaj as is usual with its extensive law system , the xxmaj orthodox have the most complex manner of observing the festivals , while the xxmaj reform pay more attention to the simple symbolism of each one . \n",
              "  xxmaj christian worship varies from denomination to denomination . xxmaj individual prayer is usually not ritualised , while group prayer may be ritual or non - ritual according to the occasion . xxmaj during church services , some form of liturgy is frequently followed . xxmaj rituals are performed during sacraments , which also vary from denomination to denomination and usually include xxmaj baptism and xxmaj communion , and may also include xxmaj confirmation , xxmaj confession , xxmaj last xxmaj rites and xxmaj holy xxmaj orders . \n",
              "  xxmaj catholic worship practice is governed by the xxmaj roman xxmaj missal and other documents . xxmaj individuals , churches and denominations place different emphasis on ritual — some denominations consider most ritual xxunk,xxbos xxmaj the xxmaj gospel of xxmaj nicodemus , also known as the xxmaj acts of xxmaj pilate ( xxmaj latin : xxmaj acta xxmaj xxunk ; xxmaj greek : xxmaj xxunk xxmaj xxunk ) , is an apocryphal gospel claimed to have been derived from an original xxmaj hebrew work written by xxmaj nicodemus , who appears in the xxmaj gospel of xxmaj john as an associate of xxmaj jesus . xxmaj the title \" xxmaj gospel of xxmaj nicodemus \" is medieval in origin . xxmaj the dates of its xxunk sections are uncertain , but according to the 1907 edition of the xxmaj catholic xxmaj encyclopedia scholars agree in assigning the resulting work to the middle of the fourth century xxunk section about xxmaj pilate is an older text found in the xxmaj greek xxmaj acts of xxmaj peter and xxmaj paul and , according to the surviving version , is an official document from xxmaj pontius xxmaj pilate ( or composed from reports at the xxunk at xxmaj jerusalem ) reporting events in xxmaj judea to xxmaj emperor xxmaj tiberius , and referring to the crucifixion of xxmaj jesus , as well as his miracles . \n",
              " \n",
              " \n",
              "  = = xxmaj history and authenticity = = \n",
              "  xxmaj the oldest sections of the book appear first in xxmaj greek . xxmaj the text contains multiple parts , which are uneven in style and would seem to be by different hands . xxmaj according to the xxmaj acts of xxmaj pilate , the original version was preserved in the xxunk at xxmaj jerusalem . xxmaj the question of the original language is debated . xxmaj beyond xxmaj greek , the versions in xxmaj latin , xxmaj syriac , xxmaj coptic , xxmaj georgian , xxmaj slavonic , and other languages have survived . xxmaj the prevailing view is that the xxmaj christian xxmaj acts of xxmaj pilate were first devised and published as a counter blast to the pagan xxmaj acts .. xxmaj it can be shown , that the work behind the xxmaj christian xxmaj acts of xxmaj pilate must have originated very early . \"the first part of the book , containing the story of the xxmaj passion and xxmaj resurrection , is not earlier than the fourth century . xxmaj its object in the main is to furnish xxunk testimony to the resurrection . xxmaj attempts have been made to show that it is of early date - that it is , for instance , the writing which xxmaj justin xxmaj martyr meant when in his xxmaj apology he referred his heathen readers to the ’ xxmaj acts ’ of xxmaj christ ’s trial preserved among the archives of xxmaj rome . xxmaj the truth of that matter is that he simply assumed that such records must exist . xxmaj false ’ acts ’ of the trial were written in the xxmaj pagan interest under xxmaj xxunk , and introduced into schools early in the fourth century . xxmaj it is imagined by some that our book was a xxunk to these . xxmaj the account of the xxmaj descent into xxmaj hell ( xxmaj part xxup ii ) is an addition to the xxmaj acta . xxmaj it does not appear in any xxmaj oriental version , and the xxmaj greek copies are rare . xxmaj it is in xxmaj latin that it has chiefly flourished , and has been the parent of versions in every xxmaj european language . \" \n",
              " \n",
              " \n",
              "  = = xxmaj core texts = = \n",
              "  xxmaj the main body of the xxmaj gospel of xxmaj nicodemus is in two sections , with an appendix , xxmaj xxunk ad xxmaj xxunk ( the xxmaj harrowing of xxmaj hell ) . xxmaj the first ( chapters i – xi ) contains the trial of xxmaj jesus based upon xxmaj luke 23 . xxmaj in addition to the xxmaj greek and xxmaj latin witnesses of the first part , there are three other notable ancient versions including xxmaj syriac or xxmaj aramaic ( also known as xxmaj hebrew in the 1st century ) , xxmaj armenian , and xxmaj coptic . xxmaj the second part ( xii – xvi ) concerns the xxmaj resurrection . xxmaj in it , xxmaj xxunk and xxmaj xxunk , the two souls raised from the dead after the xxmaj crucifixion , relate to the xxmaj sanhedrin the circumstances of the descent of xxmaj christ to xxmaj limbo . a literature of miracle - tale romance developed around a conflated \" xxmaj xxunk xxmaj xxunk \" as an author of further texts . xxmaj the xxmaj harrowing of xxmaj hell episode depicts xxmaj st xxmaj xxunk accompanying xxmaj christ in xxmaj hell , and the deliverance of the righteous xxmaj old xxmaj testament patriarchs . \n",
              "  xxmaj an appended text is a written report made by xxmaj pontius xxmaj pilate to xxmaj claudius , containing a description of the crucifixion , as well as an account of the resurrection of xxmaj jesus ; both are presented as an official report . xxmaj one series of xxmaj latin manuscripts includes as an appendix or continuation , the episode xxmaj xxunk xxmaj xxunk xxmaj xxunk ( \" xxmaj the xxmaj cure of xxmaj tiberius \" ) , the oldest form of the xxmaj veronica legend , according to the xxmaj catholic xxmaj encyclopedia , in which xxmaj emperor xxmaj tiberius is cured of his xxunk . ( xxmaj compare the legend of the xxmaj image of xxmaj edessa . ) \n",
              " \n",
              " \n",
              "  = = xxmaj dating and readership = = \n",
              "  xxmaj as the xxmaj church historian xxmaj eusebius of xxmaj caesarea ( writing c. 325 ) shows no acquaintance with this xxmaj gospel , historians assume that it xxunk this time . xxmaj eusebius was aware of related texts : the \" xxmaj letters of xxmaj pilate \" referred to by xxmaj justin and xxmaj tertullian as well as an anti - xxmaj christian text called xxmaj acts of xxmaj pilate , which was prescribed for reading in schools under the emperor xxmaj xxunk during the xxmaj xxunk xxmaj persecution . \" xxmaj we are forced to admit that [ the xxmaj christian xxmaj acts of xxmaj pilate ] is of later origin , and scholars agree in assigning it to the middle of the fourth century . \" xxmaj epiphanius refers to an xxmaj acta xxmaj xxunk ( c. 376 ) , but the extant xxmaj greek texts show evidence of later editing . \n",
              "  xxmaj justin xxmaj martyr wrote , \" xxmaj and that these things did happen , you can ascertain from the xxmaj acts of xxmaj pontius xxmaj pilate . \" xxmaj the xxmaj apology letters were written and addressed by name to the xxmaj roman xxmaj emperor xxmaj pius and the xxmaj roman xxmaj governor xxmaj xxunk . xxmaj all three of these men lived between xxup ad 138 – 161 . \n",
              "  xxmaj the xxmaj acta xxmaj xxunk have had a long history inspiring devotional works . a xxmaj xxunk xxunk la xxmaj xxunk del xxunk xxunk xxmaj xxunk xxmaj christo , drawing in part on xxmaj acta xxmaj xxunk for its expanded anecdotal elements in the xxmaj passion , was printed twenty - eight times in xxmaj italy between about 1476 and 1500 , and inspired the depiction of xxmaj christ before xxmaj pilate by xxmaj xxunk . \n",
              " \n",
              " \n",
              "  = = xxmaj naming of xxmaj new xxmaj testament figures = = \n",
              "  xxmaj the xxmaj gospel of xxmaj nicodemus names several minor xxmaj new xxmaj testament figures who were not named in the canonical texts ; for example , the soldier who speared xxmaj jesus on the cross is named as xxmaj xxunk and the two criminals crucified beside xxmaj jesus are named as xxmaj xxunk and xxmaj xxunk . \n",
              " \n",
              " \n",
              "  = = xxmaj see also = = \n",
              "  xxmaj list of xxmaj gospels \n",
              " \n",
              " \n",
              "  = = xxmaj references = = \n",
              " \n",
              " \n",
              "  = = xxmaj external links = = \n",
              "  xxmaj the xxmaj report of xxmaj pilate to the xxmaj emperor xxmaj claudius e - text , xxup xxunk xxmaj james , translator \n",
              "  xxmaj herbermann , xxmaj charles , ed . ( 1913 ) . \" xxmaj acta xxmaj xxunk \" . xxmaj catholic xxmaj encyclopedia . xxmaj new xxmaj york : xxmaj robert xxmaj appleton xxmaj company . \n",
              "  \" xxmaj gospel of xxmaj nicodemus , or xxmaj acts of xxmaj pilate \" ( xxup pdf ) . xxmaj the xxmaj apocryphal xxmaj new xxmaj testament . xxmaj translated by xxmaj james , xxup xxunk xxmaj oxford : xxmaj clarendon xxmaj press . 1924 . xxmaj archived from the original ( xxup pdf ) on 5 xxmaj july 2015 . \n",
              "  xxmaj simmons , xxmaj austin ( 2010 ) . \" xxmaj the xxmaj xxunk of the xxmaj franks xxmaj casket \" ( xxup pdf ) . xxmaj archived from the original ( xxup pdf ) on 3 xxmaj march 2012 . xxmaj an apocryphal tradition reflected in the xxmaj xxunk xxmaj xxunk ( see xxmaj old xxmaj english literature ) very likely influenced the art carved into the back of the xxmaj franks xxmaj casket ; this article argues that the xxmaj xxunk ad xxmaj xxunk is alluded to on the casket 's ill - understood right side .\n",
              "y: CategoryList\n",
              "R,R,R,R,R\n",
              "Path: /content/drive/My Drive/AI & Tech Research/Religion of GPT2/fastai;\n",
              "\n",
              "Test: None, model=SequentialRNN(\n",
              "  (0): MultiBatchEncoder(\n",
              "    (module): AWD_LSTM(\n",
              "      (encoder): Embedding(60000, 400, padding_idx=1)\n",
              "      (encoder_dp): EmbeddingDropout(\n",
              "        (emb): Embedding(60000, 400, padding_idx=1)\n",
              "      )\n",
              "      (rnns): ModuleList(\n",
              "        (0): WeightDropout(\n",
              "          (module): LSTM(400, 1152, batch_first=True)\n",
              "        )\n",
              "        (1): WeightDropout(\n",
              "          (module): LSTM(1152, 1152, batch_first=True)\n",
              "        )\n",
              "        (2): WeightDropout(\n",
              "          (module): LSTM(1152, 400, batch_first=True)\n",
              "        )\n",
              "      )\n",
              "      (input_dp): RNNDropout()\n",
              "      (hidden_dps): ModuleList(\n",
              "        (0): RNNDropout()\n",
              "        (1): RNNDropout()\n",
              "        (2): RNNDropout()\n",
              "      )\n",
              "    )\n",
              "  )\n",
              "  (1): PoolingLinearClassifier(\n",
              "    (layers): Sequential(\n",
              "      (0): BatchNorm1d(1200, eps=1e-05, momentum=0.1, affine=True, track_running_stats=True)\n",
              "      (1): Dropout(p=0.12, inplace=False)\n",
              "      (2): Linear(in_features=1200, out_features=50, bias=True)\n",
              "      (3): ReLU(inplace=True)\n",
              "      (4): BatchNorm1d(50, eps=1e-05, momentum=0.1, affine=True, track_running_stats=True)\n",
              "      (5): Dropout(p=0.1, inplace=False)\n",
              "      (6): Linear(in_features=50, out_features=2, bias=True)\n",
              "    )\n",
              "  )\n",
              "), opt_func=functools.partial(<class 'torch.optim.adam.Adam'>, betas=(0.9, 0.99)), loss_func=FlattenedLoss of CrossEntropyLoss(), metrics=[<function accuracy at 0x7fc8b0fb9ea0>], true_wd=True, bn_wd=True, wd=0.01, train_bn=True, path=PosixPath('/content/drive/My Drive/AI & Tech Research/Religion of GPT2/fastai'), model_dir='models', callback_fns=[functools.partial(<class 'fastai.basic_train.Recorder'>, add_time=True, silent=False)], callbacks=[...], layer_groups=[Sequential(\n",
              "  (0): Embedding(60000, 400, padding_idx=1)\n",
              "  (1): EmbeddingDropout(\n",
              "    (emb): Embedding(60000, 400, padding_idx=1)\n",
              "  )\n",
              "), Sequential(\n",
              "  (0): WeightDropout(\n",
              "    (module): LSTM(400, 1152, batch_first=True)\n",
              "  )\n",
              "  (1): RNNDropout()\n",
              "), Sequential(\n",
              "  (0): WeightDropout(\n",
              "    (module): LSTM(1152, 1152, batch_first=True)\n",
              "  )\n",
              "  (1): RNNDropout()\n",
              "), Sequential(\n",
              "  (0): WeightDropout(\n",
              "    (module): LSTM(1152, 400, batch_first=True)\n",
              "  )\n",
              "  (1): RNNDropout()\n",
              "), Sequential(\n",
              "  (0): PoolingLinearClassifier(\n",
              "    (layers): Sequential(\n",
              "      (0): BatchNorm1d(1200, eps=1e-05, momentum=0.1, affine=True, track_running_stats=True)\n",
              "      (1): Dropout(p=0.12, inplace=False)\n",
              "      (2): Linear(in_features=1200, out_features=50, bias=True)\n",
              "      (3): ReLU(inplace=True)\n",
              "      (4): BatchNorm1d(50, eps=1e-05, momentum=0.1, affine=True, track_running_stats=True)\n",
              "      (5): Dropout(p=0.1, inplace=False)\n",
              "      (6): Linear(in_features=50, out_features=2, bias=True)\n",
              "    )\n",
              "  )\n",
              ")], add_time=True, silent=False)\n",
              "alpha: 2.0\n",
              "beta: 1.0], layer_groups=[Sequential(\n",
              "  (0): Embedding(60000, 400, padding_idx=1)\n",
              "  (1): EmbeddingDropout(\n",
              "    (emb): Embedding(60000, 400, padding_idx=1)\n",
              "  )\n",
              "), Sequential(\n",
              "  (0): WeightDropout(\n",
              "    (module): LSTM(400, 1152, batch_first=True)\n",
              "  )\n",
              "  (1): RNNDropout()\n",
              "), Sequential(\n",
              "  (0): WeightDropout(\n",
              "    (module): LSTM(1152, 1152, batch_first=True)\n",
              "  )\n",
              "  (1): RNNDropout()\n",
              "), Sequential(\n",
              "  (0): WeightDropout(\n",
              "    (module): LSTM(1152, 400, batch_first=True)\n",
              "  )\n",
              "  (1): RNNDropout()\n",
              "), Sequential(\n",
              "  (0): PoolingLinearClassifier(\n",
              "    (layers): Sequential(\n",
              "      (0): BatchNorm1d(1200, eps=1e-05, momentum=0.1, affine=True, track_running_stats=True)\n",
              "      (1): Dropout(p=0.12, inplace=False)\n",
              "      (2): Linear(in_features=1200, out_features=50, bias=True)\n",
              "      (3): ReLU(inplace=True)\n",
              "      (4): BatchNorm1d(50, eps=1e-05, momentum=0.1, affine=True, track_running_stats=True)\n",
              "      (5): Dropout(p=0.1, inplace=False)\n",
              "      (6): Linear(in_features=50, out_features=2, bias=True)\n",
              "    )\n",
              "  )\n",
              ")], add_time=True, silent=False)"
            ]
          },
          "metadata": {
            "tags": []
          },
          "execution_count": 18
        }
      ]
    },
    {
      "cell_type": "markdown",
      "metadata": {
        "colab_type": "text",
        "id": "jnkU398H0Mzj"
      },
      "source": [
        "### Change *check* to test a prediction"
      ]
    },
    {
      "cell_type": "code",
      "metadata": {
        "id": "eT1WZAYoP7bw",
        "colab_type": "code",
        "colab": {
          "base_uri": "https://localhost:8080/",
          "height": 209
        },
        "outputId": "8795a859-a3f6-4898-a866-4d0149bc7e61"
      },
      "source": [
        "import pandas as pd\n",
        "\n",
        "predfile='/content/drive/My Drive/AI & Tech Research/Religion of GPT2/GPTHuggingFaceRes.csv'\n",
        "prdf=pd.read_csv(predfile)\n"
      ],
      "execution_count": null,
      "outputs": [
        {
          "output_type": "error",
          "ename": "NameError",
          "evalue": "ignored",
          "traceback": [
            "\u001b[0;31m---------------------------------------------------------------------------\u001b[0m",
            "\u001b[0;31mNameError\u001b[0m                                 Traceback (most recent call last)",
            "\u001b[0;32m<ipython-input-2-eefd6215db1d>\u001b[0m in \u001b[0;36m<module>\u001b[0;34m()\u001b[0m\n\u001b[1;32m      1\u001b[0m \u001b[0mpredfile\u001b[0m\u001b[0;34m=\u001b[0m\u001b[0;34m'/content/drive/My Drive/AI & Tech Research/Religion of GPT2/GPTHuggingFaceRes.csv'\u001b[0m\u001b[0;34m\u001b[0m\u001b[0;34m\u001b[0m\u001b[0m\n\u001b[0;32m----> 2\u001b[0;31m \u001b[0mprdf\u001b[0m\u001b[0;34m=\u001b[0m\u001b[0mpd\u001b[0m\u001b[0;34m.\u001b[0m\u001b[0mread_csv\u001b[0m\u001b[0;34m(\u001b[0m\u001b[0mpredfile\u001b[0m\u001b[0;34m)\u001b[0m\u001b[0;34m\u001b[0m\u001b[0;34m\u001b[0m\u001b[0m\n\u001b[0m",
            "\u001b[0;31mNameError\u001b[0m: name 'pd' is not defined"
          ]
        }
      ]
    },
    {
      "cell_type": "code",
      "metadata": {
        "id": "OsMdwDoDQeFZ",
        "colab_type": "code",
        "colab": {
          "base_uri": "https://localhost:8080/",
          "height": 280
        },
        "outputId": "e34db31f-8312-46df-d3f2-5557f20f2896"
      },
      "source": [
        "import nltk\n",
        "nltk.download('punkt')\n",
        "for para in prdf.iterrows():\n",
        "  print (para[1])\n",
        "  sent=nltk.tokenize.sent_tokenize(para[1][1])\n",
        "  for s in sent:\n",
        "    print(s)\n",
        "    pred=learn_c.predict(s)\n",
        "    print('cat={} confidence for R={} confidence for S={}'.format(pred[0],pred[2][0],pred[2][1]))\n",
        "  input('press enter to continue')"
      ],
      "execution_count": null,
      "outputs": [
        {
          "output_type": "stream",
          "text": [
            "[nltk_data] Downloading package punkt to /root/nltk_data...\n",
            "[nltk_data]   Unzipping tokenizers/punkt.zip.\n"
          ],
          "name": "stdout"
        },
        {
          "output_type": "error",
          "ename": "NameError",
          "evalue": "ignored",
          "traceback": [
            "\u001b[0;31m---------------------------------------------------------------------------\u001b[0m",
            "\u001b[0;31mNameError\u001b[0m                                 Traceback (most recent call last)",
            "\u001b[0;32m<ipython-input-1-c9b1d62afa5d>\u001b[0m in \u001b[0;36m<module>\u001b[0;34m()\u001b[0m\n\u001b[1;32m      1\u001b[0m \u001b[0;32mimport\u001b[0m \u001b[0mnltk\u001b[0m\u001b[0;34m\u001b[0m\u001b[0;34m\u001b[0m\u001b[0m\n\u001b[1;32m      2\u001b[0m \u001b[0mnltk\u001b[0m\u001b[0;34m.\u001b[0m\u001b[0mdownload\u001b[0m\u001b[0;34m(\u001b[0m\u001b[0;34m'punkt'\u001b[0m\u001b[0;34m)\u001b[0m\u001b[0;34m\u001b[0m\u001b[0;34m\u001b[0m\u001b[0m\n\u001b[0;32m----> 3\u001b[0;31m \u001b[0;32mfor\u001b[0m \u001b[0mpara\u001b[0m \u001b[0;32min\u001b[0m \u001b[0mprdf\u001b[0m\u001b[0;34m.\u001b[0m\u001b[0miterrows\u001b[0m\u001b[0;34m(\u001b[0m\u001b[0;34m)\u001b[0m\u001b[0;34m:\u001b[0m\u001b[0;34m\u001b[0m\u001b[0;34m\u001b[0m\u001b[0m\n\u001b[0m\u001b[1;32m      4\u001b[0m   \u001b[0mprint\u001b[0m \u001b[0;34m(\u001b[0m\u001b[0mpara\u001b[0m\u001b[0;34m[\u001b[0m\u001b[0;36m1\u001b[0m\u001b[0;34m]\u001b[0m\u001b[0;34m)\u001b[0m\u001b[0;34m\u001b[0m\u001b[0;34m\u001b[0m\u001b[0m\n\u001b[1;32m      5\u001b[0m   \u001b[0msent\u001b[0m\u001b[0;34m=\u001b[0m\u001b[0mnltk\u001b[0m\u001b[0;34m.\u001b[0m\u001b[0mtokenize\u001b[0m\u001b[0;34m.\u001b[0m\u001b[0msent_tokenize\u001b[0m\u001b[0;34m(\u001b[0m\u001b[0mpara\u001b[0m\u001b[0;34m[\u001b[0m\u001b[0;36m1\u001b[0m\u001b[0;34m]\u001b[0m\u001b[0;34m[\u001b[0m\u001b[0;36m1\u001b[0m\u001b[0;34m]\u001b[0m\u001b[0;34m)\u001b[0m\u001b[0;34m\u001b[0m\u001b[0;34m\u001b[0m\u001b[0m\n",
            "\u001b[0;31mNameError\u001b[0m: name 'prdf' is not defined"
          ]
        }
      ]
    },
    {
      "cell_type": "code",
      "metadata": {
        "id": "b8lQTMY_RFQP",
        "colab_type": "code",
        "colab": {}
      },
      "source": [
        ""
      ],
      "execution_count": null,
      "outputs": []
    },
    {
      "cell_type": "code",
      "metadata": {
        "id": "1QKPXCssOyqz",
        "colab_type": "code",
        "colab": {}
      },
      "source": [
        "\n",
        "pred=learn_c.predict(rows['Text'])"
      ],
      "execution_count": null,
      "outputs": []
    },
    {
      "cell_type": "code",
      "metadata": {
        "colab_type": "code",
        "id": "7xy-LzBAukGq",
        "colab": {
          "base_uri": "https://localhost:8080/",
          "height": 136
        },
        "outputId": "cf0fbbce-2eaf-4371-d83e-e303909fc558"
      },
      "source": [
        "#interp = TextClassificationInterpretation.from_learner(learn_c) \n",
        "df_predict=pd.DataFrame(columns=['Book','Chapter','Verse','Cat','Non-paul_likelihood','Paul_likelihood'])\n",
        "for index, rows in df_check.iterrows():\n",
        "    pred=learn_c.predict(rows['Verse_Text'])\n",
        "    #print(pred)\n",
        "    #print('cat='+str(pred[0])+' likelihood of non-paul='+str(pred[2][0])+\" likelihood of paul=\"+str(pred[2][1]))\n",
        "    #interp.show_intrinsic_attention(rows['Verse_Text'])\n",
        "    df_predict=df_predict.append({'Book':rows['Book'],'Chapter':rows['Chapter'],'Verse':rows['Verse_Number'],\n",
        "                                 'Cat':str(pred[0]),'Non-paul_likelihood':pred[2][0].item(), 'Paul_likelihood':pred[2][1].item()}, ignore_index=True)\n",
        "logwriter.append_row([getloggerdt(),'ran prediction for '+check])\n"
      ],
      "execution_count": null,
      "outputs": [
        {
          "output_type": "execute_result",
          "data": {
            "text/plain": [
              "{'spreadsheetId': '15atohUJtoredXMk8Zw-EegqvStM--huxZlpsIhrFVsA',\n",
              " 'tableRange': 'nasb_log!A1:B39',\n",
              " 'updates': {'spreadsheetId': '15atohUJtoredXMk8Zw-EegqvStM--huxZlpsIhrFVsA',\n",
              "  'updatedCells': 2,\n",
              "  'updatedColumns': 2,\n",
              "  'updatedRange': 'nasb_log!A40:B40',\n",
              "  'updatedRows': 1}}"
            ]
          },
          "metadata": {
            "tags": []
          },
          "execution_count": 354
        }
      ]
    },
    {
      "cell_type": "code",
      "metadata": {
        "colab_type": "code",
        "id": "DamHZVz5ukGq",
        "colab": {
          "base_uri": "https://localhost:8080/",
          "height": 204
        },
        "outputId": "4cd543cb-e33e-495d-f5ce-bd562b915bac"
      },
      "source": [
        "df_predict.head()\n"
      ],
      "execution_count": null,
      "outputs": [
        {
          "output_type": "execute_result",
          "data": {
            "text/html": [
              "<div>\n",
              "<style scoped>\n",
              "    .dataframe tbody tr th:only-of-type {\n",
              "        vertical-align: middle;\n",
              "    }\n",
              "\n",
              "    .dataframe tbody tr th {\n",
              "        vertical-align: top;\n",
              "    }\n",
              "\n",
              "    .dataframe thead th {\n",
              "        text-align: right;\n",
              "    }\n",
              "</style>\n",
              "<table border=\"1\" class=\"dataframe\">\n",
              "  <thead>\n",
              "    <tr style=\"text-align: right;\">\n",
              "      <th></th>\n",
              "      <th>Book</th>\n",
              "      <th>Chapter</th>\n",
              "      <th>Verse</th>\n",
              "      <th>Cat</th>\n",
              "      <th>Non-paul_likelihood</th>\n",
              "      <th>Paul_likelihood</th>\n",
              "    </tr>\n",
              "  </thead>\n",
              "  <tbody>\n",
              "    <tr>\n",
              "      <th>0</th>\n",
              "      <td>Philemon</td>\n",
              "      <td>Philemon</td>\n",
              "      <td>1</td>\n",
              "      <td>Paul</td>\n",
              "      <td>0.001846</td>\n",
              "      <td>0.998154</td>\n",
              "    </tr>\n",
              "    <tr>\n",
              "      <th>1</th>\n",
              "      <td>Philemon</td>\n",
              "      <td>Philemon</td>\n",
              "      <td>2</td>\n",
              "      <td>Paul</td>\n",
              "      <td>0.000450</td>\n",
              "      <td>0.999550</td>\n",
              "    </tr>\n",
              "    <tr>\n",
              "      <th>2</th>\n",
              "      <td>Philemon</td>\n",
              "      <td>Philemon</td>\n",
              "      <td>3</td>\n",
              "      <td>Paul</td>\n",
              "      <td>0.001958</td>\n",
              "      <td>0.998042</td>\n",
              "    </tr>\n",
              "    <tr>\n",
              "      <th>3</th>\n",
              "      <td>Philemon</td>\n",
              "      <td>Philemon</td>\n",
              "      <td>4</td>\n",
              "      <td>Paul</td>\n",
              "      <td>0.000149</td>\n",
              "      <td>0.999851</td>\n",
              "    </tr>\n",
              "    <tr>\n",
              "      <th>4</th>\n",
              "      <td>Philemon</td>\n",
              "      <td>Philemon</td>\n",
              "      <td>5</td>\n",
              "      <td>Paul</td>\n",
              "      <td>0.039467</td>\n",
              "      <td>0.960533</td>\n",
              "    </tr>\n",
              "  </tbody>\n",
              "</table>\n",
              "</div>"
            ],
            "text/plain": [
              "       Book   Chapter Verse   Cat  Non-paul_likelihood  Paul_likelihood\n",
              "0  Philemon  Philemon     1  Paul             0.001846         0.998154\n",
              "1  Philemon  Philemon     2  Paul             0.000450         0.999550\n",
              "2  Philemon  Philemon     3  Paul             0.001958         0.998042\n",
              "3  Philemon  Philemon     4  Paul             0.000149         0.999851\n",
              "4  Philemon  Philemon     5  Paul             0.039467         0.960533"
            ]
          },
          "metadata": {
            "tags": []
          },
          "execution_count": 355
        }
      ]
    },
    {
      "cell_type": "code",
      "metadata": {
        "colab_type": "code",
        "id": "jVK3e9NEukGr",
        "colab": {
          "base_uri": "https://localhost:8080/",
          "height": 68
        },
        "outputId": "66a36e8f-539d-433c-cc25-f73c1011da1f"
      },
      "source": [
        "mean_res=df_predict.mean(axis=0, numeric_only=True, skipna=True)\n",
        "mean_res"
      ],
      "execution_count": null,
      "outputs": [
        {
          "output_type": "execute_result",
          "data": {
            "text/plain": [
              "Non-paul_likelihood    0.014381\n",
              "Paul_likelihood        0.985619\n",
              "dtype: float64"
            ]
          },
          "metadata": {
            "tags": []
          },
          "execution_count": 356
        }
      ]
    },
    {
      "cell_type": "code",
      "metadata": {
        "colab_type": "code",
        "id": "cpZ-yxDSM-6i",
        "colab": {
          "base_uri": "https://localhost:8080/",
          "height": 170
        },
        "outputId": "e2b2aa3d-eba9-496f-fa79-49eae8d9202b"
      },
      "source": [
        "mean_str=mean_res.to_string()\n",
        "print(mean_str)\n",
        "\n",
        "logwriter.append_row([getloggerdt(),'prediction results '+mean_str])\n"
      ],
      "execution_count": null,
      "outputs": [
        {
          "output_type": "stream",
          "text": [
            "Non-paul_likelihood    0.014381\n",
            "Paul_likelihood        0.985619\n"
          ],
          "name": "stdout"
        },
        {
          "output_type": "execute_result",
          "data": {
            "text/plain": [
              "{'spreadsheetId': '15atohUJtoredXMk8Zw-EegqvStM--huxZlpsIhrFVsA',\n",
              " 'tableRange': 'nasb_log!A1:B40',\n",
              " 'updates': {'spreadsheetId': '15atohUJtoredXMk8Zw-EegqvStM--huxZlpsIhrFVsA',\n",
              "  'updatedCells': 2,\n",
              "  'updatedColumns': 2,\n",
              "  'updatedRange': 'nasb_log!A41:B41',\n",
              "  'updatedRows': 1}}"
            ]
          },
          "metadata": {
            "tags": []
          },
          "execution_count": 357
        }
      ]
    },
    {
      "cell_type": "code",
      "metadata": {
        "colab_type": "code",
        "id": "tZT3bgSjukGs",
        "colab": {
          "base_uri": "https://localhost:8080/",
          "height": 204
        },
        "outputId": "2311fc8f-612e-43b6-cd77-55d4e3cfb6c0"
      },
      "source": [
        "print('Verse categorization')\n",
        "paul_count=df_predict.groupby('Cat').size()\n",
        "print(paul_count)\n",
        "logwriter.append_row([getloggerdt(),'verse categorization= '+paul_count.to_string()])\n"
      ],
      "execution_count": null,
      "outputs": [
        {
          "output_type": "stream",
          "text": [
            "Verse categorization\n",
            "Cat\n",
            "Paul    25\n",
            "dtype: int64\n"
          ],
          "name": "stdout"
        },
        {
          "output_type": "execute_result",
          "data": {
            "text/plain": [
              "{'spreadsheetId': '15atohUJtoredXMk8Zw-EegqvStM--huxZlpsIhrFVsA',\n",
              " 'tableRange': 'nasb_log!A1:B41',\n",
              " 'updates': {'spreadsheetId': '15atohUJtoredXMk8Zw-EegqvStM--huxZlpsIhrFVsA',\n",
              "  'updatedCells': 2,\n",
              "  'updatedColumns': 2,\n",
              "  'updatedRange': 'nasb_log!A42:B42',\n",
              "  'updatedRows': 1}}"
            ]
          },
          "metadata": {
            "tags": []
          },
          "execution_count": 358
        }
      ]
    },
    {
      "cell_type": "code",
      "metadata": {
        "colab_type": "code",
        "hidden": true,
        "id": "31e6CBZtukGt",
        "colab": {
          "base_uri": "https://localhost:8080/",
          "height": 34
        },
        "outputId": "496fffda-2fd1-4940-8a4e-5cbb4e4ec305"
      },
      "source": [
        "#prepare numbers for spreadsheet\n",
        "type(mean_res)\n",
        "mean_res_list=mean_res.to_list()\n",
        "mean_res_list"
      ],
      "execution_count": null,
      "outputs": [
        {
          "output_type": "execute_result",
          "data": {
            "text/plain": [
              "[0.014381215746107045, 0.9856187772750854]"
            ]
          },
          "metadata": {
            "tags": []
          },
          "execution_count": 359
        }
      ]
    },
    {
      "cell_type": "code",
      "metadata": {
        "colab_type": "code",
        "id": "eLJ-jFdHukGt",
        "colab": {
          "base_uri": "https://localhost:8080/",
          "height": 34
        },
        "outputId": "be564c03-426b-4a7f-a9d6-2dffc8fcb24a"
      },
      "source": [
        "#create spreadsheet cells\n",
        "out_list=[check]+mean_res.to_list()+paul_count.to_list()\n",
        "out_list"
      ],
      "execution_count": null,
      "outputs": [
        {
          "output_type": "execute_result",
          "data": {
            "text/plain": [
              "['Philemon', 0.014381215746107045, 0.9856187772750854, 25]"
            ]
          },
          "metadata": {
            "tags": []
          },
          "execution_count": 360
        }
      ]
    },
    {
      "cell_type": "code",
      "metadata": {
        "colab_type": "code",
        "id": "vKK2UY7MukGu",
        "colab": {
          "base_uri": "https://localhost:8080/",
          "height": 231
        },
        "outputId": "bfd151bd-1424-4387-debf-23c9ca6833a5"
      },
      "source": [
        "#post to spreadsheet\n",
        "cell_list=worksheet.range(1,last_col,5,last_col)\n",
        "j=0\n",
        "for cell in cell_list:\n",
        "    cell.value=out_list[j]\n",
        "    j=j+1\n",
        "worksheet.update_cells(cell_list)\n",
        "last_col+=1\n",
        "logwriter.append_row([getloggerdt(),'Posted results to spreadsheet'])\n"
      ],
      "execution_count": null,
      "outputs": [
        {
          "output_type": "error",
          "ename": "IndexError",
          "evalue": "ignored",
          "traceback": [
            "\u001b[0;31m---------------------------------------------------------------------------\u001b[0m",
            "\u001b[0;31mIndexError\u001b[0m                                Traceback (most recent call last)",
            "\u001b[0;32m<ipython-input-361-e05c9a838526>\u001b[0m in \u001b[0;36m<module>\u001b[0;34m()\u001b[0m\n\u001b[1;32m      2\u001b[0m \u001b[0mj\u001b[0m\u001b[0;34m=\u001b[0m\u001b[0;36m0\u001b[0m\u001b[0;34m\u001b[0m\u001b[0;34m\u001b[0m\u001b[0m\n\u001b[1;32m      3\u001b[0m \u001b[0;32mfor\u001b[0m \u001b[0mcell\u001b[0m \u001b[0;32min\u001b[0m \u001b[0mcell_list\u001b[0m\u001b[0;34m:\u001b[0m\u001b[0;34m\u001b[0m\u001b[0;34m\u001b[0m\u001b[0m\n\u001b[0;32m----> 4\u001b[0;31m     \u001b[0mcell\u001b[0m\u001b[0;34m.\u001b[0m\u001b[0mvalue\u001b[0m\u001b[0;34m=\u001b[0m\u001b[0mout_list\u001b[0m\u001b[0;34m[\u001b[0m\u001b[0mj\u001b[0m\u001b[0;34m]\u001b[0m\u001b[0;34m\u001b[0m\u001b[0;34m\u001b[0m\u001b[0m\n\u001b[0m\u001b[1;32m      5\u001b[0m     \u001b[0mj\u001b[0m\u001b[0;34m=\u001b[0m\u001b[0mj\u001b[0m\u001b[0;34m+\u001b[0m\u001b[0;36m1\u001b[0m\u001b[0;34m\u001b[0m\u001b[0;34m\u001b[0m\u001b[0m\n\u001b[1;32m      6\u001b[0m \u001b[0mworksheet\u001b[0m\u001b[0;34m.\u001b[0m\u001b[0mupdate_cells\u001b[0m\u001b[0;34m(\u001b[0m\u001b[0mcell_list\u001b[0m\u001b[0;34m)\u001b[0m\u001b[0;34m\u001b[0m\u001b[0;34m\u001b[0m\u001b[0m\n",
            "\u001b[0;31mIndexError\u001b[0m: list index out of range"
          ]
        }
      ]
    },
    {
      "cell_type": "markdown",
      "metadata": {
        "colab_type": "text",
        "id": "4r-HGcfAVPSf"
      },
      "source": [
        "### Model Interpretation"
      ]
    },
    {
      "cell_type": "code",
      "metadata": {
        "colab_type": "code",
        "id": "rZh7_QZuukGu",
        "colab": {}
      },
      "source": [
        "#Run first to create interpreter\n",
        "interp=TextClassificationInterpretation.from_learner(learn_c)\n"
      ],
      "execution_count": null,
      "outputs": []
    },
    {
      "cell_type": "code",
      "metadata": {
        "colab_type": "code",
        "id": "GfkKcOaWn7zB",
        "colab": {}
      },
      "source": [
        "#SET VERSE AND CHAPTER\n",
        "chapter=1\n",
        "verse=3\n"
      ],
      "execution_count": null,
      "outputs": []
    },
    {
      "cell_type": "code",
      "metadata": {
        "colab_type": "code",
        "id": "FcXdYaMRVtLL",
        "colab": {
          "base_uri": "https://localhost:8080/",
          "height": 34
        },
        "outputId": "65b2abee-7ca4-42fc-9c8f-06e487ccbe5c"
      },
      "source": [
        "df_check=df_check.astype({'Chapter':'int64'})\n",
        "check_text_ser=df_check.loc[(df_check['Verse_Number'] ==verse) & (df_check['Chapter']==chapter) ].Verse_Text\n",
        "check_text=check_text_ser.iloc[0]\n",
        "print(check_text)\n"
      ],
      "execution_count": null,
      "outputs": [
        {
          "output_type": "stream",
          "text": [
            "Blessed be the God and Father of our Lord Jesus Christ, who has blessed us with every spiritual blessing in the heavenly places in Christ,\n"
          ],
          "name": "stdout"
        }
      ]
    },
    {
      "cell_type": "code",
      "metadata": {
        "colab_type": "code",
        "id": "BITLZcM0qSa2",
        "colab": {}
      },
      "source": [
        "df_predict.dtypes\n",
        "df_predict=df_predict.astype({'Chapter':'int64'},{'Verse':'int64'})\n"
      ],
      "execution_count": null,
      "outputs": []
    },
    {
      "cell_type": "code",
      "metadata": {
        "colab_type": "code",
        "id": "JfHYiEnQlOSI",
        "colab": {
          "base_uri": "https://localhost:8080/",
          "height": 170
        },
        "outputId": "5eddaeb8-ebaa-4c50-87d3-2c5bd05797be"
      },
      "source": [
        "import matplotlib.cm as cm\n",
        "\n",
        "print(df_predict.loc[(df_predict['Verse']==verse) & (df_predict['Chapter']==chapter)])\n",
        "\n",
        "interp.show_intrinsic_attention(check_text,cmap=cm.Purples)\n",
        "interp.intrinsic_attention(check_text)\n"
      ],
      "execution_count": null,
      "outputs": [
        {
          "output_type": "stream",
          "text": [
            "        Book  Chapter Verse   Cat  Non-paul_likelihood  Paul_likelihood\n",
            "2  Ephesians        1     3  Paul             0.036072         0.963928\n"
          ],
          "name": "stdout"
        },
        {
          "output_type": "display_data",
          "data": {
            "text/html": [
              "<span style=\"font-family: monospace;\"><span title=\"0.113\" style=\"background-color: rgba(240, 238, 245, 0.5);\">xxbos</span> <span title=\"0.153\" style=\"background-color: rgba(234, 232, 242, 0.5);\">xxmaj</span> <span title=\"0.905\" style=\"background-color: rgba(78, 29, 138, 0.5);\">blessed</span> <span title=\"0.617\" style=\"background-color: rgba(129, 126, 186, 0.5);\">be</span> <span title=\"0.369\" style=\"background-color: rgba(189, 190, 220, 0.5);\">the</span> <span title=\"0.336\" style=\"background-color: rgba(197, 197, 224, 0.5);\">xxmaj</span> <span title=\"0.635\" style=\"background-color: rgba(126, 121, 184, 0.5);\">god</span> <span title=\"0.541\" style=\"background-color: rgba(148, 144, 195, 0.5);\">and</span> <span title=\"0.293\" style=\"background-color: rgba(207, 207, 229, 0.5);\">xxmaj</span> <span title=\"0.736\" style=\"background-color: rgba(108, 85, 165, 0.5);\">father</span> <span title=\"0.418\" style=\"background-color: rgba(177, 176, 212, 0.5);\">of</span> <span title=\"0.634\" style=\"background-color: rgba(126, 121, 184, 0.5);\">our</span> <span title=\"0.337\" style=\"background-color: rgba(197, 197, 224, 0.5);\">xxmaj</span> <span title=\"0.629\" style=\"background-color: rgba(126, 122, 184, 0.5);\">lord</span> <span title=\"0.363\" style=\"background-color: rgba(191, 192, 221, 0.5);\">xxmaj</span> <span title=\"0.776\" style=\"background-color: rgba(101, 72, 158, 0.5);\">jesus</span> <span title=\"0.376\" style=\"background-color: rgba(187, 188, 219, 0.5);\">xxmaj</span> <span title=\"0.653\" style=\"background-color: rgba(122, 114, 180, 0.5);\">christ</span> <span title=\"0.161\" style=\"background-color: rgba(232, 231, 242, 0.5);\">,</span> <span title=\"0.238\" style=\"background-color: rgba(220, 220, 236, 0.5);\">who</span> <span title=\"0.379\" style=\"background-color: rgba(186, 187, 219, 0.5);\">has</span> <span title=\"0.773\" style=\"background-color: rgba(102, 73, 159, 0.5);\">blessed</span> <span title=\"0.641\" style=\"background-color: rgba(124, 118, 182, 0.5);\">us</span> <span title=\"0.373\" style=\"background-color: rgba(188, 189, 220, 0.5);\">with</span> <span title=\"0.370\" style=\"background-color: rgba(189, 190, 220, 0.5);\">every</span> <span title=\"0.558\" style=\"background-color: rgba(144, 140, 193, 0.5);\">spiritual</span> <span title=\"0.707\" style=\"background-color: rgba(113, 96, 171, 0.5);\">blessing</span> <span title=\"0.340\" style=\"background-color: rgba(196, 196, 224, 0.5);\">in</span> <span title=\"0.256\" style=\"background-color: rgba(216, 216, 234, 0.5);\">the</span> <span title=\"0.525\" style=\"background-color: rgba(151, 148, 197, 0.5);\">heavenly</span> <span title=\"0.680\" style=\"background-color: rgba(117, 104, 175, 0.5);\">places</span> <span title=\"0.534\" style=\"background-color: rgba(150, 146, 196, 0.5);\">in</span> <span title=\"0.331\" style=\"background-color: rgba(198, 199, 225, 0.5);\">xxmaj</span> <span title=\"1.000\" style=\"background-color: rgba(63, 0, 125, 0.5);\">christ</span> <span title=\"0.815\" style=\"background-color: rgba(94, 58, 152, 0.5);\">,</span></span>"
            ],
            "text/plain": [
              "<IPython.core.display.HTML object>"
            ]
          },
          "metadata": {
            "tags": []
          }
        },
        {
          "output_type": "execute_result",
          "data": {
            "text/plain": [
              "(Text xxbos xxmaj blessed be the xxmaj god and xxmaj father of our xxmaj lord xxmaj jesus xxmaj christ , who has blessed us with every spiritual blessing in the heavenly places in xxmaj christ ,,\n",
              " tensor([0.1128, 0.1532, 0.9053, 0.6172, 0.3694, 0.3360, 0.6350, 0.5408, 0.2933,\n",
              "         0.7356, 0.4185, 0.6342, 0.3372, 0.6291, 0.3630, 0.7760, 0.3762, 0.6530,\n",
              "         0.1608, 0.2381, 0.3793, 0.7730, 0.6412, 0.3731, 0.3695, 0.5580, 0.7069,\n",
              "         0.3400, 0.2558, 0.5253, 0.6802, 0.5342, 0.3309, 1.0000, 0.8153],\n",
              "        device='cuda:0'))"
            ]
          },
          "metadata": {
            "tags": []
          },
          "execution_count": 341
        }
      ]
    },
    {
      "cell_type": "code",
      "metadata": {
        "colab_type": "code",
        "id": "qpgiQksen1ah",
        "colab": {}
      },
      "source": [
        ""
      ],
      "execution_count": null,
      "outputs": []
    }
  ]
}